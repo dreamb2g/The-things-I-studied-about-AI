{
 "cells": [
  {
   "cell_type": "markdown",
   "id": "quarterly-harvest",
   "metadata": {},
   "source": [
    "# Exploration Project | 01. 가위바위보 분류기"
   ]
  },
  {
   "cell_type": "markdown",
   "id": "minus-solution",
   "metadata": {},
   "source": [
    "\n",
    "## 데이터 불러오기 + Resize 하기"
   ]
  },
  {
   "cell_type": "markdown",
   "id": "interpreted-banks",
   "metadata": {},
   "source": [
    "라이브러리 임포트 (이미지 크기를 조정할 수 있도록 PIL 라이브러리를 가져온다.)\n",
    "순차적으로 필요한 다른 라이브러리는 해당 코드 블럭에서 임포트 하였음."
   ]
  },
  {
   "cell_type": "code",
   "execution_count": 526,
   "id": "productive-shoulder",
   "metadata": {},
   "outputs": [
    {
     "name": "stdout",
     "output_type": "stream",
     "text": [
      "PIL 라이브러리 import 완료!\n"
     ]
    }
   ],
   "source": [
    "from PIL import Image\n",
    "import os, glob\n",
    "\n",
    "print(\"PIL 라이브러리 import 완료!\")"
   ]
  },
  {
   "cell_type": "markdown",
   "id": "variable-brief",
   "metadata": {},
   "source": [
    "------------------------------------\n",
    "가위, 바위, 보 이미지를 28 * 28 사이즈로 변경해준다."
   ]
  },
  {
   "cell_type": "code",
   "execution_count": 840,
   "id": "alpha-gallery",
   "metadata": {},
   "outputs": [
    {
     "name": "stdout",
     "output_type": "stream",
     "text": [
      "200  images to be resized.\n",
      "200  images resized.\n",
      "가위 이미지 resize 완료!\n"
     ]
    }
   ],
   "source": [
    "def resize_images(img_path):\n",
    "\timages=glob.glob(img_path + \"/*.jpg\")  \n",
    "    \n",
    "\tprint(len(images), \" images to be resized.\")\n",
    "\n",
    "    # 이미지 파일을 28x28 사이즈로 바꾸기\n",
    "\ttarget_size=(28,28)\n",
    "\tfor img in images:\n",
    "\t\told_img=Image.open(img)\n",
    "\t\tnew_img=old_img.resize(target_size,Image.ANTIALIAS)\n",
    "\t\tnew_img.save(img, \"JPEG\")\n",
    "    \n",
    "\tprint(len(images), \" images resized.\")\n",
    "\t여서\n",
    "# 가위 이미지가 저장된 디렉토리 아래의 모든 jpg 파일을 읽어들이기\n",
    "image_dir_path = os.getenv(\"HOME\") + \"/aiffel/rock_scissor_paper/scissor\"\n",
    "resize_images(image_dir_path)\n",
    "\n",
    "print(\"가위 이미지 resize 완료!\")"
   ]
  },
  {
   "cell_type": "code",
   "execution_count": 841,
   "id": "automatic-subscriber",
   "metadata": {},
   "outputs": [
    {
     "name": "stdout",
     "output_type": "stream",
     "text": [
      "200  images to be resized.\n",
      "200  images resized.\n",
      "바위 이미지 resize 완료!\n"
     ]
    }
   ],
   "source": [
    "def resize_images(img_path):\n",
    "\timages=glob.glob(img_path + \"/*.jpg\")  \n",
    "    \n",
    "\tprint(len(images), \" images to be resized.\")\n",
    "\n",
    "    # 이미지 파일을 28x28 사이즈로 바꾸기\n",
    "\ttarget_size=(28,28)\n",
    "\tfor img in images:\n",
    "\t\told_img=Image.open(img)\n",
    "\t\tnew_img=old_img.resize(target_size,Image.ANTIALIAS)\n",
    "\t\tnew_img.save(img, \"JPEG\")\n",
    "    \n",
    "\tprint(len(images), \" images resized.\")\n",
    "\t\n",
    "# 바위 이미지가 저장된 디렉토리 아래의 모든 jpg 파일을 읽어들이기\n",
    "image_dir_path = os.getenv(\"HOME\") + \"/aiffel/rock_scissor_paper/rock\"\n",
    "resize_images(image_dir_path)\n",
    "\n",
    "print(\"바위 이미지 resize 완료!\")"
   ]
  },
  {
   "cell_type": "code",
   "execution_count": 842,
   "id": "catholic-communication",
   "metadata": {},
   "outputs": [
    {
     "name": "stdout",
     "output_type": "stream",
     "text": [
      "200  images to be resized.\n",
      "200  images resized.\n",
      "보 이미지 resize 완료!\n"
     ]
    }
   ],
   "source": [
    "def resize_images(img_path):\n",
    "\timages=glob.glob(img_path + \"/*.jpg\")  \n",
    "    \n",
    "\tprint(len(images), \" images to be resized.\")\n",
    "\n",
    "    # 이미지 파일을 28x28 사이즈로 바꾸기\n",
    "\ttarget_size=(28,28)\n",
    "\tfor img in images:\n",
    "\t\told_img=Image.open(img)\n",
    "\t\tnew_img=old_img.resize(target_size,Image.ANTIALIAS)\n",
    "\t\tnew_img.save(img, \"JPEG\")\n",
    "    \n",
    "\tprint(len(images), \" images resized.\")\n",
    "\t\n",
    "# 보 이미지가 저장된 디렉토리 아래의 모든 jpg 파일을 읽어들이기\n",
    "image_dir_path = os.getenv(\"HOME\") + \"/aiffel/rock_scissor_paper/paper\"\n",
    "resize_images(image_dir_path)\n",
    "\n",
    "print(\"보 이미지 resize 완료!\")"
   ]
  },
  {
   "cell_type": "markdown",
   "id": "defined-tattoo",
   "metadata": {},
   "source": [
    "-------------------------------------------------\n",
    "## 데이터 읽어들이기"
   ]
  },
  {
   "cell_type": "markdown",
   "id": "turkish-directory",
   "metadata": {},
   "source": [
    "numpy 라이브러리를 임포트한다. 데이터를 가져오는 함수를 작성한다. 입력 요소의 값을 0~1사이의 값으로 정규화한다."
   ]
  },
  {
   "cell_type": "code",
   "execution_count": 843,
   "id": "roman-salad",
   "metadata": {},
   "outputs": [
    {
     "name": "stdout",
     "output_type": "stream",
     "text": [
      "학습데이터(x_train)의 이미지 개수는 600 입니다.\n",
      "x_train shape: (600, 28, 28, 3)\n",
      "y_train shape: (600,)\n"
     ]
    }
   ],
   "source": [
    "import numpy as np\n",
    "\n",
    "def load_data(img_path, number_of_data=600): \n",
    "    # 가위 : 0, 바위 : 1, 보 : 2\n",
    "    img_size=28\n",
    "    color=3\n",
    "    #이미지 데이터와 라벨(가위 : 0, 바위 : 1, 보 : 2) 데이터를 담을 행렬(matrix) 생성\n",
    "    imgs=np.zeros(number_of_data*img_size*img_size*color,dtype=np.int32).reshape(number_of_data,img_size,img_size,color)\n",
    "    labels=np.zeros(number_of_data,dtype=np.int32)\n",
    "\n",
    "    idx=0\n",
    "    for file in glob.iglob(img_path+'/scissor/*.jpg'):\n",
    "        img = np.array(Image.open(file),dtype=np.int32)\n",
    "        imgs[idx,:,:,:]=img    # 데이터 영역에 이미지 행렬을 복사\n",
    "        labels[idx]=0   # 가위 : 0\n",
    "        idx=idx+1\n",
    "\n",
    "    for file in glob.iglob(img_path+'/rock/*.jpg'):\n",
    "        img = np.array(Image.open(file),dtype=np.int32)\n",
    "        imgs[idx,:,:,:]=img    # 데이터 영역에 이미지 행렬을 복사\n",
    "        labels[idx]=1   # 바위 : 1\n",
    "        idx=idx+1  \n",
    "    \n",
    "    for file in glob.iglob(img_path+'/paper/*.jpg'):\n",
    "        img = np.array(Image.open(file),dtype=np.int32)\n",
    "        imgs[idx,:,:,:]=img    # 데이터 영역에 이미지 행렬을 복사\n",
    "        labels[idx]=2   # 보 : 2\n",
    "        idx=idx+1\n",
    "        \n",
    "    print(\"학습데이터(x_train)의 이미지 개수는\", idx,\"입니다.\")\n",
    "    return imgs, labels\n",
    "\n",
    "image_dir_path = os.getenv(\"HOME\") + \"/aiffel/rock_scissor_paper\"\n",
    "(x_train, y_train)=load_data(image_dir_path)\n",
    "x_train_norm = x_train/255.0   # 입력은 0~1 사이의 값으로 정규화\n",
    "\n",
    "print(\"x_train shape: {}\".format(x_train.shape))\n",
    "print(\"y_train shape: {}\".format(y_train.shape))"
   ]
  },
  {
   "cell_type": "markdown",
   "id": "uniform-asian",
   "metadata": {},
   "source": [
    "## 읽어들인 Training 데이터 확인하기"
   ]
  },
  {
   "cell_type": "markdown",
   "id": "marked-stopping",
   "metadata": {},
   "source": [
    "읽어온 데이터가 내가 준비한 훈련용 데이터가 맞는지 확인한다. matplotlib 라이브러리를 임포트해서 이미지를 확인할 수 있다."
   ]
  },
  {
   "cell_type": "code",
   "execution_count": 844,
   "id": "imposed-database",
   "metadata": {},
   "outputs": [
    {
     "name": "stdout",
     "output_type": "stream",
     "text": [
      "라벨:  0\n"
     ]
    },
    {
     "data": {
      "image/png": "[encoded data removed]",
      "text/plain": [
       "<Figure size 432x288 with 1 Axes>"
      ]
     },
     "metadata": {
      "needs_background": "light"
     },
     "output_type": "display_data"
    }
   ],
   "source": [
    "import matplotlib.pyplot as plt\n",
    "plt.imshow(x_train[0])\n",
    "print('라벨: ', y_train[0])"
   ]
  },
  {
   "cell_type": "markdown",
   "id": "stone-johns",
   "metadata": {},
   "source": [
    "----------------------------------------\n",
    "## 딥러닝 네트워크 설계하기"
   ]
  },
  {
   "cell_type": "markdown",
   "id": "fatal-blind",
   "metadata": {},
   "source": [
    "케라스의 Sequential 모델을 사용하여 딥러닝 네크워크 모델을 만든다. sequential 모델을 사용하는 이유는 순차적으로 레이어 층을 더해주는 선형 방식이기 때문이다."
   ]
  },
  {
   "cell_type": "code",
   "execution_count": 863,
   "id": "published-missouri",
   "metadata": {},
   "outputs": [
    {
     "name": "stdout",
     "output_type": "stream",
     "text": [
      "Model에 추가된 Layer 개수:  9\n",
      "Model: \"sequential_175\"\n",
      "_________________________________________________________________\n",
      "Layer (type)                 Output Shape              Param #   \n",
      "=================================================================\n",
      "conv2d_397 (Conv2D)          (None, 26, 26, 128)       3584      \n",
      "_________________________________________________________________\n",
      "max_pooling2d_397 (MaxPoolin (None, 13, 13, 128)       0         \n",
      "_________________________________________________________________\n",
      "conv2d_398 (Conv2D)          (None, 11, 11, 256)       295168    \n",
      "_________________________________________________________________\n",
      "max_pooling2d_398 (MaxPoolin (None, 5, 5, 256)         0         \n",
      "_________________________________________________________________\n",
      "conv2d_399 (Conv2D)          (None, 3, 3, 256)         590080    \n",
      "_________________________________________________________________\n",
      "max_pooling2d_399 (MaxPoolin (None, 1, 1, 256)         0         \n",
      "_________________________________________________________________\n",
      "flatten_175 (Flatten)        (None, 256)               0         \n",
      "_________________________________________________________________\n",
      "dense_350 (Dense)            (None, 256)               65792     \n",
      "_________________________________________________________________\n",
      "dense_351 (Dense)            (None, 3)                 771       \n",
      "=================================================================\n",
      "Total params: 955,395\n",
      "Trainable params: 955,395\n",
      "Non-trainable params: 0\n",
      "_________________________________________________________________\n"
     ]
    }
   ],
   "source": [
    "import tensorflow as tf\n",
    "from tensorflow import keras\n",
    "\n",
    "# RGB 이미지이므로 흑백을 의미하는 1이 아니라 RGB를 나타내는 3으로 변경해야 한다.\n",
    "model=keras.models.Sequential()\n",
    "model.add(keras.layers.Conv2D(128, (3,3), activation='relu', input_shape=(28,28,3)))\n",
    "model.add(keras.layers.MaxPool2D(2,2))\n",
    "model.add(keras.layers.Conv2D(256, (3,3), activation='relu'))\n",
    "model.add(keras.layers.MaxPooling2D((2,2)))\n",
    "model.add(keras.layers.Conv2D(256, (3,3), activation='relu'))\n",
    "model.add(keras.layers.MaxPooling2D((2,2)))\n",
    "model.add(keras.layers.Flatten())\n",
    "model.add(keras.layers.Dense(256, activation='relu'))\n",
    "model.add(keras.layers.Dense(3, activation='softmax'))\n",
    "# 가위, 바위, 보 3개의 클래스이므로 MNIST 데이터셋의 0~9까지 10개 클래스였던 것을 3개로 변경해야 한다.\n",
    "print('Model에 추가된 Layer 개수: ', len(model.layers))\n",
    "\n",
    "model.summary()"
   ]
  },
  {
   "cell_type": "markdown",
   "id": "narrative-state",
   "metadata": {},
   "source": [
    "## 딥러닝 네트워크 학습시키기"
   ]
  },
  {
   "cell_type": "markdown",
   "id": "blond-touch",
   "metadata": {},
   "source": [
    "모델을 학습시키기 전에 compile메소드를 통해 학습방식을 설정해준다. optimizer는 정규화기, loss는 손실함수, metrics는 분류의 기준을 설정한다. fit함수를 사용하여 모델을 학습시킨다."
   ]
  },
  {
   "cell_type": "code",
   "execution_count": 864,
   "id": "sublime-karaoke",
   "metadata": {},
   "outputs": [
    {
     "name": "stdout",
     "output_type": "stream",
     "text": [
      "Epoch 1/10\n",
      "19/19 [==============================] - 10s 537ms/step - loss: 20.6480 - accuracy: 0.3544\n",
      "Epoch 2/10\n",
      "19/19 [==============================] - 0s 12ms/step - loss: 1.2279 - accuracy: 0.3671\n",
      "Epoch 3/10\n",
      "19/19 [==============================] - 0s 11ms/step - loss: 1.0116 - accuracy: 0.4974\n",
      "Epoch 4/10\n",
      "19/19 [==============================] - 0s 10ms/step - loss: 0.9150 - accuracy: 0.5947\n",
      "Epoch 5/10\n",
      "19/19 [==============================] - 0s 9ms/step - loss: 0.6865 - accuracy: 0.7593\n",
      "Epoch 6/10\n",
      "19/19 [==============================] - 0s 9ms/step - loss: 0.5682 - accuracy: 0.7481\n",
      "Epoch 7/10\n",
      "19/19 [==============================] - 0s 9ms/step - loss: 0.4666 - accuracy: 0.8206\n",
      "Epoch 8/10\n",
      "19/19 [==============================] - 0s 9ms/step - loss: 0.6531 - accuracy: 0.7382\n",
      "Epoch 9/10\n",
      "19/19 [==============================] - 0s 9ms/step - loss: 0.3977 - accuracy: 0.8450\n",
      "Epoch 10/10\n",
      "19/19 [==============================] - 0s 9ms/step - loss: 0.4116 - accuracy: 0.8253\n"
     ]
    },
    {
     "data": {
      "text/plain": [
       "<tensorflow.python.keras.callbacks.History at 0x7f7908509190>"
      ]
     },
     "execution_count": 864,
     "metadata": {},
     "output_type": "execute_result"
    }
   ],
   "source": [
    "model.compile(optimizer='adam',\n",
    "             loss='sparse_categorical_crossentropy',\n",
    "             metrics=['accuracy'])\n",
    "\n",
    "model.fit(x_train, y_train, epochs=10) #epochs 10까지 변경하면서 실행해 보고 결정 (반복학습횟수임)"
   ]
  },
  {
   "cell_type": "markdown",
   "id": "popular-minute",
   "metadata": {},
   "source": [
    "## 테스트"
   ]
  },
  {
   "cell_type": "markdown",
   "id": "happy-pursuit",
   "metadata": {},
   "source": [
    "테스트 데이터도 훈련 데이터와 마찬가지로 resizing을 해준다. 데이터를 가져오는 함수를 작성한다. 입력 요소의 값을 0~1사이의 값으로 정규화한다."
   ]
  },
  {
   "cell_type": "code",
   "execution_count": 848,
   "id": "respective-egyptian",
   "metadata": {},
   "outputs": [
    {
     "name": "stdout",
     "output_type": "stream",
     "text": [
      "100  images to be resized.\n",
      "100  images resized.\n",
      "가위 이미지 resize 완료!\n",
      "100  images to be resized.\n",
      "100  images resized.\n",
      "바위 이미지 resize 완료!\n",
      "100  images to be resized.\n",
      "100  images resized.\n",
      "보 이미지 resize 완료!\n",
      "테스트데이터(x_test)의 이미지 개수는 300 입니다.\n",
      "x_test shape: (300, 28, 28, 3)\n",
      "x_test_norm shape: (300, 28, 28, 3)\n",
      "y_test shape: (300,)\n"
     ]
    }
   ],
   "source": [
    "def resize_test_images(img_path):\n",
    "\timages=glob.glob(img_path + \"/*.jpg\")  \n",
    "    \n",
    "\tprint(len(images), \" images to be resized.\")\n",
    "\n",
    "    # 파일을 28x28 사이즈로 바꾸어 저장\n",
    "\ttarget_size=(28,28)\n",
    "\tfor img in images:\n",
    "\t\told_img=Image.open(img)\n",
    "\t\tnew_img=old_img.resize(target_size,Image.ANTIALIAS)\n",
    "\t\tnew_img.save(img, \"JPEG\")\n",
    "    \n",
    "\tprint(len(images), \" images resized.\")\n",
    "\t\n",
    "# 가위 이미지가 저장된 디렉토리 아래의 모든 jpg 파일을 읽어들임\n",
    "image_dir_path = os.getenv(\"HOME\") + \"/aiffel/rock_scissor_paper/test/scissor\"\n",
    "resize_images(image_dir_path)\n",
    "\n",
    "print(\"가위 이미지 resize 완료!\")\n",
    "\n",
    "# 바위 이미지가 저장된 디렉토리 아래의 모든 jpg 파일을 읽어들임\n",
    "image_dir_path = os.getenv(\"HOME\") + \"/aiffel/rock_scissor_paper/test/rock\"\n",
    "resize_images(image_dir_path)\n",
    "\n",
    "print(\"바위 이미지 resize 완료!\")\n",
    "\n",
    "# 보 이미지가 저장된 디렉토리 아래의 모든 jpg 파일을 읽어들임\n",
    "image_dir_path = os.getenv(\"HOME\") + \"/aiffel/rock_scissor_paper/test/paper\"\n",
    "resize_images(image_dir_path)\n",
    "\n",
    "print(\"보 이미지 resize 완료!\")\n",
    "\n",
    "def load_test_data(img_path, number_of_data=300):  \n",
    "    # 가위 : 0, 바위 : 1, 보 : 2\n",
    "    img_size=28\n",
    "    color=3\n",
    "    #이미지 데이터와 라벨(가위 : 0, 바위 : 1, 보 : 2) 데이터를 담을 행렬(matrix) 영역을 생성\n",
    "    imgs=np.zeros(number_of_data*img_size*img_size*color,dtype=np.int32).reshape(number_of_data,img_size,img_size,color)\n",
    "    labels=np.zeros(number_of_data,dtype=np.int32)\n",
    "\n",
    "    idx=0\n",
    "    for file in glob.iglob(img_path+'/scissor/*.jpg'):\n",
    "        img = np.array(Image.open(file),dtype=np.int32)\n",
    "        imgs[idx,:,:,:]=img    # 데이터 영역에 이미지 행렬을 복사\n",
    "        labels[idx]=0   # 가위 : 0\n",
    "        idx=idx+1\n",
    "\n",
    "    for file in glob.iglob(img_path+'/rock/*.jpg'):\n",
    "        img = np.array(Image.open(file),dtype=np.int32)\n",
    "        imgs[idx,:,:,:]=img    # 데이터 영역에 이미지 행렬을 복사\n",
    "        labels[idx]=1   # 바위 : 1\n",
    "        idx=idx+1  \n",
    "    \n",
    "    for file in glob.iglob(img_path+'/paper/*.jpg'):\n",
    "        img = np.array(Image.open(file),dtype=np.int32)\n",
    "        imgs[idx,:,:,:]=img    # 데이터 영역에 이미지 행렬을 복사\n",
    "        labels[idx]=2   # 보 : 2\n",
    "        idx=idx+1\n",
    "        \n",
    "    print(\"테스트데이터(x_test)의 이미지 개수는\", idx,\"입니다.\")\n",
    "    return imgs, labels\n",
    "\n",
    "image_dir_path = os.getenv(\"HOME\") + \"/aiffel/rock_scissor_paper/test\"\n",
    "(x_test, y_test)=load_test_data(image_dir_path)\n",
    "x_test_norm = x_test/255.0   # 입력은 0~1 사이의 값으로 정규화\n",
    "\n",
    "print(\"x_test shape: {}\".format(x_test.shape))\n",
    "print(\"x_test_norm shape: {}\".format(x_test.shape))\n",
    "print(\"y_test shape: {}\".format(y_test.shape))"
   ]
  },
  {
   "cell_type": "markdown",
   "id": "paperback-philosophy",
   "metadata": {},
   "source": [
    "## 읽어들인 Test 데이터 확인하기"
   ]
  },
  {
   "cell_type": "markdown",
   "id": "expired-nitrogen",
   "metadata": {},
   "source": [
    "읽어온 데이터가 내가 준비한 테스트용 데이터가 맞는지 확인한다. matplotlib 라이브러리를 임포트해서 이미지를 확인할 수 있다."
   ]
  },
  {
   "cell_type": "code",
   "execution_count": 849,
   "id": "brave-flush",
   "metadata": {},
   "outputs": [
    {
     "name": "stdout",
     "output_type": "stream",
     "text": [
      "라벨:  0\n"
     ]
    },
    {
     "data": {
      "image/png": "[encoded data removed]",
      "text/plain": [
       "<Figure size 432x288 with 1 Axes>"
      ]
     },
     "metadata": {
      "needs_background": "light"
     },
     "output_type": "display_data"
    }
   ],
   "source": [
    "import matplotlib.pyplot as plt\n",
    "plt.imshow(x_test[0])\n",
    "print('라벨: ', y_test[0])"
   ]
  },
  {
   "cell_type": "markdown",
   "id": "optional-crossing",
   "metadata": {},
   "source": [
    "##  test_accuracy 측정"
   ]
  },
  {
   "cell_type": "markdown",
   "id": "enormous-reference",
   "metadata": {},
   "source": [
    "테스트 세트에서 모델의 성능을 측정해 본다. 훈련 세트에서 보다 테스트 세트에서 accuracy가 낮은 이유는 overfitting 때문이다."
   ]
  },
  {
   "cell_type": "code",
   "execution_count": 865,
   "id": "posted-design",
   "metadata": {},
   "outputs": [
    {
     "name": "stdout",
     "output_type": "stream",
     "text": [
      "10/10 - 0s - loss: 1.0929 - accuracy: 0.6133\n",
      "test_loss: 1.092896580696106 \n",
      "test_accuracy: 0.6133333444595337\n"
     ]
    }
   ],
   "source": [
    "x_test_reshaped=x_test_norm.reshape( -1, 28, 28, 3)\n",
    "test_loss, test_accuracy = model.evaluate(x_test_reshaped, y_test, verbose=2)\n",
    "print(\"test_loss: {} \".format(test_loss))\n",
    "print(\"test_accuracy: {}\".format(test_accuracy))"
   ]
  },
  {
   "cell_type": "markdown",
   "id": "accepted-comparative",
   "metadata": {},
   "source": [
    "----------------------------------------------------\n",
    "\n",
    "# [회고]\n",
    "\n",
    "## 오버피팅을 극복하기 위한 적절한 시도\n",
    "\n",
    "#### 1. 정규화 시도\n",
    "- kernel_regularizer=keras.regularizers.l2(0.001)\n",
    "- L2 정규화 시도 시 accuracy=44% --> 46%\n",
    "\n",
    "#### 2. 피쳐의 수 줄이기\n",
    "- n_channel_1, n_channel_2, n_dense를 조정하여 피쳐의 수를 감소시켜 보았음\n",
    "- 1) 32, 64, 32 설정 시 parameter 70,723, accuracy=34%\n",
    "- 2) 16, 32, 32 설정 시 parameter 30,819, accuracy=54%\n",
    "\n",
    "#### 3. epochs 조정해 보기\n",
    "- epochs=5,  accuracy=39%\n",
    "- epochs=10, accuracy=37%\n",
    "- epochs=15, accuracy=38%\n",
    "- epochs=18, accuracy=45%\n",
    "- epochs=19, accuracy=51%\n",
    "- epochs=20, accuracy=48%\n",
    "- epochs=30, accuracy=43%\n",
    "- epochs=40, accuracy=47%\n",
    "- epochs=50, accuracy=34%\n",
    "\n",
    "##### 정규화, 피쳐 수 조정, 반복학습 횟수조정을 통틀어 가장 높은 test_accuracy값은 54%임.\n",
    "##### 따라서, 데이터셋을 조정해야 함.\n",
    "\n",
    "## 데이터셋 조정\n",
    "- 손의 날선모양 같은, 구분이 모호한 이미지 8개를 삭제하고 가위 앞면 4개와 뒷면 4개로 대체하여 테스트함, accuracy=44%\n",
    "\n",
    "- 훈련데이터 100개씩 추가하여 총 600개로 테스트함, accuracy=47% epochs=9\n",
    "- 위 세팅에 정규화 적용시 accuracy=50%까지 올라감\n",
    "\n",
    "- 특정 각도의 손모양 여러사람 데이터를 대량 추가하여 1866개의 데이터로 테스트함, accuracy=52%, epochs=15\n",
    "- 위 세팅에 정규화 시도 시 accuracy=56%까지 올라감\n",
    "\n",
    "- 공통적으로 n_channel_1, n_channel_2, n_dense는 16, 32, 32일 때 가장 accuracy가 높게 나옴.\n",
    "- feature 값(n_channel_1, n_channel_2, n_dense)이 커질수록 정규화 시 accuracy가 내려감.\n",
    "\n",
    "- 데이터의 양을 증가시킬 시 accuracy 5~6% 증가. But, accuracy가 60%를 넘지 못함.\n",
    "- 정규화 시 3~4% 정도 accuracy가 증가함. But, accuracy가 60%를 넘지 못함.\n",
    "\n",
    "- 결국, 데이터의 양보다 데이터의 구성이 중요하다는 가설을 도출할 수 있음.\n",
    "\n",
    "#### 최종 결과 도출 세팅 값\n",
    "- 데이터의 개수는 훈련 600개, 테스트 300개로 하였음.\n",
    "- 훈련데이터의 대표이미지(ex.손바닥, 손등) 비중을 증가시키는 방법으로 데이터구성을 달리하여 최종 테스트.\n",
    "- feature값 n_channel_1, n_channel_2, n_channel_3, n_dense는 128, 256, 256, 256으로 설정 (레이어 하나 더 추가함)\n",
    "- epochs=10\n",
    "- test_accuracy=61%\n",
    "- 최종 결과 test_accuracy 60% 이상 도달!\n",
    "\n"
   ]
  }
 ],
 "metadata": {
  "kernelspec": {
   "display_name": "Python 3",
   "language": "python",
   "name": "python3"
  },
  "language_info": {
   "codemirror_mode": {
    "name": "ipython",
    "version": 3
   },
   "file_extension": ".py",
   "mimetype": "text/x-python",
   "name": "python",
   "nbconvert_exporter": "python",
   "pygments_lexer": "ipython3",
   "version": "3.7.9"
  }
 },
 "nbformat": 4,
 "nbformat_minor": 5
}
