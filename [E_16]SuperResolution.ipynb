{
  "nbformat": 4,
  "nbformat_minor": 0,
  "metadata": {
    "colab": {
      "name": "[E-16]SuperResolution.ipynb",
      "provenance": [],
      "collapsed_sections": []
    },
    "kernelspec": {
      "name": "python3",
      "display_name": "Python 3"
    },
    "language_info": {
      "name": "python"
    }
  },
  "cells": [
    {
      "cell_type": "markdown",
      "metadata": {
        "id": "VOB2hllBWoM2"
      },
      "source": [
        "프로젝트 1 : 직접 고른 이미지로 SRGAN 실험하기"
      ]
    },
    {
      "cell_type": "markdown",
      "metadata": {
        "id": "vmol0wWbWp4d"
      },
      "source": [
        "프로젝트 1-1."
      ]
    },
    {
      "cell_type": "markdown",
      "metadata": {
        "id": "zs3hQB4XWqCL"
      },
      "source": [
        "프로젝트 1-2."
      ]
    },
    {
      "cell_type": "markdown",
      "metadata": {
        "id": "akQ4FWQjWqGe"
      },
      "source": [
        "프로젝트 2 : SRGAN을 이용해 고해상도 gif 생성하기"
      ]
    },
    {
      "cell_type": "markdown",
      "metadata": {
        "id": "F5n7u5VsWqJu"
      },
      "source": [
        "1. gif 파일 불러오기"
      ]
    },
    {
      "cell_type": "markdown",
      "metadata": {
        "id": "9TZZmY6TWxUb"
      },
      "source": [
        "2. 프레임별 Super Resolution 진행하기"
      ]
    },
    {
      "cell_type": "markdown",
      "metadata": {
        "id": "UoABQLl1Wx47"
      },
      "source": [
        "3. 프레임을 합쳐 gif 만들기"
      ]
    },
    {
      "cell_type": "markdown",
      "metadata": {
        "id": "HuPULWeoW2NQ"
      },
      "source": [
        "4. Jupyter notebook에 gif 표시하기"
      ]
    }
  ]
}