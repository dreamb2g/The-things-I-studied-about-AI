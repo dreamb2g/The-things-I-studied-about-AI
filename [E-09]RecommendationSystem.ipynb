{
 "cells": [
  {
   "cell_type": "markdown",
   "id": "fixed-concentration",
   "metadata": {},
   "source": [
    "# 1) 데이터 준비와 전처리"
   ]
  },
  {
   "cell_type": "code",
   "execution_count": 156,
   "id": "indie-princess",
   "metadata": {},
   "outputs": [
    {
     "data": {
      "text/html": [
       "<div>\n",
       "<style scoped>\n",
       "    .dataframe tbody tr th:only-of-type {\n",
       "        vertical-align: middle;\n",
       "    }\n",
       "\n",
       "    .dataframe tbody tr th {\n",
       "        vertical-align: top;\n",
       "    }\n",
       "\n",
       "    .dataframe thead th {\n",
       "        text-align: right;\n",
       "    }\n",
       "</style>\n",
       "<table border=\"1\" class=\"dataframe\">\n",
       "  <thead>\n",
       "    <tr style=\"text-align: right;\">\n",
       "      <th></th>\n",
       "      <th>user_id</th>\n",
       "      <th>movie_id</th>\n",
       "      <th>rating</th>\n",
       "      <th>timestamp</th>\n",
       "    </tr>\n",
       "  </thead>\n",
       "  <tbody>\n",
       "    <tr>\n",
       "      <th>0</th>\n",
       "      <td>1</td>\n",
       "      <td>1193</td>\n",
       "      <td>5</td>\n",
       "      <td>978300760</td>\n",
       "    </tr>\n",
       "    <tr>\n",
       "      <th>1</th>\n",
       "      <td>1</td>\n",
       "      <td>661</td>\n",
       "      <td>3</td>\n",
       "      <td>978302109</td>\n",
       "    </tr>\n",
       "    <tr>\n",
       "      <th>2</th>\n",
       "      <td>1</td>\n",
       "      <td>914</td>\n",
       "      <td>3</td>\n",
       "      <td>978301968</td>\n",
       "    </tr>\n",
       "    <tr>\n",
       "      <th>3</th>\n",
       "      <td>1</td>\n",
       "      <td>3408</td>\n",
       "      <td>4</td>\n",
       "      <td>978300275</td>\n",
       "    </tr>\n",
       "    <tr>\n",
       "      <th>4</th>\n",
       "      <td>1</td>\n",
       "      <td>2355</td>\n",
       "      <td>5</td>\n",
       "      <td>978824291</td>\n",
       "    </tr>\n",
       "  </tbody>\n",
       "</table>\n",
       "</div>"
      ],
      "text/plain": [
       "   user_id  movie_id  rating  timestamp\n",
       "0        1      1193       5  978300760\n",
       "1        1       661       3  978302109\n",
       "2        1       914       3  978301968\n",
       "3        1      3408       4  978300275\n",
       "4        1      2355       5  978824291"
      ]
     },
     "execution_count": 156,
     "metadata": {},
     "output_type": "execute_result"
    }
   ],
   "source": [
    "import pandas as pd\n",
    "import os\n",
    "\n",
    "rating_file_path=os.getenv('HOME') + '/aiffel/recommendata_iu/data/ml-1m/ratings.dat'\n",
    "ratings_cols = ['user_id', 'movie_id', 'rating', 'timestamp']\n",
    "ratings = pd.read_csv(rating_file_path, sep='::', names=ratings_cols, engine='python', encoding = \"ISO-8859-1\")\n",
    "orginal_data_size = len(ratings)\n",
    "ratings.head()"
   ]
  },
  {
   "cell_type": "code",
   "execution_count": 157,
   "id": "forward-reproduction",
   "metadata": {},
   "outputs": [
    {
     "name": "stdout",
     "output_type": "stream",
     "text": [
      "orginal_data_size: 1000209, filtered_data_size: 836478\n",
      "Ratio of Remaining Data is 83.63%\n"
     ]
    }
   ],
   "source": [
    "# 3점 이상만 남깁니다.\n",
    "ratings = ratings[ratings['rating']>=3]\n",
    "filtered_data_size = len(ratings)\n",
    "\n",
    "print(f'orginal_data_size: {orginal_data_size}, filtered_data_size: {filtered_data_size}')\n",
    "print(f'Ratio of Remaining Data is {filtered_data_size / orginal_data_size:.2%}')"
   ]
  },
  {
   "cell_type": "code",
   "execution_count": 158,
   "id": "representative-bermuda",
   "metadata": {},
   "outputs": [
    {
     "data": {
      "text/html": [
       "<div>\n",
       "<style scoped>\n",
       "    .dataframe tbody tr th:only-of-type {\n",
       "        vertical-align: middle;\n",
       "    }\n",
       "\n",
       "    .dataframe tbody tr th {\n",
       "        vertical-align: top;\n",
       "    }\n",
       "\n",
       "    .dataframe thead th {\n",
       "        text-align: right;\n",
       "    }\n",
       "</style>\n",
       "<table border=\"1\" class=\"dataframe\">\n",
       "  <thead>\n",
       "    <tr style=\"text-align: right;\">\n",
       "      <th></th>\n",
       "      <th>movie_id</th>\n",
       "      <th>title</th>\n",
       "      <th>genre</th>\n",
       "    </tr>\n",
       "  </thead>\n",
       "  <tbody>\n",
       "    <tr>\n",
       "      <th>0</th>\n",
       "      <td>1</td>\n",
       "      <td>Toy Story (1995)</td>\n",
       "      <td>Animation|Children's|Comedy</td>\n",
       "    </tr>\n",
       "    <tr>\n",
       "      <th>1</th>\n",
       "      <td>2</td>\n",
       "      <td>Jumanji (1995)</td>\n",
       "      <td>Adventure|Children's|Fantasy</td>\n",
       "    </tr>\n",
       "    <tr>\n",
       "      <th>2</th>\n",
       "      <td>3</td>\n",
       "      <td>Grumpier Old Men (1995)</td>\n",
       "      <td>Comedy|Romance</td>\n",
       "    </tr>\n",
       "    <tr>\n",
       "      <th>3</th>\n",
       "      <td>4</td>\n",
       "      <td>Waiting to Exhale (1995)</td>\n",
       "      <td>Comedy|Drama</td>\n",
       "    </tr>\n",
       "    <tr>\n",
       "      <th>4</th>\n",
       "      <td>5</td>\n",
       "      <td>Father of the Bride Part II (1995)</td>\n",
       "      <td>Comedy</td>\n",
       "    </tr>\n",
       "  </tbody>\n",
       "</table>\n",
       "</div>"
      ],
      "text/plain": [
       "   movie_id                               title                         genre\n",
       "0         1                    Toy Story (1995)   Animation|Children's|Comedy\n",
       "1         2                      Jumanji (1995)  Adventure|Children's|Fantasy\n",
       "2         3             Grumpier Old Men (1995)                Comedy|Romance\n",
       "3         4            Waiting to Exhale (1995)                  Comedy|Drama\n",
       "4         5  Father of the Bride Part II (1995)                        Comedy"
      ]
     },
     "execution_count": 158,
     "metadata": {},
     "output_type": "execute_result"
    }
   ],
   "source": [
    "# 영화 제목을 보기 위해 메타 데이터를 읽어옵니다.\n",
    "movie_file_path=os.getenv('HOME') + '/aiffel/recommendata_iu/data/ml-1m/movies.dat'\n",
    "cols = ['movie_id', 'title', 'genre'] \n",
    "movies = pd.read_csv(movie_file_path, sep='::', names=cols, engine='python', encoding='ISO-8859-1')\n",
    "movies.head()"
   ]
  },
  {
   "cell_type": "markdown",
   "id": "accompanied-thing",
   "metadata": {},
   "source": [
    "# 2) 데이터 분석"
   ]
  },
  {
   "cell_type": "code",
   "execution_count": 159,
   "id": "weighted-fraud",
   "metadata": {},
   "outputs": [
    {
     "data": {
      "text/plain": [
       "3628"
      ]
     },
     "execution_count": 159,
     "metadata": {},
     "output_type": "execute_result"
    }
   ],
   "source": [
    "# ratings에 있는 유니크한 영화 개수\n",
    "ratings['movie_id'].nunique()"
   ]
  },
  {
   "cell_type": "code",
   "execution_count": 160,
   "id": "blessed-customer",
   "metadata": {},
   "outputs": [
    {
     "data": {
      "text/plain": [
       "6039"
      ]
     },
     "execution_count": 160,
     "metadata": {},
     "output_type": "execute_result"
    }
   ],
   "source": [
    "# ratings에 있는 유니크한 사용자 수\n",
    "ratings['user_id'].nunique()"
   ]
  },
  {
   "cell_type": "code",
   "execution_count": 161,
   "id": "undefined-showcase",
   "metadata": {},
   "outputs": [
    {
     "data": {
      "text/html": [
       "<div>\n",
       "<style scoped>\n",
       "    .dataframe tbody tr th:only-of-type {\n",
       "        vertical-align: middle;\n",
       "    }\n",
       "\n",
       "    .dataframe tbody tr th {\n",
       "        vertical-align: top;\n",
       "    }\n",
       "\n",
       "    .dataframe thead th {\n",
       "        text-align: right;\n",
       "    }\n",
       "</style>\n",
       "<table border=\"1\" class=\"dataframe\">\n",
       "  <thead>\n",
       "    <tr style=\"text-align: right;\">\n",
       "      <th></th>\n",
       "      <th>movie_id</th>\n",
       "      <th>title</th>\n",
       "      <th>genre</th>\n",
       "      <th>user_id</th>\n",
       "      <th>rating</th>\n",
       "      <th>timestamp</th>\n",
       "    </tr>\n",
       "  </thead>\n",
       "  <tbody>\n",
       "    <tr>\n",
       "      <th>0</th>\n",
       "      <td>1</td>\n",
       "      <td>Toy Story (1995)</td>\n",
       "      <td>Animation|Children's|Comedy</td>\n",
       "      <td>1</td>\n",
       "      <td>5</td>\n",
       "      <td>978824268</td>\n",
       "    </tr>\n",
       "    <tr>\n",
       "      <th>1</th>\n",
       "      <td>1</td>\n",
       "      <td>Toy Story (1995)</td>\n",
       "      <td>Animation|Children's|Comedy</td>\n",
       "      <td>6</td>\n",
       "      <td>4</td>\n",
       "      <td>978237008</td>\n",
       "    </tr>\n",
       "    <tr>\n",
       "      <th>2</th>\n",
       "      <td>1</td>\n",
       "      <td>Toy Story (1995)</td>\n",
       "      <td>Animation|Children's|Comedy</td>\n",
       "      <td>8</td>\n",
       "      <td>4</td>\n",
       "      <td>978233496</td>\n",
       "    </tr>\n",
       "    <tr>\n",
       "      <th>3</th>\n",
       "      <td>1</td>\n",
       "      <td>Toy Story (1995)</td>\n",
       "      <td>Animation|Children's|Comedy</td>\n",
       "      <td>9</td>\n",
       "      <td>5</td>\n",
       "      <td>978225952</td>\n",
       "    </tr>\n",
       "    <tr>\n",
       "      <th>4</th>\n",
       "      <td>1</td>\n",
       "      <td>Toy Story (1995)</td>\n",
       "      <td>Animation|Children's|Comedy</td>\n",
       "      <td>10</td>\n",
       "      <td>5</td>\n",
       "      <td>978226474</td>\n",
       "    </tr>\n",
       "  </tbody>\n",
       "</table>\n",
       "</div>"
      ],
      "text/plain": [
       "   movie_id             title                        genre  user_id  rating  \\\n",
       "0         1  Toy Story (1995)  Animation|Children's|Comedy        1       5   \n",
       "1         1  Toy Story (1995)  Animation|Children's|Comedy        6       4   \n",
       "2         1  Toy Story (1995)  Animation|Children's|Comedy        8       4   \n",
       "3         1  Toy Story (1995)  Animation|Children's|Comedy        9       5   \n",
       "4         1  Toy Story (1995)  Animation|Children's|Comedy       10       5   \n",
       "\n",
       "   timestamp  \n",
       "0  978824268  \n",
       "1  978237008  \n",
       "2  978233496  \n",
       "3  978225952  \n",
       "4  978226474  "
      ]
     },
     "execution_count": 161,
     "metadata": {},
     "output_type": "execute_result"
    }
   ],
   "source": [
    "# 가장 인기 있는 영화 30개(인기순)\n",
    "\n",
    "# ratings, movies 데이터 합치기\n",
    "data = pd.merge(movies, ratings)\n",
    "data.head()"
   ]
  },
  {
   "cell_type": "code",
   "execution_count": 162,
   "id": "informative-fiber",
   "metadata": {},
   "outputs": [
    {
     "data": {
      "text/html": [
       "<div>\n",
       "<style scoped>\n",
       "    .dataframe tbody tr th:only-of-type {\n",
       "        vertical-align: middle;\n",
       "    }\n",
       "\n",
       "    .dataframe tbody tr th {\n",
       "        vertical-align: top;\n",
       "    }\n",
       "\n",
       "    .dataframe thead th {\n",
       "        text-align: right;\n",
       "    }\n",
       "</style>\n",
       "<table border=\"1\" class=\"dataframe\">\n",
       "  <thead>\n",
       "    <tr style=\"text-align: right;\">\n",
       "      <th></th>\n",
       "      <th>title</th>\n",
       "      <th>rating</th>\n",
       "      <th>user_id</th>\n",
       "    </tr>\n",
       "  </thead>\n",
       "  <tbody>\n",
       "    <tr>\n",
       "      <th>0</th>\n",
       "      <td>Toy Story (1995)</td>\n",
       "      <td>5</td>\n",
       "      <td>1</td>\n",
       "    </tr>\n",
       "    <tr>\n",
       "      <th>1</th>\n",
       "      <td>Toy Story (1995)</td>\n",
       "      <td>4</td>\n",
       "      <td>6</td>\n",
       "    </tr>\n",
       "    <tr>\n",
       "      <th>2</th>\n",
       "      <td>Toy Story (1995)</td>\n",
       "      <td>4</td>\n",
       "      <td>8</td>\n",
       "    </tr>\n",
       "    <tr>\n",
       "      <th>3</th>\n",
       "      <td>Toy Story (1995)</td>\n",
       "      <td>5</td>\n",
       "      <td>9</td>\n",
       "    </tr>\n",
       "    <tr>\n",
       "      <th>4</th>\n",
       "      <td>Toy Story (1995)</td>\n",
       "      <td>5</td>\n",
       "      <td>10</td>\n",
       "    </tr>\n",
       "  </tbody>\n",
       "</table>\n",
       "</div>"
      ],
      "text/plain": [
       "              title  rating  user_id\n",
       "0  Toy Story (1995)       5        1\n",
       "1  Toy Story (1995)       4        6\n",
       "2  Toy Story (1995)       4        8\n",
       "3  Toy Story (1995)       5        9\n",
       "4  Toy Story (1995)       5       10"
      ]
     },
     "execution_count": 162,
     "metadata": {},
     "output_type": "execute_result"
    }
   ],
   "source": [
    "# 사용할 컬럼만 남기기\n",
    "using_cols = ['title', 'rating', 'user_id']\n",
    "data = data[using_cols]\n",
    "data.head()"
   ]
  },
  {
   "cell_type": "code",
   "execution_count": 163,
   "id": "widespread-plenty",
   "metadata": {},
   "outputs": [
    {
     "data": {
      "text/html": [
       "<div>\n",
       "<style scoped>\n",
       "    .dataframe tbody tr th:only-of-type {\n",
       "        vertical-align: middle;\n",
       "    }\n",
       "\n",
       "    .dataframe tbody tr th {\n",
       "        vertical-align: top;\n",
       "    }\n",
       "\n",
       "    .dataframe thead th {\n",
       "        text-align: right;\n",
       "    }\n",
       "</style>\n",
       "<table border=\"1\" class=\"dataframe\">\n",
       "  <thead>\n",
       "    <tr style=\"text-align: right;\">\n",
       "      <th></th>\n",
       "      <th>title</th>\n",
       "      <th>rating</th>\n",
       "      <th>user_id</th>\n",
       "    </tr>\n",
       "  </thead>\n",
       "  <tbody>\n",
       "    <tr>\n",
       "      <th>0</th>\n",
       "      <td>toy story (1995)</td>\n",
       "      <td>5</td>\n",
       "      <td>1</td>\n",
       "    </tr>\n",
       "    <tr>\n",
       "      <th>1</th>\n",
       "      <td>toy story (1995)</td>\n",
       "      <td>4</td>\n",
       "      <td>6</td>\n",
       "    </tr>\n",
       "    <tr>\n",
       "      <th>2</th>\n",
       "      <td>toy story (1995)</td>\n",
       "      <td>4</td>\n",
       "      <td>8</td>\n",
       "    </tr>\n",
       "    <tr>\n",
       "      <th>3</th>\n",
       "      <td>toy story (1995)</td>\n",
       "      <td>5</td>\n",
       "      <td>9</td>\n",
       "    </tr>\n",
       "    <tr>\n",
       "      <th>4</th>\n",
       "      <td>toy story (1995)</td>\n",
       "      <td>5</td>\n",
       "      <td>10</td>\n",
       "    </tr>\n",
       "  </tbody>\n",
       "</table>\n",
       "</div>"
      ],
      "text/plain": [
       "              title  rating  user_id\n",
       "0  toy story (1995)       5        1\n",
       "1  toy story (1995)       4        6\n",
       "2  toy story (1995)       4        8\n",
       "3  toy story (1995)       5        9\n",
       "4  toy story (1995)       5       10"
      ]
     },
     "execution_count": 163,
     "metadata": {},
     "output_type": "execute_result"
    }
   ],
   "source": [
    "# 영화이름 대문자 일괄 소문자로 변환\n",
    "data['title'] = data['title'].str.lower() # 검색을 쉽게하기 위해 아티스트 문자열을 소문자로 바꿔줍시다.\n",
    "data.head()"
   ]
  },
  {
   "cell_type": "code",
   "execution_count": 164,
   "id": "sought-samuel",
   "metadata": {},
   "outputs": [
    {
     "data": {
      "text/plain": [
       "title\n",
       "american beauty (1999)                                   3211\n",
       "star wars: episode iv - a new hope (1977)                2910\n",
       "star wars: episode v - the empire strikes back (1980)    2885\n",
       "star wars: episode vi - return of the jedi (1983)        2716\n",
       "saving private ryan (1998)                               2561\n",
       "terminator 2: judgment day (1991)                        2509\n",
       "silence of the lambs, the (1991)                         2498\n",
       "raiders of the lost ark (1981)                           2473\n",
       "back to the future (1985)                                2460\n",
       "matrix, the (1999)                                       2434\n",
       "jurassic park (1993)                                     2413\n",
       "sixth sense, the (1999)                                  2385\n",
       "fargo (1996)                                             2371\n",
       "braveheart (1995)                                        2314\n",
       "men in black (1997)                                      2297\n",
       "schindler's list (1993)                                  2257\n",
       "princess bride, the (1987)                               2252\n",
       "shakespeare in love (1998)                               2213\n",
       "l.a. confidential (1997)                                 2210\n",
       "shawshank redemption, the (1994)                         2194\n",
       "godfather, the (1972)                                    2167\n",
       "groundhog day (1993)                                     2121\n",
       "e.t. the extra-terrestrial (1982)                        2102\n",
       "being john malkovich (1999)                              2066\n",
       "ghostbusters (1984)                                      2051\n",
       "pulp fiction (1994)                                      2030\n",
       "forrest gump (1994)                                      2022\n",
       "terminator, the (1984)                                   2019\n",
       "toy story (1995)                                         2000\n",
       "fugitive, the (1993)                                     1941\n",
       "Name: user_id, dtype: int64"
      ]
     },
     "execution_count": 164,
     "metadata": {},
     "output_type": "execute_result"
    }
   ],
   "source": [
    "# 가장 인기 있는 영화 30개(인기순)\n",
    "top_movie_count = data.groupby('title')['user_id'].count()\n",
    "top_movie_count.sort_values(ascending=False).head(30)"
   ]
  },
  {
   "cell_type": "markdown",
   "id": "surrounded-reporter",
   "metadata": {},
   "source": [
    "# 3) 내가 선호하는 영화 5가지 rating에 추가"
   ]
  },
  {
   "cell_type": "code",
   "execution_count": 165,
   "id": "twenty-hollow",
   "metadata": {},
   "outputs": [
    {
     "data": {
      "text/html": [
       "<div>\n",
       "<style scoped>\n",
       "    .dataframe tbody tr th:only-of-type {\n",
       "        vertical-align: middle;\n",
       "    }\n",
       "\n",
       "    .dataframe tbody tr th {\n",
       "        vertical-align: top;\n",
       "    }\n",
       "\n",
       "    .dataframe thead th {\n",
       "        text-align: right;\n",
       "    }\n",
       "</style>\n",
       "<table border=\"1\" class=\"dataframe\">\n",
       "  <thead>\n",
       "    <tr style=\"text-align: right;\">\n",
       "      <th></th>\n",
       "      <th>title</th>\n",
       "      <th>rating</th>\n",
       "      <th>user_id</th>\n",
       "    </tr>\n",
       "  </thead>\n",
       "  <tbody>\n",
       "    <tr>\n",
       "      <th>836473</th>\n",
       "      <td>contender, the (2000)</td>\n",
       "      <td>3</td>\n",
       "      <td>5682</td>\n",
       "    </tr>\n",
       "    <tr>\n",
       "      <th>836474</th>\n",
       "      <td>contender, the (2000)</td>\n",
       "      <td>4</td>\n",
       "      <td>5812</td>\n",
       "    </tr>\n",
       "    <tr>\n",
       "      <th>836475</th>\n",
       "      <td>contender, the (2000)</td>\n",
       "      <td>3</td>\n",
       "      <td>5831</td>\n",
       "    </tr>\n",
       "    <tr>\n",
       "      <th>836476</th>\n",
       "      <td>contender, the (2000)</td>\n",
       "      <td>4</td>\n",
       "      <td>5837</td>\n",
       "    </tr>\n",
       "    <tr>\n",
       "      <th>836477</th>\n",
       "      <td>contender, the (2000)</td>\n",
       "      <td>4</td>\n",
       "      <td>5998</td>\n",
       "    </tr>\n",
       "    <tr>\n",
       "      <th>0</th>\n",
       "      <td>jurassic park (1993)</td>\n",
       "      <td>5</td>\n",
       "      <td>dreamb</td>\n",
       "    </tr>\n",
       "    <tr>\n",
       "      <th>1</th>\n",
       "      <td>matrix, the (1999)</td>\n",
       "      <td>5</td>\n",
       "      <td>dreamb</td>\n",
       "    </tr>\n",
       "    <tr>\n",
       "      <th>2</th>\n",
       "      <td>back to the future (1985)</td>\n",
       "      <td>5</td>\n",
       "      <td>dreamb</td>\n",
       "    </tr>\n",
       "    <tr>\n",
       "      <th>3</th>\n",
       "      <td>shawshank redemption, the (1994)</td>\n",
       "      <td>5</td>\n",
       "      <td>dreamb</td>\n",
       "    </tr>\n",
       "    <tr>\n",
       "      <th>4</th>\n",
       "      <td>forrest gump (1994)</td>\n",
       "      <td>5</td>\n",
       "      <td>dreamb</td>\n",
       "    </tr>\n",
       "  </tbody>\n",
       "</table>\n",
       "</div>"
      ],
      "text/plain": [
       "                                   title  rating user_id\n",
       "836473             contender, the (2000)       3    5682\n",
       "836474             contender, the (2000)       4    5812\n",
       "836475             contender, the (2000)       3    5831\n",
       "836476             contender, the (2000)       4    5837\n",
       "836477             contender, the (2000)       4    5998\n",
       "0                   jurassic park (1993)       5  dreamb\n",
       "1                     matrix, the (1999)       5  dreamb\n",
       "2              back to the future (1985)       5  dreamb\n",
       "3       shawshank redemption, the (1994)       5  dreamb\n",
       "4                    forrest gump (1994)       5  dreamb"
      ]
     },
     "execution_count": 165,
     "metadata": {},
     "output_type": "execute_result"
    }
   ],
   "source": [
    "my_favorite = ['jurassic park (1993)', 'matrix, the (1999)', 'back to the future (1985)', 'shawshank redemption, the (1994)', 'forrest gump (1994)']\n",
    "\n",
    "# 'dreamb'이라는 user_id가 위 영화를 5점씩 줬다고 가정\n",
    "my_playlist = pd.DataFrame({'user_id': ['dreamb']*5, 'title': my_favorite, 'rating':[5]*5})\n",
    "\n",
    "if not data.isin({'user_id':['dreamb']})['user_id'].any():  # user_id에 'dreamb'이라는 데이터가 없다면\n",
    "    data = data.append(my_playlist)                           # 위에 임의로 만든 my_favorite 데이터를 추가해 줍니다. \n",
    "\n",
    "data.tail(10)       # 잘 추가되었는지 확인해 봅시다."
   ]
  },
  {
   "cell_type": "code",
   "execution_count": 166,
   "id": "heard-breed",
   "metadata": {},
   "outputs": [],
   "source": [
    "# rating 컬럼의 이름을 count로 바꿉니다.\n",
    "#data.rename(columns={'rating':'count'}, inplace=True)"
   ]
  },
  {
   "cell_type": "code",
   "execution_count": 167,
   "id": "infectious-helena",
   "metadata": {},
   "outputs": [],
   "source": [
    "#data['count']"
   ]
  },
  {
   "cell_type": "markdown",
   "id": "latin-combine",
   "metadata": {},
   "source": [
    "# 4) CSR Matrix"
   ]
  },
  {
   "cell_type": "code",
   "execution_count": 168,
   "id": "brave-london",
   "metadata": {},
   "outputs": [],
   "source": [
    "# 모델에 활용하기 위한 전처리\n",
    "\n",
    "# 고유한 유저, 영화를 찾아내는 코드\n",
    "user_unique = data['user_id'].unique()\n",
    "title_unique = data['title'].unique()\n",
    "\n",
    "# 유저, 영화 indexing 하는 코드\n",
    "user_to_idx = {v:k for k,v in enumerate(user_unique)}\n",
    "title_to_idx = {v:k for k,v in enumerate(title_unique)}"
   ]
  },
  {
   "cell_type": "code",
   "execution_count": 169,
   "id": "medium-notion",
   "metadata": {},
   "outputs": [
    {
     "name": "stdout",
     "output_type": "stream",
     "text": [
      "6039\n",
      "342\n"
     ]
    }
   ],
   "source": [
    "# 인덱싱이 잘 되었는지 확인\n",
    "print(user_to_idx['dreamb'])  \n",
    "print(title_to_idx['forrest gump (1994)'])"
   ]
  },
  {
   "cell_type": "code",
   "execution_count": 170,
   "id": "boxed-gazette",
   "metadata": {},
   "outputs": [
    {
     "name": "stdout",
     "output_type": "stream",
     "text": [
      "user_id column indexing OK!!\n",
      "title column indexing OK!!\n"
     ]
    },
    {
     "data": {
      "text/html": [
       "<div>\n",
       "<style scoped>\n",
       "    .dataframe tbody tr th:only-of-type {\n",
       "        vertical-align: middle;\n",
       "    }\n",
       "\n",
       "    .dataframe tbody tr th {\n",
       "        vertical-align: top;\n",
       "    }\n",
       "\n",
       "    .dataframe thead th {\n",
       "        text-align: right;\n",
       "    }\n",
       "</style>\n",
       "<table border=\"1\" class=\"dataframe\">\n",
       "  <thead>\n",
       "    <tr style=\"text-align: right;\">\n",
       "      <th></th>\n",
       "      <th>title</th>\n",
       "      <th>rating</th>\n",
       "      <th>user_id</th>\n",
       "    </tr>\n",
       "  </thead>\n",
       "  <tbody>\n",
       "    <tr>\n",
       "      <th>0</th>\n",
       "      <td>0</td>\n",
       "      <td>5</td>\n",
       "      <td>0</td>\n",
       "    </tr>\n",
       "    <tr>\n",
       "      <th>1</th>\n",
       "      <td>0</td>\n",
       "      <td>4</td>\n",
       "      <td>1</td>\n",
       "    </tr>\n",
       "    <tr>\n",
       "      <th>2</th>\n",
       "      <td>0</td>\n",
       "      <td>4</td>\n",
       "      <td>2</td>\n",
       "    </tr>\n",
       "    <tr>\n",
       "      <th>3</th>\n",
       "      <td>0</td>\n",
       "      <td>5</td>\n",
       "      <td>3</td>\n",
       "    </tr>\n",
       "    <tr>\n",
       "      <th>4</th>\n",
       "      <td>0</td>\n",
       "      <td>5</td>\n",
       "      <td>4</td>\n",
       "    </tr>\n",
       "    <tr>\n",
       "      <th>...</th>\n",
       "      <td>...</td>\n",
       "      <td>...</td>\n",
       "      <td>...</td>\n",
       "    </tr>\n",
       "    <tr>\n",
       "      <th>0</th>\n",
       "      <td>462</td>\n",
       "      <td>5</td>\n",
       "      <td>6039</td>\n",
       "    </tr>\n",
       "    <tr>\n",
       "      <th>1</th>\n",
       "      <td>2325</td>\n",
       "      <td>5</td>\n",
       "      <td>6039</td>\n",
       "    </tr>\n",
       "    <tr>\n",
       "      <th>2</th>\n",
       "      <td>1152</td>\n",
       "      <td>5</td>\n",
       "      <td>6039</td>\n",
       "    </tr>\n",
       "    <tr>\n",
       "      <th>3</th>\n",
       "      <td>305</td>\n",
       "      <td>5</td>\n",
       "      <td>6039</td>\n",
       "    </tr>\n",
       "    <tr>\n",
       "      <th>4</th>\n",
       "      <td>342</td>\n",
       "      <td>5</td>\n",
       "      <td>6039</td>\n",
       "    </tr>\n",
       "  </tbody>\n",
       "</table>\n",
       "<p>836483 rows × 3 columns</p>\n",
       "</div>"
      ],
      "text/plain": [
       "    title  rating  user_id\n",
       "0       0       5        0\n",
       "1       0       4        1\n",
       "2       0       4        2\n",
       "3       0       5        3\n",
       "4       0       5        4\n",
       "..    ...     ...      ...\n",
       "0     462       5     6039\n",
       "1    2325       5     6039\n",
       "2    1152       5     6039\n",
       "3     305       5     6039\n",
       "4     342       5     6039\n",
       "\n",
       "[836483 rows x 3 columns]"
      ]
     },
     "execution_count": 170,
     "metadata": {},
     "output_type": "execute_result"
    }
   ],
   "source": [
    "# indexing을 통해 데이터 컬럼 내 값을 바꾸는 코드\n",
    "\n",
    "# user_to_idx.get을 통해 user_id 컬럼의 모든 값을 인덱싱한 Series를 구해 봅시다. \n",
    "# 혹시 정상적으로 인덱싱되지 않은 row가 있다면 인덱스가 NaN이 될 테니 dropna()로 제거합니다. \n",
    "temp_user_data = data['user_id'].map(user_to_idx.get).dropna()\n",
    "if len(temp_user_data) == len(data):   # 모든 row가 정상적으로 인덱싱되었다면\n",
    "    print('user_id column indexing OK!!')\n",
    "    data['user_id'] = temp_user_data   # data['user_id']을 인덱싱된 Series로 교체해 줍니다. \n",
    "else:\n",
    "    print('user_id column indexing Fail!!')\n",
    "\n",
    "# title_to_idx을 통해 title 컬럼도 동일한 방식으로 인덱싱해 줍니다. \n",
    "temp_movie_data = data['title'].map(title_to_idx.get).dropna()\n",
    "if len(temp_movie_data) == len(data):\n",
    "    print('title column indexing OK!!')\n",
    "    data['title'] = temp_movie_data\n",
    "else:\n",
    "    print('title column indexing Fail!!')\n",
    "\n",
    "data"
   ]
  },
  {
   "cell_type": "code",
   "execution_count": 171,
   "id": "advanced-glucose",
   "metadata": {},
   "outputs": [
    {
     "data": {
      "text/plain": [
       "<6040x3628 sparse matrix of type '<class 'numpy.longlong'>'\n",
       "\twith 836483 stored elements in Compressed Sparse Row format>"
      ]
     },
     "execution_count": 171,
     "metadata": {},
     "output_type": "execute_result"
    }
   ],
   "source": [
    "# CSR Matrix 만들기\n",
    "from scipy.sparse import csr_matrix\n",
    "\n",
    "num_user = data['user_id'].nunique()\n",
    "num_title = data['title'].nunique()\n",
    "\n",
    "csr_data = csr_matrix((data.rating, (data.user_id, data.title)), shape= (num_user, num_title))\n",
    "csr_data"
   ]
  },
  {
   "cell_type": "markdown",
   "id": "entire-footage",
   "metadata": {},
   "source": [
    "# 5) als_model = AlternatingLeastSquares 모델 구성 및 훈련"
   ]
  },
  {
   "cell_type": "code",
   "execution_count": 172,
   "id": "divided-aircraft",
   "metadata": {},
   "outputs": [],
   "source": [
    "from implicit.als import AlternatingLeastSquares\n",
    "import numpy as np\n",
    "\n",
    "# implicit 라이브러리에서 권장하고 있는 부분입니다. 학습 내용과는 무관합니다.\n",
    "os.environ['OPENBLAS_NUM_THREADS']='1'\n",
    "os.environ['KMP_DUPLICATE_LIB_OK']='True'\n",
    "os.environ['MKL_NUM_THREADS']='1'"
   ]
  },
  {
   "cell_type": "markdown",
   "id": "owned-stevens",
   "metadata": {},
   "source": [
    "1. factors : 유저와 아이템의 벡터를 몇 차원으로 할 것인지 / 2. regularization : 과적합을 방지하기 위해 정규화 값을 얼마나 사용할 것인지 / 3. use_gpu : GPU를 사용할 것인지 / 4. iterations : epochs"
   ]
  },
  {
   "cell_type": "code",
   "execution_count": 173,
   "id": "answering-precipitation",
   "metadata": {},
   "outputs": [],
   "source": [
    "# Implicit AlternatingLeastSquares 모델의 선언\n",
    "als_model = AlternatingLeastSquares(factors=250, regularization=0.01, use_gpu=False, iterations=30, dtype=np.float32)"
   ]
  },
  {
   "cell_type": "code",
   "execution_count": 174,
   "id": "checked-computer",
   "metadata": {},
   "outputs": [
    {
     "data": {
      "text/plain": [
       "<3628x6040 sparse matrix of type '<class 'numpy.longlong'>'\n",
       "\twith 836483 stored elements in Compressed Sparse Column format>"
      ]
     },
     "execution_count": 174,
     "metadata": {},
     "output_type": "execute_result"
    }
   ],
   "source": [
    "# als 모델은 input으로 (item X user 꼴의 matrix를 받기 때문에 Transpose해줍니다.)\n",
    "csr_data_transpose = csr_data.T\n",
    "csr_data_transpose"
   ]
  },
  {
   "cell_type": "code",
   "execution_count": 175,
   "id": "moving-denial",
   "metadata": {},
   "outputs": [
    {
     "data": {
      "application/vnd.jupyter.widget-view+json": {
       "model_id": "c69289f5ceee49309d62de7c459546eb",
       "version_major": 2,
       "version_minor": 0
      },
      "text/plain": [
       "  0%|          | 0/30 [00:00<?, ?it/s]"
      ]
     },
     "metadata": {},
     "output_type": "display_data"
    }
   ],
   "source": [
    "# 모델 훈련\n",
    "als_model.fit(csr_data_transpose)"
   ]
  },
  {
   "cell_type": "code",
   "execution_count": 58,
   "id": "lesser-necklace",
   "metadata": {},
   "outputs": [],
   "source": [
    "dreamb, matrix_the = user_to_idx['dreamb'], title_to_idx['matrix, the (1999)']\n",
    "dreamb_vector, matrix_the_vector = als_model.user_factors[dreamb], als_model.item_factors[matrix_the]"
   ]
  },
  {
   "cell_type": "code",
   "execution_count": 59,
   "id": "surprising-release",
   "metadata": {},
   "outputs": [
    {
     "data": {
      "text/plain": [
       "array([-1.64918229e-01,  5.73568285e-01, -2.82109946e-01, -4.23898965e-01,\n",
       "        9.37512368e-02, -1.85296878e-01,  5.76056898e-01, -5.49234301e-02,\n",
       "        3.31508905e-01, -2.72613049e-01, -1.64384082e-01, -2.30439946e-01,\n",
       "        3.72562408e-01,  1.06371410e-01,  2.69349843e-01, -3.95936012e-01,\n",
       "        2.99788535e-01, -5.80991089e-01,  2.46397302e-01, -2.17045080e-02,\n",
       "        4.74138498e-01,  1.33611605e-01, -6.42029047e-02, -7.60823488e-02,\n",
       "       -2.81636059e-01,  5.09896874e-01,  1.79564342e-01,  5.93790822e-02,\n",
       "       -1.84923425e-01, -8.12927540e-03,  2.53449497e-03,  1.61126554e-01,\n",
       "        8.35144639e-01,  1.22708464e-02, -2.38546833e-01,  5.93397468e-02,\n",
       "        5.45891702e-01,  1.01919763e-01,  6.22202337e-01,  2.54703611e-01,\n",
       "       -2.91147586e-02,  7.31506516e-05, -7.39881516e-01,  4.33835894e-01,\n",
       "       -3.52286935e-01, -3.13708186e-01, -2.13472918e-01, -6.79989904e-02,\n",
       "        2.29355529e-01,  1.08870111e-01,  5.15857376e-02, -2.25754753e-01,\n",
       "        2.58464944e-02,  2.26681888e-01, -2.44298860e-01, -3.01572643e-02,\n",
       "       -2.70746499e-01,  1.01171739e-01,  2.54064351e-01,  2.45185778e-01,\n",
       "        1.70219019e-01,  6.85711682e-01, -2.30999351e-01, -3.36063594e-01,\n",
       "        6.51807964e-01, -7.26819098e-01, -1.44750550e-01,  7.72356093e-02,\n",
       "       -3.31833631e-01, -3.43933761e-01, -3.83088112e-01,  1.84146482e-02,\n",
       "        3.83649677e-01,  1.30139098e-01, -2.70826966e-01,  6.96652651e-01,\n",
       "        4.59241331e-01,  2.26507396e-01, -5.40793613e-02,  6.27518356e-01,\n",
       "        7.38709211e-01, -3.34624320e-01, -3.72794151e-01, -5.72025776e-01,\n",
       "        1.48453936e-01, -4.47936058e-01, -1.46810524e-03,  4.84882414e-01,\n",
       "       -6.71359822e-02, -3.10233921e-01,  2.08944261e-01,  1.24613456e-01,\n",
       "       -4.64527816e-01, -3.03808331e-01, -6.14983439e-01, -2.36390412e-01,\n",
       "       -2.71748543e-01,  1.98497891e-01, -1.86021715e-01, -5.11086226e-01,\n",
       "        4.49391454e-01,  5.07912099e-01, -1.15667224e-01, -4.81803298e-01,\n",
       "       -9.22538489e-02,  2.64882416e-01,  3.03373456e-01,  4.85529929e-01,\n",
       "        2.36375660e-01,  2.54556537e-01,  4.05507952e-01,  2.69468892e-02,\n",
       "       -2.07407638e-01,  1.08138576e-01,  2.60662585e-01, -4.46073055e-01,\n",
       "        1.65920585e-01,  8.35748434e-01, -5.53759336e-01, -2.19416291e-01,\n",
       "       -5.17741144e-01, -1.19816773e-01,  1.23028457e-01,  3.07575822e-01,\n",
       "        2.79613286e-01, -6.70432746e-01, -6.97448432e-01, -1.36922291e-02,\n",
       "       -7.31678665e-01,  1.94891363e-01, -2.21855864e-02, -5.34349941e-02,\n",
       "       -4.29814458e-01, -3.25224757e-01,  8.22054520e-02, -7.44518518e-01,\n",
       "        3.26900631e-02, -2.30492026e-01, -4.55807269e-01,  2.11499333e-01,\n",
       "        5.11834919e-01, -3.05620074e-01, -1.04649901e-01, -4.60500300e-01,\n",
       "       -2.48046964e-01,  6.53280675e-01,  1.46626189e-01, -1.25861272e-01,\n",
       "        3.37262958e-01, -1.38709024e-01, -1.87736705e-01,  2.35418200e-01,\n",
       "       -1.98721543e-01,  5.39700780e-03,  1.89373612e-01, -2.29483377e-02,\n",
       "       -3.13280642e-01, -1.77525342e-01, -6.88948691e-01,  8.19102749e-02,\n",
       "        5.15063286e-01, -3.88409108e-01,  3.29100281e-01, -2.18659014e-01,\n",
       "        2.02602878e-01, -2.14482278e-01,  3.51321876e-01, -9.57930833e-02,\n",
       "       -2.32467473e-01,  4.93810833e-01, -2.20331907e-01, -2.67398864e-01,\n",
       "       -3.21031362e-01,  4.39393595e-02,  4.58838642e-01,  5.63046448e-02,\n",
       "        2.80329823e-01, -3.59801292e-01, -9.97267198e-03,  6.64403319e-01,\n",
       "       -2.74195403e-01, -1.73286885e-01, -4.16787043e-02,  4.56124991e-01,\n",
       "       -2.55382925e-01,  1.11511067e-01,  1.73768118e-01,  1.34377390e-01,\n",
       "       -4.48727220e-01, -2.89761811e-01,  2.70322233e-01,  7.27275074e-01,\n",
       "        5.36789715e-01, -3.04420739e-01,  1.46094009e-01, -3.19326639e-01,\n",
       "        3.46705765e-01,  1.22732870e-01, -2.46887088e-01, -1.21197574e-01,\n",
       "       -4.98324066e-01, -2.70984113e-01,  1.59961246e-02, -1.11046873e-01,\n",
       "       -4.96322572e-01,  4.59234476e-01, -4.35041338e-01,  4.81427342e-01,\n",
       "        3.59081030e-01, -1.28272057e-01, -3.19601089e-01,  9.53959078e-02,\n",
       "        3.37136984e-01,  9.75265056e-02,  2.89255828e-01, -1.03597969e-01,\n",
       "       -2.02151179e-01, -1.76850278e-02,  1.20729819e-01,  1.70575976e-01,\n",
       "       -3.79399091e-01,  8.97549018e-02, -5.75024039e-02, -4.04094219e-01,\n",
       "       -4.41179931e-01, -2.68334329e-01, -2.76543409e-01,  7.75878727e-01,\n",
       "        6.31314039e-01, -5.34365416e-01, -8.96366760e-02,  6.97141111e-01,\n",
       "        9.46146920e-02,  1.28267869e-01,  6.57779351e-02,  4.95816350e-01,\n",
       "        2.50031173e-01,  3.43804300e-01,  4.66513596e-02,  3.41510981e-01,\n",
       "       -3.30328733e-01,  2.13341564e-01, -7.82904625e-02, -2.62995422e-01,\n",
       "       -2.86124766e-01, -3.05300448e-02, -5.84589362e-01,  6.00249832e-03,\n",
       "       -2.78539747e-01,  6.66920422e-03], dtype=float32)"
      ]
     },
     "execution_count": 59,
     "metadata": {},
     "output_type": "execute_result"
    }
   ],
   "source": [
    "dreamb_vector"
   ]
  },
  {
   "cell_type": "code",
   "execution_count": 60,
   "id": "impressive-observer",
   "metadata": {},
   "outputs": [
    {
     "data": {
      "text/plain": [
       "array([ 2.65543144e-02,  4.91694547e-03,  1.07764583e-02, -5.16869454e-03,\n",
       "        1.94175038e-02, -1.94793157e-02,  2.05036905e-02, -4.83246706e-03,\n",
       "        2.75143981e-02, -4.05156193e-03,  1.46290679e-02, -1.09284911e-02,\n",
       "        2.68365815e-02,  2.82523804e-03, -3.74334236e-03, -2.98567046e-03,\n",
       "        1.49057596e-03, -1.49319237e-02,  1.67851131e-02,  1.92031860e-02,\n",
       "        2.21098326e-02,  3.27741727e-02,  3.55037511e-03,  3.52190733e-02,\n",
       "        1.48184942e-02,  1.89499948e-02,  2.85137501e-02,  4.43932638e-02,\n",
       "       -1.36518832e-02,  1.08147142e-02,  1.50119411e-02,  1.25162639e-02,\n",
       "        3.61734629e-02,  5.98386070e-03, -2.30830349e-02, -9.46708675e-03,\n",
       "        6.02251245e-03, -3.71994032e-03, -6.91301515e-03,  2.51683071e-02,\n",
       "        1.06905634e-02,  3.53011303e-02, -9.57863778e-03,  2.25681048e-02,\n",
       "       -1.92662046e-04, -2.89627574e-02, -2.23441385e-02, -1.68764386e-02,\n",
       "        9.09156399e-04,  2.32332200e-02,  1.42558869e-02, -1.21305902e-02,\n",
       "        1.63106881e-02,  1.84535999e-02, -3.39197903e-03,  4.76426259e-03,\n",
       "       -1.23606203e-02,  4.46163490e-02,  1.80067383e-02, -1.05998162e-02,\n",
       "       -1.35419397e-02,  2.69329268e-02,  1.56956688e-02,  1.32033904e-03,\n",
       "        5.19819139e-03, -1.79549921e-02,  7.72914244e-03, -2.28345189e-02,\n",
       "       -6.66526658e-03, -1.17937028e-02,  3.72168305e-03, -9.08934604e-03,\n",
       "       -8.07677209e-03,  1.21071413e-02,  1.97589491e-02,  3.22576724e-02,\n",
       "        1.90705303e-02,  9.46014281e-03, -1.04240607e-02,  2.15973407e-02,\n",
       "        3.89340073e-02,  1.95209067e-02, -1.00717423e-02,  7.69515336e-03,\n",
       "       -1.69379022e-02, -1.01995738e-02, -6.55093743e-03,  1.00538526e-02,\n",
       "       -1.22737288e-02, -3.71960155e-03,  2.34945416e-02,  1.55559438e-03,\n",
       "       -3.20237987e-02,  1.42590664e-02, -2.67281663e-02, -5.67099778e-03,\n",
       "       -8.92260764e-03,  1.09226992e-02, -2.09422247e-03, -2.14527082e-02,\n",
       "        5.07842656e-03,  2.85266265e-02, -1.01317810e-02,  2.27668770e-02,\n",
       "       -2.11400874e-02,  2.41939630e-02, -2.46590655e-02,  2.25702506e-02,\n",
       "        2.00969540e-02,  1.34554096e-02,  1.88475568e-02,  1.61112081e-02,\n",
       "        3.76761262e-03, -2.49843998e-03, -8.14401545e-03, -5.84700098e-03,\n",
       "       -1.68635081e-02,  2.70872377e-02, -2.52115093e-02, -1.12420525e-02,\n",
       "       -1.87888648e-02, -8.60670581e-03,  1.55938510e-02,  3.47976051e-02,\n",
       "        2.36979909e-02,  3.03445291e-03, -3.23958844e-02,  1.72817688e-02,\n",
       "       -2.27792095e-02,  1.42991403e-02, -7.24470802e-03,  2.52008867e-02,\n",
       "       -1.95634756e-02, -1.85250230e-02,  1.99618023e-02, -1.57607067e-02,\n",
       "        2.94459742e-02,  1.35627333e-02, -7.72073306e-03,  4.24771644e-02,\n",
       "        5.73005993e-03, -1.93041079e-02, -3.00825294e-02, -6.66912226e-03,\n",
       "        1.66987942e-03,  1.80797372e-02,  5.68968663e-03,  1.56704690e-02,\n",
       "        2.54089143e-02,  1.94017608e-02, -1.15704881e-02,  1.89930685e-02,\n",
       "        1.41141638e-02,  1.04483608e-02,  4.54483647e-03, -3.88021534e-03,\n",
       "        3.54341045e-02, -1.19173685e-02, -2.15324406e-02, -1.67924948e-02,\n",
       "       -1.00359907e-02,  1.60960946e-02,  3.06172073e-02, -5.60896145e-03,\n",
       "        3.48166786e-02,  1.64307598e-02,  6.32608170e-03, -2.84087714e-02,\n",
       "       -2.52475194e-03,  2.31595971e-02,  1.10581948e-03, -1.54893612e-02,\n",
       "       -6.75341021e-03,  6.64327003e-04,  9.09797661e-03,  3.05032153e-02,\n",
       "       -1.07362596e-02, -3.42411175e-03, -6.04141271e-03,  1.46320919e-02,\n",
       "        8.26321635e-03,  1.36377392e-02,  7.30183860e-03,  2.70559918e-02,\n",
       "       -1.93521548e-02, -1.28990356e-02,  1.15992792e-03, -7.08758179e-03,\n",
       "       -2.33367085e-03, -5.81807876e-03,  1.73875783e-03, -1.87804794e-03,\n",
       "       -9.55042057e-03, -8.39622662e-05,  2.13334970e-02,  1.04729645e-02,\n",
       "        3.53002213e-02,  1.04557909e-02, -2.63648890e-02, -2.70474004e-03,\n",
       "       -3.31794657e-02, -1.53869297e-03, -8.43763072e-03, -2.15903185e-02,\n",
       "        9.39164020e-05,  3.04928795e-02, -8.13884474e-03,  2.12365892e-02,\n",
       "        2.30354611e-02,  1.51315785e-03, -1.77537799e-02,  9.88626573e-03,\n",
       "       -2.40678303e-02, -1.97211392e-02,  2.43567880e-02, -8.09944759e-04,\n",
       "       -5.11701079e-03,  2.44339630e-02,  1.66946016e-02,  1.53004946e-02,\n",
       "       -1.33703938e-02,  9.84293316e-03,  5.20214299e-03,  2.25376394e-02,\n",
       "        4.18712897e-03, -1.38271591e-02, -6.49210252e-03,  3.02713234e-02,\n",
       "        2.47027390e-02,  1.36422049e-02,  2.74457317e-02,  2.33579073e-02,\n",
       "        8.12266953e-03,  1.31336981e-02,  2.77874004e-02,  2.30150186e-02,\n",
       "        3.88498278e-03,  5.73949609e-03,  1.15780225e-02, -3.83862527e-03,\n",
       "       -2.25947220e-02,  2.24882993e-03, -2.39189155e-03,  3.17051687e-04,\n",
       "       -1.86465308e-02,  1.86787676e-02, -5.68092917e-04, -1.98259894e-02,\n",
       "       -1.78110301e-02, -3.10156145e-03], dtype=float32)"
      ]
     },
     "execution_count": 60,
     "metadata": {},
     "output_type": "execute_result"
    }
   ],
   "source": [
    "matrix_the_vector"
   ]
  },
  {
   "cell_type": "code",
   "execution_count": 61,
   "id": "elementary-response",
   "metadata": {},
   "outputs": [
    {
     "data": {
      "text/plain": [
       "0.75349844"
      ]
     },
     "execution_count": 61,
     "metadata": {},
     "output_type": "execute_result"
    }
   ],
   "source": [
    "# dreamb와 matrix_the를 내적\n",
    "np.dot(dreamb_vector, matrix_the_vector)"
   ]
  },
  {
   "cell_type": "code",
   "execution_count": 62,
   "id": "wanted-exemption",
   "metadata": {},
   "outputs": [
    {
     "data": {
      "text/plain": [
       "0.8587298"
      ]
     },
     "execution_count": 62,
     "metadata": {},
     "output_type": "execute_result"
    }
   ],
   "source": [
    "# dreamb와 forrest_gump를 내적\n",
    "forrest_gump = title_to_idx['forrest gump (1994)']\n",
    "forrest_gump_vector = als_model.item_factors[forrest_gump]\n",
    "np.dot(dreamb_vector, forrest_gump_vector)"
   ]
  },
  {
   "cell_type": "markdown",
   "id": "labeled-container",
   "metadata": {},
   "source": [
    "# 7) 내가 좋아하는 영화와 비슷한 영화 추천"
   ]
  },
  {
   "cell_type": "code",
   "execution_count": 67,
   "id": "emotional-continent",
   "metadata": {},
   "outputs": [],
   "source": [
    "# AlternatingLeastSquares 클래스에 구현되어 있는 similar_items 메서드를 통하여 비슷한 영화 찾기\n",
    "\n",
    "# title의 id를 다시 title의 이름으로 매핑\n",
    "idx_to_title = {v:k for k,v in title_to_idx.items()}\n",
    "\n",
    "def get_similar_movie(title_name: str):\n",
    "    title_id = title_to_idx[title_name]\n",
    "    similar_title = als_model.similar_items(title_id)\n",
    "    similar_title = [idx_to_title[i[0]] for i in similar_title]\n",
    "    return similar_title"
   ]
  },
  {
   "cell_type": "code",
   "execution_count": 68,
   "id": "desirable-notebook",
   "metadata": {},
   "outputs": [
    {
     "data": {
      "text/plain": [
       "['jurassic park (1993)',\n",
       " 'men in black (1997)',\n",
       " 'terminator 2: judgment day (1991)',\n",
       " 'lost world: jurassic park, the (1997)',\n",
       " 'character (karakter) (1997)',\n",
       " 'mother night (1996)',\n",
       " 'total recall (1990)',\n",
       " 'little odessa (1994)',\n",
       " 'bewegte mann, der (1994)',\n",
       " \"greaser's palace (1972)\"]"
      ]
     },
     "execution_count": 68,
     "metadata": {},
     "output_type": "execute_result"
    }
   ],
   "source": [
    "get_similar_movie('jurassic park (1993)')"
   ]
  },
  {
   "cell_type": "code",
   "execution_count": 69,
   "id": "specialized-startup",
   "metadata": {},
   "outputs": [
    {
     "data": {
      "text/plain": [
       "['matrix, the (1999)',\n",
       " 'terminator 2: judgment day (1991)',\n",
       " 'fugitive, the (1993)',\n",
       " 'fifth element, the (1997)',\n",
       " 'total recall (1990)',\n",
       " 'face/off (1997)',\n",
       " 'surviving picasso (1996)',\n",
       " 'terminator, the (1984)',\n",
       " \"mummy's ghost, the (1944)\",\n",
       " 'beefcake (1999)']"
      ]
     },
     "execution_count": 69,
     "metadata": {},
     "output_type": "execute_result"
    }
   ],
   "source": [
    "get_similar_movie('matrix, the (1999)')"
   ]
  },
  {
   "cell_type": "markdown",
   "id": "shared-bahamas",
   "metadata": {},
   "source": [
    "# 8) 내가 가장 좋아할 만한 영화 추천"
   ]
  },
  {
   "cell_type": "code",
   "execution_count": 78,
   "id": "advance-closer",
   "metadata": {},
   "outputs": [
    {
     "data": {
      "text/plain": [
       "[(569, 0.3777329),\n",
       " (1419, 0.29069903),\n",
       " (573, 0.28006768),\n",
       " (1147, 0.24354617),\n",
       " (439, 0.2097311),\n",
       " (1532, 0.20585713),\n",
       " (106, 0.19860813),\n",
       " (2507, 0.17826758),\n",
       " (722, 0.17636447),\n",
       " (1082, 0.16099185),\n",
       " (1810, 0.16053948),\n",
       " (3474, 0.15704742),\n",
       " (587, 0.15491666),\n",
       " (2600, 0.14965357),\n",
       " (1028, 0.14958562),\n",
       " (523, 0.14790553),\n",
       " (1391, 0.14516205),\n",
       " (249, 0.13759197),\n",
       " (842, 0.13566369),\n",
       " (49, 0.1348353)]"
      ]
     },
     "execution_count": 78,
     "metadata": {},
     "output_type": "execute_result"
    }
   ],
   "source": [
    "# AlternatingLeastSquares 클래스에 구현되어 있는 recommend 메서드를 통하여 좋아할 만한 영화 추천\n",
    "\n",
    "user = user_to_idx['dreamb']\n",
    "# recommend에서는 user*item CSR Matrix를 받습니다.\n",
    "# filter_already_liked_items 는 유저가 이미 평가한 아이템은 제외하는 Argument\n",
    "title_recommended = als_model.recommend(user, csr_data, N=20, filter_already_liked_items=True)\n",
    "title_recommended"
   ]
  },
  {
   "cell_type": "code",
   "execution_count": 79,
   "id": "hungarian-italy",
   "metadata": {},
   "outputs": [
    {
     "data": {
      "text/plain": [
       "['terminator 2: judgment day (1991)',\n",
       " 'men in black (1997)',\n",
       " 'silence of the lambs, the (1991)',\n",
       " 'groundhog day (1993)',\n",
       " 'fugitive, the (1993)',\n",
       " 'good will hunting (1997)',\n",
       " 'braveheart (1995)',\n",
       " 'sixth sense, the (1999)',\n",
       " 'independence day (id4) (1996)',\n",
       " 'raiders of the lost ark (1981)',\n",
       " 'saving private ryan (1998)',\n",
       " 'x-men (2000)',\n",
       " 'fargo (1996)',\n",
       " 'american beauty (1999)',\n",
       " 'escape from new york (1981)',\n",
       " 'blade runner (1982)',\n",
       " 'lost world: jurassic park, the (1997)',\n",
       " 'star wars: episode iv - a new hope (1977)',\n",
       " 'citizen kane (1941)',\n",
       " 'usual suspects, the (1995)']"
      ]
     },
     "execution_count": 79,
     "metadata": {},
     "output_type": "execute_result"
    }
   ],
   "source": [
    "# 추천하는 영화\n",
    "\n",
    "[idx_to_title[i[0]] for i in title_recommended]"
   ]
  },
  {
   "cell_type": "code",
   "execution_count": 80,
   "id": "royal-protest",
   "metadata": {},
   "outputs": [
    {
     "data": {
      "text/plain": [
       "[('matrix, the (1999)', 0.24726991104469637),\n",
       " ('jurassic park (1993)', 0.13674532632951691),\n",
       " ('shawshank redemption, the (1994)', 0.024430559144623852),\n",
       " ('back to the future (1985)', 0.0007161971783517568),\n",
       " ('forrest gump (1994)', -0.0363531892714886)]"
      ]
     },
     "execution_count": 80,
     "metadata": {},
     "output_type": "execute_result"
    }
   ],
   "source": [
    "# 이 추천에 기여한 정도를 확인\n",
    "\n",
    "terminator_2 = title_to_idx['terminator 2: judgment day (1991)']\n",
    "explain = als_model.explain(user, csr_data, itemid=terminator_2)\n",
    "\n",
    "[(idx_to_title[i[0]], i[1]) for i in explain[1]]"
   ]
  },
  {
   "cell_type": "markdown",
   "id": "extensive-mistake",
   "metadata": {},
   "source": [
    "'terminator 2: judgment day (1991)'를 추천하는 데 기여한 정도를 확인해 보면, 'matrix, the (1999)'와 'jurassic park (1993)'가 가장 크게 기여했다."
   ]
  },
  {
   "cell_type": "markdown",
   "id": "central-musician",
   "metadata": {},
   "source": [
    "이 영화들의 장르를 보면,\n",
    "- 공통적으로 Action과 Sci-Fi가 들어가 있는 것을 확인할 수 있다.\n",
    "- 추천된 영화인 'terminator 2: judgment day (1991)'와 기여도가 가장 큰 'matrix, the (1999)'는 장르가 완전히 일치한다.\n",
    "- ==> 이러한 점(장르의 일치여부)이 큰 기여도의 원인이라는 것을 유추할 수 있다."
   ]
  },
  {
   "cell_type": "code",
   "execution_count": 135,
   "id": "reduced-chassis",
   "metadata": {},
   "outputs": [
    {
     "data": {
      "text/html": [
       "<div>\n",
       "<style scoped>\n",
       "    .dataframe tbody tr th:only-of-type {\n",
       "        vertical-align: middle;\n",
       "    }\n",
       "\n",
       "    .dataframe tbody tr th {\n",
       "        vertical-align: top;\n",
       "    }\n",
       "\n",
       "    .dataframe thead th {\n",
       "        text-align: right;\n",
       "    }\n",
       "</style>\n",
       "<table border=\"1\" class=\"dataframe\">\n",
       "  <thead>\n",
       "    <tr style=\"text-align: right;\">\n",
       "      <th></th>\n",
       "      <th>title</th>\n",
       "      <th>genre</th>\n",
       "    </tr>\n",
       "  </thead>\n",
       "  <tbody>\n",
       "    <tr>\n",
       "      <th>476</th>\n",
       "      <td>jurassic park (1993)</td>\n",
       "      <td>Action|Adventure|Sci-Fi</td>\n",
       "    </tr>\n",
       "    <tr>\n",
       "      <th>585</th>\n",
       "      <td>terminator 2: judgment day (1991)</td>\n",
       "      <td>Action|Sci-Fi|Thriller</td>\n",
       "    </tr>\n",
       "    <tr>\n",
       "      <th>2502</th>\n",
       "      <td>matrix, the (1999)</td>\n",
       "      <td>Action|Sci-Fi|Thriller</td>\n",
       "    </tr>\n",
       "  </tbody>\n",
       "</table>\n",
       "</div>"
      ],
      "text/plain": [
       "                                  title                    genre\n",
       "476                jurassic park (1993)  Action|Adventure|Sci-Fi\n",
       "585   terminator 2: judgment day (1991)   Action|Sci-Fi|Thriller\n",
       "2502                 matrix, the (1999)   Action|Sci-Fi|Thriller"
      ]
     },
     "execution_count": 135,
     "metadata": {},
     "output_type": "execute_result"
    }
   ],
   "source": [
    "tg_target_df = pd.DataFrame(movies, columns=['title', 'genre'])\n",
    "\n",
    "tg_targets = ['terminator 2: judgment day (1991)', 'matrix, the (1999)', 'jurassic park (1993)']\n",
    "\n",
    "tg_target_df2 = tg_target_df.loc[tg_target_df['title'].isin(tg_targets)]\n",
    "tg_target_df2.head()"
   ]
  },
  {
   "cell_type": "markdown",
   "id": "incorporated-embassy",
   "metadata": {},
   "source": [
    "반면, 기여도가 낮은 영화의 장르를 보면,\n",
    "- shawshank redemption, the (1994)\tDrama\n",
    "- back to the future (1985)\t Comedy|Sci-Fi\n",
    "- forrest gump (1994)   Comedy|Romance|War\n",
    "- ==> 공통된 장르가 있는 'back to the future (1985)'의 기여도가 공통된 장르가 없는 'shawshank redemption, the (1994)'보다 낮게 나왔다.\n",
    "- ==> 공통된 장르가 아예 없는 'forrest gump (1994)'는 마이너스 값의 기여도를 가지기 때문에 의미가 없다.\n",
    "- ====> 따라서 장르 이외의 요소가 기여도에 영향을 끼쳤음을 유추할 수 있다."
   ]
  },
  {
   "cell_type": "code",
   "execution_count": 137,
   "id": "polyphonic-yeast",
   "metadata": {},
   "outputs": [
    {
     "data": {
      "text/html": [
       "<div>\n",
       "<style scoped>\n",
       "    .dataframe tbody tr th:only-of-type {\n",
       "        vertical-align: middle;\n",
       "    }\n",
       "\n",
       "    .dataframe tbody tr th {\n",
       "        vertical-align: top;\n",
       "    }\n",
       "\n",
       "    .dataframe thead th {\n",
       "        text-align: right;\n",
       "    }\n",
       "</style>\n",
       "<table border=\"1\" class=\"dataframe\">\n",
       "  <thead>\n",
       "    <tr style=\"text-align: right;\">\n",
       "      <th></th>\n",
       "      <th>title</th>\n",
       "      <th>genre</th>\n",
       "    </tr>\n",
       "  </thead>\n",
       "  <tbody>\n",
       "    <tr>\n",
       "      <th>315</th>\n",
       "      <td>shawshank redemption, the (1994)</td>\n",
       "      <td>Drama</td>\n",
       "    </tr>\n",
       "    <tr>\n",
       "      <th>352</th>\n",
       "      <td>forrest gump (1994)</td>\n",
       "      <td>Comedy|Romance|War</td>\n",
       "    </tr>\n",
       "    <tr>\n",
       "      <th>1250</th>\n",
       "      <td>back to the future (1985)</td>\n",
       "      <td>Comedy|Sci-Fi</td>\n",
       "    </tr>\n",
       "  </tbody>\n",
       "</table>\n",
       "</div>"
      ],
      "text/plain": [
       "                                 title               genre\n",
       "315   shawshank redemption, the (1994)               Drama\n",
       "352                forrest gump (1994)  Comedy|Romance|War\n",
       "1250         back to the future (1985)       Comedy|Sci-Fi"
      ]
     },
     "execution_count": 137,
     "metadata": {},
     "output_type": "execute_result"
    }
   ],
   "source": [
    "df = pd.DataFrame(movies, columns=['title', 'genre'])\n",
    "\n",
    "targets = ['shawshank redemption, the (1994)', 'back to the future (1985)', 'forrest gump (1994)']\n",
    "\n",
    "df2 = df.loc[df['title'].isin(targets)]\n",
    "df2.head()"
   ]
  },
  {
   "cell_type": "code",
   "execution_count": 153,
   "id": "through-square",
   "metadata": {},
   "outputs": [
    {
     "data": {
      "text/html": [
       "<div>\n",
       "<style scoped>\n",
       "    .dataframe tbody tr th:only-of-type {\n",
       "        vertical-align: middle;\n",
       "    }\n",
       "\n",
       "    .dataframe tbody tr th {\n",
       "        vertical-align: top;\n",
       "    }\n",
       "\n",
       "    .dataframe thead th {\n",
       "        text-align: right;\n",
       "    }\n",
       "</style>\n",
       "<table border=\"1\" class=\"dataframe\">\n",
       "  <thead>\n",
       "    <tr style=\"text-align: right;\">\n",
       "      <th></th>\n",
       "      <th>title</th>\n",
       "      <th>rating</th>\n",
       "    </tr>\n",
       "  </thead>\n",
       "  <tbody>\n",
       "    <tr>\n",
       "      <th>69600</th>\n",
       "      <td>shawshank redemption, the (1994)</td>\n",
       "      <td>5</td>\n",
       "    </tr>\n",
       "    <tr>\n",
       "      <th>69601</th>\n",
       "      <td>shawshank redemption, the (1994)</td>\n",
       "      <td>3</td>\n",
       "    </tr>\n",
       "    <tr>\n",
       "      <th>69602</th>\n",
       "      <td>shawshank redemption, the (1994)</td>\n",
       "      <td>5</td>\n",
       "    </tr>\n",
       "    <tr>\n",
       "      <th>69603</th>\n",
       "      <td>shawshank redemption, the (1994)</td>\n",
       "      <td>4</td>\n",
       "    </tr>\n",
       "    <tr>\n",
       "      <th>69604</th>\n",
       "      <td>shawshank redemption, the (1994)</td>\n",
       "      <td>5</td>\n",
       "    </tr>\n",
       "  </tbody>\n",
       "</table>\n",
       "</div>"
      ],
      "text/plain": [
       "                                  title  rating\n",
       "69600  shawshank redemption, the (1994)       5\n",
       "69601  shawshank redemption, the (1994)       3\n",
       "69602  shawshank redemption, the (1994)       5\n",
       "69603  shawshank redemption, the (1994)       4\n",
       "69604  shawshank redemption, the (1994)       5"
      ]
     },
     "execution_count": 153,
     "metadata": {},
     "output_type": "execute_result"
    }
   ],
   "source": [
    "# 기여도의 다른 원인을 찾기 위해 rating을 비교해 보기 위한 준비\n",
    "title_rating_df = pd.DataFrame(data, columns=['title', 'rating'])\n",
    "\n",
    "\n",
    "title_rating_targets = ['shawshank redemption, the (1994)', 'back to the future (1985)', 'forrest gump (1994)']\n",
    "\n",
    "title_rating_df2 = title_rating_df.loc[title_rating_df['title'].isin(title_rating_targets)]\n",
    "title_rating_df2.head()"
   ]
  },
  {
   "cell_type": "code",
   "execution_count": 154,
   "id": "synthetic-punch",
   "metadata": {},
   "outputs": [
    {
     "data": {
      "text/html": [
       "<div>\n",
       "<style scoped>\n",
       "    .dataframe tbody tr th:only-of-type {\n",
       "        vertical-align: middle;\n",
       "    }\n",
       "\n",
       "    .dataframe tbody tr th {\n",
       "        vertical-align: top;\n",
       "    }\n",
       "\n",
       "    .dataframe thead th {\n",
       "        text-align: right;\n",
       "    }\n",
       "</style>\n",
       "<table border=\"1\" class=\"dataframe\">\n",
       "  <thead>\n",
       "    <tr style=\"text-align: right;\">\n",
       "      <th></th>\n",
       "      <th>title</th>\n",
       "      <th>rating</th>\n",
       "    </tr>\n",
       "  </thead>\n",
       "  <tbody>\n",
       "    <tr>\n",
       "      <th>0</th>\n",
       "      <td>back to the future (1985)</td>\n",
       "      <td>4.097967</td>\n",
       "    </tr>\n",
       "    <tr>\n",
       "      <th>1</th>\n",
       "      <td>forrest gump (1994)</td>\n",
       "      <td>4.292285</td>\n",
       "    </tr>\n",
       "    <tr>\n",
       "      <th>2</th>\n",
       "      <td>shawshank redemption, the (1994)</td>\n",
       "      <td>4.596627</td>\n",
       "    </tr>\n",
       "  </tbody>\n",
       "</table>\n",
       "</div>"
      ],
      "text/plain": [
       "                              title    rating\n",
       "0         back to the future (1985)  4.097967\n",
       "1               forrest gump (1994)  4.292285\n",
       "2  shawshank redemption, the (1994)  4.596627"
      ]
     },
     "execution_count": 154,
     "metadata": {},
     "output_type": "execute_result"
    }
   ],
   "source": [
    "# title 별로 rating 값 평균내기\n",
    "tr_df2 = title_rating_df2.groupby('title')['rating'].agg(**{'rating':'mean'}).reset_index()\n",
    "tr_df2"
   ]
  },
  {
   "cell_type": "code",
   "execution_count": 155,
   "id": "disturbed-label",
   "metadata": {},
   "outputs": [
    {
     "data": {
      "text/html": [
       "<div>\n",
       "<style scoped>\n",
       "    .dataframe tbody tr th:only-of-type {\n",
       "        vertical-align: middle;\n",
       "    }\n",
       "\n",
       "    .dataframe tbody tr th {\n",
       "        vertical-align: top;\n",
       "    }\n",
       "\n",
       "    .dataframe thead th {\n",
       "        text-align: right;\n",
       "    }\n",
       "</style>\n",
       "<table border=\"1\" class=\"dataframe\">\n",
       "  <thead>\n",
       "    <tr style=\"text-align: right;\">\n",
       "      <th></th>\n",
       "      <th>title</th>\n",
       "      <th>rating</th>\n",
       "    </tr>\n",
       "  </thead>\n",
       "  <tbody>\n",
       "    <tr>\n",
       "      <th>2</th>\n",
       "      <td>shawshank redemption, the (1994)</td>\n",
       "      <td>4.596627</td>\n",
       "    </tr>\n",
       "    <tr>\n",
       "      <th>1</th>\n",
       "      <td>forrest gump (1994)</td>\n",
       "      <td>4.292285</td>\n",
       "    </tr>\n",
       "    <tr>\n",
       "      <th>0</th>\n",
       "      <td>back to the future (1985)</td>\n",
       "      <td>4.097967</td>\n",
       "    </tr>\n",
       "  </tbody>\n",
       "</table>\n",
       "</div>"
      ],
      "text/plain": [
       "                              title    rating\n",
       "2  shawshank redemption, the (1994)  4.596627\n",
       "1               forrest gump (1994)  4.292285\n",
       "0         back to the future (1985)  4.097967"
      ]
     },
     "execution_count": 155,
     "metadata": {},
     "output_type": "execute_result"
    }
   ],
   "source": [
    "# rating이 높은 순에서 낮은 순으로 정렬\n",
    "tr_df2_st = tr_df2.sort_values(by = ['rating'], ascending = False)\n",
    "tr_df2_st"
   ]
  },
  {
   "cell_type": "markdown",
   "id": "placed-boutique",
   "metadata": {},
   "source": [
    "결과적으로, 유추된 가설은 정답이 되었다.\n",
    "- 'shawshank redemption, the (1994)'\t4.596627\n",
    "- 'back to the future (1985)'    4.097967\n",
    "- ==> 'shawshank redemption, the (1994)'의 rating 값이 'back to the future (1985)' 보다 0.5점 정도 높다.\n",
    "- ====> 따라서, 이 경우에는 장르보다 rating이 기여도에 큰 영향을 미쳤음을 알 수 있다."
   ]
  },
  {
   "cell_type": "markdown",
   "id": "particular-marsh",
   "metadata": {},
   "source": [
    "# 회고"
   ]
  },
  {
   "cell_type": "markdown",
   "id": "urban-effects",
   "metadata": {},
   "source": [
    "factors(차원 수)를 키울수록 값이 점점 높아짐, iteration(반복횟수)은 30 이상으로 키울수록 값이 점점 낮아짐.\n",
    "- factors=100, regularization=0.01, use_gpu=False, iterations=15 ==> dreamb_vector, matrix_the_vector 0.4944174\n",
    "- factors=100, regularization=0.01, use_gpu=False, iterations=30 ==> dreamb_vector, matrix_the_vector 0.52884734\n",
    "- factors=150, regularization=0.01, use_gpu=False, iterations=30 ==> dreamb_vector, matrix_the_vector 0.6124598\n",
    "- factors=200, regularization=0.01, use_gpu=False, iterations=30 ==> dreamb_vector, matrix_the_vector 0.6761505\n",
    "- factors=250, regularization=0.01, use_gpu=False, iterations=30 ==> dreamb_vector, matrix_the_vector 0.75349844"
   ]
  },
  {
   "cell_type": "markdown",
   "id": "surprised-conjunction",
   "metadata": {},
   "source": [
    "기여도의 원인을 알아보는 과정에서 있었던 일\n",
    "- 기여도의 원인을 알아내기 위해 기여한 영화들의 장르를 추출했다.\n",
    "- 이 과정에서 대문자가 섞인 타이틀을 소문자로 변환하지 않고 삽질을 했다.\n",
    "- 꼭 모두 소문자로 변환하고 작업할 것!"
   ]
  }
 ],
 "metadata": {
  "kernelspec": {
   "display_name": "Python 3",
   "language": "python",
   "name": "python3"
  },
  "language_info": {
   "codemirror_mode": {
    "name": "ipython",
    "version": 3
   },
   "file_extension": ".py",
   "mimetype": "text/x-python",
   "name": "python",
   "nbconvert_exporter": "python",
   "pygments_lexer": "ipython3",
   "version": "3.7.9"
  }
 },
 "nbformat": 4,
 "nbformat_minor": 5
}
