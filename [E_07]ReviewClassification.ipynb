{
  "nbformat": 4,
  "nbformat_minor": 0,
  "metadata": {
    "colab": {
      "name": "[E-07]ReviewClassification.ipynb",
      "provenance": [],
      "collapsed_sections": []
    },
    "kernelspec": {
      "name": "python3",
      "display_name": "Python 3"
    },
    "language_info": {
      "name": "python"
    }
  },
  "cells": [
    {
      "cell_type": "markdown",
      "metadata": {
        "id": "0XCFOWX7gDQN"
      },
      "source": [
        "# 데이터 준비하기"
      ]
    },
    {
      "cell_type": "code",
      "metadata": {
        "id": "7ooc2AuWatSs"
      },
      "source": [
        "from google.colab import drive"
      ],
      "execution_count": null,
      "outputs": []
    },
    {
      "cell_type": "code",
      "metadata": {
        "id": "CQJtgbzbZeMn"
      },
      "source": [
        "import pandas as pd\n",
        "import urllib.request\n",
        "%matplotlib inline\n",
        "import matplotlib.pyplot as plt\n",
        "import re\n",
        "from tensorflow import keras\n",
        "from tensorflow.keras.preprocessing.text import Tokenizer\n",
        "import numpy as np\n",
        "from tensorflow.keras.preprocessing.sequence import pad_sequences\n",
        "from collections import Counter\n"
      ],
      "execution_count": null,
      "outputs": []
    },
    {
      "cell_type": "markdown",
      "metadata": {
        "id": "VzJu9WsvgQta"
      },
      "source": [
        "코랩에서 konlpy를 사용하기 위한 처리"
      ]
    },
    {
      "cell_type": "code",
      "metadata": {
        "id": "HD1C3gZEcm_s"
      },
      "source": [
        "!apt-get update\n",
        "\n",
        "!apt-get install g++ openjdk-8-jdk python-dev python3-dev\n",
        "\n",
        "!pip3 install JPype1-py3\n",
        "\n",
        "!pip3 install konlpy\n",
        "\n",
        "!JAVA_HOME=\"/usr/lib/jvm/java-8-openjdk-amd64\""
      ],
      "execution_count": null,
      "outputs": []
    },
    {
      "cell_type": "code",
      "metadata": {
        "id": "HikpkdGIbAjV"
      },
      "source": [
        "from konlpy.tag import Okt"
      ],
      "execution_count": null,
      "outputs": []
    },
    {
      "cell_type": "markdown",
      "metadata": {
        "id": "puohdLhRgYLx"
      },
      "source": [
        "데이터 불러오기"
      ]
    },
    {
      "cell_type": "code",
      "metadata": {
        "id": "45D9VeuwadRq",
        "colab": {
          "base_uri": "https://localhost:8080/",
          "height": 202
        },
        "outputId": "ce9cc11c-4d43-4062-f62b-d628d3def55e"
      },
      "source": [
        "train_data = pd.read_table('/content/drive/MyDrive/Colab Notebooks/Naver text DATA/ratings_train.txt')\n",
        "test_data = pd.read_table('/content/drive/MyDrive/Colab Notebooks/Naver text DATA/ratings_test.txt')\n",
        "\n",
        "train_data.head()"
      ],
      "execution_count": null,
      "outputs": [
        {
          "output_type": "execute_result",
          "data": {
            "text/html": [
              "<div>\n",
              "<style scoped>\n",
              "    .dataframe tbody tr th:only-of-type {\n",
              "        vertical-align: middle;\n",
              "    }\n",
              "\n",
              "    .dataframe tbody tr th {\n",
              "        vertical-align: top;\n",
              "    }\n",
              "\n",
              "    .dataframe thead th {\n",
              "        text-align: right;\n",
              "    }\n",
              "</style>\n",
              "<table border=\"1\" class=\"dataframe\">\n",
              "  <thead>\n",
              "    <tr style=\"text-align: right;\">\n",
              "      <th></th>\n",
              "      <th>id</th>\n",
              "      <th>document</th>\n",
              "      <th>label</th>\n",
              "    </tr>\n",
              "  </thead>\n",
              "  <tbody>\n",
              "    <tr>\n",
              "      <th>0</th>\n",
              "      <td>9976970</td>\n",
              "      <td>아 더빙.. 진짜 짜증나네요 목소리</td>\n",
              "      <td>0</td>\n",
              "    </tr>\n",
              "    <tr>\n",
              "      <th>1</th>\n",
              "      <td>3819312</td>\n",
              "      <td>흠...포스터보고 초딩영화줄....오버연기조차 가볍지 않구나</td>\n",
              "      <td>1</td>\n",
              "    </tr>\n",
              "    <tr>\n",
              "      <th>2</th>\n",
              "      <td>10265843</td>\n",
              "      <td>너무재밓었다그래서보는것을추천한다</td>\n",
              "      <td>0</td>\n",
              "    </tr>\n",
              "    <tr>\n",
              "      <th>3</th>\n",
              "      <td>9045019</td>\n",
              "      <td>교도소 이야기구먼 ..솔직히 재미는 없다..평점 조정</td>\n",
              "      <td>0</td>\n",
              "    </tr>\n",
              "    <tr>\n",
              "      <th>4</th>\n",
              "      <td>6483659</td>\n",
              "      <td>사이몬페그의 익살스런 연기가 돋보였던 영화!스파이더맨에서 늙어보이기만 했던 커스틴 ...</td>\n",
              "      <td>1</td>\n",
              "    </tr>\n",
              "  </tbody>\n",
              "</table>\n",
              "</div>"
            ],
            "text/plain": [
              "         id                                           document  label\n",
              "0   9976970                                아 더빙.. 진짜 짜증나네요 목소리      0\n",
              "1   3819312                  흠...포스터보고 초딩영화줄....오버연기조차 가볍지 않구나      1\n",
              "2  10265843                                  너무재밓었다그래서보는것을추천한다      0\n",
              "3   9045019                      교도소 이야기구먼 ..솔직히 재미는 없다..평점 조정      0\n",
              "4   6483659  사이몬페그의 익살스런 연기가 돋보였던 영화!스파이더맨에서 늙어보이기만 했던 커스틴 ...      1"
            ]
          },
          "metadata": {
            "tags": []
          },
          "execution_count": 5
        }
      ]
    },
    {
      "cell_type": "code",
      "metadata": {
        "colab": {
          "base_uri": "https://localhost:8080/"
        },
        "id": "WWPGf4ihshny",
        "outputId": "532ec1bb-772f-4344-c445-1acc975aa2ad"
      },
      "source": [
        "X_train.shape"
      ],
      "execution_count": 35,
      "outputs": [
        {
          "output_type": "execute_result",
          "data": {
            "text/plain": [
              "(146182, 41)"
            ]
          },
          "metadata": {
            "tags": []
          },
          "execution_count": 35
        }
      ]
    },
    {
      "cell_type": "code",
      "metadata": {
        "colab": {
          "base_uri": "https://localhost:8080/"
        },
        "id": "v8WR866gs8G2",
        "outputId": "2f9afcfe-f66d-4ca1-925a-8a4070f2c96f"
      },
      "source": [
        "y_train.shape"
      ],
      "execution_count": 37,
      "outputs": [
        {
          "output_type": "execute_result",
          "data": {
            "text/plain": [
              "(146182,)"
            ]
          },
          "metadata": {
            "tags": []
          },
          "execution_count": 37
        }
      ]
    },
    {
      "cell_type": "code",
      "metadata": {
        "colab": {
          "base_uri": "https://localhost:8080/"
        },
        "id": "T6no3r6cs6Wq",
        "outputId": "7ee21609-383f-4bcb-a76a-b088c1a334e4"
      },
      "source": [
        "X_test.shape"
      ],
      "execution_count": 36,
      "outputs": [
        {
          "output_type": "execute_result",
          "data": {
            "text/plain": [
              "(49157, 41)"
            ]
          },
          "metadata": {
            "tags": []
          },
          "execution_count": 36
        }
      ]
    },
    {
      "cell_type": "code",
      "metadata": {
        "colab": {
          "base_uri": "https://localhost:8080/"
        },
        "id": "sAuuObBLs9-Q",
        "outputId": "9aee771e-5fae-4a8a-d911-0c245003068d"
      },
      "source": [
        "y_test.shape"
      ],
      "execution_count": 38,
      "outputs": [
        {
          "output_type": "execute_result",
          "data": {
            "text/plain": [
              "(49157,)"
            ]
          },
          "metadata": {
            "tags": []
          },
          "execution_count": 38
        }
      ]
    },
    {
      "cell_type": "markdown",
      "metadata": {
        "id": "Xz52dqJF3z9A"
      },
      "source": [
        "\n",
        "\n",
        "---\n",
        "\n"
      ]
    },
    {
      "cell_type": "markdown",
      "metadata": {
        "id": "Z3h_qqL5guZf"
      },
      "source": [
        "# 데이터로더 구성"
      ]
    },
    {
      "cell_type": "markdown",
      "metadata": {
        "id": "7fZFAN-IhA1E"
      },
      "source": [
        "- 데이터의 중복 제거\n",
        "- NaN 결측치 제거\n",
        "- 한국어 토크나이저로 토큰화\n",
        "- 불용어(Stopwords) 제거\n",
        "- 사전word_to_index 구성\n",
        "- 텍스트 스트링을 사전 인덱스 스트링으로 변환\n",
        "- X_train, y_train, X_test, y_test, word_to_index 리턴"
      ]
    },
    {
      "cell_type": "markdown",
      "metadata": {
        "id": "mOwOjyCulAyi"
      },
      "source": [
        "코랩에서 Mecab을 사용하기 위한 처리"
      ]
    },
    {
      "cell_type": "code",
      "metadata": {
        "colab": {
          "base_uri": "https://localhost:8080/"
        },
        "id": "TnuBIC7-hzG4",
        "outputId": "bd6892a4-3385-4f4e-bda0-b9fc32bd3d57"
      },
      "source": [
        "! git clone https://github.com/SOMJANG/Mecab-ko-for-Google-Colab.git"
      ],
      "execution_count": null,
      "outputs": [
        {
          "output_type": "stream",
          "text": [
            "fatal: destination path 'Mecab-ko-for-Google-Colab' already exists and is not an empty directory.\n"
          ],
          "name": "stdout"
        }
      ]
    },
    {
      "cell_type": "code",
      "metadata": {
        "colab": {
          "base_uri": "https://localhost:8080/"
        },
        "id": "DxFOF_A8h8Om",
        "outputId": "ab49a5a8-c1d5-42b8-ecc3-631e1bfc9d14"
      },
      "source": [
        " cd Mecab-ko-for-Google-Colab"
      ],
      "execution_count": null,
      "outputs": [
        {
          "output_type": "stream",
          "text": [
            "/content/Mecab-ko-for-Google-Colab\n"
          ],
          "name": "stdout"
        }
      ]
    },
    {
      "cell_type": "code",
      "metadata": {
        "id": "aTwewq_Yh9Ip"
      },
      "source": [
        "! bash install_mecab-ko_on_colab190912.sh"
      ],
      "execution_count": null,
      "outputs": []
    },
    {
      "cell_type": "code",
      "metadata": {
        "id": "mjrQ2KHihSXX"
      },
      "source": [
        "from konlpy.tag import Mecab"
      ],
      "execution_count": null,
      "outputs": []
    },
    {
      "cell_type": "code",
      "metadata": {
        "id": "F0DJWTsxkXdP"
      },
      "source": [
        "mecab = Mecab()"
      ],
      "execution_count": null,
      "outputs": []
    },
    {
      "cell_type": "code",
      "metadata": {
        "id": "U7Coe6IAgZtH"
      },
      "source": [
        "tokenizer = Mecab()\n",
        "stopwords = ['의','가','이','은','들','는','좀','잘','걍','과','도','를','으로','자','에','와','한','하다']\n",
        "\n",
        "def load_data(train_data, test_data, num_words=10000):\n",
        "    train_data.drop_duplicates(subset=['document'], inplace=True)\n",
        "    train_data = train_data.dropna(how = 'any') \n",
        "    test_data.drop_duplicates(subset=['document'], inplace=True)\n",
        "    test_data = test_data.dropna(how = 'any') \n",
        "    \n",
        "    X_train = []\n",
        "    for sentence in train_data['document']:\n",
        "        temp_X = tokenizer.morphs(sentence) # 토큰화\n",
        "        temp_X = [word for word in temp_X if not word in stopwords] # 불용어 제거\n",
        "        X_train.append(temp_X)\n",
        "\n",
        "    X_test = []\n",
        "    for sentence in test_data['document']:\n",
        "        temp_X = tokenizer.morphs(sentence) # 토큰화\n",
        "        temp_X = [word for word in temp_X if not word in stopwords] # 불용어 제거\n",
        "        X_test.append(temp_X)\n",
        "    \n",
        "    words = np.concatenate(X_train).tolist()\n",
        "    counter = Counter(words)\n",
        "    counter = counter.most_common(10000-4)\n",
        "    vocab = ['<PAD>', '<BOS>', '<UNK>', '<UNUSED'] + [key for key, _ in counter]\n",
        "    word_to_index = {word:index for index, word in enumerate(vocab)}\n",
        "        \n",
        "    def wordlist_to_indexlist(wordlist):\n",
        "        return [word_to_index[word] if word in word_to_index else word_to_index['<UNK>'] for word in wordlist]\n",
        "        \n",
        "    X_train = list(map(wordlist_to_indexlist, X_train))\n",
        "    X_test = list(map(wordlist_to_indexlist, X_test))\n",
        "        \n",
        "    return X_train, np.array(list(train_data['label'])), X_test, np.array(list(test_data['label'])), word_to_index\n",
        "    \n",
        "X_train, y_train, X_test, y_test, word_to_index = load_data(train_data, test_data) "
      ],
      "execution_count": 24,
      "outputs": []
    },
    {
      "cell_type": "code",
      "metadata": {
        "id": "gaDhKHvplOk8"
      },
      "source": [
        "index_to_word = {index:word for word, index in word_to_index.items()}"
      ],
      "execution_count": 25,
      "outputs": []
    },
    {
      "cell_type": "code",
      "metadata": {
        "id": "C_wVrvpOlUS_"
      },
      "source": [
        "# 문장 1개를 활용할 딕셔너리와 함께 주면, 단어 인덱스 리스트 벡터로 변환해 주는 함수입니다. \n",
        "# 단, 모든 문장은 <BOS>로 시작하는 것으로 합니다. \n",
        "def get_encoded_sentence(sentence, word_to_index):\n",
        "    return [word_to_index['<BOS>']]+[word_to_index[word] if word in word_to_index else word_to_index['<UNK>'] for word in sentence.split()]\n",
        "\n",
        "# 여러 개의 문장 리스트를 한꺼번에 단어 인덱스 리스트 벡터로 encode해 주는 함수입니다. \n",
        "def get_encoded_sentences(sentences, word_to_index):\n",
        "    return [get_encoded_sentence(sentence, word_to_index) for sentence in sentences]\n",
        "\n",
        "# 숫자 벡터로 encode된 문장을 원래대로 decode하는 함수입니다. \n",
        "def get_decoded_sentence(encoded_sentence, index_to_word):\n",
        "    return ' '.join(index_to_word[index] if index in index_to_word else '<UNK>' for index in encoded_sentence[1:])  #[1:]를 통해 <BOS>를 제외\n",
        "\n",
        "# 여러 개의 숫자 벡터로 encode된 문장을 한꺼번에 원래대로 decode하는 함수입니다. \n",
        "def get_decoded_sentences(encoded_sentences, index_to_word):\n",
        "    return [get_decoded_sentence(encoded_sentence, index_to_word) for encoded_sentence in encoded_sentences]"
      ],
      "execution_count": 26,
      "outputs": []
    },
    {
      "cell_type": "markdown",
      "metadata": {
        "id": "uVxMkjCW35S9"
      },
      "source": [
        "\n",
        "\n",
        "---\n",
        "\n"
      ]
    },
    {
      "cell_type": "markdown",
      "metadata": {
        "id": "BnWRV2Sxml7N"
      },
      "source": [
        "# 모델구성을 위한 데이터 분석 및 가공"
      ]
    },
    {
      "cell_type": "markdown",
      "metadata": {
        "id": "slk0okL8mr6Q"
      },
      "source": [
        "- 데이터셋 내 문장 길이 분포"
      ]
    },
    {
      "cell_type": "code",
      "metadata": {
        "colab": {
          "base_uri": "https://localhost:8080/"
        },
        "id": "RBC4TUdTmuYy",
        "outputId": "39643ef6-d1b3-4563-e499-d4c3332828e5"
      },
      "source": [
        "print(X_train[0])  # 1번째 리뷰데이터\n",
        "print('라벨: ', y_train[0])  # 1번째 리뷰데이터의 라벨\n",
        "print('1번째 리뷰 문장 길이: ', len(X_train[0]))\n",
        "print('2번째 리뷰 문장 길이: ', len(X_train[1]))"
      ],
      "execution_count": 27,
      "outputs": [
        {
          "output_type": "stream",
          "text": [
            "[32, 74, 919, 4, 4, 39, 228, 20, 33, 748]\n",
            "라벨:  0\n",
            "1번째 리뷰 문장 길이:  10\n",
            "2번째 리뷰 문장 길이:  17\n"
          ],
          "name": "stdout"
        }
      ]
    },
    {
      "cell_type": "code",
      "metadata": {
        "colab": {
          "base_uri": "https://localhost:8080/"
        },
        "id": "M2uo6kwonZQ_",
        "outputId": "c46af155-a991-4fc6-eee6-d25385cffffe"
      },
      "source": [
        "total_data_text = list(X_train) + list(X_test)\n",
        "# 텍스트데이터 문장길이의 리스트를 생성한 후\n",
        "num_tokens = [len(tokens) for tokens in total_data_text]\n",
        "num_tokens = np.array(num_tokens)\n",
        "# 문장길이의 평균값, 최대값, 표준편차를 계산해 본다. \n",
        "print('문장길이 평균 : ', np.mean(num_tokens))\n",
        "print('문장길이 최대 : ', np.max(num_tokens))\n",
        "print('문장길이 표준편차 : ', np.std(num_tokens))"
      ],
      "execution_count": 28,
      "outputs": [
        {
          "output_type": "stream",
          "text": [
            "문장길이 평균 :  15.969355837799927\n",
            "문장길이 최대 :  116\n",
            "문장길이 표준편차 :  12.843536204665021\n"
          ],
          "name": "stdout"
        }
      ]
    },
    {
      "cell_type": "markdown",
      "metadata": {
        "id": "3Q2lt-sSnACB"
      },
      "source": [
        "- 적절한 최대 문장 길이 지정 | maxlen : 41"
      ]
    },
    {
      "cell_type": "code",
      "metadata": {
        "colab": {
          "base_uri": "https://localhost:8080/"
        },
        "id": "NidE-QS5nEVI",
        "outputId": "dfeee2c4-a8f4-4da7-fbac-edd3fc7b9b9b"
      },
      "source": [
        "# 예를들어, 최대 길이를 (평균 + 2*표준편차)로 한다면,  \n",
        "max_tokens = np.mean(num_tokens) + 2 * np.std(num_tokens)\n",
        "maxlen = int(max_tokens)\n",
        "print('pad_sequences maxlen : ', maxlen)\n",
        "print('전체 문장의 {}%가 maxlen 설정값 이내에 포함됩니다. '.format(np.sum(num_tokens < max_tokens) / len(num_tokens)))"
      ],
      "execution_count": 29,
      "outputs": [
        {
          "output_type": "stream",
          "text": [
            "pad_sequences maxlen :  41\n",
            "전체 문장의 0.9342988343341575%가 maxlen 설정값 이내에 포함됩니다. \n"
          ],
          "name": "stdout"
        }
      ]
    },
    {
      "cell_type": "markdown",
      "metadata": {
        "id": "0poWBkdQnu1e"
      },
      "source": [
        "- keras.preprocessing.sequence.pad_sequences을 활용한 패딩 추가"
      ]
    },
    {
      "cell_type": "code",
      "metadata": {
        "colab": {
          "base_uri": "https://localhost:8080/"
        },
        "id": "RA8Q8Bn3n2l9",
        "outputId": "4c2a4f8d-a762-4439-c3ca-fd5c3a34d093"
      },
      "source": [
        "X_train = keras.preprocessing.sequence.pad_sequences(X_train,\n",
        "                                                        value=word_to_index[\"<PAD>\"],\n",
        "                                                        padding='post', # 혹은 'pre'\n",
        "                                                        maxlen=maxlen)\n",
        "\n",
        "X_test = keras.preprocessing.sequence.pad_sequences(X_test,\n",
        "                                                       value=word_to_index[\"<PAD>\"],\n",
        "                                                       padding='post', # 혹은 'pre'\n",
        "                                                       maxlen=maxlen)\n",
        "\n",
        "print(X_train.shape)"
      ],
      "execution_count": 30,
      "outputs": [
        {
          "output_type": "stream",
          "text": [
            "(146182, 41)\n"
          ],
          "name": "stdout"
        }
      ]
    },
    {
      "cell_type": "markdown",
      "metadata": {
        "id": "kDLqetKr38jS"
      },
      "source": [
        "\n",
        "\n",
        "---\n",
        "\n"
      ]
    },
    {
      "cell_type": "markdown",
      "metadata": {
        "id": "2Kx7C15nqAZS"
      },
      "source": [
        "#Validation Set 구성, 모델구성, 모델훈련 및 테스트"
      ]
    },
    {
      "cell_type": "markdown",
      "metadata": {
        "id": "7qL_Tn7qyiMi"
      },
      "source": [
        "Validation Set 구성"
      ]
    },
    {
      "cell_type": "markdown",
      "metadata": {
        "id": "Lf1JgTxYtJUh"
      },
      "source": [
        "약 14만개의 train 데이터에서 5분의 2인 56000개를 validation set으로 사용"
      ]
    },
    {
      "cell_type": "code",
      "metadata": {
        "colab": {
          "base_uri": "https://localhost:8080/"
        },
        "id": "0xFJMVqorLHx",
        "outputId": "8d449726-4e9d-446b-b18f-d1e71aa4d4cc"
      },
      "source": [
        "# validation set 56000건 분리\n",
        "X_val = X_train[:56000]   \n",
        "y_val = y_train[:56000]\n",
        "\n",
        "# validation set을 제외한 나머지 56000건\n",
        "partial_X_train = X_train[56000:]  \n",
        "partial_y_train = y_train[56000:]\n",
        "\n",
        "print(partial_X_train.shape)\n",
        "print(partial_y_train.shape)"
      ],
      "execution_count": 41,
      "outputs": [
        {
          "output_type": "stream",
          "text": [
            "(90182, 41)\n",
            "(90182,)\n"
          ],
          "name": "stdout"
        }
      ]
    },
    {
      "cell_type": "markdown",
      "metadata": {
        "id": "8tAo4G63qElI"
      },
      "source": [
        "##1. RNN (Recurrent Neural Network)"
      ]
    },
    {
      "cell_type": "markdown",
      "metadata": {
        "id": "ot7gEc_dyg3o"
      },
      "source": [
        "모델구성"
      ]
    },
    {
      "cell_type": "code",
      "metadata": {
        "colab": {
          "base_uri": "https://localhost:8080/"
        },
        "id": "JBScjOujuMvf",
        "outputId": "fd0d21bc-412e-458e-e9fe-5f87eb3fd7b0"
      },
      "source": [
        "vocab_size = 56000  # 어휘 사전의 크기입니다\n",
        "word_vector_dim = 16  # 단어 하나를 표현하는 임베딩 벡터의 차원수입니다. \n",
        "\n",
        "model = keras.Sequential()\n",
        "model.add(keras.layers.Embedding(vocab_size, word_vector_dim, input_shape=(None,)))\n",
        "model.add(keras.layers.LSTM(8))   # 가장 널리 쓰이는 RNN인 LSTM 레이어를 사용하였습니다. 이때 LSTM state 벡터의 차원수는 8로 하였습니다. (변경 가능)\n",
        "model.add(keras.layers.Dense(8, activation='relu'))\n",
        "model.add(keras.layers.Dense(1, activation='sigmoid'))  # 최종 출력은 긍정/부정을 나타내는 1dim 입니다.\n",
        "\n",
        "model.summary()"
      ],
      "execution_count": 40,
      "outputs": [
        {
          "output_type": "stream",
          "text": [
            "Model: \"sequential\"\n",
            "_________________________________________________________________\n",
            "Layer (type)                 Output Shape              Param #   \n",
            "=================================================================\n",
            "embedding (Embedding)        (None, None, 16)          896000    \n",
            "_________________________________________________________________\n",
            "lstm (LSTM)                  (None, 8)                 800       \n",
            "_________________________________________________________________\n",
            "dense (Dense)                (None, 8)                 72        \n",
            "_________________________________________________________________\n",
            "dense_1 (Dense)              (None, 1)                 9         \n",
            "=================================================================\n",
            "Total params: 896,881\n",
            "Trainable params: 896,881\n",
            "Non-trainable params: 0\n",
            "_________________________________________________________________\n"
          ],
          "name": "stdout"
        }
      ]
    },
    {
      "cell_type": "markdown",
      "metadata": {
        "id": "FcavTXXNx7e8"
      },
      "source": [
        "모델훈련"
      ]
    },
    {
      "cell_type": "code",
      "metadata": {
        "colab": {
          "base_uri": "https://localhost:8080/"
        },
        "id": "FI_qqh9mwe8w",
        "outputId": "24aa708b-3d86-4521-9a1b-ec84be436e28"
      },
      "source": [
        "model.compile(optimizer='adam',\n",
        "              loss='binary_crossentropy',\n",
        "              metrics=['accuracy'])\n",
        "              \n",
        "epochs=10  # 몇 epoch를 훈련하면 좋을지 결과를 보면서 바꾸어 봅시다. \n",
        "\n",
        "history = model.fit(partial_X_train,\n",
        "                    partial_y_train,\n",
        "                    epochs=epochs,\n",
        "                    batch_size=512,\n",
        "                    validation_data=(X_val, y_val),\n",
        "                    verbose=1)"
      ],
      "execution_count": 42,
      "outputs": [
        {
          "output_type": "stream",
          "text": [
            "Epoch 1/10\n",
            "177/177 [==============================] - 12s 53ms/step - loss: 0.5897 - accuracy: 0.6820 - val_loss: 0.4453 - val_accuracy: 0.8229\n",
            "Epoch 2/10\n",
            "177/177 [==============================] - 9s 49ms/step - loss: 0.3913 - accuracy: 0.8439 - val_loss: 0.3859 - val_accuracy: 0.8356\n",
            "Epoch 3/10\n",
            "177/177 [==============================] - 9s 49ms/step - loss: 0.3363 - accuracy: 0.8661 - val_loss: 0.3649 - val_accuracy: 0.8436\n",
            "Epoch 4/10\n",
            "177/177 [==============================] - 9s 48ms/step - loss: 0.3172 - accuracy: 0.8736 - val_loss: 0.3639 - val_accuracy: 0.8433\n",
            "Epoch 5/10\n",
            "177/177 [==============================] - 9s 48ms/step - loss: 0.3048 - accuracy: 0.8798 - val_loss: 0.3681 - val_accuracy: 0.8420\n",
            "Epoch 6/10\n",
            "177/177 [==============================] - 9s 48ms/step - loss: 0.2958 - accuracy: 0.8829 - val_loss: 0.3841 - val_accuracy: 0.8371\n",
            "Epoch 7/10\n",
            "177/177 [==============================] - 8s 48ms/step - loss: 0.2879 - accuracy: 0.8857 - val_loss: 0.3770 - val_accuracy: 0.8389\n",
            "Epoch 8/10\n",
            "177/177 [==============================] - 8s 48ms/step - loss: 0.2791 - accuracy: 0.8896 - val_loss: 0.3787 - val_accuracy: 0.8412\n",
            "Epoch 9/10\n",
            "177/177 [==============================] - 8s 48ms/step - loss: 0.2715 - accuracy: 0.8927 - val_loss: 0.3793 - val_accuracy: 0.8406\n",
            "Epoch 10/10\n",
            "177/177 [==============================] - 9s 48ms/step - loss: 0.2621 - accuracy: 0.8976 - val_loss: 0.3947 - val_accuracy: 0.8378\n"
          ],
          "name": "stdout"
        }
      ]
    },
    {
      "cell_type": "markdown",
      "metadata": {
        "id": "pCe7bUUdxxT3"
      },
      "source": [
        "Loss, Accuracy 그래프 시각화"
      ]
    },
    {
      "cell_type": "code",
      "metadata": {
        "colab": {
          "base_uri": "https://localhost:8080/"
        },
        "id": "IXML_T2BxECK",
        "outputId": "4fe0a8fc-41be-40e7-f153-7d2c43a8fe0b"
      },
      "source": [
        "history_dict = history.history\n",
        "print(history_dict.keys()) # epoch에 따른 그래프를 그려볼 수 있는 항목들"
      ],
      "execution_count": 43,
      "outputs": [
        {
          "output_type": "stream",
          "text": [
            "dict_keys(['loss', 'accuracy', 'val_loss', 'val_accuracy'])\n"
          ],
          "name": "stdout"
        }
      ]
    },
    {
      "cell_type": "code",
      "metadata": {
        "colab": {
          "base_uri": "https://localhost:8080/",
          "height": 294
        },
        "id": "qeuKxk96xJ8_",
        "outputId": "5d4918ff-4ce8-4676-c5ef-88d7ba76e89a"
      },
      "source": [
        "import matplotlib.pyplot as plt\n",
        "\n",
        "acc = history_dict['accuracy']\n",
        "val_acc = history_dict['val_accuracy']\n",
        "loss = history_dict['loss']\n",
        "val_loss = history_dict['val_loss']\n",
        "\n",
        "epochs = range(1, len(acc) + 1)\n",
        "\n",
        "# \"bo\"는 \"파란색 점\"입니다\n",
        "plt.plot(epochs, loss, 'bo', label='Training loss')\n",
        "# b는 \"파란 실선\"입니다\n",
        "plt.plot(epochs, val_loss, 'b', label='Validation loss')\n",
        "plt.title('Training and validation loss')\n",
        "plt.xlabel('Epochs')\n",
        "plt.ylabel('Loss')\n",
        "plt.legend()\n",
        "\n",
        "plt.show()"
      ],
      "execution_count": 44,
      "outputs": [
        {
          "output_type": "display_data",
          "data": {
            "image/png": "[encoded data removed]",
            "text/plain": [
              "<Figure size 432x288 with 1 Axes>"
            ]
          },
          "metadata": {
            "tags": [],
            "needs_background": "light"
          }
        }
      ]
    },
    {
      "cell_type": "code",
      "metadata": {
        "colab": {
          "base_uri": "https://localhost:8080/",
          "height": 294
        },
        "id": "heOIbyR1xMQS",
        "outputId": "2cbda886-2e41-4faa-9ba4-de51e6660fe1"
      },
      "source": [
        "plt.clf()   # 그림을 초기화합니다\n",
        "\n",
        "plt.plot(epochs, acc, 'bo', label='Training acc')\n",
        "plt.plot(epochs, val_acc, 'b', label='Validation acc')\n",
        "plt.title('Training and validation accuracy')\n",
        "plt.xlabel('Epochs')\n",
        "plt.ylabel('Accuracy')\n",
        "plt.legend()\n",
        "\n",
        "plt.show()"
      ],
      "execution_count": 45,
      "outputs": [
        {
          "output_type": "display_data",
          "data": {
            "image/png": "[encoded data removed]",
            "text/plain": [
              "<Figure size 432x288 with 1 Axes>"
            ]
          },
          "metadata": {
            "tags": [],
            "needs_background": "light"
          }
        }
      ]
    },
    {
      "cell_type": "markdown",
      "metadata": {
        "id": "3OWOipk_x-w8"
      },
      "source": [
        "모델테스트"
      ]
    },
    {
      "cell_type": "code",
      "metadata": {
        "colab": {
          "base_uri": "https://localhost:8080/"
        },
        "id": "-3fND3L8xYLa",
        "outputId": "0fd0e842-7204-48bb-a08f-82112d1bafe2"
      },
      "source": [
        "results = model.evaluate(X_test,  y_test, verbose=2)\n",
        "\n",
        "print(results)"
      ],
      "execution_count": 46,
      "outputs": [
        {
          "output_type": "stream",
          "text": [
            "1537/1537 - 5s - loss: 0.4046 - accuracy: 0.8324\n",
            "[0.40461933612823486, 0.8323941826820374]\n"
          ],
          "name": "stdout"
        }
      ]
    },
    {
      "cell_type": "markdown",
      "metadata": {
        "id": "zV0xMq3Yvp_6"
      },
      "source": [
        "##2. 1-D CNN(1-D Convolution Neural Network)"
      ]
    },
    {
      "cell_type": "markdown",
      "metadata": {
        "id": "-YYNe_qNz5my"
      },
      "source": [
        "모델구성"
      ]
    },
    {
      "cell_type": "code",
      "metadata": {
        "colab": {
          "base_uri": "https://localhost:8080/"
        },
        "id": "f_6oAc_Yyaop",
        "outputId": "71189469-d191-4177-c63d-b2089ac076fd"
      },
      "source": [
        "vocab_size = 56000  # 어휘 사전의 크기입니다\n",
        "word_vector_dim = 16   # 단어 하나를 표현하는 임베딩 벡터의 차원 수입니다. \n",
        "\n",
        "model = keras.Sequential()\n",
        "model.add(keras.layers.Embedding(vocab_size, word_vector_dim, input_shape=(None,)))\n",
        "model.add(keras.layers.Conv1D(16, 7, activation='relu'))\n",
        "model.add(keras.layers.MaxPooling1D(5))\n",
        "model.add(keras.layers.Conv1D(16, 7, activation='relu'))\n",
        "model.add(keras.layers.GlobalMaxPooling1D())\n",
        "model.add(keras.layers.Dense(8, activation='relu'))\n",
        "model.add(keras.layers.Dense(1, activation='sigmoid'))  # 최종 출력은 긍정/부정을 나타내는 1dim 입니다.\n",
        "\n",
        "model.summary()"
      ],
      "execution_count": 49,
      "outputs": [
        {
          "output_type": "stream",
          "text": [
            "Model: \"sequential_3\"\n",
            "_________________________________________________________________\n",
            "Layer (type)                 Output Shape              Param #   \n",
            "=================================================================\n",
            "embedding_3 (Embedding)      (None, None, 16)          896000    \n",
            "_________________________________________________________________\n",
            "conv1d_2 (Conv1D)            (None, None, 16)          1808      \n",
            "_________________________________________________________________\n",
            "max_pooling1d_1 (MaxPooling1 (None, None, 16)          0         \n",
            "_________________________________________________________________\n",
            "conv1d_3 (Conv1D)            (None, None, 16)          1808      \n",
            "_________________________________________________________________\n",
            "global_max_pooling1d_2 (Glob (None, 16)                0         \n",
            "_________________________________________________________________\n",
            "dense_6 (Dense)              (None, 8)                 136       \n",
            "_________________________________________________________________\n",
            "dense_7 (Dense)              (None, 1)                 9         \n",
            "=================================================================\n",
            "Total params: 899,761\n",
            "Trainable params: 899,761\n",
            "Non-trainable params: 0\n",
            "_________________________________________________________________\n"
          ],
          "name": "stdout"
        }
      ]
    },
    {
      "cell_type": "markdown",
      "metadata": {
        "id": "pnFmvVnVz9JI"
      },
      "source": [
        "모델훈련"
      ]
    },
    {
      "cell_type": "code",
      "metadata": {
        "colab": {
          "base_uri": "https://localhost:8080/"
        },
        "id": "K3M8E_BI0EWr",
        "outputId": "520b288c-1d1b-481e-f670-8d7036a1d076"
      },
      "source": [
        "model.compile(optimizer='adam',\n",
        "              loss='binary_crossentropy',\n",
        "              metrics=['accuracy'])\n",
        "              \n",
        "epochs=10  # 몇 epoch를 훈련하면 좋을지 결과를 보면서 바꾸어 봅시다. \n",
        "\n",
        "history = model.fit(partial_X_train,\n",
        "                    partial_y_train,\n",
        "                    epochs=epochs,\n",
        "                    batch_size=512,\n",
        "                    validation_data=(X_val, y_val),\n",
        "                    verbose=1)"
      ],
      "execution_count": 50,
      "outputs": [
        {
          "output_type": "stream",
          "text": [
            "Epoch 1/10\n",
            "177/177 [==============================] - 8s 43ms/step - loss: 0.5505 - accuracy: 0.7019 - val_loss: 0.3782 - val_accuracy: 0.8354\n",
            "Epoch 2/10\n",
            "177/177 [==============================] - 7s 41ms/step - loss: 0.3453 - accuracy: 0.8528 - val_loss: 0.3532 - val_accuracy: 0.8469\n",
            "Epoch 3/10\n",
            "177/177 [==============================] - 7s 41ms/step - loss: 0.3048 - accuracy: 0.8740 - val_loss: 0.3526 - val_accuracy: 0.8471\n",
            "Epoch 4/10\n",
            "177/177 [==============================] - 7s 42ms/step - loss: 0.2764 - accuracy: 0.8885 - val_loss: 0.3562 - val_accuracy: 0.8484\n",
            "Epoch 5/10\n",
            "177/177 [==============================] - 7s 39ms/step - loss: 0.2479 - accuracy: 0.9025 - val_loss: 0.3665 - val_accuracy: 0.8476\n",
            "Epoch 6/10\n",
            "177/177 [==============================] - 7s 40ms/step - loss: 0.2173 - accuracy: 0.9174 - val_loss: 0.3880 - val_accuracy: 0.8421\n",
            "Epoch 7/10\n",
            "177/177 [==============================] - 8s 43ms/step - loss: 0.1846 - accuracy: 0.9331 - val_loss: 0.4140 - val_accuracy: 0.8386\n",
            "Epoch 8/10\n",
            "177/177 [==============================] - 8s 43ms/step - loss: 0.1544 - accuracy: 0.9462 - val_loss: 0.4553 - val_accuracy: 0.8358\n",
            "Epoch 9/10\n",
            "177/177 [==============================] - 7s 42ms/step - loss: 0.1272 - accuracy: 0.9577 - val_loss: 0.4970 - val_accuracy: 0.8298\n",
            "Epoch 10/10\n",
            "177/177 [==============================] - 7s 40ms/step - loss: 0.1043 - accuracy: 0.9667 - val_loss: 0.5477 - val_accuracy: 0.8251\n"
          ],
          "name": "stdout"
        }
      ]
    },
    {
      "cell_type": "markdown",
      "metadata": {
        "id": "Pg5ji0DY0jZd"
      },
      "source": [
        "Loss, Accuracy 그래프 시각화"
      ]
    },
    {
      "cell_type": "code",
      "metadata": {
        "colab": {
          "base_uri": "https://localhost:8080/"
        },
        "id": "Yn7MqYlJ0pzm",
        "outputId": "6171508a-64b4-48f3-f1f9-38ae27a786cd"
      },
      "source": [
        "history_dict = history.history\n",
        "print(history_dict.keys()) # epoch에 따른 그래프를 그려볼 수 있는 항목들"
      ],
      "execution_count": 51,
      "outputs": [
        {
          "output_type": "stream",
          "text": [
            "dict_keys(['loss', 'accuracy', 'val_loss', 'val_accuracy'])\n"
          ],
          "name": "stdout"
        }
      ]
    },
    {
      "cell_type": "code",
      "metadata": {
        "colab": {
          "base_uri": "https://localhost:8080/",
          "height": 294
        },
        "id": "EJTzQjMN0tDI",
        "outputId": "b3be3a7a-5fde-40a1-d960-66e04a057bfc"
      },
      "source": [
        "import matplotlib.pyplot as plt\n",
        "\n",
        "acc = history_dict['accuracy']\n",
        "val_acc = history_dict['val_accuracy']\n",
        "loss = history_dict['loss']\n",
        "val_loss = history_dict['val_loss']\n",
        "\n",
        "epochs = range(1, len(acc) + 1)\n",
        "\n",
        "# \"bo\"는 \"파란색 점\"입니다\n",
        "plt.plot(epochs, loss, 'bo', label='Training loss')\n",
        "# b는 \"파란 실선\"입니다\n",
        "plt.plot(epochs, val_loss, 'b', label='Validation loss')\n",
        "plt.title('Training and validation loss')\n",
        "plt.xlabel('Epochs')\n",
        "plt.ylabel('Loss')\n",
        "plt.legend()\n",
        "\n",
        "plt.show()"
      ],
      "execution_count": 52,
      "outputs": [
        {
          "output_type": "display_data",
          "data": {
            "image/png": "[encoded data removed]",
            "text/plain": [
              "<Figure size 432x288 with 1 Axes>"
            ]
          },
          "metadata": {
            "tags": [],
            "needs_background": "light"
          }
        }
      ]
    },
    {
      "cell_type": "code",
      "metadata": {
        "colab": {
          "base_uri": "https://localhost:8080/",
          "height": 294
        },
        "id": "-NnbOvim0wmh",
        "outputId": "639b90eb-e642-46e2-8f00-20b425110db0"
      },
      "source": [
        "plt.clf()   # 그림을 초기화합니다\n",
        "\n",
        "plt.plot(epochs, acc, 'bo', label='Training acc')\n",
        "plt.plot(epochs, val_acc, 'b', label='Validation acc')\n",
        "plt.title('Training and validation accuracy')\n",
        "plt.xlabel('Epochs')\n",
        "plt.ylabel('Accuracy')\n",
        "plt.legend()\n",
        "\n",
        "plt.show()"
      ],
      "execution_count": 53,
      "outputs": [
        {
          "output_type": "display_data",
          "data": {
            "image/png": "[encoded data removed]",
            "text/plain": [
              "<Figure size 432x288 with 1 Axes>"
            ]
          },
          "metadata": {
            "tags": [],
            "needs_background": "light"
          }
        }
      ]
    },
    {
      "cell_type": "markdown",
      "metadata": {
        "id": "t1wi3azO02Go"
      },
      "source": [
        "모델테스트"
      ]
    },
    {
      "cell_type": "code",
      "metadata": {
        "colab": {
          "base_uri": "https://localhost:8080/"
        },
        "id": "v78ILdM703Gp",
        "outputId": "6dd8c9c2-9bfb-4c46-835d-ee07f6b70ee7"
      },
      "source": [
        "results = model.evaluate(X_test,  y_test, verbose=2)\n",
        "\n",
        "print(results)"
      ],
      "execution_count": 54,
      "outputs": [
        {
          "output_type": "stream",
          "text": [
            "1537/1537 - 2s - loss: 0.5529 - accuracy: 0.8247\n",
            "[0.5528682470321655, 0.8247248530387878]\n"
          ],
          "name": "stdout"
        }
      ]
    },
    {
      "cell_type": "markdown",
      "metadata": {
        "id": "isW4TEa_v_Bl"
      },
      "source": [
        "## 3. GlobalMaxPooling1D()"
      ]
    },
    {
      "cell_type": "markdown",
      "metadata": {
        "id": "5tbhfDhCz63M"
      },
      "source": [
        "모델구성"
      ]
    },
    {
      "cell_type": "code",
      "metadata": {
        "colab": {
          "base_uri": "https://localhost:8080/"
        },
        "id": "gutMQ9BTzTvU",
        "outputId": "c9a4933b-3c18-49a7-f2ba-f827b1e0ed2d"
      },
      "source": [
        "vocab_size = 56000  # 어휘 사전의 크기입니다\n",
        "word_vector_dim = 16   # 단어 하나를 표현하는 임베딩 벡터의 차원 수입니다. \n",
        "\n",
        "model = keras.Sequential()\n",
        "model.add(keras.layers.Embedding(vocab_size, word_vector_dim, input_shape=(None,)))\n",
        "model.add(keras.layers.GlobalMaxPooling1D())\n",
        "model.add(keras.layers.Dense(8, activation='relu'))\n",
        "model.add(keras.layers.Dense(1, activation='sigmoid'))  # 최종 출력은 긍정/부정을 나타내는 1dim 입니다.\n",
        "\n",
        "model.summary()"
      ],
      "execution_count": 55,
      "outputs": [
        {
          "output_type": "stream",
          "text": [
            "Model: \"sequential_4\"\n",
            "_________________________________________________________________\n",
            "Layer (type)                 Output Shape              Param #   \n",
            "=================================================================\n",
            "embedding_4 (Embedding)      (None, None, 16)          896000    \n",
            "_________________________________________________________________\n",
            "global_max_pooling1d_3 (Glob (None, 16)                0         \n",
            "_________________________________________________________________\n",
            "dense_8 (Dense)              (None, 8)                 136       \n",
            "_________________________________________________________________\n",
            "dense_9 (Dense)              (None, 1)                 9         \n",
            "=================================================================\n",
            "Total params: 896,145\n",
            "Trainable params: 896,145\n",
            "Non-trainable params: 0\n",
            "_________________________________________________________________\n"
          ],
          "name": "stdout"
        }
      ]
    },
    {
      "cell_type": "markdown",
      "metadata": {
        "id": "k3tOYiqmz-WG"
      },
      "source": [
        "모델훈련"
      ]
    },
    {
      "cell_type": "code",
      "metadata": {
        "colab": {
          "base_uri": "https://localhost:8080/"
        },
        "id": "EHEIl8IP1Ffs",
        "outputId": "7d2e231d-a8b3-4685-d062-b717fc7bb4f8"
      },
      "source": [
        "model.compile(optimizer='adam',\n",
        "              loss='binary_crossentropy',\n",
        "              metrics=['accuracy'])\n",
        "              \n",
        "epochs=10  # 몇 epoch를 훈련하면 좋을지 결과를 보면서 바꾸어 봅시다. \n",
        "\n",
        "history = model.fit(partial_X_train,\n",
        "                    partial_y_train,\n",
        "                    epochs=epochs,\n",
        "                    batch_size=512,\n",
        "                    validation_data=(X_val, y_val),\n",
        "                    verbose=1)"
      ],
      "execution_count": 56,
      "outputs": [
        {
          "output_type": "stream",
          "text": [
            "Epoch 1/10\n",
            "177/177 [==============================] - 5s 19ms/step - loss: 0.6321 - accuracy: 0.7245 - val_loss: 0.5030 - val_accuracy: 0.8073\n",
            "Epoch 2/10\n",
            "177/177 [==============================] - 3s 17ms/step - loss: 0.4160 - accuracy: 0.8297 - val_loss: 0.3816 - val_accuracy: 0.8324\n",
            "Epoch 3/10\n",
            "177/177 [==============================] - 3s 18ms/step - loss: 0.3441 - accuracy: 0.8539 - val_loss: 0.3626 - val_accuracy: 0.8387\n",
            "Epoch 4/10\n",
            "177/177 [==============================] - 3s 18ms/step - loss: 0.3105 - accuracy: 0.8702 - val_loss: 0.3585 - val_accuracy: 0.8424\n",
            "Epoch 5/10\n",
            "177/177 [==============================] - 3s 18ms/step - loss: 0.2863 - accuracy: 0.8822 - val_loss: 0.3607 - val_accuracy: 0.8426\n",
            "Epoch 6/10\n",
            "177/177 [==============================] - 3s 17ms/step - loss: 0.2666 - accuracy: 0.8923 - val_loss: 0.3666 - val_accuracy: 0.8426\n",
            "Epoch 7/10\n",
            "177/177 [==============================] - 3s 18ms/step - loss: 0.2500 - accuracy: 0.9004 - val_loss: 0.3739 - val_accuracy: 0.8416\n",
            "Epoch 8/10\n",
            "177/177 [==============================] - 3s 18ms/step - loss: 0.2353 - accuracy: 0.9076 - val_loss: 0.3833 - val_accuracy: 0.8405\n",
            "Epoch 9/10\n",
            "177/177 [==============================] - 3s 17ms/step - loss: 0.2221 - accuracy: 0.9136 - val_loss: 0.3940 - val_accuracy: 0.8397\n",
            "Epoch 10/10\n",
            "177/177 [==============================] - 3s 17ms/step - loss: 0.2104 - accuracy: 0.9198 - val_loss: 0.4056 - val_accuracy: 0.8384\n"
          ],
          "name": "stdout"
        }
      ]
    },
    {
      "cell_type": "markdown",
      "metadata": {
        "id": "FNDj1iR31PSM"
      },
      "source": [
        "Loss, Accuracy 그래프 시각화"
      ]
    },
    {
      "cell_type": "code",
      "metadata": {
        "colab": {
          "base_uri": "https://localhost:8080/"
        },
        "id": "8nMG0dR91S3E",
        "outputId": "5f6c79d1-9a36-4298-de89-fe9b211937b4"
      },
      "source": [
        "history_dict = history.history\n",
        "print(history_dict.keys()) # epoch에 따른 그래프를 그려볼 수 있는 항목들"
      ],
      "execution_count": 57,
      "outputs": [
        {
          "output_type": "stream",
          "text": [
            "dict_keys(['loss', 'accuracy', 'val_loss', 'val_accuracy'])\n"
          ],
          "name": "stdout"
        }
      ]
    },
    {
      "cell_type": "code",
      "metadata": {
        "colab": {
          "base_uri": "https://localhost:8080/",
          "height": 294
        },
        "id": "e4xmrAIi1VFn",
        "outputId": "6423a9c4-9027-4c39-bd65-192b384f5fbf"
      },
      "source": [
        "import matplotlib.pyplot as plt\n",
        "\n",
        "acc = history_dict['accuracy']\n",
        "val_acc = history_dict['val_accuracy']\n",
        "loss = history_dict['loss']\n",
        "val_loss = history_dict['val_loss']\n",
        "\n",
        "epochs = range(1, len(acc) + 1)\n",
        "\n",
        "# \"bo\"는 \"파란색 점\"입니다\n",
        "plt.plot(epochs, loss, 'bo', label='Training loss')\n",
        "# b는 \"파란 실선\"입니다\n",
        "plt.plot(epochs, val_loss, 'b', label='Validation loss')\n",
        "plt.title('Training and validation loss')\n",
        "plt.xlabel('Epochs')\n",
        "plt.ylabel('Loss')\n",
        "plt.legend()\n",
        "\n",
        "plt.show()"
      ],
      "execution_count": 58,
      "outputs": [
        {
          "output_type": "display_data",
          "data": {
            "image/png": "[encoded data removed]",
            "text/plain": [
              "<Figure size 432x288 with 1 Axes>"
            ]
          },
          "metadata": {
            "tags": [],
            "needs_background": "light"
          }
        }
      ]
    },
    {
      "cell_type": "code",
      "metadata": {
        "colab": {
          "base_uri": "https://localhost:8080/",
          "height": 294
        },
        "id": "nWn1SzlB1W6t",
        "outputId": "27c31601-dcf5-4a76-b173-177c56cc59b1"
      },
      "source": [
        "plt.clf()   # 그림을 초기화합니다\n",
        "\n",
        "plt.plot(epochs, acc, 'bo', label='Training acc')\n",
        "plt.plot(epochs, val_acc, 'b', label='Validation acc')\n",
        "plt.title('Training and validation accuracy')\n",
        "plt.xlabel('Epochs')\n",
        "plt.ylabel('Accuracy')\n",
        "plt.legend()\n",
        "\n",
        "plt.show()"
      ],
      "execution_count": 59,
      "outputs": [
        {
          "output_type": "display_data",
          "data": {
            "image/png": "[encoded data removed]",
            "text/plain": [
              "<Figure size 432x288 with 1 Axes>"
            ]
          },
          "metadata": {
            "tags": [],
            "needs_background": "light"
          }
        }
      ]
    },
    {
      "cell_type": "markdown",
      "metadata": {
        "id": "LqVKd0usCb3A"
      },
      "source": [
        "모델테스트"
      ]
    },
    {
      "cell_type": "code",
      "metadata": {
        "colab": {
          "base_uri": "https://localhost:8080/"
        },
        "id": "Ad_jeQUe1Z0m",
        "outputId": "b365076c-b435-455d-d7b4-62b228f02251"
      },
      "source": [
        "results = model.evaluate(X_test,  y_test, verbose=2)\n",
        "\n",
        "print(results)"
      ],
      "execution_count": 60,
      "outputs": [
        {
          "output_type": "stream",
          "text": [
            "1537/1537 - 1s - loss: 0.4140 - accuracy: 0.8357\n",
            "[0.4139859676361084, 0.8356897234916687]\n"
          ],
          "name": "stdout"
        }
      ]
    },
    {
      "cell_type": "markdown",
      "metadata": {
        "id": "kVqq6Hyb2j6p"
      },
      "source": [
        "##4.Word Embedding(Word2Vec)"
      ]
    },
    {
      "cell_type": "markdown",
      "metadata": {
        "id": "V9nQuppj6q5K"
      },
      "source": [
        "비용 절감과 정확도를 향상시킬 수 있는 자연어처리 기법 (단어의 특성을 저차원 벡터값으로 표현)"
      ]
    },
    {
      "cell_type": "code",
      "metadata": {
        "colab": {
          "base_uri": "https://localhost:8080/"
        },
        "id": "LXQvvHPO9Kyl",
        "outputId": "25cd7f21-bec0-4ab6-8fd1-4c923c699e42"
      },
      "source": [
        "from gensim.models import KeyedVectors\n",
        "word2vec_path = '/content/drive/MyDrive/Colab Notebooks/Naver text DATA/GoogleNews-vectors-negative300.bin.gz'\n",
        "word2vec = KeyedVectors.load_word2vec_format(word2vec_path, binary=True, limit=1000000)\n",
        "vector = word2vec['computer']\n",
        "vector     # 무려 300dim의 워드 벡터입니다."
      ],
      "execution_count": 65,
      "outputs": [
        {
          "output_type": "execute_result",
          "data": {
            "text/plain": [
              "array([ 1.07421875e-01, -2.01171875e-01,  1.23046875e-01,  2.11914062e-01,\n",
              "       -9.13085938e-02,  2.16796875e-01, -1.31835938e-01,  8.30078125e-02,\n",
              "        2.02148438e-01,  4.78515625e-02,  3.66210938e-02, -2.45361328e-02,\n",
              "        2.39257812e-02, -1.60156250e-01, -2.61230469e-02,  9.71679688e-02,\n",
              "       -6.34765625e-02,  1.84570312e-01,  1.70898438e-01, -1.63085938e-01,\n",
              "       -1.09375000e-01,  1.49414062e-01, -4.65393066e-04,  9.61914062e-02,\n",
              "        1.68945312e-01,  2.60925293e-03,  8.93554688e-02,  6.49414062e-02,\n",
              "        3.56445312e-02, -6.93359375e-02, -1.46484375e-01, -1.21093750e-01,\n",
              "       -2.27539062e-01,  2.45361328e-02, -1.24511719e-01, -3.18359375e-01,\n",
              "       -2.20703125e-01,  1.30859375e-01,  3.66210938e-02, -3.63769531e-02,\n",
              "       -1.13281250e-01,  1.95312500e-01,  9.76562500e-02,  1.26953125e-01,\n",
              "        6.59179688e-02,  6.93359375e-02,  1.02539062e-02,  1.75781250e-01,\n",
              "       -1.68945312e-01,  1.21307373e-03, -2.98828125e-01, -1.15234375e-01,\n",
              "        5.66406250e-02, -1.77734375e-01, -2.08984375e-01,  1.76757812e-01,\n",
              "        2.38037109e-02, -2.57812500e-01, -4.46777344e-02,  1.88476562e-01,\n",
              "        5.51757812e-02,  5.02929688e-02, -1.06933594e-01,  1.89453125e-01,\n",
              "       -1.16210938e-01,  8.49609375e-02, -1.71875000e-01,  2.45117188e-01,\n",
              "       -1.73828125e-01, -8.30078125e-03,  4.56542969e-02, -1.61132812e-02,\n",
              "        1.86523438e-01, -6.05468750e-02, -4.17480469e-02,  1.82617188e-01,\n",
              "        2.20703125e-01, -1.22558594e-01, -2.55126953e-02, -3.08593750e-01,\n",
              "        9.13085938e-02,  1.60156250e-01,  1.70898438e-01,  1.19628906e-01,\n",
              "        7.08007812e-02, -2.64892578e-02, -3.08837891e-02,  4.06250000e-01,\n",
              "       -1.01562500e-01,  5.71289062e-02, -7.26318359e-03, -9.17968750e-02,\n",
              "       -1.50390625e-01, -2.55859375e-01,  2.16796875e-01, -3.63769531e-02,\n",
              "        2.24609375e-01,  8.00781250e-02,  1.56250000e-01,  5.27343750e-02,\n",
              "        1.50390625e-01, -1.14746094e-01, -8.64257812e-02,  1.19140625e-01,\n",
              "       -7.17773438e-02,  2.73437500e-01, -1.64062500e-01,  7.29370117e-03,\n",
              "        4.21875000e-01, -1.12792969e-01, -1.35742188e-01, -1.31835938e-01,\n",
              "       -1.37695312e-01, -7.66601562e-02,  6.25000000e-02,  4.98046875e-02,\n",
              "       -1.91406250e-01, -6.03027344e-02,  2.27539062e-01,  5.88378906e-02,\n",
              "       -3.24218750e-01,  5.41992188e-02, -1.35742188e-01,  8.17871094e-03,\n",
              "       -5.24902344e-02, -1.74713135e-03, -9.81445312e-02, -2.86865234e-02,\n",
              "        3.61328125e-02,  2.15820312e-01,  5.98144531e-02, -3.08593750e-01,\n",
              "       -2.27539062e-01,  2.61718750e-01,  9.86328125e-02, -5.07812500e-02,\n",
              "        1.78222656e-02,  1.31835938e-01, -5.35156250e-01, -1.81640625e-01,\n",
              "        1.38671875e-01, -3.10546875e-01, -9.71679688e-02,  1.31835938e-01,\n",
              "       -1.16210938e-01,  7.03125000e-02,  2.85156250e-01,  3.51562500e-02,\n",
              "       -1.01562500e-01, -3.75976562e-02,  1.41601562e-01,  1.42578125e-01,\n",
              "       -5.68847656e-02,  2.65625000e-01, -2.09960938e-01,  9.64355469e-03,\n",
              "       -6.68945312e-02, -4.83398438e-02, -6.10351562e-02,  2.45117188e-01,\n",
              "       -9.66796875e-02,  1.78222656e-02, -1.27929688e-01, -4.78515625e-02,\n",
              "       -7.26318359e-03,  1.79687500e-01,  2.78320312e-02, -2.10937500e-01,\n",
              "       -1.43554688e-01, -1.27929688e-01,  1.73339844e-02, -3.60107422e-03,\n",
              "       -2.04101562e-01,  3.63159180e-03, -1.19628906e-01, -6.15234375e-02,\n",
              "        5.93261719e-02, -3.23486328e-03, -1.70898438e-01, -3.14941406e-02,\n",
              "       -8.88671875e-02, -2.89062500e-01,  3.44238281e-02, -1.87500000e-01,\n",
              "        2.94921875e-01,  1.58203125e-01, -1.19628906e-01,  7.61718750e-02,\n",
              "        6.39648438e-02, -4.68750000e-02, -6.83593750e-02,  1.21459961e-02,\n",
              "       -1.44531250e-01,  4.54101562e-02,  3.68652344e-02,  3.88671875e-01,\n",
              "        1.45507812e-01, -2.55859375e-01, -4.46777344e-02, -1.33789062e-01,\n",
              "       -1.38671875e-01,  6.59179688e-02,  1.37695312e-01,  1.14746094e-01,\n",
              "        2.03125000e-01, -4.78515625e-02,  1.80664062e-02, -8.54492188e-02,\n",
              "       -2.48046875e-01, -3.39843750e-01, -2.83203125e-02,  1.05468750e-01,\n",
              "       -2.14843750e-01, -8.74023438e-02,  7.12890625e-02,  1.87500000e-01,\n",
              "       -1.12304688e-01,  2.73437500e-01, -3.26171875e-01, -1.77734375e-01,\n",
              "       -4.24804688e-02, -2.69531250e-01,  6.64062500e-02, -6.88476562e-02,\n",
              "       -1.99218750e-01, -7.03125000e-02, -2.43164062e-01, -3.66210938e-02,\n",
              "       -7.37304688e-02, -1.77734375e-01,  9.17968750e-02, -1.25000000e-01,\n",
              "       -1.65039062e-01, -3.57421875e-01, -2.85156250e-01, -1.66992188e-01,\n",
              "        1.97265625e-01, -1.53320312e-01,  2.31933594e-02,  2.06054688e-01,\n",
              "        1.80664062e-01, -2.74658203e-02, -1.92382812e-01, -9.61914062e-02,\n",
              "       -1.06811523e-02, -4.73632812e-02,  6.54296875e-02, -1.25732422e-02,\n",
              "        1.78222656e-02, -8.00781250e-02, -2.59765625e-01,  9.37500000e-02,\n",
              "       -7.81250000e-02,  4.68750000e-02, -2.22167969e-02,  1.86767578e-02,\n",
              "        3.11279297e-02,  1.04980469e-02, -1.69921875e-01,  2.58789062e-02,\n",
              "       -3.41796875e-02, -1.44042969e-02, -5.46875000e-02, -8.78906250e-02,\n",
              "        1.96838379e-03,  2.23632812e-01, -1.36718750e-01,  1.75781250e-01,\n",
              "       -1.63085938e-01,  1.87500000e-01,  3.44238281e-02, -5.63964844e-02,\n",
              "       -2.27689743e-05,  4.27246094e-02,  5.81054688e-02, -1.07910156e-01,\n",
              "       -3.88183594e-02, -2.69531250e-01,  3.34472656e-02,  9.81445312e-02,\n",
              "        5.63964844e-02,  2.23632812e-01, -5.49316406e-02,  1.46484375e-01,\n",
              "        5.93261719e-02, -2.19726562e-01,  6.39648438e-02,  1.66015625e-02,\n",
              "        4.56542969e-02,  3.26171875e-01, -3.80859375e-01,  1.70898438e-01,\n",
              "        5.66406250e-02, -1.04492188e-01,  1.38671875e-01, -1.57226562e-01,\n",
              "        3.23486328e-03, -4.80957031e-02, -2.48046875e-01, -6.20117188e-02],\n",
              "      dtype=float32)"
            ]
          },
          "metadata": {
            "tags": []
          },
          "execution_count": 65
        }
      ]
    },
    {
      "cell_type": "code",
      "metadata": {
        "id": "EP_Ibhei-35P"
      },
      "source": [
        "vocab_size = 10000    # 어휘 사전의 크기입니다(10,000개의 단어)\n",
        "word_vector_dim = 300  # 워드 벡터의 차원수\n",
        "embedding_matrix = np.random.rand(vocab_size, word_vector_dim)\n",
        "\n",
        "# embedding_matrix에 Word2Vec 워드 벡터를 단어 하나씩마다 차례차례 카피한다.\n",
        "for i in range(4,vocab_size):\n",
        "    if index_to_word[i] in word2vec:\n",
        "        embedding_matrix[i] = word2vec[index_to_word[i]]"
      ],
      "execution_count": 67,
      "outputs": []
    },
    {
      "cell_type": "markdown",
      "metadata": {
        "id": "L3nJY4s-CUT1"
      },
      "source": [
        "모델구성"
      ]
    },
    {
      "cell_type": "code",
      "metadata": {
        "colab": {
          "base_uri": "https://localhost:8080/"
        },
        "id": "7yPJdUqV-_0A",
        "outputId": "645fb233-bb7b-49b2-82f5-d57da5d87010"
      },
      "source": [
        "from tensorflow.keras.initializers import Constant\n",
        "\n",
        "vocab_size = 10000    # 어휘 사전의 크기입니다(10,000개의 단어)\n",
        "word_vector_dim = 300  # 워드 벡터의 차원 수 \n",
        "\n",
        "model = keras.Sequential()\n",
        "model.add(keras.layers.Embedding(vocab_size, \n",
        "                                 word_vector_dim, \n",
        "                                 embeddings_initializer=Constant(embedding_matrix),  # 카피한 임베딩을 여기서 활용\n",
        "                                 input_length=maxlen, \n",
        "                                 trainable=True))   # trainable을 True로 주면 Fine-tuning\n",
        "model.add(keras.layers.Conv1D(16, 7, activation='relu'))\n",
        "model.add(keras.layers.MaxPooling1D(5))\n",
        "model.add(keras.layers.Conv1D(16, 7, activation='relu'))\n",
        "model.add(keras.layers.GlobalMaxPooling1D())\n",
        "model.add(keras.layers.Dense(8, activation='relu'))\n",
        "model.add(keras.layers.Dense(1, activation='sigmoid')) \n",
        "\n",
        "model.summary()"
      ],
      "execution_count": 68,
      "outputs": [
        {
          "output_type": "stream",
          "text": [
            "Model: \"sequential_5\"\n",
            "_________________________________________________________________\n",
            "Layer (type)                 Output Shape              Param #   \n",
            "=================================================================\n",
            "embedding_7 (Embedding)      (None, 41, 300)           3000000   \n",
            "_________________________________________________________________\n",
            "conv1d_4 (Conv1D)            (None, 35, 16)            33616     \n",
            "_________________________________________________________________\n",
            "max_pooling1d_2 (MaxPooling1 (None, 7, 16)             0         \n",
            "_________________________________________________________________\n",
            "conv1d_5 (Conv1D)            (None, 1, 16)             1808      \n",
            "_________________________________________________________________\n",
            "global_max_pooling1d_4 (Glob (None, 16)                0         \n",
            "_________________________________________________________________\n",
            "dense_10 (Dense)             (None, 8)                 136       \n",
            "_________________________________________________________________\n",
            "dense_11 (Dense)             (None, 1)                 9         \n",
            "=================================================================\n",
            "Total params: 3,035,569\n",
            "Trainable params: 3,035,569\n",
            "Non-trainable params: 0\n",
            "_________________________________________________________________\n"
          ],
          "name": "stdout"
        }
      ]
    },
    {
      "cell_type": "markdown",
      "metadata": {
        "id": "Kalol45SCX66"
      },
      "source": [
        "모델학습"
      ]
    },
    {
      "cell_type": "code",
      "metadata": {
        "colab": {
          "base_uri": "https://localhost:8080/"
        },
        "id": "5E9w7-O9_IzL",
        "outputId": "3313fbac-f18d-4a1c-917f-6f0b13186669"
      },
      "source": [
        "model.compile(optimizer='adam',\n",
        "              loss='binary_crossentropy',\n",
        "              metrics=['accuracy'])\n",
        "              \n",
        "epochs=10  # 몇 epoch를 훈련하면 좋을지 결과를 보면서 바꾸어 봅시다. \n",
        "\n",
        "history = model.fit(partial_X_train,\n",
        "                    partial_y_train,\n",
        "                    epochs=epochs,\n",
        "                    batch_size=512,\n",
        "                    validation_data=(X_val, y_val),\n",
        "                    verbose=1)"
      ],
      "execution_count": 71,
      "outputs": [
        {
          "output_type": "stream",
          "text": [
            "Epoch 1/10\n",
            "177/177 [==============================] - 56s 313ms/step - loss: 0.5916 - accuracy: 0.6756 - val_loss: 0.4374 - val_accuracy: 0.8022\n",
            "Epoch 2/10\n",
            "177/177 [==============================] - 55s 312ms/step - loss: 0.3947 - accuracy: 0.8263 - val_loss: 0.3718 - val_accuracy: 0.8352\n",
            "Epoch 3/10\n",
            "177/177 [==============================] - 55s 310ms/step - loss: 0.3373 - accuracy: 0.8564 - val_loss: 0.3621 - val_accuracy: 0.8417\n",
            "Epoch 4/10\n",
            "177/177 [==============================] - 56s 315ms/step - loss: 0.3051 - accuracy: 0.8728 - val_loss: 0.3604 - val_accuracy: 0.8437\n",
            "Epoch 5/10\n",
            "177/177 [==============================] - 57s 320ms/step - loss: 0.2782 - accuracy: 0.8874 - val_loss: 0.3703 - val_accuracy: 0.8421\n",
            "Epoch 6/10\n",
            "177/177 [==============================] - 57s 320ms/step - loss: 0.2582 - accuracy: 0.8956 - val_loss: 0.4391 - val_accuracy: 0.8131\n",
            "Epoch 7/10\n",
            "177/177 [==============================] - 56s 318ms/step - loss: 0.2394 - accuracy: 0.9045 - val_loss: 0.4132 - val_accuracy: 0.8293\n",
            "Epoch 8/10\n",
            "177/177 [==============================] - 57s 325ms/step - loss: 0.2085 - accuracy: 0.9214 - val_loss: 0.4897 - val_accuracy: 0.8080\n",
            "Epoch 9/10\n",
            "177/177 [==============================] - 58s 326ms/step - loss: 0.1884 - accuracy: 0.9309 - val_loss: 0.4356 - val_accuracy: 0.8301\n",
            "Epoch 10/10\n",
            "177/177 [==============================] - 60s 337ms/step - loss: 0.1640 - accuracy: 0.9408 - val_loss: 0.4574 - val_accuracy: 0.8280\n"
          ],
          "name": "stdout"
        }
      ]
    },
    {
      "cell_type": "markdown",
      "metadata": {
        "id": "fxEGtrkLCmgD"
      },
      "source": [
        "Loss, Accuracy 그래프 시각화"
      ]
    },
    {
      "cell_type": "code",
      "metadata": {
        "colab": {
          "base_uri": "https://localhost:8080/"
        },
        "id": "r_H8QzqzCnO4",
        "outputId": "c51237d8-4180-4e92-f338-802160e00c5d"
      },
      "source": [
        "history_dict = history.history\n",
        "print(history_dict.keys()) # epoch에 따른 그래프를 그려볼 수 있는 항목들"
      ],
      "execution_count": 73,
      "outputs": [
        {
          "output_type": "stream",
          "text": [
            "dict_keys(['loss', 'accuracy', 'val_loss', 'val_accuracy'])\n"
          ],
          "name": "stdout"
        }
      ]
    },
    {
      "cell_type": "code",
      "metadata": {
        "colab": {
          "base_uri": "https://localhost:8080/",
          "height": 294
        },
        "id": "dyuRAOm0Ct9r",
        "outputId": "f3ac93f2-3f9a-42af-b2c8-9a8806fa5b4e"
      },
      "source": [
        "import matplotlib.pyplot as plt\n",
        "\n",
        "acc = history_dict['accuracy']\n",
        "val_acc = history_dict['val_accuracy']\n",
        "loss = history_dict['loss']\n",
        "val_loss = history_dict['val_loss']\n",
        "\n",
        "epochs = range(1, len(acc) + 1)\n",
        "\n",
        "# \"bo\"는 \"파란색 점\"입니다\n",
        "plt.plot(epochs, loss, 'bo', label='Training loss')\n",
        "# b는 \"파란 실선\"입니다\n",
        "plt.plot(epochs, val_loss, 'b', label='Validation loss')\n",
        "plt.title('Training and validation loss')\n",
        "plt.xlabel('Epochs')\n",
        "plt.ylabel('Loss')\n",
        "plt.legend()\n",
        "\n",
        "plt.show()"
      ],
      "execution_count": 74,
      "outputs": [
        {
          "output_type": "display_data",
          "data": {
            "image/png": "[encoded data removed]",
            "text/plain": [
              "<Figure size 432x288 with 1 Axes>"
            ]
          },
          "metadata": {
            "tags": [],
            "needs_background": "light"
          }
        }
      ]
    },
    {
      "cell_type": "code",
      "metadata": {
        "colab": {
          "base_uri": "https://localhost:8080/",
          "height": 294
        },
        "id": "F-JKnYwaCwci",
        "outputId": "d7280cdc-08ae-4e6c-b48e-6652c3f05f53"
      },
      "source": [
        "plt.clf()   # 그림을 초기화합니다\n",
        "\n",
        "plt.plot(epochs, acc, 'bo', label='Training acc')\n",
        "plt.plot(epochs, val_acc, 'b', label='Validation acc')\n",
        "plt.title('Training and validation accuracy')\n",
        "plt.xlabel('Epochs')\n",
        "plt.ylabel('Accuracy')\n",
        "plt.legend()\n",
        "\n",
        "plt.show()"
      ],
      "execution_count": 75,
      "outputs": [
        {
          "output_type": "display_data",
          "data": {
            "image/png": "[encoded data removed]",
            "text/plain": [
              "<Figure size 432x288 with 1 Axes>"
            ]
          },
          "metadata": {
            "tags": [],
            "needs_background": "light"
          }
        }
      ]
    },
    {
      "cell_type": "markdown",
      "metadata": {
        "id": "CcI-wfTWCg-h"
      },
      "source": [
        "모델테스트"
      ]
    },
    {
      "cell_type": "code",
      "metadata": {
        "colab": {
          "base_uri": "https://localhost:8080/"
        },
        "id": "KQlQFw8p-0sb",
        "outputId": "48998e58-ead2-45dd-96e0-760205976068"
      },
      "source": [
        "results = model.evaluate(X_test,  y_test, verbose=2)\n",
        "\n",
        "print(results)"
      ],
      "execution_count": 72,
      "outputs": [
        {
          "output_type": "stream",
          "text": [
            "1537/1537 - 8s - loss: 0.4689 - accuracy: 0.8256\n",
            "[0.4689459502696991, 0.8255996108055115]\n"
          ],
          "name": "stdout"
        }
      ]
    },
    {
      "cell_type": "markdown",
      "metadata": {
        "id": "MJv1kB9_4AgE"
      },
      "source": [
        "\n",
        "\n",
        "---\n",
        "\n"
      ]
    },
    {
      "cell_type": "markdown",
      "metadata": {
        "id": "fKvOl-s-4BUt"
      },
      "source": [
        "#학습된 Embedding 레이어 분석"
      ]
    },
    {
      "cell_type": "code",
      "metadata": {
        "colab": {
          "base_uri": "https://localhost:8080/"
        },
        "id": "XPmVs8C_DC2i",
        "outputId": "9ba4a60f-d0af-4735-8af7-5f73bf5f50da"
      },
      "source": [
        "embedding_layer = model.layers[0]\n",
        "weights = embedding_layer.get_weights()[0]\n",
        "print(weights.shape)    # shape: (vocab_size, embedding_dim)"
      ],
      "execution_count": 76,
      "outputs": [
        {
          "output_type": "stream",
          "text": [
            "(10000, 300)\n"
          ],
          "name": "stdout"
        }
      ]
    },
    {
      "cell_type": "code",
      "metadata": {
        "id": "Fq_deOduDNJh"
      },
      "source": [
        "import os\n",
        "\n",
        "# 학습한 Embedding 파라미터를 파일에 써서 저장합니다. \n",
        "word2vec_file_path = '/content/drive/MyDrive/Colab Notebooks/Naver text DATA/word2vec.txt'\n",
        "f = open(word2vec_file_path, 'w')\n",
        "f.write('{} {}\\n'.format(vocab_size-4, word_vector_dim))  # 몇개의 벡터를 얼마 사이즈로 기재할지 타이틀을 씁니다.\n",
        "\n",
        "# 단어 개수(에서 특수문자 4개는 제외하고)만큼의 워드 벡터를 파일에 기록합니다. \n",
        "vectors = model.get_weights()[0]\n",
        "for i in range(4,vocab_size):\n",
        "    f.write('{} {}\\n'.format(index_to_word[i], ' '.join(map(str, list(vectors[i, :])))))\n",
        "f.close()"
      ],
      "execution_count": 78,
      "outputs": []
    },
    {
      "cell_type": "code",
      "metadata": {
        "colab": {
          "base_uri": "https://localhost:8080/"
        },
        "id": "KA5-x0rLD3U5",
        "outputId": "3267b2f1-ee95-4d99-c782-8da3f8b7f8e8"
      },
      "source": [
        "from gensim.models.keyedvectors import Word2VecKeyedVectors\n",
        "\n",
        "word_vectors = Word2VecKeyedVectors.load_word2vec_format(word2vec_file_path, binary=False)\n",
        "word_vectors.similar_by_word(\"love\")"
      ],
      "execution_count": 80,
      "outputs": [
        {
          "output_type": "execute_result",
          "data": {
            "text/plain": [
              "[('great', 0.6980192065238953),\n",
              " ('good', 0.6931933164596558),\n",
              " ('Good', 0.6513140797615051),\n",
              " ('♥', 0.6442612409591675),\n",
              " ('very', 0.5991372466087341),\n",
              " ('we', 0.5851877331733704),\n",
              " ('best', 0.5766173601150513),\n",
              " ('top', 0.5400000810623169),\n",
              " ('I', 0.517726480960846),\n",
              " ('^_^', 0.5030524730682373)]"
            ]
          },
          "metadata": {
            "tags": []
          },
          "execution_count": 80
        }
      ]
    },
    {
      "cell_type": "markdown",
      "metadata": {
        "id": "rgbv3QDP4Hzr"
      },
      "source": [
        "\n",
        "\n",
        "---\n",
        "\n"
      ]
    },
    {
      "cell_type": "markdown",
      "metadata": {
        "id": "vJ4spE4L4Iv9"
      },
      "source": [
        "#한국어 Word2Vec 임베딩 활용하여 성능개선"
      ]
    },
    {
      "cell_type": "code",
      "metadata": {
        "colab": {
          "base_uri": "https://localhost:8080/"
        },
        "id": "Dbsa4qY3GNVA",
        "outputId": "26a0f49b-ce25-4955-8dd0-7b263bf37c35"
      },
      "source": [
        "import gensim\n",
        "from gensim.models import KeyedVectors\n",
        "word2vec_path = '/content/drive/MyDrive/Colab Notebooks/Naver text DATA/ko.bin'\n",
        "word2vec = gensim.models.Word2Vec.load(word2vec_path)\n",
        "vector = word2vec['강아지']\n",
        "vector"
      ],
      "execution_count": 81,
      "outputs": [
        {
          "output_type": "stream",
          "text": [
            "/usr/local/lib/python3.7/dist-packages/ipykernel_launcher.py:5: DeprecationWarning: Call to deprecated `__getitem__` (Method will be removed in 4.0.0, use self.wv.__getitem__() instead).\n",
            "  \"\"\"\n"
          ],
          "name": "stderr"
        },
        {
          "output_type": "execute_result",
          "data": {
            "text/plain": [
              "array([ 0.28099054, -0.19049376,  0.31788886, -0.29404902, -0.6012117 ,\n",
              "       -0.25619242,  0.0061479 ,  0.51780385,  0.3608627 , -0.27890292,\n",
              "        0.3753059 ,  0.45682365,  0.25841945,  0.29509434,  0.31509322,\n",
              "        0.53255475, -0.3150408 ,  0.28672394,  0.32292762, -0.11534653,\n",
              "        0.24962434, -0.31804952,  0.02379435,  0.34782323, -0.5428502 ,\n",
              "       -0.31428298,  0.81061304,  0.7245631 ,  0.04309795, -1.0204421 ,\n",
              "        0.10398801,  0.2138965 ,  0.10057439, -0.03146021,  0.0894748 ,\n",
              "       -0.40986905,  0.11873247,  0.2684793 , -0.6372648 ,  0.36586553,\n",
              "       -0.15963972,  0.3209763 , -0.6995127 , -1.1059827 ,  0.37646636,\n",
              "       -0.82615834,  0.12098166, -0.04935855, -0.5623957 ,  0.1068015 ,\n",
              "        0.2640723 ,  0.6015352 ,  0.31571352, -0.37577182, -0.5941042 ,\n",
              "        0.1046523 , -0.16794747,  0.36965755,  0.18888052, -0.18799411,\n",
              "        0.13297085,  0.13900231, -0.25006363, -0.7406368 ,  0.1037019 ,\n",
              "       -0.18334036, -0.17581826,  0.08528292, -0.07013045,  0.4557973 ,\n",
              "        0.37055275, -0.22271334,  0.09749056,  0.10634632,  0.18990633,\n",
              "       -0.09005074, -0.22670963,  0.75300676,  0.13844779, -0.41718212,\n",
              "        0.6000683 , -0.30188912,  0.26127213, -0.3209932 , -0.5287037 ,\n",
              "       -0.1133441 ,  0.08414213, -0.39975765, -0.7438005 ,  0.10611001,\n",
              "       -0.03223223, -0.65717345, -0.39624402, -0.4745818 ,  0.0611662 ,\n",
              "        0.57635117,  0.5629448 ,  0.05996709,  0.57418245,  0.2593086 ,\n",
              "       -0.1843771 ,  0.14862894,  0.03104451, -0.5595105 , -0.3311095 ,\n",
              "       -0.25353086,  0.1952255 , -0.7322556 , -0.1989108 ,  0.01353099,\n",
              "        0.3498427 ,  0.07084652, -0.24956252, -0.42642623, -0.30416694,\n",
              "       -0.05685856, -0.4886381 , -0.17410545,  0.02824506,  0.14894816,\n",
              "        0.05410662,  0.17372012, -0.24593355, -0.6957402 , -0.21098216,\n",
              "        0.17299318, -0.5482991 ,  0.07412893,  0.6804218 ,  0.05489316,\n",
              "        0.05333278,  0.03257329, -0.16544367,  0.98487836,  0.7784035 ,\n",
              "       -0.07689387, -0.31263638, -0.12760893,  0.3472611 , -0.23108876,\n",
              "        0.3307572 ,  0.37202093,  0.5539822 , -0.28727153,  0.77605385,\n",
              "       -0.73754156, -0.32367602, -0.22861145, -0.93935126, -0.4357149 ,\n",
              "        0.09146321,  0.00202421, -0.18067713,  0.0855972 ,  0.6506427 ,\n",
              "       -0.305275  ,  0.2780998 ,  0.6330918 , -0.29751784, -0.17027308,\n",
              "       -0.31517255, -0.3317247 ,  0.02422439, -0.57917964, -0.33995405,\n",
              "       -0.42761254,  0.25798827, -0.34237063, -0.52633345,  0.09533058,\n",
              "       -0.677217  ,  0.05363021,  0.32125086,  0.4909405 , -0.43493816,\n",
              "       -0.09290602,  0.10552456, -0.10498507, -0.35929582,  0.19515191,\n",
              "       -0.40012205,  0.16228692,  0.46461752,  0.2952616 ,  0.25597256,\n",
              "        0.6133663 , -0.41785526,  0.18643484,  0.06804469,  0.87485284,\n",
              "        0.1482679 ,  0.42763233,  0.18914135,  0.20274666, -0.59800595,\n",
              "       -0.07481332, -0.13797177, -0.4698542 , -0.02073322, -0.31658322],\n",
              "      dtype=float32)"
            ]
          },
          "metadata": {
            "tags": []
          },
          "execution_count": 81
        }
      ]
    },
    {
      "cell_type": "code",
      "metadata": {
        "colab": {
          "base_uri": "https://localhost:8080/"
        },
        "id": "L1Syb2vjGv5w",
        "outputId": "367fb1c3-ae42-4362-e7a1-40d2fd7b7a9e"
      },
      "source": [
        "word2vec.similar_by_word('자동차')"
      ],
      "execution_count": 88,
      "outputs": [
        {
          "output_type": "stream",
          "text": [
            "/usr/local/lib/python3.7/dist-packages/ipykernel_launcher.py:1: DeprecationWarning: Call to deprecated `similar_by_word` (Method will be removed in 4.0.0, use self.wv.similar_by_word() instead).\n",
            "  \"\"\"Entry point for launching an IPython kernel.\n"
          ],
          "name": "stderr"
        },
        {
          "output_type": "execute_result",
          "data": {
            "text/plain": [
              "[('승용차', 0.729595422744751),\n",
              " ('스포츠카', 0.6468127965927124),\n",
              " ('오토바이', 0.6444642543792725),\n",
              " ('이륜차', 0.6432071328163147),\n",
              " ('자가용', 0.6401187777519226),\n",
              " ('경주용', 0.6348319053649902),\n",
              " ('미니밴', 0.6230480074882507),\n",
              " ('경차', 0.6184974908828735),\n",
              " ('현대자동차', 0.6122195720672607),\n",
              " ('자전거', 0.6117190718650818)]"
            ]
          },
          "metadata": {
            "tags": []
          },
          "execution_count": 88
        }
      ]
    },
    {
      "cell_type": "markdown",
      "metadata": {
        "id": "_zmsQ0ckKs2T"
      },
      "source": [
        "모델구성"
      ]
    },
    {
      "cell_type": "code",
      "metadata": {
        "colab": {
          "base_uri": "https://localhost:8080/"
        },
        "id": "r4GkGO0VHDd1",
        "outputId": "55b12803-c7a2-491a-dfab-d1729b6ac553"
      },
      "source": [
        "vocab_size = 10000    # 어휘 사전의 크기입니다(10,000개의 단어)\n",
        "word_vector_dim = 200  # 워드 벡터의 차원수 (변경가능한 하이퍼파라미터)\n",
        "\n",
        "embedding_matrix = np.random.rand(vocab_size, word_vector_dim)\n",
        "\n",
        "# embedding_matrix에 Word2Vec 워드벡터를 단어 하나씩마다 차례차례 카피한다.\n",
        "for i in range(4,vocab_size):\n",
        "    if index_to_word[i] in word2vec:\n",
        "        embedding_matrix[i] = word2vec[index_to_word[i]]"
      ],
      "execution_count": 106,
      "outputs": [
        {
          "output_type": "stream",
          "text": [
            "/usr/local/lib/python3.7/dist-packages/ipykernel_launcher.py:8: DeprecationWarning: Call to deprecated `__contains__` (Method will be removed in 4.0.0, use self.wv.__contains__() instead).\n",
            "  \n",
            "/usr/local/lib/python3.7/dist-packages/ipykernel_launcher.py:9: DeprecationWarning: Call to deprecated `__getitem__` (Method will be removed in 4.0.0, use self.wv.__getitem__() instead).\n",
            "  if __name__ == '__main__':\n"
          ],
          "name": "stderr"
        }
      ]
    },
    {
      "cell_type": "code",
      "metadata": {
        "colab": {
          "base_uri": "https://localhost:8080/"
        },
        "id": "FAoNuzNtHp31",
        "outputId": "ecd57dee-5fe6-4174-9298-cb4cedac8b86"
      },
      "source": [
        "from tensorflow.keras.initializers import Constant\n",
        "from keras.layers import Dense, Dropout\n",
        "\n",
        "model = keras.Sequential()\n",
        "model.add(keras.layers.Embedding(vocab_size, \n",
        "                                 word_vector_dim, \n",
        "                                 embeddings_initializer=Constant(embedding_matrix),  # 카피한 임베딩을 여기서 활용\n",
        "                                 input_length=maxlen, \n",
        "                                 trainable=True))   # trainable을 True로 주면 Fine-tuning\n",
        "model.add(keras.layers.Conv1D(16, 7, activation='relu'))\n",
        "model.add(keras.layers.MaxPooling1D(5))\n",
        "model.add(keras.layers.Conv1D(32, 7, activation='relu'))\n",
        "model.add(keras.layers.GlobalMaxPooling1D())\n",
        "model.add(keras.layers.Dense(8, activation='relu'))\n",
        "model.add(Dropout(0.5))\n",
        "model.add(keras.layers.Dense(1, activation='sigmoid')) \n",
        "\n",
        "model.summary()"
      ],
      "execution_count": 177,
      "outputs": [
        {
          "output_type": "stream",
          "text": [
            "Model: \"sequential_19\"\n",
            "_________________________________________________________________\n",
            "Layer (type)                 Output Shape              Param #   \n",
            "=================================================================\n",
            "embedding_21 (Embedding)     (None, 41, 200)           2000000   \n",
            "_________________________________________________________________\n",
            "conv1d_30 (Conv1D)           (None, 35, 16)            22416     \n",
            "_________________________________________________________________\n",
            "max_pooling1d_15 (MaxPooling (None, 7, 16)             0         \n",
            "_________________________________________________________________\n",
            "conv1d_31 (Conv1D)           (None, 1, 32)             3616      \n",
            "_________________________________________________________________\n",
            "global_max_pooling1d_17 (Glo (None, 32)                0         \n",
            "_________________________________________________________________\n",
            "dense_35 (Dense)             (None, 8)                 264       \n",
            "_________________________________________________________________\n",
            "module_wrapper (ModuleWrappe (None, 8)                 0         \n",
            "_________________________________________________________________\n",
            "dense_36 (Dense)             (None, 1)                 9         \n",
            "=================================================================\n",
            "Total params: 2,026,305\n",
            "Trainable params: 2,026,305\n",
            "Non-trainable params: 0\n",
            "_________________________________________________________________\n"
          ],
          "name": "stdout"
        }
      ]
    },
    {
      "cell_type": "markdown",
      "metadata": {
        "id": "o0by8F9CKuck"
      },
      "source": [
        "모델학습"
      ]
    },
    {
      "cell_type": "code",
      "metadata": {
        "colab": {
          "base_uri": "https://localhost:8080/"
        },
        "id": "AOrw1p0FICTv",
        "outputId": "c1dba80e-fdf4-42e9-f6b8-f917dc16c8b8"
      },
      "source": [
        "model.compile(optimizer='rmsprop',\n",
        "              loss='binary_crossentropy',\n",
        "              metrics=['accuracy'])\n",
        "              \n",
        "epochs=10  # 몇 epoch를 훈련하면 좋을지 결과를 보면서 바꾸어 봅시다. \n",
        "\n",
        "history = model.fit(partial_X_train,\n",
        "                    partial_y_train,\n",
        "                    epochs=epochs,\n",
        "                    batch_size=128,\n",
        "                    validation_data=(X_val, y_val),\n",
        "                    verbose=1)"
      ],
      "execution_count": 183,
      "outputs": [
        {
          "output_type": "stream",
          "text": [
            "Epoch 1/10\n",
            "705/705 [==============================] - 104s 145ms/step - loss: 0.2205 - accuracy: 0.9198 - val_loss: 0.5789 - val_accuracy: 0.8335\n",
            "Epoch 2/10\n",
            "705/705 [==============================] - 109s 154ms/step - loss: 0.2158 - accuracy: 0.9228 - val_loss: 0.6120 - val_accuracy: 0.8370\n",
            "Epoch 3/10\n",
            "705/705 [==============================] - 109s 154ms/step - loss: 0.2110 - accuracy: 0.9248 - val_loss: 0.6586 - val_accuracy: 0.8363\n",
            "Epoch 4/10\n",
            "705/705 [==============================] - 117s 166ms/step - loss: 0.2061 - accuracy: 0.9269 - val_loss: 0.7680 - val_accuracy: 0.8340\n",
            "Epoch 5/10\n",
            "705/705 [==============================] - 103s 147ms/step - loss: 0.2035 - accuracy: 0.9275 - val_loss: 0.6614 - val_accuracy: 0.8318\n",
            "Epoch 6/10\n",
            "705/705 [==============================] - 110s 157ms/step - loss: 0.1970 - accuracy: 0.9297 - val_loss: 0.7064 - val_accuracy: 0.8318\n",
            "Epoch 7/10\n",
            "705/705 [==============================] - 112s 159ms/step - loss: 0.1937 - accuracy: 0.9316 - val_loss: 0.7270 - val_accuracy: 0.8291\n",
            "Epoch 8/10\n",
            "705/705 [==============================] - 124s 175ms/step - loss: 0.1893 - accuracy: 0.9330 - val_loss: 0.8646 - val_accuracy: 0.8334\n",
            "Epoch 9/10\n",
            "705/705 [==============================] - 112s 158ms/step - loss: 0.1856 - accuracy: 0.9343 - val_loss: 0.8405 - val_accuracy: 0.8338\n",
            "Epoch 10/10\n",
            "705/705 [==============================] - 105s 149ms/step - loss: 0.1847 - accuracy: 0.9353 - val_loss: 0.7507 - val_accuracy: 0.8245\n"
          ],
          "name": "stdout"
        }
      ]
    },
    {
      "cell_type": "code",
      "metadata": {
        "colab": {
          "base_uri": "https://localhost:8080/"
        },
        "id": "RkEOXe8bylJM",
        "outputId": "e3056ca1-efe0-4c01-f338-17926cce9e86"
      },
      "source": [
        "model.compile(optimizer='adam',\n",
        "              loss='binary_crossentropy',\n",
        "              metrics=['accuracy'])\n",
        "              \n",
        "epochs=10  # 몇 epoch를 훈련하면 좋을지 결과를 보면서 바꾸어 봅시다. \n",
        "\n",
        "history = model.fit(partial_X_train,\n",
        "                    partial_y_train,\n",
        "                    epochs=epochs,\n",
        "                    batch_size=300,\n",
        "                    validation_data=(X_val, y_val),\n",
        "                    verbose=1)"
      ],
      "execution_count": 189,
      "outputs": [
        {
          "output_type": "stream",
          "text": [
            "Epoch 1/10\n",
            "301/301 [==============================] - 81s 265ms/step - loss: 0.1730 - accuracy: 0.9387 - val_loss: 0.8507 - val_accuracy: 0.8328\n",
            "Epoch 2/10\n",
            "301/301 [==============================] - 75s 249ms/step - loss: 0.1613 - accuracy: 0.9434 - val_loss: 0.9131 - val_accuracy: 0.8319\n",
            "Epoch 3/10\n",
            "301/301 [==============================] - 80s 264ms/step - loss: 0.1559 - accuracy: 0.9445 - val_loss: 0.8996 - val_accuracy: 0.8273\n",
            "Epoch 4/10\n",
            "301/301 [==============================] - 80s 267ms/step - loss: 0.1521 - accuracy: 0.9454 - val_loss: 0.8845 - val_accuracy: 0.8242\n",
            "Epoch 5/10\n",
            "301/301 [==============================] - 74s 247ms/step - loss: 0.1497 - accuracy: 0.9463 - val_loss: 0.9055 - val_accuracy: 0.8238\n",
            "Epoch 6/10\n",
            "301/301 [==============================] - 77s 257ms/step - loss: 0.1477 - accuracy: 0.9466 - val_loss: 0.9610 - val_accuracy: 0.8249\n",
            "Epoch 7/10\n",
            "301/301 [==============================] - 78s 259ms/step - loss: 0.1377 - accuracy: 0.9507 - val_loss: 1.0598 - val_accuracy: 0.8226\n",
            "Epoch 8/10\n",
            "301/301 [==============================] - 79s 264ms/step - loss: 0.1377 - accuracy: 0.9503 - val_loss: 1.1565 - val_accuracy: 0.8290\n",
            "Epoch 9/10\n",
            "301/301 [==============================] - 76s 252ms/step - loss: 0.1329 - accuracy: 0.9519 - val_loss: 1.0775 - val_accuracy: 0.8260\n",
            "Epoch 10/10\n",
            "301/301 [==============================] - 79s 263ms/step - loss: 0.1307 - accuracy: 0.9532 - val_loss: 1.1017 - val_accuracy: 0.8249\n"
          ],
          "name": "stdout"
        }
      ]
    },
    {
      "cell_type": "code",
      "metadata": {
        "colab": {
          "base_uri": "https://localhost:8080/"
        },
        "id": "otEAZfPBKVM0",
        "outputId": "b3b8d370-1669-4105-b8b9-3adf989a1579"
      },
      "source": [
        "history_dict = history.history\n",
        "print(history_dict.keys()) # epoch에 따른 그래프를 그려볼 수 있는 항목들"
      ],
      "execution_count": 190,
      "outputs": [
        {
          "output_type": "stream",
          "text": [
            "dict_keys(['loss', 'accuracy', 'val_loss', 'val_accuracy'])\n"
          ],
          "name": "stdout"
        }
      ]
    },
    {
      "cell_type": "markdown",
      "metadata": {
        "id": "pgv_QooFKwru"
      },
      "source": [
        "Loss, Accuracy 그래프"
      ]
    },
    {
      "cell_type": "code",
      "metadata": {
        "colab": {
          "base_uri": "https://localhost:8080/",
          "height": 294
        },
        "id": "r8UbW31bKbgu",
        "outputId": "267e1027-c57e-428d-f6ef-50788d2aa170"
      },
      "source": [
        "import matplotlib.pyplot as plt\n",
        "\n",
        "acc = history_dict['accuracy']\n",
        "val_acc = history_dict['val_accuracy']\n",
        "loss = history_dict['loss']\n",
        "val_loss = history_dict['val_loss']\n",
        "\n",
        "epochs = range(1, len(acc) + 1)\n",
        "\n",
        "# \"bo\"는 \"파란색 점\"입니다\n",
        "plt.plot(epochs, loss, 'bo', label='Training loss')\n",
        "# b는 \"파란 실선\"입니다\n",
        "plt.plot(epochs, val_loss, 'b', label='Validation loss')\n",
        "plt.title('Training and validation loss')\n",
        "plt.xlabel('Epochs')\n",
        "plt.ylabel('Loss')\n",
        "plt.legend()\n",
        "\n",
        "plt.show()"
      ],
      "execution_count": 191,
      "outputs": [
        {
          "output_type": "display_data",
          "data": {
            "image/png": "[encoded data removed]",
            "text/plain": [
              "<Figure size 432x288 with 1 Axes>"
            ]
          },
          "metadata": {
            "tags": [],
            "needs_background": "light"
          }
        }
      ]
    },
    {
      "cell_type": "code",
      "metadata": {
        "colab": {
          "base_uri": "https://localhost:8080/",
          "height": 294
        },
        "id": "LQZfblE1Kd2L",
        "outputId": "594546e5-b8a5-43db-db82-d6aa1e4c8334"
      },
      "source": [
        "plt.clf()   # 그림을 초기화합니다\n",
        "\n",
        "plt.plot(epochs, acc, 'bo', label='Training acc')\n",
        "plt.plot(epochs, val_acc, 'b', label='Validation acc')\n",
        "plt.title('Training and validation accuracy')\n",
        "plt.xlabel('Epochs')\n",
        "plt.ylabel('Accuracy')\n",
        "plt.legend()\n",
        "\n",
        "plt.show()"
      ],
      "execution_count": 192,
      "outputs": [
        {
          "output_type": "display_data",
          "data": {
            "image/png": "[encoded data removed]",
            "text/plain": [
              "<Figure size 432x288 with 1 Axes>"
            ]
          },
          "metadata": {
            "tags": [],
            "needs_background": "light"
          }
        }
      ]
    },
    {
      "cell_type": "markdown",
      "metadata": {
        "id": "4BvjEEEJKiLt"
      },
      "source": [
        "모델테스트"
      ]
    },
    {
      "cell_type": "code",
      "metadata": {
        "colab": {
          "base_uri": "https://localhost:8080/"
        },
        "id": "rVUWjNs4Khlq",
        "outputId": "93994c36-67c1-40f8-9202-577f7f04d6c8"
      },
      "source": [
        "results = model.evaluate(X_test,  y_test, verbose=2)\n",
        "\n",
        "print(results)"
      ],
      "execution_count": 187,
      "outputs": [
        {
          "output_type": "stream",
          "text": [
            "1537/1537 - 7s - loss: 0.7779 - accuracy: 0.8193\n",
            "[0.7779492735862732, 0.8193339705467224]\n"
          ],
          "name": "stdout"
        }
      ]
    },
    {
      "cell_type": "code",
      "metadata": {
        "colab": {
          "base_uri": "https://localhost:8080/"
        },
        "id": "Jxu2sZNAmyZz",
        "outputId": "af46f014-f7bf-40db-f4cc-dd1e4c5d489c"
      },
      "source": [
        "results = model.evaluate(X_test,  y_test, verbose=2)\n",
        "\n",
        "print(results)"
      ],
      "execution_count": 193,
      "outputs": [
        {
          "output_type": "stream",
          "text": [
            "1537/1537 - 6s - loss: 1.1320 - accuracy: 0.8228\n",
            "[1.131966471672058, 0.8228126168251038]\n"
          ],
          "name": "stdout"
        }
      ]
    },
    {
      "cell_type": "markdown",
      "metadata": {
        "id": "xNf2Gj994Maq"
      },
      "source": [
        "\n",
        "\n",
        "---\n",
        "\n"
      ]
    },
    {
      "cell_type": "markdown",
      "metadata": {
        "id": "CxLnPoSe4No1"
      },
      "source": [
        "#회고"
      ]
    },
    {
      "cell_type": "markdown",
      "metadata": {
        "id": "nrJLabkzL6-N"
      },
      "source": [
        "\n",
        "\n",
        "*   RNN 0.8324, 1-D CNN 0.8247, GlobalMaxPooling1D 0.8357, Word2Vec 0.8256, 한국어Word2Vec 0.8270\n",
        "*   ==> GlobalMaxPooling1D, RNN, 한국어Word2Vec, Word2Vec, 1-D CNN 정확도 높음에서 낮음 순으로 정리\n",
        "*   한국어Word2Vec으로 정확도 향상 시도\n",
        "*   ==> 1. 0.8270 --> 0.8326 (Conv1D(32, 7, activation='relu'))\n",
        "\n",
        "*   ==> 2. Optimizer를 여러 가지로 변경해 보았으나 개선 안 됨\n",
        "*   ==> 3. 0.8331 (batch size 300으로 줄임)\n",
        "*   Keras Tuner : 최적의 하이퍼파라미터 세트를 선택하는 데 도움을 주는 라이브러리가 있다는 것을 찾게 되었다.\n",
        "*   Keras Tuner 사용법을 더 찾아보고, 다음에는 해당 라이브러리를 활용하여 하이퍼파라미터를 조정해 보고자 한다."
      ]
    }
  ]
}