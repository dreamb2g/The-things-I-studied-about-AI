{
  "nbformat": 4,
  "nbformat_minor": 5,
  "metadata": {
    "kernelspec": {
      "display_name": "Python 3",
      "language": "python",
      "name": "python3"
    },
    "language_info": {
      "codemirror_mode": {
        "name": "ipython",
        "version": 3
      },
      "file_extension": ".py",
      "mimetype": "text/x-python",
      "name": "python",
      "nbconvert_exporter": "python",
      "pygments_lexer": "ipython3",
      "version": "3.7.9"
    },
    "colab": {
      "name": "[E-15]TransformerChatBot.ipynb",
      "provenance": [],
      "collapsed_sections": []
    }
  },
  "cells": [
    {
      "cell_type": "markdown",
      "metadata": {
        "id": "Cb083fpmA_3Y"
      },
      "source": [
        "# 1. 데이터 수집"
      ],
      "id": "Cb083fpmA_3Y"
    },
    {
      "cell_type": "code",
      "metadata": {
        "id": "massive-poison"
      },
      "source": [
        "import tensorflow as tf\n",
        "import tensorflow_datasets as tfds\n",
        "import os\n",
        "import re\n",
        "import numpy as np\n",
        "import matplotlib.pyplot as plt\n",
        "import pandas as pd"
      ],
      "id": "massive-poison",
      "execution_count": 1,
      "outputs": []
    },
    {
      "cell_type": "code",
      "metadata": {
        "colab": {
          "base_uri": "https://localhost:8080/"
        },
        "id": "Zm-JpNow4DNl",
        "outputId": "9e8f22fe-e521-4ed5-ae98-3f8a5a5d35ae"
      },
      "source": [
        "from google.colab import drive\n",
        "drive.mount('/content/drive')"
      ],
      "id": "Zm-JpNow4DNl",
      "execution_count": 2,
      "outputs": [
        {
          "output_type": "stream",
          "name": "stdout",
          "text": [
            "Mounted at /content/drive\n"
          ]
        }
      ]
    },
    {
      "cell_type": "code",
      "metadata": {
        "id": "subjective-fifty"
      },
      "source": [
        "path_to_dataset = '/content/drive/MyDrive/Colab Notebooks/E-15/ChatbotData .csv'"
      ],
      "id": "subjective-fifty",
      "execution_count": 3,
      "outputs": []
    },
    {
      "cell_type": "code",
      "metadata": {
        "id": "retired-official"
      },
      "source": [
        "df = pd.read_csv(path_to_dataset, sep=\",\")"
      ],
      "id": "retired-official",
      "execution_count": 4,
      "outputs": []
    },
    {
      "cell_type": "code",
      "metadata": {
        "scrolled": true,
        "colab": {
          "base_uri": "https://localhost:8080/",
          "height": 423
        },
        "id": "ancient-albany",
        "outputId": "7548c18d-eb1a-4114-d27b-04a1a2ff7e84"
      },
      "source": [
        "df"
      ],
      "id": "ancient-albany",
      "execution_count": 5,
      "outputs": [
        {
          "output_type": "execute_result",
          "data": {
            "text/html": [
              "<div>\n",
              "<style scoped>\n",
              "    .dataframe tbody tr th:only-of-type {\n",
              "        vertical-align: middle;\n",
              "    }\n",
              "\n",
              "    .dataframe tbody tr th {\n",
              "        vertical-align: top;\n",
              "    }\n",
              "\n",
              "    .dataframe thead th {\n",
              "        text-align: right;\n",
              "    }\n",
              "</style>\n",
              "<table border=\"1\" class=\"dataframe\">\n",
              "  <thead>\n",
              "    <tr style=\"text-align: right;\">\n",
              "      <th></th>\n",
              "      <th>Q</th>\n",
              "      <th>A</th>\n",
              "      <th>label</th>\n",
              "    </tr>\n",
              "  </thead>\n",
              "  <tbody>\n",
              "    <tr>\n",
              "      <th>0</th>\n",
              "      <td>12시 땡!</td>\n",
              "      <td>하루가 또 가네요.</td>\n",
              "      <td>0</td>\n",
              "    </tr>\n",
              "    <tr>\n",
              "      <th>1</th>\n",
              "      <td>1지망 학교 떨어졌어</td>\n",
              "      <td>위로해 드립니다.</td>\n",
              "      <td>0</td>\n",
              "    </tr>\n",
              "    <tr>\n",
              "      <th>2</th>\n",
              "      <td>3박4일 놀러가고 싶다</td>\n",
              "      <td>여행은 언제나 좋죠.</td>\n",
              "      <td>0</td>\n",
              "    </tr>\n",
              "    <tr>\n",
              "      <th>3</th>\n",
              "      <td>3박4일 정도 놀러가고 싶다</td>\n",
              "      <td>여행은 언제나 좋죠.</td>\n",
              "      <td>0</td>\n",
              "    </tr>\n",
              "    <tr>\n",
              "      <th>4</th>\n",
              "      <td>PPL 심하네</td>\n",
              "      <td>눈살이 찌푸려지죠.</td>\n",
              "      <td>0</td>\n",
              "    </tr>\n",
              "    <tr>\n",
              "      <th>...</th>\n",
              "      <td>...</td>\n",
              "      <td>...</td>\n",
              "      <td>...</td>\n",
              "    </tr>\n",
              "    <tr>\n",
              "      <th>11818</th>\n",
              "      <td>훔쳐보는 것도 눈치 보임.</td>\n",
              "      <td>티가 나니까 눈치가 보이는 거죠!</td>\n",
              "      <td>2</td>\n",
              "    </tr>\n",
              "    <tr>\n",
              "      <th>11819</th>\n",
              "      <td>훔쳐보는 것도 눈치 보임.</td>\n",
              "      <td>훔쳐보는 거 티나나봐요.</td>\n",
              "      <td>2</td>\n",
              "    </tr>\n",
              "    <tr>\n",
              "      <th>11820</th>\n",
              "      <td>흑기사 해주는 짝남.</td>\n",
              "      <td>설렜겠어요.</td>\n",
              "      <td>2</td>\n",
              "    </tr>\n",
              "    <tr>\n",
              "      <th>11821</th>\n",
              "      <td>힘든 연애 좋은 연애라는게 무슨 차이일까?</td>\n",
              "      <td>잘 헤어질 수 있는 사이 여부인 거 같아요.</td>\n",
              "      <td>2</td>\n",
              "    </tr>\n",
              "    <tr>\n",
              "      <th>11822</th>\n",
              "      <td>힘들어서 결혼할까봐</td>\n",
              "      <td>도피성 결혼은 하지 않길 바라요.</td>\n",
              "      <td>2</td>\n",
              "    </tr>\n",
              "  </tbody>\n",
              "</table>\n",
              "<p>11823 rows × 3 columns</p>\n",
              "</div>"
            ],
            "text/plain": [
              "                             Q                         A  label\n",
              "0                       12시 땡!                하루가 또 가네요.      0\n",
              "1                  1지망 학교 떨어졌어                 위로해 드립니다.      0\n",
              "2                 3박4일 놀러가고 싶다               여행은 언제나 좋죠.      0\n",
              "3              3박4일 정도 놀러가고 싶다               여행은 언제나 좋죠.      0\n",
              "4                      PPL 심하네                눈살이 찌푸려지죠.      0\n",
              "...                        ...                       ...    ...\n",
              "11818           훔쳐보는 것도 눈치 보임.        티가 나니까 눈치가 보이는 거죠!      2\n",
              "11819           훔쳐보는 것도 눈치 보임.             훔쳐보는 거 티나나봐요.      2\n",
              "11820              흑기사 해주는 짝남.                    설렜겠어요.      2\n",
              "11821  힘든 연애 좋은 연애라는게 무슨 차이일까?  잘 헤어질 수 있는 사이 여부인 거 같아요.      2\n",
              "11822               힘들어서 결혼할까봐        도피성 결혼은 하지 않길 바라요.      2\n",
              "\n",
              "[11823 rows x 3 columns]"
            ]
          },
          "metadata": {},
          "execution_count": 5
        }
      ]
    },
    {
      "cell_type": "markdown",
      "metadata": {
        "id": "damaged-launch"
      },
      "source": [
        "---------------------------------------"
      ],
      "id": "damaged-launch"
    },
    {
      "cell_type": "markdown",
      "metadata": {
        "id": "rweX26YRBFdW"
      },
      "source": [
        "# 2. 데이터 전처리"
      ],
      "id": "rweX26YRBFdW"
    },
    {
      "cell_type": "markdown",
      "metadata": {
        "id": "presidential-saudi"
      },
      "source": [
        "#### 하나의 csv 파일에 질문 답변이 모두 저장되어 있으니 사전 작업이 필요"
      ],
      "id": "presidential-saudi"
    },
    {
      "cell_type": "code",
      "metadata": {
        "id": "tribal-hanging"
      },
      "source": [
        "sd1 = df['Q']"
      ],
      "id": "tribal-hanging",
      "execution_count": 6,
      "outputs": []
    },
    {
      "cell_type": "code",
      "metadata": {
        "colab": {
          "base_uri": "https://localhost:8080/"
        },
        "id": "apart-monitoring",
        "outputId": "8b89ff6f-0b4e-4d70-8b76-dcf9d484a82d"
      },
      "source": [
        "sd1"
      ],
      "id": "apart-monitoring",
      "execution_count": 7,
      "outputs": [
        {
          "output_type": "execute_result",
          "data": {
            "text/plain": [
              "0                         12시 땡!\n",
              "1                    1지망 학교 떨어졌어\n",
              "2                   3박4일 놀러가고 싶다\n",
              "3                3박4일 정도 놀러가고 싶다\n",
              "4                        PPL 심하네\n",
              "                  ...           \n",
              "11818             훔쳐보는 것도 눈치 보임.\n",
              "11819             훔쳐보는 것도 눈치 보임.\n",
              "11820                흑기사 해주는 짝남.\n",
              "11821    힘든 연애 좋은 연애라는게 무슨 차이일까?\n",
              "11822                 힘들어서 결혼할까봐\n",
              "Name: Q, Length: 11823, dtype: object"
            ]
          },
          "metadata": {},
          "execution_count": 7
        }
      ]
    },
    {
      "cell_type": "code",
      "metadata": {
        "colab": {
          "base_uri": "https://localhost:8080/",
          "height": 423
        },
        "id": "accompanied-hurricane",
        "outputId": "89f21ca9-f967-4784-fd93-1e4791d65038"
      },
      "source": [
        "sd1_df = pd.DataFrame(sd1)\n",
        "sd1_df"
      ],
      "id": "accompanied-hurricane",
      "execution_count": 8,
      "outputs": [
        {
          "output_type": "execute_result",
          "data": {
            "text/html": [
              "<div>\n",
              "<style scoped>\n",
              "    .dataframe tbody tr th:only-of-type {\n",
              "        vertical-align: middle;\n",
              "    }\n",
              "\n",
              "    .dataframe tbody tr th {\n",
              "        vertical-align: top;\n",
              "    }\n",
              "\n",
              "    .dataframe thead th {\n",
              "        text-align: right;\n",
              "    }\n",
              "</style>\n",
              "<table border=\"1\" class=\"dataframe\">\n",
              "  <thead>\n",
              "    <tr style=\"text-align: right;\">\n",
              "      <th></th>\n",
              "      <th>Q</th>\n",
              "    </tr>\n",
              "  </thead>\n",
              "  <tbody>\n",
              "    <tr>\n",
              "      <th>0</th>\n",
              "      <td>12시 땡!</td>\n",
              "    </tr>\n",
              "    <tr>\n",
              "      <th>1</th>\n",
              "      <td>1지망 학교 떨어졌어</td>\n",
              "    </tr>\n",
              "    <tr>\n",
              "      <th>2</th>\n",
              "      <td>3박4일 놀러가고 싶다</td>\n",
              "    </tr>\n",
              "    <tr>\n",
              "      <th>3</th>\n",
              "      <td>3박4일 정도 놀러가고 싶다</td>\n",
              "    </tr>\n",
              "    <tr>\n",
              "      <th>4</th>\n",
              "      <td>PPL 심하네</td>\n",
              "    </tr>\n",
              "    <tr>\n",
              "      <th>...</th>\n",
              "      <td>...</td>\n",
              "    </tr>\n",
              "    <tr>\n",
              "      <th>11818</th>\n",
              "      <td>훔쳐보는 것도 눈치 보임.</td>\n",
              "    </tr>\n",
              "    <tr>\n",
              "      <th>11819</th>\n",
              "      <td>훔쳐보는 것도 눈치 보임.</td>\n",
              "    </tr>\n",
              "    <tr>\n",
              "      <th>11820</th>\n",
              "      <td>흑기사 해주는 짝남.</td>\n",
              "    </tr>\n",
              "    <tr>\n",
              "      <th>11821</th>\n",
              "      <td>힘든 연애 좋은 연애라는게 무슨 차이일까?</td>\n",
              "    </tr>\n",
              "    <tr>\n",
              "      <th>11822</th>\n",
              "      <td>힘들어서 결혼할까봐</td>\n",
              "    </tr>\n",
              "  </tbody>\n",
              "</table>\n",
              "<p>11823 rows × 1 columns</p>\n",
              "</div>"
            ],
            "text/plain": [
              "                             Q\n",
              "0                       12시 땡!\n",
              "1                  1지망 학교 떨어졌어\n",
              "2                 3박4일 놀러가고 싶다\n",
              "3              3박4일 정도 놀러가고 싶다\n",
              "4                      PPL 심하네\n",
              "...                        ...\n",
              "11818           훔쳐보는 것도 눈치 보임.\n",
              "11819           훔쳐보는 것도 눈치 보임.\n",
              "11820              흑기사 해주는 짝남.\n",
              "11821  힘든 연애 좋은 연애라는게 무슨 차이일까?\n",
              "11822               힘들어서 결혼할까봐\n",
              "\n",
              "[11823 rows x 1 columns]"
            ]
          },
          "metadata": {},
          "execution_count": 8
        }
      ]
    },
    {
      "cell_type": "markdown",
      "metadata": {
        "id": "white-charge"
      },
      "source": [
        "---------------------------------------"
      ],
      "id": "white-charge"
    },
    {
      "cell_type": "code",
      "metadata": {
        "id": "alike-flour"
      },
      "source": [
        "sd2 = df['A']"
      ],
      "id": "alike-flour",
      "execution_count": 9,
      "outputs": []
    },
    {
      "cell_type": "code",
      "metadata": {
        "colab": {
          "base_uri": "https://localhost:8080/"
        },
        "id": "wicked-tradition",
        "outputId": "f8f2ac02-913f-4a64-bb07-c6f203ed9dd0"
      },
      "source": [
        "sd2"
      ],
      "id": "wicked-tradition",
      "execution_count": 10,
      "outputs": [
        {
          "output_type": "execute_result",
          "data": {
            "text/plain": [
              "0                      하루가 또 가네요.\n",
              "1                       위로해 드립니다.\n",
              "2                     여행은 언제나 좋죠.\n",
              "3                     여행은 언제나 좋죠.\n",
              "4                      눈살이 찌푸려지죠.\n",
              "                   ...           \n",
              "11818          티가 나니까 눈치가 보이는 거죠!\n",
              "11819               훔쳐보는 거 티나나봐요.\n",
              "11820                      설렜겠어요.\n",
              "11821    잘 헤어질 수 있는 사이 여부인 거 같아요.\n",
              "11822          도피성 결혼은 하지 않길 바라요.\n",
              "Name: A, Length: 11823, dtype: object"
            ]
          },
          "metadata": {},
          "execution_count": 10
        }
      ]
    },
    {
      "cell_type": "code",
      "metadata": {
        "colab": {
          "base_uri": "https://localhost:8080/",
          "height": 423
        },
        "id": "exterior-afghanistan",
        "outputId": "14a62e80-10d9-45bf-d8d5-c508945a0e15"
      },
      "source": [
        "sd2_df = pd.DataFrame(sd2)\n",
        "sd2_df"
      ],
      "id": "exterior-afghanistan",
      "execution_count": 11,
      "outputs": [
        {
          "output_type": "execute_result",
          "data": {
            "text/html": [
              "<div>\n",
              "<style scoped>\n",
              "    .dataframe tbody tr th:only-of-type {\n",
              "        vertical-align: middle;\n",
              "    }\n",
              "\n",
              "    .dataframe tbody tr th {\n",
              "        vertical-align: top;\n",
              "    }\n",
              "\n",
              "    .dataframe thead th {\n",
              "        text-align: right;\n",
              "    }\n",
              "</style>\n",
              "<table border=\"1\" class=\"dataframe\">\n",
              "  <thead>\n",
              "    <tr style=\"text-align: right;\">\n",
              "      <th></th>\n",
              "      <th>A</th>\n",
              "    </tr>\n",
              "  </thead>\n",
              "  <tbody>\n",
              "    <tr>\n",
              "      <th>0</th>\n",
              "      <td>하루가 또 가네요.</td>\n",
              "    </tr>\n",
              "    <tr>\n",
              "      <th>1</th>\n",
              "      <td>위로해 드립니다.</td>\n",
              "    </tr>\n",
              "    <tr>\n",
              "      <th>2</th>\n",
              "      <td>여행은 언제나 좋죠.</td>\n",
              "    </tr>\n",
              "    <tr>\n",
              "      <th>3</th>\n",
              "      <td>여행은 언제나 좋죠.</td>\n",
              "    </tr>\n",
              "    <tr>\n",
              "      <th>4</th>\n",
              "      <td>눈살이 찌푸려지죠.</td>\n",
              "    </tr>\n",
              "    <tr>\n",
              "      <th>...</th>\n",
              "      <td>...</td>\n",
              "    </tr>\n",
              "    <tr>\n",
              "      <th>11818</th>\n",
              "      <td>티가 나니까 눈치가 보이는 거죠!</td>\n",
              "    </tr>\n",
              "    <tr>\n",
              "      <th>11819</th>\n",
              "      <td>훔쳐보는 거 티나나봐요.</td>\n",
              "    </tr>\n",
              "    <tr>\n",
              "      <th>11820</th>\n",
              "      <td>설렜겠어요.</td>\n",
              "    </tr>\n",
              "    <tr>\n",
              "      <th>11821</th>\n",
              "      <td>잘 헤어질 수 있는 사이 여부인 거 같아요.</td>\n",
              "    </tr>\n",
              "    <tr>\n",
              "      <th>11822</th>\n",
              "      <td>도피성 결혼은 하지 않길 바라요.</td>\n",
              "    </tr>\n",
              "  </tbody>\n",
              "</table>\n",
              "<p>11823 rows × 1 columns</p>\n",
              "</div>"
            ],
            "text/plain": [
              "                              A\n",
              "0                    하루가 또 가네요.\n",
              "1                     위로해 드립니다.\n",
              "2                   여행은 언제나 좋죠.\n",
              "3                   여행은 언제나 좋죠.\n",
              "4                    눈살이 찌푸려지죠.\n",
              "...                         ...\n",
              "11818        티가 나니까 눈치가 보이는 거죠!\n",
              "11819             훔쳐보는 거 티나나봐요.\n",
              "11820                    설렜겠어요.\n",
              "11821  잘 헤어질 수 있는 사이 여부인 거 같아요.\n",
              "11822        도피성 결혼은 하지 않길 바라요.\n",
              "\n",
              "[11823 rows x 1 columns]"
            ]
          },
          "metadata": {},
          "execution_count": 11
        }
      ]
    },
    {
      "cell_type": "markdown",
      "metadata": {
        "id": "painful-start"
      },
      "source": [
        "---------------------------------------"
      ],
      "id": "painful-start"
    },
    {
      "cell_type": "markdown",
      "metadata": {
        "id": "sonic-scholarship"
      },
      "source": [
        "#### question, answer 각각 텍스트 파일로 만들기"
      ],
      "id": "sonic-scholarship"
    },
    {
      "cell_type": "code",
      "metadata": {
        "id": "olive-dynamics"
      },
      "source": [
        "sd1_df.to_csv('questions.txt', index=False, header=None)"
      ],
      "id": "olive-dynamics",
      "execution_count": 18,
      "outputs": []
    },
    {
      "cell_type": "code",
      "metadata": {
        "id": "frequent-glasgow"
      },
      "source": [
        "sd2_df.to_csv('answers.txt', index=False, header=None)"
      ],
      "id": "frequent-glasgow",
      "execution_count": 21,
      "outputs": []
    },
    {
      "cell_type": "code",
      "metadata": {
        "colab": {
          "base_uri": "https://localhost:8080/"
        },
        "id": "viral-cholesterol",
        "outputId": "a90b61ff-8c3d-4d26-ffa1-f99b68cb7157"
      },
      "source": [
        "path_to_questions = '/content/questions.txt'\n",
        "print(path_to_questions)"
      ],
      "id": "viral-cholesterol",
      "execution_count": 20,
      "outputs": [
        {
          "output_type": "stream",
          "name": "stdout",
          "text": [
            "/content/questions.txt\n"
          ]
        }
      ]
    },
    {
      "cell_type": "code",
      "metadata": {
        "colab": {
          "base_uri": "https://localhost:8080/"
        },
        "id": "rq5GvOr14-d4",
        "outputId": "287448d6-4372-4a50-ebad-363325085274"
      },
      "source": [
        "path_to_answers = '/content/answers.txt'\n",
        "print(path_to_answers)"
      ],
      "id": "rq5GvOr14-d4",
      "execution_count": 23,
      "outputs": [
        {
          "output_type": "stream",
          "name": "stdout",
          "text": [
            "/content/answers.txt\n"
          ]
        }
      ]
    },
    {
      "cell_type": "markdown",
      "metadata": {
        "id": "5P9D04VXBdTy"
      },
      "source": [
        "\n",
        "\n",
        "---\n",
        "\n"
      ],
      "id": "5P9D04VXBdTy"
    },
    {
      "cell_type": "markdown",
      "metadata": {
        "id": "B2ctPNj85wBm"
      },
      "source": [
        "#### 정제"
      ],
      "id": "B2ctPNj85wBm"
    },
    {
      "cell_type": "code",
      "metadata": {
        "id": "peQGo-mW6aQ3"
      },
      "source": [
        "import glob\n",
        "txt_list1 = glob.glob(path_to_questions)\n",
        "txt_list2 = glob.glob(path_to_answers)"
      ],
      "id": "peQGo-mW6aQ3",
      "execution_count": 55,
      "outputs": []
    },
    {
      "cell_type": "code",
      "metadata": {
        "colab": {
          "base_uri": "https://localhost:8080/"
        },
        "id": "nLWJLqkW5oNq",
        "outputId": "f96c05ae-a49c-489b-e1a5-d9d80db05058"
      },
      "source": [
        "raw_corpus_q = []\n",
        "\n",
        "for txt_file in txt_list1:\n",
        "    with open(txt_file, \"r\") as f:\n",
        "        raw = f.read().splitlines()\n",
        "        raw_corpus_q.extend(raw)\n",
        "\n",
        "print(\"데이터 크기:\", len(raw_corpus_q))\n",
        "print(\"Examples:\\n\", raw_corpus_q[:3])"
      ],
      "id": "nLWJLqkW5oNq",
      "execution_count": 42,
      "outputs": [
        {
          "output_type": "stream",
          "name": "stdout",
          "text": [
            "데이터 크기: 11823\n",
            "Examples:\n",
            " ['12시 땡!', '1지망 학교 떨어졌어', '3박4일 놀러가고 싶다']\n"
          ]
        }
      ]
    },
    {
      "cell_type": "code",
      "metadata": {
        "colab": {
          "base_uri": "https://localhost:8080/"
        },
        "id": "j0xNtSwR-C9z",
        "outputId": "679ab554-65b1-4678-cba9-5197efb73e32"
      },
      "source": [
        "raw_corpus_a = []\n",
        "\n",
        "for txt_file in txt_list2:\n",
        "    with open(txt_file, \"r\") as f:\n",
        "        raw = f.read().splitlines()\n",
        "        raw_corpus_a.extend(raw)\n",
        "\n",
        "print(\"데이터 크기:\", len(raw_corpus_a))\n",
        "print(\"Examples:\\n\", raw_corpus_a[:3])"
      ],
      "id": "j0xNtSwR-C9z",
      "execution_count": 57,
      "outputs": [
        {
          "output_type": "stream",
          "name": "stdout",
          "text": [
            "데이터 크기: 11823\n",
            "Examples:\n",
            " ['하루가 또 가네요.', '위로해 드립니다.', '여행은 언제나 좋죠.']\n"
          ]
        }
      ]
    },
    {
      "cell_type": "code",
      "metadata": {
        "id": "material-alcohol"
      },
      "source": [
        "# 전처리 함수\n",
        "# 토크나이징에 방해되지 않기 위해\n",
        "def preprocess_sentence(review):\n",
        "    \n",
        "  review = review.lower() #lower case \n",
        "  review = re.sub(r'\\s+', ' ', review) #remove extra space \n",
        "  review = re.sub(r'<[^>]+>','',review) #remove Html tags \n",
        "  review = re.sub(r'\\s+', ' ', review) #remove spaces \n",
        "  review = re.sub(r\"^\\s+\", '', review) #remove space from start \n",
        "  review = re.sub(r'\\s+$', '', review) #remove space from the end\n",
        "  review = re.sub(r\"([?.!,])\", r\" \\1 \", review)\n",
        "  review = re.sub(r'[\" \"]+', \" \", review)\n",
        "\n",
        "  return review"
      ],
      "id": "material-alcohol",
      "execution_count": 61,
      "outputs": []
    },
    {
      "cell_type": "code",
      "metadata": {
        "colab": {
          "base_uri": "https://localhost:8080/"
        },
        "id": "Z0Ajge0n70sB",
        "outputId": "530ec35f-1d64-4a7b-dc12-e4374fea7d55"
      },
      "source": [
        "print(preprocess_sentence(\"안녕, 이거 도대체 뭐야.\"))"
      ],
      "id": "Z0Ajge0n70sB",
      "execution_count": 63,
      "outputs": [
        {
          "output_type": "stream",
          "name": "stdout",
          "text": [
            "안녕 , 이거 도대체 뭐야 . \n"
          ]
        }
      ]
    },
    {
      "cell_type": "code",
      "metadata": {
        "colab": {
          "base_uri": "https://localhost:8080/"
        },
        "id": "fifSyIjj7JhQ",
        "outputId": "6821f3c5-c4b6-4001-f150-f25aa54f741c"
      },
      "source": [
        "corpus_q = []\n",
        "\n",
        "for sentence in raw_corpus_q:\n",
        "\n",
        "    preprocessed_sentence = preprocess_sentence(sentence)\n",
        "    corpus_q.append(preprocessed_sentence)\n",
        "        \n",
        "corpus_q[0:20]"
      ],
      "id": "fifSyIjj7JhQ",
      "execution_count": 75,
      "outputs": [
        {
          "output_type": "execute_result",
          "data": {
            "text/plain": [
              "['12시 땡 ! ',\n",
              " '1지망 학교 떨어졌어',\n",
              " '3박4일 놀러가고 싶다',\n",
              " '3박4일 정도 놀러가고 싶다',\n",
              " 'ppl 심하네',\n",
              " 'sd카드 망가졌어',\n",
              " 'sd카드 안돼',\n",
              " 'sns 맞팔 왜 안하지ㅠㅠ',\n",
              " 'sns 시간낭비인 거 아는데 매일 하는 중',\n",
              " 'sns 시간낭비인데 자꾸 보게됨',\n",
              " 'sns보면 나만 빼고 다 행복해보여',\n",
              " '가끔 궁금해',\n",
              " '가끔 뭐하는지 궁금해',\n",
              " '가끔은 혼자인게 좋다',\n",
              " '가난한 자의 설움',\n",
              " '가만 있어도 땀난다',\n",
              " '가상화폐 쫄딱 망함',\n",
              " '가스불 켜고 나갔어',\n",
              " '가스불 켜놓고 나온거 같아',\n",
              " '가스비 너무 많이 나왔다 . ']"
            ]
          },
          "metadata": {},
          "execution_count": 75
        }
      ]
    },
    {
      "cell_type": "code",
      "metadata": {
        "colab": {
          "base_uri": "https://localhost:8080/"
        },
        "id": "cVdoQV_v-K2n",
        "outputId": "dec9739f-bf38-4228-ea28-5102f2499174"
      },
      "source": [
        "corpus_a = []\n",
        "\n",
        "for sentence in raw_corpus_a:\n",
        "\n",
        "    preprocessed_sentence = preprocess_sentence(sentence)\n",
        "    corpus_a.append(preprocessed_sentence)\n",
        "        \n",
        "corpus_a[0:20]"
      ],
      "id": "cVdoQV_v-K2n",
      "execution_count": 76,
      "outputs": [
        {
          "output_type": "execute_result",
          "data": {
            "text/plain": [
              "['하루가 또 가네요 . ',\n",
              " '위로해 드립니다 . ',\n",
              " '여행은 언제나 좋죠 . ',\n",
              " '여행은 언제나 좋죠 . ',\n",
              " '눈살이 찌푸려지죠 . ',\n",
              " '다시 새로 사는 게 마음 편해요 . ',\n",
              " '다시 새로 사는 게 마음 편해요 . ',\n",
              " '잘 모르고 있을 수도 있어요 . ',\n",
              " '시간을 정하고 해보세요 . ',\n",
              " '시간을 정하고 해보세요 . ',\n",
              " '자랑하는 자리니까요 . ',\n",
              " '그 사람도 그럴 거예요 . ',\n",
              " '그 사람도 그럴 거예요 . ',\n",
              " '혼자를 즐기세요 . ',\n",
              " '돈은 다시 들어올 거예요 . ',\n",
              " '땀을 식혀주세요 . ',\n",
              " '어서 잊고 새출발 하세요 . ',\n",
              " '빨리 집에 돌아가서 끄고 나오세요 . ',\n",
              " '빨리 집에 돌아가서 끄고 나오세요 . ',\n",
              " '다음 달에는 더 절약해봐요 . ']"
            ]
          },
          "metadata": {},
          "execution_count": 76
        }
      ]
    },
    {
      "cell_type": "code",
      "metadata": {
        "colab": {
          "base_uri": "https://localhost:8080/"
        },
        "id": "CfeFxF3j9kuB",
        "outputId": "53f0309f-9724-4c5f-a240-4dc665f4c43c"
      },
      "source": [
        "print('전체 샘플 수 :', len(corpus_q))\n",
        "print('전체 샘플 수 :', len(corpus_a))"
      ],
      "id": "CfeFxF3j9kuB",
      "execution_count": 66,
      "outputs": [
        {
          "output_type": "stream",
          "name": "stdout",
          "text": [
            "전체 샘플 수 : 11823\n",
            "전체 샘플 수 : 11823\n"
          ]
        }
      ]
    },
    {
      "cell_type": "code",
      "metadata": {
        "colab": {
          "base_uri": "https://localhost:8080/"
        },
        "id": "1i30Fyh6-ujX",
        "outputId": "56c9c9d7-1e65-4286-ef3a-840a13281076"
      },
      "source": [
        "print('전처리 후의 22번째 질문 샘플: {}'.format(corpus_q[21]))\n",
        "print('전처리 후의 22번째 답변 샘플: {}'.format(corpus_a[21]))"
      ],
      "id": "1i30Fyh6-ujX",
      "execution_count": 67,
      "outputs": [
        {
          "output_type": "stream",
          "name": "stdout",
          "text": [
            "전처리 후의 22번째 질문 샘플: 가스비 장난 아님\n",
            "전처리 후의 22번째 답변 샘플: 다음 달에는 더 절약해봐요 . \n"
          ]
        }
      ]
    },
    {
      "cell_type": "markdown",
      "metadata": {
        "id": "3nV2023T_onU"
      },
      "source": [
        "\n",
        "\n",
        "---\n",
        "\n"
      ],
      "id": "3nV2023T_onU"
    },
    {
      "cell_type": "markdown",
      "metadata": {
        "id": "5E0lzUK9_gsH"
      },
      "source": [
        "# 3. SubwordTextEncoder 사용"
      ],
      "id": "5E0lzUK9_gsH"
    },
    {
      "cell_type": "markdown",
      "metadata": {
        "id": "GYKvsBr8-7vN"
      },
      "source": [
        "#### 병렬 데이터 전처리"
      ],
      "id": "GYKvsBr8-7vN"
    },
    {
      "cell_type": "markdown",
      "metadata": {
        "id": "ovBO9Cf7HzUs"
      },
      "source": [
        "Vocabulary 생성!!!"
      ],
      "id": "ovBO9Cf7HzUs"
    },
    {
      "cell_type": "code",
      "metadata": {
        "id": "kGeQ-KS1-7R5"
      },
      "source": [
        "import tensorflow_datasets as tfds #Tokenizer 생성\n",
        "\n",
        "tokenizer = tfds.deprecated.text.SubwordTextEncoder.build_from_corpus(corpus_q + corpus_a, target_vocab_size=2**13)"
      ],
      "id": "kGeQ-KS1-7R5",
      "execution_count": 77,
      "outputs": []
    },
    {
      "cell_type": "code",
      "metadata": {
        "id": "q0Ikn58KHNq0"
      },
      "source": [
        "START_TOKEN, END_TOKEN = [tokenizer.vocab_size], [tokenizer.vocab_size + 1] #시작 종료 토큰 넘버 부여"
      ],
      "id": "q0Ikn58KHNq0",
      "execution_count": 78,
      "outputs": []
    },
    {
      "cell_type": "code",
      "metadata": {
        "colab": {
          "base_uri": "https://localhost:8080/"
        },
        "id": "yH1wjxToHU-U",
        "outputId": "23b0663c-3d75-4bc1-ba5c-f76fbf0717e8"
      },
      "source": [
        "print('START_TOKEN의 번호 :' ,[tokenizer.vocab_size])\n",
        "print('END_TOKEN의 번호 :' ,[tokenizer.vocab_size + 1])"
      ],
      "id": "yH1wjxToHU-U",
      "execution_count": 80,
      "outputs": [
        {
          "output_type": "stream",
          "name": "stdout",
          "text": [
            "START_TOKEN의 번호 : [8171]\n",
            "END_TOKEN의 번호 : [8172]\n"
          ]
        }
      ]
    },
    {
      "cell_type": "code",
      "metadata": {
        "colab": {
          "base_uri": "https://localhost:8080/"
        },
        "id": "bp5W6YH1HXNB",
        "outputId": "3d1770bc-b8c6-476a-d729-9a2e115052e2"
      },
      "source": [
        "VOCAB_SIZE = tokenizer.vocab_size + 2 #시작 종료 토큰 추가하여 Vocabulary size 설정\n",
        "print(VOCAB_SIZE)"
      ],
      "id": "bp5W6YH1HXNB",
      "execution_count": 81,
      "outputs": [
        {
          "output_type": "stream",
          "name": "stdout",
          "text": [
            "8173\n"
          ]
        }
      ]
    },
    {
      "cell_type": "markdown",
      "metadata": {
        "id": "qmBT4yMGIHsV"
      },
      "source": [
        "Encoding and Padding !!!"
      ],
      "id": "qmBT4yMGIHsV"
    },
    {
      "cell_type": "code",
      "metadata": {
        "colab": {
          "base_uri": "https://localhost:8080/"
        },
        "id": "6hEmMDVDHqOt",
        "outputId": "c07d0539-4dc5-43e0-9b12-b04bb846c2ce"
      },
      "source": [
        "# 인코딩해서 단어를 정수로 변환!!!\n",
        "print('정수 인코딩 후의 21번째 질문 샘플: {}'.format(tokenizer.encode(corpus_q[21])))\n",
        "print('정수 인코딩 후의 21번째 답변 샘플: {}'.format(tokenizer.encode(corpus_a[21])))"
      ],
      "id": "6hEmMDVDHqOt",
      "execution_count": 83,
      "outputs": [
        {
          "output_type": "stream",
          "name": "stdout",
          "text": [
            "정수 인코딩 후의 21번째 질문 샘플: [5760, 610, 2489, 4160]\n",
            "정수 인코딩 후의 21번째 답변 샘플: [2353, 7511, 7, 6273, 96, 1]\n"
          ]
        }
      ]
    },
    {
      "cell_type": "code",
      "metadata": {
        "colab": {
          "base_uri": "https://localhost:8080/"
        },
        "id": "xu5BXYUuIpKN",
        "outputId": "d1e68992-4a1d-46c5-ffd9-6cfa7139a1c7"
      },
      "source": [
        "# 인코딩 후 최대 길이 지정!!!\n",
        "MAX_LENGTH = 40\n",
        "print(MAX_LENGTH)"
      ],
      "id": "xu5BXYUuIpKN",
      "execution_count": 84,
      "outputs": [
        {
          "output_type": "stream",
          "name": "stdout",
          "text": [
            "40\n"
          ]
        }
      ]
    },
    {
      "cell_type": "code",
      "metadata": {
        "id": "kGcqxxU0I-sf"
      },
      "source": [
        "# 문장 형식 지정 및 최대 길이로 필터링 및 패딩까지 처리하는 함수\n",
        "def tokenize_and_filter(inputs, outputs):\n",
        "  tokenized_inputs, tokenized_outputs = [], []\n",
        "  \n",
        "  for (sentence1, sentence2) in zip(inputs, outputs):\n",
        "    sentence1 = START_TOKEN + tokenizer.encode(sentence1) + END_TOKEN\n",
        "    sentence2 = START_TOKEN + tokenizer.encode(sentence2) + END_TOKEN\n",
        "\n",
        "    if len(sentence1) <= MAX_LENGTH and len(sentence2) <= MAX_LENGTH:\n",
        "      tokenized_inputs.append(sentence1)\n",
        "      tokenized_outputs.append(sentence2)\n",
        "  \n",
        "  tokenized_inputs = tf.keras.preprocessing.sequence.pad_sequences(\n",
        "      tokenized_inputs, maxlen=MAX_LENGTH, padding='post')\n",
        "  tokenized_outputs = tf.keras.preprocessing.sequence.pad_sequences(\n",
        "      tokenized_outputs, maxlen=MAX_LENGTH, padding='post')\n",
        "  \n",
        "  return tokenized_inputs, tokenized_outputs"
      ],
      "id": "kGcqxxU0I-sf",
      "execution_count": 85,
      "outputs": []
    },
    {
      "cell_type": "code",
      "metadata": {
        "colab": {
          "base_uri": "https://localhost:8080/"
        },
        "id": "NOIXKOX7JZU0",
        "outputId": "87521a99-c961-4947-9a1a-a61dd036286c"
      },
      "source": [
        "# 필터링 함수 적용\n",
        "questions, answers = tokenize_and_filter(corpus_a, corpus_q)\n",
        "print('단어장의 크기 :',(VOCAB_SIZE))\n",
        "print('필터링 후의 질문 샘플 개수: {}'.format(len(questions)))\n",
        "print('필터링 후의 답변 샘플 개수: {}'.format(len(answers)))"
      ],
      "id": "NOIXKOX7JZU0",
      "execution_count": 86,
      "outputs": [
        {
          "output_type": "stream",
          "name": "stdout",
          "text": [
            "단어장의 크기 : 8173\n",
            "필터링 후의 질문 샘플 개수: 11823\n",
            "필터링 후의 답변 샘플 개수: 11823\n"
          ]
        }
      ]
    },
    {
      "cell_type": "markdown",
      "metadata": {
        "id": "wJTtTni2Jj09"
      },
      "source": [
        "#### 교사 강요(Teacher Forcing) 언어 모델 훈련 기법 (훈련 속도 증강 위해 사용)\n",
        "- 트랜스포머 모델의 Decoder가 자기 회귀 모델이기 때문에 사용해야 함"
      ],
      "id": "wJTtTni2Jj09"
    },
    {
      "cell_type": "code",
      "metadata": {
        "id": "xtAgsiadKFpm"
      },
      "source": [
        "# tf.data.Dataset API 입력으로 질문 답변 쌍을 사용함\n",
        "# 교사 강요, Decoder의 입력값과 레이블을 규칙에 따라 설정함\n",
        "\n",
        "BATCH_SIZE = 64\n",
        "BUFFER_SIZE = 20000\n",
        "\n",
        "dataset = tf.data.Dataset.from_tensor_slices((\n",
        "    {\n",
        "        'inputs': questions,\n",
        "        'dec_inputs': answers[:, :-1]\n",
        "    },\n",
        "    {\n",
        "        'outputs': answers[:, 1:]\n",
        "    },\n",
        "))\n",
        "\n",
        "dataset = dataset.cache()\n",
        "dataset = dataset.shuffle(BUFFER_SIZE)\n",
        "dataset = dataset.batch(BATCH_SIZE)\n",
        "dataset = dataset.prefetch(tf.data.experimental.AUTOTUNE)"
      ],
      "id": "xtAgsiadKFpm",
      "execution_count": 88,
      "outputs": []
    },
    {
      "cell_type": "markdown",
      "metadata": {
        "id": "focused-hungary"
      },
      "source": [
        "# 4. 모델 구성"
      ],
      "id": "focused-hungary"
    },
    {
      "cell_type": "markdown",
      "metadata": {
        "id": "romantic-healing"
      },
      "source": [
        "# 5. 모델 평가"
      ],
      "id": "romantic-healing"
    },
    {
      "cell_type": "markdown",
      "metadata": {
        "id": "comparable-flexibility"
      },
      "source": [
        "# 회고"
      ],
      "id": "comparable-flexibility"
    },
    {
      "cell_type": "markdown",
      "metadata": {
        "id": "9Ki3bEZI_5Jr"
      },
      "source": [
        "- 노드에는 영어 데이터, 데이터 파일의 형태가 다른 것으로 학습을 했는데, 갑자기 한글 데이터 및 다른 형태의 파일로 전처리를 해야해서 시간이 많이 걸렸다.\n",
        "- 영어와 한글은 다르게 처리해야 한다는 것을 알았다."
      ],
      "id": "9Ki3bEZI_5Jr"
    },
    {
      "cell_type": "markdown",
      "metadata": {
        "id": "yXq1oJ_GBSnM"
      },
      "source": [
        "[Transformer와 RNN의 차이점]\n",
        "- RNN은 어순대로 모델에 입력되기 때문에 어순 정보가 필요 없음\n",
        "- Transformer는 한꺼번에 문장을 입력받기 때문에 어순을 알려줘야 함\n",
        "- 각 단어에 임베딩 벡터 + 위치정보 벡터 값(사인 함수, 코사인 함수 값)을 더해줘야 함"
      ],
      "id": "yXq1oJ_GBSnM"
    },
    {
      "cell_type": "markdown",
      "metadata": {
        "id": "DYJmJH4jBSnM"
      },
      "source": [
        "[Attention이 하는 일]\n",
        "- Encoder Self Attention : 입력 문장 단어들 간의 유사도 구함\n",
        "- Decoder Self Attention : 먼저 생성된 단어들과 유사도 구함\n",
        "- Encoder Decoder Attention : 인코더 입력 단어들과 유사도 구함"
      ],
      "id": "DYJmJH4jBSnM"
    },
    {
      "cell_type": "markdown",
      "metadata": {
        "id": "X8ivrfzOBSnN"
      },
      "source": [
        "[Padding Masking]\n",
        "- 길이를 맞추기 위해서 빈 공간을 0으로 채우는데, 이 숫자 0을 체크해서 0인 위치는 벡터 1값으로, 문자는 벡터 0 출력\n",
        "\n",
        "[Look-ahead masking]\n",
        "- 트랜스포머는 문장을 한번에 들어가는데, 이때 올바른 예측 훈련을 위해 기준이 되는 단어보다 다음에 나오는 단어를 참고하지 않도록 함"
      ],
      "id": "X8ivrfzOBSnN"
    }
  ]
}