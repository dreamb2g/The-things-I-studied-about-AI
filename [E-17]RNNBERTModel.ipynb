{
  "nbformat": 4,
  "nbformat_minor": 5,
  "metadata": {
    "kernelspec": {
      "display_name": "Python 3",
      "language": "python",
      "name": "python3"
    },
    "language_info": {
      "codemirror_mode": {
        "name": "ipython",
        "version": 3
      },
      "file_extension": ".py",
      "mimetype": "text/x-python",
      "name": "python",
      "nbconvert_exporter": "python",
      "pygments_lexer": "ipython3",
      "version": "3.7.9"
    },
    "colab": {
      "name": "[E-17]RNNBERTModel.ipynb",
      "provenance": [],
      "collapsed_sections": [
        "exterior-projector",
        "great-robert",
        "fuzzy-myrtle"
      ]
    },
    "accelerator": "GPU",
    "widgets": {
      "application/vnd.jupyter.widget-state+json": {
        "b4a4714aedcd44ca81f1baf768abd25f": {
          "model_module": "@jupyter-widgets/controls",
          "model_name": "HBoxModel",
          "model_module_version": "1.5.0",
          "state": {
            "_view_name": "HBoxView",
            "_dom_classes": [],
            "_model_name": "HBoxModel",
            "_view_module": "@jupyter-widgets/controls",
            "_model_module_version": "1.5.0",
            "_view_count": null,
            "_view_module_version": "1.5.0",
            "box_style": "",
            "layout": "IPY_MODEL_40d29041e3e2442b8a268d2086a3c159",
            "_model_module": "@jupyter-widgets/controls",
            "children": [
              "IPY_MODEL_95d6fed089c7460f8a0ac7b5b02fa08f",
              "IPY_MODEL_eec4b33bab9e414ebe35a927993c1f5f",
              "IPY_MODEL_2b5ca82cda094000a499fa609628055e"
            ]
          }
        },
        "40d29041e3e2442b8a268d2086a3c159": {
          "model_module": "@jupyter-widgets/base",
          "model_name": "LayoutModel",
          "model_module_version": "1.2.0",
          "state": {
            "_view_name": "LayoutView",
            "grid_template_rows": null,
            "right": null,
            "justify_content": null,
            "_view_module": "@jupyter-widgets/base",
            "overflow": null,
            "_model_module_version": "1.2.0",
            "_view_count": null,
            "flex_flow": null,
            "width": null,
            "min_width": null,
            "border": null,
            "align_items": null,
            "bottom": null,
            "_model_module": "@jupyter-widgets/base",
            "top": null,
            "grid_column": null,
            "overflow_y": null,
            "overflow_x": null,
            "grid_auto_flow": null,
            "grid_area": null,
            "grid_template_columns": null,
            "flex": null,
            "_model_name": "LayoutModel",
            "justify_items": null,
            "grid_row": null,
            "max_height": null,
            "align_content": null,
            "visibility": null,
            "align_self": null,
            "height": null,
            "min_height": null,
            "padding": null,
            "grid_auto_rows": null,
            "grid_gap": null,
            "max_width": null,
            "order": null,
            "_view_module_version": "1.2.0",
            "grid_template_areas": null,
            "object_position": null,
            "object_fit": null,
            "grid_auto_columns": null,
            "margin": null,
            "display": null,
            "left": null
          }
        },
        "95d6fed089c7460f8a0ac7b5b02fa08f": {
          "model_module": "@jupyter-widgets/controls",
          "model_name": "HTMLModel",
          "model_module_version": "1.5.0",
          "state": {
            "_view_name": "HTMLView",
            "style": "IPY_MODEL_5bc2e47a9f624aa0ba995338072c4e5a",
            "_dom_classes": [],
            "description": "",
            "_model_name": "HTMLModel",
            "placeholder": "​",
            "_view_module": "@jupyter-widgets/controls",
            "_model_module_version": "1.5.0",
            "value": "100%",
            "_view_count": null,
            "_view_module_version": "1.5.0",
            "description_tooltip": null,
            "_model_module": "@jupyter-widgets/controls",
            "layout": "IPY_MODEL_384411fbc40e4fb9a3d61613b041d671"
          }
        },
        "eec4b33bab9e414ebe35a927993c1f5f": {
          "model_module": "@jupyter-widgets/controls",
          "model_name": "FloatProgressModel",
          "model_module_version": "1.5.0",
          "state": {
            "_view_name": "ProgressView",
            "style": "IPY_MODEL_ca57d9334ca9409d8fca72e4e6aec02f",
            "_dom_classes": [],
            "description": "",
            "_model_name": "FloatProgressModel",
            "bar_style": "success",
            "max": 1420,
            "_view_module": "@jupyter-widgets/controls",
            "_model_module_version": "1.5.0",
            "value": 1420,
            "_view_count": null,
            "_view_module_version": "1.5.0",
            "orientation": "horizontal",
            "min": 0,
            "description_tooltip": null,
            "_model_module": "@jupyter-widgets/controls",
            "layout": "IPY_MODEL_3ab29ee129a34ad298acca1d7021d15c"
          }
        },
        "2b5ca82cda094000a499fa609628055e": {
          "model_module": "@jupyter-widgets/controls",
          "model_name": "HTMLModel",
          "model_module_version": "1.5.0",
          "state": {
            "_view_name": "HTMLView",
            "style": "IPY_MODEL_09696bf46357457a9f9b71463a7a4417",
            "_dom_classes": [],
            "description": "",
            "_model_name": "HTMLModel",
            "placeholder": "​",
            "_view_module": "@jupyter-widgets/controls",
            "_model_module_version": "1.5.0",
            "value": " 1420/1420 [00:31&lt;00:00, 22.41it/s]",
            "_view_count": null,
            "_view_module_version": "1.5.0",
            "description_tooltip": null,
            "_model_module": "@jupyter-widgets/controls",
            "layout": "IPY_MODEL_482a6e0d248946b28586fe603be57654"
          }
        },
        "5bc2e47a9f624aa0ba995338072c4e5a": {
          "model_module": "@jupyter-widgets/controls",
          "model_name": "DescriptionStyleModel",
          "model_module_version": "1.5.0",
          "state": {
            "_view_name": "StyleView",
            "_model_name": "DescriptionStyleModel",
            "description_width": "",
            "_view_module": "@jupyter-widgets/base",
            "_model_module_version": "1.5.0",
            "_view_count": null,
            "_view_module_version": "1.2.0",
            "_model_module": "@jupyter-widgets/controls"
          }
        },
        "384411fbc40e4fb9a3d61613b041d671": {
          "model_module": "@jupyter-widgets/base",
          "model_name": "LayoutModel",
          "model_module_version": "1.2.0",
          "state": {
            "_view_name": "LayoutView",
            "grid_template_rows": null,
            "right": null,
            "justify_content": null,
            "_view_module": "@jupyter-widgets/base",
            "overflow": null,
            "_model_module_version": "1.2.0",
            "_view_count": null,
            "flex_flow": null,
            "width": null,
            "min_width": null,
            "border": null,
            "align_items": null,
            "bottom": null,
            "_model_module": "@jupyter-widgets/base",
            "top": null,
            "grid_column": null,
            "overflow_y": null,
            "overflow_x": null,
            "grid_auto_flow": null,
            "grid_area": null,
            "grid_template_columns": null,
            "flex": null,
            "_model_name": "LayoutModel",
            "justify_items": null,
            "grid_row": null,
            "max_height": null,
            "align_content": null,
            "visibility": null,
            "align_self": null,
            "height": null,
            "min_height": null,
            "padding": null,
            "grid_auto_rows": null,
            "grid_gap": null,
            "max_width": null,
            "order": null,
            "_view_module_version": "1.2.0",
            "grid_template_areas": null,
            "object_position": null,
            "object_fit": null,
            "grid_auto_columns": null,
            "margin": null,
            "display": null,
            "left": null
          }
        },
        "ca57d9334ca9409d8fca72e4e6aec02f": {
          "model_module": "@jupyter-widgets/controls",
          "model_name": "ProgressStyleModel",
          "model_module_version": "1.5.0",
          "state": {
            "_view_name": "StyleView",
            "_model_name": "ProgressStyleModel",
            "description_width": "",
            "_view_module": "@jupyter-widgets/base",
            "_model_module_version": "1.5.0",
            "_view_count": null,
            "_view_module_version": "1.2.0",
            "bar_color": null,
            "_model_module": "@jupyter-widgets/controls"
          }
        },
        "3ab29ee129a34ad298acca1d7021d15c": {
          "model_module": "@jupyter-widgets/base",
          "model_name": "LayoutModel",
          "model_module_version": "1.2.0",
          "state": {
            "_view_name": "LayoutView",
            "grid_template_rows": null,
            "right": null,
            "justify_content": null,
            "_view_module": "@jupyter-widgets/base",
            "overflow": null,
            "_model_module_version": "1.2.0",
            "_view_count": null,
            "flex_flow": null,
            "width": null,
            "min_width": null,
            "border": null,
            "align_items": null,
            "bottom": null,
            "_model_module": "@jupyter-widgets/base",
            "top": null,
            "grid_column": null,
            "overflow_y": null,
            "overflow_x": null,
            "grid_auto_flow": null,
            "grid_area": null,
            "grid_template_columns": null,
            "flex": null,
            "_model_name": "LayoutModel",
            "justify_items": null,
            "grid_row": null,
            "max_height": null,
            "align_content": null,
            "visibility": null,
            "align_self": null,
            "height": null,
            "min_height": null,
            "padding": null,
            "grid_auto_rows": null,
            "grid_gap": null,
            "max_width": null,
            "order": null,
            "_view_module_version": "1.2.0",
            "grid_template_areas": null,
            "object_position": null,
            "object_fit": null,
            "grid_auto_columns": null,
            "margin": null,
            "display": null,
            "left": null
          }
        },
        "09696bf46357457a9f9b71463a7a4417": {
          "model_module": "@jupyter-widgets/controls",
          "model_name": "DescriptionStyleModel",
          "model_module_version": "1.5.0",
          "state": {
            "_view_name": "StyleView",
            "_model_name": "DescriptionStyleModel",
            "description_width": "",
            "_view_module": "@jupyter-widgets/base",
            "_model_module_version": "1.5.0",
            "_view_count": null,
            "_view_module_version": "1.2.0",
            "_model_module": "@jupyter-widgets/controls"
          }
        },
        "482a6e0d248946b28586fe603be57654": {
          "model_module": "@jupyter-widgets/base",
          "model_name": "LayoutModel",
          "model_module_version": "1.2.0",
          "state": {
            "_view_name": "LayoutView",
            "grid_template_rows": null,
            "right": null,
            "justify_content": null,
            "_view_module": "@jupyter-widgets/base",
            "overflow": null,
            "_model_module_version": "1.2.0",
            "_view_count": null,
            "flex_flow": null,
            "width": null,
            "min_width": null,
            "border": null,
            "align_items": null,
            "bottom": null,
            "_model_module": "@jupyter-widgets/base",
            "top": null,
            "grid_column": null,
            "overflow_y": null,
            "overflow_x": null,
            "grid_auto_flow": null,
            "grid_area": null,
            "grid_template_columns": null,
            "flex": null,
            "_model_name": "LayoutModel",
            "justify_items": null,
            "grid_row": null,
            "max_height": null,
            "align_content": null,
            "visibility": null,
            "align_self": null,
            "height": null,
            "min_height": null,
            "padding": null,
            "grid_auto_rows": null,
            "grid_gap": null,
            "max_width": null,
            "order": null,
            "_view_module_version": "1.2.0",
            "grid_template_areas": null,
            "object_position": null,
            "object_fit": null,
            "grid_auto_columns": null,
            "margin": null,
            "display": null,
            "left": null
          }
        },
        "47effa81589047aba38c2ab9c36a7aeb": {
          "model_module": "@jupyter-widgets/controls",
          "model_name": "HBoxModel",
          "model_module_version": "1.5.0",
          "state": {
            "_view_name": "HBoxView",
            "_dom_classes": [],
            "_model_name": "HBoxModel",
            "_view_module": "@jupyter-widgets/controls",
            "_model_module_version": "1.5.0",
            "_view_count": null,
            "_view_module_version": "1.5.0",
            "box_style": "",
            "layout": "IPY_MODEL_732a4478f71745c89c454ac553882c21",
            "_model_module": "@jupyter-widgets/controls",
            "children": [
              "IPY_MODEL_0865d19eeb944c2d9af460587aebbed2",
              "IPY_MODEL_3b659680bb12466e8ceeef46e64ef7f9",
              "IPY_MODEL_678713b8d503426fb3cd0e93ce503cf7"
            ]
          }
        },
        "732a4478f71745c89c454ac553882c21": {
          "model_module": "@jupyter-widgets/base",
          "model_name": "LayoutModel",
          "model_module_version": "1.2.0",
          "state": {
            "_view_name": "LayoutView",
            "grid_template_rows": null,
            "right": null,
            "justify_content": null,
            "_view_module": "@jupyter-widgets/base",
            "overflow": null,
            "_model_module_version": "1.2.0",
            "_view_count": null,
            "flex_flow": null,
            "width": null,
            "min_width": null,
            "border": null,
            "align_items": null,
            "bottom": null,
            "_model_module": "@jupyter-widgets/base",
            "top": null,
            "grid_column": null,
            "overflow_y": null,
            "overflow_x": null,
            "grid_auto_flow": null,
            "grid_area": null,
            "grid_template_columns": null,
            "flex": null,
            "_model_name": "LayoutModel",
            "justify_items": null,
            "grid_row": null,
            "max_height": null,
            "align_content": null,
            "visibility": null,
            "align_self": null,
            "height": null,
            "min_height": null,
            "padding": null,
            "grid_auto_rows": null,
            "grid_gap": null,
            "max_width": null,
            "order": null,
            "_view_module_version": "1.2.0",
            "grid_template_areas": null,
            "object_position": null,
            "object_fit": null,
            "grid_auto_columns": null,
            "margin": null,
            "display": null,
            "left": null
          }
        },
        "0865d19eeb944c2d9af460587aebbed2": {
          "model_module": "@jupyter-widgets/controls",
          "model_name": "HTMLModel",
          "model_module_version": "1.5.0",
          "state": {
            "_view_name": "HTMLView",
            "style": "IPY_MODEL_b2a0d7e7ee3947a09e2161d9a21b1b0e",
            "_dom_classes": [],
            "description": "",
            "_model_name": "HTMLModel",
            "placeholder": "​",
            "_view_module": "@jupyter-widgets/controls",
            "_model_module_version": "1.5.0",
            "value": "100%",
            "_view_count": null,
            "_view_module_version": "1.5.0",
            "description_tooltip": null,
            "_model_module": "@jupyter-widgets/controls",
            "layout": "IPY_MODEL_b9faf4e8df4c4ef8bb40fec8a746630f"
          }
        },
        "3b659680bb12466e8ceeef46e64ef7f9": {
          "model_module": "@jupyter-widgets/controls",
          "model_name": "FloatProgressModel",
          "model_module_version": "1.5.0",
          "state": {
            "_view_name": "ProgressView",
            "style": "IPY_MODEL_14f9ec214d024550a993080aba34e128",
            "_dom_classes": [],
            "description": "",
            "_model_name": "FloatProgressModel",
            "bar_style": "success",
            "max": 140,
            "_view_module": "@jupyter-widgets/controls",
            "_model_module_version": "1.5.0",
            "value": 140,
            "_view_count": null,
            "_view_module_version": "1.5.0",
            "orientation": "horizontal",
            "min": 0,
            "description_tooltip": null,
            "_model_module": "@jupyter-widgets/controls",
            "layout": "IPY_MODEL_2354b368392542f19b93e0fb948b6007"
          }
        },
        "678713b8d503426fb3cd0e93ce503cf7": {
          "model_module": "@jupyter-widgets/controls",
          "model_name": "HTMLModel",
          "model_module_version": "1.5.0",
          "state": {
            "_view_name": "HTMLView",
            "style": "IPY_MODEL_84f483feb0f04e8fa3168fe99783f16e",
            "_dom_classes": [],
            "description": "",
            "_model_name": "HTMLModel",
            "placeholder": "​",
            "_view_module": "@jupyter-widgets/controls",
            "_model_module_version": "1.5.0",
            "value": " 140/140 [00:03&lt;00:00, 41.40it/s]",
            "_view_count": null,
            "_view_module_version": "1.5.0",
            "description_tooltip": null,
            "_model_module": "@jupyter-widgets/controls",
            "layout": "IPY_MODEL_07098efa3a754cc18a311bb29c0ee324"
          }
        },
        "b2a0d7e7ee3947a09e2161d9a21b1b0e": {
          "model_module": "@jupyter-widgets/controls",
          "model_name": "DescriptionStyleModel",
          "model_module_version": "1.5.0",
          "state": {
            "_view_name": "StyleView",
            "_model_name": "DescriptionStyleModel",
            "description_width": "",
            "_view_module": "@jupyter-widgets/base",
            "_model_module_version": "1.5.0",
            "_view_count": null,
            "_view_module_version": "1.2.0",
            "_model_module": "@jupyter-widgets/controls"
          }
        },
        "b9faf4e8df4c4ef8bb40fec8a746630f": {
          "model_module": "@jupyter-widgets/base",
          "model_name": "LayoutModel",
          "model_module_version": "1.2.0",
          "state": {
            "_view_name": "LayoutView",
            "grid_template_rows": null,
            "right": null,
            "justify_content": null,
            "_view_module": "@jupyter-widgets/base",
            "overflow": null,
            "_model_module_version": "1.2.0",
            "_view_count": null,
            "flex_flow": null,
            "width": null,
            "min_width": null,
            "border": null,
            "align_items": null,
            "bottom": null,
            "_model_module": "@jupyter-widgets/base",
            "top": null,
            "grid_column": null,
            "overflow_y": null,
            "overflow_x": null,
            "grid_auto_flow": null,
            "grid_area": null,
            "grid_template_columns": null,
            "flex": null,
            "_model_name": "LayoutModel",
            "justify_items": null,
            "grid_row": null,
            "max_height": null,
            "align_content": null,
            "visibility": null,
            "align_self": null,
            "height": null,
            "min_height": null,
            "padding": null,
            "grid_auto_rows": null,
            "grid_gap": null,
            "max_width": null,
            "order": null,
            "_view_module_version": "1.2.0",
            "grid_template_areas": null,
            "object_position": null,
            "object_fit": null,
            "grid_auto_columns": null,
            "margin": null,
            "display": null,
            "left": null
          }
        },
        "14f9ec214d024550a993080aba34e128": {
          "model_module": "@jupyter-widgets/controls",
          "model_name": "ProgressStyleModel",
          "model_module_version": "1.5.0",
          "state": {
            "_view_name": "StyleView",
            "_model_name": "ProgressStyleModel",
            "description_width": "",
            "_view_module": "@jupyter-widgets/base",
            "_model_module_version": "1.5.0",
            "_view_count": null,
            "_view_module_version": "1.2.0",
            "bar_color": null,
            "_model_module": "@jupyter-widgets/controls"
          }
        },
        "2354b368392542f19b93e0fb948b6007": {
          "model_module": "@jupyter-widgets/base",
          "model_name": "LayoutModel",
          "model_module_version": "1.2.0",
          "state": {
            "_view_name": "LayoutView",
            "grid_template_rows": null,
            "right": null,
            "justify_content": null,
            "_view_module": "@jupyter-widgets/base",
            "overflow": null,
            "_model_module_version": "1.2.0",
            "_view_count": null,
            "flex_flow": null,
            "width": null,
            "min_width": null,
            "border": null,
            "align_items": null,
            "bottom": null,
            "_model_module": "@jupyter-widgets/base",
            "top": null,
            "grid_column": null,
            "overflow_y": null,
            "overflow_x": null,
            "grid_auto_flow": null,
            "grid_area": null,
            "grid_template_columns": null,
            "flex": null,
            "_model_name": "LayoutModel",
            "justify_items": null,
            "grid_row": null,
            "max_height": null,
            "align_content": null,
            "visibility": null,
            "align_self": null,
            "height": null,
            "min_height": null,
            "padding": null,
            "grid_auto_rows": null,
            "grid_gap": null,
            "max_width": null,
            "order": null,
            "_view_module_version": "1.2.0",
            "grid_template_areas": null,
            "object_position": null,
            "object_fit": null,
            "grid_auto_columns": null,
            "margin": null,
            "display": null,
            "left": null
          }
        },
        "84f483feb0f04e8fa3168fe99783f16e": {
          "model_module": "@jupyter-widgets/controls",
          "model_name": "DescriptionStyleModel",
          "model_module_version": "1.5.0",
          "state": {
            "_view_name": "StyleView",
            "_model_name": "DescriptionStyleModel",
            "description_width": "",
            "_view_module": "@jupyter-widgets/base",
            "_model_module_version": "1.5.0",
            "_view_count": null,
            "_view_module_version": "1.2.0",
            "_model_module": "@jupyter-widgets/controls"
          }
        },
        "07098efa3a754cc18a311bb29c0ee324": {
          "model_module": "@jupyter-widgets/base",
          "model_name": "LayoutModel",
          "model_module_version": "1.2.0",
          "state": {
            "_view_name": "LayoutView",
            "grid_template_rows": null,
            "right": null,
            "justify_content": null,
            "_view_module": "@jupyter-widgets/base",
            "overflow": null,
            "_model_module_version": "1.2.0",
            "_view_count": null,
            "flex_flow": null,
            "width": null,
            "min_width": null,
            "border": null,
            "align_items": null,
            "bottom": null,
            "_model_module": "@jupyter-widgets/base",
            "top": null,
            "grid_column": null,
            "overflow_y": null,
            "overflow_x": null,
            "grid_auto_flow": null,
            "grid_area": null,
            "grid_template_columns": null,
            "flex": null,
            "_model_name": "LayoutModel",
            "justify_items": null,
            "grid_row": null,
            "max_height": null,
            "align_content": null,
            "visibility": null,
            "align_self": null,
            "height": null,
            "min_height": null,
            "padding": null,
            "grid_auto_rows": null,
            "grid_gap": null,
            "max_width": null,
            "order": null,
            "_view_module_version": "1.2.0",
            "grid_template_areas": null,
            "object_position": null,
            "object_fit": null,
            "grid_auto_columns": null,
            "margin": null,
            "display": null,
            "left": null
          }
        },
        "fb95aa7e2f254967ba62f7be1e792342": {
          "model_module": "@jupyter-widgets/controls",
          "model_name": "HBoxModel",
          "model_module_version": "1.5.0",
          "state": {
            "_view_name": "HBoxView",
            "_dom_classes": [],
            "_model_name": "HBoxModel",
            "_view_module": "@jupyter-widgets/controls",
            "_model_module_version": "1.5.0",
            "_view_count": null,
            "_view_module_version": "1.5.0",
            "box_style": "",
            "layout": "IPY_MODEL_ab4c7926a4c84d2d93ee5d49bc81f326",
            "_model_module": "@jupyter-widgets/controls",
            "children": [
              "IPY_MODEL_89f6c96aa83f4119a95d916b6e946544",
              "IPY_MODEL_0fe16a145c17415cb9945614bb0eb373",
              "IPY_MODEL_6579e6456e064e45b8f8b6464b4700e2"
            ]
          }
        },
        "ab4c7926a4c84d2d93ee5d49bc81f326": {
          "model_module": "@jupyter-widgets/base",
          "model_name": "LayoutModel",
          "model_module_version": "1.2.0",
          "state": {
            "_view_name": "LayoutView",
            "grid_template_rows": null,
            "right": null,
            "justify_content": null,
            "_view_module": "@jupyter-widgets/base",
            "overflow": null,
            "_model_module_version": "1.2.0",
            "_view_count": null,
            "flex_flow": null,
            "width": null,
            "min_width": null,
            "border": null,
            "align_items": null,
            "bottom": null,
            "_model_module": "@jupyter-widgets/base",
            "top": null,
            "grid_column": null,
            "overflow_y": null,
            "overflow_x": null,
            "grid_auto_flow": null,
            "grid_area": null,
            "grid_template_columns": null,
            "flex": null,
            "_model_name": "LayoutModel",
            "justify_items": null,
            "grid_row": null,
            "max_height": null,
            "align_content": null,
            "visibility": null,
            "align_self": null,
            "height": null,
            "min_height": null,
            "padding": null,
            "grid_auto_rows": null,
            "grid_gap": null,
            "max_width": null,
            "order": null,
            "_view_module_version": "1.2.0",
            "grid_template_areas": null,
            "object_position": null,
            "object_fit": null,
            "grid_auto_columns": null,
            "margin": null,
            "display": null,
            "left": null
          }
        },
        "89f6c96aa83f4119a95d916b6e946544": {
          "model_module": "@jupyter-widgets/controls",
          "model_name": "HTMLModel",
          "model_module_version": "1.5.0",
          "state": {
            "_view_name": "HTMLView",
            "style": "IPY_MODEL_bf0fad9fd6634b3aaf546386fc5bbc24",
            "_dom_classes": [],
            "description": "",
            "_model_name": "HTMLModel",
            "placeholder": "​",
            "_view_module": "@jupyter-widgets/controls",
            "_model_module_version": "1.5.0",
            "value": "Loading ...: ",
            "_view_count": null,
            "_view_module_version": "1.5.0",
            "description_tooltip": null,
            "_model_module": "@jupyter-widgets/controls",
            "layout": "IPY_MODEL_5689db0b7aa44599974cc50a9527f2e9"
          }
        },
        "0fe16a145c17415cb9945614bb0eb373": {
          "model_module": "@jupyter-widgets/controls",
          "model_name": "FloatProgressModel",
          "model_module_version": "1.5.0",
          "state": {
            "_view_name": "ProgressView",
            "style": "IPY_MODEL_f1f1d1d16cd442d882935c81ccad7528",
            "_dom_classes": [],
            "description": "",
            "_model_name": "FloatProgressModel",
            "bar_style": "success",
            "max": 1,
            "_view_module": "@jupyter-widgets/controls",
            "_model_module_version": "1.5.0",
            "value": 1,
            "_view_count": null,
            "_view_module_version": "1.5.0",
            "orientation": "horizontal",
            "min": 0,
            "description_tooltip": null,
            "_model_module": "@jupyter-widgets/controls",
            "layout": "IPY_MODEL_1913126a84544be0954638361944b78c"
          }
        },
        "6579e6456e064e45b8f8b6464b4700e2": {
          "model_module": "@jupyter-widgets/controls",
          "model_name": "HTMLModel",
          "model_module_version": "1.5.0",
          "state": {
            "_view_name": "HTMLView",
            "style": "IPY_MODEL_19d9e47d649745958f65f3481411c56f",
            "_dom_classes": [],
            "description": "",
            "_model_name": "HTMLModel",
            "placeholder": "​",
            "_view_module": "@jupyter-widgets/controls",
            "_model_module_version": "1.5.0",
            "value": " 60407/? [00:22&lt;00:00, 2379.25it/s]",
            "_view_count": null,
            "_view_module_version": "1.5.0",
            "description_tooltip": null,
            "_model_module": "@jupyter-widgets/controls",
            "layout": "IPY_MODEL_4bd2e130019f4d66abe9de0cfb541571"
          }
        },
        "bf0fad9fd6634b3aaf546386fc5bbc24": {
          "model_module": "@jupyter-widgets/controls",
          "model_name": "DescriptionStyleModel",
          "model_module_version": "1.5.0",
          "state": {
            "_view_name": "StyleView",
            "_model_name": "DescriptionStyleModel",
            "description_width": "",
            "_view_module": "@jupyter-widgets/base",
            "_model_module_version": "1.5.0",
            "_view_count": null,
            "_view_module_version": "1.2.0",
            "_model_module": "@jupyter-widgets/controls"
          }
        },
        "5689db0b7aa44599974cc50a9527f2e9": {
          "model_module": "@jupyter-widgets/base",
          "model_name": "LayoutModel",
          "model_module_version": "1.2.0",
          "state": {
            "_view_name": "LayoutView",
            "grid_template_rows": null,
            "right": null,
            "justify_content": null,
            "_view_module": "@jupyter-widgets/base",
            "overflow": null,
            "_model_module_version": "1.2.0",
            "_view_count": null,
            "flex_flow": null,
            "width": null,
            "min_width": null,
            "border": null,
            "align_items": null,
            "bottom": null,
            "_model_module": "@jupyter-widgets/base",
            "top": null,
            "grid_column": null,
            "overflow_y": null,
            "overflow_x": null,
            "grid_auto_flow": null,
            "grid_area": null,
            "grid_template_columns": null,
            "flex": null,
            "_model_name": "LayoutModel",
            "justify_items": null,
            "grid_row": null,
            "max_height": null,
            "align_content": null,
            "visibility": null,
            "align_self": null,
            "height": null,
            "min_height": null,
            "padding": null,
            "grid_auto_rows": null,
            "grid_gap": null,
            "max_width": null,
            "order": null,
            "_view_module_version": "1.2.0",
            "grid_template_areas": null,
            "object_position": null,
            "object_fit": null,
            "grid_auto_columns": null,
            "margin": null,
            "display": null,
            "left": null
          }
        },
        "f1f1d1d16cd442d882935c81ccad7528": {
          "model_module": "@jupyter-widgets/controls",
          "model_name": "ProgressStyleModel",
          "model_module_version": "1.5.0",
          "state": {
            "_view_name": "StyleView",
            "_model_name": "ProgressStyleModel",
            "description_width": "",
            "_view_module": "@jupyter-widgets/base",
            "_model_module_version": "1.5.0",
            "_view_count": null,
            "_view_module_version": "1.2.0",
            "bar_color": null,
            "_model_module": "@jupyter-widgets/controls"
          }
        },
        "1913126a84544be0954638361944b78c": {
          "model_module": "@jupyter-widgets/base",
          "model_name": "LayoutModel",
          "model_module_version": "1.2.0",
          "state": {
            "_view_name": "LayoutView",
            "grid_template_rows": null,
            "right": null,
            "justify_content": null,
            "_view_module": "@jupyter-widgets/base",
            "overflow": null,
            "_model_module_version": "1.2.0",
            "_view_count": null,
            "flex_flow": null,
            "width": "20px",
            "min_width": null,
            "border": null,
            "align_items": null,
            "bottom": null,
            "_model_module": "@jupyter-widgets/base",
            "top": null,
            "grid_column": null,
            "overflow_y": null,
            "overflow_x": null,
            "grid_auto_flow": null,
            "grid_area": null,
            "grid_template_columns": null,
            "flex": null,
            "_model_name": "LayoutModel",
            "justify_items": null,
            "grid_row": null,
            "max_height": null,
            "align_content": null,
            "visibility": null,
            "align_self": null,
            "height": null,
            "min_height": null,
            "padding": null,
            "grid_auto_rows": null,
            "grid_gap": null,
            "max_width": null,
            "order": null,
            "_view_module_version": "1.2.0",
            "grid_template_areas": null,
            "object_position": null,
            "object_fit": null,
            "grid_auto_columns": null,
            "margin": null,
            "display": null,
            "left": null
          }
        },
        "19d9e47d649745958f65f3481411c56f": {
          "model_module": "@jupyter-widgets/controls",
          "model_name": "DescriptionStyleModel",
          "model_module_version": "1.5.0",
          "state": {
            "_view_name": "StyleView",
            "_model_name": "DescriptionStyleModel",
            "description_width": "",
            "_view_module": "@jupyter-widgets/base",
            "_model_module_version": "1.5.0",
            "_view_count": null,
            "_view_module_version": "1.2.0",
            "_model_module": "@jupyter-widgets/controls"
          }
        },
        "4bd2e130019f4d66abe9de0cfb541571": {
          "model_module": "@jupyter-widgets/base",
          "model_name": "LayoutModel",
          "model_module_version": "1.2.0",
          "state": {
            "_view_name": "LayoutView",
            "grid_template_rows": null,
            "right": null,
            "justify_content": null,
            "_view_module": "@jupyter-widgets/base",
            "overflow": null,
            "_model_module_version": "1.2.0",
            "_view_count": null,
            "flex_flow": null,
            "width": null,
            "min_width": null,
            "border": null,
            "align_items": null,
            "bottom": null,
            "_model_module": "@jupyter-widgets/base",
            "top": null,
            "grid_column": null,
            "overflow_y": null,
            "overflow_x": null,
            "grid_auto_flow": null,
            "grid_area": null,
            "grid_template_columns": null,
            "flex": null,
            "_model_name": "LayoutModel",
            "justify_items": null,
            "grid_row": null,
            "max_height": null,
            "align_content": null,
            "visibility": null,
            "align_self": null,
            "height": null,
            "min_height": null,
            "padding": null,
            "grid_auto_rows": null,
            "grid_gap": null,
            "max_width": null,
            "order": null,
            "_view_module_version": "1.2.0",
            "grid_template_areas": null,
            "object_position": null,
            "object_fit": null,
            "grid_auto_columns": null,
            "margin": null,
            "display": null,
            "left": null
          }
        },
        "06ff2014c9e14105a0ef8fcdd964bc2a": {
          "model_module": "@jupyter-widgets/controls",
          "model_name": "HBoxModel",
          "model_module_version": "1.5.0",
          "state": {
            "_view_name": "HBoxView",
            "_dom_classes": [],
            "_model_name": "HBoxModel",
            "_view_module": "@jupyter-widgets/controls",
            "_model_module_version": "1.5.0",
            "_view_count": null,
            "_view_module_version": "1.5.0",
            "box_style": "",
            "layout": "IPY_MODEL_fe633ad1469f4cac85d0caa741580923",
            "_model_module": "@jupyter-widgets/controls",
            "children": [
              "IPY_MODEL_60ceaacbce4f4b5abb11190259cf808b",
              "IPY_MODEL_ca20c56b12b24fb4b2ba4da3e92df5fc",
              "IPY_MODEL_129909839a87495c94c6aa7e5f5f2b08"
            ]
          }
        },
        "fe633ad1469f4cac85d0caa741580923": {
          "model_module": "@jupyter-widgets/base",
          "model_name": "LayoutModel",
          "model_module_version": "1.2.0",
          "state": {
            "_view_name": "LayoutView",
            "grid_template_rows": null,
            "right": null,
            "justify_content": null,
            "_view_module": "@jupyter-widgets/base",
            "overflow": null,
            "_model_module_version": "1.2.0",
            "_view_count": null,
            "flex_flow": null,
            "width": null,
            "min_width": null,
            "border": null,
            "align_items": null,
            "bottom": null,
            "_model_module": "@jupyter-widgets/base",
            "top": null,
            "grid_column": null,
            "overflow_y": null,
            "overflow_x": null,
            "grid_auto_flow": null,
            "grid_area": null,
            "grid_template_columns": null,
            "flex": null,
            "_model_name": "LayoutModel",
            "justify_items": null,
            "grid_row": null,
            "max_height": null,
            "align_content": null,
            "visibility": null,
            "align_self": null,
            "height": null,
            "min_height": null,
            "padding": null,
            "grid_auto_rows": null,
            "grid_gap": null,
            "max_width": null,
            "order": null,
            "_view_module_version": "1.2.0",
            "grid_template_areas": null,
            "object_position": null,
            "object_fit": null,
            "grid_auto_columns": null,
            "margin": null,
            "display": null,
            "left": null
          }
        },
        "60ceaacbce4f4b5abb11190259cf808b": {
          "model_module": "@jupyter-widgets/controls",
          "model_name": "HTMLModel",
          "model_module_version": "1.5.0",
          "state": {
            "_view_name": "HTMLView",
            "style": "IPY_MODEL_fd9d90b626414178a16ef2f283bd214f",
            "_dom_classes": [],
            "description": "",
            "_model_name": "HTMLModel",
            "placeholder": "​",
            "_view_module": "@jupyter-widgets/controls",
            "_model_module_version": "1.5.0",
            "value": "Loading ...: ",
            "_view_count": null,
            "_view_module_version": "1.5.0",
            "description_tooltip": null,
            "_model_module": "@jupyter-widgets/controls",
            "layout": "IPY_MODEL_e914172b2c784daa826964b5fd7f42a8"
          }
        },
        "ca20c56b12b24fb4b2ba4da3e92df5fc": {
          "model_module": "@jupyter-widgets/controls",
          "model_name": "FloatProgressModel",
          "model_module_version": "1.5.0",
          "state": {
            "_view_name": "ProgressView",
            "style": "IPY_MODEL_8eb764161e914bfda8d145f8f3cf5dab",
            "_dom_classes": [],
            "description": "",
            "_model_name": "FloatProgressModel",
            "bar_style": "success",
            "max": 1,
            "_view_module": "@jupyter-widgets/controls",
            "_model_module_version": "1.5.0",
            "value": 1,
            "_view_count": null,
            "_view_module_version": "1.5.0",
            "orientation": "horizontal",
            "min": 0,
            "description_tooltip": null,
            "_model_module": "@jupyter-widgets/controls",
            "layout": "IPY_MODEL_95d4d59c96304006b7cbe62e5eae6c5b"
          }
        },
        "129909839a87495c94c6aa7e5f5f2b08": {
          "model_module": "@jupyter-widgets/controls",
          "model_name": "HTMLModel",
          "model_module_version": "1.5.0",
          "state": {
            "_view_name": "HTMLView",
            "style": "IPY_MODEL_d815814dedd847f6bba282713e86b6a7",
            "_dom_classes": [],
            "description": "",
            "_model_name": "HTMLModel",
            "placeholder": "​",
            "_view_module": "@jupyter-widgets/controls",
            "_model_module_version": "1.5.0",
            "value": " 5774/? [00:02&lt;00:00, 2938.59it/s]",
            "_view_count": null,
            "_view_module_version": "1.5.0",
            "description_tooltip": null,
            "_model_module": "@jupyter-widgets/controls",
            "layout": "IPY_MODEL_3379de78b929423fa54be3f4eeb7f7e4"
          }
        },
        "fd9d90b626414178a16ef2f283bd214f": {
          "model_module": "@jupyter-widgets/controls",
          "model_name": "DescriptionStyleModel",
          "model_module_version": "1.5.0",
          "state": {
            "_view_name": "StyleView",
            "_model_name": "DescriptionStyleModel",
            "description_width": "",
            "_view_module": "@jupyter-widgets/base",
            "_model_module_version": "1.5.0",
            "_view_count": null,
            "_view_module_version": "1.2.0",
            "_model_module": "@jupyter-widgets/controls"
          }
        },
        "e914172b2c784daa826964b5fd7f42a8": {
          "model_module": "@jupyter-widgets/base",
          "model_name": "LayoutModel",
          "model_module_version": "1.2.0",
          "state": {
            "_view_name": "LayoutView",
            "grid_template_rows": null,
            "right": null,
            "justify_content": null,
            "_view_module": "@jupyter-widgets/base",
            "overflow": null,
            "_model_module_version": "1.2.0",
            "_view_count": null,
            "flex_flow": null,
            "width": null,
            "min_width": null,
            "border": null,
            "align_items": null,
            "bottom": null,
            "_model_module": "@jupyter-widgets/base",
            "top": null,
            "grid_column": null,
            "overflow_y": null,
            "overflow_x": null,
            "grid_auto_flow": null,
            "grid_area": null,
            "grid_template_columns": null,
            "flex": null,
            "_model_name": "LayoutModel",
            "justify_items": null,
            "grid_row": null,
            "max_height": null,
            "align_content": null,
            "visibility": null,
            "align_self": null,
            "height": null,
            "min_height": null,
            "padding": null,
            "grid_auto_rows": null,
            "grid_gap": null,
            "max_width": null,
            "order": null,
            "_view_module_version": "1.2.0",
            "grid_template_areas": null,
            "object_position": null,
            "object_fit": null,
            "grid_auto_columns": null,
            "margin": null,
            "display": null,
            "left": null
          }
        },
        "8eb764161e914bfda8d145f8f3cf5dab": {
          "model_module": "@jupyter-widgets/controls",
          "model_name": "ProgressStyleModel",
          "model_module_version": "1.5.0",
          "state": {
            "_view_name": "StyleView",
            "_model_name": "ProgressStyleModel",
            "description_width": "",
            "_view_module": "@jupyter-widgets/base",
            "_model_module_version": "1.5.0",
            "_view_count": null,
            "_view_module_version": "1.2.0",
            "bar_color": null,
            "_model_module": "@jupyter-widgets/controls"
          }
        },
        "95d4d59c96304006b7cbe62e5eae6c5b": {
          "model_module": "@jupyter-widgets/base",
          "model_name": "LayoutModel",
          "model_module_version": "1.2.0",
          "state": {
            "_view_name": "LayoutView",
            "grid_template_rows": null,
            "right": null,
            "justify_content": null,
            "_view_module": "@jupyter-widgets/base",
            "overflow": null,
            "_model_module_version": "1.2.0",
            "_view_count": null,
            "flex_flow": null,
            "width": "20px",
            "min_width": null,
            "border": null,
            "align_items": null,
            "bottom": null,
            "_model_module": "@jupyter-widgets/base",
            "top": null,
            "grid_column": null,
            "overflow_y": null,
            "overflow_x": null,
            "grid_auto_flow": null,
            "grid_area": null,
            "grid_template_columns": null,
            "flex": null,
            "_model_name": "LayoutModel",
            "justify_items": null,
            "grid_row": null,
            "max_height": null,
            "align_content": null,
            "visibility": null,
            "align_self": null,
            "height": null,
            "min_height": null,
            "padding": null,
            "grid_auto_rows": null,
            "grid_gap": null,
            "max_width": null,
            "order": null,
            "_view_module_version": "1.2.0",
            "grid_template_areas": null,
            "object_position": null,
            "object_fit": null,
            "grid_auto_columns": null,
            "margin": null,
            "display": null,
            "left": null
          }
        },
        "d815814dedd847f6bba282713e86b6a7": {
          "model_module": "@jupyter-widgets/controls",
          "model_name": "DescriptionStyleModel",
          "model_module_version": "1.5.0",
          "state": {
            "_view_name": "StyleView",
            "_model_name": "DescriptionStyleModel",
            "description_width": "",
            "_view_module": "@jupyter-widgets/base",
            "_model_module_version": "1.5.0",
            "_view_count": null,
            "_view_module_version": "1.2.0",
            "_model_module": "@jupyter-widgets/controls"
          }
        },
        "3379de78b929423fa54be3f4eeb7f7e4": {
          "model_module": "@jupyter-widgets/base",
          "model_name": "LayoutModel",
          "model_module_version": "1.2.0",
          "state": {
            "_view_name": "LayoutView",
            "grid_template_rows": null,
            "right": null,
            "justify_content": null,
            "_view_module": "@jupyter-widgets/base",
            "overflow": null,
            "_model_module_version": "1.2.0",
            "_view_count": null,
            "flex_flow": null,
            "width": null,
            "min_width": null,
            "border": null,
            "align_items": null,
            "bottom": null,
            "_model_module": "@jupyter-widgets/base",
            "top": null,
            "grid_column": null,
            "overflow_y": null,
            "overflow_x": null,
            "grid_auto_flow": null,
            "grid_area": null,
            "grid_template_columns": null,
            "flex": null,
            "_model_name": "LayoutModel",
            "justify_items": null,
            "grid_row": null,
            "max_height": null,
            "align_content": null,
            "visibility": null,
            "align_self": null,
            "height": null,
            "min_height": null,
            "padding": null,
            "grid_auto_rows": null,
            "grid_gap": null,
            "max_width": null,
            "order": null,
            "_view_module_version": "1.2.0",
            "grid_template_areas": null,
            "object_position": null,
            "object_fit": null,
            "grid_auto_columns": null,
            "margin": null,
            "display": null,
            "left": null
          }
        },
        "e5b18c2199aa4324876bfbf0cbe4a67e": {
          "model_module": "@jupyter-widgets/controls",
          "model_name": "HBoxModel",
          "model_module_version": "1.5.0",
          "state": {
            "_view_name": "HBoxView",
            "_dom_classes": [],
            "_model_name": "HBoxModel",
            "_view_module": "@jupyter-widgets/controls",
            "_model_module_version": "1.5.0",
            "_view_count": null,
            "_view_module_version": "1.5.0",
            "box_style": "",
            "layout": "IPY_MODEL_f57828a41a364da8b8d0836d6f0e4f34",
            "_model_module": "@jupyter-widgets/controls",
            "children": [
              "IPY_MODEL_53968bb9c16b41a89b422661c2dff8b0",
              "IPY_MODEL_38087dcd653e4f29a3eb01bf2ba68593",
              "IPY_MODEL_5b1873adde1e46148a7c8ec1b6dd0381"
            ]
          }
        },
        "f57828a41a364da8b8d0836d6f0e4f34": {
          "model_module": "@jupyter-widgets/base",
          "model_name": "LayoutModel",
          "model_module_version": "1.2.0",
          "state": {
            "_view_name": "LayoutView",
            "grid_template_rows": null,
            "right": null,
            "justify_content": null,
            "_view_module": "@jupyter-widgets/base",
            "overflow": null,
            "_model_module_version": "1.2.0",
            "_view_count": null,
            "flex_flow": null,
            "width": null,
            "min_width": null,
            "border": null,
            "align_items": null,
            "bottom": null,
            "_model_module": "@jupyter-widgets/base",
            "top": null,
            "grid_column": null,
            "overflow_y": null,
            "overflow_x": null,
            "grid_auto_flow": null,
            "grid_area": null,
            "grid_template_columns": null,
            "flex": null,
            "_model_name": "LayoutModel",
            "justify_items": null,
            "grid_row": null,
            "max_height": null,
            "align_content": null,
            "visibility": null,
            "align_self": null,
            "height": null,
            "min_height": null,
            "padding": null,
            "grid_auto_rows": null,
            "grid_gap": null,
            "max_width": null,
            "order": null,
            "_view_module_version": "1.2.0",
            "grid_template_areas": null,
            "object_position": null,
            "object_fit": null,
            "grid_auto_columns": null,
            "margin": null,
            "display": null,
            "left": null
          }
        },
        "53968bb9c16b41a89b422661c2dff8b0": {
          "model_module": "@jupyter-widgets/controls",
          "model_name": "HTMLModel",
          "model_module_version": "1.5.0",
          "state": {
            "_view_name": "HTMLView",
            "style": "IPY_MODEL_3c8ff524d98c4b90b37741b220d24b08",
            "_dom_classes": [],
            "description": "",
            "_model_name": "HTMLModel",
            "placeholder": "​",
            "_view_module": "@jupyter-widgets/controls",
            "_model_module_version": "1.5.0",
            "value": "loss: 2.6218, 2.9899, acc: 0.3801, 0.3299: 100%",
            "_view_count": null,
            "_view_module_version": "1.5.0",
            "description_tooltip": null,
            "_model_module": "@jupyter-widgets/controls",
            "layout": "IPY_MODEL_e5a98201077e4969a523cf9878a106f2"
          }
        },
        "38087dcd653e4f29a3eb01bf2ba68593": {
          "model_module": "@jupyter-widgets/controls",
          "model_name": "FloatProgressModel",
          "model_module_version": "1.5.0",
          "state": {
            "_view_name": "ProgressView",
            "style": "IPY_MODEL_48b8ccb008bd4082949e3493ce4da91f",
            "_dom_classes": [],
            "description": "",
            "_model_name": "FloatProgressModel",
            "bar_style": "success",
            "max": 3749,
            "_view_module": "@jupyter-widgets/controls",
            "_model_module_version": "1.5.0",
            "value": 3749,
            "_view_count": null,
            "_view_module_version": "1.5.0",
            "orientation": "horizontal",
            "min": 0,
            "description_tooltip": null,
            "_model_module": "@jupyter-widgets/controls",
            "layout": "IPY_MODEL_bd8973dbf3954071b99e4ef68a881b49"
          }
        },
        "5b1873adde1e46148a7c8ec1b6dd0381": {
          "model_module": "@jupyter-widgets/controls",
          "model_name": "HTMLModel",
          "model_module_version": "1.5.0",
          "state": {
            "_view_name": "HTMLView",
            "style": "IPY_MODEL_34bf1229dcb24b61971ac7e6f8a1ffff",
            "_dom_classes": [],
            "description": "",
            "_model_name": "HTMLModel",
            "placeholder": "​",
            "_view_module": "@jupyter-widgets/controls",
            "_model_module_version": "1.5.0",
            "value": " 3749/3749 [37:22&lt;00:00,  1.76it/s]",
            "_view_count": null,
            "_view_module_version": "1.5.0",
            "description_tooltip": null,
            "_model_module": "@jupyter-widgets/controls",
            "layout": "IPY_MODEL_3501ba1aa65744ec989a9928619ba6ce"
          }
        },
        "3c8ff524d98c4b90b37741b220d24b08": {
          "model_module": "@jupyter-widgets/controls",
          "model_name": "DescriptionStyleModel",
          "model_module_version": "1.5.0",
          "state": {
            "_view_name": "StyleView",
            "_model_name": "DescriptionStyleModel",
            "description_width": "",
            "_view_module": "@jupyter-widgets/base",
            "_model_module_version": "1.5.0",
            "_view_count": null,
            "_view_module_version": "1.2.0",
            "_model_module": "@jupyter-widgets/controls"
          }
        },
        "e5a98201077e4969a523cf9878a106f2": {
          "model_module": "@jupyter-widgets/base",
          "model_name": "LayoutModel",
          "model_module_version": "1.2.0",
          "state": {
            "_view_name": "LayoutView",
            "grid_template_rows": null,
            "right": null,
            "justify_content": null,
            "_view_module": "@jupyter-widgets/base",
            "overflow": null,
            "_model_module_version": "1.2.0",
            "_view_count": null,
            "flex_flow": null,
            "width": null,
            "min_width": null,
            "border": null,
            "align_items": null,
            "bottom": null,
            "_model_module": "@jupyter-widgets/base",
            "top": null,
            "grid_column": null,
            "overflow_y": null,
            "overflow_x": null,
            "grid_auto_flow": null,
            "grid_area": null,
            "grid_template_columns": null,
            "flex": null,
            "_model_name": "LayoutModel",
            "justify_items": null,
            "grid_row": null,
            "max_height": null,
            "align_content": null,
            "visibility": null,
            "align_self": null,
            "height": null,
            "min_height": null,
            "padding": null,
            "grid_auto_rows": null,
            "grid_gap": null,
            "max_width": null,
            "order": null,
            "_view_module_version": "1.2.0",
            "grid_template_areas": null,
            "object_position": null,
            "object_fit": null,
            "grid_auto_columns": null,
            "margin": null,
            "display": null,
            "left": null
          }
        },
        "48b8ccb008bd4082949e3493ce4da91f": {
          "model_module": "@jupyter-widgets/controls",
          "model_name": "ProgressStyleModel",
          "model_module_version": "1.5.0",
          "state": {
            "_view_name": "StyleView",
            "_model_name": "ProgressStyleModel",
            "description_width": "",
            "_view_module": "@jupyter-widgets/base",
            "_model_module_version": "1.5.0",
            "_view_count": null,
            "_view_module_version": "1.2.0",
            "bar_color": null,
            "_model_module": "@jupyter-widgets/controls"
          }
        },
        "bd8973dbf3954071b99e4ef68a881b49": {
          "model_module": "@jupyter-widgets/base",
          "model_name": "LayoutModel",
          "model_module_version": "1.2.0",
          "state": {
            "_view_name": "LayoutView",
            "grid_template_rows": null,
            "right": null,
            "justify_content": null,
            "_view_module": "@jupyter-widgets/base",
            "overflow": null,
            "_model_module_version": "1.2.0",
            "_view_count": null,
            "flex_flow": null,
            "width": null,
            "min_width": null,
            "border": null,
            "align_items": null,
            "bottom": null,
            "_model_module": "@jupyter-widgets/base",
            "top": null,
            "grid_column": null,
            "overflow_y": null,
            "overflow_x": null,
            "grid_auto_flow": null,
            "grid_area": null,
            "grid_template_columns": null,
            "flex": null,
            "_model_name": "LayoutModel",
            "justify_items": null,
            "grid_row": null,
            "max_height": null,
            "align_content": null,
            "visibility": null,
            "align_self": null,
            "height": null,
            "min_height": null,
            "padding": null,
            "grid_auto_rows": null,
            "grid_gap": null,
            "max_width": null,
            "order": null,
            "_view_module_version": "1.2.0",
            "grid_template_areas": null,
            "object_position": null,
            "object_fit": null,
            "grid_auto_columns": null,
            "margin": null,
            "display": null,
            "left": null
          }
        },
        "34bf1229dcb24b61971ac7e6f8a1ffff": {
          "model_module": "@jupyter-widgets/controls",
          "model_name": "DescriptionStyleModel",
          "model_module_version": "1.5.0",
          "state": {
            "_view_name": "StyleView",
            "_model_name": "DescriptionStyleModel",
            "description_width": "",
            "_view_module": "@jupyter-widgets/base",
            "_model_module_version": "1.5.0",
            "_view_count": null,
            "_view_module_version": "1.2.0",
            "_model_module": "@jupyter-widgets/controls"
          }
        },
        "3501ba1aa65744ec989a9928619ba6ce": {
          "model_module": "@jupyter-widgets/base",
          "model_name": "LayoutModel",
          "model_module_version": "1.2.0",
          "state": {
            "_view_name": "LayoutView",
            "grid_template_rows": null,
            "right": null,
            "justify_content": null,
            "_view_module": "@jupyter-widgets/base",
            "overflow": null,
            "_model_module_version": "1.2.0",
            "_view_count": null,
            "flex_flow": null,
            "width": null,
            "min_width": null,
            "border": null,
            "align_items": null,
            "bottom": null,
            "_model_module": "@jupyter-widgets/base",
            "top": null,
            "grid_column": null,
            "overflow_y": null,
            "overflow_x": null,
            "grid_auto_flow": null,
            "grid_area": null,
            "grid_template_columns": null,
            "flex": null,
            "_model_name": "LayoutModel",
            "justify_items": null,
            "grid_row": null,
            "max_height": null,
            "align_content": null,
            "visibility": null,
            "align_self": null,
            "height": null,
            "min_height": null,
            "padding": null,
            "grid_auto_rows": null,
            "grid_gap": null,
            "max_width": null,
            "order": null,
            "_view_module_version": "1.2.0",
            "grid_template_areas": null,
            "object_position": null,
            "object_fit": null,
            "grid_auto_columns": null,
            "margin": null,
            "display": null,
            "left": null
          }
        },
        "e04a5902813b4b11ab40721a0886cb29": {
          "model_module": "@jupyter-widgets/controls",
          "model_name": "HBoxModel",
          "model_module_version": "1.5.0",
          "state": {
            "_view_name": "HBoxView",
            "_dom_classes": [],
            "_model_name": "HBoxModel",
            "_view_module": "@jupyter-widgets/controls",
            "_model_module_version": "1.5.0",
            "_view_count": null,
            "_view_module_version": "1.5.0",
            "box_style": "",
            "layout": "IPY_MODEL_a381362dfe054ab8bf2f7135c22c189f",
            "_model_module": "@jupyter-widgets/controls",
            "children": [
              "IPY_MODEL_44718fe7a510495cb7ff22de0d6b209e",
              "IPY_MODEL_f34b761ea14d462e8d0116504c4f2432",
              "IPY_MODEL_8a84e55e993f4293b1c42cbf3edd1957"
            ]
          }
        },
        "a381362dfe054ab8bf2f7135c22c189f": {
          "model_module": "@jupyter-widgets/base",
          "model_name": "LayoutModel",
          "model_module_version": "1.2.0",
          "state": {
            "_view_name": "LayoutView",
            "grid_template_rows": null,
            "right": null,
            "justify_content": null,
            "_view_module": "@jupyter-widgets/base",
            "overflow": null,
            "_model_module_version": "1.2.0",
            "_view_count": null,
            "flex_flow": null,
            "width": null,
            "min_width": null,
            "border": null,
            "align_items": null,
            "bottom": null,
            "_model_module": "@jupyter-widgets/base",
            "top": null,
            "grid_column": null,
            "overflow_y": null,
            "overflow_x": null,
            "grid_auto_flow": null,
            "grid_area": null,
            "grid_template_columns": null,
            "flex": null,
            "_model_name": "LayoutModel",
            "justify_items": null,
            "grid_row": null,
            "max_height": null,
            "align_content": null,
            "visibility": null,
            "align_self": null,
            "height": null,
            "min_height": null,
            "padding": null,
            "grid_auto_rows": null,
            "grid_gap": null,
            "max_width": null,
            "order": null,
            "_view_module_version": "1.2.0",
            "grid_template_areas": null,
            "object_position": null,
            "object_fit": null,
            "grid_auto_columns": null,
            "margin": null,
            "display": null,
            "left": null
          }
        },
        "44718fe7a510495cb7ff22de0d6b209e": {
          "model_module": "@jupyter-widgets/controls",
          "model_name": "HTMLModel",
          "model_module_version": "1.5.0",
          "state": {
            "_view_name": "HTMLView",
            "style": "IPY_MODEL_690b480592d1452ab2d3e70745510c53",
            "_dom_classes": [],
            "description": "",
            "_model_name": "HTMLModel",
            "placeholder": "​",
            "_view_module": "@jupyter-widgets/controls",
            "_model_module_version": "1.5.0",
            "value": "loss: 1.4556, 1.7428, acc: 0.6152, 0.5640: 100%",
            "_view_count": null,
            "_view_module_version": "1.5.0",
            "description_tooltip": null,
            "_model_module": "@jupyter-widgets/controls",
            "layout": "IPY_MODEL_db932514039a4aa98778080e6a8c62e6"
          }
        },
        "f34b761ea14d462e8d0116504c4f2432": {
          "model_module": "@jupyter-widgets/controls",
          "model_name": "FloatProgressModel",
          "model_module_version": "1.5.0",
          "state": {
            "_view_name": "ProgressView",
            "style": "IPY_MODEL_7d5afd15c9f544b8b142cda2acb18ebb",
            "_dom_classes": [],
            "description": "",
            "_model_name": "FloatProgressModel",
            "bar_style": "success",
            "max": 3749,
            "_view_module": "@jupyter-widgets/controls",
            "_model_module_version": "1.5.0",
            "value": 3749,
            "_view_count": null,
            "_view_module_version": "1.5.0",
            "orientation": "horizontal",
            "min": 0,
            "description_tooltip": null,
            "_model_module": "@jupyter-widgets/controls",
            "layout": "IPY_MODEL_eaeae34adba1411e9983a863e0889162"
          }
        },
        "8a84e55e993f4293b1c42cbf3edd1957": {
          "model_module": "@jupyter-widgets/controls",
          "model_name": "HTMLModel",
          "model_module_version": "1.5.0",
          "state": {
            "_view_name": "HTMLView",
            "style": "IPY_MODEL_0185b5fde30643a48024e59def5063d6",
            "_dom_classes": [],
            "description": "",
            "_model_name": "HTMLModel",
            "placeholder": "​",
            "_view_module": "@jupyter-widgets/controls",
            "_model_module_version": "1.5.0",
            "value": " 3749/3749 [36:59&lt;00:00,  1.86it/s]",
            "_view_count": null,
            "_view_module_version": "1.5.0",
            "description_tooltip": null,
            "_model_module": "@jupyter-widgets/controls",
            "layout": "IPY_MODEL_20c338c238594fb9bded79c4f2118a8a"
          }
        },
        "690b480592d1452ab2d3e70745510c53": {
          "model_module": "@jupyter-widgets/controls",
          "model_name": "DescriptionStyleModel",
          "model_module_version": "1.5.0",
          "state": {
            "_view_name": "StyleView",
            "_model_name": "DescriptionStyleModel",
            "description_width": "",
            "_view_module": "@jupyter-widgets/base",
            "_model_module_version": "1.5.0",
            "_view_count": null,
            "_view_module_version": "1.2.0",
            "_model_module": "@jupyter-widgets/controls"
          }
        },
        "db932514039a4aa98778080e6a8c62e6": {
          "model_module": "@jupyter-widgets/base",
          "model_name": "LayoutModel",
          "model_module_version": "1.2.0",
          "state": {
            "_view_name": "LayoutView",
            "grid_template_rows": null,
            "right": null,
            "justify_content": null,
            "_view_module": "@jupyter-widgets/base",
            "overflow": null,
            "_model_module_version": "1.2.0",
            "_view_count": null,
            "flex_flow": null,
            "width": null,
            "min_width": null,
            "border": null,
            "align_items": null,
            "bottom": null,
            "_model_module": "@jupyter-widgets/base",
            "top": null,
            "grid_column": null,
            "overflow_y": null,
            "overflow_x": null,
            "grid_auto_flow": null,
            "grid_area": null,
            "grid_template_columns": null,
            "flex": null,
            "_model_name": "LayoutModel",
            "justify_items": null,
            "grid_row": null,
            "max_height": null,
            "align_content": null,
            "visibility": null,
            "align_self": null,
            "height": null,
            "min_height": null,
            "padding": null,
            "grid_auto_rows": null,
            "grid_gap": null,
            "max_width": null,
            "order": null,
            "_view_module_version": "1.2.0",
            "grid_template_areas": null,
            "object_position": null,
            "object_fit": null,
            "grid_auto_columns": null,
            "margin": null,
            "display": null,
            "left": null
          }
        },
        "7d5afd15c9f544b8b142cda2acb18ebb": {
          "model_module": "@jupyter-widgets/controls",
          "model_name": "ProgressStyleModel",
          "model_module_version": "1.5.0",
          "state": {
            "_view_name": "StyleView",
            "_model_name": "ProgressStyleModel",
            "description_width": "",
            "_view_module": "@jupyter-widgets/base",
            "_model_module_version": "1.5.0",
            "_view_count": null,
            "_view_module_version": "1.2.0",
            "bar_color": null,
            "_model_module": "@jupyter-widgets/controls"
          }
        },
        "eaeae34adba1411e9983a863e0889162": {
          "model_module": "@jupyter-widgets/base",
          "model_name": "LayoutModel",
          "model_module_version": "1.2.0",
          "state": {
            "_view_name": "LayoutView",
            "grid_template_rows": null,
            "right": null,
            "justify_content": null,
            "_view_module": "@jupyter-widgets/base",
            "overflow": null,
            "_model_module_version": "1.2.0",
            "_view_count": null,
            "flex_flow": null,
            "width": null,
            "min_width": null,
            "border": null,
            "align_items": null,
            "bottom": null,
            "_model_module": "@jupyter-widgets/base",
            "top": null,
            "grid_column": null,
            "overflow_y": null,
            "overflow_x": null,
            "grid_auto_flow": null,
            "grid_area": null,
            "grid_template_columns": null,
            "flex": null,
            "_model_name": "LayoutModel",
            "justify_items": null,
            "grid_row": null,
            "max_height": null,
            "align_content": null,
            "visibility": null,
            "align_self": null,
            "height": null,
            "min_height": null,
            "padding": null,
            "grid_auto_rows": null,
            "grid_gap": null,
            "max_width": null,
            "order": null,
            "_view_module_version": "1.2.0",
            "grid_template_areas": null,
            "object_position": null,
            "object_fit": null,
            "grid_auto_columns": null,
            "margin": null,
            "display": null,
            "left": null
          }
        },
        "0185b5fde30643a48024e59def5063d6": {
          "model_module": "@jupyter-widgets/controls",
          "model_name": "DescriptionStyleModel",
          "model_module_version": "1.5.0",
          "state": {
            "_view_name": "StyleView",
            "_model_name": "DescriptionStyleModel",
            "description_width": "",
            "_view_module": "@jupyter-widgets/base",
            "_model_module_version": "1.5.0",
            "_view_count": null,
            "_view_module_version": "1.2.0",
            "_model_module": "@jupyter-widgets/controls"
          }
        },
        "20c338c238594fb9bded79c4f2118a8a": {
          "model_module": "@jupyter-widgets/base",
          "model_name": "LayoutModel",
          "model_module_version": "1.2.0",
          "state": {
            "_view_name": "LayoutView",
            "grid_template_rows": null,
            "right": null,
            "justify_content": null,
            "_view_module": "@jupyter-widgets/base",
            "overflow": null,
            "_model_module_version": "1.2.0",
            "_view_count": null,
            "flex_flow": null,
            "width": null,
            "min_width": null,
            "border": null,
            "align_items": null,
            "bottom": null,
            "_model_module": "@jupyter-widgets/base",
            "top": null,
            "grid_column": null,
            "overflow_y": null,
            "overflow_x": null,
            "grid_auto_flow": null,
            "grid_area": null,
            "grid_template_columns": null,
            "flex": null,
            "_model_name": "LayoutModel",
            "justify_items": null,
            "grid_row": null,
            "max_height": null,
            "align_content": null,
            "visibility": null,
            "align_self": null,
            "height": null,
            "min_height": null,
            "padding": null,
            "grid_auto_rows": null,
            "grid_gap": null,
            "max_width": null,
            "order": null,
            "_view_module_version": "1.2.0",
            "grid_template_areas": null,
            "object_position": null,
            "object_fit": null,
            "grid_auto_columns": null,
            "margin": null,
            "display": null,
            "left": null
          }
        },
        "09e14a5371444a5cbd9084775cd3ccc2": {
          "model_module": "@jupyter-widgets/controls",
          "model_name": "HBoxModel",
          "model_module_version": "1.5.0",
          "state": {
            "_view_name": "HBoxView",
            "_dom_classes": [],
            "_model_name": "HBoxModel",
            "_view_module": "@jupyter-widgets/controls",
            "_model_module_version": "1.5.0",
            "_view_count": null,
            "_view_module_version": "1.5.0",
            "box_style": "",
            "layout": "IPY_MODEL_41c56782879e4bd892782da0bfc50dd7",
            "_model_module": "@jupyter-widgets/controls",
            "children": [
              "IPY_MODEL_8b30614d523449469aaa71a223508bb4",
              "IPY_MODEL_76c7404a9fa849a5a9417a0d8b61d104",
              "IPY_MODEL_a129e197082d4b4fbb6cd89f90157e57"
            ]
          }
        },
        "41c56782879e4bd892782da0bfc50dd7": {
          "model_module": "@jupyter-widgets/base",
          "model_name": "LayoutModel",
          "model_module_version": "1.2.0",
          "state": {
            "_view_name": "LayoutView",
            "grid_template_rows": null,
            "right": null,
            "justify_content": null,
            "_view_module": "@jupyter-widgets/base",
            "overflow": null,
            "_model_module_version": "1.2.0",
            "_view_count": null,
            "flex_flow": null,
            "width": null,
            "min_width": null,
            "border": null,
            "align_items": null,
            "bottom": null,
            "_model_module": "@jupyter-widgets/base",
            "top": null,
            "grid_column": null,
            "overflow_y": null,
            "overflow_x": null,
            "grid_auto_flow": null,
            "grid_area": null,
            "grid_template_columns": null,
            "flex": null,
            "_model_name": "LayoutModel",
            "justify_items": null,
            "grid_row": null,
            "max_height": null,
            "align_content": null,
            "visibility": null,
            "align_self": null,
            "height": null,
            "min_height": null,
            "padding": null,
            "grid_auto_rows": null,
            "grid_gap": null,
            "max_width": null,
            "order": null,
            "_view_module_version": "1.2.0",
            "grid_template_areas": null,
            "object_position": null,
            "object_fit": null,
            "grid_auto_columns": null,
            "margin": null,
            "display": null,
            "left": null
          }
        },
        "8b30614d523449469aaa71a223508bb4": {
          "model_module": "@jupyter-widgets/controls",
          "model_name": "HTMLModel",
          "model_module_version": "1.5.0",
          "state": {
            "_view_name": "HTMLView",
            "style": "IPY_MODEL_730b45faec614bbeaef65693277839c0",
            "_dom_classes": [],
            "description": "",
            "_model_name": "HTMLModel",
            "placeholder": "​",
            "_view_module": "@jupyter-widgets/controls",
            "_model_module_version": "1.5.0",
            "value": "loss: 0.9758, 1.1978, acc: 0.7303, 0.6826: 100%",
            "_view_count": null,
            "_view_module_version": "1.5.0",
            "description_tooltip": null,
            "_model_module": "@jupyter-widgets/controls",
            "layout": "IPY_MODEL_77973b4d000244ccb436b47a1c0a305e"
          }
        },
        "76c7404a9fa849a5a9417a0d8b61d104": {
          "model_module": "@jupyter-widgets/controls",
          "model_name": "FloatProgressModel",
          "model_module_version": "1.5.0",
          "state": {
            "_view_name": "ProgressView",
            "style": "IPY_MODEL_d3be6acf85094cdd9e7c3a550b7febea",
            "_dom_classes": [],
            "description": "",
            "_model_name": "FloatProgressModel",
            "bar_style": "success",
            "max": 3749,
            "_view_module": "@jupyter-widgets/controls",
            "_model_module_version": "1.5.0",
            "value": 3749,
            "_view_count": null,
            "_view_module_version": "1.5.0",
            "orientation": "horizontal",
            "min": 0,
            "description_tooltip": null,
            "_model_module": "@jupyter-widgets/controls",
            "layout": "IPY_MODEL_dff0453210b34d51a9499d59d10e74ff"
          }
        },
        "a129e197082d4b4fbb6cd89f90157e57": {
          "model_module": "@jupyter-widgets/controls",
          "model_name": "HTMLModel",
          "model_module_version": "1.5.0",
          "state": {
            "_view_name": "HTMLView",
            "style": "IPY_MODEL_dcc16fe7b1c24039a4c2228e7e44524b",
            "_dom_classes": [],
            "description": "",
            "_model_name": "HTMLModel",
            "placeholder": "​",
            "_view_module": "@jupyter-widgets/controls",
            "_model_module_version": "1.5.0",
            "value": " 3749/3749 [37:05&lt;00:00,  1.89it/s]",
            "_view_count": null,
            "_view_module_version": "1.5.0",
            "description_tooltip": null,
            "_model_module": "@jupyter-widgets/controls",
            "layout": "IPY_MODEL_77e784df45704d94bf989a07e3c512d1"
          }
        },
        "730b45faec614bbeaef65693277839c0": {
          "model_module": "@jupyter-widgets/controls",
          "model_name": "DescriptionStyleModel",
          "model_module_version": "1.5.0",
          "state": {
            "_view_name": "StyleView",
            "_model_name": "DescriptionStyleModel",
            "description_width": "",
            "_view_module": "@jupyter-widgets/base",
            "_model_module_version": "1.5.0",
            "_view_count": null,
            "_view_module_version": "1.2.0",
            "_model_module": "@jupyter-widgets/controls"
          }
        },
        "77973b4d000244ccb436b47a1c0a305e": {
          "model_module": "@jupyter-widgets/base",
          "model_name": "LayoutModel",
          "model_module_version": "1.2.0",
          "state": {
            "_view_name": "LayoutView",
            "grid_template_rows": null,
            "right": null,
            "justify_content": null,
            "_view_module": "@jupyter-widgets/base",
            "overflow": null,
            "_model_module_version": "1.2.0",
            "_view_count": null,
            "flex_flow": null,
            "width": null,
            "min_width": null,
            "border": null,
            "align_items": null,
            "bottom": null,
            "_model_module": "@jupyter-widgets/base",
            "top": null,
            "grid_column": null,
            "overflow_y": null,
            "overflow_x": null,
            "grid_auto_flow": null,
            "grid_area": null,
            "grid_template_columns": null,
            "flex": null,
            "_model_name": "LayoutModel",
            "justify_items": null,
            "grid_row": null,
            "max_height": null,
            "align_content": null,
            "visibility": null,
            "align_self": null,
            "height": null,
            "min_height": null,
            "padding": null,
            "grid_auto_rows": null,
            "grid_gap": null,
            "max_width": null,
            "order": null,
            "_view_module_version": "1.2.0",
            "grid_template_areas": null,
            "object_position": null,
            "object_fit": null,
            "grid_auto_columns": null,
            "margin": null,
            "display": null,
            "left": null
          }
        },
        "d3be6acf85094cdd9e7c3a550b7febea": {
          "model_module": "@jupyter-widgets/controls",
          "model_name": "ProgressStyleModel",
          "model_module_version": "1.5.0",
          "state": {
            "_view_name": "StyleView",
            "_model_name": "ProgressStyleModel",
            "description_width": "",
            "_view_module": "@jupyter-widgets/base",
            "_model_module_version": "1.5.0",
            "_view_count": null,
            "_view_module_version": "1.2.0",
            "bar_color": null,
            "_model_module": "@jupyter-widgets/controls"
          }
        },
        "dff0453210b34d51a9499d59d10e74ff": {
          "model_module": "@jupyter-widgets/base",
          "model_name": "LayoutModel",
          "model_module_version": "1.2.0",
          "state": {
            "_view_name": "LayoutView",
            "grid_template_rows": null,
            "right": null,
            "justify_content": null,
            "_view_module": "@jupyter-widgets/base",
            "overflow": null,
            "_model_module_version": "1.2.0",
            "_view_count": null,
            "flex_flow": null,
            "width": null,
            "min_width": null,
            "border": null,
            "align_items": null,
            "bottom": null,
            "_model_module": "@jupyter-widgets/base",
            "top": null,
            "grid_column": null,
            "overflow_y": null,
            "overflow_x": null,
            "grid_auto_flow": null,
            "grid_area": null,
            "grid_template_columns": null,
            "flex": null,
            "_model_name": "LayoutModel",
            "justify_items": null,
            "grid_row": null,
            "max_height": null,
            "align_content": null,
            "visibility": null,
            "align_self": null,
            "height": null,
            "min_height": null,
            "padding": null,
            "grid_auto_rows": null,
            "grid_gap": null,
            "max_width": null,
            "order": null,
            "_view_module_version": "1.2.0",
            "grid_template_areas": null,
            "object_position": null,
            "object_fit": null,
            "grid_auto_columns": null,
            "margin": null,
            "display": null,
            "left": null
          }
        },
        "dcc16fe7b1c24039a4c2228e7e44524b": {
          "model_module": "@jupyter-widgets/controls",
          "model_name": "DescriptionStyleModel",
          "model_module_version": "1.5.0",
          "state": {
            "_view_name": "StyleView",
            "_model_name": "DescriptionStyleModel",
            "description_width": "",
            "_view_module": "@jupyter-widgets/base",
            "_model_module_version": "1.5.0",
            "_view_count": null,
            "_view_module_version": "1.2.0",
            "_model_module": "@jupyter-widgets/controls"
          }
        },
        "77e784df45704d94bf989a07e3c512d1": {
          "model_module": "@jupyter-widgets/base",
          "model_name": "LayoutModel",
          "model_module_version": "1.2.0",
          "state": {
            "_view_name": "LayoutView",
            "grid_template_rows": null,
            "right": null,
            "justify_content": null,
            "_view_module": "@jupyter-widgets/base",
            "overflow": null,
            "_model_module_version": "1.2.0",
            "_view_count": null,
            "flex_flow": null,
            "width": null,
            "min_width": null,
            "border": null,
            "align_items": null,
            "bottom": null,
            "_model_module": "@jupyter-widgets/base",
            "top": null,
            "grid_column": null,
            "overflow_y": null,
            "overflow_x": null,
            "grid_auto_flow": null,
            "grid_area": null,
            "grid_template_columns": null,
            "flex": null,
            "_model_name": "LayoutModel",
            "justify_items": null,
            "grid_row": null,
            "max_height": null,
            "align_content": null,
            "visibility": null,
            "align_self": null,
            "height": null,
            "min_height": null,
            "padding": null,
            "grid_auto_rows": null,
            "grid_gap": null,
            "max_width": null,
            "order": null,
            "_view_module_version": "1.2.0",
            "grid_template_areas": null,
            "object_position": null,
            "object_fit": null,
            "grid_auto_columns": null,
            "margin": null,
            "display": null,
            "left": null
          }
        },
        "fd8d86020bed49ad9760d61304292d71": {
          "model_module": "@jupyter-widgets/controls",
          "model_name": "HBoxModel",
          "model_module_version": "1.5.0",
          "state": {
            "_view_name": "HBoxView",
            "_dom_classes": [],
            "_model_name": "HBoxModel",
            "_view_module": "@jupyter-widgets/controls",
            "_model_module_version": "1.5.0",
            "_view_count": null,
            "_view_module_version": "1.5.0",
            "box_style": "",
            "layout": "IPY_MODEL_26cc4df24eed48f895595e067e5f0803",
            "_model_module": "@jupyter-widgets/controls",
            "children": [
              "IPY_MODEL_14b6bf529ee14e05a5f5bbd307246474",
              "IPY_MODEL_4c93563a13d64afa9e68b5cbe2877bb2",
              "IPY_MODEL_9d3a08697bd44c628ef6f12e1f3b66a1"
            ]
          }
        },
        "26cc4df24eed48f895595e067e5f0803": {
          "model_module": "@jupyter-widgets/base",
          "model_name": "LayoutModel",
          "model_module_version": "1.2.0",
          "state": {
            "_view_name": "LayoutView",
            "grid_template_rows": null,
            "right": null,
            "justify_content": null,
            "_view_module": "@jupyter-widgets/base",
            "overflow": null,
            "_model_module_version": "1.2.0",
            "_view_count": null,
            "flex_flow": null,
            "width": null,
            "min_width": null,
            "border": null,
            "align_items": null,
            "bottom": null,
            "_model_module": "@jupyter-widgets/base",
            "top": null,
            "grid_column": null,
            "overflow_y": null,
            "overflow_x": null,
            "grid_auto_flow": null,
            "grid_area": null,
            "grid_template_columns": null,
            "flex": null,
            "_model_name": "LayoutModel",
            "justify_items": null,
            "grid_row": null,
            "max_height": null,
            "align_content": null,
            "visibility": null,
            "align_self": null,
            "height": null,
            "min_height": null,
            "padding": null,
            "grid_auto_rows": null,
            "grid_gap": null,
            "max_width": null,
            "order": null,
            "_view_module_version": "1.2.0",
            "grid_template_areas": null,
            "object_position": null,
            "object_fit": null,
            "grid_auto_columns": null,
            "margin": null,
            "display": null,
            "left": null
          }
        },
        "14b6bf529ee14e05a5f5bbd307246474": {
          "model_module": "@jupyter-widgets/controls",
          "model_name": "HTMLModel",
          "model_module_version": "1.5.0",
          "state": {
            "_view_name": "HTMLView",
            "style": "IPY_MODEL_fae3a1303f7a42409b7cc2702e420ee4",
            "_dom_classes": [],
            "description": "",
            "_model_name": "HTMLModel",
            "placeholder": "​",
            "_view_module": "@jupyter-widgets/controls",
            "_model_module_version": "1.5.0",
            "value": "loss: 0.6454, 0.8185, acc: 0.8122, 0.7725: 100%",
            "_view_count": null,
            "_view_module_version": "1.5.0",
            "description_tooltip": null,
            "_model_module": "@jupyter-widgets/controls",
            "layout": "IPY_MODEL_a60d2e57a8e2420ab074675b1af7adde"
          }
        },
        "4c93563a13d64afa9e68b5cbe2877bb2": {
          "model_module": "@jupyter-widgets/controls",
          "model_name": "FloatProgressModel",
          "model_module_version": "1.5.0",
          "state": {
            "_view_name": "ProgressView",
            "style": "IPY_MODEL_6c3b8854798d4608ac78eafe6fa98961",
            "_dom_classes": [],
            "description": "",
            "_model_name": "FloatProgressModel",
            "bar_style": "success",
            "max": 3749,
            "_view_module": "@jupyter-widgets/controls",
            "_model_module_version": "1.5.0",
            "value": 3749,
            "_view_count": null,
            "_view_module_version": "1.5.0",
            "orientation": "horizontal",
            "min": 0,
            "description_tooltip": null,
            "_model_module": "@jupyter-widgets/controls",
            "layout": "IPY_MODEL_bfd14965d1a5467d86af93cf1d021ff9"
          }
        },
        "9d3a08697bd44c628ef6f12e1f3b66a1": {
          "model_module": "@jupyter-widgets/controls",
          "model_name": "HTMLModel",
          "model_module_version": "1.5.0",
          "state": {
            "_view_name": "HTMLView",
            "style": "IPY_MODEL_18e59006fd334ef888c66deee6f8ce0d",
            "_dom_classes": [],
            "description": "",
            "_model_name": "HTMLModel",
            "placeholder": "​",
            "_view_module": "@jupyter-widgets/controls",
            "_model_module_version": "1.5.0",
            "value": " 3749/3749 [37:22&lt;00:00,  1.86it/s]",
            "_view_count": null,
            "_view_module_version": "1.5.0",
            "description_tooltip": null,
            "_model_module": "@jupyter-widgets/controls",
            "layout": "IPY_MODEL_74ec6b1eb3814b7aa5c8055e0fad5021"
          }
        },
        "fae3a1303f7a42409b7cc2702e420ee4": {
          "model_module": "@jupyter-widgets/controls",
          "model_name": "DescriptionStyleModel",
          "model_module_version": "1.5.0",
          "state": {
            "_view_name": "StyleView",
            "_model_name": "DescriptionStyleModel",
            "description_width": "",
            "_view_module": "@jupyter-widgets/base",
            "_model_module_version": "1.5.0",
            "_view_count": null,
            "_view_module_version": "1.2.0",
            "_model_module": "@jupyter-widgets/controls"
          }
        },
        "a60d2e57a8e2420ab074675b1af7adde": {
          "model_module": "@jupyter-widgets/base",
          "model_name": "LayoutModel",
          "model_module_version": "1.2.0",
          "state": {
            "_view_name": "LayoutView",
            "grid_template_rows": null,
            "right": null,
            "justify_content": null,
            "_view_module": "@jupyter-widgets/base",
            "overflow": null,
            "_model_module_version": "1.2.0",
            "_view_count": null,
            "flex_flow": null,
            "width": null,
            "min_width": null,
            "border": null,
            "align_items": null,
            "bottom": null,
            "_model_module": "@jupyter-widgets/base",
            "top": null,
            "grid_column": null,
            "overflow_y": null,
            "overflow_x": null,
            "grid_auto_flow": null,
            "grid_area": null,
            "grid_template_columns": null,
            "flex": null,
            "_model_name": "LayoutModel",
            "justify_items": null,
            "grid_row": null,
            "max_height": null,
            "align_content": null,
            "visibility": null,
            "align_self": null,
            "height": null,
            "min_height": null,
            "padding": null,
            "grid_auto_rows": null,
            "grid_gap": null,
            "max_width": null,
            "order": null,
            "_view_module_version": "1.2.0",
            "grid_template_areas": null,
            "object_position": null,
            "object_fit": null,
            "grid_auto_columns": null,
            "margin": null,
            "display": null,
            "left": null
          }
        },
        "6c3b8854798d4608ac78eafe6fa98961": {
          "model_module": "@jupyter-widgets/controls",
          "model_name": "ProgressStyleModel",
          "model_module_version": "1.5.0",
          "state": {
            "_view_name": "StyleView",
            "_model_name": "ProgressStyleModel",
            "description_width": "",
            "_view_module": "@jupyter-widgets/base",
            "_model_module_version": "1.5.0",
            "_view_count": null,
            "_view_module_version": "1.2.0",
            "bar_color": null,
            "_model_module": "@jupyter-widgets/controls"
          }
        },
        "bfd14965d1a5467d86af93cf1d021ff9": {
          "model_module": "@jupyter-widgets/base",
          "model_name": "LayoutModel",
          "model_module_version": "1.2.0",
          "state": {
            "_view_name": "LayoutView",
            "grid_template_rows": null,
            "right": null,
            "justify_content": null,
            "_view_module": "@jupyter-widgets/base",
            "overflow": null,
            "_model_module_version": "1.2.0",
            "_view_count": null,
            "flex_flow": null,
            "width": null,
            "min_width": null,
            "border": null,
            "align_items": null,
            "bottom": null,
            "_model_module": "@jupyter-widgets/base",
            "top": null,
            "grid_column": null,
            "overflow_y": null,
            "overflow_x": null,
            "grid_auto_flow": null,
            "grid_area": null,
            "grid_template_columns": null,
            "flex": null,
            "_model_name": "LayoutModel",
            "justify_items": null,
            "grid_row": null,
            "max_height": null,
            "align_content": null,
            "visibility": null,
            "align_self": null,
            "height": null,
            "min_height": null,
            "padding": null,
            "grid_auto_rows": null,
            "grid_gap": null,
            "max_width": null,
            "order": null,
            "_view_module_version": "1.2.0",
            "grid_template_areas": null,
            "object_position": null,
            "object_fit": null,
            "grid_auto_columns": null,
            "margin": null,
            "display": null,
            "left": null
          }
        },
        "18e59006fd334ef888c66deee6f8ce0d": {
          "model_module": "@jupyter-widgets/controls",
          "model_name": "DescriptionStyleModel",
          "model_module_version": "1.5.0",
          "state": {
            "_view_name": "StyleView",
            "_model_name": "DescriptionStyleModel",
            "description_width": "",
            "_view_module": "@jupyter-widgets/base",
            "_model_module_version": "1.5.0",
            "_view_count": null,
            "_view_module_version": "1.2.0",
            "_model_module": "@jupyter-widgets/controls"
          }
        },
        "74ec6b1eb3814b7aa5c8055e0fad5021": {
          "model_module": "@jupyter-widgets/base",
          "model_name": "LayoutModel",
          "model_module_version": "1.2.0",
          "state": {
            "_view_name": "LayoutView",
            "grid_template_rows": null,
            "right": null,
            "justify_content": null,
            "_view_module": "@jupyter-widgets/base",
            "overflow": null,
            "_model_module_version": "1.2.0",
            "_view_count": null,
            "flex_flow": null,
            "width": null,
            "min_width": null,
            "border": null,
            "align_items": null,
            "bottom": null,
            "_model_module": "@jupyter-widgets/base",
            "top": null,
            "grid_column": null,
            "overflow_y": null,
            "overflow_x": null,
            "grid_auto_flow": null,
            "grid_area": null,
            "grid_template_columns": null,
            "flex": null,
            "_model_name": "LayoutModel",
            "justify_items": null,
            "grid_row": null,
            "max_height": null,
            "align_content": null,
            "visibility": null,
            "align_self": null,
            "height": null,
            "min_height": null,
            "padding": null,
            "grid_auto_rows": null,
            "grid_gap": null,
            "max_width": null,
            "order": null,
            "_view_module_version": "1.2.0",
            "grid_template_areas": null,
            "object_position": null,
            "object_fit": null,
            "grid_auto_columns": null,
            "margin": null,
            "display": null,
            "left": null
          }
        },
        "3a4db62d155544949b2a72e8244e63d5": {
          "model_module": "@jupyter-widgets/controls",
          "model_name": "HBoxModel",
          "model_module_version": "1.5.0",
          "state": {
            "_view_name": "HBoxView",
            "_dom_classes": [],
            "_model_name": "HBoxModel",
            "_view_module": "@jupyter-widgets/controls",
            "_model_module_version": "1.5.0",
            "_view_count": null,
            "_view_module_version": "1.5.0",
            "box_style": "",
            "layout": "IPY_MODEL_2969cc98c3144279b28ddea2f1f6974f",
            "_model_module": "@jupyter-widgets/controls",
            "children": [
              "IPY_MODEL_87894d2d25d04174899fec96f2468c3e",
              "IPY_MODEL_323e56a7550c48438a977605e70fde47",
              "IPY_MODEL_5c416b63410d4d9993bf0afe0267da5d"
            ]
          }
        },
        "2969cc98c3144279b28ddea2f1f6974f": {
          "model_module": "@jupyter-widgets/base",
          "model_name": "LayoutModel",
          "model_module_version": "1.2.0",
          "state": {
            "_view_name": "LayoutView",
            "grid_template_rows": null,
            "right": null,
            "justify_content": null,
            "_view_module": "@jupyter-widgets/base",
            "overflow": null,
            "_model_module_version": "1.2.0",
            "_view_count": null,
            "flex_flow": null,
            "width": null,
            "min_width": null,
            "border": null,
            "align_items": null,
            "bottom": null,
            "_model_module": "@jupyter-widgets/base",
            "top": null,
            "grid_column": null,
            "overflow_y": null,
            "overflow_x": null,
            "grid_auto_flow": null,
            "grid_area": null,
            "grid_template_columns": null,
            "flex": null,
            "_model_name": "LayoutModel",
            "justify_items": null,
            "grid_row": null,
            "max_height": null,
            "align_content": null,
            "visibility": null,
            "align_self": null,
            "height": null,
            "min_height": null,
            "padding": null,
            "grid_auto_rows": null,
            "grid_gap": null,
            "max_width": null,
            "order": null,
            "_view_module_version": "1.2.0",
            "grid_template_areas": null,
            "object_position": null,
            "object_fit": null,
            "grid_auto_columns": null,
            "margin": null,
            "display": null,
            "left": null
          }
        },
        "87894d2d25d04174899fec96f2468c3e": {
          "model_module": "@jupyter-widgets/controls",
          "model_name": "HTMLModel",
          "model_module_version": "1.5.0",
          "state": {
            "_view_name": "HTMLView",
            "style": "IPY_MODEL_e1b8ecf8535c486e8d0e01167f35123a",
            "_dom_classes": [],
            "description": "",
            "_model_name": "HTMLModel",
            "placeholder": "​",
            "_view_module": "@jupyter-widgets/controls",
            "_model_module_version": "1.5.0",
            "value": "loss: 0.4332, 0.5542, acc: 0.8718, 0.8400: 100%",
            "_view_count": null,
            "_view_module_version": "1.5.0",
            "description_tooltip": null,
            "_model_module": "@jupyter-widgets/controls",
            "layout": "IPY_MODEL_da327d760f1f4c5bbd5a004bc416a6a2"
          }
        },
        "323e56a7550c48438a977605e70fde47": {
          "model_module": "@jupyter-widgets/controls",
          "model_name": "FloatProgressModel",
          "model_module_version": "1.5.0",
          "state": {
            "_view_name": "ProgressView",
            "style": "IPY_MODEL_5f1adf5322794b26a098c212c6d0e0bf",
            "_dom_classes": [],
            "description": "",
            "_model_name": "FloatProgressModel",
            "bar_style": "success",
            "max": 3749,
            "_view_module": "@jupyter-widgets/controls",
            "_model_module_version": "1.5.0",
            "value": 3749,
            "_view_count": null,
            "_view_module_version": "1.5.0",
            "orientation": "horizontal",
            "min": 0,
            "description_tooltip": null,
            "_model_module": "@jupyter-widgets/controls",
            "layout": "IPY_MODEL_2c514777dae646188ca562f8fc0cdd40"
          }
        },
        "5c416b63410d4d9993bf0afe0267da5d": {
          "model_module": "@jupyter-widgets/controls",
          "model_name": "HTMLModel",
          "model_module_version": "1.5.0",
          "state": {
            "_view_name": "HTMLView",
            "style": "IPY_MODEL_38e4996a694b4e5f8305a6ceea6f8ebd",
            "_dom_classes": [],
            "description": "",
            "_model_name": "HTMLModel",
            "placeholder": "​",
            "_view_module": "@jupyter-widgets/controls",
            "_model_module_version": "1.5.0",
            "value": " 3749/3749 [37:22&lt;00:00,  1.89it/s]",
            "_view_count": null,
            "_view_module_version": "1.5.0",
            "description_tooltip": null,
            "_model_module": "@jupyter-widgets/controls",
            "layout": "IPY_MODEL_ab1b4c8d320f4a26b9e4e6cc55dddad0"
          }
        },
        "e1b8ecf8535c486e8d0e01167f35123a": {
          "model_module": "@jupyter-widgets/controls",
          "model_name": "DescriptionStyleModel",
          "model_module_version": "1.5.0",
          "state": {
            "_view_name": "StyleView",
            "_model_name": "DescriptionStyleModel",
            "description_width": "",
            "_view_module": "@jupyter-widgets/base",
            "_model_module_version": "1.5.0",
            "_view_count": null,
            "_view_module_version": "1.2.0",
            "_model_module": "@jupyter-widgets/controls"
          }
        },
        "da327d760f1f4c5bbd5a004bc416a6a2": {
          "model_module": "@jupyter-widgets/base",
          "model_name": "LayoutModel",
          "model_module_version": "1.2.0",
          "state": {
            "_view_name": "LayoutView",
            "grid_template_rows": null,
            "right": null,
            "justify_content": null,
            "_view_module": "@jupyter-widgets/base",
            "overflow": null,
            "_model_module_version": "1.2.0",
            "_view_count": null,
            "flex_flow": null,
            "width": null,
            "min_width": null,
            "border": null,
            "align_items": null,
            "bottom": null,
            "_model_module": "@jupyter-widgets/base",
            "top": null,
            "grid_column": null,
            "overflow_y": null,
            "overflow_x": null,
            "grid_auto_flow": null,
            "grid_area": null,
            "grid_template_columns": null,
            "flex": null,
            "_model_name": "LayoutModel",
            "justify_items": null,
            "grid_row": null,
            "max_height": null,
            "align_content": null,
            "visibility": null,
            "align_self": null,
            "height": null,
            "min_height": null,
            "padding": null,
            "grid_auto_rows": null,
            "grid_gap": null,
            "max_width": null,
            "order": null,
            "_view_module_version": "1.2.0",
            "grid_template_areas": null,
            "object_position": null,
            "object_fit": null,
            "grid_auto_columns": null,
            "margin": null,
            "display": null,
            "left": null
          }
        },
        "5f1adf5322794b26a098c212c6d0e0bf": {
          "model_module": "@jupyter-widgets/controls",
          "model_name": "ProgressStyleModel",
          "model_module_version": "1.5.0",
          "state": {
            "_view_name": "StyleView",
            "_model_name": "ProgressStyleModel",
            "description_width": "",
            "_view_module": "@jupyter-widgets/base",
            "_model_module_version": "1.5.0",
            "_view_count": null,
            "_view_module_version": "1.2.0",
            "bar_color": null,
            "_model_module": "@jupyter-widgets/controls"
          }
        },
        "2c514777dae646188ca562f8fc0cdd40": {
          "model_module": "@jupyter-widgets/base",
          "model_name": "LayoutModel",
          "model_module_version": "1.2.0",
          "state": {
            "_view_name": "LayoutView",
            "grid_template_rows": null,
            "right": null,
            "justify_content": null,
            "_view_module": "@jupyter-widgets/base",
            "overflow": null,
            "_model_module_version": "1.2.0",
            "_view_count": null,
            "flex_flow": null,
            "width": null,
            "min_width": null,
            "border": null,
            "align_items": null,
            "bottom": null,
            "_model_module": "@jupyter-widgets/base",
            "top": null,
            "grid_column": null,
            "overflow_y": null,
            "overflow_x": null,
            "grid_auto_flow": null,
            "grid_area": null,
            "grid_template_columns": null,
            "flex": null,
            "_model_name": "LayoutModel",
            "justify_items": null,
            "grid_row": null,
            "max_height": null,
            "align_content": null,
            "visibility": null,
            "align_self": null,
            "height": null,
            "min_height": null,
            "padding": null,
            "grid_auto_rows": null,
            "grid_gap": null,
            "max_width": null,
            "order": null,
            "_view_module_version": "1.2.0",
            "grid_template_areas": null,
            "object_position": null,
            "object_fit": null,
            "grid_auto_columns": null,
            "margin": null,
            "display": null,
            "left": null
          }
        },
        "38e4996a694b4e5f8305a6ceea6f8ebd": {
          "model_module": "@jupyter-widgets/controls",
          "model_name": "DescriptionStyleModel",
          "model_module_version": "1.5.0",
          "state": {
            "_view_name": "StyleView",
            "_model_name": "DescriptionStyleModel",
            "description_width": "",
            "_view_module": "@jupyter-widgets/base",
            "_model_module_version": "1.5.0",
            "_view_count": null,
            "_view_module_version": "1.2.0",
            "_model_module": "@jupyter-widgets/controls"
          }
        },
        "ab1b4c8d320f4a26b9e4e6cc55dddad0": {
          "model_module": "@jupyter-widgets/base",
          "model_name": "LayoutModel",
          "model_module_version": "1.2.0",
          "state": {
            "_view_name": "LayoutView",
            "grid_template_rows": null,
            "right": null,
            "justify_content": null,
            "_view_module": "@jupyter-widgets/base",
            "overflow": null,
            "_model_module_version": "1.2.0",
            "_view_count": null,
            "flex_flow": null,
            "width": null,
            "min_width": null,
            "border": null,
            "align_items": null,
            "bottom": null,
            "_model_module": "@jupyter-widgets/base",
            "top": null,
            "grid_column": null,
            "overflow_y": null,
            "overflow_x": null,
            "grid_auto_flow": null,
            "grid_area": null,
            "grid_template_columns": null,
            "flex": null,
            "_model_name": "LayoutModel",
            "justify_items": null,
            "grid_row": null,
            "max_height": null,
            "align_content": null,
            "visibility": null,
            "align_self": null,
            "height": null,
            "min_height": null,
            "padding": null,
            "grid_auto_rows": null,
            "grid_gap": null,
            "max_width": null,
            "order": null,
            "_view_module_version": "1.2.0",
            "grid_template_areas": null,
            "object_position": null,
            "object_fit": null,
            "grid_auto_columns": null,
            "margin": null,
            "display": null,
            "left": null
          }
        },
        "04b181ed2dba4c5fa04457d6cce6c4f6": {
          "model_module": "@jupyter-widgets/controls",
          "model_name": "HBoxModel",
          "model_module_version": "1.5.0",
          "state": {
            "_view_name": "HBoxView",
            "_dom_classes": [],
            "_model_name": "HBoxModel",
            "_view_module": "@jupyter-widgets/controls",
            "_model_module_version": "1.5.0",
            "_view_count": null,
            "_view_module_version": "1.5.0",
            "box_style": "",
            "layout": "IPY_MODEL_30b061f8ba4f44799d96afd4c7032cb9",
            "_model_module": "@jupyter-widgets/controls",
            "children": [
              "IPY_MODEL_8e0da9b754d042ebb04c90d22f2e7df2",
              "IPY_MODEL_829efdb6b9134990aae4b8b94c1bef01",
              "IPY_MODEL_596d86975cc4467e884a68a1ab4766e3"
            ]
          }
        },
        "30b061f8ba4f44799d96afd4c7032cb9": {
          "model_module": "@jupyter-widgets/base",
          "model_name": "LayoutModel",
          "model_module_version": "1.2.0",
          "state": {
            "_view_name": "LayoutView",
            "grid_template_rows": null,
            "right": null,
            "justify_content": null,
            "_view_module": "@jupyter-widgets/base",
            "overflow": null,
            "_model_module_version": "1.2.0",
            "_view_count": null,
            "flex_flow": null,
            "width": null,
            "min_width": null,
            "border": null,
            "align_items": null,
            "bottom": null,
            "_model_module": "@jupyter-widgets/base",
            "top": null,
            "grid_column": null,
            "overflow_y": null,
            "overflow_x": null,
            "grid_auto_flow": null,
            "grid_area": null,
            "grid_template_columns": null,
            "flex": null,
            "_model_name": "LayoutModel",
            "justify_items": null,
            "grid_row": null,
            "max_height": null,
            "align_content": null,
            "visibility": null,
            "align_self": null,
            "height": null,
            "min_height": null,
            "padding": null,
            "grid_auto_rows": null,
            "grid_gap": null,
            "max_width": null,
            "order": null,
            "_view_module_version": "1.2.0",
            "grid_template_areas": null,
            "object_position": null,
            "object_fit": null,
            "grid_auto_columns": null,
            "margin": null,
            "display": null,
            "left": null
          }
        },
        "8e0da9b754d042ebb04c90d22f2e7df2": {
          "model_module": "@jupyter-widgets/controls",
          "model_name": "HTMLModel",
          "model_module_version": "1.5.0",
          "state": {
            "_view_name": "HTMLView",
            "style": "IPY_MODEL_e096b37576f94ba99ced5751bf5b4bb2",
            "_dom_classes": [],
            "description": "",
            "_model_name": "HTMLModel",
            "placeholder": "​",
            "_view_module": "@jupyter-widgets/controls",
            "_model_module_version": "1.5.0",
            "value": "loss: 0.3191, 0.4053, acc: 0.9031, 0.8815: 100%",
            "_view_count": null,
            "_view_module_version": "1.5.0",
            "description_tooltip": null,
            "_model_module": "@jupyter-widgets/controls",
            "layout": "IPY_MODEL_45cc1026969242a0ba6dc8a0d7581241"
          }
        },
        "829efdb6b9134990aae4b8b94c1bef01": {
          "model_module": "@jupyter-widgets/controls",
          "model_name": "FloatProgressModel",
          "model_module_version": "1.5.0",
          "state": {
            "_view_name": "ProgressView",
            "style": "IPY_MODEL_254a75a45a1840d2bd35d86ba537ab8e",
            "_dom_classes": [],
            "description": "",
            "_model_name": "FloatProgressModel",
            "bar_style": "success",
            "max": 3749,
            "_view_module": "@jupyter-widgets/controls",
            "_model_module_version": "1.5.0",
            "value": 3749,
            "_view_count": null,
            "_view_module_version": "1.5.0",
            "orientation": "horizontal",
            "min": 0,
            "description_tooltip": null,
            "_model_module": "@jupyter-widgets/controls",
            "layout": "IPY_MODEL_24c3727e9a744a72b6abddd324b62cb8"
          }
        },
        "596d86975cc4467e884a68a1ab4766e3": {
          "model_module": "@jupyter-widgets/controls",
          "model_name": "HTMLModel",
          "model_module_version": "1.5.0",
          "state": {
            "_view_name": "HTMLView",
            "style": "IPY_MODEL_67b97c034b484a109fdb9fa3f3898a6e",
            "_dom_classes": [],
            "description": "",
            "_model_name": "HTMLModel",
            "placeholder": "​",
            "_view_module": "@jupyter-widgets/controls",
            "_model_module_version": "1.5.0",
            "value": " 3749/3749 [36:53&lt;00:00,  1.86it/s]",
            "_view_count": null,
            "_view_module_version": "1.5.0",
            "description_tooltip": null,
            "_model_module": "@jupyter-widgets/controls",
            "layout": "IPY_MODEL_0eea56fe2ba84d928c3a5b09c05299d0"
          }
        },
        "e096b37576f94ba99ced5751bf5b4bb2": {
          "model_module": "@jupyter-widgets/controls",
          "model_name": "DescriptionStyleModel",
          "model_module_version": "1.5.0",
          "state": {
            "_view_name": "StyleView",
            "_model_name": "DescriptionStyleModel",
            "description_width": "",
            "_view_module": "@jupyter-widgets/base",
            "_model_module_version": "1.5.0",
            "_view_count": null,
            "_view_module_version": "1.2.0",
            "_model_module": "@jupyter-widgets/controls"
          }
        },
        "45cc1026969242a0ba6dc8a0d7581241": {
          "model_module": "@jupyter-widgets/base",
          "model_name": "LayoutModel",
          "model_module_version": "1.2.0",
          "state": {
            "_view_name": "LayoutView",
            "grid_template_rows": null,
            "right": null,
            "justify_content": null,
            "_view_module": "@jupyter-widgets/base",
            "overflow": null,
            "_model_module_version": "1.2.0",
            "_view_count": null,
            "flex_flow": null,
            "width": null,
            "min_width": null,
            "border": null,
            "align_items": null,
            "bottom": null,
            "_model_module": "@jupyter-widgets/base",
            "top": null,
            "grid_column": null,
            "overflow_y": null,
            "overflow_x": null,
            "grid_auto_flow": null,
            "grid_area": null,
            "grid_template_columns": null,
            "flex": null,
            "_model_name": "LayoutModel",
            "justify_items": null,
            "grid_row": null,
            "max_height": null,
            "align_content": null,
            "visibility": null,
            "align_self": null,
            "height": null,
            "min_height": null,
            "padding": null,
            "grid_auto_rows": null,
            "grid_gap": null,
            "max_width": null,
            "order": null,
            "_view_module_version": "1.2.0",
            "grid_template_areas": null,
            "object_position": null,
            "object_fit": null,
            "grid_auto_columns": null,
            "margin": null,
            "display": null,
            "left": null
          }
        },
        "254a75a45a1840d2bd35d86ba537ab8e": {
          "model_module": "@jupyter-widgets/controls",
          "model_name": "ProgressStyleModel",
          "model_module_version": "1.5.0",
          "state": {
            "_view_name": "StyleView",
            "_model_name": "ProgressStyleModel",
            "description_width": "",
            "_view_module": "@jupyter-widgets/base",
            "_model_module_version": "1.5.0",
            "_view_count": null,
            "_view_module_version": "1.2.0",
            "bar_color": null,
            "_model_module": "@jupyter-widgets/controls"
          }
        },
        "24c3727e9a744a72b6abddd324b62cb8": {
          "model_module": "@jupyter-widgets/base",
          "model_name": "LayoutModel",
          "model_module_version": "1.2.0",
          "state": {
            "_view_name": "LayoutView",
            "grid_template_rows": null,
            "right": null,
            "justify_content": null,
            "_view_module": "@jupyter-widgets/base",
            "overflow": null,
            "_model_module_version": "1.2.0",
            "_view_count": null,
            "flex_flow": null,
            "width": null,
            "min_width": null,
            "border": null,
            "align_items": null,
            "bottom": null,
            "_model_module": "@jupyter-widgets/base",
            "top": null,
            "grid_column": null,
            "overflow_y": null,
            "overflow_x": null,
            "grid_auto_flow": null,
            "grid_area": null,
            "grid_template_columns": null,
            "flex": null,
            "_model_name": "LayoutModel",
            "justify_items": null,
            "grid_row": null,
            "max_height": null,
            "align_content": null,
            "visibility": null,
            "align_self": null,
            "height": null,
            "min_height": null,
            "padding": null,
            "grid_auto_rows": null,
            "grid_gap": null,
            "max_width": null,
            "order": null,
            "_view_module_version": "1.2.0",
            "grid_template_areas": null,
            "object_position": null,
            "object_fit": null,
            "grid_auto_columns": null,
            "margin": null,
            "display": null,
            "left": null
          }
        },
        "67b97c034b484a109fdb9fa3f3898a6e": {
          "model_module": "@jupyter-widgets/controls",
          "model_name": "DescriptionStyleModel",
          "model_module_version": "1.5.0",
          "state": {
            "_view_name": "StyleView",
            "_model_name": "DescriptionStyleModel",
            "description_width": "",
            "_view_module": "@jupyter-widgets/base",
            "_model_module_version": "1.5.0",
            "_view_count": null,
            "_view_module_version": "1.2.0",
            "_model_module": "@jupyter-widgets/controls"
          }
        },
        "0eea56fe2ba84d928c3a5b09c05299d0": {
          "model_module": "@jupyter-widgets/base",
          "model_name": "LayoutModel",
          "model_module_version": "1.2.0",
          "state": {
            "_view_name": "LayoutView",
            "grid_template_rows": null,
            "right": null,
            "justify_content": null,
            "_view_module": "@jupyter-widgets/base",
            "overflow": null,
            "_model_module_version": "1.2.0",
            "_view_count": null,
            "flex_flow": null,
            "width": null,
            "min_width": null,
            "border": null,
            "align_items": null,
            "bottom": null,
            "_model_module": "@jupyter-widgets/base",
            "top": null,
            "grid_column": null,
            "overflow_y": null,
            "overflow_x": null,
            "grid_auto_flow": null,
            "grid_area": null,
            "grid_template_columns": null,
            "flex": null,
            "_model_name": "LayoutModel",
            "justify_items": null,
            "grid_row": null,
            "max_height": null,
            "align_content": null,
            "visibility": null,
            "align_self": null,
            "height": null,
            "min_height": null,
            "padding": null,
            "grid_auto_rows": null,
            "grid_gap": null,
            "max_width": null,
            "order": null,
            "_view_module_version": "1.2.0",
            "grid_template_areas": null,
            "object_position": null,
            "object_fit": null,
            "grid_auto_columns": null,
            "margin": null,
            "display": null,
            "left": null
          }
        },
        "87728528e10540b785f1fe1adb6abd38": {
          "model_module": "@jupyter-widgets/controls",
          "model_name": "HBoxModel",
          "model_module_version": "1.5.0",
          "state": {
            "_view_name": "HBoxView",
            "_dom_classes": [],
            "_model_name": "HBoxModel",
            "_view_module": "@jupyter-widgets/controls",
            "_model_module_version": "1.5.0",
            "_view_count": null,
            "_view_module_version": "1.5.0",
            "box_style": "",
            "layout": "IPY_MODEL_038971e6671349f187f22e41cfb950c8",
            "_model_module": "@jupyter-widgets/controls",
            "children": [
              "IPY_MODEL_23ecec388478466f891aa54482436d7d",
              "IPY_MODEL_202c4916d4064deca0dba435276b92b9",
              "IPY_MODEL_f0ddfa502acb4e39845c394b7c5efb8d"
            ]
          }
        },
        "038971e6671349f187f22e41cfb950c8": {
          "model_module": "@jupyter-widgets/base",
          "model_name": "LayoutModel",
          "model_module_version": "1.2.0",
          "state": {
            "_view_name": "LayoutView",
            "grid_template_rows": null,
            "right": null,
            "justify_content": null,
            "_view_module": "@jupyter-widgets/base",
            "overflow": null,
            "_model_module_version": "1.2.0",
            "_view_count": null,
            "flex_flow": null,
            "width": null,
            "min_width": null,
            "border": null,
            "align_items": null,
            "bottom": null,
            "_model_module": "@jupyter-widgets/base",
            "top": null,
            "grid_column": null,
            "overflow_y": null,
            "overflow_x": null,
            "grid_auto_flow": null,
            "grid_area": null,
            "grid_template_columns": null,
            "flex": null,
            "_model_name": "LayoutModel",
            "justify_items": null,
            "grid_row": null,
            "max_height": null,
            "align_content": null,
            "visibility": null,
            "align_self": null,
            "height": null,
            "min_height": null,
            "padding": null,
            "grid_auto_rows": null,
            "grid_gap": null,
            "max_width": null,
            "order": null,
            "_view_module_version": "1.2.0",
            "grid_template_areas": null,
            "object_position": null,
            "object_fit": null,
            "grid_auto_columns": null,
            "margin": null,
            "display": null,
            "left": null
          }
        },
        "23ecec388478466f891aa54482436d7d": {
          "model_module": "@jupyter-widgets/controls",
          "model_name": "HTMLModel",
          "model_module_version": "1.5.0",
          "state": {
            "_view_name": "HTMLView",
            "style": "IPY_MODEL_c26c6613e60041a18514425d26f1446a",
            "_dom_classes": [],
            "description": "",
            "_model_name": "HTMLModel",
            "placeholder": "​",
            "_view_module": "@jupyter-widgets/controls",
            "_model_module_version": "1.5.0",
            "value": "loss: 0.2608, 0.3188, acc: 0.9215, 0.9068: 100%",
            "_view_count": null,
            "_view_module_version": "1.5.0",
            "description_tooltip": null,
            "_model_module": "@jupyter-widgets/controls",
            "layout": "IPY_MODEL_013c500a8a454f97bcf8048c7f1678fc"
          }
        },
        "202c4916d4064deca0dba435276b92b9": {
          "model_module": "@jupyter-widgets/controls",
          "model_name": "FloatProgressModel",
          "model_module_version": "1.5.0",
          "state": {
            "_view_name": "ProgressView",
            "style": "IPY_MODEL_40bd2a24f3644f468990c37755493132",
            "_dom_classes": [],
            "description": "",
            "_model_name": "FloatProgressModel",
            "bar_style": "success",
            "max": 3749,
            "_view_module": "@jupyter-widgets/controls",
            "_model_module_version": "1.5.0",
            "value": 3749,
            "_view_count": null,
            "_view_module_version": "1.5.0",
            "orientation": "horizontal",
            "min": 0,
            "description_tooltip": null,
            "_model_module": "@jupyter-widgets/controls",
            "layout": "IPY_MODEL_24e4b44377f74cd2aebf3a59a78c5ea8"
          }
        },
        "f0ddfa502acb4e39845c394b7c5efb8d": {
          "model_module": "@jupyter-widgets/controls",
          "model_name": "HTMLModel",
          "model_module_version": "1.5.0",
          "state": {
            "_view_name": "HTMLView",
            "style": "IPY_MODEL_7f8b867e882b4416a640ae12453833fa",
            "_dom_classes": [],
            "description": "",
            "_model_name": "HTMLModel",
            "placeholder": "​",
            "_view_module": "@jupyter-widgets/controls",
            "_model_module_version": "1.5.0",
            "value": " 3749/3749 [37:04&lt;00:00,  1.87it/s]",
            "_view_count": null,
            "_view_module_version": "1.5.0",
            "description_tooltip": null,
            "_model_module": "@jupyter-widgets/controls",
            "layout": "IPY_MODEL_cb3d4350d77840ccb8bc1e5ede846153"
          }
        },
        "c26c6613e60041a18514425d26f1446a": {
          "model_module": "@jupyter-widgets/controls",
          "model_name": "DescriptionStyleModel",
          "model_module_version": "1.5.0",
          "state": {
            "_view_name": "StyleView",
            "_model_name": "DescriptionStyleModel",
            "description_width": "",
            "_view_module": "@jupyter-widgets/base",
            "_model_module_version": "1.5.0",
            "_view_count": null,
            "_view_module_version": "1.2.0",
            "_model_module": "@jupyter-widgets/controls"
          }
        },
        "013c500a8a454f97bcf8048c7f1678fc": {
          "model_module": "@jupyter-widgets/base",
          "model_name": "LayoutModel",
          "model_module_version": "1.2.0",
          "state": {
            "_view_name": "LayoutView",
            "grid_template_rows": null,
            "right": null,
            "justify_content": null,
            "_view_module": "@jupyter-widgets/base",
            "overflow": null,
            "_model_module_version": "1.2.0",
            "_view_count": null,
            "flex_flow": null,
            "width": null,
            "min_width": null,
            "border": null,
            "align_items": null,
            "bottom": null,
            "_model_module": "@jupyter-widgets/base",
            "top": null,
            "grid_column": null,
            "overflow_y": null,
            "overflow_x": null,
            "grid_auto_flow": null,
            "grid_area": null,
            "grid_template_columns": null,
            "flex": null,
            "_model_name": "LayoutModel",
            "justify_items": null,
            "grid_row": null,
            "max_height": null,
            "align_content": null,
            "visibility": null,
            "align_self": null,
            "height": null,
            "min_height": null,
            "padding": null,
            "grid_auto_rows": null,
            "grid_gap": null,
            "max_width": null,
            "order": null,
            "_view_module_version": "1.2.0",
            "grid_template_areas": null,
            "object_position": null,
            "object_fit": null,
            "grid_auto_columns": null,
            "margin": null,
            "display": null,
            "left": null
          }
        },
        "40bd2a24f3644f468990c37755493132": {
          "model_module": "@jupyter-widgets/controls",
          "model_name": "ProgressStyleModel",
          "model_module_version": "1.5.0",
          "state": {
            "_view_name": "StyleView",
            "_model_name": "ProgressStyleModel",
            "description_width": "",
            "_view_module": "@jupyter-widgets/base",
            "_model_module_version": "1.5.0",
            "_view_count": null,
            "_view_module_version": "1.2.0",
            "bar_color": null,
            "_model_module": "@jupyter-widgets/controls"
          }
        },
        "24e4b44377f74cd2aebf3a59a78c5ea8": {
          "model_module": "@jupyter-widgets/base",
          "model_name": "LayoutModel",
          "model_module_version": "1.2.0",
          "state": {
            "_view_name": "LayoutView",
            "grid_template_rows": null,
            "right": null,
            "justify_content": null,
            "_view_module": "@jupyter-widgets/base",
            "overflow": null,
            "_model_module_version": "1.2.0",
            "_view_count": null,
            "flex_flow": null,
            "width": null,
            "min_width": null,
            "border": null,
            "align_items": null,
            "bottom": null,
            "_model_module": "@jupyter-widgets/base",
            "top": null,
            "grid_column": null,
            "overflow_y": null,
            "overflow_x": null,
            "grid_auto_flow": null,
            "grid_area": null,
            "grid_template_columns": null,
            "flex": null,
            "_model_name": "LayoutModel",
            "justify_items": null,
            "grid_row": null,
            "max_height": null,
            "align_content": null,
            "visibility": null,
            "align_self": null,
            "height": null,
            "min_height": null,
            "padding": null,
            "grid_auto_rows": null,
            "grid_gap": null,
            "max_width": null,
            "order": null,
            "_view_module_version": "1.2.0",
            "grid_template_areas": null,
            "object_position": null,
            "object_fit": null,
            "grid_auto_columns": null,
            "margin": null,
            "display": null,
            "left": null
          }
        },
        "7f8b867e882b4416a640ae12453833fa": {
          "model_module": "@jupyter-widgets/controls",
          "model_name": "DescriptionStyleModel",
          "model_module_version": "1.5.0",
          "state": {
            "_view_name": "StyleView",
            "_model_name": "DescriptionStyleModel",
            "description_width": "",
            "_view_module": "@jupyter-widgets/base",
            "_model_module_version": "1.5.0",
            "_view_count": null,
            "_view_module_version": "1.2.0",
            "_model_module": "@jupyter-widgets/controls"
          }
        },
        "cb3d4350d77840ccb8bc1e5ede846153": {
          "model_module": "@jupyter-widgets/base",
          "model_name": "LayoutModel",
          "model_module_version": "1.2.0",
          "state": {
            "_view_name": "LayoutView",
            "grid_template_rows": null,
            "right": null,
            "justify_content": null,
            "_view_module": "@jupyter-widgets/base",
            "overflow": null,
            "_model_module_version": "1.2.0",
            "_view_count": null,
            "flex_flow": null,
            "width": null,
            "min_width": null,
            "border": null,
            "align_items": null,
            "bottom": null,
            "_model_module": "@jupyter-widgets/base",
            "top": null,
            "grid_column": null,
            "overflow_y": null,
            "overflow_x": null,
            "grid_auto_flow": null,
            "grid_area": null,
            "grid_template_columns": null,
            "flex": null,
            "_model_name": "LayoutModel",
            "justify_items": null,
            "grid_row": null,
            "max_height": null,
            "align_content": null,
            "visibility": null,
            "align_self": null,
            "height": null,
            "min_height": null,
            "padding": null,
            "grid_auto_rows": null,
            "grid_gap": null,
            "max_width": null,
            "order": null,
            "_view_module_version": "1.2.0",
            "grid_template_areas": null,
            "object_position": null,
            "object_fit": null,
            "grid_auto_columns": null,
            "margin": null,
            "display": null,
            "left": null
          }
        },
        "cc221aec32f04d11b420b1ab1d9a7a34": {
          "model_module": "@jupyter-widgets/controls",
          "model_name": "HBoxModel",
          "model_module_version": "1.5.0",
          "state": {
            "_view_name": "HBoxView",
            "_dom_classes": [],
            "_model_name": "HBoxModel",
            "_view_module": "@jupyter-widgets/controls",
            "_model_module_version": "1.5.0",
            "_view_count": null,
            "_view_module_version": "1.5.0",
            "box_style": "",
            "layout": "IPY_MODEL_bdb63bd5c3874dc2aa187c221ffe2646",
            "_model_module": "@jupyter-widgets/controls",
            "children": [
              "IPY_MODEL_98000498e38d44d2b180f922724bb491",
              "IPY_MODEL_55ad144360004840849455fa1331163d",
              "IPY_MODEL_b94d6e0714c7468c8f09d4159d64198d"
            ]
          }
        },
        "bdb63bd5c3874dc2aa187c221ffe2646": {
          "model_module": "@jupyter-widgets/base",
          "model_name": "LayoutModel",
          "model_module_version": "1.2.0",
          "state": {
            "_view_name": "LayoutView",
            "grid_template_rows": null,
            "right": null,
            "justify_content": null,
            "_view_module": "@jupyter-widgets/base",
            "overflow": null,
            "_model_module_version": "1.2.0",
            "_view_count": null,
            "flex_flow": null,
            "width": null,
            "min_width": null,
            "border": null,
            "align_items": null,
            "bottom": null,
            "_model_module": "@jupyter-widgets/base",
            "top": null,
            "grid_column": null,
            "overflow_y": null,
            "overflow_x": null,
            "grid_auto_flow": null,
            "grid_area": null,
            "grid_template_columns": null,
            "flex": null,
            "_model_name": "LayoutModel",
            "justify_items": null,
            "grid_row": null,
            "max_height": null,
            "align_content": null,
            "visibility": null,
            "align_self": null,
            "height": null,
            "min_height": null,
            "padding": null,
            "grid_auto_rows": null,
            "grid_gap": null,
            "max_width": null,
            "order": null,
            "_view_module_version": "1.2.0",
            "grid_template_areas": null,
            "object_position": null,
            "object_fit": null,
            "grid_auto_columns": null,
            "margin": null,
            "display": null,
            "left": null
          }
        },
        "98000498e38d44d2b180f922724bb491": {
          "model_module": "@jupyter-widgets/controls",
          "model_name": "HTMLModel",
          "model_module_version": "1.5.0",
          "state": {
            "_view_name": "HTMLView",
            "style": "IPY_MODEL_fa2711af1df3465593abffbe4b05411f",
            "_dom_classes": [],
            "description": "",
            "_model_name": "HTMLModel",
            "placeholder": "​",
            "_view_module": "@jupyter-widgets/controls",
            "_model_module_version": "1.5.0",
            "value": "loss: 0.2101, 0.2582, acc: 0.9380, 0.9244: 100%",
            "_view_count": null,
            "_view_module_version": "1.5.0",
            "description_tooltip": null,
            "_model_module": "@jupyter-widgets/controls",
            "layout": "IPY_MODEL_85473769b19a41e8af500a818788a212"
          }
        },
        "55ad144360004840849455fa1331163d": {
          "model_module": "@jupyter-widgets/controls",
          "model_name": "FloatProgressModel",
          "model_module_version": "1.5.0",
          "state": {
            "_view_name": "ProgressView",
            "style": "IPY_MODEL_83ef28a7af0b48728629cbe09ff87ae8",
            "_dom_classes": [],
            "description": "",
            "_model_name": "FloatProgressModel",
            "bar_style": "success",
            "max": 3749,
            "_view_module": "@jupyter-widgets/controls",
            "_model_module_version": "1.5.0",
            "value": 3749,
            "_view_count": null,
            "_view_module_version": "1.5.0",
            "orientation": "horizontal",
            "min": 0,
            "description_tooltip": null,
            "_model_module": "@jupyter-widgets/controls",
            "layout": "IPY_MODEL_efae922c2e3f4dd78ad68870f1f18e6d"
          }
        },
        "b94d6e0714c7468c8f09d4159d64198d": {
          "model_module": "@jupyter-widgets/controls",
          "model_name": "HTMLModel",
          "model_module_version": "1.5.0",
          "state": {
            "_view_name": "HTMLView",
            "style": "IPY_MODEL_221148b2082c437f972702912e52c5c4",
            "_dom_classes": [],
            "description": "",
            "_model_name": "HTMLModel",
            "placeholder": "​",
            "_view_module": "@jupyter-widgets/controls",
            "_model_module_version": "1.5.0",
            "value": " 3749/3749 [39:22&lt;00:00,  1.88it/s]",
            "_view_count": null,
            "_view_module_version": "1.5.0",
            "description_tooltip": null,
            "_model_module": "@jupyter-widgets/controls",
            "layout": "IPY_MODEL_71f45eddf5c946d7bc33729139efa4da"
          }
        },
        "fa2711af1df3465593abffbe4b05411f": {
          "model_module": "@jupyter-widgets/controls",
          "model_name": "DescriptionStyleModel",
          "model_module_version": "1.5.0",
          "state": {
            "_view_name": "StyleView",
            "_model_name": "DescriptionStyleModel",
            "description_width": "",
            "_view_module": "@jupyter-widgets/base",
            "_model_module_version": "1.5.0",
            "_view_count": null,
            "_view_module_version": "1.2.0",
            "_model_module": "@jupyter-widgets/controls"
          }
        },
        "85473769b19a41e8af500a818788a212": {
          "model_module": "@jupyter-widgets/base",
          "model_name": "LayoutModel",
          "model_module_version": "1.2.0",
          "state": {
            "_view_name": "LayoutView",
            "grid_template_rows": null,
            "right": null,
            "justify_content": null,
            "_view_module": "@jupyter-widgets/base",
            "overflow": null,
            "_model_module_version": "1.2.0",
            "_view_count": null,
            "flex_flow": null,
            "width": null,
            "min_width": null,
            "border": null,
            "align_items": null,
            "bottom": null,
            "_model_module": "@jupyter-widgets/base",
            "top": null,
            "grid_column": null,
            "overflow_y": null,
            "overflow_x": null,
            "grid_auto_flow": null,
            "grid_area": null,
            "grid_template_columns": null,
            "flex": null,
            "_model_name": "LayoutModel",
            "justify_items": null,
            "grid_row": null,
            "max_height": null,
            "align_content": null,
            "visibility": null,
            "align_self": null,
            "height": null,
            "min_height": null,
            "padding": null,
            "grid_auto_rows": null,
            "grid_gap": null,
            "max_width": null,
            "order": null,
            "_view_module_version": "1.2.0",
            "grid_template_areas": null,
            "object_position": null,
            "object_fit": null,
            "grid_auto_columns": null,
            "margin": null,
            "display": null,
            "left": null
          }
        },
        "83ef28a7af0b48728629cbe09ff87ae8": {
          "model_module": "@jupyter-widgets/controls",
          "model_name": "ProgressStyleModel",
          "model_module_version": "1.5.0",
          "state": {
            "_view_name": "StyleView",
            "_model_name": "ProgressStyleModel",
            "description_width": "",
            "_view_module": "@jupyter-widgets/base",
            "_model_module_version": "1.5.0",
            "_view_count": null,
            "_view_module_version": "1.2.0",
            "bar_color": null,
            "_model_module": "@jupyter-widgets/controls"
          }
        },
        "efae922c2e3f4dd78ad68870f1f18e6d": {
          "model_module": "@jupyter-widgets/base",
          "model_name": "LayoutModel",
          "model_module_version": "1.2.0",
          "state": {
            "_view_name": "LayoutView",
            "grid_template_rows": null,
            "right": null,
            "justify_content": null,
            "_view_module": "@jupyter-widgets/base",
            "overflow": null,
            "_model_module_version": "1.2.0",
            "_view_count": null,
            "flex_flow": null,
            "width": null,
            "min_width": null,
            "border": null,
            "align_items": null,
            "bottom": null,
            "_model_module": "@jupyter-widgets/base",
            "top": null,
            "grid_column": null,
            "overflow_y": null,
            "overflow_x": null,
            "grid_auto_flow": null,
            "grid_area": null,
            "grid_template_columns": null,
            "flex": null,
            "_model_name": "LayoutModel",
            "justify_items": null,
            "grid_row": null,
            "max_height": null,
            "align_content": null,
            "visibility": null,
            "align_self": null,
            "height": null,
            "min_height": null,
            "padding": null,
            "grid_auto_rows": null,
            "grid_gap": null,
            "max_width": null,
            "order": null,
            "_view_module_version": "1.2.0",
            "grid_template_areas": null,
            "object_position": null,
            "object_fit": null,
            "grid_auto_columns": null,
            "margin": null,
            "display": null,
            "left": null
          }
        },
        "221148b2082c437f972702912e52c5c4": {
          "model_module": "@jupyter-widgets/controls",
          "model_name": "DescriptionStyleModel",
          "model_module_version": "1.5.0",
          "state": {
            "_view_name": "StyleView",
            "_model_name": "DescriptionStyleModel",
            "description_width": "",
            "_view_module": "@jupyter-widgets/base",
            "_model_module_version": "1.5.0",
            "_view_count": null,
            "_view_module_version": "1.2.0",
            "_model_module": "@jupyter-widgets/controls"
          }
        },
        "71f45eddf5c946d7bc33729139efa4da": {
          "model_module": "@jupyter-widgets/base",
          "model_name": "LayoutModel",
          "model_module_version": "1.2.0",
          "state": {
            "_view_name": "LayoutView",
            "grid_template_rows": null,
            "right": null,
            "justify_content": null,
            "_view_module": "@jupyter-widgets/base",
            "overflow": null,
            "_model_module_version": "1.2.0",
            "_view_count": null,
            "flex_flow": null,
            "width": null,
            "min_width": null,
            "border": null,
            "align_items": null,
            "bottom": null,
            "_model_module": "@jupyter-widgets/base",
            "top": null,
            "grid_column": null,
            "overflow_y": null,
            "overflow_x": null,
            "grid_auto_flow": null,
            "grid_area": null,
            "grid_template_columns": null,
            "flex": null,
            "_model_name": "LayoutModel",
            "justify_items": null,
            "grid_row": null,
            "max_height": null,
            "align_content": null,
            "visibility": null,
            "align_self": null,
            "height": null,
            "min_height": null,
            "padding": null,
            "grid_auto_rows": null,
            "grid_gap": null,
            "max_width": null,
            "order": null,
            "_view_module_version": "1.2.0",
            "grid_template_areas": null,
            "object_position": null,
            "object_fit": null,
            "grid_auto_columns": null,
            "margin": null,
            "display": null,
            "left": null
          }
        },
        "7a191881ee874d1f8c229787fac271f3": {
          "model_module": "@jupyter-widgets/controls",
          "model_name": "HBoxModel",
          "model_module_version": "1.5.0",
          "state": {
            "_view_name": "HBoxView",
            "_dom_classes": [],
            "_model_name": "HBoxModel",
            "_view_module": "@jupyter-widgets/controls",
            "_model_module_version": "1.5.0",
            "_view_count": null,
            "_view_module_version": "1.5.0",
            "box_style": "",
            "layout": "IPY_MODEL_1d1a085a0e2042879b366746490e593d",
            "_model_module": "@jupyter-widgets/controls",
            "children": [
              "IPY_MODEL_1db47019d1e744efbe4c1c9f8f7cd2e2",
              "IPY_MODEL_c56825e736df4dc2a19acde4d4fc45ac",
              "IPY_MODEL_ccb9e8026954411595a1d781d67bc9c2"
            ]
          }
        },
        "1d1a085a0e2042879b366746490e593d": {
          "model_module": "@jupyter-widgets/base",
          "model_name": "LayoutModel",
          "model_module_version": "1.2.0",
          "state": {
            "_view_name": "LayoutView",
            "grid_template_rows": null,
            "right": null,
            "justify_content": null,
            "_view_module": "@jupyter-widgets/base",
            "overflow": null,
            "_model_module_version": "1.2.0",
            "_view_count": null,
            "flex_flow": null,
            "width": null,
            "min_width": null,
            "border": null,
            "align_items": null,
            "bottom": null,
            "_model_module": "@jupyter-widgets/base",
            "top": null,
            "grid_column": null,
            "overflow_y": null,
            "overflow_x": null,
            "grid_auto_flow": null,
            "grid_area": null,
            "grid_template_columns": null,
            "flex": null,
            "_model_name": "LayoutModel",
            "justify_items": null,
            "grid_row": null,
            "max_height": null,
            "align_content": null,
            "visibility": null,
            "align_self": null,
            "height": null,
            "min_height": null,
            "padding": null,
            "grid_auto_rows": null,
            "grid_gap": null,
            "max_width": null,
            "order": null,
            "_view_module_version": "1.2.0",
            "grid_template_areas": null,
            "object_position": null,
            "object_fit": null,
            "grid_auto_columns": null,
            "margin": null,
            "display": null,
            "left": null
          }
        },
        "1db47019d1e744efbe4c1c9f8f7cd2e2": {
          "model_module": "@jupyter-widgets/controls",
          "model_name": "HTMLModel",
          "model_module_version": "1.5.0",
          "state": {
            "_view_name": "HTMLView",
            "style": "IPY_MODEL_d6c011b6044f47d9b05628bdfae47bc3",
            "_dom_classes": [],
            "description": "",
            "_model_name": "HTMLModel",
            "placeholder": "​",
            "_view_module": "@jupyter-widgets/controls",
            "_model_module_version": "1.5.0",
            "value": "loss: 0.1837, 0.2149, acc: 0.9458, 0.9372: 100%",
            "_view_count": null,
            "_view_module_version": "1.5.0",
            "description_tooltip": null,
            "_model_module": "@jupyter-widgets/controls",
            "layout": "IPY_MODEL_757f6de08dc247a7997d093886e2607c"
          }
        },
        "c56825e736df4dc2a19acde4d4fc45ac": {
          "model_module": "@jupyter-widgets/controls",
          "model_name": "FloatProgressModel",
          "model_module_version": "1.5.0",
          "state": {
            "_view_name": "ProgressView",
            "style": "IPY_MODEL_04570243ff044f79bb459721d4b36571",
            "_dom_classes": [],
            "description": "",
            "_model_name": "FloatProgressModel",
            "bar_style": "success",
            "max": 3749,
            "_view_module": "@jupyter-widgets/controls",
            "_model_module_version": "1.5.0",
            "value": 3749,
            "_view_count": null,
            "_view_module_version": "1.5.0",
            "orientation": "horizontal",
            "min": 0,
            "description_tooltip": null,
            "_model_module": "@jupyter-widgets/controls",
            "layout": "IPY_MODEL_c5fbce7bafae4dde9fb88fb2f4212b11"
          }
        },
        "ccb9e8026954411595a1d781d67bc9c2": {
          "model_module": "@jupyter-widgets/controls",
          "model_name": "HTMLModel",
          "model_module_version": "1.5.0",
          "state": {
            "_view_name": "HTMLView",
            "style": "IPY_MODEL_a1ebf99833534c078544865d981dbfce",
            "_dom_classes": [],
            "description": "",
            "_model_name": "HTMLModel",
            "placeholder": "​",
            "_view_module": "@jupyter-widgets/controls",
            "_model_module_version": "1.5.0",
            "value": " 3749/3749 [36:56&lt;00:00,  1.85it/s]",
            "_view_count": null,
            "_view_module_version": "1.5.0",
            "description_tooltip": null,
            "_model_module": "@jupyter-widgets/controls",
            "layout": "IPY_MODEL_8a021dc889514dcc8450eeba5d3731b5"
          }
        },
        "d6c011b6044f47d9b05628bdfae47bc3": {
          "model_module": "@jupyter-widgets/controls",
          "model_name": "DescriptionStyleModel",
          "model_module_version": "1.5.0",
          "state": {
            "_view_name": "StyleView",
            "_model_name": "DescriptionStyleModel",
            "description_width": "",
            "_view_module": "@jupyter-widgets/base",
            "_model_module_version": "1.5.0",
            "_view_count": null,
            "_view_module_version": "1.2.0",
            "_model_module": "@jupyter-widgets/controls"
          }
        },
        "757f6de08dc247a7997d093886e2607c": {
          "model_module": "@jupyter-widgets/base",
          "model_name": "LayoutModel",
          "model_module_version": "1.2.0",
          "state": {
            "_view_name": "LayoutView",
            "grid_template_rows": null,
            "right": null,
            "justify_content": null,
            "_view_module": "@jupyter-widgets/base",
            "overflow": null,
            "_model_module_version": "1.2.0",
            "_view_count": null,
            "flex_flow": null,
            "width": null,
            "min_width": null,
            "border": null,
            "align_items": null,
            "bottom": null,
            "_model_module": "@jupyter-widgets/base",
            "top": null,
            "grid_column": null,
            "overflow_y": null,
            "overflow_x": null,
            "grid_auto_flow": null,
            "grid_area": null,
            "grid_template_columns": null,
            "flex": null,
            "_model_name": "LayoutModel",
            "justify_items": null,
            "grid_row": null,
            "max_height": null,
            "align_content": null,
            "visibility": null,
            "align_self": null,
            "height": null,
            "min_height": null,
            "padding": null,
            "grid_auto_rows": null,
            "grid_gap": null,
            "max_width": null,
            "order": null,
            "_view_module_version": "1.2.0",
            "grid_template_areas": null,
            "object_position": null,
            "object_fit": null,
            "grid_auto_columns": null,
            "margin": null,
            "display": null,
            "left": null
          }
        },
        "04570243ff044f79bb459721d4b36571": {
          "model_module": "@jupyter-widgets/controls",
          "model_name": "ProgressStyleModel",
          "model_module_version": "1.5.0",
          "state": {
            "_view_name": "StyleView",
            "_model_name": "ProgressStyleModel",
            "description_width": "",
            "_view_module": "@jupyter-widgets/base",
            "_model_module_version": "1.5.0",
            "_view_count": null,
            "_view_module_version": "1.2.0",
            "bar_color": null,
            "_model_module": "@jupyter-widgets/controls"
          }
        },
        "c5fbce7bafae4dde9fb88fb2f4212b11": {
          "model_module": "@jupyter-widgets/base",
          "model_name": "LayoutModel",
          "model_module_version": "1.2.0",
          "state": {
            "_view_name": "LayoutView",
            "grid_template_rows": null,
            "right": null,
            "justify_content": null,
            "_view_module": "@jupyter-widgets/base",
            "overflow": null,
            "_model_module_version": "1.2.0",
            "_view_count": null,
            "flex_flow": null,
            "width": null,
            "min_width": null,
            "border": null,
            "align_items": null,
            "bottom": null,
            "_model_module": "@jupyter-widgets/base",
            "top": null,
            "grid_column": null,
            "overflow_y": null,
            "overflow_x": null,
            "grid_auto_flow": null,
            "grid_area": null,
            "grid_template_columns": null,
            "flex": null,
            "_model_name": "LayoutModel",
            "justify_items": null,
            "grid_row": null,
            "max_height": null,
            "align_content": null,
            "visibility": null,
            "align_self": null,
            "height": null,
            "min_height": null,
            "padding": null,
            "grid_auto_rows": null,
            "grid_gap": null,
            "max_width": null,
            "order": null,
            "_view_module_version": "1.2.0",
            "grid_template_areas": null,
            "object_position": null,
            "object_fit": null,
            "grid_auto_columns": null,
            "margin": null,
            "display": null,
            "left": null
          }
        },
        "a1ebf99833534c078544865d981dbfce": {
          "model_module": "@jupyter-widgets/controls",
          "model_name": "DescriptionStyleModel",
          "model_module_version": "1.5.0",
          "state": {
            "_view_name": "StyleView",
            "_model_name": "DescriptionStyleModel",
            "description_width": "",
            "_view_module": "@jupyter-widgets/base",
            "_model_module_version": "1.5.0",
            "_view_count": null,
            "_view_module_version": "1.2.0",
            "_model_module": "@jupyter-widgets/controls"
          }
        },
        "8a021dc889514dcc8450eeba5d3731b5": {
          "model_module": "@jupyter-widgets/base",
          "model_name": "LayoutModel",
          "model_module_version": "1.2.0",
          "state": {
            "_view_name": "LayoutView",
            "grid_template_rows": null,
            "right": null,
            "justify_content": null,
            "_view_module": "@jupyter-widgets/base",
            "overflow": null,
            "_model_module_version": "1.2.0",
            "_view_count": null,
            "flex_flow": null,
            "width": null,
            "min_width": null,
            "border": null,
            "align_items": null,
            "bottom": null,
            "_model_module": "@jupyter-widgets/base",
            "top": null,
            "grid_column": null,
            "overflow_y": null,
            "overflow_x": null,
            "grid_auto_flow": null,
            "grid_area": null,
            "grid_template_columns": null,
            "flex": null,
            "_model_name": "LayoutModel",
            "justify_items": null,
            "grid_row": null,
            "max_height": null,
            "align_content": null,
            "visibility": null,
            "align_self": null,
            "height": null,
            "min_height": null,
            "padding": null,
            "grid_auto_rows": null,
            "grid_gap": null,
            "max_width": null,
            "order": null,
            "_view_module_version": "1.2.0",
            "grid_template_areas": null,
            "object_position": null,
            "object_fit": null,
            "grid_auto_columns": null,
            "margin": null,
            "display": null,
            "left": null
          }
        }
      }
    }
  },
  "cells": [
    {
      "cell_type": "markdown",
      "metadata": {
        "id": "muslim-liberia"
      },
      "source": [
        "# BERT Pretrained Model 활용"
      ],
      "id": "muslim-liberia"
    },
    {
      "cell_type": "markdown",
      "metadata": {
        "id": "nearby-bahamas"
      },
      "source": [
        "# 0. 프로젝트 준비 - KorQuAD 데이터셋 준비"
      ],
      "id": "nearby-bahamas"
    },
    {
      "cell_type": "code",
      "metadata": {
        "colab": {
          "base_uri": "https://localhost:8080/"
        },
        "id": "MGJoj523f2kA",
        "outputId": "92ba167c-c816-460a-aabe-5d0e8a0fe7e1"
      },
      "source": [
        "!pip install tensorflow_addons"
      ],
      "id": "MGJoj523f2kA",
      "execution_count": 1,
      "outputs": [
        {
          "output_type": "stream",
          "name": "stdout",
          "text": [
            "Collecting tensorflow_addons\n",
            "  Downloading tensorflow_addons-0.14.0-cp37-cp37m-manylinux_2_12_x86_64.manylinux2010_x86_64.whl (1.1 MB)\n",
            "\u001b[?25l\r\u001b[K     |▎                               | 10 kB 25.3 MB/s eta 0:00:01\r\u001b[K     |▋                               | 20 kB 26.5 MB/s eta 0:00:01\r\u001b[K     |▉                               | 30 kB 18.0 MB/s eta 0:00:01\r\u001b[K     |█▏                              | 40 kB 15.4 MB/s eta 0:00:01\r\u001b[K     |█▌                              | 51 kB 5.6 MB/s eta 0:00:01\r\u001b[K     |█▊                              | 61 kB 6.0 MB/s eta 0:00:01\r\u001b[K     |██                              | 71 kB 5.5 MB/s eta 0:00:01\r\u001b[K     |██▍                             | 81 kB 6.2 MB/s eta 0:00:01\r\u001b[K     |██▋                             | 92 kB 6.1 MB/s eta 0:00:01\r\u001b[K     |███                             | 102 kB 5.3 MB/s eta 0:00:01\r\u001b[K     |███▎                            | 112 kB 5.3 MB/s eta 0:00:01\r\u001b[K     |███▌                            | 122 kB 5.3 MB/s eta 0:00:01\r\u001b[K     |███▉                            | 133 kB 5.3 MB/s eta 0:00:01\r\u001b[K     |████▏                           | 143 kB 5.3 MB/s eta 0:00:01\r\u001b[K     |████▍                           | 153 kB 5.3 MB/s eta 0:00:01\r\u001b[K     |████▊                           | 163 kB 5.3 MB/s eta 0:00:01\r\u001b[K     |█████                           | 174 kB 5.3 MB/s eta 0:00:01\r\u001b[K     |█████▎                          | 184 kB 5.3 MB/s eta 0:00:01\r\u001b[K     |█████▋                          | 194 kB 5.3 MB/s eta 0:00:01\r\u001b[K     |██████                          | 204 kB 5.3 MB/s eta 0:00:01\r\u001b[K     |██████▏                         | 215 kB 5.3 MB/s eta 0:00:01\r\u001b[K     |██████▌                         | 225 kB 5.3 MB/s eta 0:00:01\r\u001b[K     |██████▉                         | 235 kB 5.3 MB/s eta 0:00:01\r\u001b[K     |███████                         | 245 kB 5.3 MB/s eta 0:00:01\r\u001b[K     |███████▍                        | 256 kB 5.3 MB/s eta 0:00:01\r\u001b[K     |███████▊                        | 266 kB 5.3 MB/s eta 0:00:01\r\u001b[K     |████████                        | 276 kB 5.3 MB/s eta 0:00:01\r\u001b[K     |████████▎                       | 286 kB 5.3 MB/s eta 0:00:01\r\u001b[K     |████████▋                       | 296 kB 5.3 MB/s eta 0:00:01\r\u001b[K     |████████▉                       | 307 kB 5.3 MB/s eta 0:00:01\r\u001b[K     |█████████▏                      | 317 kB 5.3 MB/s eta 0:00:01\r\u001b[K     |█████████▌                      | 327 kB 5.3 MB/s eta 0:00:01\r\u001b[K     |█████████▊                      | 337 kB 5.3 MB/s eta 0:00:01\r\u001b[K     |██████████                      | 348 kB 5.3 MB/s eta 0:00:01\r\u001b[K     |██████████▍                     | 358 kB 5.3 MB/s eta 0:00:01\r\u001b[K     |██████████▋                     | 368 kB 5.3 MB/s eta 0:00:01\r\u001b[K     |███████████                     | 378 kB 5.3 MB/s eta 0:00:01\r\u001b[K     |███████████▎                    | 389 kB 5.3 MB/s eta 0:00:01\r\u001b[K     |███████████▌                    | 399 kB 5.3 MB/s eta 0:00:01\r\u001b[K     |███████████▉                    | 409 kB 5.3 MB/s eta 0:00:01\r\u001b[K     |████████████▏                   | 419 kB 5.3 MB/s eta 0:00:01\r\u001b[K     |████████████▍                   | 430 kB 5.3 MB/s eta 0:00:01\r\u001b[K     |████████████▊                   | 440 kB 5.3 MB/s eta 0:00:01\r\u001b[K     |█████████████                   | 450 kB 5.3 MB/s eta 0:00:01\r\u001b[K     |█████████████▎                  | 460 kB 5.3 MB/s eta 0:00:01\r\u001b[K     |█████████████▋                  | 471 kB 5.3 MB/s eta 0:00:01\r\u001b[K     |██████████████                  | 481 kB 5.3 MB/s eta 0:00:01\r\u001b[K     |██████████████▏                 | 491 kB 5.3 MB/s eta 0:00:01\r\u001b[K     |██████████████▌                 | 501 kB 5.3 MB/s eta 0:00:01\r\u001b[K     |██████████████▉                 | 512 kB 5.3 MB/s eta 0:00:01\r\u001b[K     |███████████████                 | 522 kB 5.3 MB/s eta 0:00:01\r\u001b[K     |███████████████▍                | 532 kB 5.3 MB/s eta 0:00:01\r\u001b[K     |███████████████▊                | 542 kB 5.3 MB/s eta 0:00:01\r\u001b[K     |████████████████                | 552 kB 5.3 MB/s eta 0:00:01\r\u001b[K     |████████████████▎               | 563 kB 5.3 MB/s eta 0:00:01\r\u001b[K     |████████████████▋               | 573 kB 5.3 MB/s eta 0:00:01\r\u001b[K     |████████████████▉               | 583 kB 5.3 MB/s eta 0:00:01\r\u001b[K     |█████████████████▏              | 593 kB 5.3 MB/s eta 0:00:01\r\u001b[K     |█████████████████▌              | 604 kB 5.3 MB/s eta 0:00:01\r\u001b[K     |█████████████████▊              | 614 kB 5.3 MB/s eta 0:00:01\r\u001b[K     |██████████████████              | 624 kB 5.3 MB/s eta 0:00:01\r\u001b[K     |██████████████████▍             | 634 kB 5.3 MB/s eta 0:00:01\r\u001b[K     |██████████████████▋             | 645 kB 5.3 MB/s eta 0:00:01\r\u001b[K     |███████████████████             | 655 kB 5.3 MB/s eta 0:00:01\r\u001b[K     |███████████████████▎            | 665 kB 5.3 MB/s eta 0:00:01\r\u001b[K     |███████████████████▌            | 675 kB 5.3 MB/s eta 0:00:01\r\u001b[K     |███████████████████▉            | 686 kB 5.3 MB/s eta 0:00:01\r\u001b[K     |████████████████████▏           | 696 kB 5.3 MB/s eta 0:00:01\r\u001b[K     |████████████████████▍           | 706 kB 5.3 MB/s eta 0:00:01\r\u001b[K     |████████████████████▊           | 716 kB 5.3 MB/s eta 0:00:01\r\u001b[K     |█████████████████████           | 727 kB 5.3 MB/s eta 0:00:01\r\u001b[K     |█████████████████████▎          | 737 kB 5.3 MB/s eta 0:00:01\r\u001b[K     |█████████████████████▋          | 747 kB 5.3 MB/s eta 0:00:01\r\u001b[K     |██████████████████████          | 757 kB 5.3 MB/s eta 0:00:01\r\u001b[K     |██████████████████████▏         | 768 kB 5.3 MB/s eta 0:00:01\r\u001b[K     |██████████████████████▌         | 778 kB 5.3 MB/s eta 0:00:01\r\u001b[K     |██████████████████████▉         | 788 kB 5.3 MB/s eta 0:00:01\r\u001b[K     |███████████████████████         | 798 kB 5.3 MB/s eta 0:00:01\r\u001b[K     |███████████████████████▍        | 808 kB 5.3 MB/s eta 0:00:01\r\u001b[K     |███████████████████████▊        | 819 kB 5.3 MB/s eta 0:00:01\r\u001b[K     |████████████████████████        | 829 kB 5.3 MB/s eta 0:00:01\r\u001b[K     |████████████████████████▎       | 839 kB 5.3 MB/s eta 0:00:01\r\u001b[K     |████████████████████████▋       | 849 kB 5.3 MB/s eta 0:00:01\r\u001b[K     |████████████████████████▉       | 860 kB 5.3 MB/s eta 0:00:01\r\u001b[K     |█████████████████████████▏      | 870 kB 5.3 MB/s eta 0:00:01\r\u001b[K     |█████████████████████████▍      | 880 kB 5.3 MB/s eta 0:00:01\r\u001b[K     |█████████████████████████▊      | 890 kB 5.3 MB/s eta 0:00:01\r\u001b[K     |██████████████████████████      | 901 kB 5.3 MB/s eta 0:00:01\r\u001b[K     |██████████████████████████▎     | 911 kB 5.3 MB/s eta 0:00:01\r\u001b[K     |██████████████████████████▋     | 921 kB 5.3 MB/s eta 0:00:01\r\u001b[K     |███████████████████████████     | 931 kB 5.3 MB/s eta 0:00:01\r\u001b[K     |███████████████████████████▏    | 942 kB 5.3 MB/s eta 0:00:01\r\u001b[K     |███████████████████████████▌    | 952 kB 5.3 MB/s eta 0:00:01\r\u001b[K     |███████████████████████████▉    | 962 kB 5.3 MB/s eta 0:00:01\r\u001b[K     |████████████████████████████    | 972 kB 5.3 MB/s eta 0:00:01\r\u001b[K     |████████████████████████████▍   | 983 kB 5.3 MB/s eta 0:00:01\r\u001b[K     |████████████████████████████▊   | 993 kB 5.3 MB/s eta 0:00:01\r\u001b[K     |█████████████████████████████   | 1.0 MB 5.3 MB/s eta 0:00:01\r\u001b[K     |█████████████████████████████▎  | 1.0 MB 5.3 MB/s eta 0:00:01\r\u001b[K     |█████████████████████████████▋  | 1.0 MB 5.3 MB/s eta 0:00:01\r\u001b[K     |█████████████████████████████▉  | 1.0 MB 5.3 MB/s eta 0:00:01\r\u001b[K     |██████████████████████████████▏ | 1.0 MB 5.3 MB/s eta 0:00:01\r\u001b[K     |██████████████████████████████▌ | 1.1 MB 5.3 MB/s eta 0:00:01\r\u001b[K     |██████████████████████████████▊ | 1.1 MB 5.3 MB/s eta 0:00:01\r\u001b[K     |███████████████████████████████ | 1.1 MB 5.3 MB/s eta 0:00:01\r\u001b[K     |███████████████████████████████▍| 1.1 MB 5.3 MB/s eta 0:00:01\r\u001b[K     |███████████████████████████████▋| 1.1 MB 5.3 MB/s eta 0:00:01\r\u001b[K     |████████████████████████████████| 1.1 MB 5.3 MB/s eta 0:00:01\r\u001b[K     |████████████████████████████████| 1.1 MB 5.3 MB/s \n",
            "\u001b[?25hRequirement already satisfied: typeguard>=2.7 in /usr/local/lib/python3.7/dist-packages (from tensorflow_addons) (2.7.1)\n",
            "Installing collected packages: tensorflow-addons\n",
            "Successfully installed tensorflow-addons-0.14.0\n"
          ]
        }
      ]
    },
    {
      "cell_type": "code",
      "metadata": {
        "colab": {
          "base_uri": "https://localhost:8080/"
        },
        "id": "Cu6ZRafaf903",
        "outputId": "48945cf1-c799-4344-bac7-22b23f4f7515"
      },
      "source": [
        "!pip install sentencepiece"
      ],
      "id": "Cu6ZRafaf903",
      "execution_count": 2,
      "outputs": [
        {
          "output_type": "stream",
          "name": "stdout",
          "text": [
            "Collecting sentencepiece\n",
            "  Downloading sentencepiece-0.1.96-cp37-cp37m-manylinux_2_17_x86_64.manylinux2014_x86_64.whl (1.2 MB)\n",
            "\u001b[?25l\r\u001b[K     |▎                               | 10 kB 27.3 MB/s eta 0:00:01\r\u001b[K     |▌                               | 20 kB 21.8 MB/s eta 0:00:01\r\u001b[K     |▉                               | 30 kB 11.8 MB/s eta 0:00:01\r\u001b[K     |█                               | 40 kB 9.1 MB/s eta 0:00:01\r\u001b[K     |█▍                              | 51 kB 5.0 MB/s eta 0:00:01\r\u001b[K     |█▋                              | 61 kB 5.5 MB/s eta 0:00:01\r\u001b[K     |██                              | 71 kB 5.9 MB/s eta 0:00:01\r\u001b[K     |██▏                             | 81 kB 6.6 MB/s eta 0:00:01\r\u001b[K     |██▍                             | 92 kB 6.3 MB/s eta 0:00:01\r\u001b[K     |██▊                             | 102 kB 5.1 MB/s eta 0:00:01\r\u001b[K     |███                             | 112 kB 5.1 MB/s eta 0:00:01\r\u001b[K     |███▎                            | 122 kB 5.1 MB/s eta 0:00:01\r\u001b[K     |███▌                            | 133 kB 5.1 MB/s eta 0:00:01\r\u001b[K     |███▉                            | 143 kB 5.1 MB/s eta 0:00:01\r\u001b[K     |████                            | 153 kB 5.1 MB/s eta 0:00:01\r\u001b[K     |████▎                           | 163 kB 5.1 MB/s eta 0:00:01\r\u001b[K     |████▋                           | 174 kB 5.1 MB/s eta 0:00:01\r\u001b[K     |████▉                           | 184 kB 5.1 MB/s eta 0:00:01\r\u001b[K     |█████▏                          | 194 kB 5.1 MB/s eta 0:00:01\r\u001b[K     |█████▍                          | 204 kB 5.1 MB/s eta 0:00:01\r\u001b[K     |█████▊                          | 215 kB 5.1 MB/s eta 0:00:01\r\u001b[K     |██████                          | 225 kB 5.1 MB/s eta 0:00:01\r\u001b[K     |██████▏                         | 235 kB 5.1 MB/s eta 0:00:01\r\u001b[K     |██████▌                         | 245 kB 5.1 MB/s eta 0:00:01\r\u001b[K     |██████▊                         | 256 kB 5.1 MB/s eta 0:00:01\r\u001b[K     |███████                         | 266 kB 5.1 MB/s eta 0:00:01\r\u001b[K     |███████▎                        | 276 kB 5.1 MB/s eta 0:00:01\r\u001b[K     |███████▋                        | 286 kB 5.1 MB/s eta 0:00:01\r\u001b[K     |███████▉                        | 296 kB 5.1 MB/s eta 0:00:01\r\u001b[K     |████████                        | 307 kB 5.1 MB/s eta 0:00:01\r\u001b[K     |████████▍                       | 317 kB 5.1 MB/s eta 0:00:01\r\u001b[K     |████████▋                       | 327 kB 5.1 MB/s eta 0:00:01\r\u001b[K     |█████████                       | 337 kB 5.1 MB/s eta 0:00:01\r\u001b[K     |█████████▏                      | 348 kB 5.1 MB/s eta 0:00:01\r\u001b[K     |█████████▌                      | 358 kB 5.1 MB/s eta 0:00:01\r\u001b[K     |█████████▊                      | 368 kB 5.1 MB/s eta 0:00:01\r\u001b[K     |██████████                      | 378 kB 5.1 MB/s eta 0:00:01\r\u001b[K     |██████████▎                     | 389 kB 5.1 MB/s eta 0:00:01\r\u001b[K     |██████████▌                     | 399 kB 5.1 MB/s eta 0:00:01\r\u001b[K     |██████████▉                     | 409 kB 5.1 MB/s eta 0:00:01\r\u001b[K     |███████████                     | 419 kB 5.1 MB/s eta 0:00:01\r\u001b[K     |███████████▍                    | 430 kB 5.1 MB/s eta 0:00:01\r\u001b[K     |███████████▋                    | 440 kB 5.1 MB/s eta 0:00:01\r\u001b[K     |███████████▉                    | 450 kB 5.1 MB/s eta 0:00:01\r\u001b[K     |████████████▏                   | 460 kB 5.1 MB/s eta 0:00:01\r\u001b[K     |████████████▍                   | 471 kB 5.1 MB/s eta 0:00:01\r\u001b[K     |████████████▊                   | 481 kB 5.1 MB/s eta 0:00:01\r\u001b[K     |█████████████                   | 491 kB 5.1 MB/s eta 0:00:01\r\u001b[K     |█████████████▎                  | 501 kB 5.1 MB/s eta 0:00:01\r\u001b[K     |█████████████▌                  | 512 kB 5.1 MB/s eta 0:00:01\r\u001b[K     |█████████████▊                  | 522 kB 5.1 MB/s eta 0:00:01\r\u001b[K     |██████████████                  | 532 kB 5.1 MB/s eta 0:00:01\r\u001b[K     |██████████████▎                 | 542 kB 5.1 MB/s eta 0:00:01\r\u001b[K     |██████████████▋                 | 552 kB 5.1 MB/s eta 0:00:01\r\u001b[K     |██████████████▉                 | 563 kB 5.1 MB/s eta 0:00:01\r\u001b[K     |███████████████▏                | 573 kB 5.1 MB/s eta 0:00:01\r\u001b[K     |███████████████▍                | 583 kB 5.1 MB/s eta 0:00:01\r\u001b[K     |███████████████▋                | 593 kB 5.1 MB/s eta 0:00:01\r\u001b[K     |████████████████                | 604 kB 5.1 MB/s eta 0:00:01\r\u001b[K     |████████████████▏               | 614 kB 5.1 MB/s eta 0:00:01\r\u001b[K     |████████████████▌               | 624 kB 5.1 MB/s eta 0:00:01\r\u001b[K     |████████████████▊               | 634 kB 5.1 MB/s eta 0:00:01\r\u001b[K     |█████████████████               | 645 kB 5.1 MB/s eta 0:00:01\r\u001b[K     |█████████████████▎              | 655 kB 5.1 MB/s eta 0:00:01\r\u001b[K     |█████████████████▌              | 665 kB 5.1 MB/s eta 0:00:01\r\u001b[K     |█████████████████▉              | 675 kB 5.1 MB/s eta 0:00:01\r\u001b[K     |██████████████████              | 686 kB 5.1 MB/s eta 0:00:01\r\u001b[K     |██████████████████▍             | 696 kB 5.1 MB/s eta 0:00:01\r\u001b[K     |██████████████████▋             | 706 kB 5.1 MB/s eta 0:00:01\r\u001b[K     |███████████████████             | 716 kB 5.1 MB/s eta 0:00:01\r\u001b[K     |███████████████████▏            | 727 kB 5.1 MB/s eta 0:00:01\r\u001b[K     |███████████████████▍            | 737 kB 5.1 MB/s eta 0:00:01\r\u001b[K     |███████████████████▊            | 747 kB 5.1 MB/s eta 0:00:01\r\u001b[K     |████████████████████            | 757 kB 5.1 MB/s eta 0:00:01\r\u001b[K     |████████████████████▎           | 768 kB 5.1 MB/s eta 0:00:01\r\u001b[K     |████████████████████▌           | 778 kB 5.1 MB/s eta 0:00:01\r\u001b[K     |████████████████████▉           | 788 kB 5.1 MB/s eta 0:00:01\r\u001b[K     |█████████████████████           | 798 kB 5.1 MB/s eta 0:00:01\r\u001b[K     |█████████████████████▎          | 808 kB 5.1 MB/s eta 0:00:01\r\u001b[K     |█████████████████████▋          | 819 kB 5.1 MB/s eta 0:00:01\r\u001b[K     |█████████████████████▉          | 829 kB 5.1 MB/s eta 0:00:01\r\u001b[K     |██████████████████████▏         | 839 kB 5.1 MB/s eta 0:00:01\r\u001b[K     |██████████████████████▍         | 849 kB 5.1 MB/s eta 0:00:01\r\u001b[K     |██████████████████████▊         | 860 kB 5.1 MB/s eta 0:00:01\r\u001b[K     |███████████████████████         | 870 kB 5.1 MB/s eta 0:00:01\r\u001b[K     |███████████████████████▏        | 880 kB 5.1 MB/s eta 0:00:01\r\u001b[K     |███████████████████████▌        | 890 kB 5.1 MB/s eta 0:00:01\r\u001b[K     |███████████████████████▊        | 901 kB 5.1 MB/s eta 0:00:01\r\u001b[K     |████████████████████████        | 911 kB 5.1 MB/s eta 0:00:01\r\u001b[K     |████████████████████████▎       | 921 kB 5.1 MB/s eta 0:00:01\r\u001b[K     |████████████████████████▋       | 931 kB 5.1 MB/s eta 0:00:01\r\u001b[K     |████████████████████████▉       | 942 kB 5.1 MB/s eta 0:00:01\r\u001b[K     |█████████████████████████       | 952 kB 5.1 MB/s eta 0:00:01\r\u001b[K     |█████████████████████████▍      | 962 kB 5.1 MB/s eta 0:00:01\r\u001b[K     |█████████████████████████▋      | 972 kB 5.1 MB/s eta 0:00:01\r\u001b[K     |██████████████████████████      | 983 kB 5.1 MB/s eta 0:00:01\r\u001b[K     |██████████████████████████▏     | 993 kB 5.1 MB/s eta 0:00:01\r\u001b[K     |██████████████████████████▌     | 1.0 MB 5.1 MB/s eta 0:00:01\r\u001b[K     |██████████████████████████▊     | 1.0 MB 5.1 MB/s eta 0:00:01\r\u001b[K     |███████████████████████████     | 1.0 MB 5.1 MB/s eta 0:00:01\r\u001b[K     |███████████████████████████▎    | 1.0 MB 5.1 MB/s eta 0:00:01\r\u001b[K     |███████████████████████████▌    | 1.0 MB 5.1 MB/s eta 0:00:01\r\u001b[K     |███████████████████████████▉    | 1.1 MB 5.1 MB/s eta 0:00:01\r\u001b[K     |████████████████████████████    | 1.1 MB 5.1 MB/s eta 0:00:01\r\u001b[K     |████████████████████████████▍   | 1.1 MB 5.1 MB/s eta 0:00:01\r\u001b[K     |████████████████████████████▋   | 1.1 MB 5.1 MB/s eta 0:00:01\r\u001b[K     |████████████████████████████▉   | 1.1 MB 5.1 MB/s eta 0:00:01\r\u001b[K     |█████████████████████████████▏  | 1.1 MB 5.1 MB/s eta 0:00:01\r\u001b[K     |█████████████████████████████▍  | 1.1 MB 5.1 MB/s eta 0:00:01\r\u001b[K     |█████████████████████████████▊  | 1.1 MB 5.1 MB/s eta 0:00:01\r\u001b[K     |██████████████████████████████  | 1.1 MB 5.1 MB/s eta 0:00:01\r\u001b[K     |██████████████████████████████▎ | 1.1 MB 5.1 MB/s eta 0:00:01\r\u001b[K     |██████████████████████████████▌ | 1.2 MB 5.1 MB/s eta 0:00:01\r\u001b[K     |██████████████████████████████▊ | 1.2 MB 5.1 MB/s eta 0:00:01\r\u001b[K     |███████████████████████████████ | 1.2 MB 5.1 MB/s eta 0:00:01\r\u001b[K     |███████████████████████████████▎| 1.2 MB 5.1 MB/s eta 0:00:01\r\u001b[K     |███████████████████████████████▋| 1.2 MB 5.1 MB/s eta 0:00:01\r\u001b[K     |███████████████████████████████▉| 1.2 MB 5.1 MB/s eta 0:00:01\r\u001b[K     |████████████████████████████████| 1.2 MB 5.1 MB/s \n",
            "\u001b[?25hInstalling collected packages: sentencepiece\n",
            "Successfully installed sentencepiece-0.1.96\n"
          ]
        }
      ]
    },
    {
      "cell_type": "code",
      "metadata": {
        "id": "temporal-style"
      },
      "source": [
        "from __future__ import absolute_import, division, print_function, unicode_literals\n",
        "\n",
        "import tensorflow as tf\n",
        "import tensorflow.keras.backend as K\n",
        "import tensorflow_addons as tfa\n",
        "\n",
        "import os\n",
        "import re\n",
        "import numpy as np\n",
        "import pandas as pd\n",
        "import pickle\n",
        "import random\n",
        "import collections\n",
        "import json\n",
        "from datetime import datetime\n",
        "\n",
        "import sentencepiece as spm\n",
        "from tqdm.notebook import tqdm\n",
        "import matplotlib.pyplot as plt\n",
        "import seaborn as sns\n",
        "from wordcloud import WordCloud\n",
        "\n",
        "random_seed = 1234\n",
        "random.seed(random_seed)\n",
        "np.random.seed(random_seed)\n",
        "tf.random.set_seed(random_seed)"
      ],
      "id": "temporal-style",
      "execution_count": 3,
      "outputs": []
    },
    {
      "cell_type": "code",
      "metadata": {
        "colab": {
          "base_uri": "https://localhost:8080/"
        },
        "id": "kzhKF4nygHcs",
        "outputId": "7e5d3e8d-79ce-429f-996d-db3a1bb32822"
      },
      "source": [
        "from google.colab import drive\n",
        "drive.mount('/content/drive')"
      ],
      "id": "kzhKF4nygHcs",
      "execution_count": 4,
      "outputs": [
        {
          "output_type": "stream",
          "name": "stdout",
          "text": [
            "Mounted at /content/drive\n"
          ]
        }
      ]
    },
    {
      "cell_type": "markdown",
      "metadata": {
        "id": "fresh-medicine"
      },
      "source": [
        "- KorQuAD 데이터 확인"
      ],
      "id": "fresh-medicine"
    },
    {
      "cell_type": "code",
      "metadata": {
        "id": "collected-carpet"
      },
      "source": [
        "def print_json_tree(data, indent=\"\"):\n",
        "    for key, value in data.items():\n",
        "        if type(value) == list:     # list 형태의 item은 첫번째 item만 출력\n",
        "            print(f'{indent}- {key}: [{len(value)}]')\n",
        "            print_json_tree(value[0], indent + \"  \")\n",
        "        else:\n",
        "            print(f'{indent}- {key}: {value}')"
      ],
      "id": "collected-carpet",
      "execution_count": 5,
      "outputs": []
    },
    {
      "cell_type": "code",
      "metadata": {
        "colab": {
          "base_uri": "https://localhost:8080/"
        },
        "id": "noticed-coalition",
        "outputId": "32ad178f-5b96-4d7a-d14b-2f59a5801797"
      },
      "source": [
        "data_dir = '/content/drive/MyDrive/Colab Notebooks/E-17/bert_qna/data'\n",
        "model_dir = '/content/drive/MyDrive/Colab Notebooks/E-17/bert_qna/models'\n",
        "\n",
        "# 훈련데이터 확인\n",
        "train_json_path = data_dir + '/KorQuAD_v1.0_train.json'\n",
        "with open(train_json_path) as f:\n",
        "    train_json = json.load(f)\n",
        "    print_json_tree(train_json)"
      ],
      "id": "noticed-coalition",
      "execution_count": 6,
      "outputs": [
        {
          "output_type": "stream",
          "name": "stdout",
          "text": [
            "- version: KorQuAD_v1.0_train\n",
            "- data: [1420]\n",
            "  - paragraphs: [3]\n",
            "    - qas: [8]\n",
            "      - answers: [1]\n",
            "        - text: 교향곡\n",
            "        - answer_start: 54\n",
            "      - id: 6566495-0-0\n",
            "      - question: 바그너는 괴테의 파우스트를 읽고 무엇을 쓰고자 했는가?\n",
            "    - context: 1839년 바그너는 괴테의 파우스트을 처음 읽고 그 내용에 마음이 끌려 이를 소재로 해서 하나의 교향곡을 쓰려는 뜻을 갖는다. 이 시기 바그너는 1838년에 빛 독촉으로 산전수전을 다 걲은 상황이라 좌절과 실망에 가득했으며 메피스토펠레스를 만나는 파우스트의 심경에 공감했다고 한다. 또한 파리에서 아브네크의 지휘로 파리 음악원 관현악단이 연주하는 베토벤의 교향곡 9번을 듣고 깊은 감명을 받았는데, 이것이 이듬해 1월에 파우스트의 서곡으로 쓰여진 이 작품에 조금이라도 영향을 끼쳤으리라는 것은 의심할 여지가 없다. 여기의 라단조 조성의 경우에도 그의 전기에 적혀 있는 것처럼 단순한 정신적 피로나 실의가 반영된 것이 아니라 베토벤의 합창교향곡 조성의 영향을 받은 것을 볼 수 있다. 그렇게 교향곡 작곡을 1839년부터 40년에 걸쳐 파리에서 착수했으나 1악장을 쓴 뒤에 중단했다. 또한 작품의 완성과 동시에 그는 이 서곡(1악장)을 파리 음악원의 연주회에서 연주할 파트보까지 준비하였으나, 실제로는 이루어지지는 않았다. 결국 초연은 4년 반이 지난 후에 드레스덴에서 연주되었고 재연도 이루어졌지만, 이후에 그대로 방치되고 말았다. 그 사이에 그는 리엔치와 방황하는 네덜란드인을 완성하고 탄호이저에도 착수하는 등 분주한 시간을 보냈는데, 그런 바쁜 생활이 이 곡을 잊게 한 것이 아닌가 하는 의견도 있다.\n",
            "  - title: 파우스트_서곡\n"
          ]
        }
      ]
    },
    {
      "cell_type": "code",
      "metadata": {
        "colab": {
          "base_uri": "https://localhost:8080/"
        },
        "id": "proprietary-chocolate",
        "outputId": "8024db08-dc7a-4eff-efaa-21428d8c2509"
      },
      "source": [
        "# 검증데이터 확인\n",
        "dev_json_path = data_dir + '/KorQuAD_v1.0_dev.json'\n",
        "with open(dev_json_path) as f:\n",
        "    dev_json = json.load(f)\n",
        "    print_json_tree(dev_json)"
      ],
      "id": "proprietary-chocolate",
      "execution_count": 7,
      "outputs": [
        {
          "output_type": "stream",
          "name": "stdout",
          "text": [
            "- version: KorQuAD_v1.0_dev\n",
            "- data: [140]\n",
            "  - paragraphs: [2]\n",
            "    - qas: [7]\n",
            "      - answers: [1]\n",
            "        - text: 1989년 2월 15일\n",
            "        - answer_start: 0\n",
            "      - id: 6548850-0-0\n",
            "      - question: 임종석이 여의도 농민 폭력 시위를 주도한 혐의로 지명수배 된 날은?\n",
            "    - context: 1989년 2월 15일 여의도 농민 폭력 시위를 주도한 혐의(폭력행위등처벌에관한법률위반)으로 지명수배되었다. 1989년 3월 12일 서울지방검찰청 공안부는 임종석의 사전구속영장을 발부받았다. 같은 해 6월 30일 평양축전에 임수경을 대표로 파견하여 국가보안법위반 혐의가 추가되었다. 경찰은 12월 18일~20일 사이 서울 경희대학교에서 임종석이 성명 발표를 추진하고 있다는 첩보를 입수했고, 12월 18일 오전 7시 40분 경 가스총과 전자봉으로 무장한 특공조 및 대공과 직원 12명 등 22명의 사복 경찰을 승용차 8대에 나누어 경희대학교에 투입했다. 1989년 12월 18일 오전 8시 15분 경 서울청량리경찰서는 호위 학생 5명과 함께 경희대학교 학생회관 건물 계단을 내려오는 임종석을 발견, 검거해 구속을 집행했다. 임종석은 청량리경찰서에서 약 1시간 동안 조사를 받은 뒤 오전 9시 50분 경 서울 장안동의 서울지방경찰청 공안분실로 인계되었다.\n",
            "  - title: 임종석\n"
          ]
        }
      ]
    },
    {
      "cell_type": "markdown",
      "metadata": {
        "id": "vertical-tulsa"
      },
      "source": [
        "- 전처리"
      ],
      "id": "vertical-tulsa"
    },
    {
      "cell_type": "markdown",
      "metadata": {
        "id": "handled-prayer"
      },
      "source": [
        "- (1) 띄어쓰기 단위 정보관리"
      ],
      "id": "handled-prayer"
    },
    {
      "cell_type": "code",
      "metadata": {
        "id": "dietary-cruise"
      },
      "source": [
        "def _is_whitespace(c):\n",
        "    if c == \" \" or c == \"\\t\" or c == \"\\r\" or c == \"\\n\" or ord(c) == 0x202F:\n",
        "        return True\n",
        "    return False"
      ],
      "id": "dietary-cruise",
      "execution_count": 8,
      "outputs": []
    },
    {
      "cell_type": "code",
      "metadata": {
        "colab": {
          "base_uri": "https://localhost:8080/"
        },
        "id": "comfortable-short",
        "outputId": "9517734e-c5c8-4f88-fced-075750e2d41e"
      },
      "source": [
        "# whitespace가 2개인 경우를 처리해야 함\n",
        "\n",
        "string1 = '1839년 파우스트를 읽었다.'\n",
        "string2 = '1839년  파우스트를 읽었다.'\n",
        "string1[6:10], string2[7:11]"
      ],
      "id": "comfortable-short",
      "execution_count": 9,
      "outputs": [
        {
          "output_type": "execute_result",
          "data": {
            "text/plain": [
              "('파우스트', '파우스트')"
            ]
          },
          "metadata": {},
          "execution_count": 9
        }
      ]
    },
    {
      "cell_type": "markdown",
      "metadata": {
        "id": "banned-samoa"
      },
      "source": [
        "- 문장의 영역표시 함수 만들기"
      ],
      "id": "banned-samoa"
    },
    {
      "cell_type": "code",
      "metadata": {
        "id": "constitutional-worry"
      },
      "source": [
        "def _tokenize_whitespace(string):\n",
        "    word_tokens = []\n",
        "    char_to_word = []\n",
        "    prev_is_whitespace = True\n",
        "\n",
        "    for c in string:\n",
        "        if _is_whitespace(c):\n",
        "            prev_is_whitespace = True\n",
        "        else:\n",
        "            if prev_is_whitespace:\n",
        "                word_tokens.append(c)\n",
        "            else:\n",
        "                word_tokens[-1] += c\n",
        "            prev_is_whitespace = False    \n",
        "        char_to_word.append(len(word_tokens) - 1)\n",
        "    \n",
        "    return word_tokens, char_to_word"
      ],
      "id": "constitutional-worry",
      "execution_count": 10,
      "outputs": []
    },
    {
      "cell_type": "code",
      "metadata": {
        "colab": {
          "base_uri": "https://localhost:8080/"
        },
        "id": "phantom-blackjack",
        "outputId": "71f16dbd-dd0b-493a-ccfb-b13c0f725e83"
      },
      "source": [
        "# 첫번째 문장(string1)에 대해 띄어쓰기 영역 정보를 표시\n",
        "word_tokens, char_to_word = _tokenize_whitespace(string1)\n",
        "for c, i in zip(list(string1), char_to_word):\n",
        "    print(f'\\'{c}\\' : {i}')\n",
        "\n",
        "word_tokens, char_to_word"
      ],
      "id": "phantom-blackjack",
      "execution_count": 11,
      "outputs": [
        {
          "output_type": "stream",
          "name": "stdout",
          "text": [
            "'1' : 0\n",
            "'8' : 0\n",
            "'3' : 0\n",
            "'9' : 0\n",
            "'년' : 0\n",
            "' ' : 0\n",
            "'파' : 1\n",
            "'우' : 1\n",
            "'스' : 1\n",
            "'트' : 1\n",
            "'를' : 1\n",
            "' ' : 1\n",
            "'읽' : 2\n",
            "'었' : 2\n",
            "'다' : 2\n",
            "'.' : 2\n"
          ]
        },
        {
          "output_type": "execute_result",
          "data": {
            "text/plain": [
              "(['1839년', '파우스트를', '읽었다.'], [0, 0, 0, 0, 0, 0, 1, 1, 1, 1, 1, 1, 2, 2, 2, 2])"
            ]
          },
          "metadata": {},
          "execution_count": 11
        }
      ]
    },
    {
      "cell_type": "code",
      "metadata": {
        "colab": {
          "base_uri": "https://localhost:8080/"
        },
        "id": "formal-senator",
        "outputId": "5d2d38b8-1cd0-4e6f-be5b-30ce34dcab67"
      },
      "source": [
        "# 두번째 문장(string2)에 대해 띄어쓰기 영역 정보를 표시\n",
        "word_tokens, char_to_word = _tokenize_whitespace(string2)\n",
        "for c, i in zip(list(string2), char_to_word):\n",
        "    print(f'\\'{c}\\' : {i}')\n",
        "\n",
        "word_tokens, char_to_word"
      ],
      "id": "formal-senator",
      "execution_count": 12,
      "outputs": [
        {
          "output_type": "stream",
          "name": "stdout",
          "text": [
            "'1' : 0\n",
            "'8' : 0\n",
            "'3' : 0\n",
            "'9' : 0\n",
            "'년' : 0\n",
            "' ' : 0\n",
            "' ' : 0\n",
            "'파' : 1\n",
            "'우' : 1\n",
            "'스' : 1\n",
            "'트' : 1\n",
            "'를' : 1\n",
            "' ' : 1\n",
            "'읽' : 2\n",
            "'었' : 2\n",
            "'다' : 2\n",
            "'.' : 2\n"
          ]
        },
        {
          "output_type": "execute_result",
          "data": {
            "text/plain": [
              "(['1839년', '파우스트를', '읽었다.'],\n",
              " [0, 0, 0, 0, 0, 0, 0, 1, 1, 1, 1, 1, 1, 2, 2, 2, 2])"
            ]
          },
          "metadata": {},
          "execution_count": 12
        }
      ]
    },
    {
      "cell_type": "markdown",
      "metadata": {
        "id": "painful-recipient"
      },
      "source": [
        "- (2) 토큰화"
      ],
      "id": "painful-recipient"
    },
    {
      "cell_type": "markdown",
      "metadata": {
        "id": "appreciated-inspector"
      },
      "source": [
        "Subword Segmentation"
      ],
      "id": "appreciated-inspector"
    },
    {
      "cell_type": "markdown",
      "metadata": {
        "id": "through-grove"
      },
      "source": [
        " Google Open Source SentencePiece 모델로 Subword 기반 전처리"
      ],
      "id": "through-grove"
    },
    {
      "cell_type": "code",
      "metadata": {
        "colab": {
          "base_uri": "https://localhost:8080/"
        },
        "id": "architectural-intervention",
        "outputId": "ca7822d6-8913-4e80-c85e-d6dde451bde4"
      },
      "source": [
        "# vocab loading\n",
        "vocab = spm.SentencePieceProcessor()\n",
        "vocab.load(f\"{model_dir}/ko_32000.model\")\n",
        "\n",
        "# word를 subword로 변경하면서 index 저장\n",
        "word_to_token = []\n",
        "context_tokens = []\n",
        "for (i, word) in enumerate(word_tokens):\n",
        "    word_to_token.append(len(context_tokens))\n",
        "    tokens = vocab.encode_as_pieces(word)  # SentencePiece를 사용해 Subword로 쪼갭니다.\n",
        "    for token in tokens:\n",
        "        context_tokens.append(token)\n",
        "\n",
        "context_tokens, word_to_token"
      ],
      "id": "architectural-intervention",
      "execution_count": 13,
      "outputs": [
        {
          "output_type": "execute_result",
          "data": {
            "text/plain": [
              "(['▁1839', '년', '▁', '파우스트', '를', '▁읽', '었다', '.'], [0, 2, 5])"
            ]
          },
          "metadata": {},
          "execution_count": 13
        }
      ]
    },
    {
      "cell_type": "code",
      "metadata": {
        "id": "vertical-triumph"
      },
      "source": [
        "def _tokenize_vocab(vocab, context_words):\n",
        "    word_to_token = []\n",
        "    context_tokens = []\n",
        "    for (i, word) in enumerate(context_words):\n",
        "        word_to_token.append(len(context_tokens))\n",
        "        tokens = vocab.encode_as_pieces(word)\n",
        "        for token in tokens:\n",
        "            context_tokens.append(token)\n",
        "    return context_tokens, word_to_token"
      ],
      "id": "vertical-triumph",
      "execution_count": 14,
      "outputs": []
    },
    {
      "cell_type": "code",
      "metadata": {
        "colab": {
          "base_uri": "https://localhost:8080/"
        },
        "id": "separated-angola",
        "outputId": "4c4de547-1c99-47cb-e2eb-4863968da8af"
      },
      "source": [
        "print(word_tokens)  # 처리해야 할 word 단위 입력\n",
        "\n",
        "context_tokens, word_to_token = _tokenize_vocab(vocab, word_tokens)\n",
        "context_tokens, word_to_token   # Subword 단위로 토큰화한 결과"
      ],
      "id": "separated-angola",
      "execution_count": 15,
      "outputs": [
        {
          "output_type": "stream",
          "name": "stdout",
          "text": [
            "['1839년', '파우스트를', '읽었다.']\n"
          ]
        },
        {
          "output_type": "execute_result",
          "data": {
            "text/plain": [
              "(['▁1839', '년', '▁', '파우스트', '를', '▁읽', '었다', '.'], [0, 2, 5])"
            ]
          },
          "metadata": {},
          "execution_count": 15
        }
      ]
    },
    {
      "cell_type": "markdown",
      "metadata": {
        "id": "understanding-horizontal"
      },
      "source": [
        "- (3) Improve Span"
      ],
      "id": "understanding-horizontal"
    },
    {
      "cell_type": "markdown",
      "metadata": {
        "id": "induced-carbon"
      },
      "source": [
        "KorQuAD 데이터셋에서 question, context, answer 뽑아내기"
      ],
      "id": "induced-carbon"
    },
    {
      "cell_type": "code",
      "metadata": {
        "colab": {
          "base_uri": "https://localhost:8080/"
        },
        "id": "blocked-drive",
        "outputId": "dff6d4fb-b8b5-4c7b-8d05-8fee9fe68985"
      },
      "source": [
        "context = train_json['data'][0]['paragraphs'][0]['context']\n",
        "question = train_json['data'][0]['paragraphs'][0]['qas'][0]['question']\n",
        "answer_text = train_json['data'][0]['paragraphs'][0]['qas'][0]['answers'][0]['text']\n",
        "answer_start = train_json['data'][0]['paragraphs'][0]['qas'][0]['answers'][0]['answer_start']\n",
        "answer_end = answer_start + len(answer_text) - 1\n",
        "\n",
        "print('[context] ', context)\n",
        "print('[question] ', question)\n",
        "print('[answer] ', answer_text)\n",
        "print('[answer_start] index: ', answer_start, 'character: ', context[answer_start])\n",
        "print('[answer_end]index: ', answer_end, 'character: ', context[answer_end])\n",
        "\n",
        "# answer_text에 해당하는 context 영역을 정확히 찾아내야 합니다. \n",
        "assert context[answer_start:answer_end + 1] == answer_text"
      ],
      "id": "blocked-drive",
      "execution_count": 16,
      "outputs": [
        {
          "output_type": "stream",
          "name": "stdout",
          "text": [
            "[context]  1839년 바그너는 괴테의 파우스트을 처음 읽고 그 내용에 마음이 끌려 이를 소재로 해서 하나의 교향곡을 쓰려는 뜻을 갖는다. 이 시기 바그너는 1838년에 빛 독촉으로 산전수전을 다 걲은 상황이라 좌절과 실망에 가득했으며 메피스토펠레스를 만나는 파우스트의 심경에 공감했다고 한다. 또한 파리에서 아브네크의 지휘로 파리 음악원 관현악단이 연주하는 베토벤의 교향곡 9번을 듣고 깊은 감명을 받았는데, 이것이 이듬해 1월에 파우스트의 서곡으로 쓰여진 이 작품에 조금이라도 영향을 끼쳤으리라는 것은 의심할 여지가 없다. 여기의 라단조 조성의 경우에도 그의 전기에 적혀 있는 것처럼 단순한 정신적 피로나 실의가 반영된 것이 아니라 베토벤의 합창교향곡 조성의 영향을 받은 것을 볼 수 있다. 그렇게 교향곡 작곡을 1839년부터 40년에 걸쳐 파리에서 착수했으나 1악장을 쓴 뒤에 중단했다. 또한 작품의 완성과 동시에 그는 이 서곡(1악장)을 파리 음악원의 연주회에서 연주할 파트보까지 준비하였으나, 실제로는 이루어지지는 않았다. 결국 초연은 4년 반이 지난 후에 드레스덴에서 연주되었고 재연도 이루어졌지만, 이후에 그대로 방치되고 말았다. 그 사이에 그는 리엔치와 방황하는 네덜란드인을 완성하고 탄호이저에도 착수하는 등 분주한 시간을 보냈는데, 그런 바쁜 생활이 이 곡을 잊게 한 것이 아닌가 하는 의견도 있다.\n",
            "[question]  바그너는 괴테의 파우스트를 읽고 무엇을 쓰고자 했는가?\n",
            "[answer]  교향곡\n",
            "[answer_start] index:  54 character:  교\n",
            "[answer_end]index:  56 character:  곡\n"
          ]
        }
      ]
    },
    {
      "cell_type": "code",
      "metadata": {
        "colab": {
          "base_uri": "https://localhost:8080/"
        },
        "id": "civilian-enhancement",
        "outputId": "48260626-e16b-4408-929d-08389f58d574"
      },
      "source": [
        "# context를 띄어쓰기(word) 단위로 토큰화한 결과를 살펴봅니다. \n",
        "word_tokens, char_to_word = _tokenize_whitespace(context)\n",
        "\n",
        "print( word_tokens[:20])\n",
        "\n",
        "char_to_word[:20], context[:20]"
      ],
      "id": "civilian-enhancement",
      "execution_count": 17,
      "outputs": [
        {
          "output_type": "stream",
          "name": "stdout",
          "text": [
            "['1839년', '바그너는', '괴테의', '파우스트을', '처음', '읽고', '그', '내용에', '마음이', '끌려', '이를', '소재로', '해서', '하나의', '교향곡을', '쓰려는', '뜻을', '갖는다.', '이', '시기']\n"
          ]
        },
        {
          "output_type": "execute_result",
          "data": {
            "text/plain": [
              "([0, 0, 0, 0, 0, 0, 1, 1, 1, 1, 1, 2, 2, 2, 2, 3, 3, 3, 3, 3],\n",
              " '1839년 바그너는 괴테의 파우스트을')"
            ]
          },
          "metadata": {},
          "execution_count": 17
        }
      ]
    },
    {
      "cell_type": "code",
      "metadata": {
        "colab": {
          "base_uri": "https://localhost:8080/"
        },
        "id": "distinguished-reserve",
        "outputId": "cc62941f-659b-4fe0-a4d5-2b80ed6a43ab"
      },
      "source": [
        "# 띄어쓰기(word) 단위로 쪼개진 context(word_tokens)를 Subword로 토큰화한 결과를 살펴봅니다. \n",
        "context_tokens, word_to_token = _tokenize_vocab(vocab, word_tokens)\n",
        "for i in range(min(20, len(word_to_token) - 1)):\n",
        "    print(word_to_token[i], context_tokens[word_to_token[i]:word_to_token[i + 1]])"
      ],
      "id": "distinguished-reserve",
      "execution_count": 18,
      "outputs": [
        {
          "output_type": "stream",
          "name": "stdout",
          "text": [
            "0 ['▁1839', '년']\n",
            "2 ['▁바그너', '는']\n",
            "4 ['▁괴테', '의']\n",
            "6 ['▁', '파우스트', '을']\n",
            "9 ['▁처음']\n",
            "10 ['▁읽고']\n",
            "11 ['▁그']\n",
            "12 ['▁내용에']\n",
            "13 ['▁마음이']\n",
            "14 ['▁끌려']\n",
            "15 ['▁이를']\n",
            "16 ['▁소재로']\n",
            "17 ['▁해서']\n",
            "18 ['▁하나의']\n",
            "19 ['▁교향곡', '을']\n",
            "21 ['▁쓰', '려는']\n",
            "23 ['▁뜻을']\n",
            "24 ['▁갖는다', '.']\n",
            "26 ['▁이']\n",
            "27 ['▁시기']\n"
          ]
        }
      ]
    },
    {
      "cell_type": "code",
      "metadata": {
        "colab": {
          "base_uri": "https://localhost:8080/"
        },
        "id": "engaging-valley",
        "outputId": "07bd0923-0535-48b5-b6c0-50215c01bd7d"
      },
      "source": [
        "# answer_start와 answer_end로부터 word_start와 word_end를 구합니다. \n",
        "word_start = char_to_word[answer_start]\n",
        "word_end = char_to_word[answer_end]\n",
        "word_start, word_end, answer_text, word_tokens[word_start:word_end + 1]"
      ],
      "id": "engaging-valley",
      "execution_count": 19,
      "outputs": [
        {
          "output_type": "execute_result",
          "data": {
            "text/plain": [
              "(14, 14, '교향곡', ['교향곡을'])"
            ]
          },
          "metadata": {},
          "execution_count": 19
        }
      ]
    },
    {
      "cell_type": "code",
      "metadata": {
        "colab": {
          "base_uri": "https://localhost:8080/"
        },
        "id": "distinguished-question",
        "outputId": "aa779650-751e-41e3-a4fc-2008444df73c"
      },
      "source": [
        "token_start = word_to_token[word_start]\n",
        "if word_end < len(word_to_token) - 1:\n",
        "    token_end = word_to_token[word_end + 1] - 1\n",
        "else:\n",
        "    token_end = len(context_tokens) - 1\n",
        "token_start, token_end, context_tokens[token_start:token_end + 1]"
      ],
      "id": "distinguished-question",
      "execution_count": 20,
      "outputs": [
        {
          "output_type": "execute_result",
          "data": {
            "text/plain": [
              "(19, 20, ['▁교향곡', '을'])"
            ]
          },
          "metadata": {},
          "execution_count": 20
        }
      ]
    },
    {
      "cell_type": "code",
      "metadata": {
        "colab": {
          "base_uri": "https://localhost:8080/",
          "height": 36
        },
        "id": "cutting-round",
        "outputId": "f76cd867-c6a5-4c34-b428-4f1beee6f1f0"
      },
      "source": [
        "# 실제 정답인 answer_text도 Subword 기준으로 토큰화해 둡니다. \n",
        "token_answer = \" \".join(vocab.encode_as_pieces(answer_text))\n",
        "token_answer"
      ],
      "id": "cutting-round",
      "execution_count": 21,
      "outputs": [
        {
          "output_type": "execute_result",
          "data": {
            "application/vnd.google.colaboratory.intrinsic+json": {
              "type": "string"
            },
            "text/plain": [
              "'▁교향곡'"
            ]
          },
          "metadata": {},
          "execution_count": 21
        }
      ]
    },
    {
      "cell_type": "code",
      "metadata": {
        "colab": {
          "base_uri": "https://localhost:8080/"
        },
        "id": "suited-companion",
        "outputId": "3a147134-5c9c-4749-9aa1-bc2070ff9f39"
      },
      "source": [
        "# 정답이 될수 있는 new_start와 new_end의 경우를 순회탐색합니다. \n",
        "for new_start in range(token_start, token_end + 1):\n",
        "    for new_end in range(token_end, new_start - 1, -1):\n",
        "        text_span = \" \".join(context_tokens[new_start : (new_end + 1)])\n",
        "        if text_span == token_answer:   # 정답과 일치하는 경우\n",
        "            print(\"O >>\", (new_start, new_end), text_span)\n",
        "        else:\n",
        "            print(\"X >>\", (new_start, new_end), text_span)"
      ],
      "id": "suited-companion",
      "execution_count": 22,
      "outputs": [
        {
          "output_type": "stream",
          "name": "stdout",
          "text": [
            "X >> (19, 20) ▁교향곡 을\n",
            "O >> (19, 19) ▁교향곡\n",
            "X >> (20, 20) 을\n"
          ]
        }
      ]
    },
    {
      "cell_type": "code",
      "metadata": {
        "id": "allied-moderator"
      },
      "source": [
        "# context_tokens에서 char_answer의 위치를 찾아 리턴하는 함수\n",
        "def _improve_span(vocab, context_tokens, token_start, token_end, char_answer):\n",
        "    token_answer = \" \".join(vocab.encode_as_pieces(char_answer))\n",
        "    for new_start in range(token_start, token_end + 1):\n",
        "        for new_end in range(token_end, new_start - 1, -1):\n",
        "            text_span = \" \".join(context_tokens[new_start : (new_end + 1)])\n",
        "            if text_span == token_answer:\n",
        "                return (new_start, new_end)\n",
        "    return (token_start, token_end)"
      ],
      "id": "allied-moderator",
      "execution_count": 23,
      "outputs": []
    },
    {
      "cell_type": "code",
      "metadata": {
        "colab": {
          "base_uri": "https://localhost:8080/"
        },
        "id": "lesser-feedback",
        "outputId": "2c5dadae-cdff-4eda-b601-926fafec589d"
      },
      "source": [
        "token_start, token_end = _improve_span(vocab, context_tokens, token_start, token_end, answer_text)\n",
        "print('token_start:', token_start, ' token_end:', token_end)\n",
        "context_tokens[token_start:token_end + 1]"
      ],
      "id": "lesser-feedback",
      "execution_count": 24,
      "outputs": [
        {
          "output_type": "stream",
          "name": "stdout",
          "text": [
            "token_start: 19  token_end: 19\n"
          ]
        },
        {
          "output_type": "execute_result",
          "data": {
            "text/plain": [
              "['▁교향곡']"
            ]
          },
          "metadata": {},
          "execution_count": 24
        }
      ]
    },
    {
      "cell_type": "markdown",
      "metadata": {
        "id": "careful-arrest"
      },
      "source": [
        "- (4) 데이터셋 분리"
      ],
      "id": "careful-arrest"
    },
    {
      "cell_type": "code",
      "metadata": {
        "id": "vietnamese-waste"
      },
      "source": [
        "def dump_korquad(vocab, json_data, out_file):\n",
        "    with open(out_file, \"w\") as f:\n",
        "        for data in tqdm(json_data[\"data\"]):\n",
        "            title = data[\"title\"]\n",
        "            for paragraph in data[\"paragraphs\"]:\n",
        "                context = paragraph[\"context\"]\n",
        "                context_words, char_to_word = _tokenize_whitespace(context)\n",
        "\n",
        "                for qa in paragraph[\"qas\"]:\n",
        "                    assert len(qa[\"answers\"]) == 1\n",
        "                    qa_id = qa[\"id\"]\n",
        "                    question = qa[\"question\"]\n",
        "                    answer_text = qa[\"answers\"][0][\"text\"]\n",
        "                    answer_start = qa[\"answers\"][0][\"answer_start\"]\n",
        "                    answer_end = answer_start + len(answer_text) - 1\n",
        "\n",
        "                    assert answer_text == context[answer_start:answer_end + 1]\n",
        "\n",
        "                    word_start = char_to_word[answer_start]\n",
        "                    word_end = char_to_word[answer_end]\n",
        "\n",
        "                    word_answer = \" \".join(context_words[word_start:word_end + 1])\n",
        "                    char_answer = \" \".join(answer_text.strip().split())\n",
        "                    assert char_answer in word_answer\n",
        "\n",
        "                    context_tokens, word_to_token = _tokenize_vocab(vocab, context_words)\n",
        "\n",
        "                    token_start = word_to_token[word_start]\n",
        "                    if word_end < len(word_to_token) - 1:\n",
        "                        token_end = word_to_token[word_end + 1] - 1\n",
        "                    else:\n",
        "                        token_end = len(context_tokens) - 1\n",
        "\n",
        "                    token_start, token_end = _improve_span(vocab, context_tokens, token_start, token_end, char_answer)\n",
        "\n",
        "                    data = {\"qa_id\": qa_id, \"title\": title, \"question\": vocab.encode_as_pieces(question), \"context\": context_tokens, \"answer\": char_answer, \"token_start\": token_start, \"token_end\":token_end}\n",
        "                    f.write(json.dumps(data, ensure_ascii=False))\n",
        "                    f.write(\"\\n\")"
      ],
      "id": "vietnamese-waste",
      "execution_count": 25,
      "outputs": []
    },
    {
      "cell_type": "code",
      "metadata": {
        "colab": {
          "base_uri": "https://localhost:8080/",
          "height": 81,
          "referenced_widgets": [
            "b4a4714aedcd44ca81f1baf768abd25f",
            "40d29041e3e2442b8a268d2086a3c159",
            "95d6fed089c7460f8a0ac7b5b02fa08f",
            "eec4b33bab9e414ebe35a927993c1f5f",
            "2b5ca82cda094000a499fa609628055e",
            "5bc2e47a9f624aa0ba995338072c4e5a",
            "384411fbc40e4fb9a3d61613b041d671",
            "ca57d9334ca9409d8fca72e4e6aec02f",
            "3ab29ee129a34ad298acca1d7021d15c",
            "09696bf46357457a9f9b71463a7a4417",
            "482a6e0d248946b28586fe603be57654",
            "47effa81589047aba38c2ab9c36a7aeb",
            "732a4478f71745c89c454ac553882c21",
            "0865d19eeb944c2d9af460587aebbed2",
            "3b659680bb12466e8ceeef46e64ef7f9",
            "678713b8d503426fb3cd0e93ce503cf7",
            "b2a0d7e7ee3947a09e2161d9a21b1b0e",
            "b9faf4e8df4c4ef8bb40fec8a746630f",
            "14f9ec214d024550a993080aba34e128",
            "2354b368392542f19b93e0fb948b6007",
            "84f483feb0f04e8fa3168fe99783f16e",
            "07098efa3a754cc18a311bb29c0ee324"
          ]
        },
        "id": "comic-pontiac",
        "outputId": "da92aa0c-d82e-434c-a0a6-a8203f0b03a5"
      },
      "source": [
        "# 전처리를 수행하여 파일로 생성합니다. \n",
        "dump_korquad(vocab, train_json, f\"{data_dir}/korquad_train.json\")\n",
        "dump_korquad(vocab, dev_json, f\"{data_dir}/korquad_dev.json\")"
      ],
      "id": "comic-pontiac",
      "execution_count": 26,
      "outputs": [
        {
          "output_type": "display_data",
          "data": {
            "application/vnd.jupyter.widget-view+json": {
              "model_id": "b4a4714aedcd44ca81f1baf768abd25f",
              "version_minor": 0,
              "version_major": 2
            },
            "text/plain": [
              "  0%|          | 0/1420 [00:00<?, ?it/s]"
            ]
          },
          "metadata": {}
        },
        {
          "output_type": "display_data",
          "data": {
            "application/vnd.jupyter.widget-view+json": {
              "model_id": "47effa81589047aba38c2ab9c36a7aeb",
              "version_minor": 0,
              "version_major": 2
            },
            "text/plain": [
              "  0%|          | 0/140 [00:00<?, ?it/s]"
            ]
          },
          "metadata": {}
        }
      ]
    },
    {
      "cell_type": "code",
      "metadata": {
        "colab": {
          "base_uri": "https://localhost:8080/"
        },
        "id": "north-football",
        "outputId": "9ee991b2-1fe5-4492-b97b-2466f6502c48"
      },
      "source": [
        "def print_file(filename, count=10):\n",
        "    \"\"\"\n",
        "    파일 내용 출력\n",
        "    :param filename: 파일 이름\n",
        "    :param count: 출력 라인 수\n",
        "    \"\"\"\n",
        "    with open(filename) as f:\n",
        "        for i, line in enumerate(f):\n",
        "            if count <= i:\n",
        "                break\n",
        "            print(line.strip())\n",
        "\n",
        "print_file(f\"{data_dir}/korquad_train.json\")"
      ],
      "id": "north-football",
      "execution_count": 27,
      "outputs": [
        {
          "output_type": "stream",
          "name": "stdout",
          "text": [
            "{\"qa_id\": \"6566495-0-0\", \"title\": \"파우스트_서곡\", \"question\": [\"▁바그너\", \"는\", \"▁괴테\", \"의\", \"▁\", \"파우스트\", \"를\", \"▁읽고\", \"▁무엇을\", \"▁쓰고\", \"자\", \"▁\", \"했\", \"는\", \"가\", \"?\"], \"context\": [\"▁1839\", \"년\", \"▁바그너\", \"는\", \"▁괴테\", \"의\", \"▁\", \"파우스트\", \"을\", \"▁처음\", \"▁읽고\", \"▁그\", \"▁내용에\", \"▁마음이\", \"▁끌려\", \"▁이를\", \"▁소재로\", \"▁해서\", \"▁하나의\", \"▁교향곡\", \"을\", \"▁쓰\", \"려는\", \"▁뜻을\", \"▁갖는다\", \".\", \"▁이\", \"▁시기\", \"▁바그너\", \"는\", \"▁1838\", \"년에\", \"▁빛\", \"▁독\", \"촉\", \"으로\", \"▁산\", \"전\", \"수\", \"전을\", \"▁다\", \"▁\", \"걲\", \"은\", \"▁상황이\", \"라\", \"▁좌절\", \"과\", \"▁실망\", \"에\", \"▁가득\", \"했으며\", \"▁메\", \"피스\", \"토\", \"펠\", \"레스\", \"를\", \"▁만나는\", \"▁\", \"파우스트\", \"의\", \"▁심\", \"경에\", \"▁공감\", \"했다고\", \"▁한다\", \".\", \"▁또한\", \"▁파리에서\", \"▁아브\", \"네\", \"크의\", \"▁지휘\", \"로\", \"▁파리\", \"▁음악원\", \"▁관현악단\", \"이\", \"▁연주하는\", \"▁베토벤\", \"의\", \"▁교향곡\", \"▁9\", \"번을\", \"▁듣고\", \"▁깊은\", \"▁감\", \"명을\", \"▁받았는데\", \",\", \"▁이것이\", \"▁이듬해\", \"▁1\", \"월에\", \"▁\", \"파우스트\", \"의\", \"▁서\", \"곡으로\", \"▁쓰여진\", \"▁이\", \"▁작품에\", \"▁조금\", \"이라도\", \"▁영향을\", \"▁끼\", \"쳤\", \"으리라\", \"는\", \"▁것은\", \"▁의심\", \"할\", \"▁여지가\", \"▁없다\", \".\", \"▁여기\", \"의\", \"▁라\", \"단\", \"조\", \"▁조성\", \"의\", \"▁경우에도\", \"▁그의\", \"▁전기\", \"에\", \"▁적혀\", \"▁있는\", \"▁것처럼\", \"▁단순한\", \"▁정신적\", \"▁피로\", \"나\", \"▁실\", \"의\", \"가\", \"▁반영\", \"된\", \"▁것이\", \"▁아니라\", \"▁베토벤\", \"의\", \"▁합창\", \"교\", \"향\", \"곡\", \"▁조성\", \"의\", \"▁영향을\", \"▁받은\", \"▁것을\", \"▁볼\", \"▁수\", \"▁있다\", \".\", \"▁그렇게\", \"▁교향곡\", \"▁작곡\", \"을\", \"▁1839\", \"년부터\", \"▁40\", \"년에\", \"▁걸쳐\", \"▁파리에서\", \"▁착수\", \"했으나\", \"▁1\", \"악장\", \"을\", \"▁쓴\", \"▁뒤에\", \"▁중단\", \"했다\", \".\", \"▁또한\", \"▁작품의\", \"▁완성\", \"과\", \"▁동시에\", \"▁그는\", \"▁이\", \"▁서\", \"곡\", \"(1\", \"악장\", \")\", \"을\", \"▁파리\", \"▁음악원\", \"의\", \"▁연주회\", \"에서\", \"▁연주\", \"할\", \"▁파트\", \"보\", \"까지\", \"▁준비\", \"하였으나\", \",\", \"▁실제로는\", \"▁이루어지지\", \"는\", \"▁않았다\", \".\", \"▁결국\", \"▁초연\", \"은\", \"▁4\", \"년\", \"▁반\", \"이\", \"▁지난\", \"▁후에\", \"▁드레스덴\", \"에서\", \"▁연주\", \"되었고\", \"▁재\", \"연\", \"도\", \"▁이루어졌\", \"지만\", \",\", \"▁이후에\", \"▁그대로\", \"▁방치\", \"되고\", \"▁말았다\", \".\", \"▁그\", \"▁사이에\", \"▁그는\", \"▁리\", \"엔\", \"치\", \"와\", \"▁방\", \"황\", \"하는\", \"▁네덜란드\", \"인\", \"을\", \"▁완성\", \"하고\", \"▁탄\", \"호\", \"이\", \"저\", \"에도\", \"▁착수\", \"하는\", \"▁등\", \"▁분\", \"주\", \"한\", \"▁시간을\", \"▁보\", \"냈는데\", \",\", \"▁그런\", \"▁바쁜\", \"▁생활\", \"이\", \"▁이\", \"▁곡을\", \"▁잊\", \"게\", \"▁한\", \"▁것이\", \"▁아닌\", \"가\", \"▁하는\", \"▁의견도\", \"▁있다\", \".\"], \"answer\": \"교향곡\", \"token_start\": 19, \"token_end\": 19}\n",
            "{\"qa_id\": \"6566495-0-1\", \"title\": \"파우스트_서곡\", \"question\": [\"▁바그너\", \"는\", \"▁교향곡\", \"▁작곡\", \"을\", \"▁어디\", \"까지\", \"▁쓴\", \"▁뒤에\", \"▁중단\", \"했\", \"는\", \"가\", \"?\"], \"context\": [\"▁1839\", \"년\", \"▁바그너\", \"는\", \"▁괴테\", \"의\", \"▁\", \"파우스트\", \"을\", \"▁처음\", \"▁읽고\", \"▁그\", \"▁내용에\", \"▁마음이\", \"▁끌려\", \"▁이를\", \"▁소재로\", \"▁해서\", \"▁하나의\", \"▁교향곡\", \"을\", \"▁쓰\", \"려는\", \"▁뜻을\", \"▁갖는다\", \".\", \"▁이\", \"▁시기\", \"▁바그너\", \"는\", \"▁1838\", \"년에\", \"▁빛\", \"▁독\", \"촉\", \"으로\", \"▁산\", \"전\", \"수\", \"전을\", \"▁다\", \"▁\", \"걲\", \"은\", \"▁상황이\", \"라\", \"▁좌절\", \"과\", \"▁실망\", \"에\", \"▁가득\", \"했으며\", \"▁메\", \"피스\", \"토\", \"펠\", \"레스\", \"를\", \"▁만나는\", \"▁\", \"파우스트\", \"의\", \"▁심\", \"경에\", \"▁공감\", \"했다고\", \"▁한다\", \".\", \"▁또한\", \"▁파리에서\", \"▁아브\", \"네\", \"크의\", \"▁지휘\", \"로\", \"▁파리\", \"▁음악원\", \"▁관현악단\", \"이\", \"▁연주하는\", \"▁베토벤\", \"의\", \"▁교향곡\", \"▁9\", \"번을\", \"▁듣고\", \"▁깊은\", \"▁감\", \"명을\", \"▁받았는데\", \",\", \"▁이것이\", \"▁이듬해\", \"▁1\", \"월에\", \"▁\", \"파우스트\", \"의\", \"▁서\", \"곡으로\", \"▁쓰여진\", \"▁이\", \"▁작품에\", \"▁조금\", \"이라도\", \"▁영향을\", \"▁끼\", \"쳤\", \"으리라\", \"는\", \"▁것은\", \"▁의심\", \"할\", \"▁여지가\", \"▁없다\", \".\", \"▁여기\", \"의\", \"▁라\", \"단\", \"조\", \"▁조성\", \"의\", \"▁경우에도\", \"▁그의\", \"▁전기\", \"에\", \"▁적혀\", \"▁있는\", \"▁것처럼\", \"▁단순한\", \"▁정신적\", \"▁피로\", \"나\", \"▁실\", \"의\", \"가\", \"▁반영\", \"된\", \"▁것이\", \"▁아니라\", \"▁베토벤\", \"의\", \"▁합창\", \"교\", \"향\", \"곡\", \"▁조성\", \"의\", \"▁영향을\", \"▁받은\", \"▁것을\", \"▁볼\", \"▁수\", \"▁있다\", \".\", \"▁그렇게\", \"▁교향곡\", \"▁작곡\", \"을\", \"▁1839\", \"년부터\", \"▁40\", \"년에\", \"▁걸쳐\", \"▁파리에서\", \"▁착수\", \"했으나\", \"▁1\", \"악장\", \"을\", \"▁쓴\", \"▁뒤에\", \"▁중단\", \"했다\", \".\", \"▁또한\", \"▁작품의\", \"▁완성\", \"과\", \"▁동시에\", \"▁그는\", \"▁이\", \"▁서\", \"곡\", \"(1\", \"악장\", \")\", \"을\", \"▁파리\", \"▁음악원\", \"의\", \"▁연주회\", \"에서\", \"▁연주\", \"할\", \"▁파트\", \"보\", \"까지\", \"▁준비\", \"하였으나\", \",\", \"▁실제로는\", \"▁이루어지지\", \"는\", \"▁않았다\", \".\", \"▁결국\", \"▁초연\", \"은\", \"▁4\", \"년\", \"▁반\", \"이\", \"▁지난\", \"▁후에\", \"▁드레스덴\", \"에서\", \"▁연주\", \"되었고\", \"▁재\", \"연\", \"도\", \"▁이루어졌\", \"지만\", \",\", \"▁이후에\", \"▁그대로\", \"▁방치\", \"되고\", \"▁말았다\", \".\", \"▁그\", \"▁사이에\", \"▁그는\", \"▁리\", \"엔\", \"치\", \"와\", \"▁방\", \"황\", \"하는\", \"▁네덜란드\", \"인\", \"을\", \"▁완성\", \"하고\", \"▁탄\", \"호\", \"이\", \"저\", \"에도\", \"▁착수\", \"하는\", \"▁등\", \"▁분\", \"주\", \"한\", \"▁시간을\", \"▁보\", \"냈는데\", \",\", \"▁그런\", \"▁바쁜\", \"▁생활\", \"이\", \"▁이\", \"▁곡을\", \"▁잊\", \"게\", \"▁한\", \"▁것이\", \"▁아닌\", \"가\", \"▁하는\", \"▁의견도\", \"▁있다\", \".\"], \"answer\": \"1악장\", \"token_start\": 168, \"token_end\": 169}\n",
            "{\"qa_id\": \"6566495-0-2\", \"title\": \"파우스트_서곡\", \"question\": [\"▁바그너\", \"가\", \"▁\", \"파우스트\", \"▁서\", \"곡을\", \"▁쓸\", \"▁때\", \"▁어떤\", \"▁곡\", \"의\", \"▁영향을\", \"▁받았\", \"는\", \"가\", \"?\"], \"context\": [\"▁1839\", \"년\", \"▁바그너\", \"는\", \"▁괴테\", \"의\", \"▁\", \"파우스트\", \"을\", \"▁처음\", \"▁읽고\", \"▁그\", \"▁내용에\", \"▁마음이\", \"▁끌려\", \"▁이를\", \"▁소재로\", \"▁해서\", \"▁하나의\", \"▁교향곡\", \"을\", \"▁쓰\", \"려는\", \"▁뜻을\", \"▁갖는다\", \".\", \"▁이\", \"▁시기\", \"▁바그너\", \"는\", \"▁1838\", \"년에\", \"▁빛\", \"▁독\", \"촉\", \"으로\", \"▁산\", \"전\", \"수\", \"전을\", \"▁다\", \"▁\", \"걲\", \"은\", \"▁상황이\", \"라\", \"▁좌절\", \"과\", \"▁실망\", \"에\", \"▁가득\", \"했으며\", \"▁메\", \"피스\", \"토\", \"펠\", \"레스\", \"를\", \"▁만나는\", \"▁\", \"파우스트\", \"의\", \"▁심\", \"경에\", \"▁공감\", \"했다고\", \"▁한다\", \".\", \"▁또한\", \"▁파리에서\", \"▁아브\", \"네\", \"크의\", \"▁지휘\", \"로\", \"▁파리\", \"▁음악원\", \"▁관현악단\", \"이\", \"▁연주하는\", \"▁베토벤\", \"의\", \"▁교향곡\", \"▁9\", \"번을\", \"▁듣고\", \"▁깊은\", \"▁감\", \"명을\", \"▁받았는데\", \",\", \"▁이것이\", \"▁이듬해\", \"▁1\", \"월에\", \"▁\", \"파우스트\", \"의\", \"▁서\", \"곡으로\", \"▁쓰여진\", \"▁이\", \"▁작품에\", \"▁조금\", \"이라도\", \"▁영향을\", \"▁끼\", \"쳤\", \"으리라\", \"는\", \"▁것은\", \"▁의심\", \"할\", \"▁여지가\", \"▁없다\", \".\", \"▁여기\", \"의\", \"▁라\", \"단\", \"조\", \"▁조성\", \"의\", \"▁경우에도\", \"▁그의\", \"▁전기\", \"에\", \"▁적혀\", \"▁있는\", \"▁것처럼\", \"▁단순한\", \"▁정신적\", \"▁피로\", \"나\", \"▁실\", \"의\", \"가\", \"▁반영\", \"된\", \"▁것이\", \"▁아니라\", \"▁베토벤\", \"의\", \"▁합창\", \"교\", \"향\", \"곡\", \"▁조성\", \"의\", \"▁영향을\", \"▁받은\", \"▁것을\", \"▁볼\", \"▁수\", \"▁있다\", \".\", \"▁그렇게\", \"▁교향곡\", \"▁작곡\", \"을\", \"▁1839\", \"년부터\", \"▁40\", \"년에\", \"▁걸쳐\", \"▁파리에서\", \"▁착수\", \"했으나\", \"▁1\", \"악장\", \"을\", \"▁쓴\", \"▁뒤에\", \"▁중단\", \"했다\", \".\", \"▁또한\", \"▁작품의\", \"▁완성\", \"과\", \"▁동시에\", \"▁그는\", \"▁이\", \"▁서\", \"곡\", \"(1\", \"악장\", \")\", \"을\", \"▁파리\", \"▁음악원\", \"의\", \"▁연주회\", \"에서\", \"▁연주\", \"할\", \"▁파트\", \"보\", \"까지\", \"▁준비\", \"하였으나\", \",\", \"▁실제로는\", \"▁이루어지지\", \"는\", \"▁않았다\", \".\", \"▁결국\", \"▁초연\", \"은\", \"▁4\", \"년\", \"▁반\", \"이\", \"▁지난\", \"▁후에\", \"▁드레스덴\", \"에서\", \"▁연주\", \"되었고\", \"▁재\", \"연\", \"도\", \"▁이루어졌\", \"지만\", \",\", \"▁이후에\", \"▁그대로\", \"▁방치\", \"되고\", \"▁말았다\", \".\", \"▁그\", \"▁사이에\", \"▁그는\", \"▁리\", \"엔\", \"치\", \"와\", \"▁방\", \"황\", \"하는\", \"▁네덜란드\", \"인\", \"을\", \"▁완성\", \"하고\", \"▁탄\", \"호\", \"이\", \"저\", \"에도\", \"▁착수\", \"하는\", \"▁등\", \"▁분\", \"주\", \"한\", \"▁시간을\", \"▁보\", \"냈는데\", \",\", \"▁그런\", \"▁바쁜\", \"▁생활\", \"이\", \"▁이\", \"▁곡을\", \"▁잊\", \"게\", \"▁한\", \"▁것이\", \"▁아닌\", \"가\", \"▁하는\", \"▁의견도\", \"▁있다\", \".\"], \"answer\": \"베토벤의 교향곡 9번\", \"token_start\": 80, \"token_end\": 84}\n",
            "{\"qa_id\": \"6566518-0-0\", \"title\": \"파우스트_서곡\", \"question\": [\"▁1839\", \"년\", \"▁바그너\", \"가\", \"▁교향곡\", \"의\", \"▁소재로\", \"▁쓰\", \"려고\", \"▁했던\", \"▁책은\", \"?\"], \"context\": [\"▁1839\", \"년\", \"▁바그너\", \"는\", \"▁괴테\", \"의\", \"▁\", \"파우스트\", \"을\", \"▁처음\", \"▁읽고\", \"▁그\", \"▁내용에\", \"▁마음이\", \"▁끌려\", \"▁이를\", \"▁소재로\", \"▁해서\", \"▁하나의\", \"▁교향곡\", \"을\", \"▁쓰\", \"려는\", \"▁뜻을\", \"▁갖는다\", \".\", \"▁이\", \"▁시기\", \"▁바그너\", \"는\", \"▁1838\", \"년에\", \"▁빛\", \"▁독\", \"촉\", \"으로\", \"▁산\", \"전\", \"수\", \"전을\", \"▁다\", \"▁\", \"걲\", \"은\", \"▁상황이\", \"라\", \"▁좌절\", \"과\", \"▁실망\", \"에\", \"▁가득\", \"했으며\", \"▁메\", \"피스\", \"토\", \"펠\", \"레스\", \"를\", \"▁만나는\", \"▁\", \"파우스트\", \"의\", \"▁심\", \"경에\", \"▁공감\", \"했다고\", \"▁한다\", \".\", \"▁또한\", \"▁파리에서\", \"▁아브\", \"네\", \"크의\", \"▁지휘\", \"로\", \"▁파리\", \"▁음악원\", \"▁관현악단\", \"이\", \"▁연주하는\", \"▁베토벤\", \"의\", \"▁교향곡\", \"▁9\", \"번을\", \"▁듣고\", \"▁깊은\", \"▁감\", \"명을\", \"▁받았는데\", \",\", \"▁이것이\", \"▁이듬해\", \"▁1\", \"월에\", \"▁\", \"파우스트\", \"의\", \"▁서\", \"곡으로\", \"▁쓰여진\", \"▁이\", \"▁작품에\", \"▁조금\", \"이라도\", \"▁영향을\", \"▁끼\", \"쳤\", \"으리라\", \"는\", \"▁것은\", \"▁의심\", \"할\", \"▁여지가\", \"▁없다\", \".\", \"▁여기\", \"의\", \"▁라\", \"단\", \"조\", \"▁조성\", \"의\", \"▁경우에도\", \"▁그의\", \"▁전기\", \"에\", \"▁적혀\", \"▁있는\", \"▁것처럼\", \"▁단순한\", \"▁정신적\", \"▁피로\", \"나\", \"▁실\", \"의\", \"가\", \"▁반영\", \"된\", \"▁것이\", \"▁아니라\", \"▁베토벤\", \"의\", \"▁합창\", \"교\", \"향\", \"곡\", \"▁조성\", \"의\", \"▁영향을\", \"▁받은\", \"▁것을\", \"▁볼\", \"▁수\", \"▁있다\", \".\", \"▁그렇게\", \"▁교향곡\", \"▁작곡\", \"을\", \"▁1839\", \"년부터\", \"▁40\", \"년에\", \"▁걸쳐\", \"▁파리에서\", \"▁착수\", \"했으나\", \"▁1\", \"악장\", \"을\", \"▁쓴\", \"▁뒤에\", \"▁중단\", \"했다\", \".\", \"▁또한\", \"▁작품의\", \"▁완성\", \"과\", \"▁동시에\", \"▁그는\", \"▁이\", \"▁서\", \"곡\", \"(1\", \"악장\", \")\", \"을\", \"▁파리\", \"▁음악원\", \"의\", \"▁연주회\", \"에서\", \"▁연주\", \"할\", \"▁파트\", \"보\", \"까지\", \"▁준비\", \"하였으나\", \",\", \"▁실제로는\", \"▁이루어지지\", \"는\", \"▁않았다\", \".\", \"▁결국\", \"▁초연\", \"은\", \"▁4\", \"년\", \"▁반\", \"이\", \"▁지난\", \"▁후에\", \"▁드레스덴\", \"에서\", \"▁연주\", \"되었고\", \"▁재\", \"연\", \"도\", \"▁이루어졌\", \"지만\", \",\", \"▁이후에\", \"▁그대로\", \"▁방치\", \"되고\", \"▁말았다\", \".\", \"▁그\", \"▁사이에\", \"▁그는\", \"▁리\", \"엔\", \"치\", \"와\", \"▁방\", \"황\", \"하는\", \"▁네덜란드\", \"인\", \"을\", \"▁완성\", \"하고\", \"▁탄\", \"호\", \"이\", \"저\", \"에도\", \"▁착수\", \"하는\", \"▁등\", \"▁분\", \"주\", \"한\", \"▁시간을\", \"▁보\", \"냈는데\", \",\", \"▁그런\", \"▁바쁜\", \"▁생활\", \"이\", \"▁이\", \"▁곡을\", \"▁잊\", \"게\", \"▁한\", \"▁것이\", \"▁아닌\", \"가\", \"▁하는\", \"▁의견도\", \"▁있다\", \".\"], \"answer\": \"파우스트\", \"token_start\": 6, \"token_end\": 7}\n",
            "{\"qa_id\": \"6566518-0-1\", \"title\": \"파우스트_서곡\", \"question\": [\"▁\", \"파우스트\", \"▁서\", \"곡\", \"의\", \"▁라\", \"단\", \"조\", \"▁조성\", \"이\", \"▁영향을\", \"▁받은\", \"▁베토벤\", \"의\", \"▁곡은\", \"?\"], \"context\": [\"▁1839\", \"년\", \"▁바그너\", \"는\", \"▁괴테\", \"의\", \"▁\", \"파우스트\", \"을\", \"▁처음\", \"▁읽고\", \"▁그\", \"▁내용에\", \"▁마음이\", \"▁끌려\", \"▁이를\", \"▁소재로\", \"▁해서\", \"▁하나의\", \"▁교향곡\", \"을\", \"▁쓰\", \"려는\", \"▁뜻을\", \"▁갖는다\", \".\", \"▁이\", \"▁시기\", \"▁바그너\", \"는\", \"▁1838\", \"년에\", \"▁빛\", \"▁독\", \"촉\", \"으로\", \"▁산\", \"전\", \"수\", \"전을\", \"▁다\", \"▁\", \"걲\", \"은\", \"▁상황이\", \"라\", \"▁좌절\", \"과\", \"▁실망\", \"에\", \"▁가득\", \"했으며\", \"▁메\", \"피스\", \"토\", \"펠\", \"레스\", \"를\", \"▁만나는\", \"▁\", \"파우스트\", \"의\", \"▁심\", \"경에\", \"▁공감\", \"했다고\", \"▁한다\", \".\", \"▁또한\", \"▁파리에서\", \"▁아브\", \"네\", \"크의\", \"▁지휘\", \"로\", \"▁파리\", \"▁음악원\", \"▁관현악단\", \"이\", \"▁연주하는\", \"▁베토벤\", \"의\", \"▁교향곡\", \"▁9\", \"번을\", \"▁듣고\", \"▁깊은\", \"▁감\", \"명을\", \"▁받았는데\", \",\", \"▁이것이\", \"▁이듬해\", \"▁1\", \"월에\", \"▁\", \"파우스트\", \"의\", \"▁서\", \"곡으로\", \"▁쓰여진\", \"▁이\", \"▁작품에\", \"▁조금\", \"이라도\", \"▁영향을\", \"▁끼\", \"쳤\", \"으리라\", \"는\", \"▁것은\", \"▁의심\", \"할\", \"▁여지가\", \"▁없다\", \".\", \"▁여기\", \"의\", \"▁라\", \"단\", \"조\", \"▁조성\", \"의\", \"▁경우에도\", \"▁그의\", \"▁전기\", \"에\", \"▁적혀\", \"▁있는\", \"▁것처럼\", \"▁단순한\", \"▁정신적\", \"▁피로\", \"나\", \"▁실\", \"의\", \"가\", \"▁반영\", \"된\", \"▁것이\", \"▁아니라\", \"▁베토벤\", \"의\", \"▁합창\", \"교\", \"향\", \"곡\", \"▁조성\", \"의\", \"▁영향을\", \"▁받은\", \"▁것을\", \"▁볼\", \"▁수\", \"▁있다\", \".\", \"▁그렇게\", \"▁교향곡\", \"▁작곡\", \"을\", \"▁1839\", \"년부터\", \"▁40\", \"년에\", \"▁걸쳐\", \"▁파리에서\", \"▁착수\", \"했으나\", \"▁1\", \"악장\", \"을\", \"▁쓴\", \"▁뒤에\", \"▁중단\", \"했다\", \".\", \"▁또한\", \"▁작품의\", \"▁완성\", \"과\", \"▁동시에\", \"▁그는\", \"▁이\", \"▁서\", \"곡\", \"(1\", \"악장\", \")\", \"을\", \"▁파리\", \"▁음악원\", \"의\", \"▁연주회\", \"에서\", \"▁연주\", \"할\", \"▁파트\", \"보\", \"까지\", \"▁준비\", \"하였으나\", \",\", \"▁실제로는\", \"▁이루어지지\", \"는\", \"▁않았다\", \".\", \"▁결국\", \"▁초연\", \"은\", \"▁4\", \"년\", \"▁반\", \"이\", \"▁지난\", \"▁후에\", \"▁드레스덴\", \"에서\", \"▁연주\", \"되었고\", \"▁재\", \"연\", \"도\", \"▁이루어졌\", \"지만\", \",\", \"▁이후에\", \"▁그대로\", \"▁방치\", \"되고\", \"▁말았다\", \".\", \"▁그\", \"▁사이에\", \"▁그는\", \"▁리\", \"엔\", \"치\", \"와\", \"▁방\", \"황\", \"하는\", \"▁네덜란드\", \"인\", \"을\", \"▁완성\", \"하고\", \"▁탄\", \"호\", \"이\", \"저\", \"에도\", \"▁착수\", \"하는\", \"▁등\", \"▁분\", \"주\", \"한\", \"▁시간을\", \"▁보\", \"냈는데\", \",\", \"▁그런\", \"▁바쁜\", \"▁생활\", \"이\", \"▁이\", \"▁곡을\", \"▁잊\", \"게\", \"▁한\", \"▁것이\", \"▁아닌\", \"가\", \"▁하는\", \"▁의견도\", \"▁있다\", \".\"], \"answer\": \"합창교향곡\", \"token_start\": 143, \"token_end\": 146}\n",
            "{\"qa_id\": \"5917067-0-0\", \"title\": \"파우스트_서곡\", \"question\": [\"▁바그너\", \"가\", \"▁\", \"파우스트\", \"를\", \"▁처음으로\", \"▁읽\", \"은\", \"▁\", \"년\", \"도\", \"는\", \"?\"], \"context\": [\"▁1839\", \"년\", \"▁바그너\", \"는\", \"▁괴테\", \"의\", \"▁\", \"파우스트\", \"을\", \"▁처음\", \"▁읽고\", \"▁그\", \"▁내용에\", \"▁마음이\", \"▁끌려\", \"▁이를\", \"▁소재로\", \"▁해서\", \"▁하나의\", \"▁교향곡\", \"을\", \"▁쓰\", \"려는\", \"▁뜻을\", \"▁갖는다\", \".\", \"▁이\", \"▁시기\", \"▁바그너\", \"는\", \"▁1838\", \"년에\", \"▁빛\", \"▁독\", \"촉\", \"으로\", \"▁산\", \"전\", \"수\", \"전을\", \"▁다\", \"▁\", \"걲\", \"은\", \"▁상황이\", \"라\", \"▁좌절\", \"과\", \"▁실망\", \"에\", \"▁가득\", \"했으며\", \"▁메\", \"피스\", \"토\", \"펠\", \"레스\", \"를\", \"▁만나는\", \"▁\", \"파우스트\", \"의\", \"▁심\", \"경에\", \"▁공감\", \"했다고\", \"▁한다\", \".\", \"▁또한\", \"▁파리에서\", \"▁아브\", \"네\", \"크의\", \"▁지휘\", \"로\", \"▁파리\", \"▁음악원\", \"▁관현악단\", \"이\", \"▁연주하는\", \"▁베토벤\", \"의\", \"▁교향곡\", \"▁9\", \"번을\", \"▁듣고\", \"▁깊은\", \"▁감\", \"명을\", \"▁받았는데\", \",\", \"▁이것이\", \"▁이듬해\", \"▁1\", \"월에\", \"▁\", \"파우스트\", \"의\", \"▁서\", \"곡으로\", \"▁쓰여진\", \"▁이\", \"▁작품에\", \"▁조금\", \"이라도\", \"▁영향을\", \"▁끼\", \"쳤\", \"으리라\", \"는\", \"▁것은\", \"▁의심\", \"할\", \"▁여지가\", \"▁없다\", \".\", \"▁여기\", \"의\", \"▁라\", \"단\", \"조\", \"▁조성\", \"의\", \"▁경우에도\", \"▁그의\", \"▁전기\", \"에\", \"▁적혀\", \"▁있는\", \"▁것처럼\", \"▁단순한\", \"▁정신적\", \"▁피로\", \"나\", \"▁실\", \"의\", \"가\", \"▁반영\", \"된\", \"▁것이\", \"▁아니라\", \"▁베토벤\", \"의\", \"▁합창\", \"교\", \"향\", \"곡\", \"▁조성\", \"의\", \"▁영향을\", \"▁받은\", \"▁것을\", \"▁볼\", \"▁수\", \"▁있다\", \".\", \"▁그렇게\", \"▁교향곡\", \"▁작곡\", \"을\", \"▁1839\", \"년부터\", \"▁40\", \"년에\", \"▁걸쳐\", \"▁파리에서\", \"▁착수\", \"했으나\", \"▁1\", \"악장\", \"을\", \"▁쓴\", \"▁뒤에\", \"▁중단\", \"했다\", \".\", \"▁또한\", \"▁작품의\", \"▁완성\", \"과\", \"▁동시에\", \"▁그는\", \"▁이\", \"▁서\", \"곡\", \"(1\", \"악장\", \")\", \"을\", \"▁파리\", \"▁음악원\", \"의\", \"▁연주회\", \"에서\", \"▁연주\", \"할\", \"▁파트\", \"보\", \"까지\", \"▁준비\", \"하였으나\", \",\", \"▁실제로는\", \"▁이루어지지\", \"는\", \"▁않았다\", \".\", \"▁결국\", \"▁초연\", \"은\", \"▁4\", \"년\", \"▁반\", \"이\", \"▁지난\", \"▁후에\", \"▁드레스덴\", \"에서\", \"▁연주\", \"되었고\", \"▁재\", \"연\", \"도\", \"▁이루어졌\", \"지만\", \",\", \"▁이후에\", \"▁그대로\", \"▁방치\", \"되고\", \"▁말았다\", \".\", \"▁그\", \"▁사이에\", \"▁그는\", \"▁리\", \"엔\", \"치\", \"와\", \"▁방\", \"황\", \"하는\", \"▁네덜란드\", \"인\", \"을\", \"▁완성\", \"하고\", \"▁탄\", \"호\", \"이\", \"저\", \"에도\", \"▁착수\", \"하는\", \"▁등\", \"▁분\", \"주\", \"한\", \"▁시간을\", \"▁보\", \"냈는데\", \",\", \"▁그런\", \"▁바쁜\", \"▁생활\", \"이\", \"▁이\", \"▁곡을\", \"▁잊\", \"게\", \"▁한\", \"▁것이\", \"▁아닌\", \"가\", \"▁하는\", \"▁의견도\", \"▁있다\", \".\"], \"answer\": \"1839\", \"token_start\": 0, \"token_end\": 0}\n",
            "{\"qa_id\": \"5917067-0-1\", \"title\": \"파우스트_서곡\", \"question\": [\"▁바그너\", \"가\", \"▁처음\", \"▁교향곡\", \"▁작곡\", \"을\", \"▁한\", \"▁장소\", \"는\", \"?\"], \"context\": [\"▁1839\", \"년\", \"▁바그너\", \"는\", \"▁괴테\", \"의\", \"▁\", \"파우스트\", \"을\", \"▁처음\", \"▁읽고\", \"▁그\", \"▁내용에\", \"▁마음이\", \"▁끌려\", \"▁이를\", \"▁소재로\", \"▁해서\", \"▁하나의\", \"▁교향곡\", \"을\", \"▁쓰\", \"려는\", \"▁뜻을\", \"▁갖는다\", \".\", \"▁이\", \"▁시기\", \"▁바그너\", \"는\", \"▁1838\", \"년에\", \"▁빛\", \"▁독\", \"촉\", \"으로\", \"▁산\", \"전\", \"수\", \"전을\", \"▁다\", \"▁\", \"걲\", \"은\", \"▁상황이\", \"라\", \"▁좌절\", \"과\", \"▁실망\", \"에\", \"▁가득\", \"했으며\", \"▁메\", \"피스\", \"토\", \"펠\", \"레스\", \"를\", \"▁만나는\", \"▁\", \"파우스트\", \"의\", \"▁심\", \"경에\", \"▁공감\", \"했다고\", \"▁한다\", \".\", \"▁또한\", \"▁파리에서\", \"▁아브\", \"네\", \"크의\", \"▁지휘\", \"로\", \"▁파리\", \"▁음악원\", \"▁관현악단\", \"이\", \"▁연주하는\", \"▁베토벤\", \"의\", \"▁교향곡\", \"▁9\", \"번을\", \"▁듣고\", \"▁깊은\", \"▁감\", \"명을\", \"▁받았는데\", \",\", \"▁이것이\", \"▁이듬해\", \"▁1\", \"월에\", \"▁\", \"파우스트\", \"의\", \"▁서\", \"곡으로\", \"▁쓰여진\", \"▁이\", \"▁작품에\", \"▁조금\", \"이라도\", \"▁영향을\", \"▁끼\", \"쳤\", \"으리라\", \"는\", \"▁것은\", \"▁의심\", \"할\", \"▁여지가\", \"▁없다\", \".\", \"▁여기\", \"의\", \"▁라\", \"단\", \"조\", \"▁조성\", \"의\", \"▁경우에도\", \"▁그의\", \"▁전기\", \"에\", \"▁적혀\", \"▁있는\", \"▁것처럼\", \"▁단순한\", \"▁정신적\", \"▁피로\", \"나\", \"▁실\", \"의\", \"가\", \"▁반영\", \"된\", \"▁것이\", \"▁아니라\", \"▁베토벤\", \"의\", \"▁합창\", \"교\", \"향\", \"곡\", \"▁조성\", \"의\", \"▁영향을\", \"▁받은\", \"▁것을\", \"▁볼\", \"▁수\", \"▁있다\", \".\", \"▁그렇게\", \"▁교향곡\", \"▁작곡\", \"을\", \"▁1839\", \"년부터\", \"▁40\", \"년에\", \"▁걸쳐\", \"▁파리에서\", \"▁착수\", \"했으나\", \"▁1\", \"악장\", \"을\", \"▁쓴\", \"▁뒤에\", \"▁중단\", \"했다\", \".\", \"▁또한\", \"▁작품의\", \"▁완성\", \"과\", \"▁동시에\", \"▁그는\", \"▁이\", \"▁서\", \"곡\", \"(1\", \"악장\", \")\", \"을\", \"▁파리\", \"▁음악원\", \"의\", \"▁연주회\", \"에서\", \"▁연주\", \"할\", \"▁파트\", \"보\", \"까지\", \"▁준비\", \"하였으나\", \",\", \"▁실제로는\", \"▁이루어지지\", \"는\", \"▁않았다\", \".\", \"▁결국\", \"▁초연\", \"은\", \"▁4\", \"년\", \"▁반\", \"이\", \"▁지난\", \"▁후에\", \"▁드레스덴\", \"에서\", \"▁연주\", \"되었고\", \"▁재\", \"연\", \"도\", \"▁이루어졌\", \"지만\", \",\", \"▁이후에\", \"▁그대로\", \"▁방치\", \"되고\", \"▁말았다\", \".\", \"▁그\", \"▁사이에\", \"▁그는\", \"▁리\", \"엔\", \"치\", \"와\", \"▁방\", \"황\", \"하는\", \"▁네덜란드\", \"인\", \"을\", \"▁완성\", \"하고\", \"▁탄\", \"호\", \"이\", \"저\", \"에도\", \"▁착수\", \"하는\", \"▁등\", \"▁분\", \"주\", \"한\", \"▁시간을\", \"▁보\", \"냈는데\", \",\", \"▁그런\", \"▁바쁜\", \"▁생활\", \"이\", \"▁이\", \"▁곡을\", \"▁잊\", \"게\", \"▁한\", \"▁것이\", \"▁아닌\", \"가\", \"▁하는\", \"▁의견도\", \"▁있다\", \".\"], \"answer\": \"파리\", \"token_start\": 165, \"token_end\": 165}\n",
            "{\"qa_id\": \"5917067-0-2\", \"title\": \"파우스트_서곡\", \"question\": [\"▁바그너\", \"의\", \"▁1\", \"악장\", \"의\", \"▁초연\", \"은\", \"▁어디서\", \"▁연주\", \"되었\", \"는\", \"가\", \"?\"], \"context\": [\"▁1839\", \"년\", \"▁바그너\", \"는\", \"▁괴테\", \"의\", \"▁\", \"파우스트\", \"을\", \"▁처음\", \"▁읽고\", \"▁그\", \"▁내용에\", \"▁마음이\", \"▁끌려\", \"▁이를\", \"▁소재로\", \"▁해서\", \"▁하나의\", \"▁교향곡\", \"을\", \"▁쓰\", \"려는\", \"▁뜻을\", \"▁갖는다\", \".\", \"▁이\", \"▁시기\", \"▁바그너\", \"는\", \"▁1838\", \"년에\", \"▁빛\", \"▁독\", \"촉\", \"으로\", \"▁산\", \"전\", \"수\", \"전을\", \"▁다\", \"▁\", \"걲\", \"은\", \"▁상황이\", \"라\", \"▁좌절\", \"과\", \"▁실망\", \"에\", \"▁가득\", \"했으며\", \"▁메\", \"피스\", \"토\", \"펠\", \"레스\", \"를\", \"▁만나는\", \"▁\", \"파우스트\", \"의\", \"▁심\", \"경에\", \"▁공감\", \"했다고\", \"▁한다\", \".\", \"▁또한\", \"▁파리에서\", \"▁아브\", \"네\", \"크의\", \"▁지휘\", \"로\", \"▁파리\", \"▁음악원\", \"▁관현악단\", \"이\", \"▁연주하는\", \"▁베토벤\", \"의\", \"▁교향곡\", \"▁9\", \"번을\", \"▁듣고\", \"▁깊은\", \"▁감\", \"명을\", \"▁받았는데\", \",\", \"▁이것이\", \"▁이듬해\", \"▁1\", \"월에\", \"▁\", \"파우스트\", \"의\", \"▁서\", \"곡으로\", \"▁쓰여진\", \"▁이\", \"▁작품에\", \"▁조금\", \"이라도\", \"▁영향을\", \"▁끼\", \"쳤\", \"으리라\", \"는\", \"▁것은\", \"▁의심\", \"할\", \"▁여지가\", \"▁없다\", \".\", \"▁여기\", \"의\", \"▁라\", \"단\", \"조\", \"▁조성\", \"의\", \"▁경우에도\", \"▁그의\", \"▁전기\", \"에\", \"▁적혀\", \"▁있는\", \"▁것처럼\", \"▁단순한\", \"▁정신적\", \"▁피로\", \"나\", \"▁실\", \"의\", \"가\", \"▁반영\", \"된\", \"▁것이\", \"▁아니라\", \"▁베토벤\", \"의\", \"▁합창\", \"교\", \"향\", \"곡\", \"▁조성\", \"의\", \"▁영향을\", \"▁받은\", \"▁것을\", \"▁볼\", \"▁수\", \"▁있다\", \".\", \"▁그렇게\", \"▁교향곡\", \"▁작곡\", \"을\", \"▁1839\", \"년부터\", \"▁40\", \"년에\", \"▁걸쳐\", \"▁파리에서\", \"▁착수\", \"했으나\", \"▁1\", \"악장\", \"을\", \"▁쓴\", \"▁뒤에\", \"▁중단\", \"했다\", \".\", \"▁또한\", \"▁작품의\", \"▁완성\", \"과\", \"▁동시에\", \"▁그는\", \"▁이\", \"▁서\", \"곡\", \"(1\", \"악장\", \")\", \"을\", \"▁파리\", \"▁음악원\", \"의\", \"▁연주회\", \"에서\", \"▁연주\", \"할\", \"▁파트\", \"보\", \"까지\", \"▁준비\", \"하였으나\", \",\", \"▁실제로는\", \"▁이루어지지\", \"는\", \"▁않았다\", \".\", \"▁결국\", \"▁초연\", \"은\", \"▁4\", \"년\", \"▁반\", \"이\", \"▁지난\", \"▁후에\", \"▁드레스덴\", \"에서\", \"▁연주\", \"되었고\", \"▁재\", \"연\", \"도\", \"▁이루어졌\", \"지만\", \",\", \"▁이후에\", \"▁그대로\", \"▁방치\", \"되고\", \"▁말았다\", \".\", \"▁그\", \"▁사이에\", \"▁그는\", \"▁리\", \"엔\", \"치\", \"와\", \"▁방\", \"황\", \"하는\", \"▁네덜란드\", \"인\", \"을\", \"▁완성\", \"하고\", \"▁탄\", \"호\", \"이\", \"저\", \"에도\", \"▁착수\", \"하는\", \"▁등\", \"▁분\", \"주\", \"한\", \"▁시간을\", \"▁보\", \"냈는데\", \",\", \"▁그런\", \"▁바쁜\", \"▁생활\", \"이\", \"▁이\", \"▁곡을\", \"▁잊\", \"게\", \"▁한\", \"▁것이\", \"▁아닌\", \"가\", \"▁하는\", \"▁의견도\", \"▁있다\", \".\"], \"answer\": \"드레스덴\", \"token_start\": 216, \"token_end\": 216}\n",
            "{\"qa_id\": \"6566495-1-0\", \"title\": \"파우스트_서곡\", \"question\": [\"▁바그너\", \"의\", \"▁작품을\", \"▁시인\", \"의\", \"▁피로\", \"▁쓰여\", \"졌다\", \"고\", \"▁극찬\", \"한\", \"▁것은\", \"▁누구\", \"인\", \"가\", \"?\"], \"context\": [\"▁한편\", \"▁1840\", \"년부터\", \"▁바그너\", \"와\", \"▁알고\", \"▁지내던\", \"▁리스트\", \"가\", \"▁잊\", \"혀\", \"져\", \"▁있던\", \"▁1\", \"악장\", \"을\", \"▁부활\", \"시켜\", \"▁1852\", \"년에\", \"▁바이마르\", \"에서\", \"▁연주\", \"했다\", \".\", \"▁이것을\", \"▁계기로\", \"▁바그너\", \"도\", \"▁이\", \"▁작품에\", \"▁다시\", \"▁관심을\", \"▁갖게\", \"▁되었고\", \",\", \"▁그\", \"▁해\", \"▁9\", \"월에는\", \"▁총\", \"보\", \"의\", \"▁반환\", \"을\", \"▁요구\", \"하여\", \"▁이를\", \"▁서\", \"곡으로\", \"▁간\", \"추\", \"린\", \"▁다음\", \"▁수정\", \"을\", \"▁했고\", \"▁브\", \"라이트\", \"코프\", \"흐\", \"▁&\", \"▁헤르\", \"텔\", \"▁출판사\", \"에서\", \"▁출판\", \"할\", \"▁개정\", \"판\", \"도\", \"▁준비\", \"했다\", \".\", \"▁1853\", \"년\", \"▁5\", \"월에는\", \"▁리스트\", \"가\", \"▁이\", \"▁작품이\", \"▁수정\", \"되었다\", \"는\", \"▁것을\", \"▁인정\", \"했지만\", \",\", \"▁끝내\", \"▁바그너\", \"의\", \"▁출판\", \"▁계획은\", \"▁무산\", \"되고\", \"▁말았다\", \".\", \"▁이후\", \"▁1855\", \"년에\", \"▁리스트\", \"가\", \"▁자신의\", \"▁작품\", \"▁\", \"파우스트\", \"▁교향곡\", \"을\", \"▁거의\", \"▁완성\", \"하여\", \"▁그\", \"▁사실을\", \"▁바그너\", \"에게\", \"▁알\", \"렸고\", \",\", \"▁바그너\", \"는\", \"▁다시\", \"▁개정된\", \"▁총\", \"보를\", \"▁리스트\", \"에게\", \"▁보내고\", \"▁브\", \"라이트\", \"코프\", \"흐\", \"▁&\", \"▁헤르\", \"텔\", \"▁출판사\", \"에는\", \"▁20\", \"루이\", \"의\", \"▁금\", \"을\", \"▁받고\", \"▁팔았다\", \".\", \"▁또한\", \"▁그의\", \"▁작품을\", \"▁“\", \"하나\", \"하나\", \"의\", \"▁음\", \"표\", \"가\", \"▁시인\", \"의\", \"▁피로\", \"▁쓰여\", \"졌다\", \"”\", \"며\", \"▁극찬\", \"했던\", \"▁한스\", \"▁폰\", \"▁\", \"뷜\", \"로\", \"가\", \"▁그것을\", \"▁피아노\", \"▁독주\", \"용으로\", \"▁편곡\", \"했는데\", \",\", \"▁리스트\", \"는\", \"▁그것을\", \"▁약간\", \"▁변형\", \"되었을\", \"▁뿐\", \"이라고\", \"▁지적했다\", \".\", \"▁이\", \"▁서\", \"곡\", \"의\", \"▁총\", \"보\", \"▁첫\", \"머리\", \"에는\", \"▁\", \"파우스트\", \"▁1\", \"부의\", \"▁내용\", \"▁중\", \"▁한\", \"▁구절\", \"을\", \"▁인용\", \"하고\", \"▁있다\", \".\"], \"answer\": \"한스 폰 뷜로\", \"token_start\": 164, \"token_end\": 168}\n",
            "{\"qa_id\": \"6566495-1-1\", \"title\": \"파우스트_서곡\", \"question\": [\"▁잊\", \"혀\", \"져\", \"▁있는\", \"▁\", \"파우스트\", \"▁서\", \"곡\", \"▁1\", \"악장\", \"을\", \"▁부활\", \"시킨\", \"▁것은\", \"▁누구\", \"인\", \"가\", \"?\"], \"context\": [\"▁한편\", \"▁1840\", \"년부터\", \"▁바그너\", \"와\", \"▁알고\", \"▁지내던\", \"▁리스트\", \"가\", \"▁잊\", \"혀\", \"져\", \"▁있던\", \"▁1\", \"악장\", \"을\", \"▁부활\", \"시켜\", \"▁1852\", \"년에\", \"▁바이마르\", \"에서\", \"▁연주\", \"했다\", \".\", \"▁이것을\", \"▁계기로\", \"▁바그너\", \"도\", \"▁이\", \"▁작품에\", \"▁다시\", \"▁관심을\", \"▁갖게\", \"▁되었고\", \",\", \"▁그\", \"▁해\", \"▁9\", \"월에는\", \"▁총\", \"보\", \"의\", \"▁반환\", \"을\", \"▁요구\", \"하여\", \"▁이를\", \"▁서\", \"곡으로\", \"▁간\", \"추\", \"린\", \"▁다음\", \"▁수정\", \"을\", \"▁했고\", \"▁브\", \"라이트\", \"코프\", \"흐\", \"▁&\", \"▁헤르\", \"텔\", \"▁출판사\", \"에서\", \"▁출판\", \"할\", \"▁개정\", \"판\", \"도\", \"▁준비\", \"했다\", \".\", \"▁1853\", \"년\", \"▁5\", \"월에는\", \"▁리스트\", \"가\", \"▁이\", \"▁작품이\", \"▁수정\", \"되었다\", \"는\", \"▁것을\", \"▁인정\", \"했지만\", \",\", \"▁끝내\", \"▁바그너\", \"의\", \"▁출판\", \"▁계획은\", \"▁무산\", \"되고\", \"▁말았다\", \".\", \"▁이후\", \"▁1855\", \"년에\", \"▁리스트\", \"가\", \"▁자신의\", \"▁작품\", \"▁\", \"파우스트\", \"▁교향곡\", \"을\", \"▁거의\", \"▁완성\", \"하여\", \"▁그\", \"▁사실을\", \"▁바그너\", \"에게\", \"▁알\", \"렸고\", \",\", \"▁바그너\", \"는\", \"▁다시\", \"▁개정된\", \"▁총\", \"보를\", \"▁리스트\", \"에게\", \"▁보내고\", \"▁브\", \"라이트\", \"코프\", \"흐\", \"▁&\", \"▁헤르\", \"텔\", \"▁출판사\", \"에는\", \"▁20\", \"루이\", \"의\", \"▁금\", \"을\", \"▁받고\", \"▁팔았다\", \".\", \"▁또한\", \"▁그의\", \"▁작품을\", \"▁“\", \"하나\", \"하나\", \"의\", \"▁음\", \"표\", \"가\", \"▁시인\", \"의\", \"▁피로\", \"▁쓰여\", \"졌다\", \"”\", \"며\", \"▁극찬\", \"했던\", \"▁한스\", \"▁폰\", \"▁\", \"뷜\", \"로\", \"가\", \"▁그것을\", \"▁피아노\", \"▁독주\", \"용으로\", \"▁편곡\", \"했는데\", \",\", \"▁리스트\", \"는\", \"▁그것을\", \"▁약간\", \"▁변형\", \"되었을\", \"▁뿐\", \"이라고\", \"▁지적했다\", \".\", \"▁이\", \"▁서\", \"곡\", \"의\", \"▁총\", \"보\", \"▁첫\", \"머리\", \"에는\", \"▁\", \"파우스트\", \"▁1\", \"부의\", \"▁내용\", \"▁중\", \"▁한\", \"▁구절\", \"을\", \"▁인용\", \"하고\", \"▁있다\", \".\"], \"answer\": \"리스트\", \"token_start\": 7, \"token_end\": 7}\n"
          ]
        }
      ]
    },
    {
      "cell_type": "markdown",
      "metadata": {
        "id": "material-bobby"
      },
      "source": [
        "- (9) 데이터 로드"
      ],
      "id": "material-bobby"
    },
    {
      "cell_type": "code",
      "metadata": {
        "id": "primary-freeze"
      },
      "source": [
        "train_json = os.path.join(data_dir, \"korquad_train.json\")\n",
        "dev_json = os.path.join(data_dir, \"korquad_dev.json\")"
      ],
      "id": "primary-freeze",
      "execution_count": 30,
      "outputs": []
    },
    {
      "cell_type": "code",
      "metadata": {
        "colab": {
          "base_uri": "https://localhost:8080/"
        },
        "id": "rapid-remainder",
        "outputId": "f4735830-30d3-44d7-8cb2-ae342075ca99"
      },
      "source": [
        "class Config(dict):\n",
        "    \"\"\"\n",
        "    json을 config 형태로 사용하기 위한 Class\n",
        "    :param dict: config dictionary\n",
        "    \"\"\"\n",
        "    __getattr__ = dict.__getitem__\n",
        "    __setattr__ = dict.__setitem__\n",
        "\n",
        "\n",
        "args = Config({\n",
        "    'max_seq_length': 384,\n",
        "    'max_query_length': 64,\n",
        "})\n",
        "args"
      ],
      "id": "rapid-remainder",
      "execution_count": 31,
      "outputs": [
        {
          "output_type": "execute_result",
          "data": {
            "text/plain": [
              "{'max_query_length': 64, 'max_seq_length': 384}"
            ]
          },
          "metadata": {},
          "execution_count": 31
        }
      ]
    },
    {
      "cell_type": "code",
      "metadata": {
        "id": "dominant-insured"
      },
      "source": [
        "# 생성한 데이터셋 파일을 메모리에 로딩하는 함수\n",
        "def load_data(args, filename):\n",
        "    inputs, segments, labels_start, labels_end = [], [], [], []\n",
        "\n",
        "    n_discard = 0\n",
        "    with open(filename, \"r\") as f:\n",
        "        for i, line in enumerate(tqdm(f, desc=f\"Loading ...\")):\n",
        "            data = json.loads(line)\n",
        "            token_start = data.get(\"token_start\")\n",
        "            token_end = data.get(\"token_end\")\n",
        "            question = data[\"question\"][:args.max_query_length]\n",
        "            context = data[\"context\"]\n",
        "            answer_tokens = \" \".join(context[token_start:token_end + 1])\n",
        "            context_len = args.max_seq_length - len(question) - 3\n",
        "\n",
        "            if token_end >= context_len:\n",
        "                # 최대 길이내에 token이 들어가지 않은 경우 처리하지 않음\n",
        "                n_discard += 1\n",
        "                continue\n",
        "            context = context[:context_len]\n",
        "            assert len(question) + len(context) <= args.max_seq_length - 3\n",
        "\n",
        "            tokens = ['[CLS]'] + question + ['[SEP]'] + context + ['[SEP]']\n",
        "            ids = [vocab.piece_to_id(token) for token in tokens]\n",
        "            ids += [0] * (args.max_seq_length - len(ids))\n",
        "            inputs.append(ids)\n",
        "            segs = [0] * (len(question) + 2) + [1] * (len(context) + 1)\n",
        "            segs += [0] * (args.max_seq_length - len(segs))\n",
        "            segments.append(segs)\n",
        "            token_start += (len(question) + 2)\n",
        "            labels_start.append(token_start)\n",
        "            token_end += (len(question) + 2)\n",
        "            labels_end.append(token_end)\n",
        "    print(f'n_discard: {n_discard}')\n",
        "\n",
        "    return (np.array(inputs), np.array(segments)), (np.array(labels_start), np.array(labels_end))"
      ],
      "id": "dominant-insured",
      "execution_count": 32,
      "outputs": []
    },
    {
      "cell_type": "code",
      "metadata": {
        "colab": {
          "base_uri": "https://localhost:8080/",
          "height": 567,
          "referenced_widgets": [
            "fb95aa7e2f254967ba62f7be1e792342",
            "ab4c7926a4c84d2d93ee5d49bc81f326",
            "89f6c96aa83f4119a95d916b6e946544",
            "0fe16a145c17415cb9945614bb0eb373",
            "6579e6456e064e45b8f8b6464b4700e2",
            "bf0fad9fd6634b3aaf546386fc5bbc24",
            "5689db0b7aa44599974cc50a9527f2e9",
            "f1f1d1d16cd442d882935c81ccad7528",
            "1913126a84544be0954638361944b78c",
            "19d9e47d649745958f65f3481411c56f",
            "4bd2e130019f4d66abe9de0cfb541571",
            "06ff2014c9e14105a0ef8fcdd964bc2a",
            "fe633ad1469f4cac85d0caa741580923",
            "60ceaacbce4f4b5abb11190259cf808b",
            "ca20c56b12b24fb4b2ba4da3e92df5fc",
            "129909839a87495c94c6aa7e5f5f2b08",
            "fd9d90b626414178a16ef2f283bd214f",
            "e914172b2c784daa826964b5fd7f42a8",
            "8eb764161e914bfda8d145f8f3cf5dab",
            "95d4d59c96304006b7cbe62e5eae6c5b",
            "d815814dedd847f6bba282713e86b6a7",
            "3379de78b929423fa54be3f4eeb7f7e4"
          ]
        },
        "id": "illegal-birthday",
        "outputId": "245c2c9b-f32e-4c9c-f74f-f84e547415ef"
      },
      "source": [
        "# train data load\n",
        "train_inputs, train_labels = load_data(args, train_json)\n",
        "print(f\"train_inputs: {train_inputs[0].shape}\")\n",
        "print(f\"train_inputs: {train_inputs[1].shape}\")\n",
        "print(f\"train_labels: {train_labels[0].shape}\")\n",
        "print(f\"train_labels: {train_labels[1].shape}\")\n",
        "\n",
        "# dev data load\n",
        "dev_inputs, dev_labels = load_data(args, dev_json)\n",
        "print(f\"dev_inputs: {dev_inputs[0].shape}\")\n",
        "print(f\"dev_inputs: {dev_inputs[1].shape}\")\n",
        "print(f\"dev_labels: {dev_labels[0].shape}\")\n",
        "print(f\"dev_labels: {dev_labels[1].shape}\")\n",
        "\n",
        "train_inputs[:10], train_labels[:10]"
      ],
      "id": "illegal-birthday",
      "execution_count": 33,
      "outputs": [
        {
          "output_type": "display_data",
          "data": {
            "application/vnd.jupyter.widget-view+json": {
              "model_id": "fb95aa7e2f254967ba62f7be1e792342",
              "version_minor": 0,
              "version_major": 2
            },
            "text/plain": [
              "Loading ...: 0it [00:00, ?it/s]"
            ]
          },
          "metadata": {}
        },
        {
          "output_type": "stream",
          "name": "stdout",
          "text": [
            "n_discard: 430\n",
            "train_inputs: (59977, 384)\n",
            "train_inputs: (59977, 384)\n",
            "train_labels: (59977,)\n",
            "train_labels: (59977,)\n"
          ]
        },
        {
          "output_type": "display_data",
          "data": {
            "application/vnd.jupyter.widget-view+json": {
              "model_id": "06ff2014c9e14105a0ef8fcdd964bc2a",
              "version_minor": 0,
              "version_major": 2
            },
            "text/plain": [
              "Loading ...: 0it [00:00, ?it/s]"
            ]
          },
          "metadata": {}
        },
        {
          "output_type": "stream",
          "name": "stdout",
          "text": [
            "n_discard: 78\n",
            "dev_inputs: (5696, 384)\n",
            "dev_inputs: (5696, 384)\n",
            "dev_labels: (5696,)\n",
            "dev_labels: (5696,)\n"
          ]
        },
        {
          "output_type": "execute_result",
          "data": {
            "text/plain": [
              "((array([[    5, 15798,    10, ...,     0,     0,     0],\n",
              "         [    5, 15798,    10, ...,     0,     0,     0],\n",
              "         [    5, 15798,    19, ...,     0,     0,     0],\n",
              "         ...,\n",
              "         [    5, 21666,    19, ...,     0,     0,     0],\n",
              "         [    5,   964, 16865, ...,     0,     0,     0],\n",
              "         [    5,   365,    15, ...,     0,     0,     0]]),\n",
              "  array([[0, 0, 0, ..., 0, 0, 0],\n",
              "         [0, 0, 0, ..., 0, 0, 0],\n",
              "         [0, 0, 0, ..., 0, 0, 0],\n",
              "         ...,\n",
              "         [0, 0, 0, ..., 0, 0, 0],\n",
              "         [0, 0, 0, ..., 0, 0, 0],\n",
              "         [0, 0, 0, ..., 0, 0, 0]])),\n",
              " (array([ 37, 184,  98, ...,  74, 190,  35]),\n",
              "  array([ 37, 185, 102, ...,  75, 191,  44])))"
            ]
          },
          "metadata": {},
          "execution_count": 33
        }
      ]
    },
    {
      "cell_type": "markdown",
      "metadata": {
        "id": "geological-agency"
      },
      "source": [
        "# ------------------> 데이터 준비, 전처리 완료"
      ],
      "id": "geological-agency"
    },
    {
      "cell_type": "markdown",
      "metadata": {
        "id": "cognitive-equality"
      },
      "source": [
        "----------------------------------------"
      ],
      "id": "cognitive-equality"
    },
    {
      "cell_type": "markdown",
      "metadata": {
        "id": "typical-treat"
      },
      "source": [
        "# STEP 1. pretrained model 로딩하기"
      ],
      "id": "typical-treat"
    },
    {
      "cell_type": "markdown",
      "metadata": {
        "id": "convinced-procurement"
      },
      "source": [
        "### BERT Model 구성을 위한 레이어 생성"
      ],
      "id": "convinced-procurement"
    },
    {
      "cell_type": "code",
      "metadata": {
        "id": "exciting-celtic"
      },
      "source": [
        "# 유틸리티 함수들\n",
        "\n",
        "def get_pad_mask(tokens, i_pad=0):\n",
        "    \"\"\"\n",
        "    pad mask 계산하는 함수\n",
        "    :param tokens: tokens (bs, n_seq)\n",
        "    :param i_pad: id of pad\n",
        "    :return mask: pad mask (pad: 1, other: 0)\n",
        "    \"\"\"\n",
        "    mask = tf.cast(tf.math.equal(tokens, i_pad), tf.float32)\n",
        "    mask = tf.expand_dims(mask, axis=1)\n",
        "    return mask\n",
        "\n",
        "\n",
        "def get_ahead_mask(tokens, i_pad=0):\n",
        "    \"\"\"\n",
        "    ahead mask 계산하는 함수\n",
        "    :param tokens: tokens (bs, n_seq)\n",
        "    :param i_pad: id of pad\n",
        "    :return mask: ahead and pad mask (ahead or pad: 1, other: 0)\n",
        "    \"\"\"\n",
        "    n_seq = tf.shape(tokens)[1]\n",
        "    ahead_mask = 1 - tf.linalg.band_part(tf.ones((n_seq, n_seq)), -1, 0)\n",
        "    ahead_mask = tf.expand_dims(ahead_mask, axis=0)\n",
        "    pad_mask = get_pad_mask(tokens, i_pad)\n",
        "    mask = tf.maximum(ahead_mask, pad_mask)\n",
        "    return mask\n",
        "\n",
        "\n",
        "@tf.function(experimental_relax_shapes=True)\n",
        "def gelu(x):\n",
        "    \"\"\"\n",
        "    gelu activation 함수\n",
        "    :param x: 입력 값\n",
        "    :return: gelu activation result\n",
        "    \"\"\"\n",
        "    return 0.5 * x * (1 + K.tanh(x * 0.7978845608 * (1 + 0.044715 * x * x)))\n",
        "\n",
        "\n",
        "def kernel_initializer(stddev=0.02):\n",
        "    \"\"\"\n",
        "    parameter initializer 생성\n",
        "    :param stddev: 생성할 랜덤 변수의 표준편차\n",
        "    \"\"\"\n",
        "    return tf.keras.initializers.TruncatedNormal(stddev=stddev)\n",
        "\n",
        "\n",
        "def bias_initializer():\n",
        "    \"\"\"\n",
        "    bias initializer 생성\n",
        "    \"\"\"\n",
        "    return tf.zeros_initializer\n",
        "\n",
        "\n",
        "class Config(dict):\n",
        "    \"\"\"\n",
        "    json을 config 형태로 사용하기 위한 Class\n",
        "    :param dict: config dictionary\n",
        "    \"\"\"\n",
        "    __getattr__ = dict.__getitem__\n",
        "    __setattr__ = dict.__setitem__\n",
        "\n",
        "    @classmethod\n",
        "    def load(cls, file):\n",
        "        \"\"\"\n",
        "        file에서 Config를 생성 함\n",
        "        :param file: filename\n",
        "        \"\"\"\n",
        "        with open(file, 'r') as f:\n",
        "            config = json.loads(f.read())\n",
        "            return Config(config)"
      ],
      "id": "exciting-celtic",
      "execution_count": 34,
      "outputs": []
    },
    {
      "cell_type": "code",
      "metadata": {
        "id": "intensive-superior"
      },
      "source": [
        "# mode == \"embedding\" 일 경우 Token Embedding Layer 로 사용되는 layer 클래스입니다. \n",
        "\n",
        "class SharedEmbedding(tf.keras.layers.Layer):\n",
        "    \"\"\"\n",
        "    Weighed Shared Embedding Class\n",
        "    \"\"\"\n",
        "    def __init__(self, config, name=\"weight_shared_embedding\"):\n",
        "        \"\"\"\n",
        "        생성자\n",
        "        :param config: Config 객체\n",
        "        :param name: layer name\n",
        "        \"\"\"\n",
        "        super().__init__(name=name)\n",
        "\n",
        "        self.n_vocab = config.n_vocab\n",
        "        self.d_model = config.d_model\n",
        "    \n",
        "    def build(self, input_shape):\n",
        "        \"\"\"\n",
        "        shared weight 생성\n",
        "        :param input_shape: Tensor Shape (not used)\n",
        "        \"\"\"\n",
        "        with tf.name_scope(\"shared_embedding_weight\"):\n",
        "            self.shared_weights = self.add_weight(\n",
        "                \"weights\",\n",
        "                shape=[self.n_vocab, self.d_model],\n",
        "                initializer=kernel_initializer()\n",
        "            )\n",
        "\n",
        "    def call(self, inputs, mode=\"embedding\"):\n",
        "        \"\"\"\n",
        "        layer 실행\n",
        "        :param inputs: 입력\n",
        "        :param mode: 실행 모드\n",
        "        :return: embedding or linear 실행 결과\n",
        "        \"\"\"\n",
        "        # mode가 embedding일 경우 embedding lookup 실행\n",
        "        if mode == \"embedding\":\n",
        "            return self._embedding(inputs)\n",
        "        # mode가 linear일 경우 linear 실행\n",
        "        elif mode == \"linear\":\n",
        "            return self._linear(inputs)\n",
        "        # mode가 기타일 경우 오류 발생\n",
        "        else:\n",
        "            raise ValueError(f\"mode {mode} is not valid.\")\n",
        "    \n",
        "    def _embedding(self, inputs):\n",
        "        \"\"\"\n",
        "        embedding lookup\n",
        "        :param inputs: 입력\n",
        "        \"\"\"\n",
        "        embed = tf.gather(self.shared_weights, tf.cast(inputs, tf.int32))\n",
        "        return embed\n",
        "\n",
        "    def _linear(self, inputs):  # (bs, n_seq, d_model)\n",
        "        \"\"\"\n",
        "        linear 실행\n",
        "        :param inputs: 입력\n",
        "        \"\"\"\n",
        "        n_batch = tf.shape(inputs)[0]\n",
        "        n_seq = tf.shape(inputs)[1]\n",
        "        inputs = tf.reshape(inputs, [-1, self.d_model])  # (bs * n_seq, d_model)\n",
        "        outputs = tf.matmul(inputs, self.shared_weights, transpose_b=True)\n",
        "        outputs = tf.reshape(outputs, [n_batch, n_seq, self.n_vocab])  # (bs, n_seq, n_vocab)\n",
        "        return outputs"
      ],
      "id": "intensive-superior",
      "execution_count": 35,
      "outputs": []
    },
    {
      "cell_type": "code",
      "metadata": {
        "id": "coordinate-facing"
      },
      "source": [
        "class PositionalEmbedding(tf.keras.layers.Layer):\n",
        "    \"\"\"\n",
        "    Positional Embedding Class\n",
        "    \"\"\"\n",
        "    def __init__(self, config, name=\"position_embedding\"):\n",
        "        \"\"\"\n",
        "        생성자\n",
        "        :param config: Config 객체\n",
        "        :param name: layer name\n",
        "        \"\"\"\n",
        "        super().__init__(name=name)\n",
        "        \n",
        "        self.embedding = tf.keras.layers.Embedding(config.n_seq, config.d_model, embeddings_initializer=kernel_initializer())\n",
        "\n",
        "    def call(self, inputs):\n",
        "        \"\"\"\n",
        "        layer 실행\n",
        "        :param inputs: 입력\n",
        "        :return embed: positional embedding lookup 결과\n",
        "        \"\"\"\n",
        "        position = tf.cast(tf.math.cumsum(tf.ones_like(inputs), axis=1, exclusive=True), tf.int32)\n",
        "        embed = self.embedding(position)\n",
        "        return embed"
      ],
      "id": "coordinate-facing",
      "execution_count": 36,
      "outputs": []
    },
    {
      "cell_type": "code",
      "metadata": {
        "id": "studied-continuity"
      },
      "source": [
        "class ScaleDotProductAttention(tf.keras.layers.Layer):\n",
        "    \"\"\"\n",
        "    Scale Dot Product Attention Class\n",
        "    \"\"\"\n",
        "    def __init__(self, name=\"scale_dot_product_attention\"):\n",
        "        \"\"\"\n",
        "        생성자\n",
        "        :param name: layer name\n",
        "        \"\"\"\n",
        "        super().__init__(name=name)\n",
        "\n",
        "    def call(self, Q, K, V, attn_mask):\n",
        "        \"\"\"\n",
        "        layer 실행\n",
        "        :param Q: Q value\n",
        "        :param K: K value\n",
        "        :param V: V value\n",
        "        :param attn_mask: 실행 모드\n",
        "        :return attn_out: attention 실행 결과\n",
        "        \"\"\"\n",
        "        attn_score = tf.matmul(Q, K, transpose_b=True)\n",
        "        scale = tf.math.sqrt(tf.cast(tf.shape(K)[-1], tf.float32))\n",
        "        attn_scale = tf.math.divide(attn_score, scale)\n",
        "        attn_scale -= 1.e9 * attn_mask\n",
        "        attn_prob = tf.nn.softmax(attn_scale, axis=-1)\n",
        "        attn_out = tf.matmul(attn_prob, V)\n",
        "        return attn_out"
      ],
      "id": "studied-continuity",
      "execution_count": 37,
      "outputs": []
    },
    {
      "cell_type": "code",
      "metadata": {
        "id": "focused-preparation"
      },
      "source": [
        "class MultiHeadAttention(tf.keras.layers.Layer):\n",
        "    \"\"\"\n",
        "    Multi Head Attention Class\n",
        "    \"\"\"\n",
        "    def __init__(self, config, name=\"multi_head_attention\"):\n",
        "        \"\"\"\n",
        "        생성자\n",
        "        :param config: Config 객체\n",
        "        :param name: layer name\n",
        "        \"\"\"\n",
        "        super().__init__(name=name)\n",
        "\n",
        "        self.d_model = config.d_model\n",
        "        self.n_head = config.n_head\n",
        "        self.d_head = config.d_head\n",
        "\n",
        "        # Q, K, V input dense layer\n",
        "        self.W_Q = tf.keras.layers.Dense(config.n_head * config.d_head, kernel_initializer=kernel_initializer(), bias_initializer=bias_initializer())\n",
        "        self.W_K = tf.keras.layers.Dense(config.n_head * config.d_head, kernel_initializer=kernel_initializer(), bias_initializer=bias_initializer())\n",
        "        self.W_V = tf.keras.layers.Dense(config.n_head * config.d_head, kernel_initializer=kernel_initializer(), bias_initializer=bias_initializer())\n",
        "        # Scale Dot Product Attention class\n",
        "        self.attention = ScaleDotProductAttention(name=\"self_attention\")\n",
        "        # output dense layer\n",
        "        self.W_O = tf.keras.layers.Dense(config.d_model, kernel_initializer=kernel_initializer(), bias_initializer=bias_initializer())\n",
        "\n",
        "    def call(self, Q, K, V, attn_mask):\n",
        "        \"\"\"\n",
        "        layer 실행\n",
        "        :param Q: Q value\n",
        "        :param K: K value\n",
        "        :param V: V value\n",
        "        :param attn_mask: 실행 모드\n",
        "        :return attn_out: attention 실행 결과\n",
        "        \"\"\"\n",
        "        # reshape Q, K, V, attn_mask\n",
        "        batch_size = tf.shape(Q)[0]\n",
        "        Q_m = tf.transpose(tf.reshape(self.W_Q(Q), [batch_size, -1, self.n_head, self.d_head]), [0, 2, 1, 3])  # (bs, n_head, Q_len, d_head)\n",
        "        K_m = tf.transpose(tf.reshape(self.W_K(K), [batch_size, -1, self.n_head, self.d_head]), [0, 2, 1, 3])  # (bs, n_head, K_len, d_head)\n",
        "        V_m = tf.transpose(tf.reshape(self.W_V(V), [batch_size, -1, self.n_head, self.d_head]), [0, 2, 1, 3])  # (bs, n_head, K_len, d_head)\n",
        "        attn_mask_m = tf.expand_dims(attn_mask, axis=1)\n",
        "        # Scale Dot Product Attention with multi head Q, K, V, attn_mask\n",
        "        attn_out = self.attention(Q_m, K_m, V_m, attn_mask_m)  # (bs, n_head, Q_len, d_head)\n",
        "        # transpose and liner\n",
        "        attn_out_m = tf.transpose(attn_out, perm=[0, 2, 1, 3])  # (bs, Q_len, n_head, d_head)\n",
        "        attn_out = tf.reshape(attn_out_m, [batch_size, -1, config.n_head * config.d_head])  # (bs, Q_len, d_model)\n",
        "        attn_out = self.W_O(attn_out) # (bs, Q_len, d_model)\n",
        "\n",
        "        return attn_out"
      ],
      "id": "focused-preparation",
      "execution_count": 38,
      "outputs": []
    },
    {
      "cell_type": "code",
      "metadata": {
        "id": "trying-petroleum"
      },
      "source": [
        "class PositionWiseFeedForward(tf.keras.layers.Layer):\n",
        "    \"\"\"\n",
        "    Position Wise Feed Forward Class\n",
        "    \"\"\"\n",
        "    def __init__(self, config, name=\"feed_forward\"):\n",
        "        \"\"\"\n",
        "        생성자\n",
        "        :param config: Config 객체\n",
        "        :param name: layer name\n",
        "        \"\"\"\n",
        "        super().__init__(name=name)\n",
        "\n",
        "        self.W_1 = tf.keras.layers.Dense(config.d_ff, activation=gelu, kernel_initializer=kernel_initializer(), bias_initializer=bias_initializer())\n",
        "        self.W_2 = tf.keras.layers.Dense(config.d_model, kernel_initializer=kernel_initializer(), bias_initializer=bias_initializer())\n",
        "\n",
        "    def call(self, inputs):\n",
        "        \"\"\"\n",
        "        layer 실행\n",
        "        :param inputs: inputs\n",
        "        :return ff_val: feed forward 실행 결과\n",
        "        \"\"\"\n",
        "        ff_val = self.W_2(self.W_1(inputs))\n",
        "        return ff_val"
      ],
      "id": "trying-petroleum",
      "execution_count": 39,
      "outputs": []
    },
    {
      "cell_type": "code",
      "metadata": {
        "id": "federal-garage"
      },
      "source": [
        "class EncoderLayer(tf.keras.layers.Layer):\n",
        "    \"\"\"\n",
        "    Encoder Layer Class\n",
        "    \"\"\"\n",
        "    def __init__(self, config, name=\"encoder_layer\"):\n",
        "        \"\"\"\n",
        "        생성자\n",
        "        :param config: Config 객체\n",
        "        :param name: layer name\n",
        "        \"\"\"\n",
        "        super().__init__(name=name)\n",
        "\n",
        "        self.self_attention = MultiHeadAttention(config)\n",
        "        self.norm1 = tf.keras.layers.LayerNormalization(epsilon=config.layernorm_epsilon)\n",
        "\n",
        "        self.ffn = PositionWiseFeedForward(config)\n",
        "        self.norm2 = tf.keras.layers.LayerNormalization(epsilon=config.layernorm_epsilon)\n",
        "\n",
        "        self.dropout = tf.keras.layers.Dropout(config.dropout)\n",
        " \n",
        "    def call(self, enc_embed, self_mask):\n",
        "        \"\"\"\n",
        "        layer 실행\n",
        "        :param enc_embed: enc_embed 또는 이전 EncoderLayer의 출력\n",
        "        :param self_mask: enc_tokens의 pad mask\n",
        "        :return enc_out: EncoderLayer 실행 결과\n",
        "        \"\"\"\n",
        "        self_attn_val = self.self_attention(enc_embed, enc_embed, enc_embed, self_mask)\n",
        "        norm1_val = self.norm1(enc_embed + self.dropout(self_attn_val))\n",
        "\n",
        "        ffn_val = self.ffn(norm1_val)\n",
        "        enc_out = self.norm2(norm1_val + self.dropout(ffn_val))\n",
        "\n",
        "        return enc_out"
      ],
      "id": "federal-garage",
      "execution_count": 40,
      "outputs": []
    },
    {
      "cell_type": "markdown",
      "metadata": {
        "id": "ignored-visibility"
      },
      "source": [
        "### BERT Model 구성"
      ],
      "id": "ignored-visibility"
    },
    {
      "cell_type": "code",
      "metadata": {
        "id": "bound-biodiversity"
      },
      "source": [
        "class BERT(tf.keras.layers.Layer):\n",
        "    \"\"\"\n",
        "    BERT Class\n",
        "    \"\"\"\n",
        "    def __init__(self, config, name=\"bert\"):\n",
        "        \"\"\"\n",
        "        생성자\n",
        "        :param config: Config 객체\n",
        "        :param name: layer name\n",
        "        \"\"\"\n",
        "        super().__init__(name=name)\n",
        "\n",
        "        self.i_pad = config.i_pad\n",
        "        self.embedding = SharedEmbedding(config)\n",
        "        self.position = PositionalEmbedding(config)\n",
        "        self.segment = tf.keras.layers.Embedding(2, config.d_model, embeddings_initializer=kernel_initializer())\n",
        "        self.norm = tf.keras.layers.LayerNormalization(epsilon=config.layernorm_epsilon)\n",
        "        \n",
        "        self.encoder_layers = [EncoderLayer(config, name=f\"encoder_layer_{i}\") for i in range(config.n_layer)]\n",
        "\n",
        "        self.dropout = tf.keras.layers.Dropout(config.dropout)\n",
        "\n",
        "    def call(self, enc_tokens, segments):\n",
        "        \"\"\"\n",
        "        layer 실행\n",
        "        :param enc_tokens: encoder tokens\n",
        "        :param segments: token segments\n",
        "        :return logits_cls: CLS 결과 logits\n",
        "        :return logits_lm: LM 결과 logits\n",
        "        \"\"\"\n",
        "        enc_self_mask = get_pad_mask(enc_tokens, self.i_pad)\n",
        "\n",
        "        enc_embed = self.get_embedding(enc_tokens, segments)\n",
        "\n",
        "        enc_out = self.dropout(enc_embed)\n",
        "        for encoder_layer in self.encoder_layers:\n",
        "            enc_out = encoder_layer(enc_out, enc_self_mask)\n",
        "\n",
        "        logits_cls = enc_out[:,0]\n",
        "        logits_lm = enc_out\n",
        "        return logits_cls, logits_lm\n",
        "    \n",
        "    def get_embedding(self, tokens, segments):\n",
        "        \"\"\"\n",
        "        token embedding, position embedding lookup\n",
        "        :param tokens: 입력 tokens\n",
        "        :param segments: 입력 segments\n",
        "        :return embed: embedding 결과\n",
        "        \"\"\"\n",
        "        embed = self.embedding(tokens) + self.position(tokens) + self.segment(segments)\n",
        "        embed = self.norm(embed)\n",
        "        return embed"
      ],
      "id": "bound-biodiversity",
      "execution_count": 41,
      "outputs": []
    },
    {
      "cell_type": "markdown",
      "metadata": {
        "id": "exterior-projector"
      },
      "source": [
        "# ------------------------------------------------------------------------------"
      ],
      "id": "exterior-projector"
    },
    {
      "cell_type": "markdown",
      "metadata": {
        "id": "moral-female"
      },
      "source": [
        "# Pretrained Model 사용하지 않은 BERT Model 테스트 (이 다음에 Pretrained Model 사용하여 예측한 결과 이어짐)"
      ],
      "id": "moral-female"
    },
    {
      "cell_type": "code",
      "metadata": {
        "id": "neural-carroll"
      },
      "source": [
        "class BERT4KorQuAD(tf.keras.Model):\n",
        "    def __init__(self, config):\n",
        "        super().__init__(name='BERT4KorQuAD')\n",
        "\n",
        "        self.bert = BERT(config)\n",
        "        self.dense = tf.keras.layers.Dense(2)\n",
        "    \n",
        "    def call(self, enc_tokens, segments):\n",
        "        logits_cls, logits_lm = self.bert(enc_tokens, segments)\n",
        "\n",
        "        hidden = self.dense(logits_lm) # (bs, n_seq, 2)\n",
        "        start_logits, end_logits = tf.split(hidden, 2, axis=-1)  # (bs, n_seq, 1), (bs, n_seq, 1)\n",
        "\n",
        "        start_logits = tf.squeeze(start_logits, axis=-1)\n",
        "        start_outputs = tf.keras.layers.Softmax(name=\"start\")(start_logits)\n",
        "\n",
        "        end_logits = tf.squeeze(end_logits, axis=-1)\n",
        "        end_outputs = tf.keras.layers.Softmax(name=\"end\")(end_logits)\n",
        "\n",
        "        return start_outputs, end_outputs"
      ],
      "id": "neural-carroll",
      "execution_count": 43,
      "outputs": []
    },
    {
      "cell_type": "code",
      "metadata": {
        "colab": {
          "base_uri": "https://localhost:8080/"
        },
        "id": "falling-investing",
        "outputId": "5fc93a23-5336-4362-a32d-fc7b8224bad2"
      },
      "source": [
        "config = Config({\"d_model\": 512, \"n_head\": 8, \"d_head\": 64, \"dropout\": 0.1, \"d_ff\": 1024, \"layernorm_epsilon\": 0.001, \"n_layer\": 6, \"n_seq\": 384, \"n_vocab\": 0, \"i_pad\": 0})\n",
        "config.n_vocab = len(vocab)\n",
        "config.i_pad = vocab.pad_id()\n",
        "config"
      ],
      "id": "falling-investing",
      "execution_count": 44,
      "outputs": [
        {
          "output_type": "execute_result",
          "data": {
            "text/plain": [
              "{'d_ff': 1024,\n",
              " 'd_head': 64,\n",
              " 'd_model': 512,\n",
              " 'dropout': 0.1,\n",
              " 'i_pad': 0,\n",
              " 'layernorm_epsilon': 0.001,\n",
              " 'n_head': 8,\n",
              " 'n_layer': 6,\n",
              " 'n_seq': 384,\n",
              " 'n_vocab': 32007}"
            ]
          },
          "metadata": {},
          "execution_count": 44
        }
      ]
    },
    {
      "cell_type": "code",
      "metadata": {
        "id": "universal-scanner"
      },
      "source": [
        "bert_batch_size = 16\n",
        "\n",
        "train_dataset = tf.data.Dataset.from_tensor_slices((train_inputs, train_labels)).shuffle(10000).batch(bert_batch_size)\n",
        "dev_dataset = tf.data.Dataset.from_tensor_slices((dev_inputs, dev_labels)).batch(bert_batch_size)"
      ],
      "id": "universal-scanner",
      "execution_count": 45,
      "outputs": []
    },
    {
      "cell_type": "code",
      "metadata": {
        "id": "secondary-jersey"
      },
      "source": [
        "model = BERT4KorQuAD(config)"
      ],
      "id": "secondary-jersey",
      "execution_count": 46,
      "outputs": []
    },
    {
      "cell_type": "markdown",
      "metadata": {
        "id": "white-phone"
      },
      "source": [
        "### 학습 진행"
      ],
      "id": "white-phone"
    },
    {
      "cell_type": "code",
      "metadata": {
        "id": "detailed-deficit"
      },
      "source": [
        "def train_epoch(model, dataset, loss_fn, acc_fn, optimizer):\n",
        "    metric_start_loss = tf.keras.metrics.Mean(name='start_loss')\n",
        "    metric_end_loss = tf.keras.metrics.Mean(name='end_loss')\n",
        "    metric_start_acc = tf.keras.metrics.Mean(name='start_acc')\n",
        "    metric_end_acc = tf.keras.metrics.Mean(name='end_acc')\n",
        "\n",
        "    p_bar = tqdm(dataset)\n",
        "    for batch, ((enc_tokens, segments), (start_labels, end_labels)) in enumerate(p_bar):\n",
        "        with tf.GradientTape() as tape:\n",
        "            start_outputs, end_outputs = model(enc_tokens, segments)\n",
        "\n",
        "            start_loss = loss_fn(start_labels, start_outputs)\n",
        "            end_loss = loss_fn(end_labels, end_outputs)\n",
        "            loss = start_loss + end_loss\n",
        "\n",
        "            start_acc = acc_fn(start_labels, start_outputs)\n",
        "            end_acc = acc_fn(end_labels, end_outputs)\n",
        "        gradients = tape.gradient(loss, model.trainable_variables)\n",
        "        optimizer.apply_gradients(zip(gradients, model.trainable_variables))\n",
        "\n",
        "        metric_start_loss(start_loss)\n",
        "        metric_end_loss(end_loss)\n",
        "        metric_start_acc(start_acc)\n",
        "        metric_end_acc(end_acc)\n",
        "        if batch % 10 == 9:\n",
        "            p_bar.set_description(f'loss: {metric_start_loss.result():0.4f}, {metric_end_loss.result():0.4f}, acc: {metric_start_acc.result():0.4f}, {metric_end_acc.result():0.4f}')\n",
        "    p_bar.close()\n",
        "\n",
        "    return metric_start_loss.result(), metric_end_loss.result(), metric_start_acc.result(), metric_end_acc.result()"
      ],
      "id": "detailed-deficit",
      "execution_count": null,
      "outputs": []
    },
    {
      "cell_type": "code",
      "metadata": {
        "id": "antique-causing"
      },
      "source": [
        "def eval_epoch(model, dataset, loss_fn, acc_fn):\n",
        "    metric_start_loss = tf.keras.metrics.Mean(name='start_loss')\n",
        "    metric_end_loss = tf.keras.metrics.Mean(name='end_loss')\n",
        "    metric_start_acc = tf.keras.metrics.Mean(name='start_acc')\n",
        "    metric_end_acc = tf.keras.metrics.Mean(name='end_acc')\n",
        "\n",
        "    for batch, ((enc_tokens, segments), (start_labels, end_labels)) in enumerate(dataset):\n",
        "        start_outputs, end_outputs = model(enc_tokens, segments)\n",
        "\n",
        "        start_loss = loss_fn(start_labels, start_outputs)\n",
        "        end_loss = loss_fn(end_labels, end_outputs)\n",
        "\n",
        "        start_acc = acc_fn(start_labels, start_outputs)\n",
        "        end_acc = acc_fn(end_labels, end_outputs)\n",
        "\n",
        "        metric_start_loss(start_loss)\n",
        "        metric_end_loss(end_loss)\n",
        "        metric_start_acc(start_acc)\n",
        "        metric_end_acc(end_acc)\n",
        "\n",
        "    return metric_start_loss.result(), metric_end_loss.result(), metric_start_acc.result(), metric_end_acc.result()"
      ],
      "id": "antique-causing",
      "execution_count": null,
      "outputs": []
    },
    {
      "cell_type": "code",
      "metadata": {
        "id": "neural-turner",
        "colab": {
          "referenced_widgets": [
            "b308507e5fd04d9590dfd6131bc0a001",
            "fec38ed9a8204193b940ca81f1241bfa",
            "021e134cb985467c9367cdef7787b55c",
            "3b01cdd512d84f1a84c1c28f1a0318c3",
            "cd94fdabb2b74202bf9b6abd381f5955",
            "2daddbc382624f32a1961f3976675901",
            "1fa7a47631494bb0bc2dfdead8af8675"
          ]
        },
        "outputId": "420c70eb-9fb5-44a9-9c46-66fe3432b300"
      },
      "source": [
        "loss_fn = tf.keras.losses.sparse_categorical_crossentropy\n",
        "acc_fn = tf.keras.metrics.sparse_categorical_accuracy\n",
        "\n",
        "optimizer = tf.keras.optimizers.Adam(learning_rate=5e-4)\n",
        "\n",
        "best_acc = .0\n",
        "patience = 0\n",
        "for epoch in range(10):\n",
        "    train_epoch(model, train_dataset, loss_fn, acc_fn, optimizer)\n",
        "    start_loss, end_loss, start_acc, end_acc = eval_epoch(model, dev_dataset, loss_fn, acc_fn)\n",
        "    print(f'eval {epoch} >> loss: {start_loss:0.4f}, {end_loss:0.4f}, acc: {start_acc:0.4f}, {end_acc:0.4f}')\n",
        "    acc = start_acc + end_acc\n",
        "    if best_acc < acc:\n",
        "        patience = 0\n",
        "        best_acc = acc\n",
        "        model.save_weights(os.path.join(data_dir, \"korquad_bert_none_pretrain.hdf5\"))\n",
        "        print(f'save best model')\n",
        "    else:\n",
        "        patience += 1\n",
        "    if 5 <= patience:\n",
        "        print(f'early stopping')\n",
        "        break"
      ],
      "id": "neural-turner",
      "execution_count": null,
      "outputs": [
        {
          "data": {
            "application/vnd.jupyter.widget-view+json": {
              "model_id": "b308507e5fd04d9590dfd6131bc0a001",
              "version_major": 2,
              "version_minor": 0
            },
            "text/plain": [
              "  0%|          | 0/3749 [00:00<?, ?it/s]"
            ]
          },
          "metadata": {},
          "output_type": "display_data"
        },
        {
          "name": "stdout",
          "output_type": "stream",
          "text": [
            "eval 0 >> loss: 5.9507, 5.9507, acc: 0.0040, 0.0049\n",
            "save best model\n"
          ]
        },
        {
          "data": {
            "application/vnd.jupyter.widget-view+json": {
              "model_id": "fec38ed9a8204193b940ca81f1241bfa",
              "version_major": 2,
              "version_minor": 0
            },
            "text/plain": [
              "  0%|          | 0/3749 [00:00<?, ?it/s]"
            ]
          },
          "metadata": {},
          "output_type": "display_data"
        },
        {
          "name": "stdout",
          "output_type": "stream",
          "text": [
            "eval 1 >> loss: 5.9507, 5.9507, acc: 0.0044, 0.0054\n",
            "save best model\n"
          ]
        },
        {
          "data": {
            "application/vnd.jupyter.widget-view+json": {
              "model_id": "021e134cb985467c9367cdef7787b55c",
              "version_major": 2,
              "version_minor": 0
            },
            "text/plain": [
              "  0%|          | 0/3749 [00:00<?, ?it/s]"
            ]
          },
          "metadata": {},
          "output_type": "display_data"
        },
        {
          "name": "stdout",
          "output_type": "stream",
          "text": [
            "eval 2 >> loss: 5.9507, 5.9507, acc: 0.0033, 0.0007\n"
          ]
        },
        {
          "data": {
            "application/vnd.jupyter.widget-view+json": {
              "model_id": "3b01cdd512d84f1a84c1c28f1a0318c3",
              "version_major": 2,
              "version_minor": 0
            },
            "text/plain": [
              "  0%|          | 0/3749 [00:00<?, ?it/s]"
            ]
          },
          "metadata": {},
          "output_type": "display_data"
        },
        {
          "name": "stdout",
          "output_type": "stream",
          "text": [
            "eval 3 >> loss: 5.9507, 5.9507, acc: 0.0042, 0.0019\n"
          ]
        },
        {
          "data": {
            "application/vnd.jupyter.widget-view+json": {
              "model_id": "cd94fdabb2b74202bf9b6abd381f5955",
              "version_major": 2,
              "version_minor": 0
            },
            "text/plain": [
              "  0%|          | 0/3749 [00:00<?, ?it/s]"
            ]
          },
          "metadata": {},
          "output_type": "display_data"
        },
        {
          "name": "stdout",
          "output_type": "stream",
          "text": [
            "eval 4 >> loss: 5.9507, 5.9507, acc: 0.0032, 0.0012\n"
          ]
        },
        {
          "data": {
            "application/vnd.jupyter.widget-view+json": {
              "model_id": "2daddbc382624f32a1961f3976675901",
              "version_major": 2,
              "version_minor": 0
            },
            "text/plain": [
              "  0%|          | 0/3749 [00:00<?, ?it/s]"
            ]
          },
          "metadata": {},
          "output_type": "display_data"
        },
        {
          "name": "stdout",
          "output_type": "stream",
          "text": [
            "eval 5 >> loss: 5.9507, 5.9507, acc: 0.0011, 0.0011\n"
          ]
        },
        {
          "data": {
            "application/vnd.jupyter.widget-view+json": {
              "model_id": "1fa7a47631494bb0bc2dfdead8af8675",
              "version_major": 2,
              "version_minor": 0
            },
            "text/plain": [
              "  0%|          | 0/3749 [00:00<?, ?it/s]"
            ]
          },
          "metadata": {},
          "output_type": "display_data"
        },
        {
          "name": "stdout",
          "output_type": "stream",
          "text": [
            "eval 6 >> loss: 5.9507, 5.9507, acc: 0.0019, 0.0007\n",
            "early stopping\n"
          ]
        }
      ]
    },
    {
      "cell_type": "markdown",
      "metadata": {
        "id": "WLS-IS8Vza3C"
      },
      "source": [
        "![BERT Model NOT Pretrained Ver..jpg](data:image/jpeg;base64,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)"
      ],
      "id": "WLS-IS8Vza3C"
    },
    {
      "cell_type": "markdown",
      "metadata": {
        "id": "great-robert"
      },
      "source": [
        "# -------------------------------------------------------------------------------"
      ],
      "id": "great-robert"
    },
    {
      "cell_type": "markdown",
      "metadata": {
        "id": "cooked-companion"
      },
      "source": [
        "# Pretrained BERT Model load"
      ],
      "id": "cooked-companion"
    },
    {
      "cell_type": "code",
      "metadata": {
        "colab": {
          "base_uri": "https://localhost:8080/"
        },
        "id": "consecutive-penetration",
        "outputId": "db6669f0-62bf-4d51-b873-97517c41d7c8"
      },
      "source": [
        "checkpoint_file = os.path.join(model_dir, 'bert_pretrain_32000.hdf5')\n",
        "\n",
        "model = BERT4KorQuAD(config)\n",
        "\n",
        "if os.path.exists(checkpoint_file):\n",
        "    #  pretrained model 을 로드하기 위해 먼저 모델이 생성되어 있어야 한다.\n",
        "    enc_tokens = np.random.randint(0, len(vocab), (4, 10))\n",
        "    segments = np.random.randint(0, 2, (4, 10))\n",
        "    model(enc_tokens, segments)\n",
        "    \n",
        "    # checkpoint 파일로부터 필요한 layer를 불러온다. \n",
        "    model.load_weights(os.path.join(model_dir, \"bert_pretrain_32000.hdf5\"), by_name=True)\n",
        "\n",
        "    model.summary()\n",
        "else:\n",
        "    print('NO Pretrained Model')"
      ],
      "id": "consecutive-penetration",
      "execution_count": 47,
      "outputs": [
        {
          "output_type": "stream",
          "name": "stdout",
          "text": [
            "Model: \"BERT4KorQuAD\"\n",
            "_________________________________________________________________\n",
            "Layer (type)                 Output Shape              Param #   \n",
            "=================================================================\n",
            "bert (BERT)                  multiple                  29202944  \n",
            "_________________________________________________________________\n",
            "dense_73 (Dense)             multiple                  1026      \n",
            "=================================================================\n",
            "Total params: 29,203,970\n",
            "Trainable params: 29,203,970\n",
            "Non-trainable params: 0\n",
            "_________________________________________________________________\n"
          ]
        }
      ]
    },
    {
      "cell_type": "markdown",
      "metadata": {
        "id": "legitimate-native"
      },
      "source": [
        "# STEP 2. pretrained model finetune 하기"
      ],
      "id": "legitimate-native"
    },
    {
      "cell_type": "markdown",
      "metadata": {
        "id": "informal-stephen"
      },
      "source": [
        "### KorQuAD용으로 finetune하기 위한 모델 클래스"
      ],
      "id": "informal-stephen"
    },
    {
      "cell_type": "code",
      "metadata": {
        "id": "iraqi-strain"
      },
      "source": [
        "class BERT4KorQuAD(tf.keras.Model):\n",
        "    def __init__(self, config):\n",
        "        super().__init__(name='BERT4KorQuAD')\n",
        "\n",
        "        self.bert = BERT(config)\n",
        "        self.dense = tf.keras.layers.Dense(2)\n",
        "    \n",
        "    def call(self, enc_tokens, segments):\n",
        "        logits_cls, logits_lm = self.bert(enc_tokens, segments)\n",
        "\n",
        "        hidden = self.dense(logits_lm) # (bs, n_seq, 2)\n",
        "        start_logits, end_logits = tf.split(hidden, 2, axis=-1)  # (bs, n_seq, 1), (bs, n_seq, 1)\n",
        "\n",
        "        start_logits = tf.squeeze(start_logits, axis=-1)\n",
        "        start_outputs = tf.keras.activations.linear(start_logits)\n",
        "\n",
        "        end_logits = tf.squeeze(end_logits, axis=-1)\n",
        "        end_outputs = tf.keras.activations.linear(end_logits)\n",
        "\n",
        "        return start_outputs, end_outputs"
      ],
      "id": "iraqi-strain",
      "execution_count": 48,
      "outputs": []
    },
    {
      "cell_type": "markdown",
      "metadata": {
        "id": "copyrighted-example"
      },
      "source": [
        "### 모델 사이즈 조정"
      ],
      "id": "copyrighted-example"
    },
    {
      "cell_type": "code",
      "metadata": {
        "colab": {
          "base_uri": "https://localhost:8080/"
        },
        "id": "continuous-facing",
        "outputId": "2c9849ac-ba99-4514-edbe-9843c9a312e1"
      },
      "source": [
        "config = Config({\"d_model\": 512, \"n_head\": 8, \"d_head\": 64, \"dropout\": 0.1, \"d_ff\": 1024, \"layernorm_epsilon\": 0.001, \"n_layer\": 6, \"n_seq\": 384, \"n_vocab\": 0, \"i_pad\": 0})\n",
        "config.n_vocab = len(vocab)\n",
        "config.i_pad = vocab.pad_id()\n",
        "config"
      ],
      "id": "continuous-facing",
      "execution_count": 49,
      "outputs": [
        {
          "output_type": "execute_result",
          "data": {
            "text/plain": [
              "{'d_ff': 1024,\n",
              " 'd_head': 64,\n",
              " 'd_model': 512,\n",
              " 'dropout': 0.1,\n",
              " 'i_pad': 0,\n",
              " 'layernorm_epsilon': 0.001,\n",
              " 'n_head': 8,\n",
              " 'n_layer': 6,\n",
              " 'n_seq': 384,\n",
              " 'n_vocab': 32007}"
            ]
          },
          "metadata": {},
          "execution_count": 49
        }
      ]
    },
    {
      "cell_type": "code",
      "metadata": {
        "id": "official-final"
      },
      "source": [
        "bert_batch_size = 16\n",
        "\n",
        "train_dataset = tf.data.Dataset.from_tensor_slices((train_inputs, train_labels)).shuffle(10000).batch(bert_batch_size)\n",
        "dev_dataset = tf.data.Dataset.from_tensor_slices((dev_inputs, dev_labels)).batch(bert_batch_size)"
      ],
      "id": "official-final",
      "execution_count": 50,
      "outputs": []
    },
    {
      "cell_type": "code",
      "metadata": {
        "id": "applicable-nicholas"
      },
      "source": [
        "def train_epoch(model, dataset, loss_fn, acc_fn, optimizer):\n",
        "    metric_start_loss = tf.keras.metrics.Mean(name='start_loss')\n",
        "    metric_end_loss = tf.keras.metrics.Mean(name='end_loss')\n",
        "    metric_start_acc = tf.keras.metrics.Mean(name='start_acc')\n",
        "    metric_end_acc = tf.keras.metrics.Mean(name='end_acc')\n",
        "\n",
        "    p_bar = tqdm(dataset)\n",
        "    for batch, ((enc_tokens, segments), (start_labels, end_labels)) in enumerate(p_bar):\n",
        "        with tf.GradientTape() as tape:\n",
        "            start_outputs, end_outputs = model(enc_tokens, segments)\n",
        "\n",
        "            start_loss = loss_fn(start_labels, start_outputs)\n",
        "            end_loss = loss_fn(end_labels, end_outputs)\n",
        "            loss = start_loss + end_loss\n",
        "\n",
        "            start_acc = acc_fn(start_labels, start_outputs)\n",
        "            end_acc = acc_fn(end_labels, end_outputs)\n",
        "        gradients = tape.gradient(loss, model.trainable_variables)\n",
        "        optimizer.apply_gradients(zip(gradients, model.trainable_variables))\n",
        "\n",
        "        metric_start_loss(start_loss)\n",
        "        metric_end_loss(end_loss)\n",
        "        metric_start_acc(start_acc)\n",
        "        metric_end_acc(end_acc)\n",
        "        if batch % 10 == 9:\n",
        "            p_bar.set_description(f'loss: {metric_start_loss.result():0.4f}, {metric_end_loss.result():0.4f}, acc: {metric_start_acc.result():0.4f}, {metric_end_acc.result():0.4f}')\n",
        "    p_bar.close()\n",
        "\n",
        "    return metric_start_loss.result(), metric_end_loss.result(), metric_start_acc.result(), metric_end_acc.result()"
      ],
      "id": "applicable-nicholas",
      "execution_count": 51,
      "outputs": []
    },
    {
      "cell_type": "code",
      "metadata": {
        "id": "reduced-amsterdam"
      },
      "source": [
        "def eval_epoch(model, dataset, loss_fn, acc_fn):\n",
        "    metric_start_loss = tf.keras.metrics.Mean(name='start_loss')\n",
        "    metric_end_loss = tf.keras.metrics.Mean(name='end_loss')\n",
        "    metric_start_acc = tf.keras.metrics.Mean(name='start_acc')\n",
        "    metric_end_acc = tf.keras.metrics.Mean(name='end_acc')\n",
        "\n",
        "    for batch, ((enc_tokens, segments), (start_labels, end_labels)) in enumerate(dataset):\n",
        "        start_outputs, end_outputs = model(enc_tokens, segments)\n",
        "\n",
        "        start_loss = loss_fn(start_labels, start_outputs)\n",
        "        end_loss = loss_fn(end_labels, end_outputs)\n",
        "\n",
        "        start_acc = acc_fn(start_labels, start_outputs)\n",
        "        end_acc = acc_fn(end_labels, end_outputs)\n",
        "\n",
        "        metric_start_loss(start_loss)\n",
        "        metric_end_loss(end_loss)\n",
        "        metric_start_acc(start_acc)\n",
        "        metric_end_acc(end_acc)\n",
        "\n",
        "    return metric_start_loss.result(), metric_end_loss.result(), metric_start_acc.result(), metric_end_acc.result()"
      ],
      "id": "reduced-amsterdam",
      "execution_count": 52,
      "outputs": []
    },
    {
      "cell_type": "code",
      "metadata": {
        "colab": {
          "base_uri": "https://localhost:8080/",
          "height": 557,
          "referenced_widgets": [
            "e5b18c2199aa4324876bfbf0cbe4a67e",
            "f57828a41a364da8b8d0836d6f0e4f34",
            "53968bb9c16b41a89b422661c2dff8b0",
            "38087dcd653e4f29a3eb01bf2ba68593",
            "5b1873adde1e46148a7c8ec1b6dd0381",
            "3c8ff524d98c4b90b37741b220d24b08",
            "e5a98201077e4969a523cf9878a106f2",
            "48b8ccb008bd4082949e3493ce4da91f",
            "bd8973dbf3954071b99e4ef68a881b49",
            "34bf1229dcb24b61971ac7e6f8a1ffff",
            "3501ba1aa65744ec989a9928619ba6ce",
            "e04a5902813b4b11ab40721a0886cb29",
            "a381362dfe054ab8bf2f7135c22c189f",
            "44718fe7a510495cb7ff22de0d6b209e",
            "f34b761ea14d462e8d0116504c4f2432",
            "8a84e55e993f4293b1c42cbf3edd1957",
            "690b480592d1452ab2d3e70745510c53",
            "db932514039a4aa98778080e6a8c62e6",
            "7d5afd15c9f544b8b142cda2acb18ebb",
            "eaeae34adba1411e9983a863e0889162",
            "0185b5fde30643a48024e59def5063d6",
            "20c338c238594fb9bded79c4f2118a8a",
            "09e14a5371444a5cbd9084775cd3ccc2",
            "41c56782879e4bd892782da0bfc50dd7",
            "8b30614d523449469aaa71a223508bb4",
            "76c7404a9fa849a5a9417a0d8b61d104",
            "a129e197082d4b4fbb6cd89f90157e57",
            "730b45faec614bbeaef65693277839c0",
            "77973b4d000244ccb436b47a1c0a305e",
            "d3be6acf85094cdd9e7c3a550b7febea",
            "dff0453210b34d51a9499d59d10e74ff",
            "dcc16fe7b1c24039a4c2228e7e44524b",
            "77e784df45704d94bf989a07e3c512d1",
            "fd8d86020bed49ad9760d61304292d71",
            "26cc4df24eed48f895595e067e5f0803",
            "14b6bf529ee14e05a5f5bbd307246474",
            "4c93563a13d64afa9e68b5cbe2877bb2",
            "9d3a08697bd44c628ef6f12e1f3b66a1",
            "fae3a1303f7a42409b7cc2702e420ee4",
            "a60d2e57a8e2420ab074675b1af7adde",
            "6c3b8854798d4608ac78eafe6fa98961",
            "bfd14965d1a5467d86af93cf1d021ff9",
            "18e59006fd334ef888c66deee6f8ce0d",
            "74ec6b1eb3814b7aa5c8055e0fad5021",
            "3a4db62d155544949b2a72e8244e63d5",
            "2969cc98c3144279b28ddea2f1f6974f",
            "87894d2d25d04174899fec96f2468c3e",
            "323e56a7550c48438a977605e70fde47",
            "5c416b63410d4d9993bf0afe0267da5d",
            "e1b8ecf8535c486e8d0e01167f35123a",
            "da327d760f1f4c5bbd5a004bc416a6a2",
            "5f1adf5322794b26a098c212c6d0e0bf",
            "2c514777dae646188ca562f8fc0cdd40",
            "38e4996a694b4e5f8305a6ceea6f8ebd",
            "ab1b4c8d320f4a26b9e4e6cc55dddad0",
            "04b181ed2dba4c5fa04457d6cce6c4f6",
            "30b061f8ba4f44799d96afd4c7032cb9",
            "8e0da9b754d042ebb04c90d22f2e7df2",
            "829efdb6b9134990aae4b8b94c1bef01",
            "596d86975cc4467e884a68a1ab4766e3",
            "e096b37576f94ba99ced5751bf5b4bb2",
            "45cc1026969242a0ba6dc8a0d7581241",
            "254a75a45a1840d2bd35d86ba537ab8e",
            "24c3727e9a744a72b6abddd324b62cb8",
            "67b97c034b484a109fdb9fa3f3898a6e",
            "0eea56fe2ba84d928c3a5b09c05299d0",
            "87728528e10540b785f1fe1adb6abd38",
            "038971e6671349f187f22e41cfb950c8",
            "23ecec388478466f891aa54482436d7d",
            "202c4916d4064deca0dba435276b92b9",
            "f0ddfa502acb4e39845c394b7c5efb8d",
            "c26c6613e60041a18514425d26f1446a",
            "013c500a8a454f97bcf8048c7f1678fc",
            "40bd2a24f3644f468990c37755493132",
            "24e4b44377f74cd2aebf3a59a78c5ea8",
            "7f8b867e882b4416a640ae12453833fa",
            "cb3d4350d77840ccb8bc1e5ede846153",
            "cc221aec32f04d11b420b1ab1d9a7a34",
            "bdb63bd5c3874dc2aa187c221ffe2646",
            "98000498e38d44d2b180f922724bb491",
            "55ad144360004840849455fa1331163d",
            "b94d6e0714c7468c8f09d4159d64198d",
            "fa2711af1df3465593abffbe4b05411f",
            "85473769b19a41e8af500a818788a212",
            "83ef28a7af0b48728629cbe09ff87ae8",
            "efae922c2e3f4dd78ad68870f1f18e6d",
            "221148b2082c437f972702912e52c5c4",
            "71f45eddf5c946d7bc33729139efa4da",
            "7a191881ee874d1f8c229787fac271f3",
            "1d1a085a0e2042879b366746490e593d",
            "1db47019d1e744efbe4c1c9f8f7cd2e2",
            "c56825e736df4dc2a19acde4d4fc45ac",
            "ccb9e8026954411595a1d781d67bc9c2",
            "d6c011b6044f47d9b05628bdfae47bc3",
            "757f6de08dc247a7997d093886e2607c",
            "04570243ff044f79bb459721d4b36571",
            "c5fbce7bafae4dde9fb88fb2f4212b11",
            "a1ebf99833534c078544865d981dbfce",
            "8a021dc889514dcc8450eeba5d3731b5"
          ]
        },
        "id": "hazardous-fever",
        "outputId": "c929eb73-ad30-4b8f-d6df-28263bd1d847"
      },
      "source": [
        "loss_fn = tf.keras.losses.sparse_categorical_crossentropy\n",
        "acc_fn = tf.keras.metrics.sparse_categorical_accuracy\n",
        "\n",
        "optimizer = tf.keras.optimizers.Adam(learning_rate=5e-4)\n",
        "\n",
        "best_acc = .0\n",
        "patience = 0\n",
        "for epoch in range(10):\n",
        "    train_epoch(model, train_dataset, loss_fn, acc_fn, optimizer)\n",
        "    start_loss, end_loss, start_acc, end_acc = eval_epoch(model, dev_dataset, loss_fn, acc_fn)\n",
        "    print(f'eval {epoch} >> loss: {start_loss:0.4f}, {end_loss:0.4f}, acc: {start_acc:0.4f}, {end_acc:0.4f}')\n",
        "    acc = start_acc + end_acc\n",
        "    if best_acc < acc:\n",
        "        patience = 0\n",
        "        best_acc = acc\n",
        "        model.save_weights(os.path.join(data_dir, \"korquad_bert_none_pretrain.hdf5\"))\n",
        "        print(f'save best model')\n",
        "    else:\n",
        "        patience += 1\n",
        "    if 5 <= patience:\n",
        "        print(f'early stopping')\n",
        "        break"
      ],
      "id": "hazardous-fever",
      "execution_count": 53,
      "outputs": [
        {
          "output_type": "display_data",
          "data": {
            "application/vnd.jupyter.widget-view+json": {
              "model_id": "e5b18c2199aa4324876bfbf0cbe4a67e",
              "version_minor": 0,
              "version_major": 2
            },
            "text/plain": [
              "  0%|          | 0/3749 [00:00<?, ?it/s]"
            ]
          },
          "metadata": {}
        },
        {
          "output_type": "stream",
          "name": "stdout",
          "text": [
            "eval 0 >> loss: 2.0658, 2.4230, acc: 0.4779, 0.4285\n",
            "save best model\n"
          ]
        },
        {
          "output_type": "display_data",
          "data": {
            "application/vnd.jupyter.widget-view+json": {
              "model_id": "e04a5902813b4b11ab40721a0886cb29",
              "version_minor": 0,
              "version_major": 2
            },
            "text/plain": [
              "  0%|          | 0/3749 [00:00<?, ?it/s]"
            ]
          },
          "metadata": {}
        },
        {
          "output_type": "stream",
          "name": "stdout",
          "text": [
            "eval 1 >> loss: 1.8207, 2.1478, acc: 0.5370, 0.4789\n",
            "save best model\n"
          ]
        },
        {
          "output_type": "display_data",
          "data": {
            "application/vnd.jupyter.widget-view+json": {
              "model_id": "09e14a5371444a5cbd9084775cd3ccc2",
              "version_minor": 0,
              "version_major": 2
            },
            "text/plain": [
              "  0%|          | 0/3749 [00:00<?, ?it/s]"
            ]
          },
          "metadata": {}
        },
        {
          "output_type": "stream",
          "name": "stdout",
          "text": [
            "eval 2 >> loss: 1.8620, 2.1651, acc: 0.5381, 0.4828\n",
            "save best model\n"
          ]
        },
        {
          "output_type": "display_data",
          "data": {
            "application/vnd.jupyter.widget-view+json": {
              "model_id": "fd8d86020bed49ad9760d61304292d71",
              "version_minor": 0,
              "version_major": 2
            },
            "text/plain": [
              "  0%|          | 0/3749 [00:00<?, ?it/s]"
            ]
          },
          "metadata": {}
        },
        {
          "output_type": "stream",
          "name": "stdout",
          "text": [
            "eval 3 >> loss: 2.0694, 2.3816, acc: 0.5342, 0.4889\n",
            "save best model\n"
          ]
        },
        {
          "output_type": "display_data",
          "data": {
            "application/vnd.jupyter.widget-view+json": {
              "model_id": "3a4db62d155544949b2a72e8244e63d5",
              "version_minor": 0,
              "version_major": 2
            },
            "text/plain": [
              "  0%|          | 0/3749 [00:00<?, ?it/s]"
            ]
          },
          "metadata": {}
        },
        {
          "output_type": "stream",
          "name": "stdout",
          "text": [
            "eval 4 >> loss: 2.3266, 2.6582, acc: 0.5272, 0.4807\n"
          ]
        },
        {
          "output_type": "display_data",
          "data": {
            "application/vnd.jupyter.widget-view+json": {
              "model_id": "04b181ed2dba4c5fa04457d6cce6c4f6",
              "version_minor": 0,
              "version_major": 2
            },
            "text/plain": [
              "  0%|          | 0/3749 [00:00<?, ?it/s]"
            ]
          },
          "metadata": {}
        },
        {
          "output_type": "stream",
          "name": "stdout",
          "text": [
            "eval 5 >> loss: 2.3444, 2.7201, acc: 0.5260, 0.4665\n"
          ]
        },
        {
          "output_type": "display_data",
          "data": {
            "application/vnd.jupyter.widget-view+json": {
              "model_id": "87728528e10540b785f1fe1adb6abd38",
              "version_minor": 0,
              "version_major": 2
            },
            "text/plain": [
              "  0%|          | 0/3749 [00:00<?, ?it/s]"
            ]
          },
          "metadata": {}
        },
        {
          "output_type": "stream",
          "name": "stdout",
          "text": [
            "eval 6 >> loss: 2.4931, 3.0945, acc: 0.5255, 0.4688\n"
          ]
        },
        {
          "output_type": "display_data",
          "data": {
            "application/vnd.jupyter.widget-view+json": {
              "model_id": "cc221aec32f04d11b420b1ab1d9a7a34",
              "version_minor": 0,
              "version_major": 2
            },
            "text/plain": [
              "  0%|          | 0/3749 [00:00<?, ?it/s]"
            ]
          },
          "metadata": {}
        },
        {
          "output_type": "stream",
          "name": "stdout",
          "text": [
            "eval 7 >> loss: 2.7197, 3.0123, acc: 0.5200, 0.4652\n"
          ]
        },
        {
          "output_type": "display_data",
          "data": {
            "application/vnd.jupyter.widget-view+json": {
              "model_id": "7a191881ee874d1f8c229787fac271f3",
              "version_minor": 0,
              "version_major": 2
            },
            "text/plain": [
              "  0%|          | 0/3749 [00:00<?, ?it/s]"
            ]
          },
          "metadata": {}
        },
        {
          "output_type": "stream",
          "name": "stdout",
          "text": [
            "eval 8 >> loss: 2.7100, 3.1582, acc: 0.5174, 0.4673\n",
            "early stopping\n"
          ]
        }
      ]
    },
    {
      "cell_type": "markdown",
      "metadata": {
        "id": "rIkZVMvt0yN9"
      },
      "source": [
        "![BERT Model Pretrained Ver..jpg](data:image/jpeg;base64,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)"
      ],
      "id": "rIkZVMvt0yN9"
    },
    {
      "cell_type": "markdown",
      "metadata": {
        "id": "coupled-loading"
      },
      "source": [
        "# STEP 3. Inference 수행하기"
      ],
      "id": "coupled-loading"
    },
    {
      "cell_type": "code",
      "metadata": {
        "id": "graphic-treatment"
      },
      "source": [
        "def do_predict(model, question, context):\n",
        "    \"\"\"\n",
        "    입력에 대한 답변 생성하는 함수\n",
        "    :param model: model\n",
        "    :param question: 입력 문자열\n",
        "    :param context: 입력 문자열\n",
        "    \"\"\"\n",
        "    q_tokens = vocab.encode_as_pieces(question)[:args.max_query_length]\n",
        "    c_tokens = vocab.encode_as_pieces(context)[:args.max_seq_length - len(q_tokens) - 3]\n",
        "    tokens = ['[CLS]'] + q_tokens + ['[SEP]'] + c_tokens + ['[SEP]']\n",
        "    token_ids = [vocab.piece_to_id(token) for token in tokens]\n",
        "    segments = [0] * (len(q_tokens) + 2) + [1] * (len(c_tokens) + 1)\n",
        "\n",
        "    y_start, y_end = model(np.array([token_ids]), np.array([segments]))\n",
        "    # print(y_start, y_end)\n",
        "    y_start_idx = K.argmax(y_start, axis=-1)[0].numpy()\n",
        "    y_end_idx = K.argmax(y_end, axis=-1)[0].numpy()\n",
        "    answer_tokens = tokens[y_start_idx:y_end_idx + 1]\n",
        "\n",
        "    return vocab.decode_pieces(answer_tokens)"
      ],
      "id": "graphic-treatment",
      "execution_count": 54,
      "outputs": []
    },
    {
      "cell_type": "code",
      "metadata": {
        "colab": {
          "base_uri": "https://localhost:8080/"
        },
        "id": "fiscal-information",
        "outputId": "7250a4b4-7289-40d1-9520-c92a6253f93f"
      },
      "source": [
        "dev_json = os.path.join(data_dir, \"korquad_dev.json\")\n",
        "\n",
        "with open(dev_json) as f:\n",
        "    for i, line in enumerate(f):\n",
        "        data = json.loads(line)\n",
        "        question = vocab.decode_pieces(data['question'])\n",
        "        context = vocab.decode_pieces(data['context'])\n",
        "        answer = data['answer']\n",
        "        answer_predict = do_predict(model, question, context)\n",
        "        if answer in answer_predict:\n",
        "            print(i)\n",
        "            print(\"질문 : \", question)\n",
        "            print(\"지문 : \", context)\n",
        "            print(\"정답 : \", answer)\n",
        "            print(\"예측 : \", answer_predict, \"\\n\")\n",
        "        if 100 < i:\n",
        "            break"
      ],
      "id": "fiscal-information",
      "execution_count": 55,
      "outputs": [
        {
          "output_type": "stream",
          "name": "stdout",
          "text": [
            "0\n",
            "질문 :  임종석이 여의도 농민 폭력 시위를 주도한 혐의로 지명수배 된 날은?\n",
            "지문 :  1989년 2월 15일 여의도 농민 폭력 시위를 주도한 혐의(폭력행위등처벌에관한법률위반)으로 지명수배되었다. 1989년 3월 12일 서울지방검찰청 공안부는 임종석의 사전구속영장을 발부받았다. 같은 해 6월 30일 평양축전에 임수경을 대표로 파견하여 국가보안법위반 혐의가 추가되었다. 경찰은 12월 18일~20일 사이 서울 경희대학교에서 임종석이 성명 발표를 추진하고 있다는 첩보를 입수했고, 12월 18일 오전 7시 40분 경 가스총과 전자봉으로 무장한 특공조 및 대공과 직원 12명 등 22명의 사복 경찰을 승용차 8대에 나누어 경희대학교에 투입했다. 1989년 12월 18일 오전 8시 15분 경 서울청량리경찰서는 호위 학생 5명과 함께 경희대학교 학생회관 건물 계단을 내려오는 임종석을 발견, 검거해 구속을 집행했다. 임종석은 청량리경찰서에서 약 1시간 동안 조사를 받은 뒤 오전 9시 50분 경 서울 장안동의 서울지방경찰청 공안분실로 인계되었다.\n",
            "정답 :  1989년 2월 15일\n",
            "예측 :  1989년 2월 15일 \n",
            "\n",
            "1\n",
            "질문 :  1989년 6월 30일 평양축전에 대표로 파견 된 인물은?\n",
            "지문 :  1989년 2월 15일 여의도 농민 폭력 시위를 주도한 혐의(폭력행위등처벌에관한법률위반)으로 지명수배되었다. 1989년 3월 12일 서울지방검찰청 공안부는 임종석의 사전구속영장을 발부받았다. 같은 해 6월 30일 평양축전에 임수경을 대표로 파견하여 국가보안법위반 혐의가 추가되었다. 경찰은 12월 18일~20일 사이 서울 경희대학교에서 임종석이 성명 발표를 추진하고 있다는 첩보를 입수했고, 12월 18일 오전 7시 40분 경 가스총과 전자봉으로 무장한 특공조 및 대공과 직원 12명 등 22명의 사복 경찰을 승용차 8대에 나누어 경희대학교에 투입했다. 1989년 12월 18일 오전 8시 15분 경 서울청량리경찰서는 호위 학생 5명과 함께 경희대학교 학생회관 건물 계단을 내려오는 임종석을 발견, 검거해 구속을 집행했다. 임종석은 청량리경찰서에서 약 1시간 동안 조사를 받은 뒤 오전 9시 50분 경 서울 장안동의 서울지방경찰청 공안분실로 인계되었다.\n",
            "정답 :  임수경\n",
            "예측 :  임수경을 대표로 파견하여 국가보안법위반 혐의 \n",
            "\n",
            "2\n",
            "질문 :  임종석이 여의도 농민 폭력 시위를 주도한 혐의로 지명수배된 연도는?\n",
            "지문 :  1989년 2월 15일 여의도 농민 폭력 시위를 주도한 혐의(폭력행위등처벌에관한법률위반)으로 지명수배되었다. 1989년 3월 12일 서울지방검찰청 공안부는 임종석의 사전구속영장을 발부받았다. 같은 해 6월 30일 평양축전에 임수경을 대표로 파견하여 국가보안법위반 혐의가 추가되었다. 경찰은 12월 18일~20일 사이 서울 경희대학교에서 임종석이 성명 발표를 추진하고 있다는 첩보를 입수했고, 12월 18일 오전 7시 40분 경 가스총과 전자봉으로 무장한 특공조 및 대공과 직원 12명 등 22명의 사복 경찰을 승용차 8대에 나누어 경희대학교에 투입했다. 1989년 12월 18일 오전 8시 15분 경 서울청량리경찰서는 호위 학생 5명과 함께 경희대학교 학생회관 건물 계단을 내려오는 임종석을 발견, 검거해 구속을 집행했다. 임종석은 청량리경찰서에서 약 1시간 동안 조사를 받은 뒤 오전 9시 50분 경 서울 장안동의 서울지방경찰청 공안분실로 인계되었다.\n",
            "정답 :  1989년\n",
            "예측 :  1989년 \n",
            "\n",
            "6\n",
            "질문 :  임종석이 1989년 2월 15일에 지명수배 받은 혐의는 어떤 시위를 주도했다는 것인가?\n",
            "지문 :  1989년 2월 15일 여의도 농민 폭력 시위를 주도한 혐의(폭력행위등처벌에관한법률위반)으로 지명수배되었다. 1989년 3월 12일 서울지방검찰청 공안부는 임종석의 사전구속영장을 발부받았다. 같은 해 6월 30일 평양축전에 임수경을 대표로 파견하여 국가보안법위반 혐의가 추가되었다. 경찰은 12월 18일~20일 사이 서울 경희대학교에서 임종석이 성명 발표를 추진하고 있다는 첩보를 입수했고, 12월 18일 오전 7시 40분 경 가스총과 전자봉으로 무장한 특공조 및 대공과 직원 12명 등 22명의 사복 경찰을 승용차 8대에 나누어 경희대학교에 투입했다. 1989년 12월 18일 오전 8시 15분 경 서울청량리경찰서는 호위 학생 5명과 함께 경희대학교 학생회관 건물 계단을 내려오는 임종석을 발견, 검거해 구속을 집행했다. 임종석은 청량리경찰서에서 약 1시간 동안 조사를 받은 뒤 오전 9시 50분 경 서울 장안동의 서울지방경찰청 공안분실로 인계되었다.\n",
            "정답 :  여의도 농민 폭력 시위\n",
            "예측 :  여의도 농민 폭력 시위를 주도한 혐의 \n",
            "\n",
            "7\n",
            "질문 :  정부의 헌법개정안 준비 과정에 대해서 청와대 비서실이 아니라 국무회의 중심으로 이뤄졌어야 했다고 지적한 원로 헌법학자는?\n",
            "지문 :  \"내각과 장관들이 소외되고 대통령비서실의 권한이 너무 크다\", \"행보가 비서 본연의 역할을 벗어난다\"는 의견이 제기되었다. 대표적인 예가 10차 개헌안 발표이다. 원로 헌법학자인 허영 경희대 석좌교수는 정부의 헌법개정안 준비 과정에 대해 \"청와대 비서실이 아닌 국무회의 중심으로 이뤄졌어야 했다\"고 지적했다. '국무회의의 심의를 거쳐야 한다'(제89조)는 헌법 규정에 충실하지 않았다는 것이다. 그러면서 \"법무부 장관을 제쳐놓고 민정수석이 개정안을 설명하는 게 이해가 안 된다\"고 지적했다. 민정수석은 국회의원에 대해 책임지는 법무부 장관도 아니고, 국민에 대해 책임지는 사람도 아니기 때문에 정당성이 없고, 단지 대통령의 신임이 있을 뿐이라는 것이다. 또한 국무총리 선출 방식에 대한 기자의 질문에 \"문 대통령도 취임 전에 국무총리에게 실질적 권한을 주겠다고 했지만 그러지 못하고 있다. 대통령비서실장만도 못한 권한을 행사하고 있다.\"고 답변했다.\n",
            "정답 :  허영\n",
            "예측 :  허영 경희대 석좌 \n",
            "\n",
            "9\n",
            "질문 :  국무회의의 심의를 거쳐야 한다는 헌법 제 몇 조의 내용인가?\n",
            "지문 :  \"내각과 장관들이 소외되고 대통령비서실의 권한이 너무 크다\", \"행보가 비서 본연의 역할을 벗어난다\"는 의견이 제기되었다. 대표적인 예가 10차 개헌안 발표이다. 원로 헌법학자인 허영 경희대 석좌교수는 정부의 헌법개정안 준비 과정에 대해 \"청와대 비서실이 아닌 국무회의 중심으로 이뤄졌어야 했다\"고 지적했다. '국무회의의 심의를 거쳐야 한다'(제89조)는 헌법 규정에 충실하지 않았다는 것이다. 그러면서 \"법무부 장관을 제쳐놓고 민정수석이 개정안을 설명하는 게 이해가 안 된다\"고 지적했다. 민정수석은 국회의원에 대해 책임지는 법무부 장관도 아니고, 국민에 대해 책임지는 사람도 아니기 때문에 정당성이 없고, 단지 대통령의 신임이 있을 뿐이라는 것이다. 또한 국무총리 선출 방식에 대한 기자의 질문에 \"문 대통령도 취임 전에 국무총리에게 실질적 권한을 주겠다고 했지만 그러지 못하고 있다. 대통령비서실장만도 못한 권한을 행사하고 있다.\"고 답변했다.\n",
            "정답 :  제89조\n",
            "예측 :  한다'(제89조)는 \n",
            "\n",
            "17\n",
            "질문 :  알렉산더 헤이그가 로널드 레이건 대통령 밑에서 맡은 직책은 무엇이었나?\n",
            "지문 :  알렉산더 메이그스 헤이그 2세(영어: Alexander Meigs Haig, Jr., 1924년 12월 2일 ~ 2010년 2월 20일)는 미국의 국무 장관을 지낸 미국의 군인, 관료 및 정치인이다. 로널드 레이건 대통령 밑에서 국무장관을 지냈으며, 리처드 닉슨과 제럴드 포드 대통령 밑에서 백악관 비서실장을 지냈다. 또한 그는 미국 군대에서 2번째로 높은 직위인 미국 육군 부참모 총장과 나토 및 미국 군대의 유럽연합군 최고사령관이었다. 한국 전쟁 시절 더글러스 맥아더 유엔군 사령관의 참모로 직접 참전하였으며, 로널드 레이건 정부 출범당시 초대 국무장관직을 맡아 1980년대 대한민국과 미국의 관계를 조율해 왔다. 저서로 회고록 《경고:현실주의, 레이건과 외교 정책》(1984년 발간)이 있다.\n",
            "정답 :  국무장관\n",
            "예측 :  국무장관 \n",
            "\n",
            "20\n",
            "질문 :  알렉산더 헤이그가 미국 육군사관학교로 임명받은 해는 언제인가?\n",
            "지문 :  노터데임 대학교에서 2년간 합리적으로 심각한 공부를 한 후 헤이그는 1944년 미국 육군사관학교로 임명을 획득하여 자신의 어린 시절을 군사 경력의 야망으로 알아챘다. 그 경력은 헤이그의 학문적 경연이 암시하려고 한것보다 더욱 극적이었으며 그는 1947년 310의 동기병에서 217번째 사관으로서 졸업하였다. 22세의 소위로 헤이그는 처음에 캔자스 주 포트라일리에서 정통 제병 연합부대로, 그러고나서 켄터키 주 포트녹스에 있는 기갑 훈련소로 갔다. 그후에 그는 제1 기병 사단으로 선임되고 그러고나서 일본에서 점령군의 임무와 기력이 없는 훈련을 하였다. 그는 1950년 5월 한번 자신의 사령관 알론조 폭스 장군의 딸 퍼트리샤 앤토이넷 폭스와 결혼하여 슬하 3명의 자식을 두었다.\n",
            "정답 :  1944년\n",
            "예측 :  1944년 \n",
            "\n",
            "21\n",
            "질문 :  알렉산더 헤이그는 퍼트리샤 앤토이넷 폭스와 결혼해 몇 명의 자녀를 두었는가?\n",
            "지문 :  노터데임 대학교에서 2년간 합리적으로 심각한 공부를 한 후 헤이그는 1944년 미국 육군사관학교로 임명을 획득하여 자신의 어린 시절을 군사 경력의 야망으로 알아챘다. 그 경력은 헤이그의 학문적 경연이 암시하려고 한것보다 더욱 극적이었으며 그는 1947년 310의 동기병에서 217번째 사관으로서 졸업하였다. 22세의 소위로 헤이그는 처음에 캔자스 주 포트라일리에서 정통 제병 연합부대로, 그러고나서 켄터키 주 포트녹스에 있는 기갑 훈련소로 갔다. 그후에 그는 제1 기병 사단으로 선임되고 그러고나서 일본에서 점령군의 임무와 기력이 없는 훈련을 하였다. 그는 1950년 5월 한번 자신의 사령관 알론조 폭스 장군의 딸 퍼트리샤 앤토이넷 폭스와 결혼하여 슬하 3명의 자식을 두었다.\n",
            "정답 :  3명\n",
            "예측 :  3명의 \n",
            "\n",
            "27\n",
            "질문 :  헤이그가 군에서 퇴역한 해는 언제인가?\n",
            "지문 :  헤이그는 닉슨 대통령이 그를 사성 장군과 육군 부참모로 진급시킬 때 집중 광선과 논쟁으로 들어갔다. 헤이그를 군사의 최상으로 밀어넣은 닉슨의 행동은 대통령의 남자들을 다양한 연방 대리법에서 권한의 직우들로 놓은 노력과 함께 일치였다. 하지만 그는 곧 백악관으로 돌아가 1973년부터 1974년까지 대통령 특별 보좌관을 지냈다. 워터게이트 사건이 일어난지 한달 후, 헤이그는 포위된 닉슨 대통령을 위한 치명적 역할을 하였다. 그일은 8월 닉슨의 사임과 제럴드 포드의 대통령으로 계승으로 이끈 협상들에서 헤이그가 수단이었던 우연이 아니었다. 곧 후에 헤이그는 미국 유럽 연합군 최고사령부의 최고 사령관으로 임명되었다. 그는 나토에서 다음 5년을 보내고 1979년 군에서 퇴역하여 미국 기술 주식 회사의 우두머리가 되었다.\n",
            "정답 :  1979년\n",
            "예측 :  1979년 \n",
            "\n",
            "30\n",
            "질문 :  헤이그가 군에서 퇴역한 년도는 몇년도입니까?\n",
            "지문 :  헤이그는 닉슨 대통령이 그를 사성 장군과 육군 부참모로 진급시킬 때 집중 광선과 논쟁으로 들어갔다. 헤이그를 군사의 최상으로 밀어넣은 닉슨의 행동은 대통령의 남자들을 다양한 연방 대리법에서 권한의 직우들로 놓은 노력과 함께 일치였다. 하지만 그는 곧 백악관으로 돌아가 1973년부터 1974년까지 대통령 특별 보좌관을 지냈다. 워터게이트 사건이 일어난지 한달 후, 헤이그는 포위된 닉슨 대통령을 위한 치명적 역할을 하였다. 그일은 8월 닉슨의 사임과 제럴드 포드의 대통령으로 계승으로 이끈 협상들에서 헤이그가 수단이었던 우연이 아니었다. 곧 후에 헤이그는 미국 유럽 연합군 최고사령부의 최고 사령관으로 임명되었다. 그는 나토에서 다음 5년을 보내고 1979년 군에서 퇴역하여 미국 기술 주식 회사의 우두머리가 되었다.\n",
            "정답 :  1979년\n",
            "예측 :  1979년 \n",
            "\n",
            "32\n",
            "질문 :  헤이그가 군대에서 퇴역한 년도는?\n",
            "지문 :  헤이그는 닉슨 대통령이 그를 사성 장군과 육군 부참모로 진급시킬 때 집중 광선과 논쟁으로 들어갔다. 헤이그를 군사의 최상으로 밀어넣은 닉슨의 행동은 대통령의 남자들을 다양한 연방 대리법에서 권한의 직우들로 놓은 노력과 함께 일치였다. 하지만 그는 곧 백악관으로 돌아가 1973년부터 1974년까지 대통령 특별 보좌관을 지냈다. 워터게이트 사건이 일어난지 한달 후, 헤이그는 포위된 닉슨 대통령을 위한 치명적 역할을 하였다. 그일은 8월 닉슨의 사임과 제럴드 포드의 대통령으로 계승으로 이끈 협상들에서 헤이그가 수단이었던 우연이 아니었다. 곧 후에 헤이그는 미국 유럽 연합군 최고사령부의 최고 사령관으로 임명되었다. 그는 나토에서 다음 5년을 보내고 1979년 군에서 퇴역하여 미국 기술 주식 회사의 우두머리가 되었다.\n",
            "정답 :  1979년\n",
            "예측 :  1979년 \n",
            "\n",
            "35\n",
            "질문 :  헤이그가 사적생활을 하다가 정계로 돌아갔던 해는 언제인가?\n",
            "지문 :  그의 편에 헤이그는 지구촌의 논점들의 국내적 정치 노력들에 관해서만 근심한 레이건의 가까운 조언자들을 \"외교 정책의 아마추어\"로 묘사하였다. 1982년 6월 25일 결국적으로 온 그의 국무장관으로서 사임은 불가능한 상황이 된 것을 끝냈다. 헤이그는 개인적 생활로 돌아갔다가 1988년 대통령 선거를 위한 공화당 후보직을 안정시키는 시도를 하는 데 충분하게 정계로 돌아갔으나 후보직을 이기는 데 성원을 가지지 않았다. 그는 외교 정책 논쟁들에 연설자로서 활동적으로 남아있었으나 그의 전념은 정치에서 개인적 생활로 옮겨졌다. 그는 Worldwide Associates Inc.의 국제적 상담 회사에 의하여 기용되었고, 그 기구의 의장과 회장이 되었다.\n",
            "정답 :  1988년\n",
            "예측 :  1988년 \n",
            "\n",
            "37\n",
            "질문 :  헤이그가 정계로 돌아간 년도는 몇년도입니까?\n",
            "지문 :  그의 편에 헤이그는 지구촌의 논점들의 국내적 정치 노력들에 관해서만 근심한 레이건의 가까운 조언자들을 \"외교 정책의 아마추어\"로 묘사하였다. 1982년 6월 25일 결국적으로 온 그의 국무장관으로서 사임은 불가능한 상황이 된 것을 끝냈다. 헤이그는 개인적 생활로 돌아갔다가 1988년 대통령 선거를 위한 공화당 후보직을 안정시키는 시도를 하는 데 충분하게 정계로 돌아갔으나 후보직을 이기는 데 성원을 가지지 않았다. 그는 외교 정책 논쟁들에 연설자로서 활동적으로 남아있었으나 그의 전념은 정치에서 개인적 생활로 옮겨졌다. 그는 Worldwide Associates Inc.의 국제적 상담 회사에 의하여 기용되었고, 그 기구의 의장과 회장이 되었다.\n",
            "정답 :  1988년\n",
            "예측 :  1988년 \n",
            "\n",
            "38\n",
            "질문 :  레이건 대통령의 조언자들을 헤이그는 무엇이라고 묘사하였나?\n",
            "지문 :  그의 편에 헤이그는 지구촌의 논점들의 국내적 정치 노력들에 관해서만 근심한 레이건의 가까운 조언자들을 \"외교 정책의 아마추어\"로 묘사하였다. 1982년 6월 25일 결국적으로 온 그의 국무장관으로서 사임은 불가능한 상황이 된 것을 끝냈다. 헤이그는 개인적 생활로 돌아갔다가 1988년 대통령 선거를 위한 공화당 후보직을 안정시키는 시도를 하는 데 충분하게 정계로 돌아갔으나 후보직을 이기는 데 성원을 가지지 않았다. 그는 외교 정책 논쟁들에 연설자로서 활동적으로 남아있었으나 그의 전념은 정치에서 개인적 생활로 옮겨졌다. 그는 Worldwide Associates Inc.의 국제적 상담 회사에 의하여 기용되었고, 그 기구의 의장과 회장이 되었다.\n",
            "정답 :  외교 정책의 아마추어\n",
            "예측 :  \"외교 정책의 아마추어\"로 \n",
            "\n",
            "39\n",
            "질문 :  헤이그가 정계로 다시 돌아간 년도는?\n",
            "지문 :  그의 편에 헤이그는 지구촌의 논점들의 국내적 정치 노력들에 관해서만 근심한 레이건의 가까운 조언자들을 \"외교 정책의 아마추어\"로 묘사하였다. 1982년 6월 25일 결국적으로 온 그의 국무장관으로서 사임은 불가능한 상황이 된 것을 끝냈다. 헤이그는 개인적 생활로 돌아갔다가 1988년 대통령 선거를 위한 공화당 후보직을 안정시키는 시도를 하는 데 충분하게 정계로 돌아갔으나 후보직을 이기는 데 성원을 가지지 않았다. 그는 외교 정책 논쟁들에 연설자로서 활동적으로 남아있었으나 그의 전념은 정치에서 개인적 생활로 옮겨졌다. 그는 Worldwide Associates Inc.의 국제적 상담 회사에 의하여 기용되었고, 그 기구의 의장과 회장이 되었다.\n",
            "정답 :  1988년\n",
            "예측 :  1988년 \n",
            "\n",
            "40\n",
            "질문 :  하나님의 명령에 배를 만들고 가족과 짐승들을 배에 태워 홍수를 피한 사람은 누구인가?\n",
            "지문 :  노아는 하나님의 명령에 따라 배를 만들고 가족과 정결한 짐승 암수 일곱 마리씩, 부정한 짐승 암수 한 마리씩(혹은 두 마리씩; 사본에 따라 다름), 그리고 새 암수 일곱 마리씩을 싣고 밀어닥친 홍수를 피하였다. 모든 사람들이 타락한 생활에 빠져 있어 하나님이 홍수로 심판하려 할 때 홀로 바르게 살던 노아는 하나님의 특별한 계시로 홍수가 올 것을 미리 알게 된다. 그는 길이 300 규빗, 너비 50 규빗, 높이 30 규빗(고대의 1규빗은 팔꿈치에서 가운데 손가락끝까지의 길이로 약 45~46cm를 가리킴), 상 ·중 ·하 3층으로 된 방주를 만들어 8명의 가족과, 한 쌍씩의 여러 동물을 데리고 이 방주에 탄다. 대홍수를 만나 모든 생물(물고기 제외)이 전멸하고 말았지만, 이 방주에 탔던 노아의 가족과 동물들은 살아 남았다고 한다.〈창세기〉 6장 14~16절에 보면 길이 300규빗 (약 135m), 폭 50 규빗 (약 22.5m), 높이 30 규빗 (약 13.5m)인 이 배는 지붕과 문을 달고 배 안은 3층으로 만들어져 있었다. 선체(船體)는 고페르나무(잣나무)로 되고 안쪽에는 역청(아스팔트와 비슷한 성분)을 칠하여 굳혔다고 기록하고 있다.\n",
            "정답 :  노아\n",
            "예측 :  노아는 \n",
            "\n",
            "42\n",
            "질문 :  노아의 방주의 선체는 어떠한 나무로 만들었는가?\n",
            "지문 :  노아는 하나님의 명령에 따라 배를 만들고 가족과 정결한 짐승 암수 일곱 마리씩, 부정한 짐승 암수 한 마리씩(혹은 두 마리씩; 사본에 따라 다름), 그리고 새 암수 일곱 마리씩을 싣고 밀어닥친 홍수를 피하였다. 모든 사람들이 타락한 생활에 빠져 있어 하나님이 홍수로 심판하려 할 때 홀로 바르게 살던 노아는 하나님의 특별한 계시로 홍수가 올 것을 미리 알게 된다. 그는 길이 300 규빗, 너비 50 규빗, 높이 30 규빗(고대의 1규빗은 팔꿈치에서 가운데 손가락끝까지의 길이로 약 45~46cm를 가리킴), 상 ·중 ·하 3층으로 된 방주를 만들어 8명의 가족과, 한 쌍씩의 여러 동물을 데리고 이 방주에 탄다. 대홍수를 만나 모든 생물(물고기 제외)이 전멸하고 말았지만, 이 방주에 탔던 노아의 가족과 동물들은 살아 남았다고 한다.〈창세기〉 6장 14~16절에 보면 길이 300규빗 (약 135m), 폭 50 규빗 (약 22.5m), 높이 30 규빗 (약 13.5m)인 이 배는 지붕과 문을 달고 배 안은 3층으로 만들어져 있었다. 선체(船體)는 고페르나무(잣나무)로 되고 안쪽에는 역청(아스팔트와 비슷한 성분)을 칠하여 굳혔다고 기록하고 있다.\n",
            "정답 :  고페르나무\n",
            "예측 :  고페르나무 \n",
            "\n",
            "43\n",
            "질문 :  노아는 누구의 명령에 따라 배를 만들고 가족과 동물들을 태웠는가?\n",
            "지문 :  노아는 하나님의 명령에 따라 배를 만들고 가족과 정결한 짐승 암수 일곱 마리씩, 부정한 짐승 암수 한 마리씩(혹은 두 마리씩; 사본에 따라 다름), 그리고 새 암수 일곱 마리씩을 싣고 밀어닥친 홍수를 피하였다. 모든 사람들이 타락한 생활에 빠져 있어 하나님이 홍수로 심판하려 할 때 홀로 바르게 살던 노아는 하나님의 특별한 계시로 홍수가 올 것을 미리 알게 된다. 그는 길이 300 규빗, 너비 50 규빗, 높이 30 규빗(고대의 1규빗은 팔꿈치에서 가운데 손가락끝까지의 길이로 약 45~46cm를 가리킴), 상 ·중 ·하 3층으로 된 방주를 만들어 8명의 가족과, 한 쌍씩의 여러 동물을 데리고 이 방주에 탄다. 대홍수를 만나 모든 생물(물고기 제외)이 전멸하고 말았지만, 이 방주에 탔던 노아의 가족과 동물들은 살아 남았다고 한다.〈창세기〉 6장 14~16절에 보면 길이 300규빗 (약 135m), 폭 50 규빗 (약 22.5m), 높이 30 규빗 (약 13.5m)인 이 배는 지붕과 문을 달고 배 안은 3층으로 만들어져 있었다. 선체(船體)는 고페르나무(잣나무)로 되고 안쪽에는 역청(아스팔트와 비슷한 성분)을 칠하여 굳혔다고 기록하고 있다.\n",
            "정답 :  하나님\n",
            "예측 :  하나님의 \n",
            "\n",
            "44\n",
            "질문 :  노아의 방주는 몇층으로 구성되어 있었는가?\n",
            "지문 :  노아는 하나님의 명령에 따라 배를 만들고 가족과 정결한 짐승 암수 일곱 마리씩, 부정한 짐승 암수 한 마리씩(혹은 두 마리씩; 사본에 따라 다름), 그리고 새 암수 일곱 마리씩을 싣고 밀어닥친 홍수를 피하였다. 모든 사람들이 타락한 생활에 빠져 있어 하나님이 홍수로 심판하려 할 때 홀로 바르게 살던 노아는 하나님의 특별한 계시로 홍수가 올 것을 미리 알게 된다. 그는 길이 300 규빗, 너비 50 규빗, 높이 30 규빗(고대의 1규빗은 팔꿈치에서 가운데 손가락끝까지의 길이로 약 45~46cm를 가리킴), 상 ·중 ·하 3층으로 된 방주를 만들어 8명의 가족과, 한 쌍씩의 여러 동물을 데리고 이 방주에 탄다. 대홍수를 만나 모든 생물(물고기 제외)이 전멸하고 말았지만, 이 방주에 탔던 노아의 가족과 동물들은 살아 남았다고 한다.〈창세기〉 6장 14~16절에 보면 길이 300규빗 (약 135m), 폭 50 규빗 (약 22.5m), 높이 30 규빗 (약 13.5m)인 이 배는 지붕과 문을 달고 배 안은 3층으로 만들어져 있었다. 선체(船體)는 고페르나무(잣나무)로 되고 안쪽에는 역청(아스팔트와 비슷한 성분)을 칠하여 굳혔다고 기록하고 있다.\n",
            "정답 :  3층\n",
            "예측 :  3층으로 된 방주를 \n",
            "\n",
            "47\n",
            "질문 :  노아의 방주는 총 몇층으로 되어 있었는가?\n",
            "지문 :  노아는 하나님의 명령에 따라 배를 만들고 가족과 정결한 짐승 암수 일곱 마리씩, 부정한 짐승 암수 한 마리씩(혹은 두 마리씩; 사본에 따라 다름), 그리고 새 암수 일곱 마리씩을 싣고 밀어닥친 홍수를 피하였다. 모든 사람들이 타락한 생활에 빠져 있어 하나님이 홍수로 심판하려 할 때 홀로 바르게 살던 노아는 하나님의 특별한 계시로 홍수가 올 것을 미리 알게 된다. 그는 길이 300 규빗, 너비 50 규빗, 높이 30 규빗(고대의 1규빗은 팔꿈치에서 가운데 손가락끝까지의 길이로 약 45~46cm를 가리킴), 상 ·중 ·하 3층으로 된 방주를 만들어 8명의 가족과, 한 쌍씩의 여러 동물을 데리고 이 방주에 탄다. 대홍수를 만나 모든 생물(물고기 제외)이 전멸하고 말았지만, 이 방주에 탔던 노아의 가족과 동물들은 살아 남았다고 한다.〈창세기〉 6장 14~16절에 보면 길이 300규빗 (약 135m), 폭 50 규빗 (약 22.5m), 높이 30 규빗 (약 13.5m)인 이 배는 지붕과 문을 달고 배 안은 3층으로 만들어져 있었다. 선체(船體)는 고페르나무(잣나무)로 되고 안쪽에는 역청(아스팔트와 비슷한 성분)을 칠하여 굳혔다고 기록하고 있다.\n",
            "정답 :  3층\n",
            "예측 :  3층으로 \n",
            "\n",
            "51\n",
            "질문 :  역사학과 과학의 발달이 미비했을 때 전통 신학계에서는 어떠한 시작으로 노아의 방주를 역사적 사실로 기술하였는가?\n",
            "지문 :  역사학과 과학이 발달하지 않았던 과거 전통 신학계에서는 근본주의적 시각을 받아들여 노아의 방주를 역사적 사실로 기술하려 했으며, 이러한 관점은 아직도 과학과 역사학에 어두운 보수적 근본주의계열의 개신교에서만 받아들여지고 있다. 하지만 역사학과 과학의 발달로 인해, 노아의 방주의 실존에 대한 의문이 제기가 되고, 세계적 홍수가 존재할 수 없음이 밝혀짐에 따라 현대 신학계에서는 비록 노아의 홍수가 과학적으로 실존하지는 않았지만 그 자체의 의미는 신학적으로 매우 중요하며, 이에 대한 해석은 다양하게 이루어지고 있으며, 대부분의 기독교(가톨릭, 개신교를 포함한 대부분)에서는 노아의 방주는 상징적 의미로 받아들여진다. 그러므로 과학과는 상관없이 신학적으로 노아의 방주 자체의 의미는 중요하게 해석된다고 한다\n",
            "정답 :  근본주의적\n",
            "예측 :  근본주의적 시각 \n",
            "\n",
            "55\n",
            "질문 :  노아의 방주의 실존에 대한 의문을 제기한 학문은?\n",
            "지문 :  역사학과 과학이 발달하지 않았던 과거 전통 신학계에서는 근본주의적 시각을 받아들여 노아의 방주를 역사적 사실로 기술하려 했으며, 이러한 관점은 아직도 과학과 역사학에 어두운 보수적 근본주의계열의 개신교에서만 받아들여지고 있다. 하지만 역사학과 과학의 발달로 인해, 노아의 방주의 실존에 대한 의문이 제기가 되고, 세계적 홍수가 존재할 수 없음이 밝혀짐에 따라 현대 신학계에서는 비록 노아의 홍수가 과학적으로 실존하지는 않았지만 그 자체의 의미는 신학적으로 매우 중요하며, 이에 대한 해석은 다양하게 이루어지고 있으며, 대부분의 기독교(가톨릭, 개신교를 포함한 대부분)에서는 노아의 방주는 상징적 의미로 받아들여진다. 그러므로 과학과는 상관없이 신학적으로 노아의 방주 자체의 의미는 중요하게 해석된다고 한다\n",
            "정답 :  역사학과 과학\n",
            "예측 :  역사학과 과학 \n",
            "\n",
            "56\n",
            "질문 :  제칠일안식교에서 비롯된 의사과학의 한 종류인 유사지질학의 이름은 무엇인가?\n",
            "지문 :  역사학과 과학의 발달이 더뎠던 고대사회에서는, 성경이 단순한 교리적인 부분 뿐 아니라 역사책으로서의 권위도 높았기에 노아의 방주를 역사적인 존재로서 다루고 있었다. 이는 제칠일안식교에서 비롯된 의사과학의 한 종류인 유사지질학인 홍수지질학과 같은 것에 영향을 주었으며, 과거 신학에서는 이러한 근본주의적 해석을 받아들여 역사와 사회적인 모든 부분에 있어 성경을 교과서로 채택할 것을 촉구했다. 이러한 홍수지질학을 주장했던 유사지질학자들은 성경에 나오는 노아의 홍수가 어딘가에 그 흔적이 남아 있을것이라고 주장하며 노아의 방주를 찾기 위한 노력을 했다고 주장한다. 이들은 같은 메소포타미아 지방의 신화인 이슬람교 경전이나 길가메쉬 서사시등의 신화를 들어서 이를 근거라고 주장하기도 했다. 그러나 이러한 전통적 근본주의적 시각은 과거에는 상당히 힘을 얻었으나, 역사학과 과학의 발달에 따라 힘을 잃게 되었고, 홍수지질학은 유사과학으로서 남게 되었다. 현대에는 뒤의 실존논란에서 다루는 것처럼 이러한 근본주의적 해석은 비과학적인 해석으로 여기는 것이 일반적이지만, 남침례교로 대표되는 극보수주의계열 기독교에서는 아직도 이것이 받아들여지고 있다.\n",
            "정답 :  홍수지질학\n",
            "예측 :  홍수지질학과 \n",
            "\n",
            "57\n",
            "질문 :  극보수주의계열의 기독교이자 아직도 노아의 홍수가 있었다고 주장하는 곳은 어디인가?\n",
            "지문 :  역사학과 과학의 발달이 더뎠던 고대사회에서는, 성경이 단순한 교리적인 부분 뿐 아니라 역사책으로서의 권위도 높았기에 노아의 방주를 역사적인 존재로서 다루고 있었다. 이는 제칠일안식교에서 비롯된 의사과학의 한 종류인 유사지질학인 홍수지질학과 같은 것에 영향을 주었으며, 과거 신학에서는 이러한 근본주의적 해석을 받아들여 역사와 사회적인 모든 부분에 있어 성경을 교과서로 채택할 것을 촉구했다. 이러한 홍수지질학을 주장했던 유사지질학자들은 성경에 나오는 노아의 홍수가 어딘가에 그 흔적이 남아 있을것이라고 주장하며 노아의 방주를 찾기 위한 노력을 했다고 주장한다. 이들은 같은 메소포타미아 지방의 신화인 이슬람교 경전이나 길가메쉬 서사시등의 신화를 들어서 이를 근거라고 주장하기도 했다. 그러나 이러한 전통적 근본주의적 시각은 과거에는 상당히 힘을 얻었으나, 역사학과 과학의 발달에 따라 힘을 잃게 되었고, 홍수지질학은 유사과학으로서 남게 되었다. 현대에는 뒤의 실존논란에서 다루는 것처럼 이러한 근본주의적 해석은 비과학적인 해석으로 여기는 것이 일반적이지만, 남침례교로 대표되는 극보수주의계열 기독교에서는 아직도 이것이 받아들여지고 있다.\n",
            "정답 :  남침례교\n",
            "예측 :  남침례교 \n",
            "\n",
            "59\n",
            "질문 :  역사학과 과학의 발달로 홍수지질학은 어떤 과학으로 남게 되었는가?\n",
            "지문 :  역사학과 과학의 발달이 더뎠던 고대사회에서는, 성경이 단순한 교리적인 부분 뿐 아니라 역사책으로서의 권위도 높았기에 노아의 방주를 역사적인 존재로서 다루고 있었다. 이는 제칠일안식교에서 비롯된 의사과학의 한 종류인 유사지질학인 홍수지질학과 같은 것에 영향을 주었으며, 과거 신학에서는 이러한 근본주의적 해석을 받아들여 역사와 사회적인 모든 부분에 있어 성경을 교과서로 채택할 것을 촉구했다. 이러한 홍수지질학을 주장했던 유사지질학자들은 성경에 나오는 노아의 홍수가 어딘가에 그 흔적이 남아 있을것이라고 주장하며 노아의 방주를 찾기 위한 노력을 했다고 주장한다. 이들은 같은 메소포타미아 지방의 신화인 이슬람교 경전이나 길가메쉬 서사시등의 신화를 들어서 이를 근거라고 주장하기도 했다. 그러나 이러한 전통적 근본주의적 시각은 과거에는 상당히 힘을 얻었으나, 역사학과 과학의 발달에 따라 힘을 잃게 되었고, 홍수지질학은 유사과학으로서 남게 되었다. 현대에는 뒤의 실존논란에서 다루는 것처럼 이러한 근본주의적 해석은 비과학적인 해석으로 여기는 것이 일반적이지만, 남침례교로 대표되는 극보수주의계열 기독교에서는 아직도 이것이 받아들여지고 있다.\n",
            "정답 :  유사과학\n",
            "예측 :  유사과학 \n",
            "\n",
            "60\n",
            "질문 :  현대에 노아의 방주에 대학 근본주의적 해석은 어떻게 여겨지는가?\n",
            "지문 :  역사학과 과학의 발달이 더뎠던 고대사회에서는, 성경이 단순한 교리적인 부분 뿐 아니라 역사책으로서의 권위도 높았기에 노아의 방주를 역사적인 존재로서 다루고 있었다. 이는 제칠일안식교에서 비롯된 의사과학의 한 종류인 유사지질학인 홍수지질학과 같은 것에 영향을 주었으며, 과거 신학에서는 이러한 근본주의적 해석을 받아들여 역사와 사회적인 모든 부분에 있어 성경을 교과서로 채택할 것을 촉구했다. 이러한 홍수지질학을 주장했던 유사지질학자들은 성경에 나오는 노아의 홍수가 어딘가에 그 흔적이 남아 있을것이라고 주장하며 노아의 방주를 찾기 위한 노력을 했다고 주장한다. 이들은 같은 메소포타미아 지방의 신화인 이슬람교 경전이나 길가메쉬 서사시등의 신화를 들어서 이를 근거라고 주장하기도 했다. 그러나 이러한 전통적 근본주의적 시각은 과거에는 상당히 힘을 얻었으나, 역사학과 과학의 발달에 따라 힘을 잃게 되었고, 홍수지질학은 유사과학으로서 남게 되었다. 현대에는 뒤의 실존논란에서 다루는 것처럼 이러한 근본주의적 해석은 비과학적인 해석으로 여기는 것이 일반적이지만, 남침례교로 대표되는 극보수주의계열 기독교에서는 아직도 이것이 받아들여지고 있다.\n",
            "정답 :  비과학적인 해석\n",
            "예측 :  비과학적인 해석 \n",
            "\n",
            "63\n",
            "질문 :  노아의 방주가 역사적으로 실재했다는 주장은 무엇이 존재하지 않아 학계로부터 전혀 인정받지 못하고 있는가?\n",
            "지문 :  물론 노아의 방주가 신학과 신앙에서 중요한 영향을 차지하는 것은 사실이나, 현재 노아의 방주가 역사적으로 실존한다는 주장은 그 증거가 존재하지 않기에 관련 학계로부터 전혀 인정받지 못하고 있으며 그 실존과 안정성에 대한 수많은 논란이 있다. 한국창조과학회 등에서는 제칠일안식교를 기반으로 한 홍수지질학적 주장들을을 내어 놓고 있지만, 사실과 다른 근거들을 바탕으로 주장하므로 신뢰하기 힘든 것들이 전부라 할 수 있다. 그러므로 현재 노아의 방주가 실존한다는 주장은 그 증거가 존재하지 않기에 관련 학계로부터 전혀 인정받지 못하고 있다. 모든 과학관련 학계에서는 노아의 방주의 구조나 재질등이 실제로 존재할 수 없는 설화속 이야기라는 데에 동의하고 있다.\n",
            "정답 :  증거\n",
            "예측 :  한다는 주장은 그 증거가 존재하지 않기에 관련 학계 \n",
            "\n",
            "64\n",
            "질문 :  한국에서 홍수지질학적 주장들을 내어 놓고 있는 집단은?\n",
            "지문 :  물론 노아의 방주가 신학과 신앙에서 중요한 영향을 차지하는 것은 사실이나, 현재 노아의 방주가 역사적으로 실존한다는 주장은 그 증거가 존재하지 않기에 관련 학계로부터 전혀 인정받지 못하고 있으며 그 실존과 안정성에 대한 수많은 논란이 있다. 한국창조과학회 등에서는 제칠일안식교를 기반으로 한 홍수지질학적 주장들을을 내어 놓고 있지만, 사실과 다른 근거들을 바탕으로 주장하므로 신뢰하기 힘든 것들이 전부라 할 수 있다. 그러므로 현재 노아의 방주가 실존한다는 주장은 그 증거가 존재하지 않기에 관련 학계로부터 전혀 인정받지 못하고 있다. 모든 과학관련 학계에서는 노아의 방주의 구조나 재질등이 실제로 존재할 수 없는 설화속 이야기라는 데에 동의하고 있다.\n",
            "정답 :  한국창조과학회\n",
            "예측 :  한국창조과학회 등에서는 제칠일안식교를 \n",
            "\n",
            "67\n",
            "질문 :  노아의 방주는 무엇으로 만들었기 때문에 현재까지 남아 있는 것이 불가능한가?\n",
            "지문 :  일반적으로 터키의 아라랏 산의 경우, 실제 성경 속에 등장하는 아라랏 산은 지금 아라랏이라 불리는 하나의 산이 아니라 당시 아라랏이라고 불리던 광대한 지역의 산들을 모두 가리키는 표현이라는 주장도 나와 있으며, 또한 목재로 만들어진 방주가 현재까지 남아있을 수는 없다는 비판도 받고 있다. 예를 들어, 1955년 프랑스의 탐험가인 Fernand Navarra가 발견한 목재 파편의 경우, 스페인의 임업 연구소에서 목재의 특성을 토대로 5000년 전의 것이라고 밝히긴 했으나 그 신빙성에 문제점이 있었고 후에 방사성 동위원소 측정법 등의 첨단 과학의 도움을 받은 5개 연구소에서 모두 기원 이후의 시기로 연대를 측정했다. 2009년 뿐 아니라 거의 수년에 한번씩 어디선가 노아의 방주를 발견했다는 주장들이 제시되었지만, 심지어 같은 창조과학을 주장하는 사람들에게조차 비판받을 정도였다. 노아의 방주가 다른 여러 지방에서 발견되었다는 주장이 있으나 너무나 다양한 지방(중국, 터키, 인도 등)에 걸쳐있고, 그 주장도 각각 제각각이므로 신빙성이 없다. 예를 들자면, 중국 BTV에서는 2012년에 중국에서 노아의 방주가 발견되었다는 보도를 하였는데, 이것은 창조과학회에서 주장하는 장소와는 전혀 다른곳이기도 하며, 화석화가 진행되지 않은 나무의 존재등으로 가짜임이 밝혀졌다. 때때로 일부 \"학자\"라 칭하는 사람들이 이를 찾기 위해 노력한다고 주장하지만, 이는 학계에서 유사지질학으로 평가되고 있다.\n",
            "정답 :  목재\n",
            "예측 :  목재 \n",
            "\n",
            "70\n",
            "질문 :  2012년 중국 BTV에서 노아의 방주가 발견되었다고 보도한 나라는?\n",
            "지문 :  일반적으로 터키의 아라랏 산의 경우, 실제 성경 속에 등장하는 아라랏 산은 지금 아라랏이라 불리는 하나의 산이 아니라 당시 아라랏이라고 불리던 광대한 지역의 산들을 모두 가리키는 표현이라는 주장도 나와 있으며, 또한 목재로 만들어진 방주가 현재까지 남아있을 수는 없다는 비판도 받고 있다. 예를 들어, 1955년 프랑스의 탐험가인 Fernand Navarra가 발견한 목재 파편의 경우, 스페인의 임업 연구소에서 목재의 특성을 토대로 5000년 전의 것이라고 밝히긴 했으나 그 신빙성에 문제점이 있었고 후에 방사성 동위원소 측정법 등의 첨단 과학의 도움을 받은 5개 연구소에서 모두 기원 이후의 시기로 연대를 측정했다. 2009년 뿐 아니라 거의 수년에 한번씩 어디선가 노아의 방주를 발견했다는 주장들이 제시되었지만, 심지어 같은 창조과학을 주장하는 사람들에게조차 비판받을 정도였다. 노아의 방주가 다른 여러 지방에서 발견되었다는 주장이 있으나 너무나 다양한 지방(중국, 터키, 인도 등)에 걸쳐있고, 그 주장도 각각 제각각이므로 신빙성이 없다. 예를 들자면, 중국 BTV에서는 2012년에 중국에서 노아의 방주가 발견되었다는 보도를 하였는데, 이것은 창조과학회에서 주장하는 장소와는 전혀 다른곳이기도 하며, 화석화가 진행되지 않은 나무의 존재등으로 가짜임이 밝혀졌다. 때때로 일부 \"학자\"라 칭하는 사람들이 이를 찾기 위해 노력한다고 주장하지만, 이는 학계에서 유사지질학으로 평가되고 있다.\n",
            "정답 :  중국\n",
            "예측 :  중국에서 노아의 방주가 발견되었다는 보도를 하였는데, 이것은 창조과학회에서 \n",
            "\n",
            "71\n",
            "질문 :  현재의 생물다양성은 대략 몇 종 인가?\n",
            "지문 :  기독교 성경 내용에는 모든 종들을 방주에 태운다고 이야기하고 있으나, 어류나 수중 생물에 대해서는 언급하지 않았다. 이것을 신학적 의미로만 받아들이면 괜찮은 문제이나, 이 현상이 실제로 일어났다고 가정할 경우,이는 종 간 생존 환경의 차이에 대해서 간과하고 있다. 수중 생물이라 하더라도 종에 따라 생존할 수 있는 환경은 각각 다른 것이며, 40일 이내에 현존하는 가장 높은 산인 에베레스트 산도 잠기게 할 정도의 폭우로 인해 담수와 염수가 급작스럽게 섞일 경우, 급격한 삼투압 변화로 인해 대부분의 수생생물들이 폐사하게 되며, 결과적으로 육지 뿐 아니라 바다와 강의 모든 생태계가 파괴된다. 이후 5천년이라는 지극히 짧은 세월 동안 지구상의 동식물이 모두 페름기 대멸종 또는 K-T 대멸종에 준하는 대량절멸에 가까운 상태에서부터 시작하여 현재의 대략 870만(±120만)종에 달하는 생물다양성을 획득하려면 모든 생물들이 각 세대마다 종분화가 일어나야 할 만큼 엄청난 속도로 진화 및 번식이 (멸종 없이) 이루어져야만 가능한 일이다. (이와 관련하여 창조과학회 측에서는 북극곰의 예시를 통해 가지고 있던 특성이 없어지는 것이 진화가 아니라고 주장하지만, 통상적으로 알려진 바와 같이 생물학에서는 이미 존재하는 특성이 없어지는 현상, 즉 퇴화 역시 진화의 정의에 포함된다.) 즉, 노아의 홍수가 실재하는 사건이었다면 진화적 종분화가 현재까지 알려진 것과 비교할 수 없이 엄청난 속도로 이루어져야만 현재 지구의 생물다양성을 설명할 수 있다. 게다가 이것은 현재의 생물종 멸종 속도를 전혀 고려하지 않았다. 다시 말해, 노아의 홍수가 실재하는 전지구적인 사건이기 위해서는 최소 캄브리아기 대폭발 수준의 폭발적인 진화적 종분화가 1-2억년이 아니라 최대 3-4천년 이내에 이루어졌어야만 현생 지구의 생물다양성에 대한 설명이 가능해진다. 그보다 더 중요한 것은, 각 동물들이 차지하는 영역과 먹이사슬에서의 위치, 375일 동안 먹이도 없이 밀폐된 공간으로 인해 받을 스트레스 등 생태적 지위에 대한 고려가 전혀 없다는 점이다. 또한 바다에서 생존이 불가능한 생물종까지 숫자에 포함되었다는 점에서 논란이 있다.\n",
            "정답 :  870만\n",
            "예측 :  870만 \n",
            "\n",
            "74\n",
            "질문 :  가지고 있는 특성이 없어지는 것은 진화가 아니라는 창조과학회의 주장의 예시는?\n",
            "지문 :  기독교 성경 내용에는 모든 종들을 방주에 태운다고 이야기하고 있으나, 어류나 수중 생물에 대해서는 언급하지 않았다. 이것을 신학적 의미로만 받아들이면 괜찮은 문제이나, 이 현상이 실제로 일어났다고 가정할 경우,이는 종 간 생존 환경의 차이에 대해서 간과하고 있다. 수중 생물이라 하더라도 종에 따라 생존할 수 있는 환경은 각각 다른 것이며, 40일 이내에 현존하는 가장 높은 산인 에베레스트 산도 잠기게 할 정도의 폭우로 인해 담수와 염수가 급작스럽게 섞일 경우, 급격한 삼투압 변화로 인해 대부분의 수생생물들이 폐사하게 되며, 결과적으로 육지 뿐 아니라 바다와 강의 모든 생태계가 파괴된다. 이후 5천년이라는 지극히 짧은 세월 동안 지구상의 동식물이 모두 페름기 대멸종 또는 K-T 대멸종에 준하는 대량절멸에 가까운 상태에서부터 시작하여 현재의 대략 870만(±120만)종에 달하는 생물다양성을 획득하려면 모든 생물들이 각 세대마다 종분화가 일어나야 할 만큼 엄청난 속도로 진화 및 번식이 (멸종 없이) 이루어져야만 가능한 일이다. (이와 관련하여 창조과학회 측에서는 북극곰의 예시를 통해 가지고 있던 특성이 없어지는 것이 진화가 아니라고 주장하지만, 통상적으로 알려진 바와 같이 생물학에서는 이미 존재하는 특성이 없어지는 현상, 즉 퇴화 역시 진화의 정의에 포함된다.) 즉, 노아의 홍수가 실재하는 사건이었다면 진화적 종분화가 현재까지 알려진 것과 비교할 수 없이 엄청난 속도로 이루어져야만 현재 지구의 생물다양성을 설명할 수 있다. 게다가 이것은 현재의 생물종 멸종 속도를 전혀 고려하지 않았다. 다시 말해, 노아의 홍수가 실재하는 전지구적인 사건이기 위해서는 최소 캄브리아기 대폭발 수준의 폭발적인 진화적 종분화가 1-2억년이 아니라 최대 3-4천년 이내에 이루어졌어야만 현생 지구의 생물다양성에 대한 설명이 가능해진다. 그보다 더 중요한 것은, 각 동물들이 차지하는 영역과 먹이사슬에서의 위치, 375일 동안 먹이도 없이 밀폐된 공간으로 인해 받을 스트레스 등 생태적 지위에 대한 고려가 전혀 없다는 점이다. 또한 바다에서 생존이 불가능한 생물종까지 숫자에 포함되었다는 점에서 논란이 있다.\n",
            "정답 :  북극곰\n",
            "예측 :  북극곰 \n",
            "\n",
            "79\n",
            "질문 :  노아의 방주가 안정적인 구조였다고 주장하는 집단은 어디인가?\n",
            "지문 :  창조과학회에서는 또한 노아의 방주가 안정적인 구조였다고 주장하지만, 이와는 달리 노아의 방주는 항해가 불가능한 설계에 가깝다. 실제로 창조과학에서 주장하는 방주의 크기와 철제 부품을 사용하지 않은 목재 선박 중에서 가장 큰 수준의 선박들을 비교하면 배수량이 두배 이상 차이난다. 그리고 목재 선박은 강도 상의 문제 때문에 통상 길이 100m, 배수량 2000톤 정도가 한계로 여겨져 왔다. 창조과학회에서는 노아의 방주의 안정성을 실험하기 위한 연구가 있다고 주장하기도 하나, 그 자체의 불합리성에 대한 비판을 받고 있으며, 관련 주요 연구자는 지질학 석사학위, 생물학 학사학위를 가진 초등학교 교사로서, 주류 학계의 학회나 저널 등에 발표한 적이 없으며 또한 정당한 피어 리뷰에 의해 검증받지 않았다.\n",
            "정답 :  창조과학회\n",
            "예측 :  창조과학회 \n",
            "\n",
            "80\n",
            "질문 :  목재 선박은 강도상의 문제로 통상 길이 몇m가 한계인가?\n",
            "지문 :  창조과학회에서는 또한 노아의 방주가 안정적인 구조였다고 주장하지만, 이와는 달리 노아의 방주는 항해가 불가능한 설계에 가깝다. 실제로 창조과학에서 주장하는 방주의 크기와 철제 부품을 사용하지 않은 목재 선박 중에서 가장 큰 수준의 선박들을 비교하면 배수량이 두배 이상 차이난다. 그리고 목재 선박은 강도 상의 문제 때문에 통상 길이 100m, 배수량 2000톤 정도가 한계로 여겨져 왔다. 창조과학회에서는 노아의 방주의 안정성을 실험하기 위한 연구가 있다고 주장하기도 하나, 그 자체의 불합리성에 대한 비판을 받고 있으며, 관련 주요 연구자는 지질학 석사학위, 생물학 학사학위를 가진 초등학교 교사로서, 주류 학계의 학회나 저널 등에 발표한 적이 없으며 또한 정당한 피어 리뷰에 의해 검증받지 않았다.\n",
            "정답 :  100m\n",
            "예측 :  100m \n",
            "\n",
            "81\n",
            "질문 :  노아의 방주 안정성을 실험하기 위한 연구가 있다고 주장하는 단체는?\n",
            "지문 :  창조과학회에서는 또한 노아의 방주가 안정적인 구조였다고 주장하지만, 이와는 달리 노아의 방주는 항해가 불가능한 설계에 가깝다. 실제로 창조과학에서 주장하는 방주의 크기와 철제 부품을 사용하지 않은 목재 선박 중에서 가장 큰 수준의 선박들을 비교하면 배수량이 두배 이상 차이난다. 그리고 목재 선박은 강도 상의 문제 때문에 통상 길이 100m, 배수량 2000톤 정도가 한계로 여겨져 왔다. 창조과학회에서는 노아의 방주의 안정성을 실험하기 위한 연구가 있다고 주장하기도 하나, 그 자체의 불합리성에 대한 비판을 받고 있으며, 관련 주요 연구자는 지질학 석사학위, 생물학 학사학위를 가진 초등학교 교사로서, 주류 학계의 학회나 저널 등에 발표한 적이 없으며 또한 정당한 피어 리뷰에 의해 검증받지 않았다.\n",
            "정답 :  창조과학회\n",
            "예측 :  창조과학회에서는 노아의 방주의 안정성을 실험하기 위한 연구가 있다고 주장하기도 하나, 그 자체의 불합리성에 \n",
            "\n",
            "83\n",
            "질문 :  목재로 만들어진 선박은 강도 상의 통상 길이 몇m가 한계인가?\n",
            "지문 :  창조과학회에서는 또한 노아의 방주가 안정적인 구조였다고 주장하지만, 이와는 달리 노아의 방주는 항해가 불가능한 설계에 가깝다. 실제로 창조과학에서 주장하는 방주의 크기와 철제 부품을 사용하지 않은 목재 선박 중에서 가장 큰 수준의 선박들을 비교하면 배수량이 두배 이상 차이난다. 그리고 목재 선박은 강도 상의 문제 때문에 통상 길이 100m, 배수량 2000톤 정도가 한계로 여겨져 왔다. 창조과학회에서는 노아의 방주의 안정성을 실험하기 위한 연구가 있다고 주장하기도 하나, 그 자체의 불합리성에 대한 비판을 받고 있으며, 관련 주요 연구자는 지질학 석사학위, 생물학 학사학위를 가진 초등학교 교사로서, 주류 학계의 학회나 저널 등에 발표한 적이 없으며 또한 정당한 피어 리뷰에 의해 검증받지 않았다.\n",
            "정답 :  100m\n",
            "예측 :  100m \n",
            "\n",
            "86\n",
            "질문 :  1868년 게이오 4년 4월 11일 신정부 군에게 양도되기로 한 반류마루를 기상 불량 등의 이유로 연기한 후 인도를 거부한 사람은 누구인가?\n",
            "지문 :  1868년 게이오 4년 4월 11일 에도 성 무혈 개성을 한 이후 신정부 군에게 양도가 약속되어 있었다. 그러나 해군 부총재, 에노모토 다케아키가 기상 불량 등을 이유로 이를 연기한 후에 결국 인도를 거부했다. 도쿠가와 요시노부를 슨푸 번에 이송할 때의 태운 함선으로 사용한 후, 8월 19일 자정 (20일)에는 마쓰오카 바키치를 함장으로 카이요마루, 가이텐마루, 신소쿠마루, 간린마루 등과 함께 막부 해군이 정박하고 있던 시나가와 해역을 탈출했다. 그 때 태풍에 휘말려 침몰직전이 되었지만, 1개월만에 에노모토 해군과 합류하였다. 에조치에 건너가 하코다테 전쟁에서는 에노모토(하코다테 정부) 해군의 주력함이 되었다. 영국이 기증했을 때 엠퍼러(Emperor, 기증 당시 일본의 수장은 황제가 아니라 쇼군으로 인식되고 있었기 때문에 장군을 지칭)로 명명하고 있음에서 알 수 있듯이, 쇼군용 유람 요트로 기증되었다고 생각되지만, 세상이 그것을 허락하지 않았다. 아이러니하게도, 군함에 통합되어 실제로 쇼군이 첫 좌승한 것이 대정봉환 이후 슨푸 번에 이송되었을 때였다.\n",
            "정답 :  에노모토 다케아키\n",
            "예측 :  에노모토 다케아키 \n",
            "\n",
            "87\n",
            "질문 :  1868년 게이오 4년 8월 19일 자정 반류마루가 탈출한 해역은 어디인가?\n",
            "지문 :  1868년 게이오 4년 4월 11일 에도 성 무혈 개성을 한 이후 신정부 군에게 양도가 약속되어 있었다. 그러나 해군 부총재, 에노모토 다케아키가 기상 불량 등을 이유로 이를 연기한 후에 결국 인도를 거부했다. 도쿠가와 요시노부를 슨푸 번에 이송할 때의 태운 함선으로 사용한 후, 8월 19일 자정 (20일)에는 마쓰오카 바키치를 함장으로 카이요마루, 가이텐마루, 신소쿠마루, 간린마루 등과 함께 막부 해군이 정박하고 있던 시나가와 해역을 탈출했다. 그 때 태풍에 휘말려 침몰직전이 되었지만, 1개월만에 에노모토 해군과 합류하였다. 에조치에 건너가 하코다테 전쟁에서는 에노모토(하코다테 정부) 해군의 주력함이 되었다. 영국이 기증했을 때 엠퍼러(Emperor, 기증 당시 일본의 수장은 황제가 아니라 쇼군으로 인식되고 있었기 때문에 장군을 지칭)로 명명하고 있음에서 알 수 있듯이, 쇼군용 유람 요트로 기증되었다고 생각되지만, 세상이 그것을 허락하지 않았다. 아이러니하게도, 군함에 통합되어 실제로 쇼군이 첫 좌승한 것이 대정봉환 이후 슨푸 번에 이송되었을 때였다.\n",
            "정답 :  시나가와\n",
            "예측 :  에도 성 무혈 개성을 한 이후 신정부 군에게 양도가 약속되어 있었다. 그러나 해군 부총재, 에노모토 다케아키가 기상 불량 등을 이유로 이를 연기한 후에 결국 인도를 거부했다. 도쿠가와 요시노부를 슨푸 번에 이송할 때의 태운 함선으로 사용한 후, 8월 19일 자정 (20일)에는 마쓰오카 바키치를 함장으로 카이요마루, 가이텐마루, 신소쿠마루, 간린마루 등과 함께 막부 해군이 정박하고 있던 시나가와 해역 \n",
            "\n",
            "90\n",
            "질문 :  1868년 당시 일본의 해군 부총재는?\n",
            "지문 :  1868년 게이오 4년 4월 11일 에도 성 무혈 개성을 한 이후 신정부 군에게 양도가 약속되어 있었다. 그러나 해군 부총재, 에노모토 다케아키가 기상 불량 등을 이유로 이를 연기한 후에 결국 인도를 거부했다. 도쿠가와 요시노부를 슨푸 번에 이송할 때의 태운 함선으로 사용한 후, 8월 19일 자정 (20일)에는 마쓰오카 바키치를 함장으로 카이요마루, 가이텐마루, 신소쿠마루, 간린마루 등과 함께 막부 해군이 정박하고 있던 시나가와 해역을 탈출했다. 그 때 태풍에 휘말려 침몰직전이 되었지만, 1개월만에 에노모토 해군과 합류하였다. 에조치에 건너가 하코다테 전쟁에서는 에노모토(하코다테 정부) 해군의 주력함이 되었다. 영국이 기증했을 때 엠퍼러(Emperor, 기증 당시 일본의 수장은 황제가 아니라 쇼군으로 인식되고 있었기 때문에 장군을 지칭)로 명명하고 있음에서 알 수 있듯이, 쇼군용 유람 요트로 기증되었다고 생각되지만, 세상이 그것을 허락하지 않았다. 아이러니하게도, 군함에 통합되어 실제로 쇼군이 첫 좌승한 것이 대정봉환 이후 슨푸 번에 이송되었을 때였다.\n",
            "정답 :  에노모토 다케아키\n",
            "예측 :  에노모토 다케아키 \n",
            "\n",
            "93\n",
            "질문 :  하코다테 전쟁 시 반류마루의 함장의 이름은 무엇인가?\n",
            "지문 :  일련의 하코다테 전쟁은 적아 쌍방의 문서에 마쓰오카 바키치 함장의 능란한 조함 능력과 냉정한 지휘만이 기록되어 있다. 함포 사격으로 마쓰마에 성을 공격하여 엄호한 이후, 1869년 메이지 2년 3월 25일 미야코 만 해전에서는 폭풍우를 만나 요함과 헤어졌을 때에 만날 약속했던 하치노헤 항에서 대기하고 있었기 때문에 참전에는 이르지 못했다. 이 폭풍우 때도 “함장 마쓰오카 바키치는 배를 조정하는 명수로 로프 하나 손상되지 않았다”고 타고 있던 하야시 다다스가 남긴 바 있다. 이 귀로에서 신정부 군의 철갑함의 추격을 받았다. 기관 능력의 차이로 인한 속도차 때문에 도주가 불가능하다고 판단하고 맞장 공격을 하겠다고 전투 준비를 했지만, 철갑선의 사정거리에 들어간 순간에 순풍이 불기 시작하여 추격을 뿌리치고 하코다테로 돌아올 수 있었다.\n",
            "정답 :  마쓰오카 바키치\n",
            "예측 :  마쓰오카 바키치 \n",
            "\n",
            "95\n",
            "질문 :  반류마루가 미야코 만 해전당시 폭풍우를 만나 요함과 헤어졌을 때에 만날 약속하여 하치노헤 항에서 대기한 날짜는 언제인가?\n",
            "지문 :  일련의 하코다테 전쟁은 적아 쌍방의 문서에 마쓰오카 바키치 함장의 능란한 조함 능력과 냉정한 지휘만이 기록되어 있다. 함포 사격으로 마쓰마에 성을 공격하여 엄호한 이후, 1869년 메이지 2년 3월 25일 미야코 만 해전에서는 폭풍우를 만나 요함과 헤어졌을 때에 만날 약속했던 하치노헤 항에서 대기하고 있었기 때문에 참전에는 이르지 못했다. 이 폭풍우 때도 “함장 마쓰오카 바키치는 배를 조정하는 명수로 로프 하나 손상되지 않았다”고 타고 있던 하야시 다다스가 남긴 바 있다. 이 귀로에서 신정부 군의 철갑함의 추격을 받았다. 기관 능력의 차이로 인한 속도차 때문에 도주가 불가능하다고 판단하고 맞장 공격을 하겠다고 전투 준비를 했지만, 철갑선의 사정거리에 들어간 순간에 순풍이 불기 시작하여 추격을 뿌리치고 하코다테로 돌아올 수 있었다.\n",
            "정답 :  1869년 메이지 2년 3월 25일\n",
            "예측 :  1869년 메이지 2년 3월 25일 \n",
            "\n",
            "97\n",
            "질문 :  철갑선의 사정거리에 들어간 순간에 순풍이 불기 시작하여 추격을 뿌리치고 어디로 돌아올 수 있었는가?\n",
            "지문 :  일련의 하코다테 전쟁은 적아 쌍방의 문서에 마쓰오카 바키치 함장의 능란한 조함 능력과 냉정한 지휘만이 기록되어 있다. 함포 사격으로 마쓰마에 성을 공격하여 엄호한 이후, 1869년 메이지 2년 3월 25일 미야코 만 해전에서는 폭풍우를 만나 요함과 헤어졌을 때에 만날 약속했던 하치노헤 항에서 대기하고 있었기 때문에 참전에는 이르지 못했다. 이 폭풍우 때도 “함장 마쓰오카 바키치는 배를 조정하는 명수로 로프 하나 손상되지 않았다”고 타고 있던 하야시 다다스가 남긴 바 있다. 이 귀로에서 신정부 군의 철갑함의 추격을 받았다. 기관 능력의 차이로 인한 속도차 때문에 도주가 불가능하다고 판단하고 맞장 공격을 하겠다고 전투 준비를 했지만, 철갑선의 사정거리에 들어간 순간에 순풍이 불기 시작하여 추격을 뿌리치고 하코다테로 돌아올 수 있었다.\n",
            "정답 :  하코다테\n",
            "예측 :  하코다테 \n",
            "\n",
            "99\n",
            "질문 :  미야코 만 해전에서 아쓰오카 바키치 함장이 폭풍우를 만난 년도는?\n",
            "지문 :  일련의 하코다테 전쟁은 적아 쌍방의 문서에 마쓰오카 바키치 함장의 능란한 조함 능력과 냉정한 지휘만이 기록되어 있다. 함포 사격으로 마쓰마에 성을 공격하여 엄호한 이후, 1869년 메이지 2년 3월 25일 미야코 만 해전에서는 폭풍우를 만나 요함과 헤어졌을 때에 만날 약속했던 하치노헤 항에서 대기하고 있었기 때문에 참전에는 이르지 못했다. 이 폭풍우 때도 “함장 마쓰오카 바키치는 배를 조정하는 명수로 로프 하나 손상되지 않았다”고 타고 있던 하야시 다다스가 남긴 바 있다. 이 귀로에서 신정부 군의 철갑함의 추격을 받았다. 기관 능력의 차이로 인한 속도차 때문에 도주가 불가능하다고 판단하고 맞장 공격을 하겠다고 전투 준비를 했지만, 철갑선의 사정거리에 들어간 순간에 순풍이 불기 시작하여 추격을 뿌리치고 하코다테로 돌아올 수 있었다.\n",
            "정답 :  1869년\n",
            "예측 :  1869년 \n",
            "\n",
            "100\n",
            "질문 :  마쓰오카 비키치가 철갑선의 추격을 뿌리치고 하코다테로 돌아올 수 있었던 원인은?\n",
            "지문 :  일련의 하코다테 전쟁은 적아 쌍방의 문서에 마쓰오카 바키치 함장의 능란한 조함 능력과 냉정한 지휘만이 기록되어 있다. 함포 사격으로 마쓰마에 성을 공격하여 엄호한 이후, 1869년 메이지 2년 3월 25일 미야코 만 해전에서는 폭풍우를 만나 요함과 헤어졌을 때에 만날 약속했던 하치노헤 항에서 대기하고 있었기 때문에 참전에는 이르지 못했다. 이 폭풍우 때도 “함장 마쓰오카 바키치는 배를 조정하는 명수로 로프 하나 손상되지 않았다”고 타고 있던 하야시 다다스가 남긴 바 있다. 이 귀로에서 신정부 군의 철갑함의 추격을 받았다. 기관 능력의 차이로 인한 속도차 때문에 도주가 불가능하다고 판단하고 맞장 공격을 하겠다고 전투 준비를 했지만, 철갑선의 사정거리에 들어간 순간에 순풍이 불기 시작하여 추격을 뿌리치고 하코다테로 돌아올 수 있었다.\n",
            "정답 :  순풍\n",
            "예측 :  신정부 군의 철갑함의 추격을 받았다. 기관 능력의 차이로 인한 속도차 때문에 도주가 불가능하다고 판단하고 맞장 공격을 하겠다고 전투 준비를 했지만, 철갑선의 사정거리에 들어간 순간에 순풍 \n",
            "\n",
            "101\n",
            "질문 :  1869년 5월 11일 하코다테 해전에서 반류마루가 응전을 벌인 함대는?\n",
            "지문 :  같은 해 5월 11일의 하코다테 총공격(하코다테 해전)에서 벤텐 다이바와 기관 고장으로 움직일 수 없는 떠 있는 포대가 된 가이텐마루의 원호를 받으며 신정부 군 함대와 응전을 벌인다. 새 정부 군함 초요마루의 화약고에 작렬탄을 명중시켜 초요마루는 대폭발을 일으켜 2분만에 굉침된다. 이것은 구 막부군의 사기를 단번에 향상시켰다. 그후 반류마루는 신정부군의 집중 포화를 맞았다. 응전을 계속했지만, 오후가 되면서 탄약이 완전히 소진되었기 때문에 부득이 퇴함을 결정했고, 벤텐 다이바 아래까지 물러나 얕은 물에 좌초시켰다. 승무원은 기관을 파괴 후 (함장 마쓰오카 바키치가 ‘나중에 사용할 수도 있을 것’이라고 방화를 금지했기 때문에 불태우지는 않음), 벤텐 다이바 근처에 도착, 적지 한 가운데를 가로질러 오다이바로 들어갔다. 이날 신정부군의 손에 반류마루는 방화를 당했지만, 화재는 돛대를 태우는 정도에 그쳤고, 선체는 대부분 타지 않았으며, 그 중간 돛대가 부러지면서 균형을 잃고 전복되면서 진화되었다.\n",
            "정답 :  신정부 군 함대\n",
            "예측 :  원호를 받으며 신정부 군 함대 \n",
            "\n"
          ]
        }
      ]
    },
    {
      "cell_type": "markdown",
      "metadata": {
        "id": "fuzzy-myrtle"
      },
      "source": [
        "### ==> Inference 결과와 원래 정답 비교 : 원래 정답과 비교하여 정확한 단어(글자 수)를 예측하고 있는 양상을 보이고 있으며, 일부 예측은 문장으로 답변하고 있으나 정확히 정답 단어를 포함하고 있다."
      ],
      "id": "fuzzy-myrtle"
    },
    {
      "cell_type": "markdown",
      "metadata": {
        "id": "ignored-letters"
      },
      "source": [
        "# [회고]"
      ],
      "id": "ignored-letters"
    },
    {
      "cell_type": "markdown",
      "metadata": {
        "id": "vital-night"
      },
      "source": [
        "- RNN 노드를 여러 개 경험하다보니 자연어처리는 데이터 전처리와 모델 학습에 기본적으로 많은 시간이 필요하다는 것을 알게 되었다.\n",
        "- 이번 노드에서도 BERT Model 학습에 1달 가량의 시간이 소요되는 관계로, 미리 학습된 BERT Model을 활용하여 정답을 예측하는 형식으로 경험하게 되었다.\n",
        "- 또한, 구성해야 할 코드 블럭들이 많은데, 노드에 미리 구성된 코드 없이는 구현에 많은 시간이 걸릴 것으로 보인다.\n",
        "- OOM 에러가 나서 난감했으나 커널 초기화 후 재진입하니 해결되었다.\n",
        "- 모델을 돌리는 데 많은 시간이 걸리는 관계로 Colab을 동시 활용하였다."
      ],
      "id": "vital-night"
    }
  ]
}