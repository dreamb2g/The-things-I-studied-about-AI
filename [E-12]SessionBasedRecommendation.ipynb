{
 "cells": [
  {
   "cell_type": "markdown",
   "id": "dense-horror",
   "metadata": {},
   "source": [
    "# 데이터 준비"
   ]
  },
  {
   "cell_type": "code",
   "execution_count": 2,
   "id": "ultimate-irrigation",
   "metadata": {},
   "outputs": [],
   "source": [
    "import datetime as dt\n",
    "from pathlib import Path\n",
    "import os\n",
    "\n",
    "import numpy as np\n",
    "import pandas as pd\n",
    "import warnings\n",
    "warnings.filterwarnings('ignore')"
   ]
  },
  {
   "cell_type": "code",
   "execution_count": 84,
   "id": "permanent-generator",
   "metadata": {},
   "outputs": [
    {
     "data": {
      "text/html": [
       "<div>\n",
       "<style scoped>\n",
       "    .dataframe tbody tr th:only-of-type {\n",
       "        vertical-align: middle;\n",
       "    }\n",
       "\n",
       "    .dataframe tbody tr th {\n",
       "        vertical-align: top;\n",
       "    }\n",
       "\n",
       "    .dataframe thead th {\n",
       "        text-align: right;\n",
       "    }\n",
       "</style>\n",
       "<table border=\"1\" class=\"dataframe\">\n",
       "  <thead>\n",
       "    <tr style=\"text-align: right;\">\n",
       "      <th></th>\n",
       "      <th>UserId</th>\n",
       "      <th>ItemId</th>\n",
       "      <th>Rating</th>\n",
       "      <th>Time</th>\n",
       "    </tr>\n",
       "  </thead>\n",
       "  <tbody>\n",
       "    <tr>\n",
       "      <th>31</th>\n",
       "      <td>1</td>\n",
       "      <td>3186</td>\n",
       "      <td>4</td>\n",
       "      <td>978300019</td>\n",
       "    </tr>\n",
       "    <tr>\n",
       "      <th>22</th>\n",
       "      <td>1</td>\n",
       "      <td>1270</td>\n",
       "      <td>5</td>\n",
       "      <td>978300055</td>\n",
       "    </tr>\n",
       "    <tr>\n",
       "      <th>27</th>\n",
       "      <td>1</td>\n",
       "      <td>1721</td>\n",
       "      <td>4</td>\n",
       "      <td>978300055</td>\n",
       "    </tr>\n",
       "    <tr>\n",
       "      <th>37</th>\n",
       "      <td>1</td>\n",
       "      <td>1022</td>\n",
       "      <td>5</td>\n",
       "      <td>978300055</td>\n",
       "    </tr>\n",
       "    <tr>\n",
       "      <th>24</th>\n",
       "      <td>1</td>\n",
       "      <td>2340</td>\n",
       "      <td>3</td>\n",
       "      <td>978300103</td>\n",
       "    </tr>\n",
       "    <tr>\n",
       "      <th>...</th>\n",
       "      <td>...</td>\n",
       "      <td>...</td>\n",
       "      <td>...</td>\n",
       "      <td>...</td>\n",
       "    </tr>\n",
       "    <tr>\n",
       "      <th>1000019</th>\n",
       "      <td>6040</td>\n",
       "      <td>2917</td>\n",
       "      <td>4</td>\n",
       "      <td>997454429</td>\n",
       "    </tr>\n",
       "    <tr>\n",
       "      <th>999988</th>\n",
       "      <td>6040</td>\n",
       "      <td>1921</td>\n",
       "      <td>4</td>\n",
       "      <td>997454464</td>\n",
       "    </tr>\n",
       "    <tr>\n",
       "      <th>1000172</th>\n",
       "      <td>6040</td>\n",
       "      <td>1784</td>\n",
       "      <td>3</td>\n",
       "      <td>997454464</td>\n",
       "    </tr>\n",
       "    <tr>\n",
       "      <th>1000167</th>\n",
       "      <td>6040</td>\n",
       "      <td>161</td>\n",
       "      <td>3</td>\n",
       "      <td>997454486</td>\n",
       "    </tr>\n",
       "    <tr>\n",
       "      <th>1000042</th>\n",
       "      <td>6040</td>\n",
       "      <td>1221</td>\n",
       "      <td>4</td>\n",
       "      <td>998315055</td>\n",
       "    </tr>\n",
       "  </tbody>\n",
       "</table>\n",
       "<p>1000209 rows × 4 columns</p>\n",
       "</div>"
      ],
      "text/plain": [
       "         UserId  ItemId  Rating       Time\n",
       "31            1    3186       4  978300019\n",
       "22            1    1270       5  978300055\n",
       "27            1    1721       4  978300055\n",
       "37            1    1022       5  978300055\n",
       "24            1    2340       3  978300103\n",
       "...         ...     ...     ...        ...\n",
       "1000019    6040    2917       4  997454429\n",
       "999988     6040    1921       4  997454464\n",
       "1000172    6040    1784       3  997454464\n",
       "1000167    6040     161       3  997454486\n",
       "1000042    6040    1221       4  998315055\n",
       "\n",
       "[1000209 rows x 4 columns]"
      ]
     },
     "execution_count": 84,
     "metadata": {},
     "output_type": "execute_result"
    }
   ],
   "source": [
    "data_path = Path(os.getenv('HOME')+'/aiffel/yoochoose/data/') \n",
    "train_path = data_path / 'ratings.dat'\n",
    "\n",
    "def load_data(data_path: Path, nrows=None):\n",
    "    data = pd.read_csv(data_path, sep='::', header=None, usecols=[0, 1, 2, 3], parse_dates=[3], dtype={0: np.int32, 1: np.int32, 2: np.int32}, nrows=nrows)\n",
    "    data.columns = ['UserId', 'ItemId', 'Rating', 'Time']\n",
    "    return data\n",
    "\n",
    "data = load_data(train_path, None)\n",
    "data.sort_values(['UserId', 'Time'], inplace=True)  # data를 id와 시간 순서로 정렬해줍니다.\n",
    "data"
   ]
  },
  {
   "cell_type": "code",
   "execution_count": 397,
   "id": "royal-journalist",
   "metadata": {},
   "outputs": [
    {
     "data": {
      "text/plain": [
       "UserId    0\n",
       "ItemId    0\n",
       "Rating    0\n",
       "Time      0\n",
       "dtype: int64"
      ]
     },
     "execution_count": 397,
     "metadata": {},
     "output_type": "execute_result"
    }
   ],
   "source": [
    "data.isnull().sum()"
   ]
  },
  {
   "cell_type": "markdown",
   "id": "large-active",
   "metadata": {},
   "source": [
    "# Step1. 데이터 전처리"
   ]
  },
  {
   "cell_type": "markdown",
   "id": "affected-update",
   "metadata": {},
   "source": [
    "- 이 데이터셋은 명확한 1회 세션의 SessionID를 포함하지 않고 있습니다. 그래서 이번에는 UserID가 SessionID 역할을 해야 합니다.\n",
    "- 이 데이터셋에서는 Session이 아닌 UserID 단위로 데이터가 생성되어 있으므로, 이를 Session 단위로 어떻게 해석할지에 주의합니다.\n",
    "- ==> Session은 사용자의 일련의 웹 탐색 활동이 종료되기까지 1회 카운트 된다. 유저가 계정에 ID로 로그인한 여부와 관계없이 웹 탐색 활동의 시작과 종료를 기준으로 카운트되기 때문에, 정확히는 UserID로 집계되는 수치와 다르지만, 여기에서는 편의를 위해 SessionID와 UserID를 동일한 개념으로 두고 진행하겠다."
   ]
  },
  {
   "cell_type": "markdown",
   "id": "simplified-inquiry",
   "metadata": {},
   "source": [
    "- 직전에 봤던 영화가 맘에 들었는지 여부가 비슷한 영화를 더 고르게 하는 것과 상관이 있을 수도 있습니다. 아울러, Rating이 낮은 데이터를 어떻게 처리할지도 고민해야 합니다.\n",
    "- Time 항목에는 UTC time 가 포함되어, 1970년 1월 1일부터 경과된 __'초단위 시간'__이 기재되어 있습니다."
   ]
  },
  {
   "cell_type": "markdown",
   "id": "outer-reform",
   "metadata": {},
   "source": [
    "### 1) 항목별 기본분석"
   ]
  },
  {
   "cell_type": "code",
   "execution_count": 207,
   "id": "postal-fighter",
   "metadata": {},
   "outputs": [
    {
     "data": {
      "text/plain": [
       "(6040, 3706)"
      ]
     },
     "execution_count": 207,
     "metadata": {},
     "output_type": "execute_result"
    }
   ],
   "source": [
    "data['UserId'].nunique(), data['ItemId'].nunique()"
   ]
  },
  {
   "cell_type": "markdown",
   "id": "normal-tomato",
   "metadata": {},
   "source": [
    "유저 계정 6040개, 아이템 3706개"
   ]
  },
  {
   "cell_type": "markdown",
   "id": "tribal-reference",
   "metadata": {},
   "source": [
    "### 2) Session Length"
   ]
  },
  {
   "cell_type": "code",
   "execution_count": 208,
   "id": "dressed-costa",
   "metadata": {},
   "outputs": [
    {
     "data": {
      "text/plain": [
       "UserId\n",
       "1        53\n",
       "2       129\n",
       "3        51\n",
       "4        21\n",
       "5       198\n",
       "       ... \n",
       "6036    888\n",
       "6037    202\n",
       "6038     20\n",
       "6039    123\n",
       "6040    341\n",
       "Length: 6040, dtype: int64"
      ]
     },
     "execution_count": 208,
     "metadata": {},
     "output_type": "execute_result"
    }
   ],
   "source": [
    "# 각 계정(UserID 당)이 아이템(Item) 을 클릭한 횟수\n",
    "session_length = data.groupby('UserId').size()\n",
    "session_length"
   ]
  },
  {
   "cell_type": "code",
   "execution_count": 209,
   "id": "incorporate-increase",
   "metadata": {},
   "outputs": [
    {
     "data": {
      "text/plain": [
       "(96.0, 165.5975165562914)"
      ]
     },
     "execution_count": 209,
     "metadata": {},
     "output_type": "execute_result"
    }
   ],
   "source": [
    "# 유저가 클릭한 행위의 평균 카운트\n",
    "session_length.median(), session_length.mean()"
   ]
  },
  {
   "cell_type": "code",
   "execution_count": 210,
   "id": "advance-arctic",
   "metadata": {},
   "outputs": [
    {
     "data": {
      "text/plain": [
       "(20, 2314)"
      ]
     },
     "execution_count": 210,
     "metadata": {},
     "output_type": "execute_result"
    }
   ],
   "source": [
    "# 유저가 클릭한 행위의 최소, 최대 카운트\n",
    "session_length.min(), session_length.max()"
   ]
  },
  {
   "cell_type": "code",
   "execution_count": 211,
   "id": "returning-gnome",
   "metadata": {},
   "outputs": [
    {
     "data": {
      "text/plain": [
       "1343.181000000005"
      ]
     },
     "execution_count": 211,
     "metadata": {},
     "output_type": "execute_result"
    }
   ],
   "source": [
    "session_length.quantile(0.999)"
   ]
  },
  {
   "cell_type": "markdown",
   "id": "stone-clone",
   "metadata": {},
   "source": [
    "99.9%에 해당하는 유저의 클릭수(카운트)는 약 1343 이하"
   ]
  },
  {
   "cell_type": "code",
   "execution_count": 11,
   "id": "naughty-boost",
   "metadata": {},
   "outputs": [
    {
     "data": {
      "text/html": [
       "<div>\n",
       "<style scoped>\n",
       "    .dataframe tbody tr th:only-of-type {\n",
       "        vertical-align: middle;\n",
       "    }\n",
       "\n",
       "    .dataframe tbody tr th {\n",
       "        vertical-align: top;\n",
       "    }\n",
       "\n",
       "    .dataframe thead th {\n",
       "        text-align: right;\n",
       "    }\n",
       "</style>\n",
       "<table border=\"1\" class=\"dataframe\">\n",
       "  <thead>\n",
       "    <tr style=\"text-align: right;\">\n",
       "      <th></th>\n",
       "      <th>UserId</th>\n",
       "      <th>ItemId</th>\n",
       "      <th>Rating</th>\n",
       "      <th>Time</th>\n",
       "    </tr>\n",
       "  </thead>\n",
       "  <tbody>\n",
       "    <tr>\n",
       "      <th>696969</th>\n",
       "      <td>4169</td>\n",
       "      <td>1268</td>\n",
       "      <td>5</td>\n",
       "      <td>965333392</td>\n",
       "    </tr>\n",
       "    <tr>\n",
       "      <th>697168</th>\n",
       "      <td>4169</td>\n",
       "      <td>2617</td>\n",
       "      <td>4</td>\n",
       "      <td>965333392</td>\n",
       "    </tr>\n",
       "    <tr>\n",
       "      <th>697185</th>\n",
       "      <td>4169</td>\n",
       "      <td>2628</td>\n",
       "      <td>4</td>\n",
       "      <td>965333392</td>\n",
       "    </tr>\n",
       "    <tr>\n",
       "      <th>697219</th>\n",
       "      <td>4169</td>\n",
       "      <td>2653</td>\n",
       "      <td>4</td>\n",
       "      <td>965333392</td>\n",
       "    </tr>\n",
       "    <tr>\n",
       "      <th>697275</th>\n",
       "      <td>4169</td>\n",
       "      <td>423</td>\n",
       "      <td>3</td>\n",
       "      <td>965333392</td>\n",
       "    </tr>\n",
       "    <tr>\n",
       "      <th>...</th>\n",
       "      <td>...</td>\n",
       "      <td>...</td>\n",
       "      <td>...</td>\n",
       "      <td>...</td>\n",
       "    </tr>\n",
       "    <tr>\n",
       "      <th>697882</th>\n",
       "      <td>4169</td>\n",
       "      <td>3754</td>\n",
       "      <td>2</td>\n",
       "      <td>1024174347</td>\n",
       "    </tr>\n",
       "    <tr>\n",
       "      <th>695702</th>\n",
       "      <td>4169</td>\n",
       "      <td>1413</td>\n",
       "      <td>3</td>\n",
       "      <td>1024175031</td>\n",
       "    </tr>\n",
       "    <tr>\n",
       "      <th>697358</th>\n",
       "      <td>4169</td>\n",
       "      <td>494</td>\n",
       "      <td>4</td>\n",
       "      <td>1024175760</td>\n",
       "    </tr>\n",
       "    <tr>\n",
       "      <th>695945</th>\n",
       "      <td>4169</td>\n",
       "      <td>1804</td>\n",
       "      <td>2</td>\n",
       "      <td>1024175783</td>\n",
       "    </tr>\n",
       "    <tr>\n",
       "      <th>696446</th>\n",
       "      <td>4169</td>\n",
       "      <td>1548</td>\n",
       "      <td>3</td>\n",
       "      <td>1024176337</td>\n",
       "    </tr>\n",
       "  </tbody>\n",
       "</table>\n",
       "<p>2314 rows × 4 columns</p>\n",
       "</div>"
      ],
      "text/plain": [
       "        UserId  ItemId  Rating        Time\n",
       "696969    4169    1268       5   965333392\n",
       "697168    4169    2617       4   965333392\n",
       "697185    4169    2628       4   965333392\n",
       "697219    4169    2653       4   965333392\n",
       "697275    4169     423       3   965333392\n",
       "...        ...     ...     ...         ...\n",
       "697882    4169    3754       2  1024174347\n",
       "695702    4169    1413       3  1024175031\n",
       "697358    4169     494       4  1024175760\n",
       "695945    4169    1804       2  1024175783\n",
       "696446    4169    1548       3  1024176337\n",
       "\n",
       "[2314 rows x 4 columns]"
      ]
     },
     "execution_count": 11,
     "metadata": {},
     "output_type": "execute_result"
    }
   ],
   "source": [
    "# 클릭수가 가장 많은 유저 행동 살펴보기\n",
    "long_session_length = session_length[session_length==2314].index[0]\n",
    "data[data['UserId']==long_session_length]"
   ]
  },
  {
   "cell_type": "markdown",
   "id": "united-independence",
   "metadata": {},
   "source": [
    "99.9% 이외에 해당하는 가장 많은 클릭 수를 보유한 계정은 동시에 다른 아이템에 평점을 매기고 있음. ==> 평점 조작 의혹"
   ]
  },
  {
   "cell_type": "code",
   "execution_count": 12,
   "id": "vanilla-apple",
   "metadata": {},
   "outputs": [
    {
     "data": {
      "text/plain": [
       "20      0.014238\n",
       "21      0.029305\n",
       "22      0.042053\n",
       "23      0.055464\n",
       "24      0.068874\n",
       "          ...   \n",
       "1271    0.998179\n",
       "1277    0.998344\n",
       "1286    0.998510\n",
       "1302    0.998675\n",
       "1323    0.998841\n",
       "Length: 736, dtype: float64"
      ]
     },
     "execution_count": 12,
     "metadata": {},
     "output_type": "execute_result"
    }
   ],
   "source": [
    "# 시각화\n",
    "# 클릭수 기준 하위 99.9%까지의 분포 누적합\n",
    "length_count = session_length.groupby(session_length).size()\n",
    "length_percent_cumsum = length_count.cumsum() / length_count.sum()\n",
    "length_percent_cumsum_999 = length_percent_cumsum[length_percent_cumsum < 0.999]\n",
    "\n",
    "length_percent_cumsum_999"
   ]
  },
  {
   "cell_type": "markdown",
   "id": "saving-pioneer",
   "metadata": {},
   "source": [
    "클릭수 20 ~ 1323에 약 99.9% 분포"
   ]
  },
  {
   "cell_type": "code",
   "execution_count": 13,
   "id": "entitled-resident",
   "metadata": {},
   "outputs": [
    {
     "data": {
      "image/png": "[encoded data removed]",
      "text/plain": [
       "<Figure size 1440x720 with 1 Axes>"
      ]
     },
     "metadata": {
      "needs_background": "light"
     },
     "output_type": "display_data"
    }
   ],
   "source": [
    "import matplotlib.pyplot as plt\n",
    "\n",
    "plt.figure(figsize=(20, 10))\n",
    "plt.bar(x=length_percent_cumsum_999.index,\n",
    "        height=length_percent_cumsum_999, color='grey')\n",
    "plt.xticks(length_percent_cumsum_999.index)\n",
    "plt.yticks(np.arange(0, 1.01, 0.05))\n",
    "plt.title('Cumsum Percentage Until 0.999', size=20)\n",
    "plt.show()"
   ]
  },
  {
   "cell_type": "markdown",
   "id": "exotic-culture",
   "metadata": {},
   "source": [
    "### 3) Session Time"
   ]
  },
  {
   "cell_type": "markdown",
   "id": "better-devices",
   "metadata": {},
   "source": [
    "Unix Time으로 표기된 Time 칼럼(time stamp)을 datetime 객체로 변환"
   ]
  },
  {
   "cell_type": "code",
   "execution_count": 85,
   "id": "humanitarian-convertible",
   "metadata": {},
   "outputs": [],
   "source": [
    "data['Time'] = data['Time'].apply(lambda x:dt.datetime.utcfromtimestamp(int(x)))"
   ]
  },
  {
   "cell_type": "code",
   "execution_count": 86,
   "id": "finnish-liechtenstein",
   "metadata": {},
   "outputs": [
    {
     "name": "stdout",
     "output_type": "stream",
     "text": [
      "2000-04-25 23:05:32\n",
      "2003-02-28 17:49:50\n"
     ]
    }
   ],
   "source": [
    "oldest, latest = data['Time'].min(), data['Time'].max()\n",
    "print(oldest) \n",
    "print(latest)"
   ]
  },
  {
   "cell_type": "code",
   "execution_count": 87,
   "id": "preliminary-nepal",
   "metadata": {},
   "outputs": [
    {
     "data": {
      "text/plain": [
       "pandas._libs.tslibs.timestamps.Timestamp"
      ]
     },
     "execution_count": 87,
     "metadata": {},
     "output_type": "execute_result"
    }
   ],
   "source": [
    "type(latest)"
   ]
  },
  {
   "cell_type": "markdown",
   "id": "minor-costs",
   "metadata": {},
   "source": [
    "- 최근 소비 트렌드로 학습하는 것이 중요하므로 __최근 1개월의 데이터만 사용__\n",
    "- 영화 콘텐츠 특성상 추천 기준을 다양하게 설정할 수 있다.\n",
    "- 여기에서는 최신 영화를 기준으로 추천할 것이기 때문에 최근 1개월 데이터를 사용하겠다."
   ]
  },
  {
   "cell_type": "code",
   "execution_count": 50,
   "id": "specified-india",
   "metadata": {},
   "outputs": [],
   "source": [
    "#month_ago = latest - dt.timedelta(30)     # 최종 날짜로부터 30일 이전 날짜를 구한다.  \n",
    "#data = data[data['Time'] > month_ago]   # 방금 구한 날짜 이후의 데이터만 모은다.\n",
    "#data"
   ]
  },
  {
   "cell_type": "code",
   "execution_count": 7,
   "id": "cross-cooking",
   "metadata": {},
   "outputs": [
    {
     "data": {
      "text/plain": [
       "6040"
      ]
     },
     "execution_count": 7,
     "metadata": {},
     "output_type": "execute_result"
    }
   ],
   "source": [
    "data['UserId'].nunique()"
   ]
  },
  {
   "cell_type": "code",
   "execution_count": 447,
   "id": "artificial-showcase",
   "metadata": {},
   "outputs": [
    {
     "data": {
      "text/plain": [
       "UserId\n",
       "1        53\n",
       "2       129\n",
       "3        51\n",
       "4        21\n",
       "5       198\n",
       "       ... \n",
       "6036    888\n",
       "6037    202\n",
       "6038     20\n",
       "6039    123\n",
       "6040    341\n",
       "Length: 6040, dtype: int64"
      ]
     },
     "execution_count": 447,
     "metadata": {},
     "output_type": "execute_result"
    }
   ],
   "source": [
    "data.groupby('UserId').size()"
   ]
  },
  {
   "cell_type": "code",
   "execution_count": 448,
   "id": "elect-hazard",
   "metadata": {},
   "outputs": [
    {
     "data": {
      "text/plain": [
       "3706"
      ]
     },
     "execution_count": 448,
     "metadata": {},
     "output_type": "execute_result"
    }
   ],
   "source": [
    "data['ItemId'].nunique()"
   ]
  },
  {
   "cell_type": "code",
   "execution_count": 449,
   "id": "interpreted-boston",
   "metadata": {},
   "outputs": [
    {
     "data": {
      "text/plain": [
       "ItemId\n",
       "1       2077\n",
       "2        701\n",
       "3        478\n",
       "4        170\n",
       "5        296\n",
       "        ... \n",
       "3948     862\n",
       "3949     304\n",
       "3950      54\n",
       "3951      40\n",
       "3952     388\n",
       "Length: 3706, dtype: int64"
      ]
     },
     "execution_count": 449,
     "metadata": {},
     "output_type": "execute_result"
    }
   ],
   "source": [
    "data.groupby('ItemId').size()"
   ]
  },
  {
   "cell_type": "markdown",
   "id": "annual-snowboard",
   "metadata": {},
   "source": [
    "### 4) Cleaning"
   ]
  },
  {
   "cell_type": "markdown",
   "id": "universal-bronze",
   "metadata": {},
   "source": [
    "- ①길이가 1인 세션은 제거\n",
    "- ②너무 적게 클릭된 아이템도 제거"
   ]
  },
  {
   "cell_type": "code",
   "execution_count": 89,
   "id": "entertaining-defeat",
   "metadata": {},
   "outputs": [],
   "source": [
    "# short_session을 제거한 다음 unpopular item을 제거하면 다시 길이가 1인 session이 생길 수 있습니다.\n",
    "# 이를 위해 반복문을 통해 지속적으로 제거 합니다.\n",
    "def cleanse_recursive(data: pd.DataFrame, shortest, least_click) -> pd.DataFrame:\n",
    "    while True:\n",
    "        before_len = len(data)\n",
    "        data = cleanse_short_session(data, shortest)\n",
    "        data = cleanse_unpopular_item(data, least_click)\n",
    "        \n",
    "        #data = cleanse_low_ratings(data, low_ratings)\n",
    "        \n",
    "        after_len = len(data)\n",
    "        if before_len == after_len:\n",
    "            break\n",
    "    return data\n",
    "\n",
    "\n",
    "def cleanse_short_session(data: pd.DataFrame, shortest):\n",
    "    session_len = data.groupby('UserId').size()\n",
    "    session_use = session_len[session_len >= shortest].index\n",
    "    data = data[data['UserId'].isin(session_use)]\n",
    "    return data\n",
    "\n",
    "\n",
    "def cleanse_unpopular_item(data: pd.DataFrame, least_click):\n",
    "    item_popular = data.groupby('ItemId').size()\n",
    "    item_use = item_popular[item_popular >= least_click].index\n",
    "    data = data[data['ItemId'].isin(item_use)]\n",
    "    return data\n",
    "\n",
    "#def cleanse_low_ratings(data: pd.DataFrame, low_ratings):\n",
    "#    ratings_len = data.groupby('Rating').size()\n",
    "#    ratings_use = ratings_len[ratings_len >= low_ratings].index\n",
    "#    data = data[data['Rating'].isin(ratings_use)]\n",
    "#    return data"
   ]
  },
  {
   "cell_type": "code",
   "execution_count": 90,
   "id": "chronic-allergy",
   "metadata": {},
   "outputs": [
    {
     "data": {
      "text/plain": [
       "UserId\n",
       "1        53\n",
       "2       129\n",
       "3        51\n",
       "4        21\n",
       "5       198\n",
       "       ... \n",
       "6036    888\n",
       "6037    202\n",
       "6038     20\n",
       "6039    123\n",
       "6040    341\n",
       "Length: 6040, dtype: int64"
      ]
     },
     "execution_count": 90,
     "metadata": {},
     "output_type": "execute_result"
    }
   ],
   "source": [
    "session_len = data.groupby('UserId').size()\n",
    "session_len"
   ]
  },
  {
   "cell_type": "code",
   "execution_count": 91,
   "id": "second-philosophy",
   "metadata": {},
   "outputs": [
    {
     "data": {
      "text/plain": [
       "Rating\n",
       "1     56174\n",
       "2    107557\n",
       "3    261197\n",
       "4    348971\n",
       "5    226310\n",
       "dtype: int64"
      ]
     },
     "execution_count": 91,
     "metadata": {},
     "output_type": "execute_result"
    }
   ],
   "source": [
    "ratings_len = data.groupby('Rating').size()\n",
    "ratings_len"
   ]
  },
  {
   "cell_type": "markdown",
   "id": "appropriate-michael",
   "metadata": {},
   "source": [
    "동일 유저가 최소 2번 이상 클릭하고, 모든 유저의 클릭 중에서 적어도 4번 이상 클릭된 아이템 선별"
   ]
  },
  {
   "cell_type": "code",
   "execution_count": 92,
   "id": "traditional-dairy",
   "metadata": {},
   "outputs": [
    {
     "data": {
      "text/html": [
       "<div>\n",
       "<style scoped>\n",
       "    .dataframe tbody tr th:only-of-type {\n",
       "        vertical-align: middle;\n",
       "    }\n",
       "\n",
       "    .dataframe tbody tr th {\n",
       "        vertical-align: top;\n",
       "    }\n",
       "\n",
       "    .dataframe thead th {\n",
       "        text-align: right;\n",
       "    }\n",
       "</style>\n",
       "<table border=\"1\" class=\"dataframe\">\n",
       "  <thead>\n",
       "    <tr style=\"text-align: right;\">\n",
       "      <th></th>\n",
       "      <th>UserId</th>\n",
       "      <th>ItemId</th>\n",
       "      <th>Rating</th>\n",
       "      <th>Time</th>\n",
       "    </tr>\n",
       "  </thead>\n",
       "  <tbody>\n",
       "    <tr>\n",
       "      <th>38953</th>\n",
       "      <td>264</td>\n",
       "      <td>266</td>\n",
       "      <td>1</td>\n",
       "      <td>2000-12-12 20:45:29</td>\n",
       "    </tr>\n",
       "    <tr>\n",
       "      <th>313596</th>\n",
       "      <td>1871</td>\n",
       "      <td>2527</td>\n",
       "      <td>1</td>\n",
       "      <td>2000-11-20 04:26:20</td>\n",
       "    </tr>\n",
       "    <tr>\n",
       "      <th>208047</th>\n",
       "      <td>1272</td>\n",
       "      <td>1721</td>\n",
       "      <td>1</td>\n",
       "      <td>2000-11-21 14:46:25</td>\n",
       "    </tr>\n",
       "    <tr>\n",
       "      <th>687851</th>\n",
       "      <td>4115</td>\n",
       "      <td>1994</td>\n",
       "      <td>1</td>\n",
       "      <td>2000-08-04 04:59:15</td>\n",
       "    </tr>\n",
       "    <tr>\n",
       "      <th>47595</th>\n",
       "      <td>319</td>\n",
       "      <td>344</td>\n",
       "      <td>1</td>\n",
       "      <td>2000-12-10 04:30:05</td>\n",
       "    </tr>\n",
       "    <tr>\n",
       "      <th>...</th>\n",
       "      <td>...</td>\n",
       "      <td>...</td>\n",
       "      <td>...</td>\n",
       "      <td>...</td>\n",
       "    </tr>\n",
       "    <tr>\n",
       "      <th>759989</th>\n",
       "      <td>4515</td>\n",
       "      <td>1197</td>\n",
       "      <td>5</td>\n",
       "      <td>2000-07-30 22:50:04</td>\n",
       "    </tr>\n",
       "    <tr>\n",
       "      <th>759996</th>\n",
       "      <td>4515</td>\n",
       "      <td>1262</td>\n",
       "      <td>5</td>\n",
       "      <td>2000-07-30 22:49:35</td>\n",
       "    </tr>\n",
       "    <tr>\n",
       "      <th>321497</th>\n",
       "      <td>1905</td>\n",
       "      <td>3089</td>\n",
       "      <td>5</td>\n",
       "      <td>2000-11-20 03:38:22</td>\n",
       "    </tr>\n",
       "    <tr>\n",
       "      <th>323078</th>\n",
       "      <td>1916</td>\n",
       "      <td>3089</td>\n",
       "      <td>5</td>\n",
       "      <td>2000-11-20 03:47:12</td>\n",
       "    </tr>\n",
       "    <tr>\n",
       "      <th>500101</th>\n",
       "      <td>3070</td>\n",
       "      <td>2859</td>\n",
       "      <td>5</td>\n",
       "      <td>2000-09-26 04:44:38</td>\n",
       "    </tr>\n",
       "  </tbody>\n",
       "</table>\n",
       "<p>999791 rows × 4 columns</p>\n",
       "</div>"
      ],
      "text/plain": [
       "        UserId  ItemId  Rating                Time\n",
       "38953      264     266       1 2000-12-12 20:45:29\n",
       "313596    1871    2527       1 2000-11-20 04:26:20\n",
       "208047    1272    1721       1 2000-11-21 14:46:25\n",
       "687851    4115    1994       1 2000-08-04 04:59:15\n",
       "47595      319     344       1 2000-12-10 04:30:05\n",
       "...        ...     ...     ...                 ...\n",
       "759989    4515    1197       5 2000-07-30 22:50:04\n",
       "759996    4515    1262       5 2000-07-30 22:49:35\n",
       "321497    1905    3089       5 2000-11-20 03:38:22\n",
       "323078    1916    3089       5 2000-11-20 03:47:12\n",
       "500101    3070    2859       5 2000-09-26 04:44:38\n",
       "\n",
       "[999791 rows x 4 columns]"
      ]
     },
     "execution_count": 92,
     "metadata": {},
     "output_type": "execute_result"
    }
   ],
   "source": [
    "data = cleanse_recursive(data, shortest=2, least_click=4) # , low_ratings=2\n",
    "data.sort_values(by=['Rating'], axis=0)"
   ]
  },
  {
   "cell_type": "code",
   "execution_count": 55,
   "id": "smaller-fruit",
   "metadata": {},
   "outputs": [
    {
     "name": "stdout",
     "output_type": "stream",
     "text": [
      "56093 107473 261087 348863 226275\n"
     ]
    }
   ],
   "source": [
    "print(sum(data['Rating']==1), sum(data['Rating']==2), \n",
    "      sum(data['Rating']==3), sum(data['Rating']==4), sum(data['Rating']==5))"
   ]
  },
  {
   "cell_type": "code",
   "execution_count": 93,
   "id": "stuck-exercise",
   "metadata": {},
   "outputs": [
    {
     "data": {
      "text/plain": [
       "6040"
      ]
     },
     "execution_count": 93,
     "metadata": {},
     "output_type": "execute_result"
    }
   ],
   "source": [
    "data['UserId'].nunique()"
   ]
  },
  {
   "cell_type": "code",
   "execution_count": 94,
   "id": "initial-experiment",
   "metadata": {},
   "outputs": [
    {
     "data": {
      "text/plain": [
       "UserId\n",
       "1        53\n",
       "2       129\n",
       "3        51\n",
       "4        21\n",
       "5       198\n",
       "       ... \n",
       "6036    888\n",
       "6037    202\n",
       "6038     20\n",
       "6039    123\n",
       "6040    341\n",
       "Length: 6040, dtype: int64"
      ]
     },
     "execution_count": 94,
     "metadata": {},
     "output_type": "execute_result"
    }
   ],
   "source": [
    "data.groupby('UserId').size()"
   ]
  },
  {
   "cell_type": "code",
   "execution_count": 471,
   "id": "arctic-smooth",
   "metadata": {},
   "outputs": [
    {
     "data": {
      "text/plain": [
       "3461"
      ]
     },
     "execution_count": 471,
     "metadata": {},
     "output_type": "execute_result"
    }
   ],
   "source": [
    "data['ItemId'].nunique()"
   ]
  },
  {
   "cell_type": "code",
   "execution_count": 472,
   "id": "increasing-luxembourg",
   "metadata": {},
   "outputs": [
    {
     "data": {
      "text/plain": [
       "ItemId\n",
       "1       2077\n",
       "2        701\n",
       "3        478\n",
       "4        170\n",
       "5        296\n",
       "        ... \n",
       "3948     862\n",
       "3949     304\n",
       "3950      54\n",
       "3951      40\n",
       "3952     388\n",
       "Length: 3461, dtype: int64"
      ]
     },
     "execution_count": 472,
     "metadata": {},
     "output_type": "execute_result"
    }
   ],
   "source": [
    "data.groupby('ItemId').size()"
   ]
  },
  {
   "cell_type": "code",
   "execution_count": 11,
   "id": "falling-alfred",
   "metadata": {},
   "outputs": [
    {
     "name": "stdout",
     "output_type": "stream",
     "text": [
      "<class 'pandas.core.frame.DataFrame'>\n",
      "Int64Index: 999791 entries, 31 to 1000042\n",
      "Data columns (total 4 columns):\n",
      " #   Column  Non-Null Count   Dtype         \n",
      "---  ------  --------------   -----         \n",
      " 0   UserId  999791 non-null  int32         \n",
      " 1   ItemId  999791 non-null  int32         \n",
      " 2   Rating  999791 non-null  int32         \n",
      " 3   Time    999791 non-null  datetime64[ns]\n",
      "dtypes: datetime64[ns](1), int32(3)\n",
      "memory usage: 26.7 MB\n"
     ]
    }
   ],
   "source": [
    "data.info()"
   ]
  },
  {
   "cell_type": "markdown",
   "id": "premier-place",
   "metadata": {},
   "source": [
    "### 5) Train / Valid / Test split"
   ]
  },
  {
   "cell_type": "markdown",
   "id": "foreign-insulation",
   "metadata": {},
   "source": [
    "##### -------------------------------------------------------------------"
   ]
  },
  {
   "cell_type": "markdown",
   "id": "medieval-highway",
   "metadata": {},
   "source": [
    "yoochoose-test.dat 데이터 확인"
   ]
  },
  {
   "cell_type": "code",
   "execution_count": 20,
   "id": "incorporated-australia",
   "metadata": {},
   "outputs": [],
   "source": [
    "test = pd.read_csv(data_path / 'yoochoose-test.dat')"
   ]
  },
  {
   "cell_type": "code",
   "execution_count": 21,
   "id": "scenic-moderator",
   "metadata": {},
   "outputs": [
    {
     "data": {
      "text/html": [
       "<div>\n",
       "<style scoped>\n",
       "    .dataframe tbody tr th:only-of-type {\n",
       "        vertical-align: middle;\n",
       "    }\n",
       "\n",
       "    .dataframe tbody tr th {\n",
       "        vertical-align: top;\n",
       "    }\n",
       "\n",
       "    .dataframe thead th {\n",
       "        text-align: right;\n",
       "    }\n",
       "</style>\n",
       "<table border=\"1\" class=\"dataframe\">\n",
       "  <thead>\n",
       "    <tr style=\"text-align: right;\">\n",
       "      <th></th>\n",
       "      <th>5</th>\n",
       "      <th>2014-04-07T17:13:46.713Z</th>\n",
       "      <th>214530776</th>\n",
       "      <th>0</th>\n",
       "    </tr>\n",
       "  </thead>\n",
       "  <tbody>\n",
       "    <tr>\n",
       "      <th>17414</th>\n",
       "      <td>23675</td>\n",
       "      <td>2014-04-01T03:00:08.250Z</td>\n",
       "      <td>214842345</td>\n",
       "      <td>0</td>\n",
       "    </tr>\n",
       "    <tr>\n",
       "      <th>102459</th>\n",
       "      <td>123545</td>\n",
       "      <td>2014-04-01T03:00:17.603Z</td>\n",
       "      <td>214717003</td>\n",
       "      <td>0</td>\n",
       "    </tr>\n",
       "    <tr>\n",
       "      <th>17415</th>\n",
       "      <td>23675</td>\n",
       "      <td>2014-04-01T03:00:31.643Z</td>\n",
       "      <td>214639372</td>\n",
       "      <td>0</td>\n",
       "    </tr>\n",
       "    <tr>\n",
       "      <th>29726</th>\n",
       "      <td>40525</td>\n",
       "      <td>2014-04-01T03:00:32.008Z</td>\n",
       "      <td>214684320</td>\n",
       "      <td>0</td>\n",
       "    </tr>\n",
       "    <tr>\n",
       "      <th>17416</th>\n",
       "      <td>23675</td>\n",
       "      <td>2014-04-01T03:00:44.712Z</td>\n",
       "      <td>214591470</td>\n",
       "      <td>0</td>\n",
       "    </tr>\n",
       "    <tr>\n",
       "      <th>...</th>\n",
       "      <td>...</td>\n",
       "      <td>...</td>\n",
       "      <td>...</td>\n",
       "      <td>...</td>\n",
       "    </tr>\n",
       "    <tr>\n",
       "      <th>8234196</th>\n",
       "      <td>11274485</td>\n",
       "      <td>2014-09-30T02:55:38.243Z</td>\n",
       "      <td>214859870</td>\n",
       "      <td>S</td>\n",
       "    </tr>\n",
       "    <tr>\n",
       "      <th>8076709</th>\n",
       "      <td>11539880</td>\n",
       "      <td>2014-09-30T02:58:36.151Z</td>\n",
       "      <td>214526083</td>\n",
       "      <td>2</td>\n",
       "    </tr>\n",
       "    <tr>\n",
       "      <th>8146305</th>\n",
       "      <td>11411890</td>\n",
       "      <td>2014-09-30T02:58:47.108Z</td>\n",
       "      <td>214696432</td>\n",
       "      <td>0</td>\n",
       "    </tr>\n",
       "    <tr>\n",
       "      <th>8106572</th>\n",
       "      <td>11471850</td>\n",
       "      <td>2014-09-30T02:59:10.846Z</td>\n",
       "      <td>214690127</td>\n",
       "      <td>S</td>\n",
       "    </tr>\n",
       "    <tr>\n",
       "      <th>8076710</th>\n",
       "      <td>11539880</td>\n",
       "      <td>2014-09-30T02:59:23.866Z</td>\n",
       "      <td>214526083</td>\n",
       "      <td>2</td>\n",
       "    </tr>\n",
       "  </tbody>\n",
       "</table>\n",
       "<p>8251790 rows × 4 columns</p>\n",
       "</div>"
      ],
      "text/plain": [
       "                5  2014-04-07T17:13:46.713Z  214530776  0\n",
       "17414       23675  2014-04-01T03:00:08.250Z  214842345  0\n",
       "102459     123545  2014-04-01T03:00:17.603Z  214717003  0\n",
       "17415       23675  2014-04-01T03:00:31.643Z  214639372  0\n",
       "29726       40525  2014-04-01T03:00:32.008Z  214684320  0\n",
       "17416       23675  2014-04-01T03:00:44.712Z  214591470  0\n",
       "...           ...                       ...        ... ..\n",
       "8234196  11274485  2014-09-30T02:55:38.243Z  214859870  S\n",
       "8076709  11539880  2014-09-30T02:58:36.151Z  214526083  2\n",
       "8146305  11411890  2014-09-30T02:58:47.108Z  214696432  0\n",
       "8106572  11471850  2014-09-30T02:59:10.846Z  214690127  S\n",
       "8076710  11539880  2014-09-30T02:59:23.866Z  214526083  2\n",
       "\n",
       "[8251790 rows x 4 columns]"
      ]
     },
     "execution_count": 21,
     "metadata": {},
     "output_type": "execute_result"
    }
   ],
   "source": [
    "test.sort_values(by=['2014-04-07T17:13:46.713Z'], axis=0)"
   ]
  },
  {
   "cell_type": "markdown",
   "id": "eastern-clothing",
   "metadata": {},
   "source": [
    "- ratings.dat의 최근 1개월 데이터는 2003년에 해당한다. yoochoose-test 데이터는 2014년 데이터이다. LMS 노드에서는 yoochoose-clikcks.dat 데이터와 yoochoose-test.dat 데이터의 기간이 겹치기 때문에 준비된 test set을 사용하지 않고, yoochoose-clikcks.dat 데이터에서 train, valid, test 셋을 나누었다.\n",
    "- 해당 노트북에서는 yoochoose-test.dat를 사용할 수 없으므로, ratings.dat에서 train, valid, test 셋을 만들어 사용한다."
   ]
  },
  {
   "cell_type": "markdown",
   "id": "emotional-payroll",
   "metadata": {},
   "source": [
    "##### -------------------------------------------------------------------"
   ]
  },
  {
   "cell_type": "markdown",
   "id": "difficult-hollywood",
   "metadata": {},
   "source": [
    "시간을 기준으로 train, validation, test set 나누기"
   ]
  },
  {
   "cell_type": "code",
   "execution_count": 95,
   "id": "short-savings",
   "metadata": {},
   "outputs": [
    {
     "data": {
      "text/plain": [
       "(Timestamp('2000-04-25 23:05:32'), Timestamp('2003-02-28 17:49:50'))"
      ]
     },
     "execution_count": 95,
     "metadata": {},
     "output_type": "execute_result"
    }
   ],
   "source": [
    "data['Time'].min(), data['Time'].max()"
   ]
  },
  {
   "cell_type": "code",
   "execution_count": 96,
   "id": "acting-transcript",
   "metadata": {},
   "outputs": [
    {
     "data": {
      "text/html": [
       "<div>\n",
       "<style scoped>\n",
       "    .dataframe tbody tr th:only-of-type {\n",
       "        vertical-align: middle;\n",
       "    }\n",
       "\n",
       "    .dataframe tbody tr th {\n",
       "        vertical-align: top;\n",
       "    }\n",
       "\n",
       "    .dataframe thead th {\n",
       "        text-align: right;\n",
       "    }\n",
       "</style>\n",
       "<table border=\"1\" class=\"dataframe\">\n",
       "  <thead>\n",
       "    <tr style=\"text-align: right;\">\n",
       "      <th></th>\n",
       "      <th>UserId</th>\n",
       "      <th>ItemId</th>\n",
       "      <th>Rating</th>\n",
       "      <th>Time</th>\n",
       "    </tr>\n",
       "  </thead>\n",
       "  <tbody>\n",
       "    <tr>\n",
       "      <th>1000138</th>\n",
       "      <td>6040</td>\n",
       "      <td>858</td>\n",
       "      <td>4</td>\n",
       "      <td>2000-04-25 23:05:32</td>\n",
       "    </tr>\n",
       "    <tr>\n",
       "      <th>999873</th>\n",
       "      <td>6040</td>\n",
       "      <td>593</td>\n",
       "      <td>5</td>\n",
       "      <td>2000-04-25 23:05:54</td>\n",
       "    </tr>\n",
       "    <tr>\n",
       "      <th>1000153</th>\n",
       "      <td>6040</td>\n",
       "      <td>2384</td>\n",
       "      <td>4</td>\n",
       "      <td>2000-04-25 23:05:54</td>\n",
       "    </tr>\n",
       "    <tr>\n",
       "      <th>1000007</th>\n",
       "      <td>6040</td>\n",
       "      <td>1961</td>\n",
       "      <td>4</td>\n",
       "      <td>2000-04-25 23:06:17</td>\n",
       "    </tr>\n",
       "    <tr>\n",
       "      <th>1000192</th>\n",
       "      <td>6040</td>\n",
       "      <td>2019</td>\n",
       "      <td>5</td>\n",
       "      <td>2000-04-25 23:06:17</td>\n",
       "    </tr>\n",
       "    <tr>\n",
       "      <th>...</th>\n",
       "      <td>...</td>\n",
       "      <td>...</td>\n",
       "      <td>...</td>\n",
       "      <td>...</td>\n",
       "    </tr>\n",
       "    <tr>\n",
       "      <th>825793</th>\n",
       "      <td>4958</td>\n",
       "      <td>2399</td>\n",
       "      <td>1</td>\n",
       "      <td>2003-02-28 17:45:38</td>\n",
       "    </tr>\n",
       "    <tr>\n",
       "      <th>825438</th>\n",
       "      <td>4958</td>\n",
       "      <td>1407</td>\n",
       "      <td>5</td>\n",
       "      <td>2003-02-28 17:47:23</td>\n",
       "    </tr>\n",
       "    <tr>\n",
       "      <th>825731</th>\n",
       "      <td>4958</td>\n",
       "      <td>2634</td>\n",
       "      <td>3</td>\n",
       "      <td>2003-02-28 17:49:08</td>\n",
       "    </tr>\n",
       "    <tr>\n",
       "      <th>825724</th>\n",
       "      <td>4958</td>\n",
       "      <td>3264</td>\n",
       "      <td>4</td>\n",
       "      <td>2003-02-28 17:49:08</td>\n",
       "    </tr>\n",
       "    <tr>\n",
       "      <th>825603</th>\n",
       "      <td>4958</td>\n",
       "      <td>1924</td>\n",
       "      <td>4</td>\n",
       "      <td>2003-02-28 17:49:50</td>\n",
       "    </tr>\n",
       "  </tbody>\n",
       "</table>\n",
       "<p>999791 rows × 4 columns</p>\n",
       "</div>"
      ],
      "text/plain": [
       "         UserId  ItemId  Rating                Time\n",
       "1000138    6040     858       4 2000-04-25 23:05:32\n",
       "999873     6040     593       5 2000-04-25 23:05:54\n",
       "1000153    6040    2384       4 2000-04-25 23:05:54\n",
       "1000007    6040    1961       4 2000-04-25 23:06:17\n",
       "1000192    6040    2019       5 2000-04-25 23:06:17\n",
       "...         ...     ...     ...                 ...\n",
       "825793     4958    2399       1 2003-02-28 17:45:38\n",
       "825438     4958    1407       5 2003-02-28 17:47:23\n",
       "825731     4958    2634       3 2003-02-28 17:49:08\n",
       "825724     4958    3264       4 2003-02-28 17:49:08\n",
       "825603     4958    1924       4 2003-02-28 17:49:50\n",
       "\n",
       "[999791 rows x 4 columns]"
      ]
     },
     "execution_count": 96,
     "metadata": {},
     "output_type": "execute_result"
    }
   ],
   "source": [
    "data.sort_values(by=['Time'], axis=0)"
   ]
  },
  {
   "cell_type": "code",
   "execution_count": 408,
   "id": "inclusive-cooler",
   "metadata": {},
   "outputs": [],
   "source": [
    "#pd.set_option('display.max_columns', 0)\n",
    "\n",
    "#def split_by_date(data: pd.DataFrame, n_days: int):\n",
    "#    final_time = data['Time'].max()\n",
    "#    session_last_time = data.groupby('UserId')['Time'].max()\n",
    "#    session_in_train = session_last_time[session_last_time < final_time - dt.timedelta(n_days)].index\n",
    "#    session_in_test = session_last_time[session_last_time >= final_time - dt.timedelta(n_days)].index\n",
    "\n",
    "#    before_date = data[data['UserId'].isin(session_in_train)]\n",
    "#    after_date = data[data['UserId'].isin(session_in_test)]\n",
    "#    after_date = after_date[after_date['ItemId'].isin(before_date['ItemId'])]\n",
    "#    return before_date, after_date"
   ]
  },
  {
   "cell_type": "code",
   "execution_count": 409,
   "id": "removed-caribbean",
   "metadata": {},
   "outputs": [],
   "source": [
    "#tr, test = split_by_date(data, n_days=1)\n",
    "#tr, val = split_by_date(tr, n_days=1)"
   ]
  },
  {
   "cell_type": "code",
   "execution_count": 97,
   "id": "animal-board",
   "metadata": {},
   "outputs": [],
   "source": [
    "data_train = data[:699900]\n",
    "data_val = data[699900:899900]\n",
    "data_test = data[899900:]"
   ]
  },
  {
   "cell_type": "code",
   "execution_count": 98,
   "id": "affected-patent",
   "metadata": {},
   "outputs": [],
   "source": [
    "# data에 대한 정보를 살펴봅니다.\n",
    "def stats_info(data: pd.DataFrame, status: str):\n",
    "    print(f'* {status} Set Stats Info\\n'\n",
    "          f'\\t Events: {len(data)}\\n'\n",
    "          f'\\t Sessions: {data[\"UserId\"].nunique()}\\n'\n",
    "          f'\\t Items: {data[\"ItemId\"].nunique()}\\n'\n",
    "          f'\\t First Time : {data[\"Time\"].min()}\\n'\n",
    "          f'\\t Last Time : {data[\"Time\"].max()}\\n')"
   ]
  },
  {
   "cell_type": "code",
   "execution_count": 99,
   "id": "polish-james",
   "metadata": {},
   "outputs": [
    {
     "name": "stdout",
     "output_type": "stream",
     "text": [
      "* train Set Stats Info\n",
      "\t Events: 699900\n",
      "\t Sessions: 4188\n",
      "\t Items: 3460\n",
      "\t First Time : 2000-08-03 18:05:41\n",
      "\t Last Time : 2003-02-28 00:51:39\n",
      "\n",
      "* valid Set Stats Info\n",
      "\t Events: 200000\n",
      "\t Sessions: 1256\n",
      "\t Items: 3368\n",
      "\t First Time : 2000-06-02 20:50:58\n",
      "\t Last Time : 2003-02-28 17:49:50\n",
      "\n",
      "* test Set Stats Info\n",
      "\t Events: 99891\n",
      "\t Sessions: 598\n",
      "\t Items: 3180\n",
      "\t First Time : 2000-04-25 23:05:32\n",
      "\t Last Time : 2003-02-28 13:12:12\n",
      "\n"
     ]
    }
   ],
   "source": [
    "stats_info(data_train, 'train')\n",
    "stats_info(data_val, 'valid')\n",
    "stats_info(data_test, 'test')"
   ]
  },
  {
   "cell_type": "code",
   "execution_count": 100,
   "id": "opponent-murray",
   "metadata": {},
   "outputs": [],
   "source": [
    "# train set에 없는 아이템이 val, test기간에 생길 수 있으므로 train data를 기준으로 인덱싱합니다.\n",
    "id2idx = {item_id : index for index, item_id in enumerate(data_train['ItemId'].unique())}\n",
    "\n",
    "def indexing(df, id2idx):\n",
    "    df['item_idx'] = df['ItemId'].map(lambda x: id2idx.get(x, -1))  # id2idx에 없는 아이템은 모르는 값(-1) 처리 해줍니다.\n",
    "    return df\n",
    "\n",
    "data_train = indexing(data_train, id2idx)\n",
    "data_val = indexing(data_val, id2idx)\n",
    "data_test = indexing(data_test, id2idx)"
   ]
  },
  {
   "cell_type": "code",
   "execution_count": 101,
   "id": "coral-tracy",
   "metadata": {},
   "outputs": [],
   "source": [
    "save_path = data_path / 'processed'\n",
    "save_path.mkdir(parents=True, exist_ok=True)\n",
    "\n",
    "data_train.to_pickle(save_path / 'train.pkl')\n",
    "data_val.to_pickle(save_path / 'valid.pkl')\n",
    "data_test.to_pickle(save_path / 'test.pkl')"
   ]
  },
  {
   "cell_type": "markdown",
   "id": "numeric-proof",
   "metadata": {},
   "source": [
    "---------------------------------------------------------------------------"
   ]
  },
  {
   "cell_type": "markdown",
   "id": "medical-cover",
   "metadata": {},
   "source": [
    "# Step2. 미니 배치 구성"
   ]
  },
  {
   "cell_type": "markdown",
   "id": "thermal-armenia",
   "metadata": {},
   "source": [
    "- 데이터셋과 미니 배치를 구성\n",
    "- Session-Parallel Mini-Batch의 개념에 따라, 학습 속도의 저하가 최소화될 수 있도록 구성\n",
    "- 단, 위 Step 1에서 Session 단위를 어떻게 정의했느냐에 따라서 Session-Parallel Mini-Batch이 굳이 필요하지 않을 수도 있습니다."
   ]
  },
  {
   "cell_type": "markdown",
   "id": "intensive-pressing",
   "metadata": {},
   "source": [
    "### 1) SessionDataset"
   ]
  },
  {
   "cell_type": "markdown",
   "id": "advised-specific",
   "metadata": {},
   "source": [
    "데이터가 주어지면 세션이 시작되는 인덱스를 담는 값과 세션을 새로 인덱싱한 값을 갖는 클래스를 만듭니다."
   ]
  },
  {
   "cell_type": "markdown",
   "id": "built-arizona",
   "metadata": {},
   "source": [
    "train데이터로 SessionDataset 객체를 만들고 인스턴스 변수들을 살펴보겠습니다.\n",
    "click_offsets 변수는 각 세션이 시작된 인덱스를 담고 있습니다.\n",
    "session_idx 변수는 각 세션을 인덱싱한 np.array 입니다."
   ]
  },
  {
   "cell_type": "code",
   "execution_count": 102,
   "id": "shaped-natural",
   "metadata": {},
   "outputs": [],
   "source": [
    "class SessionDataset:\n",
    "    \"\"\"Credit to yhs-968/pyGRU4REC.\"\"\"\n",
    "\n",
    "    def __init__(self, data):\n",
    "        self.df = data\n",
    "        self.click_offsets = self.get_click_offsets()\n",
    "        self.session_idx = np.arange(self.df['UserId'].nunique())  # indexing to UserId\n",
    "\n",
    "    def get_click_offsets(self):\n",
    "        \"\"\"\n",
    "        Return the indexes of the first click of each User IDs,\n",
    "        \"\"\"\n",
    "        offsets = np.zeros(self.df['UserId'].nunique() + 1, dtype=np.int32)\n",
    "        offsets[1:] = self.df.groupby('UserId').size().cumsum()\n",
    "        return offsets"
   ]
  },
  {
   "cell_type": "code",
   "execution_count": 103,
   "id": "beneficial-sender",
   "metadata": {},
   "outputs": [
    {
     "data": {
      "text/html": [
       "<div>\n",
       "<style scoped>\n",
       "    .dataframe tbody tr th:only-of-type {\n",
       "        vertical-align: middle;\n",
       "    }\n",
       "\n",
       "    .dataframe tbody tr th {\n",
       "        vertical-align: top;\n",
       "    }\n",
       "\n",
       "    .dataframe thead th {\n",
       "        text-align: right;\n",
       "    }\n",
       "</style>\n",
       "<table border=\"1\" class=\"dataframe\">\n",
       "  <thead>\n",
       "    <tr style=\"text-align: right;\">\n",
       "      <th></th>\n",
       "      <th>UserId</th>\n",
       "      <th>ItemId</th>\n",
       "      <th>Rating</th>\n",
       "      <th>Time</th>\n",
       "      <th>item_idx</th>\n",
       "    </tr>\n",
       "  </thead>\n",
       "  <tbody>\n",
       "    <tr>\n",
       "      <th>31</th>\n",
       "      <td>1</td>\n",
       "      <td>3186</td>\n",
       "      <td>4</td>\n",
       "      <td>2000-12-31 22:00:19</td>\n",
       "      <td>0</td>\n",
       "    </tr>\n",
       "    <tr>\n",
       "      <th>22</th>\n",
       "      <td>1</td>\n",
       "      <td>1270</td>\n",
       "      <td>5</td>\n",
       "      <td>2000-12-31 22:00:55</td>\n",
       "      <td>1</td>\n",
       "    </tr>\n",
       "    <tr>\n",
       "      <th>27</th>\n",
       "      <td>1</td>\n",
       "      <td>1721</td>\n",
       "      <td>4</td>\n",
       "      <td>2000-12-31 22:00:55</td>\n",
       "      <td>2</td>\n",
       "    </tr>\n",
       "    <tr>\n",
       "      <th>37</th>\n",
       "      <td>1</td>\n",
       "      <td>1022</td>\n",
       "      <td>5</td>\n",
       "      <td>2000-12-31 22:00:55</td>\n",
       "      <td>3</td>\n",
       "    </tr>\n",
       "    <tr>\n",
       "      <th>24</th>\n",
       "      <td>1</td>\n",
       "      <td>2340</td>\n",
       "      <td>3</td>\n",
       "      <td>2000-12-31 22:01:43</td>\n",
       "      <td>4</td>\n",
       "    </tr>\n",
       "    <tr>\n",
       "      <th>36</th>\n",
       "      <td>1</td>\n",
       "      <td>1836</td>\n",
       "      <td>5</td>\n",
       "      <td>2000-12-31 22:02:52</td>\n",
       "      <td>5</td>\n",
       "    </tr>\n",
       "    <tr>\n",
       "      <th>3</th>\n",
       "      <td>1</td>\n",
       "      <td>3408</td>\n",
       "      <td>4</td>\n",
       "      <td>2000-12-31 22:04:35</td>\n",
       "      <td>6</td>\n",
       "    </tr>\n",
       "    <tr>\n",
       "      <th>7</th>\n",
       "      <td>1</td>\n",
       "      <td>2804</td>\n",
       "      <td>5</td>\n",
       "      <td>2000-12-31 22:11:59</td>\n",
       "      <td>7</td>\n",
       "    </tr>\n",
       "    <tr>\n",
       "      <th>47</th>\n",
       "      <td>1</td>\n",
       "      <td>1207</td>\n",
       "      <td>4</td>\n",
       "      <td>2000-12-31 22:11:59</td>\n",
       "      <td>8</td>\n",
       "    </tr>\n",
       "    <tr>\n",
       "      <th>0</th>\n",
       "      <td>1</td>\n",
       "      <td>1193</td>\n",
       "      <td>5</td>\n",
       "      <td>2000-12-31 22:12:40</td>\n",
       "      <td>9</td>\n",
       "    </tr>\n",
       "  </tbody>\n",
       "</table>\n",
       "</div>"
      ],
      "text/plain": [
       "    UserId  ItemId  Rating                Time  item_idx\n",
       "31       1    3186       4 2000-12-31 22:00:19         0\n",
       "22       1    1270       5 2000-12-31 22:00:55         1\n",
       "27       1    1721       4 2000-12-31 22:00:55         2\n",
       "37       1    1022       5 2000-12-31 22:00:55         3\n",
       "24       1    2340       3 2000-12-31 22:01:43         4\n",
       "36       1    1836       5 2000-12-31 22:02:52         5\n",
       "3        1    3408       4 2000-12-31 22:04:35         6\n",
       "7        1    2804       5 2000-12-31 22:11:59         7\n",
       "47       1    1207       4 2000-12-31 22:11:59         8\n",
       "0        1    1193       5 2000-12-31 22:12:40         9"
      ]
     },
     "execution_count": 103,
     "metadata": {},
     "output_type": "execute_result"
    }
   ],
   "source": [
    "tr_dataset = SessionDataset(data_train)\n",
    "tr_dataset.df.head(10)"
   ]
  },
  {
   "cell_type": "code",
   "execution_count": 104,
   "id": "quarterly-choir",
   "metadata": {},
   "outputs": [
    {
     "data": {
      "text/plain": [
       "array([     0,     53,    182, ..., 699829, 699896, 699900], dtype=int32)"
      ]
     },
     "execution_count": 104,
     "metadata": {},
     "output_type": "execute_result"
    }
   ],
   "source": [
    "tr_dataset.click_offsets"
   ]
  },
  {
   "cell_type": "code",
   "execution_count": 105,
   "id": "forward-montana",
   "metadata": {},
   "outputs": [
    {
     "data": {
      "text/plain": [
       "array([   0,    1,    2, ..., 4185, 4186, 4187])"
      ]
     },
     "execution_count": 105,
     "metadata": {},
     "output_type": "execute_result"
    }
   ],
   "source": [
    "tr_dataset.session_idx"
   ]
  },
  {
   "cell_type": "markdown",
   "id": "grateful-accommodation",
   "metadata": {},
   "source": [
    "### **2) SessionDataLoader"
   ]
  },
  {
   "cell_type": "markdown",
   "id": "aware-tennessee",
   "metadata": {},
   "source": [
    "SessionDataset 객체를 받아서 Session-Parallel mini-batch를 만드는 클래스를 만듭니다.\n",
    "__iter__ 메소드는 모델 인풋, 라벨, 세션이 끝나는 곳의 위치를 yield합니다.\n",
    "mask는 후에 RNN Cell State를 초기화 하는데 사용할 것입니다."
   ]
  },
  {
   "cell_type": "code",
   "execution_count": 106,
   "id": "compliant-basic",
   "metadata": {},
   "outputs": [],
   "source": [
    "class SessionDataLoader:\n",
    "    \"\"\"Credit to yhs-968/pyGRU4REC.\"\"\"\n",
    "\n",
    "    def __init__(self, dataset: SessionDataset, batch_size=50):\n",
    "        self.dataset = dataset\n",
    "        self.batch_size = batch_size\n",
    "\n",
    "    def __iter__(self):\n",
    "        \"\"\" Returns the iterator for producing session-parallel training mini-batches.\n",
    "        Yields:\n",
    "            input (B,):  Item indices that will be encoded as one-hot vectors later.\n",
    "            target (B,): a Variable that stores the target item indices\n",
    "            masks: Numpy array indicating the positions of the sessions to be terminated\n",
    "        \"\"\"\n",
    "\n",
    "        start, end, mask, last_session, finished = self.initialize()  # initialize 메소드에서 확인해주세요.\n",
    "        \"\"\"\n",
    "        start : Index Where Session Start\n",
    "        end : Index Where Session End\n",
    "        mask : indicator for the sessions to be terminated\n",
    "        \"\"\"\n",
    "\n",
    "        while not finished:\n",
    "            min_len = (end - start).min() - 1  # Shortest Length Among Sessions\n",
    "            for i in range(min_len):\n",
    "                # Build inputs & targets\n",
    "                inp = self.dataset.df['item_idx'].values[start + i]\n",
    "                target = self.dataset.df['item_idx'].values[start + i + 1]\n",
    "                yield inp, target, mask\n",
    "\n",
    "            start, end, mask, last_session, finished = self.update_status(start, end, min_len, last_session, finished)\n",
    "\n",
    "    def initialize(self):\n",
    "        first_iters = np.arange(self.batch_size)    # 첫 배치에 사용할 세션 Index를 가져옵니다.\n",
    "        last_session = self.batch_size - 1    # 마지막으로 다루고 있는 세션 Index를 저장해둡니다.\n",
    "        start = self.dataset.click_offsets[self.dataset.session_idx[first_iters]]       # data 상에서 session이 시작된 위치를 가져옵니다.\n",
    "        end = self.dataset.click_offsets[self.dataset.session_idx[first_iters] + 1]  # session이 끝난 위치 바로 다음 위치를 가져옵니다.\n",
    "        mask = np.array([])   # session의 모든 아이템을 다 돌은 경우 mask에 추가해줄 것입니다.\n",
    "        finished = False         # data를 전부 돌았는지 기록하기 위한 변수입니다.\n",
    "        return start, end, mask, last_session, finished\n",
    "\n",
    "    def update_status(self, start: np.ndarray, end: np.ndarray, min_len: int, last_session: int, finished: bool):  \n",
    "        # 다음 배치 데이터를 생성하기 위해 상태를 update합니다.\n",
    "        \n",
    "        start += min_len   # __iter__에서 min_len 만큼 for문을 돌았으므로 start를 min_len 만큼 더해줍니다.\n",
    "        mask = np.arange(self.batch_size)[(end - start) == 1]  \n",
    "        # end는 다음 세션이 시작되는 위치인데 start와 한 칸 차이난다는 것은 session이 끝났다는 뜻입니다. mask에 기록해줍니다.\n",
    "\n",
    "        for i, idx in enumerate(mask, start=1):  # mask에 추가된 세션 개수만큼 새로운 세션을 돌것입니다.\n",
    "            new_session = last_session + i  \n",
    "            if new_session > self.dataset.session_idx[-1]:  # 만약 새로운 세션이 마지막 세션 index보다 크다면 모든 학습데이터를 돈 것입니다.\n",
    "                finished = True\n",
    "                break\n",
    "            # update the next starting/ending point\n",
    "            start[idx] = self.dataset.click_offsets[self.dataset.session_idx[new_session]]     # 종료된 세션 대신 새로운 세션의 시작점을 기록합니다.\n",
    "            end[idx] = self.dataset.click_offsets[self.dataset.session_idx[new_session] + 1]\n",
    "\n",
    "        last_session += len(mask)  # 마지막 세션의 위치를 기록해둡니다.\n",
    "        return start, end, mask, last_session, finished"
   ]
  },
  {
   "cell_type": "code",
   "execution_count": 107,
   "id": "reduced-excuse",
   "metadata": {},
   "outputs": [
    {
     "data": {
      "text/html": [
       "<div>\n",
       "<style scoped>\n",
       "    .dataframe tbody tr th:only-of-type {\n",
       "        vertical-align: middle;\n",
       "    }\n",
       "\n",
       "    .dataframe tbody tr th {\n",
       "        vertical-align: top;\n",
       "    }\n",
       "\n",
       "    .dataframe thead th {\n",
       "        text-align: right;\n",
       "    }\n",
       "</style>\n",
       "<table border=\"1\" class=\"dataframe\">\n",
       "  <thead>\n",
       "    <tr style=\"text-align: right;\">\n",
       "      <th></th>\n",
       "      <th>UserId</th>\n",
       "      <th>ItemId</th>\n",
       "      <th>Rating</th>\n",
       "      <th>Time</th>\n",
       "      <th>item_idx</th>\n",
       "    </tr>\n",
       "  </thead>\n",
       "  <tbody>\n",
       "    <tr>\n",
       "      <th>31</th>\n",
       "      <td>1</td>\n",
       "      <td>3186</td>\n",
       "      <td>4</td>\n",
       "      <td>2000-12-31 22:00:19</td>\n",
       "      <td>0</td>\n",
       "    </tr>\n",
       "    <tr>\n",
       "      <th>22</th>\n",
       "      <td>1</td>\n",
       "      <td>1270</td>\n",
       "      <td>5</td>\n",
       "      <td>2000-12-31 22:00:55</td>\n",
       "      <td>1</td>\n",
       "    </tr>\n",
       "    <tr>\n",
       "      <th>27</th>\n",
       "      <td>1</td>\n",
       "      <td>1721</td>\n",
       "      <td>4</td>\n",
       "      <td>2000-12-31 22:00:55</td>\n",
       "      <td>2</td>\n",
       "    </tr>\n",
       "    <tr>\n",
       "      <th>37</th>\n",
       "      <td>1</td>\n",
       "      <td>1022</td>\n",
       "      <td>5</td>\n",
       "      <td>2000-12-31 22:00:55</td>\n",
       "      <td>3</td>\n",
       "    </tr>\n",
       "    <tr>\n",
       "      <th>24</th>\n",
       "      <td>1</td>\n",
       "      <td>2340</td>\n",
       "      <td>3</td>\n",
       "      <td>2000-12-31 22:01:43</td>\n",
       "      <td>4</td>\n",
       "    </tr>\n",
       "    <tr>\n",
       "      <th>36</th>\n",
       "      <td>1</td>\n",
       "      <td>1836</td>\n",
       "      <td>5</td>\n",
       "      <td>2000-12-31 22:02:52</td>\n",
       "      <td>5</td>\n",
       "    </tr>\n",
       "    <tr>\n",
       "      <th>3</th>\n",
       "      <td>1</td>\n",
       "      <td>3408</td>\n",
       "      <td>4</td>\n",
       "      <td>2000-12-31 22:04:35</td>\n",
       "      <td>6</td>\n",
       "    </tr>\n",
       "    <tr>\n",
       "      <th>7</th>\n",
       "      <td>1</td>\n",
       "      <td>2804</td>\n",
       "      <td>5</td>\n",
       "      <td>2000-12-31 22:11:59</td>\n",
       "      <td>7</td>\n",
       "    </tr>\n",
       "    <tr>\n",
       "      <th>47</th>\n",
       "      <td>1</td>\n",
       "      <td>1207</td>\n",
       "      <td>4</td>\n",
       "      <td>2000-12-31 22:11:59</td>\n",
       "      <td>8</td>\n",
       "    </tr>\n",
       "    <tr>\n",
       "      <th>0</th>\n",
       "      <td>1</td>\n",
       "      <td>1193</td>\n",
       "      <td>5</td>\n",
       "      <td>2000-12-31 22:12:40</td>\n",
       "      <td>9</td>\n",
       "    </tr>\n",
       "    <tr>\n",
       "      <th>21</th>\n",
       "      <td>1</td>\n",
       "      <td>720</td>\n",
       "      <td>3</td>\n",
       "      <td>2000-12-31 22:12:40</td>\n",
       "      <td>10</td>\n",
       "    </tr>\n",
       "    <tr>\n",
       "      <th>44</th>\n",
       "      <td>1</td>\n",
       "      <td>260</td>\n",
       "      <td>4</td>\n",
       "      <td>2000-12-31 22:12:40</td>\n",
       "      <td>11</td>\n",
       "    </tr>\n",
       "    <tr>\n",
       "      <th>9</th>\n",
       "      <td>1</td>\n",
       "      <td>919</td>\n",
       "      <td>4</td>\n",
       "      <td>2000-12-31 22:22:48</td>\n",
       "      <td>12</td>\n",
       "    </tr>\n",
       "    <tr>\n",
       "      <th>51</th>\n",
       "      <td>1</td>\n",
       "      <td>608</td>\n",
       "      <td>4</td>\n",
       "      <td>2000-12-31 22:23:18</td>\n",
       "      <td>13</td>\n",
       "    </tr>\n",
       "    <tr>\n",
       "      <th>43</th>\n",
       "      <td>1</td>\n",
       "      <td>2692</td>\n",
       "      <td>4</td>\n",
       "      <td>2000-12-31 22:26:10</td>\n",
       "      <td>14</td>\n",
       "    </tr>\n",
       "  </tbody>\n",
       "</table>\n",
       "</div>"
      ],
      "text/plain": [
       "    UserId  ItemId  Rating                Time  item_idx\n",
       "31       1    3186       4 2000-12-31 22:00:19         0\n",
       "22       1    1270       5 2000-12-31 22:00:55         1\n",
       "27       1    1721       4 2000-12-31 22:00:55         2\n",
       "37       1    1022       5 2000-12-31 22:00:55         3\n",
       "24       1    2340       3 2000-12-31 22:01:43         4\n",
       "36       1    1836       5 2000-12-31 22:02:52         5\n",
       "3        1    3408       4 2000-12-31 22:04:35         6\n",
       "7        1    2804       5 2000-12-31 22:11:59         7\n",
       "47       1    1207       4 2000-12-31 22:11:59         8\n",
       "0        1    1193       5 2000-12-31 22:12:40         9\n",
       "21       1     720       3 2000-12-31 22:12:40        10\n",
       "44       1     260       4 2000-12-31 22:12:40        11\n",
       "9        1     919       4 2000-12-31 22:22:48        12\n",
       "51       1     608       4 2000-12-31 22:23:18        13\n",
       "43       1    2692       4 2000-12-31 22:26:10        14"
      ]
     },
     "execution_count": 107,
     "metadata": {},
     "output_type": "execute_result"
    }
   ],
   "source": [
    "tr_data_loader = SessionDataLoader(tr_dataset, batch_size=4)\n",
    "tr_dataset.df.head(15)"
   ]
  },
  {
   "cell_type": "code",
   "execution_count": 108,
   "id": "common-experiment",
   "metadata": {},
   "outputs": [],
   "source": [
    "iter_ex = iter(tr_data_loader)"
   ]
  },
  {
   "cell_type": "markdown",
   "id": "complex-caribbean",
   "metadata": {},
   "source": [
    "아래 셀을 반복 실행하면 next가 계속 다음 데이터를 만듭니다."
   ]
  },
  {
   "cell_type": "code",
   "execution_count": 109,
   "id": "lesbian-basis",
   "metadata": {},
   "outputs": [
    {
     "name": "stdout",
     "output_type": "stream",
     "text": [
      "Model Input Item Idx are : [ 0 53 65 54]\n",
      "Label Item Idx are :       [ 1 54 62 24]\n",
      "Previous Masked Input Idx are []\n"
     ]
    }
   ],
   "source": [
    "inputs, labels, mask =  next(iter_ex)\n",
    "print(f'Model Input Item Idx are : {inputs}')\n",
    "print(f'Label Item Idx are : {\"\":5} {labels}')\n",
    "print(f'Previous Masked Input Idx are {mask}')"
   ]
  },
  {
   "cell_type": "markdown",
   "id": "earned-finder",
   "metadata": {},
   "source": [
    "# Step3. 모델 구성"
   ]
  },
  {
   "cell_type": "markdown",
   "id": "descending-ecology",
   "metadata": {},
   "source": [
    "### 1) Evaluation Metric"
   ]
  },
  {
   "cell_type": "markdown",
   "id": "editorial-firewall",
   "metadata": {},
   "source": [
    "- Session-Based Recommendation Task에서는 모델이 k개의 아이템을 제시했을 때, 유저가 클릭/ 구매한 n개의 아이템이 많아야 좋습니다.\n",
    "- 이 때문에 recall의 개념을 확장한 recall@k 지표, precision의 개념을 확장한 Mean Average Precision@k 지표 등을 사용합니다.\n",
    "- 추천에서는 몇 번째로 맞추느냐도 중요합니다. 구글에서 검색했을 때 1페이지에 원하는 결과가 나오지 않고 2페이지에 나온다면 유저 반응이 크게 떨어질 것입니다. 따라서 순서에 민감한 지표인 MRR, NDCG 같은 지표도 사용합니다.\n",
    "- MRR은 정답 아이템이 나온 순번의 역수 값입니다. 따라서 정답 아이템이 추천 결과 앞쪽 순번에 나온다면 지표가 높아질 것이고 뒤쪽에 나오거나 안나온다면 지표가 낮아질 것입니다."
   ]
  },
  {
   "cell_type": "code",
   "execution_count": 110,
   "id": "extended-reflection",
   "metadata": {},
   "outputs": [],
   "source": [
    "def mrr_k(pred, truth: int, k: int):\n",
    "    indexing = np.where(pred[:k] == truth)[0]\n",
    "    if len(indexing) > 0:\n",
    "        return 1 / (indexing[0] + 1)\n",
    "    else:\n",
    "        return 0\n",
    "\n",
    "\n",
    "def recall_k(pred, truth: int, k: int) -> int:\n",
    "    answer = truth in pred[:k]\n",
    "    return int(answer)"
   ]
  },
  {
   "cell_type": "markdown",
   "id": "affiliated-secretariat",
   "metadata": {},
   "source": [
    "### 2) Model Architecture"
   ]
  },
  {
   "cell_type": "code",
   "execution_count": 111,
   "id": "fifth-guatemala",
   "metadata": {},
   "outputs": [],
   "source": [
    "import numpy as np\n",
    "import tensorflow as tf\n",
    "from tensorflow.keras.layers import Input, Dense, Dropout, GRU\n",
    "from tensorflow.keras.losses import categorical_crossentropy\n",
    "from tensorflow.keras.models import Model\n",
    "from tensorflow.keras.optimizers import Adam\n",
    "from tensorflow.keras.utils import to_categorical\n",
    "from tqdm import tqdm"
   ]
  },
  {
   "cell_type": "code",
   "execution_count": 112,
   "id": "pointed-affair",
   "metadata": {},
   "outputs": [],
   "source": [
    "def create_model(args):\n",
    "    inputs = Input(batch_shape=(args.batch_size, 1, args.num_items))\n",
    "    gru, _ = GRU(args.hsz, stateful=True, return_state=True, name='GRU')(inputs)\n",
    "    dropout = Dropout(args.drop_rate)(gru)\n",
    "    predictions = Dense(args.num_items, activation='softmax')(dropout)\n",
    "    model = Model(inputs=inputs, outputs=[predictions])\n",
    "    model.compile(loss=categorical_crossentropy, optimizer=Adam(args.lr), metrics=['accuracy'])\n",
    "    model.summary()\n",
    "    return model"
   ]
  },
  {
   "cell_type": "code",
   "execution_count": 113,
   "id": "passing-dance",
   "metadata": {},
   "outputs": [],
   "source": [
    "# 모델에 사용할 hyper-parameter를 class형식으로 관리\n",
    "\n",
    "class Args:\n",
    "    def __init__(self, tr, val, test, batch_size, hsz, drop_rate, lr, epochs, k):\n",
    "        self.tr = tr\n",
    "        self.val = val\n",
    "        self.test = test\n",
    "        self.num_items = tr['ItemId'].nunique()\n",
    "        self.num_sessions = tr['UserId'].nunique()\n",
    "        self.batch_size = batch_size\n",
    "        self.hsz = hsz\n",
    "        self.drop_rate = drop_rate\n",
    "        self.lr = lr\n",
    "        self.epochs = epochs\n",
    "        self.k = k\n",
    "\n",
    "args = Args(data_train, data_val, data_test, batch_size=256, hsz=50, drop_rate=0.1, lr=0.001, epochs=5, k=20)"
   ]
  },
  {
   "cell_type": "code",
   "execution_count": 114,
   "id": "returning-simple",
   "metadata": {},
   "outputs": [
    {
     "name": "stdout",
     "output_type": "stream",
     "text": [
      "Model: \"model_5\"\n",
      "_________________________________________________________________\n",
      "Layer (type)                 Output Shape              Param #   \n",
      "=================================================================\n",
      "input_6 (InputLayer)         [(256, 1, 3460)]          0         \n",
      "_________________________________________________________________\n",
      "GRU (GRU)                    [(256, 50), (256, 50)]    526800    \n",
      "_________________________________________________________________\n",
      "dropout_5 (Dropout)          (256, 50)                 0         \n",
      "_________________________________________________________________\n",
      "dense_5 (Dense)              (256, 3460)               176460    \n",
      "=================================================================\n",
      "Total params: 703,260\n",
      "Trainable params: 703,260\n",
      "Non-trainable params: 0\n",
      "_________________________________________________________________\n"
     ]
    }
   ],
   "source": [
    "model = create_model(args)"
   ]
  },
  {
   "cell_type": "markdown",
   "id": "duplicate-indication",
   "metadata": {},
   "source": [
    "# Step4. 모델 학습"
   ]
  },
  {
   "cell_type": "markdown",
   "id": "changing-closing",
   "metadata": {},
   "source": [
    "- 다양한 하이퍼파라미터를 변경해 보며 검증 \n",
    "- 실습코드에 언급되었던 Recall, MRR 등의 개념들도 함께 관리될 수 있도록 합니다."
   ]
  },
  {
   "cell_type": "markdown",
   "id": "unknown-third",
   "metadata": {},
   "source": [
    "배치 사이즈나 epoch 등의 설정은 위의 args에서 관리하므로 진행전 값을 확인해 주세요."
   ]
  },
  {
   "cell_type": "code",
   "execution_count": 115,
   "id": "other-spank",
   "metadata": {},
   "outputs": [],
   "source": [
    "# train 셋으로 학습하면서 valid 셋으로 검증합니다.\n",
    "\n",
    "def train_model(model, args):\n",
    "    train_dataset = SessionDataset(args.tr)\n",
    "    train_loader = SessionDataLoader(train_dataset, batch_size=args.batch_size)\n",
    "\n",
    "    for epoch in range(1, args.epochs + 1):\n",
    "        total_step = len(args.tr) - args.tr['UserId'].nunique()\n",
    "        tr_loader = tqdm(train_loader, total=total_step // args.batch_size, desc='Train', mininterval=1)\n",
    "        for feat, target, mask in tr_loader:\n",
    "            reset_hidden_states(model, mask)  # 종료된 session은 hidden_state를 초기화합니다. 아래 메서드에서 확인해주세요.\n",
    "\n",
    "            input_ohe = to_categorical(feat, num_classes=args.num_items)\n",
    "            input_ohe = np.expand_dims(input_ohe, axis=1)\n",
    "            target_ohe = to_categorical(target, num_classes=args.num_items)\n",
    "\n",
    "            result = model.train_on_batch(input_ohe, target_ohe)\n",
    "            tr_loader.set_postfix(train_loss=result[0], accuracy = result[1])\n",
    "\n",
    "        val_recall, val_mrr = get_metrics(args.val, model, args, args.k)  # valid set에 대해 검증합니다.\n",
    "\n",
    "        print(f\"\\t - Recall@{args.k} epoch {epoch}: {val_recall:3f}\")\n",
    "        print(f\"\\t - MRR@{args.k}    epoch {epoch}: {val_mrr:3f}\\n\")\n",
    "\n",
    "\n",
    "def reset_hidden_states(model, mask):\n",
    "    gru_layer = model.get_layer(name='GRU')  # model에서 gru layer를 가져옵니다.\n",
    "    hidden_states = gru_layer.states[0].numpy()  # gru_layer의 parameter를 가져옵니다.\n",
    "    for elt in mask:  # mask된 인덱스 즉, 종료된 세션의 인덱스를 돌면서\n",
    "        hidden_states[elt, :] = 0  # parameter를 초기화 합니다.\n",
    "    gru_layer.reset_states(states=hidden_states)\n",
    "\n",
    "\n",
    "def get_metrics(data, model, args, k: int):  # valid셋과 test셋을 평가하는 코드입니다. \n",
    "                                             # train과 거의 같지만 mrr, recall을 구하는 라인이 있습니다.\n",
    "    dataset = SessionDataset(data)\n",
    "    loader = SessionDataLoader(dataset, batch_size=args.batch_size)\n",
    "    recall_list, mrr_list = [], []\n",
    "\n",
    "    total_step = len(data) - data['UserId'].nunique()\n",
    "    for inputs, label, mask in tqdm(loader, total=total_step // args.batch_size, desc='Evaluation', mininterval=1):\n",
    "        reset_hidden_states(model, mask)\n",
    "        input_ohe = to_categorical(inputs, num_classes=args.num_items)\n",
    "        input_ohe = np.expand_dims(input_ohe, axis=1)\n",
    "\n",
    "        pred = model.predict(input_ohe, batch_size=args.batch_size)\n",
    "        pred_arg = tf.argsort(pred, direction='DESCENDING')  # softmax 값이 큰 순서대로 sorting 합니다.\n",
    "\n",
    "        length = len(inputs)\n",
    "        recall_list.extend([recall_k(pred_arg[i], label[i], k) for i in range(length)])\n",
    "        mrr_list.extend([mrr_k(pred_arg[i], label[i], k) for i in range(length)])\n",
    "\n",
    "    recall, mrr = np.mean(recall_list), np.mean(mrr_list)\n",
    "    return recall, mrr"
   ]
  },
  {
   "cell_type": "code",
   "execution_count": 40,
   "id": "dense-attribute",
   "metadata": {},
   "outputs": [
    {
     "name": "stderr",
     "output_type": "stream",
     "text": [
      "Train:  96%|█████████▋| 5235/5435 [01:30<00:03, 57.94it/s, accuracy=0.0234, train_loss=6.47] \n",
      "Evaluation:  89%|████████▉ | 1384/1552 [18:11<02:12,  1.27it/s]\n",
      "Train:   0%|          | 0/5435 [00:00<?, ?it/s, accuracy=0.0781, train_loss=5.94] "
     ]
    },
    {
     "name": "stdout",
     "output_type": "stream",
     "text": [
      "\t - Recall@20 epoch 1: 0.181652\n",
      "\t - MRR@20    epoch 1: 0.044997\n",
      "\n"
     ]
    },
    {
     "name": "stderr",
     "output_type": "stream",
     "text": [
      "Train:  96%|█████████▋| 5235/5435 [01:23<00:03, 62.71it/s, accuracy=0.0312, train_loss=6.05] \n",
      "Evaluation:  89%|████████▉ | 1384/1552 [17:00<02:03,  1.36it/s]\n",
      "Train:   0%|          | 0/5435 [00:00<?, ?it/s, accuracy=0.117, train_loss=5.4]   "
     ]
    },
    {
     "name": "stdout",
     "output_type": "stream",
     "text": [
      "\t - Recall@20 epoch 2: 0.253500\n",
      "\t - MRR@20    epoch 2: 0.066444\n",
      "\n"
     ]
    },
    {
     "name": "stderr",
     "output_type": "stream",
     "text": [
      "Train:  96%|█████████▋| 5235/5435 [01:22<00:03, 63.37it/s, accuracy=0.0156, train_loss=5.88] \n",
      "Evaluation:  89%|████████▉ | 1384/1552 [16:19<01:58,  1.41it/s]\n",
      "Train:   0%|          | 0/5435 [00:00<?, ?it/s, accuracy=0.102, train_loss=5.09]  "
     ]
    },
    {
     "name": "stdout",
     "output_type": "stream",
     "text": [
      "\t - Recall@20 epoch 3: 0.279291\n",
      "\t - MRR@20    epoch 3: 0.075617\n",
      "\n"
     ]
    },
    {
     "name": "stderr",
     "output_type": "stream",
     "text": [
      "Train:  96%|█████████▋| 5235/5435 [01:21<00:03, 64.23it/s, accuracy=0.00781, train_loss=5.79]\n",
      "Evaluation:  89%|████████▉ | 1384/1552 [16:12<01:58,  1.42it/s]\n",
      "Train:   0%|          | 0/5435 [00:00<?, ?it/s, accuracy=0.117, train_loss=5.04]  "
     ]
    },
    {
     "name": "stdout",
     "output_type": "stream",
     "text": [
      "\t - Recall@20 epoch 4: 0.290000\n",
      "\t - MRR@20    epoch 4: 0.080522\n",
      "\n"
     ]
    },
    {
     "name": "stderr",
     "output_type": "stream",
     "text": [
      "Train:  96%|█████████▋| 5235/5435 [01:22<00:03, 63.43it/s, accuracy=0.0391, train_loss=5.69] \n",
      "Evaluation:  89%|████████▉ | 1384/1552 [16:07<01:57,  1.43it/s]"
     ]
    },
    {
     "name": "stdout",
     "output_type": "stream",
     "text": [
      "\t - Recall@20 epoch 5: 0.295859\n",
      "\t - MRR@20    epoch 5: 0.083569\n",
      "\n"
     ]
    },
    {
     "name": "stderr",
     "output_type": "stream",
     "text": [
      "\n"
     ]
    }
   ],
   "source": [
    "train_model(model, args) #1"
   ]
  },
  {
   "cell_type": "code",
   "execution_count": 77,
   "id": "legal-mention",
   "metadata": {},
   "outputs": [
    {
     "name": "stderr",
     "output_type": "stream",
     "text": [
      "Train:  98%|█████████▊| 10669/10870 [01:58<00:02, 90.01it/s, accuracy=0, train_loss=6.45]     \n",
      "Evaluation:  95%|█████████▌| 2950/3105 [19:04<01:00,  2.58it/s]\n",
      "Train:   0%|          | 0/10870 [00:00<?, ?it/s, accuracy=0.0312, train_loss=6.01]"
     ]
    },
    {
     "name": "stdout",
     "output_type": "stream",
     "text": [
      "\t - Recall@20 epoch 1: 0.196372\n",
      "\t - MRR@20    epoch 1: 0.046891\n",
      "\n"
     ]
    },
    {
     "name": "stderr",
     "output_type": "stream",
     "text": [
      "Train:  98%|█████████▊| 10669/10870 [01:55<00:02, 92.12it/s, accuracy=0.0469, train_loss=5.98]\n",
      "Evaluation:  95%|█████████▌| 2950/3105 [18:31<00:58,  2.65it/s]\n",
      "Train:   0%|          | 0/10870 [00:00<?, ?it/s, accuracy=0.0781, train_loss=5.63]"
     ]
    },
    {
     "name": "stdout",
     "output_type": "stream",
     "text": [
      "\t - Recall@20 epoch 2: 0.250588\n",
      "\t - MRR@20    epoch 2: 0.064117\n",
      "\n"
     ]
    },
    {
     "name": "stderr",
     "output_type": "stream",
     "text": [
      "Train:  98%|█████████▊| 10669/10870 [01:55<00:02, 92.21it/s, accuracy=0.0156, train_loss=5.98]\n",
      "Evaluation:  95%|█████████▌| 2950/3105 [18:13<00:57,  2.70it/s]\n",
      "Train:   0%|          | 0/10870 [00:00<?, ?it/s, accuracy=0.0625, train_loss=5.33]"
     ]
    },
    {
     "name": "stdout",
     "output_type": "stream",
     "text": [
      "\t - Recall@20 epoch 3: 0.269041\n",
      "\t - MRR@20    epoch 3: 0.072001\n",
      "\n"
     ]
    },
    {
     "name": "stderr",
     "output_type": "stream",
     "text": [
      "Train:  98%|█████████▊| 10669/10870 [01:57<00:02, 90.56it/s, accuracy=0.0312, train_loss=5.94]\n",
      "Evaluation:  95%|█████████▌| 2950/3105 [18:06<00:57,  2.71it/s]\n",
      "Train:   0%|          | 0/10870 [00:00<?, ?it/s, accuracy=0.0469, train_loss=5.56]"
     ]
    },
    {
     "name": "stdout",
     "output_type": "stream",
     "text": [
      "\t - Recall@20 epoch 4: 0.279412\n",
      "\t - MRR@20    epoch 4: 0.076491\n",
      "\n"
     ]
    },
    {
     "name": "stderr",
     "output_type": "stream",
     "text": [
      "Train:  98%|█████████▊| 10669/10870 [01:56<00:02, 91.77it/s, accuracy=0.0625, train_loss=5.8] \n",
      "Evaluation:  95%|█████████▌| 2950/3105 [18:05<00:57,  2.72it/s]"
     ]
    },
    {
     "name": "stdout",
     "output_type": "stream",
     "text": [
      "\t - Recall@20 epoch 5: 0.284195\n",
      "\t - MRR@20    epoch 5: 0.078724\n",
      "\n"
     ]
    },
    {
     "name": "stderr",
     "output_type": "stream",
     "text": [
      "\n"
     ]
    }
   ],
   "source": [
    "train_model(model, args) #2"
   ]
  },
  {
   "cell_type": "code",
   "execution_count": 116,
   "id": "talented-closing",
   "metadata": {},
   "outputs": [
    {
     "name": "stderr",
     "output_type": "stream",
     "text": [
      "Train:  92%|█████████▏| 2504/2717 [00:55<00:04, 45.28it/s, accuracy=0.0195, train_loss=6.66] \n",
      "Evaluation:  76%|███████▋  | 592/776 [14:46<04:35,  1.50s/it]\n",
      "Train:   0%|          | 0/2717 [00:00<?, ?it/s, accuracy=0.043, train_loss=6.48]  "
     ]
    },
    {
     "name": "stdout",
     "output_type": "stream",
     "text": [
      "\t - Recall@20 epoch 1: 0.138507\n",
      "\t - MRR@20    epoch 1: 0.032924\n",
      "\n"
     ]
    },
    {
     "name": "stderr",
     "output_type": "stream",
     "text": [
      "Train:  92%|█████████▏| 2504/2717 [00:54<00:04, 45.60it/s, accuracy=0.0156, train_loss=6.17] \n",
      "Evaluation:  76%|███████▋  | 592/776 [13:54<04:19,  1.41s/it]\n",
      "Train:   0%|          | 0/2717 [00:00<?, ?it/s, accuracy=0.0703, train_loss=5.87] "
     ]
    },
    {
     "name": "stdout",
     "output_type": "stream",
     "text": [
      "\t - Recall@20 epoch 2: 0.241046\n",
      "\t - MRR@20    epoch 2: 0.060994\n",
      "\n"
     ]
    },
    {
     "name": "stderr",
     "output_type": "stream",
     "text": [
      "Train:  92%|█████████▏| 2504/2717 [00:54<00:04, 45.65it/s, accuracy=0.0352, train_loss=5.93] \n",
      "Evaluation:  76%|███████▋  | 592/776 [13:44<04:16,  1.39s/it]\n",
      "Train:   0%|          | 0/2717 [00:00<?, ?it/s, accuracy=0.0703, train_loss=5.65] "
     ]
    },
    {
     "name": "stdout",
     "output_type": "stream",
     "text": [
      "\t - Recall@20 epoch 3: 0.271300\n",
      "\t - MRR@20    epoch 3: 0.071549\n",
      "\n"
     ]
    },
    {
     "name": "stderr",
     "output_type": "stream",
     "text": [
      "Train:  92%|█████████▏| 2504/2717 [00:56<00:04, 44.63it/s, accuracy=0.0547, train_loss=5.79]\n",
      "Evaluation:  76%|███████▋  | 592/776 [13:36<04:13,  1.38s/it]\n",
      "Train:   0%|          | 0/2717 [00:00<?, ?it/s, accuracy=0.082, train_loss=5.52]  "
     ]
    },
    {
     "name": "stdout",
     "output_type": "stream",
     "text": [
      "\t - Recall@20 epoch 4: 0.285466\n",
      "\t - MRR@20    epoch 4: 0.077590\n",
      "\n"
     ]
    },
    {
     "name": "stderr",
     "output_type": "stream",
     "text": [
      "Train:  92%|█████████▏| 2504/2717 [00:55<00:04, 45.43it/s, accuracy=0.0469, train_loss=5.73]\n",
      "Evaluation:  76%|███████▋  | 592/776 [13:27<04:10,  1.36s/it]"
     ]
    },
    {
     "name": "stdout",
     "output_type": "stream",
     "text": [
      "\t - Recall@20 epoch 5: 0.293886\n",
      "\t - MRR@20    epoch 5: 0.081812\n",
      "\n"
     ]
    },
    {
     "name": "stderr",
     "output_type": "stream",
     "text": [
      "\n"
     ]
    }
   ],
   "source": [
    "train_model(model, args) #3"
   ]
  },
  {
   "cell_type": "markdown",
   "id": "unique-movement",
   "metadata": {},
   "source": [
    "# Step5. 모델 테스트"
   ]
  },
  {
   "cell_type": "markdown",
   "id": "continued-optimization",
   "metadata": {},
   "source": [
    "- 미리 구성한 테스트셋을 바탕으로 Recall, MRR 을 확인"
   ]
  },
  {
   "cell_type": "code",
   "execution_count": 41,
   "id": "western-excellence",
   "metadata": {},
   "outputs": [
    {
     "name": "stderr",
     "output_type": "stream",
     "text": [
      "Evaluation:  77%|███████▋  | 599/775 [06:58<02:02,  1.43it/s]"
     ]
    },
    {
     "name": "stdout",
     "output_type": "stream",
     "text": [
      "\t - Recall@20: 0.292897\n",
      "\t - MRR@20: 0.079549\n",
      "\n"
     ]
    },
    {
     "name": "stderr",
     "output_type": "stream",
     "text": [
      "\n"
     ]
    }
   ],
   "source": [
    "#1\n",
    "def test_model(model, args, test):\n",
    "    test_recall, test_mrr = get_metrics(test, model, args, 20)\n",
    "    print(f\"\\t - Recall@{args.k}: {test_recall:3f}\")\n",
    "    print(f\"\\t - MRR@{args.k}: {test_mrr:3f}\\n\")\n",
    "\n",
    "test_model(model, args, data_test)"
   ]
  },
  {
   "cell_type": "code",
   "execution_count": 78,
   "id": "failing-consumption",
   "metadata": {},
   "outputs": [
    {
     "name": "stderr",
     "output_type": "stream",
     "text": [
      "Evaluation:  88%|████████▊ | 1361/1551 [08:21<01:10,  2.71it/s]"
     ]
    },
    {
     "name": "stdout",
     "output_type": "stream",
     "text": [
      "\t - Recall@20: 0.278954\n",
      "\t - MRR@20: 0.075294\n",
      "\n"
     ]
    },
    {
     "name": "stderr",
     "output_type": "stream",
     "text": [
      "\n"
     ]
    }
   ],
   "source": [
    "#2\n",
    "def test_model(model, args, test):\n",
    "    test_recall, test_mrr = get_metrics(test, model, args, 20)\n",
    "    print(f\"\\t - Recall@{args.k}: {test_recall:3f}\")\n",
    "    print(f\"\\t - MRR@{args.k}: {test_mrr:3f}\\n\")\n",
    "\n",
    "test_model(model, args, data_test)"
   ]
  },
  {
   "cell_type": "code",
   "execution_count": 117,
   "id": "assured-uruguay",
   "metadata": {},
   "outputs": [
    {
     "name": "stderr",
     "output_type": "stream",
     "text": [
      "Evaluation:  55%|█████▍    | 212/387 [04:48<03:58,  1.36s/it]"
     ]
    },
    {
     "name": "stdout",
     "output_type": "stream",
     "text": [
      "\t - Recall@20: 0.299215\n",
      "\t - MRR@20: 0.082378\n",
      "\n"
     ]
    },
    {
     "name": "stderr",
     "output_type": "stream",
     "text": [
      "\n"
     ]
    }
   ],
   "source": [
    "#3\n",
    "def test_model(model, args, test):\n",
    "    test_recall, test_mrr = get_metrics(test, model, args, 20)\n",
    "    print(f\"\\t - Recall@{args.k}: {test_recall:3f}\")\n",
    "    print(f\"\\t - MRR@{args.k}: {test_mrr:3f}\\n\")\n",
    "\n",
    "test_model(model, args, data_test)"
   ]
  },
  {
   "cell_type": "markdown",
   "id": "differential-armstrong",
   "metadata": {},
   "source": [
    "# 회고"
   ]
  },
  {
   "cell_type": "markdown",
   "id": "solved-ensemble",
   "metadata": {},
   "source": [
    "- IndexError: index 15 is out of bounds for axis 0 with size 15\n",
    "- 데이터 양을 조절하고, batch_size를 조정해도 모델 학습 부분에서 계속 위와 같은 에러가 났다.\n",
    "- 구글링을 해 본 결과, 아마도 Session data loader 부분에서 인덱스 에러가 나는 것 같다.\n",
    "- 모델 학습 진행을 위해 train, val, test 셋의 split 부분을 변경하니 모델 학습이 가능해졌다. (모든 기간 데이터 사용)"
   ]
  },
  {
   "cell_type": "markdown",
   "id": "fitted-encounter",
   "metadata": {},
   "source": [
    "3가지 이상 변경 실험\n",
    "\n",
    "- ① batch_size=128, hsz=50, drop_rate=0.1, lr=0.001, epochs=5, k=20 ==> Recall@20: 0.292897, MRR@20: 0.079549\n",
    "- ② batch_size=64, hsz=30, drop_rate=0.1, lr=0.001, epochs=5, k=20 ==> Recall@20: 0.278954, MRR@20: 0.075294\n",
    "- ③ batch_size=256, hsz=50, drop_rate=0.1, lr=0.001, epochs=5, k=20 ==> Recall@20: 0.299215, MRR@20: 0.082378\n",
    "- ==> batch 사이즈를 작게 하고, hidden 레이어를 줄이는 것이 Recall, MRR이 개선되는 데 긍정적 영향을 미친다."
   ]
  }
 ],
 "metadata": {
  "kernelspec": {
   "display_name": "Python 3",
   "language": "python",
   "name": "python3"
  },
  "language_info": {
   "codemirror_mode": {
    "name": "ipython",
    "version": 3
   },
   "file_extension": ".py",
   "mimetype": "text/x-python",
   "name": "python",
   "nbconvert_exporter": "python",
   "pygments_lexer": "ipython3",
   "version": "3.7.9"
  }
 },
 "nbformat": 4,
 "nbformat_minor": 5
}
