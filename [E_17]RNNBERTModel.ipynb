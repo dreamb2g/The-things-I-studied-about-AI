{
  "nbformat": 4,
  "nbformat_minor": 5,
  "metadata": {
    "kernelspec": {
      "display_name": "Python 3",
      "language": "python",
      "name": "python3"
    },
    "language_info": {
      "codemirror_mode": {
        "name": "ipython",
        "version": 3
      },
      "file_extension": ".py",
      "mimetype": "text/x-python",
      "name": "python",
      "nbconvert_exporter": "python",
      "pygments_lexer": "ipython3",
      "version": "3.7.9"
    },
    "colab": {
      "name": "[E-17]RNNBERTModel.ipynb",
      "provenance": [],
      "collapsed_sections": [
        "exterior-projector",
        "great-robert",
        "fuzzy-myrtle"
      ]
    },
    "accelerator": "GPU",
    "widgets": {
      "application/vnd.jupyter.widget-state+json": {
        "b4a4714aedcd44ca81f1baf768abd25f": {
          "model_module": "@jupyter-widgets/controls",
          "model_name": "HBoxModel",
          "model_module_version": "1.5.0",
          "state": {
            "_view_name": "HBoxView",
            "_dom_classes": [],
            "_model_name": "HBoxModel",
            "_view_module": "@jupyter-widgets/controls",
            "_model_module_version": "1.5.0",
            "_view_count": null,
            "_view_module_version": "1.5.0",
            "box_style": "",
            "layout": "IPY_MODEL_40d29041e3e2442b8a268d2086a3c159",
            "_model_module": "@jupyter-widgets/controls",
            "children": [
              "IPY_MODEL_95d6fed089c7460f8a0ac7b5b02fa08f",
              "IPY_MODEL_eec4b33bab9e414ebe35a927993c1f5f",
              "IPY_MODEL_2b5ca82cda094000a499fa609628055e"
            ]
          }
        },
        "40d29041e3e2442b8a268d2086a3c159": {
          "model_module": "@jupyter-widgets/base",
          "model_name": "LayoutModel",
          "model_module_version": "1.2.0",
          "state": {
            "_view_name": "LayoutView",
            "grid_template_rows": null,
            "right": null,
            "justify_content": null,
            "_view_module": "@jupyter-widgets/base",
            "overflow": null,
            "_model_module_version": "1.2.0",
            "_view_count": null,
            "flex_flow": null,
            "width": null,
            "min_width": null,
            "border": null,
            "align_items": null,
            "bottom": null,
            "_model_module": "@jupyter-widgets/base",
            "top": null,
            "grid_column": null,
            "overflow_y": null,
            "overflow_x": null,
            "grid_auto_flow": null,
            "grid_area": null,
            "grid_template_columns": null,
            "flex": null,
            "_model_name": "LayoutModel",
            "justify_items": null,
            "grid_row": null,
            "max_height": null,
            "align_content": null,
            "visibility": null,
            "align_self": null,
            "height": null,
            "min_height": null,
            "padding": null,
            "grid_auto_rows": null,
            "grid_gap": null,
            "max_width": null,
            "order": null,
            "_view_module_version": "1.2.0",
            "grid_template_areas": null,
            "object_position": null,
            "object_fit": null,
            "grid_auto_columns": null,
            "margin": null,
            "display": null,
            "left": null
          }
        },
        "95d6fed089c7460f8a0ac7b5b02fa08f": {
          "model_module": "@jupyter-widgets/controls",
          "model_name": "HTMLModel",
          "model_module_version": "1.5.0",
          "state": {
            "_view_name": "HTMLView",
            "style": "IPY_MODEL_5bc2e47a9f624aa0ba995338072c4e5a",
            "_dom_classes": [],
            "description": "",
            "_model_name": "HTMLModel",
            "placeholder": "​",
            "_view_module": "@jupyter-widgets/controls",
            "_model_module_version": "1.5.0",
            "value": "100%",
            "_view_count": null,
            "_view_module_version": "1.5.0",
            "description_tooltip": null,
            "_model_module": "@jupyter-widgets/controls",
            "layout": "IPY_MODEL_384411fbc40e4fb9a3d61613b041d671"
          }
        },
        "eec4b33bab9e414ebe35a927993c1f5f": {
          "model_module": "@jupyter-widgets/controls",
          "model_name": "FloatProgressModel",
          "model_module_version": "1.5.0",
          "state": {
            "_view_name": "ProgressView",
            "style": "IPY_MODEL_ca57d9334ca9409d8fca72e4e6aec02f",
            "_dom_classes": [],
            "description": "",
            "_model_name": "FloatProgressModel",
            "bar_style": "success",
            "max": 1420,
            "_view_module": "@jupyter-widgets/controls",
            "_model_module_version": "1.5.0",
            "value": 1420,
            "_view_count": null,
            "_view_module_version": "1.5.0",
            "orientation": "horizontal",
            "min": 0,
            "description_tooltip": null,
            "_model_module": "@jupyter-widgets/controls",
            "layout": "IPY_MODEL_3ab29ee129a34ad298acca1d7021d15c"
          }
        },
        "2b5ca82cda094000a499fa609628055e": {
          "model_module": "@jupyter-widgets/controls",
          "model_name": "HTMLModel",
          "model_module_version": "1.5.0",
          "state": {
            "_view_name": "HTMLView",
            "style": "IPY_MODEL_09696bf46357457a9f9b71463a7a4417",
            "_dom_classes": [],
            "description": "",
            "_model_name": "HTMLModel",
            "placeholder": "​",
            "_view_module": "@jupyter-widgets/controls",
            "_model_module_version": "1.5.0",
            "value": " 1420/1420 [00:31&lt;00:00, 22.41it/s]",
            "_view_count": null,
            "_view_module_version": "1.5.0",
            "description_tooltip": null,
            "_model_module": "@jupyter-widgets/controls",
            "layout": "IPY_MODEL_482a6e0d248946b28586fe603be57654"
          }
        },
        "5bc2e47a9f624aa0ba995338072c4e5a": {
          "model_module": "@jupyter-widgets/controls",
          "model_name": "DescriptionStyleModel",
          "model_module_version": "1.5.0",
          "state": {
            "_view_name": "StyleView",
            "_model_name": "DescriptionStyleModel",
            "description_width": "",
            "_view_module": "@jupyter-widgets/base",
            "_model_module_version": "1.5.0",
            "_view_count": null,
            "_view_module_version": "1.2.0",
            "_model_module": "@jupyter-widgets/controls"
          }
        },
        "384411fbc40e4fb9a3d61613b041d671": {
          "model_module": "@jupyter-widgets/base",
          "model_name": "LayoutModel",
          "model_module_version": "1.2.0",
          "state": {
            "_view_name": "LayoutView",
            "grid_template_rows": null,
            "right": null,
            "justify_content": null,
            "_view_module": "@jupyter-widgets/base",
            "overflow": null,
            "_model_module_version": "1.2.0",
            "_view_count": null,
            "flex_flow": null,
            "width": null,
            "min_width": null,
            "border": null,
            "align_items": null,
            "bottom": null,
            "_model_module": "@jupyter-widgets/base",
            "top": null,
            "grid_column": null,
            "overflow_y": null,
            "overflow_x": null,
            "grid_auto_flow": null,
            "grid_area": null,
            "grid_template_columns": null,
            "flex": null,
            "_model_name": "LayoutModel",
            "justify_items": null,
            "grid_row": null,
            "max_height": null,
            "align_content": null,
            "visibility": null,
            "align_self": null,
            "height": null,
            "min_height": null,
            "padding": null,
            "grid_auto_rows": null,
            "grid_gap": null,
            "max_width": null,
            "order": null,
            "_view_module_version": "1.2.0",
            "grid_template_areas": null,
            "object_position": null,
            "object_fit": null,
            "grid_auto_columns": null,
            "margin": null,
            "display": null,
            "left": null
          }
        },
        "ca57d9334ca9409d8fca72e4e6aec02f": {
          "model_module": "@jupyter-widgets/controls",
          "model_name": "ProgressStyleModel",
          "model_module_version": "1.5.0",
          "state": {
            "_view_name": "StyleView",
            "_model_name": "ProgressStyleModel",
            "description_width": "",
            "_view_module": "@jupyter-widgets/base",
            "_model_module_version": "1.5.0",
            "_view_count": null,
            "_view_module_version": "1.2.0",
            "bar_color": null,
            "_model_module": "@jupyter-widgets/controls"
          }
        },
        "3ab29ee129a34ad298acca1d7021d15c": {
          "model_module": "@jupyter-widgets/base",
          "model_name": "LayoutModel",
          "model_module_version": "1.2.0",
          "state": {
            "_view_name": "LayoutView",
            "grid_template_rows": null,
            "right": null,
            "justify_content": null,
            "_view_module": "@jupyter-widgets/base",
            "overflow": null,
            "_model_module_version": "1.2.0",
            "_view_count": null,
            "flex_flow": null,
            "width": null,
            "min_width": null,
            "border": null,
            "align_items": null,
            "bottom": null,
            "_model_module": "@jupyter-widgets/base",
            "top": null,
            "grid_column": null,
            "overflow_y": null,
            "overflow_x": null,
            "grid_auto_flow": null,
            "grid_area": null,
            "grid_template_columns": null,
            "flex": null,
            "_model_name": "LayoutModel",
            "justify_items": null,
            "grid_row": null,
            "max_height": null,
            "align_content": null,
            "visibility": null,
            "align_self": null,
            "height": null,
            "min_height": null,
            "padding": null,
            "grid_auto_rows": null,
            "grid_gap": null,
            "max_width": null,
            "order": null,
            "_view_module_version": "1.2.0",
            "grid_template_areas": null,
            "object_position": null,
            "object_fit": null,
            "grid_auto_columns": null,
            "margin": null,
            "display": null,
            "left": null
          }
        },
        "09696bf46357457a9f9b71463a7a4417": {
          "model_module": "@jupyter-widgets/controls",
          "model_name": "DescriptionStyleModel",
          "model_module_version": "1.5.0",
          "state": {
            "_view_name": "StyleView",
            "_model_name": "DescriptionStyleModel",
            "description_width": "",
            "_view_module": "@jupyter-widgets/base",
            "_model_module_version": "1.5.0",
            "_view_count": null,
            "_view_module_version": "1.2.0",
            "_model_module": "@jupyter-widgets/controls"
          }
        },
        "482a6e0d248946b28586fe603be57654": {
          "model_module": "@jupyter-widgets/base",
          "model_name": "LayoutModel",
          "model_module_version": "1.2.0",
          "state": {
            "_view_name": "LayoutView",
            "grid_template_rows": null,
            "right": null,
            "justify_content": null,
            "_view_module": "@jupyter-widgets/base",
            "overflow": null,
            "_model_module_version": "1.2.0",
            "_view_count": null,
            "flex_flow": null,
            "width": null,
            "min_width": null,
            "border": null,
            "align_items": null,
            "bottom": null,
            "_model_module": "@jupyter-widgets/base",
            "top": null,
            "grid_column": null,
            "overflow_y": null,
            "overflow_x": null,
            "grid_auto_flow": null,
            "grid_area": null,
            "grid_template_columns": null,
            "flex": null,
            "_model_name": "LayoutModel",
            "justify_items": null,
            "grid_row": null,
            "max_height": null,
            "align_content": null,
            "visibility": null,
            "align_self": null,
            "height": null,
            "min_height": null,
            "padding": null,
            "grid_auto_rows": null,
            "grid_gap": null,
            "max_width": null,
            "order": null,
            "_view_module_version": "1.2.0",
            "grid_template_areas": null,
            "object_position": null,
            "object_fit": null,
            "grid_auto_columns": null,
            "margin": null,
            "display": null,
            "left": null
          }
        },
        "47effa81589047aba38c2ab9c36a7aeb": {
          "model_module": "@jupyter-widgets/controls",
          "model_name": "HBoxModel",
          "model_module_version": "1.5.0",
          "state": {
            "_view_name": "HBoxView",
            "_dom_classes": [],
            "_model_name": "HBoxModel",
            "_view_module": "@jupyter-widgets/controls",
            "_model_module_version": "1.5.0",
            "_view_count": null,
            "_view_module_version": "1.5.0",
            "box_style": "",
            "layout": "IPY_MODEL_732a4478f71745c89c454ac553882c21",
            "_model_module": "@jupyter-widgets/controls",
            "children": [
              "IPY_MODEL_0865d19eeb944c2d9af460587aebbed2",
              "IPY_MODEL_3b659680bb12466e8ceeef46e64ef7f9",
              "IPY_MODEL_678713b8d503426fb3cd0e93ce503cf7"
            ]
          }
        },
        "732a4478f71745c89c454ac553882c21": {
          "model_module": "@jupyter-widgets/base",
          "model_name": "LayoutModel",
          "model_module_version": "1.2.0",
          "state": {
            "_view_name": "LayoutView",
            "grid_template_rows": null,
            "right": null,
            "justify_content": null,
            "_view_module": "@jupyter-widgets/base",
            "overflow": null,
            "_model_module_version": "1.2.0",
            "_view_count": null,
            "flex_flow": null,
            "width": null,
            "min_width": null,
            "border": null,
            "align_items": null,
            "bottom": null,
            "_model_module": "@jupyter-widgets/base",
            "top": null,
            "grid_column": null,
            "overflow_y": null,
            "overflow_x": null,
            "grid_auto_flow": null,
            "grid_area": null,
            "grid_template_columns": null,
            "flex": null,
            "_model_name": "LayoutModel",
            "justify_items": null,
            "grid_row": null,
            "max_height": null,
            "align_content": null,
            "visibility": null,
            "align_self": null,
            "height": null,
            "min_height": null,
            "padding": null,
            "grid_auto_rows": null,
            "grid_gap": null,
            "max_width": null,
            "order": null,
            "_view_module_version": "1.2.0",
            "grid_template_areas": null,
            "object_position": null,
            "object_fit": null,
            "grid_auto_columns": null,
            "margin": null,
            "display": null,
            "left": null
          }
        },
        "0865d19eeb944c2d9af460587aebbed2": {
          "model_module": "@jupyter-widgets/controls",
          "model_name": "HTMLModel",
          "model_module_version": "1.5.0",
          "state": {
            "_view_name": "HTMLView",
            "style": "IPY_MODEL_b2a0d7e7ee3947a09e2161d9a21b1b0e",
            "_dom_classes": [],
            "description": "",
            "_model_name": "HTMLModel",
            "placeholder": "​",
            "_view_module": "@jupyter-widgets/controls",
            "_model_module_version": "1.5.0",
            "value": "100%",
            "_view_count": null,
            "_view_module_version": "1.5.0",
            "description_tooltip": null,
            "_model_module": "@jupyter-widgets/controls",
            "layout": "IPY_MODEL_b9faf4e8df4c4ef8bb40fec8a746630f"
          }
        },
        "3b659680bb12466e8ceeef46e64ef7f9": {
          "model_module": "@jupyter-widgets/controls",
          "model_name": "FloatProgressModel",
          "model_module_version": "1.5.0",
          "state": {
            "_view_name": "ProgressView",
            "style": "IPY_MODEL_14f9ec214d024550a993080aba34e128",
            "_dom_classes": [],
            "description": "",
            "_model_name": "FloatProgressModel",
            "bar_style": "success",
            "max": 140,
            "_view_module": "@jupyter-widgets/controls",
            "_model_module_version": "1.5.0",
            "value": 140,
            "_view_count": null,
            "_view_module_version": "1.5.0",
            "orientation": "horizontal",
            "min": 0,
            "description_tooltip": null,
            "_model_module": "@jupyter-widgets/controls",
            "layout": "IPY_MODEL_2354b368392542f19b93e0fb948b6007"
          }
        },
        "678713b8d503426fb3cd0e93ce503cf7": {
          "model_module": "@jupyter-widgets/controls",
          "model_name": "HTMLModel",
          "model_module_version": "1.5.0",
          "state": {
            "_view_name": "HTMLView",
            "style": "IPY_MODEL_84f483feb0f04e8fa3168fe99783f16e",
            "_dom_classes": [],
            "description": "",
            "_model_name": "HTMLModel",
            "placeholder": "​",
            "_view_module": "@jupyter-widgets/controls",
            "_model_module_version": "1.5.0",
            "value": " 140/140 [00:03&lt;00:00, 41.40it/s]",
            "_view_count": null,
            "_view_module_version": "1.5.0",
            "description_tooltip": null,
            "_model_module": "@jupyter-widgets/controls",
            "layout": "IPY_MODEL_07098efa3a754cc18a311bb29c0ee324"
          }
        },
        "b2a0d7e7ee3947a09e2161d9a21b1b0e": {
          "model_module": "@jupyter-widgets/controls",
          "model_name": "DescriptionStyleModel",
          "model_module_version": "1.5.0",
          "state": {
            "_view_name": "StyleView",
            "_model_name": "DescriptionStyleModel",
            "description_width": "",
            "_view_module": "@jupyter-widgets/base",
            "_model_module_version": "1.5.0",
            "_view_count": null,
            "_view_module_version": "1.2.0",
            "_model_module": "@jupyter-widgets/controls"
          }
        },
        "b9faf4e8df4c4ef8bb40fec8a746630f": {
          "model_module": "@jupyter-widgets/base",
          "model_name": "LayoutModel",
          "model_module_version": "1.2.0",
          "state": {
            "_view_name": "LayoutView",
            "grid_template_rows": null,
            "right": null,
            "justify_content": null,
            "_view_module": "@jupyter-widgets/base",
            "overflow": null,
            "_model_module_version": "1.2.0",
            "_view_count": null,
            "flex_flow": null,
            "width": null,
            "min_width": null,
            "border": null,
            "align_items": null,
            "bottom": null,
            "_model_module": "@jupyter-widgets/base",
            "top": null,
            "grid_column": null,
            "overflow_y": null,
            "overflow_x": null,
            "grid_auto_flow": null,
            "grid_area": null,
            "grid_template_columns": null,
            "flex": null,
            "_model_name": "LayoutModel",
            "justify_items": null,
            "grid_row": null,
            "max_height": null,
            "align_content": null,
            "visibility": null,
            "align_self": null,
            "height": null,
            "min_height": null,
            "padding": null,
            "grid_auto_rows": null,
            "grid_gap": null,
            "max_width": null,
            "order": null,
            "_view_module_version": "1.2.0",
            "grid_template_areas": null,
            "object_position": null,
            "object_fit": null,
            "grid_auto_columns": null,
            "margin": null,
            "display": null,
            "left": null
          }
        },
        "14f9ec214d024550a993080aba34e128": {
          "model_module": "@jupyter-widgets/controls",
          "model_name": "ProgressStyleModel",
          "model_module_version": "1.5.0",
          "state": {
            "_view_name": "StyleView",
            "_model_name": "ProgressStyleModel",
            "description_width": "",
            "_view_module": "@jupyter-widgets/base",
            "_model_module_version": "1.5.0",
            "_view_count": null,
            "_view_module_version": "1.2.0",
            "bar_color": null,
            "_model_module": "@jupyter-widgets/controls"
          }
        },
        "2354b368392542f19b93e0fb948b6007": {
          "model_module": "@jupyter-widgets/base",
          "model_name": "LayoutModel",
          "model_module_version": "1.2.0",
          "state": {
            "_view_name": "LayoutView",
            "grid_template_rows": null,
            "right": null,
            "justify_content": null,
            "_view_module": "@jupyter-widgets/base",
            "overflow": null,
            "_model_module_version": "1.2.0",
            "_view_count": null,
            "flex_flow": null,
            "width": null,
            "min_width": null,
            "border": null,
            "align_items": null,
            "bottom": null,
            "_model_module": "@jupyter-widgets/base",
            "top": null,
            "grid_column": null,
            "overflow_y": null,
            "overflow_x": null,
            "grid_auto_flow": null,
            "grid_area": null,
            "grid_template_columns": null,
            "flex": null,
            "_model_name": "LayoutModel",
            "justify_items": null,
            "grid_row": null,
            "max_height": null,
            "align_content": null,
            "visibility": null,
            "align_self": null,
            "height": null,
            "min_height": null,
            "padding": null,
            "grid_auto_rows": null,
            "grid_gap": null,
            "max_width": null,
            "order": null,
            "_view_module_version": "1.2.0",
            "grid_template_areas": null,
            "object_position": null,
            "object_fit": null,
            "grid_auto_columns": null,
            "margin": null,
            "display": null,
            "left": null
          }
        },
        "84f483feb0f04e8fa3168fe99783f16e": {
          "model_module": "@jupyter-widgets/controls",
          "model_name": "DescriptionStyleModel",
          "model_module_version": "1.5.0",
          "state": {
            "_view_name": "StyleView",
            "_model_name": "DescriptionStyleModel",
            "description_width": "",
            "_view_module": "@jupyter-widgets/base",
            "_model_module_version": "1.5.0",
            "_view_count": null,
            "_view_module_version": "1.2.0",
            "_model_module": "@jupyter-widgets/controls"
          }
        },
        "07098efa3a754cc18a311bb29c0ee324": {
          "model_module": "@jupyter-widgets/base",
          "model_name": "LayoutModel",
          "model_module_version": "1.2.0",
          "state": {
            "_view_name": "LayoutView",
            "grid_template_rows": null,
            "right": null,
            "justify_content": null,
            "_view_module": "@jupyter-widgets/base",
            "overflow": null,
            "_model_module_version": "1.2.0",
            "_view_count": null,
            "flex_flow": null,
            "width": null,
            "min_width": null,
            "border": null,
            "align_items": null,
            "bottom": null,
            "_model_module": "@jupyter-widgets/base",
            "top": null,
            "grid_column": null,
            "overflow_y": null,
            "overflow_x": null,
            "grid_auto_flow": null,
            "grid_area": null,
            "grid_template_columns": null,
            "flex": null,
            "_model_name": "LayoutModel",
            "justify_items": null,
            "grid_row": null,
            "max_height": null,
            "align_content": null,
            "visibility": null,
            "align_self": null,
            "height": null,
            "min_height": null,
            "padding": null,
            "grid_auto_rows": null,
            "grid_gap": null,
            "max_width": null,
            "order": null,
            "_view_module_version": "1.2.0",
            "grid_template_areas": null,
            "object_position": null,
            "object_fit": null,
            "grid_auto_columns": null,
            "margin": null,
            "display": null,
            "left": null
          }
        },
        "fb95aa7e2f254967ba62f7be1e792342": {
          "model_module": "@jupyter-widgets/controls",
          "model_name": "HBoxModel",
          "model_module_version": "1.5.0",
          "state": {
            "_view_name": "HBoxView",
            "_dom_classes": [],
            "_model_name": "HBoxModel",
            "_view_module": "@jupyter-widgets/controls",
            "_model_module_version": "1.5.0",
            "_view_count": null,
            "_view_module_version": "1.5.0",
            "box_style": "",
            "layout": "IPY_MODEL_ab4c7926a4c84d2d93ee5d49bc81f326",
            "_model_module": "@jupyter-widgets/controls",
            "children": [
              "IPY_MODEL_89f6c96aa83f4119a95d916b6e946544",
              "IPY_MODEL_0fe16a145c17415cb9945614bb0eb373",
              "IPY_MODEL_6579e6456e064e45b8f8b6464b4700e2"
            ]
          }
        },
        "ab4c7926a4c84d2d93ee5d49bc81f326": {
          "model_module": "@jupyter-widgets/base",
          "model_name": "LayoutModel",
          "model_module_version": "1.2.0",
          "state": {
            "_view_name": "LayoutView",
            "grid_template_rows": null,
            "right": null,
            "justify_content": null,
            "_view_module": "@jupyter-widgets/base",
            "overflow": null,
            "_model_module_version": "1.2.0",
            "_view_count": null,
            "flex_flow": null,
            "width": null,
            "min_width": null,
            "border": null,
            "align_items": null,
            "bottom": null,
            "_model_module": "@jupyter-widgets/base",
            "top": null,
            "grid_column": null,
            "overflow_y": null,
            "overflow_x": null,
            "grid_auto_flow": null,
            "grid_area": null,
            "grid_template_columns": null,
            "flex": null,
            "_model_name": "LayoutModel",
            "justify_items": null,
            "grid_row": null,
            "max_height": null,
            "align_content": null,
            "visibility": null,
            "align_self": null,
            "height": null,
            "min_height": null,
            "padding": null,
            "grid_auto_rows": null,
            "grid_gap": null,
            "max_width": null,
            "order": null,
            "_view_module_version": "1.2.0",
            "grid_template_areas": null,
            "object_position": null,
            "object_fit": null,
            "grid_auto_columns": null,
            "margin": null,
            "display": null,
            "left": null
          }
        },
        "89f6c96aa83f4119a95d916b6e946544": {
          "model_module": "@jupyter-widgets/controls",
          "model_name": "HTMLModel",
          "model_module_version": "1.5.0",
          "state": {
            "_view_name": "HTMLView",
            "style": "IPY_MODEL_bf0fad9fd6634b3aaf546386fc5bbc24",
            "_dom_classes": [],
            "description": "",
            "_model_name": "HTMLModel",
            "placeholder": "​",
            "_view_module": "@jupyter-widgets/controls",
            "_model_module_version": "1.5.0",
            "value": "Loading ...: ",
            "_view_count": null,
            "_view_module_version": "1.5.0",
            "description_tooltip": null,
            "_model_module": "@jupyter-widgets/controls",
            "layout": "IPY_MODEL_5689db0b7aa44599974cc50a9527f2e9"
          }
        },
        "0fe16a145c17415cb9945614bb0eb373": {
          "model_module": "@jupyter-widgets/controls",
          "model_name": "FloatProgressModel",
          "model_module_version": "1.5.0",
          "state": {
            "_view_name": "ProgressView",
            "style": "IPY_MODEL_f1f1d1d16cd442d882935c81ccad7528",
            "_dom_classes": [],
            "description": "",
            "_model_name": "FloatProgressModel",
            "bar_style": "success",
            "max": 1,
            "_view_module": "@jupyter-widgets/controls",
            "_model_module_version": "1.5.0",
            "value": 1,
            "_view_count": null,
            "_view_module_version": "1.5.0",
            "orientation": "horizontal",
            "min": 0,
            "description_tooltip": null,
            "_model_module": "@jupyter-widgets/controls",
            "layout": "IPY_MODEL_1913126a84544be0954638361944b78c"
          }
        },
        "6579e6456e064e45b8f8b6464b4700e2": {
          "model_module": "@jupyter-widgets/controls",
          "model_name": "HTMLModel",
          "model_module_version": "1.5.0",
          "state": {
            "_view_name": "HTMLView",
            "style": "IPY_MODEL_19d9e47d649745958f65f3481411c56f",
            "_dom_classes": [],
            "description": "",
            "_model_name": "HTMLModel",
            "placeholder": "​",
            "_view_module": "@jupyter-widgets/controls",
            "_model_module_version": "1.5.0",
            "value": " 60407/? [00:22&lt;00:00, 2379.25it/s]",
            "_view_count": null,
            "_view_module_version": "1.5.0",
            "description_tooltip": null,
            "_model_module": "@jupyter-widgets/controls",
            "layout": "IPY_MODEL_4bd2e130019f4d66abe9de0cfb541571"
          }
        },
        "bf0fad9fd6634b3aaf546386fc5bbc24": {
          "model_module": "@jupyter-widgets/controls",
          "model_name": "DescriptionStyleModel",
          "model_module_version": "1.5.0",
          "state": {
            "_view_name": "StyleView",
            "_model_name": "DescriptionStyleModel",
            "description_width": "",
            "_view_module": "@jupyter-widgets/base",
            "_model_module_version": "1.5.0",
            "_view_count": null,
            "_view_module_version": "1.2.0",
            "_model_module": "@jupyter-widgets/controls"
          }
        },
        "5689db0b7aa44599974cc50a9527f2e9": {
          "model_module": "@jupyter-widgets/base",
          "model_name": "LayoutModel",
          "model_module_version": "1.2.0",
          "state": {
            "_view_name": "LayoutView",
            "grid_template_rows": null,
            "right": null,
            "justify_content": null,
            "_view_module": "@jupyter-widgets/base",
            "overflow": null,
            "_model_module_version": "1.2.0",
            "_view_count": null,
            "flex_flow": null,
            "width": null,
            "min_width": null,
            "border": null,
            "align_items": null,
            "bottom": null,
            "_model_module": "@jupyter-widgets/base",
            "top": null,
            "grid_column": null,
            "overflow_y": null,
            "overflow_x": null,
            "grid_auto_flow": null,
            "grid_area": null,
            "grid_template_columns": null,
            "flex": null,
            "_model_name": "LayoutModel",
            "justify_items": null,
            "grid_row": null,
            "max_height": null,
            "align_content": null,
            "visibility": null,
            "align_self": null,
            "height": null,
            "min_height": null,
            "padding": null,
            "grid_auto_rows": null,
            "grid_gap": null,
            "max_width": null,
            "order": null,
            "_view_module_version": "1.2.0",
            "grid_template_areas": null,
            "object_position": null,
            "object_fit": null,
            "grid_auto_columns": null,
            "margin": null,
            "display": null,
            "left": null
          }
        },
        "f1f1d1d16cd442d882935c81ccad7528": {
          "model_module": "@jupyter-widgets/controls",
          "model_name": "ProgressStyleModel",
          "model_module_version": "1.5.0",
          "state": {
            "_view_name": "StyleView",
            "_model_name": "ProgressStyleModel",
            "description_width": "",
            "_view_module": "@jupyter-widgets/base",
            "_model_module_version": "1.5.0",
            "_view_count": null,
            "_view_module_version": "1.2.0",
            "bar_color": null,
            "_model_module": "@jupyter-widgets/controls"
          }
        },
        "1913126a84544be0954638361944b78c": {
          "model_module": "@jupyter-widgets/base",
          "model_name": "LayoutModel",
          "model_module_version": "1.2.0",
          "state": {
            "_view_name": "LayoutView",
            "grid_template_rows": null,
            "right": null,
            "justify_content": null,
            "_view_module": "@jupyter-widgets/base",
            "overflow": null,
            "_model_module_version": "1.2.0",
            "_view_count": null,
            "flex_flow": null,
            "width": "20px",
            "min_width": null,
            "border": null,
            "align_items": null,
            "bottom": null,
            "_model_module": "@jupyter-widgets/base",
            "top": null,
            "grid_column": null,
            "overflow_y": null,
            "overflow_x": null,
            "grid_auto_flow": null,
            "grid_area": null,
            "grid_template_columns": null,
            "flex": null,
            "_model_name": "LayoutModel",
            "justify_items": null,
            "grid_row": null,
            "max_height": null,
            "align_content": null,
            "visibility": null,
            "align_self": null,
            "height": null,
            "min_height": null,
            "padding": null,
            "grid_auto_rows": null,
            "grid_gap": null,
            "max_width": null,
            "order": null,
            "_view_module_version": "1.2.0",
            "grid_template_areas": null,
            "object_position": null,
            "object_fit": null,
            "grid_auto_columns": null,
            "margin": null,
            "display": null,
            "left": null
          }
        },
        "19d9e47d649745958f65f3481411c56f": {
          "model_module": "@jupyter-widgets/controls",
          "model_name": "DescriptionStyleModel",
          "model_module_version": "1.5.0",
          "state": {
            "_view_name": "StyleView",
            "_model_name": "DescriptionStyleModel",
            "description_width": "",
            "_view_module": "@jupyter-widgets/base",
            "_model_module_version": "1.5.0",
            "_view_count": null,
            "_view_module_version": "1.2.0",
            "_model_module": "@jupyter-widgets/controls"
          }
        },
        "4bd2e130019f4d66abe9de0cfb541571": {
          "model_module": "@jupyter-widgets/base",
          "model_name": "LayoutModel",
          "model_module_version": "1.2.0",
          "state": {
            "_view_name": "LayoutView",
            "grid_template_rows": null,
            "right": null,
            "justify_content": null,
            "_view_module": "@jupyter-widgets/base",
            "overflow": null,
            "_model_module_version": "1.2.0",
            "_view_count": null,
            "flex_flow": null,
            "width": null,
            "min_width": null,
            "border": null,
            "align_items": null,
            "bottom": null,
            "_model_module": "@jupyter-widgets/base",
            "top": null,
            "grid_column": null,
            "overflow_y": null,
            "overflow_x": null,
            "grid_auto_flow": null,
            "grid_area": null,
            "grid_template_columns": null,
            "flex": null,
            "_model_name": "LayoutModel",
            "justify_items": null,
            "grid_row": null,
            "max_height": null,
            "align_content": null,
            "visibility": null,
            "align_self": null,
            "height": null,
            "min_height": null,
            "padding": null,
            "grid_auto_rows": null,
            "grid_gap": null,
            "max_width": null,
            "order": null,
            "_view_module_version": "1.2.0",
            "grid_template_areas": null,
            "object_position": null,
            "object_fit": null,
            "grid_auto_columns": null,
            "margin": null,
            "display": null,
            "left": null
          }
        },
        "06ff2014c9e14105a0ef8fcdd964bc2a": {
          "model_module": "@jupyter-widgets/controls",
          "model_name": "HBoxModel",
          "model_module_version": "1.5.0",
          "state": {
            "_view_name": "HBoxView",
            "_dom_classes": [],
            "_model_name": "HBoxModel",
            "_view_module": "@jupyter-widgets/controls",
            "_model_module_version": "1.5.0",
            "_view_count": null,
            "_view_module_version": "1.5.0",
            "box_style": "",
            "layout": "IPY_MODEL_fe633ad1469f4cac85d0caa741580923",
            "_model_module": "@jupyter-widgets/controls",
            "children": [
              "IPY_MODEL_60ceaacbce4f4b5abb11190259cf808b",
              "IPY_MODEL_ca20c56b12b24fb4b2ba4da3e92df5fc",
              "IPY_MODEL_129909839a87495c94c6aa7e5f5f2b08"
            ]
          }
        },
        "fe633ad1469f4cac85d0caa741580923": {
          "model_module": "@jupyter-widgets/base",
          "model_name": "LayoutModel",
          "model_module_version": "1.2.0",
          "state": {
            "_view_name": "LayoutView",
            "grid_template_rows": null,
            "right": null,
            "justify_content": null,
            "_view_module": "@jupyter-widgets/base",
            "overflow": null,
            "_model_module_version": "1.2.0",
            "_view_count": null,
            "flex_flow": null,
            "width": null,
            "min_width": null,
            "border": null,
            "align_items": null,
            "bottom": null,
            "_model_module": "@jupyter-widgets/base",
            "top": null,
            "grid_column": null,
            "overflow_y": null,
            "overflow_x": null,
            "grid_auto_flow": null,
            "grid_area": null,
            "grid_template_columns": null,
            "flex": null,
            "_model_name": "LayoutModel",
            "justify_items": null,
            "grid_row": null,
            "max_height": null,
            "align_content": null,
            "visibility": null,
            "align_self": null,
            "height": null,
            "min_height": null,
            "padding": null,
            "grid_auto_rows": null,
            "grid_gap": null,
            "max_width": null,
            "order": null,
            "_view_module_version": "1.2.0",
            "grid_template_areas": null,
            "object_position": null,
            "object_fit": null,
            "grid_auto_columns": null,
            "margin": null,
            "display": null,
            "left": null
          }
        },
        "60ceaacbce4f4b5abb11190259cf808b": {
          "model_module": "@jupyter-widgets/controls",
          "model_name": "HTMLModel",
          "model_module_version": "1.5.0",
          "state": {
            "_view_name": "HTMLView",
            "style": "IPY_MODEL_fd9d90b626414178a16ef2f283bd214f",
            "_dom_classes": [],
            "description": "",
            "_model_name": "HTMLModel",
            "placeholder": "​",
            "_view_module": "@jupyter-widgets/controls",
            "_model_module_version": "1.5.0",
            "value": "Loading ...: ",
            "_view_count": null,
            "_view_module_version": "1.5.0",
            "description_tooltip": null,
            "_model_module": "@jupyter-widgets/controls",
            "layout": "IPY_MODEL_e914172b2c784daa826964b5fd7f42a8"
          }
        },
        "ca20c56b12b24fb4b2ba4da3e92df5fc": {
          "model_module": "@jupyter-widgets/controls",
          "model_name": "FloatProgressModel",
          "model_module_version": "1.5.0",
          "state": {
            "_view_name": "ProgressView",
            "style": "IPY_MODEL_8eb764161e914bfda8d145f8f3cf5dab",
            "_dom_classes": [],
            "description": "",
            "_model_name": "FloatProgressModel",
            "bar_style": "success",
            "max": 1,
            "_view_module": "@jupyter-widgets/controls",
            "_model_module_version": "1.5.0",
            "value": 1,
            "_view_count": null,
            "_view_module_version": "1.5.0",
            "orientation": "horizontal",
            "min": 0,
            "description_tooltip": null,
            "_model_module": "@jupyter-widgets/controls",
            "layout": "IPY_MODEL_95d4d59c96304006b7cbe62e5eae6c5b"
          }
        },
        "129909839a87495c94c6aa7e5f5f2b08": {
          "model_module": "@jupyter-widgets/controls",
          "model_name": "HTMLModel",
          "model_module_version": "1.5.0",
          "state": {
            "_view_name": "HTMLView",
            "style": "IPY_MODEL_d815814dedd847f6bba282713e86b6a7",
            "_dom_classes": [],
            "description": "",
            "_model_name": "HTMLModel",
            "placeholder": "​",
            "_view_module": "@jupyter-widgets/controls",
            "_model_module_version": "1.5.0",
            "value": " 5774/? [00:02&lt;00:00, 2938.59it/s]",
            "_view_count": null,
            "_view_module_version": "1.5.0",
            "description_tooltip": null,
            "_model_module": "@jupyter-widgets/controls",
            "layout": "IPY_MODEL_3379de78b929423fa54be3f4eeb7f7e4"
          }
        },
        "fd9d90b626414178a16ef2f283bd214f": {
          "model_module": "@jupyter-widgets/controls",
          "model_name": "DescriptionStyleModel",
          "model_module_version": "1.5.0",
          "state": {
            "_view_name": "StyleView",
            "_model_name": "DescriptionStyleModel",
            "description_width": "",
            "_view_module": "@jupyter-widgets/base",
            "_model_module_version": "1.5.0",
            "_view_count": null,
            "_view_module_version": "1.2.0",
            "_model_module": "@jupyter-widgets/controls"
          }
        },
        "e914172b2c784daa826964b5fd7f42a8": {
          "model_module": "@jupyter-widgets/base",
          "model_name": "LayoutModel",
          "model_module_version": "1.2.0",
          "state": {
            "_view_name": "LayoutView",
            "grid_template_rows": null,
            "right": null,
            "justify_content": null,
            "_view_module": "@jupyter-widgets/base",
            "overflow": null,
            "_model_module_version": "1.2.0",
            "_view_count": null,
            "flex_flow": null,
            "width": null,
            "min_width": null,
            "border": null,
            "align_items": null,
            "bottom": null,
            "_model_module": "@jupyter-widgets/base",
            "top": null,
            "grid_column": null,
            "overflow_y": null,
            "overflow_x": null,
            "grid_auto_flow": null,
            "grid_area": null,
            "grid_template_columns": null,
            "flex": null,
            "_model_name": "LayoutModel",
            "justify_items": null,
            "grid_row": null,
            "max_height": null,
            "align_content": null,
            "visibility": null,
            "align_self": null,
            "height": null,
            "min_height": null,
            "padding": null,
            "grid_auto_rows": null,
            "grid_gap": null,
            "max_width": null,
            "order": null,
            "_view_module_version": "1.2.0",
            "grid_template_areas": null,
            "object_position": null,
            "object_fit": null,
            "grid_auto_columns": null,
            "margin": null,
            "display": null,
            "left": null
          }
        },
        "8eb764161e914bfda8d145f8f3cf5dab": {
          "model_module": "@jupyter-widgets/controls",
          "model_name": "ProgressStyleModel",
          "model_module_version": "1.5.0",
          "state": {
            "_view_name": "StyleView",
            "_model_name": "ProgressStyleModel",
            "description_width": "",
            "_view_module": "@jupyter-widgets/base",
            "_model_module_version": "1.5.0",
            "_view_count": null,
            "_view_module_version": "1.2.0",
            "bar_color": null,
            "_model_module": "@jupyter-widgets/controls"
          }
        },
        "95d4d59c96304006b7cbe62e5eae6c5b": {
          "model_module": "@jupyter-widgets/base",
          "model_name": "LayoutModel",
          "model_module_version": "1.2.0",
          "state": {
            "_view_name": "LayoutView",
            "grid_template_rows": null,
            "right": null,
            "justify_content": null,
            "_view_module": "@jupyter-widgets/base",
            "overflow": null,
            "_model_module_version": "1.2.0",
            "_view_count": null,
            "flex_flow": null,
            "width": "20px",
            "min_width": null,
            "border": null,
            "align_items": null,
            "bottom": null,
            "_model_module": "@jupyter-widgets/base",
            "top": null,
            "grid_column": null,
            "overflow_y": null,
            "overflow_x": null,
            "grid_auto_flow": null,
            "grid_area": null,
            "grid_template_columns": null,
            "flex": null,
            "_model_name": "LayoutModel",
            "justify_items": null,
            "grid_row": null,
            "max_height": null,
            "align_content": null,
            "visibility": null,
            "align_self": null,
            "height": null,
            "min_height": null,
            "padding": null,
            "grid_auto_rows": null,
            "grid_gap": null,
            "max_width": null,
            "order": null,
            "_view_module_version": "1.2.0",
            "grid_template_areas": null,
            "object_position": null,
            "object_fit": null,
            "grid_auto_columns": null,
            "margin": null,
            "display": null,
            "left": null
          }
        },
        "d815814dedd847f6bba282713e86b6a7": {
          "model_module": "@jupyter-widgets/controls",
          "model_name": "DescriptionStyleModel",
          "model_module_version": "1.5.0",
          "state": {
            "_view_name": "StyleView",
            "_model_name": "DescriptionStyleModel",
            "description_width": "",
            "_view_module": "@jupyter-widgets/base",
            "_model_module_version": "1.5.0",
            "_view_count": null,
            "_view_module_version": "1.2.0",
            "_model_module": "@jupyter-widgets/controls"
          }
        },
        "3379de78b929423fa54be3f4eeb7f7e4": {
          "model_module": "@jupyter-widgets/base",
          "model_name": "LayoutModel",
          "model_module_version": "1.2.0",
          "state": {
            "_view_name": "LayoutView",
            "grid_template_rows": null,
            "right": null,
            "justify_content": null,
            "_view_module": "@jupyter-widgets/base",
            "overflow": null,
            "_model_module_version": "1.2.0",
            "_view_count": null,
            "flex_flow": null,
            "width": null,
            "min_width": null,
            "border": null,
            "align_items": null,
            "bottom": null,
            "_model_module": "@jupyter-widgets/base",
            "top": null,
            "grid_column": null,
            "overflow_y": null,
            "overflow_x": null,
            "grid_auto_flow": null,
            "grid_area": null,
            "grid_template_columns": null,
            "flex": null,
            "_model_name": "LayoutModel",
            "justify_items": null,
            "grid_row": null,
            "max_height": null,
            "align_content": null,
            "visibility": null,
            "align_self": null,
            "height": null,
            "min_height": null,
            "padding": null,
            "grid_auto_rows": null,
            "grid_gap": null,
            "max_width": null,
            "order": null,
            "_view_module_version": "1.2.0",
            "grid_template_areas": null,
            "object_position": null,
            "object_fit": null,
            "grid_auto_columns": null,
            "margin": null,
            "display": null,
            "left": null
          }
        },
        "e5b18c2199aa4324876bfbf0cbe4a67e": {
          "model_module": "@jupyter-widgets/controls",
          "model_name": "HBoxModel",
          "model_module_version": "1.5.0",
          "state": {
            "_view_name": "HBoxView",
            "_dom_classes": [],
            "_model_name": "HBoxModel",
            "_view_module": "@jupyter-widgets/controls",
            "_model_module_version": "1.5.0",
            "_view_count": null,
            "_view_module_version": "1.5.0",
            "box_style": "",
            "layout": "IPY_MODEL_f57828a41a364da8b8d0836d6f0e4f34",
            "_model_module": "@jupyter-widgets/controls",
            "children": [
              "IPY_MODEL_53968bb9c16b41a89b422661c2dff8b0",
              "IPY_MODEL_38087dcd653e4f29a3eb01bf2ba68593",
              "IPY_MODEL_5b1873adde1e46148a7c8ec1b6dd0381"
            ]
          }
        },
        "f57828a41a364da8b8d0836d6f0e4f34": {
          "model_module": "@jupyter-widgets/base",
          "model_name": "LayoutModel",
          "model_module_version": "1.2.0",
          "state": {
            "_view_name": "LayoutView",
            "grid_template_rows": null,
            "right": null,
            "justify_content": null,
            "_view_module": "@jupyter-widgets/base",
            "overflow": null,
            "_model_module_version": "1.2.0",
            "_view_count": null,
            "flex_flow": null,
            "width": null,
            "min_width": null,
            "border": null,
            "align_items": null,
            "bottom": null,
            "_model_module": "@jupyter-widgets/base",
            "top": null,
            "grid_column": null,
            "overflow_y": null,
            "overflow_x": null,
            "grid_auto_flow": null,
            "grid_area": null,
            "grid_template_columns": null,
            "flex": null,
            "_model_name": "LayoutModel",
            "justify_items": null,
            "grid_row": null,
            "max_height": null,
            "align_content": null,
            "visibility": null,
            "align_self": null,
            "height": null,
            "min_height": null,
            "padding": null,
            "grid_auto_rows": null,
            "grid_gap": null,
            "max_width": null,
            "order": null,
            "_view_module_version": "1.2.0",
            "grid_template_areas": null,
            "object_position": null,
            "object_fit": null,
            "grid_auto_columns": null,
            "margin": null,
            "display": null,
            "left": null
          }
        },
        "53968bb9c16b41a89b422661c2dff8b0": {
          "model_module": "@jupyter-widgets/controls",
          "model_name": "HTMLModel",
          "model_module_version": "1.5.0",
          "state": {
            "_view_name": "HTMLView",
            "style": "IPY_MODEL_3c8ff524d98c4b90b37741b220d24b08",
            "_dom_classes": [],
            "description": "",
            "_model_name": "HTMLModel",
            "placeholder": "​",
            "_view_module": "@jupyter-widgets/controls",
            "_model_module_version": "1.5.0",
            "value": "loss: 2.6218, 2.9899, acc: 0.3801, 0.3299: 100%",
            "_view_count": null,
            "_view_module_version": "1.5.0",
            "description_tooltip": null,
            "_model_module": "@jupyter-widgets/controls",
            "layout": "IPY_MODEL_e5a98201077e4969a523cf9878a106f2"
          }
        },
        "38087dcd653e4f29a3eb01bf2ba68593": {
          "model_module": "@jupyter-widgets/controls",
          "model_name": "FloatProgressModel",
          "model_module_version": "1.5.0",
          "state": {
            "_view_name": "ProgressView",
            "style": "IPY_MODEL_48b8ccb008bd4082949e3493ce4da91f",
            "_dom_classes": [],
            "description": "",
            "_model_name": "FloatProgressModel",
            "bar_style": "success",
            "max": 3749,
            "_view_module": "@jupyter-widgets/controls",
            "_model_module_version": "1.5.0",
            "value": 3749,
            "_view_count": null,
            "_view_module_version": "1.5.0",
            "orientation": "horizontal",
            "min": 0,
            "description_tooltip": null,
            "_model_module": "@jupyter-widgets/controls",
            "layout": "IPY_MODEL_bd8973dbf3954071b99e4ef68a881b49"
          }
        },
        "5b1873adde1e46148a7c8ec1b6dd0381": {
          "model_module": "@jupyter-widgets/controls",
          "model_name": "HTMLModel",
          "model_module_version": "1.5.0",
          "state": {
            "_view_name": "HTMLView",
            "style": "IPY_MODEL_34bf1229dcb24b61971ac7e6f8a1ffff",
            "_dom_classes": [],
            "description": "",
            "_model_name": "HTMLModel",
            "placeholder": "​",
            "_view_module": "@jupyter-widgets/controls",
            "_model_module_version": "1.5.0",
            "value": " 3749/3749 [37:22&lt;00:00,  1.76it/s]",
            "_view_count": null,
            "_view_module_version": "1.5.0",
            "description_tooltip": null,
            "_model_module": "@jupyter-widgets/controls",
            "layout": "IPY_MODEL_3501ba1aa65744ec989a9928619ba6ce"
          }
        },
        "3c8ff524d98c4b90b37741b220d24b08": {
          "model_module": "@jupyter-widgets/controls",
          "model_name": "DescriptionStyleModel",
          "model_module_version": "1.5.0",
          "state": {
            "_view_name": "StyleView",
            "_model_name": "DescriptionStyleModel",
            "description_width": "",
            "_view_module": "@jupyter-widgets/base",
            "_model_module_version": "1.5.0",
            "_view_count": null,
            "_view_module_version": "1.2.0",
            "_model_module": "@jupyter-widgets/controls"
          }
        },
        "e5a98201077e4969a523cf9878a106f2": {
          "model_module": "@jupyter-widgets/base",
          "model_name": "LayoutModel",
          "model_module_version": "1.2.0",
          "state": {
            "_view_name": "LayoutView",
            "grid_template_rows": null,
            "right": null,
            "justify_content": null,
            "_view_module": "@jupyter-widgets/base",
            "overflow": null,
            "_model_module_version": "1.2.0",
            "_view_count": null,
            "flex_flow": null,
            "width": null,
            "min_width": null,
            "border": null,
            "align_items": null,
            "bottom": null,
            "_model_module": "@jupyter-widgets/base",
            "top": null,
            "grid_column": null,
            "overflow_y": null,
            "overflow_x": null,
            "grid_auto_flow": null,
            "grid_area": null,
            "grid_template_columns": null,
            "flex": null,
            "_model_name": "LayoutModel",
            "justify_items": null,
            "grid_row": null,
            "max_height": null,
            "align_content": null,
            "visibility": null,
            "align_self": null,
            "height": null,
            "min_height": null,
            "padding": null,
            "grid_auto_rows": null,
            "grid_gap": null,
            "max_width": null,
            "order": null,
            "_view_module_version": "1.2.0",
            "grid_template_areas": null,
            "object_position": null,
            "object_fit": null,
            "grid_auto_columns": null,
            "margin": null,
            "display": null,
            "left": null
          }
        },
        "48b8ccb008bd4082949e3493ce4da91f": {
          "model_module": "@jupyter-widgets/controls",
          "model_name": "ProgressStyleModel",
          "model_module_version": "1.5.0",
          "state": {
            "_view_name": "StyleView",
            "_model_name": "ProgressStyleModel",
            "description_width": "",
            "_view_module": "@jupyter-widgets/base",
            "_model_module_version": "1.5.0",
            "_view_count": null,
            "_view_module_version": "1.2.0",
            "bar_color": null,
            "_model_module": "@jupyter-widgets/controls"
          }
        },
        "bd8973dbf3954071b99e4ef68a881b49": {
          "model_module": "@jupyter-widgets/base",
          "model_name": "LayoutModel",
          "model_module_version": "1.2.0",
          "state": {
            "_view_name": "LayoutView",
            "grid_template_rows": null,
            "right": null,
            "justify_content": null,
            "_view_module": "@jupyter-widgets/base",
            "overflow": null,
            "_model_module_version": "1.2.0",
            "_view_count": null,
            "flex_flow": null,
            "width": null,
            "min_width": null,
            "border": null,
            "align_items": null,
            "bottom": null,
            "_model_module": "@jupyter-widgets/base",
            "top": null,
            "grid_column": null,
            "overflow_y": null,
            "overflow_x": null,
            "grid_auto_flow": null,
            "grid_area": null,
            "grid_template_columns": null,
            "flex": null,
            "_model_name": "LayoutModel",
            "justify_items": null,
            "grid_row": null,
            "max_height": null,
            "align_content": null,
            "visibility": null,
            "align_self": null,
            "height": null,
            "min_height": null,
            "padding": null,
            "grid_auto_rows": null,
            "grid_gap": null,
            "max_width": null,
            "order": null,
            "_view_module_version": "1.2.0",
            "grid_template_areas": null,
            "object_position": null,
            "object_fit": null,
            "grid_auto_columns": null,
            "margin": null,
            "display": null,
            "left": null
          }
        },
        "34bf1229dcb24b61971ac7e6f8a1ffff": {
          "model_module": "@jupyter-widgets/controls",
          "model_name": "DescriptionStyleModel",
          "model_module_version": "1.5.0",
          "state": {
            "_view_name": "StyleView",
            "_model_name": "DescriptionStyleModel",
            "description_width": "",
            "_view_module": "@jupyter-widgets/base",
            "_model_module_version": "1.5.0",
            "_view_count": null,
            "_view_module_version": "1.2.0",
            "_model_module": "@jupyter-widgets/controls"
          }
        },
        "3501ba1aa65744ec989a9928619ba6ce": {
          "model_module": "@jupyter-widgets/base",
          "model_name": "LayoutModel",
          "model_module_version": "1.2.0",
          "state": {
            "_view_name": "LayoutView",
            "grid_template_rows": null,
            "right": null,
            "justify_content": null,
            "_view_module": "@jupyter-widgets/base",
            "overflow": null,
            "_model_module_version": "1.2.0",
            "_view_count": null,
            "flex_flow": null,
            "width": null,
            "min_width": null,
            "border": null,
            "align_items": null,
            "bottom": null,
            "_model_module": "@jupyter-widgets/base",
            "top": null,
            "grid_column": null,
            "overflow_y": null,
            "overflow_x": null,
            "grid_auto_flow": null,
            "grid_area": null,
            "grid_template_columns": null,
            "flex": null,
            "_model_name": "LayoutModel",
            "justify_items": null,
            "grid_row": null,
            "max_height": null,
            "align_content": null,
            "visibility": null,
            "align_self": null,
            "height": null,
            "min_height": null,
            "padding": null,
            "grid_auto_rows": null,
            "grid_gap": null,
            "max_width": null,
            "order": null,
            "_view_module_version": "1.2.0",
            "grid_template_areas": null,
            "object_position": null,
            "object_fit": null,
            "grid_auto_columns": null,
            "margin": null,
            "display": null,
            "left": null
          }
        },
        "e04a5902813b4b11ab40721a0886cb29": {
          "model_module": "@jupyter-widgets/controls",
          "model_name": "HBoxModel",
          "model_module_version": "1.5.0",
          "state": {
            "_view_name": "HBoxView",
            "_dom_classes": [],
            "_model_name": "HBoxModel",
            "_view_module": "@jupyter-widgets/controls",
            "_model_module_version": "1.5.0",
            "_view_count": null,
            "_view_module_version": "1.5.0",
            "box_style": "",
            "layout": "IPY_MODEL_a381362dfe054ab8bf2f7135c22c189f",
            "_model_module": "@jupyter-widgets/controls",
            "children": [
              "IPY_MODEL_44718fe7a510495cb7ff22de0d6b209e",
              "IPY_MODEL_f34b761ea14d462e8d0116504c4f2432",
              "IPY_MODEL_8a84e55e993f4293b1c42cbf3edd1957"
            ]
          }
        },
        "a381362dfe054ab8bf2f7135c22c189f": {
          "model_module": "@jupyter-widgets/base",
          "model_name": "LayoutModel",
          "model_module_version": "1.2.0",
          "state": {
            "_view_name": "LayoutView",
            "grid_template_rows": null,
            "right": null,
            "justify_content": null,
            "_view_module": "@jupyter-widgets/base",
            "overflow": null,
            "_model_module_version": "1.2.0",
            "_view_count": null,
            "flex_flow": null,
            "width": null,
            "min_width": null,
            "border": null,
            "align_items": null,
            "bottom": null,
            "_model_module": "@jupyter-widgets/base",
            "top": null,
            "grid_column": null,
            "overflow_y": null,
            "overflow_x": null,
            "grid_auto_flow": null,
            "grid_area": null,
            "grid_template_columns": null,
            "flex": null,
            "_model_name": "LayoutModel",
            "justify_items": null,
            "grid_row": null,
            "max_height": null,
            "align_content": null,
            "visibility": null,
            "align_self": null,
            "height": null,
            "min_height": null,
            "padding": null,
            "grid_auto_rows": null,
            "grid_gap": null,
            "max_width": null,
            "order": null,
            "_view_module_version": "1.2.0",
            "grid_template_areas": null,
            "object_position": null,
            "object_fit": null,
            "grid_auto_columns": null,
            "margin": null,
            "display": null,
            "left": null
          }
        },
        "44718fe7a510495cb7ff22de0d6b209e": {
          "model_module": "@jupyter-widgets/controls",
          "model_name": "HTMLModel",
          "model_module_version": "1.5.0",
          "state": {
            "_view_name": "HTMLView",
            "style": "IPY_MODEL_690b480592d1452ab2d3e70745510c53",
            "_dom_classes": [],
            "description": "",
            "_model_name": "HTMLModel",
            "placeholder": "​",
            "_view_module": "@jupyter-widgets/controls",
            "_model_module_version": "1.5.0",
            "value": "loss: 1.4556, 1.7428, acc: 0.6152, 0.5640: 100%",
            "_view_count": null,
            "_view_module_version": "1.5.0",
            "description_tooltip": null,
            "_model_module": "@jupyter-widgets/controls",
            "layout": "IPY_MODEL_db932514039a4aa98778080e6a8c62e6"
          }
        },
        "f34b761ea14d462e8d0116504c4f2432": {
          "model_module": "@jupyter-widgets/controls",
          "model_name": "FloatProgressModel",
          "model_module_version": "1.5.0",
          "state": {
            "_view_name": "ProgressView",
            "style": "IPY_MODEL_7d5afd15c9f544b8b142cda2acb18ebb",
            "_dom_classes": [],
            "description": "",
            "_model_name": "FloatProgressModel",
            "bar_style": "success",
            "max": 3749,
            "_view_module": "@jupyter-widgets/controls",
            "_model_module_version": "1.5.0",
            "value": 3749,
            "_view_count": null,
            "_view_module_version": "1.5.0",
            "orientation": "horizontal",
            "min": 0,
            "description_tooltip": null,
            "_model_module": "@jupyter-widgets/controls",
            "layout": "IPY_MODEL_eaeae34adba1411e9983a863e0889162"
          }
        },
        "8a84e55e993f4293b1c42cbf3edd1957": {
          "model_module": "@jupyter-widgets/controls",
          "model_name": "HTMLModel",
          "model_module_version": "1.5.0",
          "state": {
            "_view_name": "HTMLView",
            "style": "IPY_MODEL_0185b5fde30643a48024e59def5063d6",
            "_dom_classes": [],
            "description": "",
            "_model_name": "HTMLModel",
            "placeholder": "​",
            "_view_module": "@jupyter-widgets/controls",
            "_model_module_version": "1.5.0",
            "value": " 3749/3749 [36:59&lt;00:00,  1.86it/s]",
            "_view_count": null,
            "_view_module_version": "1.5.0",
            "description_tooltip": null,
            "_model_module": "@jupyter-widgets/controls",
            "layout": "IPY_MODEL_20c338c238594fb9bded79c4f2118a8a"
          }
        },
        "690b480592d1452ab2d3e70745510c53": {
          "model_module": "@jupyter-widgets/controls",
          "model_name": "DescriptionStyleModel",
          "model_module_version": "1.5.0",
          "state": {
            "_view_name": "StyleView",
            "_model_name": "DescriptionStyleModel",
            "description_width": "",
            "_view_module": "@jupyter-widgets/base",
            "_model_module_version": "1.5.0",
            "_view_count": null,
            "_view_module_version": "1.2.0",
            "_model_module": "@jupyter-widgets/controls"
          }
        },
        "db932514039a4aa98778080e6a8c62e6": {
          "model_module": "@jupyter-widgets/base",
          "model_name": "LayoutModel",
          "model_module_version": "1.2.0",
          "state": {
            "_view_name": "LayoutView",
            "grid_template_rows": null,
            "right": null,
            "justify_content": null,
            "_view_module": "@jupyter-widgets/base",
            "overflow": null,
            "_model_module_version": "1.2.0",
            "_view_count": null,
            "flex_flow": null,
            "width": null,
            "min_width": null,
            "border": null,
            "align_items": null,
            "bottom": null,
            "_model_module": "@jupyter-widgets/base",
            "top": null,
            "grid_column": null,
            "overflow_y": null,
            "overflow_x": null,
            "grid_auto_flow": null,
            "grid_area": null,
            "grid_template_columns": null,
            "flex": null,
            "_model_name": "LayoutModel",
            "justify_items": null,
            "grid_row": null,
            "max_height": null,
            "align_content": null,
            "visibility": null,
            "align_self": null,
            "height": null,
            "min_height": null,
            "padding": null,
            "grid_auto_rows": null,
            "grid_gap": null,
            "max_width": null,
            "order": null,
            "_view_module_version": "1.2.0",
            "grid_template_areas": null,
            "object_position": null,
            "object_fit": null,
            "grid_auto_columns": null,
            "margin": null,
            "display": null,
            "left": null
          }
        },
        "7d5afd15c9f544b8b142cda2acb18ebb": {
          "model_module": "@jupyter-widgets/controls",
          "model_name": "ProgressStyleModel",
          "model_module_version": "1.5.0",
          "state": {
            "_view_name": "StyleView",
            "_model_name": "ProgressStyleModel",
            "description_width": "",
            "_view_module": "@jupyter-widgets/base",
            "_model_module_version": "1.5.0",
            "_view_count": null,
            "_view_module_version": "1.2.0",
            "bar_color": null,
            "_model_module": "@jupyter-widgets/controls"
          }
        },
        "eaeae34adba1411e9983a863e0889162": {
          "model_module": "@jupyter-widgets/base",
          "model_name": "LayoutModel",
          "model_module_version": "1.2.0",
          "state": {
            "_view_name": "LayoutView",
            "grid_template_rows": null,
            "right": null,
            "justify_content": null,
            "_view_module": "@jupyter-widgets/base",
            "overflow": null,
            "_model_module_version": "1.2.0",
            "_view_count": null,
            "flex_flow": null,
            "width": null,
            "min_width": null,
            "border": null,
            "align_items": null,
            "bottom": null,
            "_model_module": "@jupyter-widgets/base",
            "top": null,
            "grid_column": null,
            "overflow_y": null,
            "overflow_x": null,
            "grid_auto_flow": null,
            "grid_area": null,
            "grid_template_columns": null,
            "flex": null,
            "_model_name": "LayoutModel",
            "justify_items": null,
            "grid_row": null,
            "max_height": null,
            "align_content": null,
            "visibility": null,
            "align_self": null,
            "height": null,
            "min_height": null,
            "padding": null,
            "grid_auto_rows": null,
            "grid_gap": null,
            "max_width": null,
            "order": null,
            "_view_module_version": "1.2.0",
            "grid_template_areas": null,
            "object_position": null,
            "object_fit": null,
            "grid_auto_columns": null,
            "margin": null,
            "display": null,
            "left": null
          }
        },
        "0185b5fde30643a48024e59def5063d6": {
          "model_module": "@jupyter-widgets/controls",
          "model_name": "DescriptionStyleModel",
          "model_module_version": "1.5.0",
          "state": {
            "_view_name": "StyleView",
            "_model_name": "DescriptionStyleModel",
            "description_width": "",
            "_view_module": "@jupyter-widgets/base",
            "_model_module_version": "1.5.0",
            "_view_count": null,
            "_view_module_version": "1.2.0",
            "_model_module": "@jupyter-widgets/controls"
          }
        },
        "20c338c238594fb9bded79c4f2118a8a": {
          "model_module": "@jupyter-widgets/base",
          "model_name": "LayoutModel",
          "model_module_version": "1.2.0",
          "state": {
            "_view_name": "LayoutView",
            "grid_template_rows": null,
            "right": null,
            "justify_content": null,
            "_view_module": "@jupyter-widgets/base",
            "overflow": null,
            "_model_module_version": "1.2.0",
            "_view_count": null,
            "flex_flow": null,
            "width": null,
            "min_width": null,
            "border": null,
            "align_items": null,
            "bottom": null,
            "_model_module": "@jupyter-widgets/base",
            "top": null,
            "grid_column": null,
            "overflow_y": null,
            "overflow_x": null,
            "grid_auto_flow": null,
            "grid_area": null,
            "grid_template_columns": null,
            "flex": null,
            "_model_name": "LayoutModel",
            "justify_items": null,
            "grid_row": null,
            "max_height": null,
            "align_content": null,
            "visibility": null,
            "align_self": null,
            "height": null,
            "min_height": null,
            "padding": null,
            "grid_auto_rows": null,
            "grid_gap": null,
            "max_width": null,
            "order": null,
            "_view_module_version": "1.2.0",
            "grid_template_areas": null,
            "object_position": null,
            "object_fit": null,
            "grid_auto_columns": null,
            "margin": null,
            "display": null,
            "left": null
          }
        },
        "09e14a5371444a5cbd9084775cd3ccc2": {
          "model_module": "@jupyter-widgets/controls",
          "model_name": "HBoxModel",
          "model_module_version": "1.5.0",
          "state": {
            "_view_name": "HBoxView",
            "_dom_classes": [],
            "_model_name": "HBoxModel",
            "_view_module": "@jupyter-widgets/controls",
            "_model_module_version": "1.5.0",
            "_view_count": null,
            "_view_module_version": "1.5.0",
            "box_style": "",
            "layout": "IPY_MODEL_41c56782879e4bd892782da0bfc50dd7",
            "_model_module": "@jupyter-widgets/controls",
            "children": [
              "IPY_MODEL_8b30614d523449469aaa71a223508bb4",
              "IPY_MODEL_76c7404a9fa849a5a9417a0d8b61d104",
              "IPY_MODEL_a129e197082d4b4fbb6cd89f90157e57"
            ]
          }
        },
        "41c56782879e4bd892782da0bfc50dd7": {
          "model_module": "@jupyter-widgets/base",
          "model_name": "LayoutModel",
          "model_module_version": "1.2.0",
          "state": {
            "_view_name": "LayoutView",
            "grid_template_rows": null,
            "right": null,
            "justify_content": null,
            "_view_module": "@jupyter-widgets/base",
            "overflow": null,
            "_model_module_version": "1.2.0",
            "_view_count": null,
            "flex_flow": null,
            "width": null,
            "min_width": null,
            "border": null,
            "align_items": null,
            "bottom": null,
            "_model_module": "@jupyter-widgets/base",
            "top": null,
            "grid_column": null,
            "overflow_y": null,
            "overflow_x": null,
            "grid_auto_flow": null,
            "grid_area": null,
            "grid_template_columns": null,
            "flex": null,
            "_model_name": "LayoutModel",
            "justify_items": null,
            "grid_row": null,
            "max_height": null,
            "align_content": null,
            "visibility": null,
            "align_self": null,
            "height": null,
            "min_height": null,
            "padding": null,
            "grid_auto_rows": null,
            "grid_gap": null,
            "max_width": null,
            "order": null,
            "_view_module_version": "1.2.0",
            "grid_template_areas": null,
            "object_position": null,
            "object_fit": null,
            "grid_auto_columns": null,
            "margin": null,
            "display": null,
            "left": null
          }
        },
        "8b30614d523449469aaa71a223508bb4": {
          "model_module": "@jupyter-widgets/controls",
          "model_name": "HTMLModel",
          "model_module_version": "1.5.0",
          "state": {
            "_view_name": "HTMLView",
            "style": "IPY_MODEL_730b45faec614bbeaef65693277839c0",
            "_dom_classes": [],
            "description": "",
            "_model_name": "HTMLModel",
            "placeholder": "​",
            "_view_module": "@jupyter-widgets/controls",
            "_model_module_version": "1.5.0",
            "value": "loss: 0.9758, 1.1978, acc: 0.7303, 0.6826: 100%",
            "_view_count": null,
            "_view_module_version": "1.5.0",
            "description_tooltip": null,
            "_model_module": "@jupyter-widgets/controls",
            "layout": "IPY_MODEL_77973b4d000244ccb436b47a1c0a305e"
          }
        },
        "76c7404a9fa849a5a9417a0d8b61d104": {
          "model_module": "@jupyter-widgets/controls",
          "model_name": "FloatProgressModel",
          "model_module_version": "1.5.0",
          "state": {
            "_view_name": "ProgressView",
            "style": "IPY_MODEL_d3be6acf85094cdd9e7c3a550b7febea",
            "_dom_classes": [],
            "description": "",
            "_model_name": "FloatProgressModel",
            "bar_style": "success",
            "max": 3749,
            "_view_module": "@jupyter-widgets/controls",
            "_model_module_version": "1.5.0",
            "value": 3749,
            "_view_count": null,
            "_view_module_version": "1.5.0",
            "orientation": "horizontal",
            "min": 0,
            "description_tooltip": null,
            "_model_module": "@jupyter-widgets/controls",
            "layout": "IPY_MODEL_dff0453210b34d51a9499d59d10e74ff"
          }
        },
        "a129e197082d4b4fbb6cd89f90157e57": {
          "model_module": "@jupyter-widgets/controls",
          "model_name": "HTMLModel",
          "model_module_version": "1.5.0",
          "state": {
            "_view_name": "HTMLView",
            "style": "IPY_MODEL_dcc16fe7b1c24039a4c2228e7e44524b",
            "_dom_classes": [],
            "description": "",
            "_model_name": "HTMLModel",
            "placeholder": "​",
            "_view_module": "@jupyter-widgets/controls",
            "_model_module_version": "1.5.0",
            "value": " 3749/3749 [37:05&lt;00:00,  1.89it/s]",
            "_view_count": null,
            "_view_module_version": "1.5.0",
            "description_tooltip": null,
            "_model_module": "@jupyter-widgets/controls",
            "layout": "IPY_MODEL_77e784df45704d94bf989a07e3c512d1"
          }
        },
        "730b45faec614bbeaef65693277839c0": {
          "model_module": "@jupyter-widgets/controls",
          "model_name": "DescriptionStyleModel",
          "model_module_version": "1.5.0",
          "state": {
            "_view_name": "StyleView",
            "_model_name": "DescriptionStyleModel",
            "description_width": "",
            "_view_module": "@jupyter-widgets/base",
            "_model_module_version": "1.5.0",
            "_view_count": null,
            "_view_module_version": "1.2.0",
            "_model_module": "@jupyter-widgets/controls"
          }
        },
        "77973b4d000244ccb436b47a1c0a305e": {
          "model_module": "@jupyter-widgets/base",
          "model_name": "LayoutModel",
          "model_module_version": "1.2.0",
          "state": {
            "_view_name": "LayoutView",
            "grid_template_rows": null,
            "right": null,
            "justify_content": null,
            "_view_module": "@jupyter-widgets/base",
            "overflow": null,
            "_model_module_version": "1.2.0",
            "_view_count": null,
            "flex_flow": null,
            "width": null,
            "min_width": null,
            "border": null,
            "align_items": null,
            "bottom": null,
            "_model_module": "@jupyter-widgets/base",
            "top": null,
            "grid_column": null,
            "overflow_y": null,
            "overflow_x": null,
            "grid_auto_flow": null,
            "grid_area": null,
            "grid_template_columns": null,
            "flex": null,
            "_model_name": "LayoutModel",
            "justify_items": null,
            "grid_row": null,
            "max_height": null,
            "align_content": null,
            "visibility": null,
            "align_self": null,
            "height": null,
            "min_height": null,
            "padding": null,
            "grid_auto_rows": null,
            "grid_gap": null,
            "max_width": null,
            "order": null,
            "_view_module_version": "1.2.0",
            "grid_template_areas": null,
            "object_position": null,
            "object_fit": null,
            "grid_auto_columns": null,
            "margin": null,
            "display": null,
            "left": null
          }
        },
        "d3be6acf85094cdd9e7c3a550b7febea": {
          "model_module": "@jupyter-widgets/controls",
          "model_name": "ProgressStyleModel",
          "model_module_version": "1.5.0",
          "state": {
            "_view_name": "StyleView",
            "_model_name": "ProgressStyleModel",
            "description_width": "",
            "_view_module": "@jupyter-widgets/base",
            "_model_module_version": "1.5.0",
            "_view_count": null,
            "_view_module_version": "1.2.0",
            "bar_color": null,
            "_model_module": "@jupyter-widgets/controls"
          }
        },
        "dff0453210b34d51a9499d59d10e74ff": {
          "model_module": "@jupyter-widgets/base",
          "model_name": "LayoutModel",
          "model_module_version": "1.2.0",
          "state": {
            "_view_name": "LayoutView",
            "grid_template_rows": null,
            "right": null,
            "justify_content": null,
            "_view_module": "@jupyter-widgets/base",
            "overflow": null,
            "_model_module_version": "1.2.0",
            "_view_count": null,
            "flex_flow": null,
            "width": null,
            "min_width": null,
            "border": null,
            "align_items": null,
            "bottom": null,
            "_model_module": "@jupyter-widgets/base",
            "top": null,
            "grid_column": null,
            "overflow_y": null,
            "overflow_x": null,
            "grid_auto_flow": null,
            "grid_area": null,
            "grid_template_columns": null,
            "flex": null,
            "_model_name": "LayoutModel",
            "justify_items": null,
            "grid_row": null,
            "max_height": null,
            "align_content": null,
            "visibility": null,
            "align_self": null,
            "height": null,
            "min_height": null,
            "padding": null,
            "grid_auto_rows": null,
            "grid_gap": null,
            "max_width": null,
            "order": null,
            "_view_module_version": "1.2.0",
            "grid_template_areas": null,
            "object_position": null,
            "object_fit": null,
            "grid_auto_columns": null,
            "margin": null,
            "display": null,
            "left": null
          }
        },
        "dcc16fe7b1c24039a4c2228e7e44524b": {
          "model_module": "@jupyter-widgets/controls",
          "model_name": "DescriptionStyleModel",
          "model_module_version": "1.5.0",
          "state": {
            "_view_name": "StyleView",
            "_model_name": "DescriptionStyleModel",
            "description_width": "",
            "_view_module": "@jupyter-widgets/base",
            "_model_module_version": "1.5.0",
            "_view_count": null,
            "_view_module_version": "1.2.0",
            "_model_module": "@jupyter-widgets/controls"
          }
        },
        "77e784df45704d94bf989a07e3c512d1": {
          "model_module": "@jupyter-widgets/base",
          "model_name": "LayoutModel",
          "model_module_version": "1.2.0",
          "state": {
            "_view_name": "LayoutView",
            "grid_template_rows": null,
            "right": null,
            "justify_content": null,
            "_view_module": "@jupyter-widgets/base",
            "overflow": null,
            "_model_module_version": "1.2.0",
            "_view_count": null,
            "flex_flow": null,
            "width": null,
            "min_width": null,
            "border": null,
            "align_items": null,
            "bottom": null,
            "_model_module": "@jupyter-widgets/base",
            "top": null,
            "grid_column": null,
            "overflow_y": null,
            "overflow_x": null,
            "grid_auto_flow": null,
            "grid_area": null,
            "grid_template_columns": null,
            "flex": null,
            "_model_name": "LayoutModel",
            "justify_items": null,
            "grid_row": null,
            "max_height": null,
            "align_content": null,
            "visibility": null,
            "align_self": null,
            "height": null,
            "min_height": null,
            "padding": null,
            "grid_auto_rows": null,
            "grid_gap": null,
            "max_width": null,
            "order": null,
            "_view_module_version": "1.2.0",
            "grid_template_areas": null,
            "object_position": null,
            "object_fit": null,
            "grid_auto_columns": null,
            "margin": null,
            "display": null,
            "left": null
          }
        },
        "fd8d86020bed49ad9760d61304292d71": {
          "model_module": "@jupyter-widgets/controls",
          "model_name": "HBoxModel",
          "model_module_version": "1.5.0",
          "state": {
            "_view_name": "HBoxView",
            "_dom_classes": [],
            "_model_name": "HBoxModel",
            "_view_module": "@jupyter-widgets/controls",
            "_model_module_version": "1.5.0",
            "_view_count": null,
            "_view_module_version": "1.5.0",
            "box_style": "",
            "layout": "IPY_MODEL_26cc4df24eed48f895595e067e5f0803",
            "_model_module": "@jupyter-widgets/controls",
            "children": [
              "IPY_MODEL_14b6bf529ee14e05a5f5bbd307246474",
              "IPY_MODEL_4c93563a13d64afa9e68b5cbe2877bb2",
              "IPY_MODEL_9d3a08697bd44c628ef6f12e1f3b66a1"
            ]
          }
        },
        "26cc4df24eed48f895595e067e5f0803": {
          "model_module": "@jupyter-widgets/base",
          "model_name": "LayoutModel",
          "model_module_version": "1.2.0",
          "state": {
            "_view_name": "LayoutView",
            "grid_template_rows": null,
            "right": null,
            "justify_content": null,
            "_view_module": "@jupyter-widgets/base",
            "overflow": null,
            "_model_module_version": "1.2.0",
            "_view_count": null,
            "flex_flow": null,
            "width": null,
            "min_width": null,
            "border": null,
            "align_items": null,
            "bottom": null,
            "_model_module": "@jupyter-widgets/base",
            "top": null,
            "grid_column": null,
            "overflow_y": null,
            "overflow_x": null,
            "grid_auto_flow": null,
            "grid_area": null,
            "grid_template_columns": null,
            "flex": null,
            "_model_name": "LayoutModel",
            "justify_items": null,
            "grid_row": null,
            "max_height": null,
            "align_content": null,
            "visibility": null,
            "align_self": null,
            "height": null,
            "min_height": null,
            "padding": null,
            "grid_auto_rows": null,
            "grid_gap": null,
            "max_width": null,
            "order": null,
            "_view_module_version": "1.2.0",
            "grid_template_areas": null,
            "object_position": null,
            "object_fit": null,
            "grid_auto_columns": null,
            "margin": null,
            "display": null,
            "left": null
          }
        },
        "14b6bf529ee14e05a5f5bbd307246474": {
          "model_module": "@jupyter-widgets/controls",
          "model_name": "HTMLModel",
          "model_module_version": "1.5.0",
          "state": {
            "_view_name": "HTMLView",
            "style": "IPY_MODEL_fae3a1303f7a42409b7cc2702e420ee4",
            "_dom_classes": [],
            "description": "",
            "_model_name": "HTMLModel",
            "placeholder": "​",
            "_view_module": "@jupyter-widgets/controls",
            "_model_module_version": "1.5.0",
            "value": "loss: 0.6454, 0.8185, acc: 0.8122, 0.7725: 100%",
            "_view_count": null,
            "_view_module_version": "1.5.0",
            "description_tooltip": null,
            "_model_module": "@jupyter-widgets/controls",
            "layout": "IPY_MODEL_a60d2e57a8e2420ab074675b1af7adde"
          }
        },
        "4c93563a13d64afa9e68b5cbe2877bb2": {
          "model_module": "@jupyter-widgets/controls",
          "model_name": "FloatProgressModel",
          "model_module_version": "1.5.0",
          "state": {
            "_view_name": "ProgressView",
            "style": "IPY_MODEL_6c3b8854798d4608ac78eafe6fa98961",
            "_dom_classes": [],
            "description": "",
            "_model_name": "FloatProgressModel",
            "bar_style": "success",
            "max": 3749,
            "_view_module": "@jupyter-widgets/controls",
            "_model_module_version": "1.5.0",
            "value": 3749,
            "_view_count": null,
            "_view_module_version": "1.5.0",
            "orientation": "horizontal",
            "min": 0,
            "description_tooltip": null,
            "_model_module": "@jupyter-widgets/controls",
            "layout": "IPY_MODEL_bfd14965d1a5467d86af93cf1d021ff9"
          }
        },
        "9d3a08697bd44c628ef6f12e1f3b66a1": {
          "model_module": "@jupyter-widgets/controls",
          "model_name": "HTMLModel",
          "model_module_version": "1.5.0",
          "state": {
            "_view_name": "HTMLView",
            "style": "IPY_MODEL_18e59006fd334ef888c66deee6f8ce0d",
            "_dom_classes": [],
            "description": "",
            "_model_name": "HTMLModel",
            "placeholder": "​",
            "_view_module": "@jupyter-widgets/controls",
            "_model_module_version": "1.5.0",
            "value": " 3749/3749 [37:22&lt;00:00,  1.86it/s]",
            "_view_count": null,
            "_view_module_version": "1.5.0",
            "description_tooltip": null,
            "_model_module": "@jupyter-widgets/controls",
            "layout": "IPY_MODEL_74ec6b1eb3814b7aa5c8055e0fad5021"
          }
        },
        "fae3a1303f7a42409b7cc2702e420ee4": {
          "model_module": "@jupyter-widgets/controls",
          "model_name": "DescriptionStyleModel",
          "model_module_version": "1.5.0",
          "state": {
            "_view_name": "StyleView",
            "_model_name": "DescriptionStyleModel",
            "description_width": "",
            "_view_module": "@jupyter-widgets/base",
            "_model_module_version": "1.5.0",
            "_view_count": null,
            "_view_module_version": "1.2.0",
            "_model_module": "@jupyter-widgets/controls"
          }
        },
        "a60d2e57a8e2420ab074675b1af7adde": {
          "model_module": "@jupyter-widgets/base",
          "model_name": "LayoutModel",
          "model_module_version": "1.2.0",
          "state": {
            "_view_name": "LayoutView",
            "grid_template_rows": null,
            "right": null,
            "justify_content": null,
            "_view_module": "@jupyter-widgets/base",
            "overflow": null,
            "_model_module_version": "1.2.0",
            "_view_count": null,
            "flex_flow": null,
            "width": null,
            "min_width": null,
            "border": null,
            "align_items": null,
            "bottom": null,
            "_model_module": "@jupyter-widgets/base",
            "top": null,
            "grid_column": null,
            "overflow_y": null,
            "overflow_x": null,
            "grid_auto_flow": null,
            "grid_area": null,
            "grid_template_columns": null,
            "flex": null,
            "_model_name": "LayoutModel",
            "justify_items": null,
            "grid_row": null,
            "max_height": null,
            "align_content": null,
            "visibility": null,
            "align_self": null,
            "height": null,
            "min_height": null,
            "padding": null,
            "grid_auto_rows": null,
            "grid_gap": null,
            "max_width": null,
            "order": null,
            "_view_module_version": "1.2.0",
            "grid_template_areas": null,
            "object_position": null,
            "object_fit": null,
            "grid_auto_columns": null,
            "margin": null,
            "display": null,
            "left": null
          }
        },
        "6c3b8854798d4608ac78eafe6fa98961": {
          "model_module": "@jupyter-widgets/controls",
          "model_name": "ProgressStyleModel",
          "model_module_version": "1.5.0",
          "state": {
            "_view_name": "StyleView",
            "_model_name": "ProgressStyleModel",
            "description_width": "",
            "_view_module": "@jupyter-widgets/base",
            "_model_module_version": "1.5.0",
            "_view_count": null,
            "_view_module_version": "1.2.0",
            "bar_color": null,
            "_model_module": "@jupyter-widgets/controls"
          }
        },
        "bfd14965d1a5467d86af93cf1d021ff9": {
          "model_module": "@jupyter-widgets/base",
          "model_name": "LayoutModel",
          "model_module_version": "1.2.0",
          "state": {
            "_view_name": "LayoutView",
            "grid_template_rows": null,
            "right": null,
            "justify_content": null,
            "_view_module": "@jupyter-widgets/base",
            "overflow": null,
            "_model_module_version": "1.2.0",
            "_view_count": null,
            "flex_flow": null,
            "width": null,
            "min_width": null,
            "border": null,
            "align_items": null,
            "bottom": null,
            "_model_module": "@jupyter-widgets/base",
            "top": null,
            "grid_column": null,
            "overflow_y": null,
            "overflow_x": null,
            "grid_auto_flow": null,
            "grid_area": null,
            "grid_template_columns": null,
            "flex": null,
            "_model_name": "LayoutModel",
            "justify_items": null,
            "grid_row": null,
            "max_height": null,
            "align_content": null,
            "visibility": null,
            "align_self": null,
            "height": null,
            "min_height": null,
            "padding": null,
            "grid_auto_rows": null,
            "grid_gap": null,
            "max_width": null,
            "order": null,
            "_view_module_version": "1.2.0",
            "grid_template_areas": null,
            "object_position": null,
            "object_fit": null,
            "grid_auto_columns": null,
            "margin": null,
            "display": null,
            "left": null
          }
        },
        "18e59006fd334ef888c66deee6f8ce0d": {
          "model_module": "@jupyter-widgets/controls",
          "model_name": "DescriptionStyleModel",
          "model_module_version": "1.5.0",
          "state": {
            "_view_name": "StyleView",
            "_model_name": "DescriptionStyleModel",
            "description_width": "",
            "_view_module": "@jupyter-widgets/base",
            "_model_module_version": "1.5.0",
            "_view_count": null,
            "_view_module_version": "1.2.0",
            "_model_module": "@jupyter-widgets/controls"
          }
        },
        "74ec6b1eb3814b7aa5c8055e0fad5021": {
          "model_module": "@jupyter-widgets/base",
          "model_name": "LayoutModel",
          "model_module_version": "1.2.0",
          "state": {
            "_view_name": "LayoutView",
            "grid_template_rows": null,
            "right": null,
            "justify_content": null,
            "_view_module": "@jupyter-widgets/base",
            "overflow": null,
            "_model_module_version": "1.2.0",
            "_view_count": null,
            "flex_flow": null,
            "width": null,
            "min_width": null,
            "border": null,
            "align_items": null,
            "bottom": null,
            "_model_module": "@jupyter-widgets/base",
            "top": null,
            "grid_column": null,
            "overflow_y": null,
            "overflow_x": null,
            "grid_auto_flow": null,
            "grid_area": null,
            "grid_template_columns": null,
            "flex": null,
            "_model_name": "LayoutModel",
            "justify_items": null,
            "grid_row": null,
            "max_height": null,
            "align_content": null,
            "visibility": null,
            "align_self": null,
            "height": null,
            "min_height": null,
            "padding": null,
            "grid_auto_rows": null,
            "grid_gap": null,
            "max_width": null,
            "order": null,
            "_view_module_version": "1.2.0",
            "grid_template_areas": null,
            "object_position": null,
            "object_fit": null,
            "grid_auto_columns": null,
            "margin": null,
            "display": null,
            "left": null
          }
        },
        "3a4db62d155544949b2a72e8244e63d5": {
          "model_module": "@jupyter-widgets/controls",
          "model_name": "HBoxModel",
          "model_module_version": "1.5.0",
          "state": {
            "_view_name": "HBoxView",
            "_dom_classes": [],
            "_model_name": "HBoxModel",
            "_view_module": "@jupyter-widgets/controls",
            "_model_module_version": "1.5.0",
            "_view_count": null,
            "_view_module_version": "1.5.0",
            "box_style": "",
            "layout": "IPY_MODEL_2969cc98c3144279b28ddea2f1f6974f",
            "_model_module": "@jupyter-widgets/controls",
            "children": [
              "IPY_MODEL_87894d2d25d04174899fec96f2468c3e",
              "IPY_MODEL_323e56a7550c48438a977605e70fde47",
              "IPY_MODEL_5c416b63410d4d9993bf0afe0267da5d"
            ]
          }
        },
        "2969cc98c3144279b28ddea2f1f6974f": {
          "model_module": "@jupyter-widgets/base",
          "model_name": "LayoutModel",
          "model_module_version": "1.2.0",
          "state": {
            "_view_name": "LayoutView",
            "grid_template_rows": null,
            "right": null,
            "justify_content": null,
            "_view_module": "@jupyter-widgets/base",
            "overflow": null,
            "_model_module_version": "1.2.0",
            "_view_count": null,
            "flex_flow": null,
            "width": null,
            "min_width": null,
            "border": null,
            "align_items": null,
            "bottom": null,
            "_model_module": "@jupyter-widgets/base",
            "top": null,
            "grid_column": null,
            "overflow_y": null,
            "overflow_x": null,
            "grid_auto_flow": null,
            "grid_area": null,
            "grid_template_columns": null,
            "flex": null,
            "_model_name": "LayoutModel",
            "justify_items": null,
            "grid_row": null,
            "max_height": null,
            "align_content": null,
            "visibility": null,
            "align_self": null,
            "height": null,
            "min_height": null,
            "padding": null,
            "grid_auto_rows": null,
            "grid_gap": null,
            "max_width": null,
            "order": null,
            "_view_module_version": "1.2.0",
            "grid_template_areas": null,
            "object_position": null,
            "object_fit": null,
            "grid_auto_columns": null,
            "margin": null,
            "display": null,
            "left": null
          }
        },
        "87894d2d25d04174899fec96f2468c3e": {
          "model_module": "@jupyter-widgets/controls",
          "model_name": "HTMLModel",
          "model_module_version": "1.5.0",
          "state": {
            "_view_name": "HTMLView",
            "style": "IPY_MODEL_e1b8ecf8535c486e8d0e01167f35123a",
            "_dom_classes": [],
            "description": "",
            "_model_name": "HTMLModel",
            "placeholder": "​",
            "_view_module": "@jupyter-widgets/controls",
            "_model_module_version": "1.5.0",
            "value": "loss: 0.4332, 0.5542, acc: 0.8718, 0.8400: 100%",
            "_view_count": null,
            "_view_module_version": "1.5.0",
            "description_tooltip": null,
            "_model_module": "@jupyter-widgets/controls",
            "layout": "IPY_MODEL_da327d760f1f4c5bbd5a004bc416a6a2"
          }
        },
        "323e56a7550c48438a977605e70fde47": {
          "model_module": "@jupyter-widgets/controls",
          "model_name": "FloatProgressModel",
          "model_module_version": "1.5.0",
          "state": {
            "_view_name": "ProgressView",
            "style": "IPY_MODEL_5f1adf5322794b26a098c212c6d0e0bf",
            "_dom_classes": [],
            "description": "",
            "_model_name": "FloatProgressModel",
            "bar_style": "success",
            "max": 3749,
            "_view_module": "@jupyter-widgets/controls",
            "_model_module_version": "1.5.0",
            "value": 3749,
            "_view_count": null,
            "_view_module_version": "1.5.0",
            "orientation": "horizontal",
            "min": 0,
            "description_tooltip": null,
            "_model_module": "@jupyter-widgets/controls",
            "layout": "IPY_MODEL_2c514777dae646188ca562f8fc0cdd40"
          }
        },
        "5c416b63410d4d9993bf0afe0267da5d": {
          "model_module": "@jupyter-widgets/controls",
          "model_name": "HTMLModel",
          "model_module_version": "1.5.0",
          "state": {
            "_view_name": "HTMLView",
            "style": "IPY_MODEL_38e4996a694b4e5f8305a6ceea6f8ebd",
            "_dom_classes": [],
            "description": "",
            "_model_name": "HTMLModel",
            "placeholder": "​",
            "_view_module": "@jupyter-widgets/controls",
            "_model_module_version": "1.5.0",
            "value": " 3749/3749 [37:22&lt;00:00,  1.89it/s]",
            "_view_count": null,
            "_view_module_version": "1.5.0",
            "description_tooltip": null,
            "_model_module": "@jupyter-widgets/controls",
            "layout": "IPY_MODEL_ab1b4c8d320f4a26b9e4e6cc55dddad0"
          }
        },
        "e1b8ecf8535c486e8d0e01167f35123a": {
          "model_module": "@jupyter-widgets/controls",
          "model_name": "DescriptionStyleModel",
          "model_module_version": "1.5.0",
          "state": {
            "_view_name": "StyleView",
            "_model_name": "DescriptionStyleModel",
            "description_width": "",
            "_view_module": "@jupyter-widgets/base",
            "_model_module_version": "1.5.0",
            "_view_count": null,
            "_view_module_version": "1.2.0",
            "_model_module": "@jupyter-widgets/controls"
          }
        },
        "da327d760f1f4c5bbd5a004bc416a6a2": {
          "model_module": "@jupyter-widgets/base",
          "model_name": "LayoutModel",
          "model_module_version": "1.2.0",
          "state": {
            "_view_name": "LayoutView",
            "grid_template_rows": null,
            "right": null,
            "justify_content": null,
            "_view_module": "@jupyter-widgets/base",
            "overflow": null,
            "_model_module_version": "1.2.0",
            "_view_count": null,
            "flex_flow": null,
            "width": null,
            "min_width": null,
            "border": null,
            "align_items": null,
            "bottom": null,
            "_model_module": "@jupyter-widgets/base",
            "top": null,
            "grid_column": null,
            "overflow_y": null,
            "overflow_x": null,
            "grid_auto_flow": null,
            "grid_area": null,
            "grid_template_columns": null,
            "flex": null,
            "_model_name": "LayoutModel",
            "justify_items": null,
            "grid_row": null,
            "max_height": null,
            "align_content": null,
            "visibility": null,
            "align_self": null,
            "height": null,
            "min_height": null,
            "padding": null,
            "grid_auto_rows": null,
            "grid_gap": null,
            "max_width": null,
            "order": null,
            "_view_module_version": "1.2.0",
            "grid_template_areas": null,
            "object_position": null,
            "object_fit": null,
            "grid_auto_columns": null,
            "margin": null,
            "display": null,
            "left": null
          }
        },
        "5f1adf5322794b26a098c212c6d0e0bf": {
          "model_module": "@jupyter-widgets/controls",
          "model_name": "ProgressStyleModel",
          "model_module_version": "1.5.0",
          "state": {
            "_view_name": "StyleView",
            "_model_name": "ProgressStyleModel",
            "description_width": "",
            "_view_module": "@jupyter-widgets/base",
            "_model_module_version": "1.5.0",
            "_view_count": null,
            "_view_module_version": "1.2.0",
            "bar_color": null,
            "_model_module": "@jupyter-widgets/controls"
          }
        },
        "2c514777dae646188ca562f8fc0cdd40": {
          "model_module": "@jupyter-widgets/base",
          "model_name": "LayoutModel",
          "model_module_version": "1.2.0",
          "state": {
            "_view_name": "LayoutView",
            "grid_template_rows": null,
            "right": null,
            "justify_content": null,
            "_view_module": "@jupyter-widgets/base",
            "overflow": null,
            "_model_module_version": "1.2.0",
            "_view_count": null,
            "flex_flow": null,
            "width": null,
            "min_width": null,
            "border": null,
            "align_items": null,
            "bottom": null,
            "_model_module": "@jupyter-widgets/base",
            "top": null,
            "grid_column": null,
            "overflow_y": null,
            "overflow_x": null,
            "grid_auto_flow": null,
            "grid_area": null,
            "grid_template_columns": null,
            "flex": null,
            "_model_name": "LayoutModel",
            "justify_items": null,
            "grid_row": null,
            "max_height": null,
            "align_content": null,
            "visibility": null,
            "align_self": null,
            "height": null,
            "min_height": null,
            "padding": null,
            "grid_auto_rows": null,
            "grid_gap": null,
            "max_width": null,
            "order": null,
            "_view_module_version": "1.2.0",
            "grid_template_areas": null,
            "object_position": null,
            "object_fit": null,
            "grid_auto_columns": null,
            "margin": null,
            "display": null,
            "left": null
          }
        },
        "38e4996a694b4e5f8305a6ceea6f8ebd": {
          "model_module": "@jupyter-widgets/controls",
          "model_name": "DescriptionStyleModel",
          "model_module_version": "1.5.0",
          "state": {
            "_view_name": "StyleView",
            "_model_name": "DescriptionStyleModel",
            "description_width": "",
            "_view_module": "@jupyter-widgets/base",
            "_model_module_version": "1.5.0",
            "_view_count": null,
            "_view_module_version": "1.2.0",
            "_model_module": "@jupyter-widgets/controls"
          }
        },
        "ab1b4c8d320f4a26b9e4e6cc55dddad0": {
          "model_module": "@jupyter-widgets/base",
          "model_name": "LayoutModel",
          "model_module_version": "1.2.0",
          "state": {
            "_view_name": "LayoutView",
            "grid_template_rows": null,
            "right": null,
            "justify_content": null,
            "_view_module": "@jupyter-widgets/base",
            "overflow": null,
            "_model_module_version": "1.2.0",
            "_view_count": null,
            "flex_flow": null,
            "width": null,
            "min_width": null,
            "border": null,
            "align_items": null,
            "bottom": null,
            "_model_module": "@jupyter-widgets/base",
            "top": null,
            "grid_column": null,
            "overflow_y": null,
            "overflow_x": null,
            "grid_auto_flow": null,
            "grid_area": null,
            "grid_template_columns": null,
            "flex": null,
            "_model_name": "LayoutModel",
            "justify_items": null,
            "grid_row": null,
            "max_height": null,
            "align_content": null,
            "visibility": null,
            "align_self": null,
            "height": null,
            "min_height": null,
            "padding": null,
            "grid_auto_rows": null,
            "grid_gap": null,
            "max_width": null,
            "order": null,
            "_view_module_version": "1.2.0",
            "grid_template_areas": null,
            "object_position": null,
            "object_fit": null,
            "grid_auto_columns": null,
            "margin": null,
            "display": null,
            "left": null
          }
        },
        "04b181ed2dba4c5fa04457d6cce6c4f6": {
          "model_module": "@jupyter-widgets/controls",
          "model_name": "HBoxModel",
          "model_module_version": "1.5.0",
          "state": {
            "_view_name": "HBoxView",
            "_dom_classes": [],
            "_model_name": "HBoxModel",
            "_view_module": "@jupyter-widgets/controls",
            "_model_module_version": "1.5.0",
            "_view_count": null,
            "_view_module_version": "1.5.0",
            "box_style": "",
            "layout": "IPY_MODEL_30b061f8ba4f44799d96afd4c7032cb9",
            "_model_module": "@jupyter-widgets/controls",
            "children": [
              "IPY_MODEL_8e0da9b754d042ebb04c90d22f2e7df2",
              "IPY_MODEL_829efdb6b9134990aae4b8b94c1bef01",
              "IPY_MODEL_596d86975cc4467e884a68a1ab4766e3"
            ]
          }
        },
        "30b061f8ba4f44799d96afd4c7032cb9": {
          "model_module": "@jupyter-widgets/base",
          "model_name": "LayoutModel",
          "model_module_version": "1.2.0",
          "state": {
            "_view_name": "LayoutView",
            "grid_template_rows": null,
            "right": null,
            "justify_content": null,
            "_view_module": "@jupyter-widgets/base",
            "overflow": null,
            "_model_module_version": "1.2.0",
            "_view_count": null,
            "flex_flow": null,
            "width": null,
            "min_width": null,
            "border": null,
            "align_items": null,
            "bottom": null,
            "_model_module": "@jupyter-widgets/base",
            "top": null,
            "grid_column": null,
            "overflow_y": null,
            "overflow_x": null,
            "grid_auto_flow": null,
            "grid_area": null,
            "grid_template_columns": null,
            "flex": null,
            "_model_name": "LayoutModel",
            "justify_items": null,
            "grid_row": null,
            "max_height": null,
            "align_content": null,
            "visibility": null,
            "align_self": null,
            "height": null,
            "min_height": null,
            "padding": null,
            "grid_auto_rows": null,
            "grid_gap": null,
            "max_width": null,
            "order": null,
            "_view_module_version": "1.2.0",
            "grid_template_areas": null,
            "object_position": null,
            "object_fit": null,
            "grid_auto_columns": null,
            "margin": null,
            "display": null,
            "left": null
          }
        },
        "8e0da9b754d042ebb04c90d22f2e7df2": {
          "model_module": "@jupyter-widgets/controls",
          "model_name": "HTMLModel",
          "model_module_version": "1.5.0",
          "state": {
            "_view_name": "HTMLView",
            "style": "IPY_MODEL_e096b37576f94ba99ced5751bf5b4bb2",
            "_dom_classes": [],
            "description": "",
            "_model_name": "HTMLModel",
            "placeholder": "​",
            "_view_module": "@jupyter-widgets/controls",
            "_model_module_version": "1.5.0",
            "value": "loss: 0.3191, 0.4053, acc: 0.9031, 0.8815: 100%",
            "_view_count": null,
            "_view_module_version": "1.5.0",
            "description_tooltip": null,
            "_model_module": "@jupyter-widgets/controls",
            "layout": "IPY_MODEL_45cc1026969242a0ba6dc8a0d7581241"
          }
        },
        "829efdb6b9134990aae4b8b94c1bef01": {
          "model_module": "@jupyter-widgets/controls",
          "model_name": "FloatProgressModel",
          "model_module_version": "1.5.0",
          "state": {
            "_view_name": "ProgressView",
            "style": "IPY_MODEL_254a75a45a1840d2bd35d86ba537ab8e",
            "_dom_classes": [],
            "description": "",
            "_model_name": "FloatProgressModel",
            "bar_style": "success",
            "max": 3749,
            "_view_module": "@jupyter-widgets/controls",
            "_model_module_version": "1.5.0",
            "value": 3749,
            "_view_count": null,
            "_view_module_version": "1.5.0",
            "orientation": "horizontal",
            "min": 0,
            "description_tooltip": null,
            "_model_module": "@jupyter-widgets/controls",
            "layout": "IPY_MODEL_24c3727e9a744a72b6abddd324b62cb8"
          }
        },
        "596d86975cc4467e884a68a1ab4766e3": {
          "model_module": "@jupyter-widgets/controls",
          "model_name": "HTMLModel",
          "model_module_version": "1.5.0",
          "state": {
            "_view_name": "HTMLView",
            "style": "IPY_MODEL_67b97c034b484a109fdb9fa3f3898a6e",
            "_dom_classes": [],
            "description": "",
            "_model_name": "HTMLModel",
            "placeholder": "​",
            "_view_module": "@jupyter-widgets/controls",
            "_model_module_version": "1.5.0",
            "value": " 3749/3749 [36:53&lt;00:00,  1.86it/s]",
            "_view_count": null,
            "_view_module_version": "1.5.0",
            "description_tooltip": null,
            "_model_module": "@jupyter-widgets/controls",
            "layout": "IPY_MODEL_0eea56fe2ba84d928c3a5b09c05299d0"
          }
        },
        "e096b37576f94ba99ced5751bf5b4bb2": {
          "model_module": "@jupyter-widgets/controls",
          "model_name": "DescriptionStyleModel",
          "model_module_version": "1.5.0",
          "state": {
            "_view_name": "StyleView",
            "_model_name": "DescriptionStyleModel",
            "description_width": "",
            "_view_module": "@jupyter-widgets/base",
            "_model_module_version": "1.5.0",
            "_view_count": null,
            "_view_module_version": "1.2.0",
            "_model_module": "@jupyter-widgets/controls"
          }
        },
        "45cc1026969242a0ba6dc8a0d7581241": {
          "model_module": "@jupyter-widgets/base",
          "model_name": "LayoutModel",
          "model_module_version": "1.2.0",
          "state": {
            "_view_name": "LayoutView",
            "grid_template_rows": null,
            "right": null,
            "justify_content": null,
            "_view_module": "@jupyter-widgets/base",
            "overflow": null,
            "_model_module_version": "1.2.0",
            "_view_count": null,
            "flex_flow": null,
            "width": null,
            "min_width": null,
            "border": null,
            "align_items": null,
            "bottom": null,
            "_model_module": "@jupyter-widgets/base",
            "top": null,
            "grid_column": null,
            "overflow_y": null,
            "overflow_x": null,
            "grid_auto_flow": null,
            "grid_area": null,
            "grid_template_columns": null,
            "flex": null,
            "_model_name": "LayoutModel",
            "justify_items": null,
            "grid_row": null,
            "max_height": null,
            "align_content": null,
            "visibility": null,
            "align_self": null,
            "height": null,
            "min_height": null,
            "padding": null,
            "grid_auto_rows": null,
            "grid_gap": null,
            "max_width": null,
            "order": null,
            "_view_module_version": "1.2.0",
            "grid_template_areas": null,
            "object_position": null,
            "object_fit": null,
            "grid_auto_columns": null,
            "margin": null,
            "display": null,
            "left": null
          }
        },
        "254a75a45a1840d2bd35d86ba537ab8e": {
          "model_module": "@jupyter-widgets/controls",
          "model_name": "ProgressStyleModel",
          "model_module_version": "1.5.0",
          "state": {
            "_view_name": "StyleView",
            "_model_name": "ProgressStyleModel",
            "description_width": "",
            "_view_module": "@jupyter-widgets/base",
            "_model_module_version": "1.5.0",
            "_view_count": null,
            "_view_module_version": "1.2.0",
            "bar_color": null,
            "_model_module": "@jupyter-widgets/controls"
          }
        },
        "24c3727e9a744a72b6abddd324b62cb8": {
          "model_module": "@jupyter-widgets/base",
          "model_name": "LayoutModel",
          "model_module_version": "1.2.0",
          "state": {
            "_view_name": "LayoutView",
            "grid_template_rows": null,
            "right": null,
            "justify_content": null,
            "_view_module": "@jupyter-widgets/base",
            "overflow": null,
            "_model_module_version": "1.2.0",
            "_view_count": null,
            "flex_flow": null,
            "width": null,
            "min_width": null,
            "border": null,
            "align_items": null,
            "bottom": null,
            "_model_module": "@jupyter-widgets/base",
            "top": null,
            "grid_column": null,
            "overflow_y": null,
            "overflow_x": null,
            "grid_auto_flow": null,
            "grid_area": null,
            "grid_template_columns": null,
            "flex": null,
            "_model_name": "LayoutModel",
            "justify_items": null,
            "grid_row": null,
            "max_height": null,
            "align_content": null,
            "visibility": null,
            "align_self": null,
            "height": null,
            "min_height": null,
            "padding": null,
            "grid_auto_rows": null,
            "grid_gap": null,
            "max_width": null,
            "order": null,
            "_view_module_version": "1.2.0",
            "grid_template_areas": null,
            "object_position": null,
            "object_fit": null,
            "grid_auto_columns": null,
            "margin": null,
            "display": null,
            "left": null
          }
        },
        "67b97c034b484a109fdb9fa3f3898a6e": {
          "model_module": "@jupyter-widgets/controls",
          "model_name": "DescriptionStyleModel",
          "model_module_version": "1.5.0",
          "state": {
            "_view_name": "StyleView",
            "_model_name": "DescriptionStyleModel",
            "description_width": "",
            "_view_module": "@jupyter-widgets/base",
            "_model_module_version": "1.5.0",
            "_view_count": null,
            "_view_module_version": "1.2.0",
            "_model_module": "@jupyter-widgets/controls"
          }
        },
        "0eea56fe2ba84d928c3a5b09c05299d0": {
          "model_module": "@jupyter-widgets/base",
          "model_name": "LayoutModel",
          "model_module_version": "1.2.0",
          "state": {
            "_view_name": "LayoutView",
            "grid_template_rows": null,
            "right": null,
            "justify_content": null,
            "_view_module": "@jupyter-widgets/base",
            "overflow": null,
            "_model_module_version": "1.2.0",
            "_view_count": null,
            "flex_flow": null,
            "width": null,
            "min_width": null,
            "border": null,
            "align_items": null,
            "bottom": null,
            "_model_module": "@jupyter-widgets/base",
            "top": null,
            "grid_column": null,
            "overflow_y": null,
            "overflow_x": null,
            "grid_auto_flow": null,
            "grid_area": null,
            "grid_template_columns": null,
            "flex": null,
            "_model_name": "LayoutModel",
            "justify_items": null,
            "grid_row": null,
            "max_height": null,
            "align_content": null,
            "visibility": null,
            "align_self": null,
            "height": null,
            "min_height": null,
            "padding": null,
            "grid_auto_rows": null,
            "grid_gap": null,
            "max_width": null,
            "order": null,
            "_view_module_version": "1.2.0",
            "grid_template_areas": null,
            "object_position": null,
            "object_fit": null,
            "grid_auto_columns": null,
            "margin": null,
            "display": null,
            "left": null
          }
        },
        "87728528e10540b785f1fe1adb6abd38": {
          "model_module": "@jupyter-widgets/controls",
          "model_name": "HBoxModel",
          "model_module_version": "1.5.0",
          "state": {
            "_view_name": "HBoxView",
            "_dom_classes": [],
            "_model_name": "HBoxModel",
            "_view_module": "@jupyter-widgets/controls",
            "_model_module_version": "1.5.0",
            "_view_count": null,
            "_view_module_version": "1.5.0",
            "box_style": "",
            "layout": "IPY_MODEL_038971e6671349f187f22e41cfb950c8",
            "_model_module": "@jupyter-widgets/controls",
            "children": [
              "IPY_MODEL_23ecec388478466f891aa54482436d7d",
              "IPY_MODEL_202c4916d4064deca0dba435276b92b9",
              "IPY_MODEL_f0ddfa502acb4e39845c394b7c5efb8d"
            ]
          }
        },
        "038971e6671349f187f22e41cfb950c8": {
          "model_module": "@jupyter-widgets/base",
          "model_name": "LayoutModel",
          "model_module_version": "1.2.0",
          "state": {
            "_view_name": "LayoutView",
            "grid_template_rows": null,
            "right": null,
            "justify_content": null,
            "_view_module": "@jupyter-widgets/base",
            "overflow": null,
            "_model_module_version": "1.2.0",
            "_view_count": null,
            "flex_flow": null,
            "width": null,
            "min_width": null,
            "border": null,
            "align_items": null,
            "bottom": null,
            "_model_module": "@jupyter-widgets/base",
            "top": null,
            "grid_column": null,
            "overflow_y": null,
            "overflow_x": null,
            "grid_auto_flow": null,
            "grid_area": null,
            "grid_template_columns": null,
            "flex": null,
            "_model_name": "LayoutModel",
            "justify_items": null,
            "grid_row": null,
            "max_height": null,
            "align_content": null,
            "visibility": null,
            "align_self": null,
            "height": null,
            "min_height": null,
            "padding": null,
            "grid_auto_rows": null,
            "grid_gap": null,
            "max_width": null,
            "order": null,
            "_view_module_version": "1.2.0",
            "grid_template_areas": null,
            "object_position": null,
            "object_fit": null,
            "grid_auto_columns": null,
            "margin": null,
            "display": null,
            "left": null
          }
        },
        "23ecec388478466f891aa54482436d7d": {
          "model_module": "@jupyter-widgets/controls",
          "model_name": "HTMLModel",
          "model_module_version": "1.5.0",
          "state": {
            "_view_name": "HTMLView",
            "style": "IPY_MODEL_c26c6613e60041a18514425d26f1446a",
            "_dom_classes": [],
            "description": "",
            "_model_name": "HTMLModel",
            "placeholder": "​",
            "_view_module": "@jupyter-widgets/controls",
            "_model_module_version": "1.5.0",
            "value": "loss: 0.2608, 0.3188, acc: 0.9215, 0.9068: 100%",
            "_view_count": null,
            "_view_module_version": "1.5.0",
            "description_tooltip": null,
            "_model_module": "@jupyter-widgets/controls",
            "layout": "IPY_MODEL_013c500a8a454f97bcf8048c7f1678fc"
          }
        },
        "202c4916d4064deca0dba435276b92b9": {
          "model_module": "@jupyter-widgets/controls",
          "model_name": "FloatProgressModel",
          "model_module_version": "1.5.0",
          "state": {
            "_view_name": "ProgressView",
            "style": "IPY_MODEL_40bd2a24f3644f468990c37755493132",
            "_dom_classes": [],
            "description": "",
            "_model_name": "FloatProgressModel",
            "bar_style": "success",
            "max": 3749,
            "_view_module": "@jupyter-widgets/controls",
            "_model_module_version": "1.5.0",
            "value": 3749,
            "_view_count": null,
            "_view_module_version": "1.5.0",
            "orientation": "horizontal",
            "min": 0,
            "description_tooltip": null,
            "_model_module": "@jupyter-widgets/controls",
            "layout": "IPY_MODEL_24e4b44377f74cd2aebf3a59a78c5ea8"
          }
        },
        "f0ddfa502acb4e39845c394b7c5efb8d": {
          "model_module": "@jupyter-widgets/controls",
          "model_name": "HTMLModel",
          "model_module_version": "1.5.0",
          "state": {
            "_view_name": "HTMLView",
            "style": "IPY_MODEL_7f8b867e882b4416a640ae12453833fa",
            "_dom_classes": [],
            "description": "",
            "_model_name": "HTMLModel",
            "placeholder": "​",
            "_view_module": "@jupyter-widgets/controls",
            "_model_module_version": "1.5.0",
            "value": " 3749/3749 [37:04&lt;00:00,  1.87it/s]",
            "_view_count": null,
            "_view_module_version": "1.5.0",
            "description_tooltip": null,
            "_model_module": "@jupyter-widgets/controls",
            "layout": "IPY_MODEL_cb3d4350d77840ccb8bc1e5ede846153"
          }
        },
        "c26c6613e60041a18514425d26f1446a": {
          "model_module": "@jupyter-widgets/controls",
          "model_name": "DescriptionStyleModel",
          "model_module_version": "1.5.0",
          "state": {
            "_view_name": "StyleView",
            "_model_name": "DescriptionStyleModel",
            "description_width": "",
            "_view_module": "@jupyter-widgets/base",
            "_model_module_version": "1.5.0",
            "_view_count": null,
            "_view_module_version": "1.2.0",
            "_model_module": "@jupyter-widgets/controls"
          }
        },
        "013c500a8a454f97bcf8048c7f1678fc": {
          "model_module": "@jupyter-widgets/base",
          "model_name": "LayoutModel",
          "model_module_version": "1.2.0",
          "state": {
            "_view_name": "LayoutView",
            "grid_template_rows": null,
            "right": null,
            "justify_content": null,
            "_view_module": "@jupyter-widgets/base",
            "overflow": null,
            "_model_module_version": "1.2.0",
            "_view_count": null,
            "flex_flow": null,
            "width": null,
            "min_width": null,
            "border": null,
            "align_items": null,
            "bottom": null,
            "_model_module": "@jupyter-widgets/base",
            "top": null,
            "grid_column": null,
            "overflow_y": null,
            "overflow_x": null,
            "grid_auto_flow": null,
            "grid_area": null,
            "grid_template_columns": null,
            "flex": null,
            "_model_name": "LayoutModel",
            "justify_items": null,
            "grid_row": null,
            "max_height": null,
            "align_content": null,
            "visibility": null,
            "align_self": null,
            "height": null,
            "min_height": null,
            "padding": null,
            "grid_auto_rows": null,
            "grid_gap": null,
            "max_width": null,
            "order": null,
            "_view_module_version": "1.2.0",
            "grid_template_areas": null,
            "object_position": null,
            "object_fit": null,
            "grid_auto_columns": null,
            "margin": null,
            "display": null,
            "left": null
          }
        },
        "40bd2a24f3644f468990c37755493132": {
          "model_module": "@jupyter-widgets/controls",
          "model_name": "ProgressStyleModel",
          "model_module_version": "1.5.0",
          "state": {
            "_view_name": "StyleView",
            "_model_name": "ProgressStyleModel",
            "description_width": "",
            "_view_module": "@jupyter-widgets/base",
            "_model_module_version": "1.5.0",
            "_view_count": null,
            "_view_module_version": "1.2.0",
            "bar_color": null,
            "_model_module": "@jupyter-widgets/controls"
          }
        },
        "24e4b44377f74cd2aebf3a59a78c5ea8": {
          "model_module": "@jupyter-widgets/base",
          "model_name": "LayoutModel",
          "model_module_version": "1.2.0",
          "state": {
            "_view_name": "LayoutView",
            "grid_template_rows": null,
            "right": null,
            "justify_content": null,
            "_view_module": "@jupyter-widgets/base",
            "overflow": null,
            "_model_module_version": "1.2.0",
            "_view_count": null,
            "flex_flow": null,
            "width": null,
            "min_width": null,
            "border": null,
            "align_items": null,
            "bottom": null,
            "_model_module": "@jupyter-widgets/base",
            "top": null,
            "grid_column": null,
            "overflow_y": null,
            "overflow_x": null,
            "grid_auto_flow": null,
            "grid_area": null,
            "grid_template_columns": null,
            "flex": null,
            "_model_name": "LayoutModel",
            "justify_items": null,
            "grid_row": null,
            "max_height": null,
            "align_content": null,
            "visibility": null,
            "align_self": null,
            "height": null,
            "min_height": null,
            "padding": null,
            "grid_auto_rows": null,
            "grid_gap": null,
            "max_width": null,
            "order": null,
            "_view_module_version": "1.2.0",
            "grid_template_areas": null,
            "object_position": null,
            "object_fit": null,
            "grid_auto_columns": null,
            "margin": null,
            "display": null,
            "left": null
          }
        },
        "7f8b867e882b4416a640ae12453833fa": {
          "model_module": "@jupyter-widgets/controls",
          "model_name": "DescriptionStyleModel",
          "model_module_version": "1.5.0",
          "state": {
            "_view_name": "StyleView",
            "_model_name": "DescriptionStyleModel",
            "description_width": "",
            "_view_module": "@jupyter-widgets/base",
            "_model_module_version": "1.5.0",
            "_view_count": null,
            "_view_module_version": "1.2.0",
            "_model_module": "@jupyter-widgets/controls"
          }
        },
        "cb3d4350d77840ccb8bc1e5ede846153": {
          "model_module": "@jupyter-widgets/base",
          "model_name": "LayoutModel",
          "model_module_version": "1.2.0",
          "state": {
            "_view_name": "LayoutView",
            "grid_template_rows": null,
            "right": null,
            "justify_content": null,
            "_view_module": "@jupyter-widgets/base",
            "overflow": null,
            "_model_module_version": "1.2.0",
            "_view_count": null,
            "flex_flow": null,
            "width": null,
            "min_width": null,
            "border": null,
            "align_items": null,
            "bottom": null,
            "_model_module": "@jupyter-widgets/base",
            "top": null,
            "grid_column": null,
            "overflow_y": null,
            "overflow_x": null,
            "grid_auto_flow": null,
            "grid_area": null,
            "grid_template_columns": null,
            "flex": null,
            "_model_name": "LayoutModel",
            "justify_items": null,
            "grid_row": null,
            "max_height": null,
            "align_content": null,
            "visibility": null,
            "align_self": null,
            "height": null,
            "min_height": null,
            "padding": null,
            "grid_auto_rows": null,
            "grid_gap": null,
            "max_width": null,
            "order": null,
            "_view_module_version": "1.2.0",
            "grid_template_areas": null,
            "object_position": null,
            "object_fit": null,
            "grid_auto_columns": null,
            "margin": null,
            "display": null,
            "left": null
          }
        },
        "cc221aec32f04d11b420b1ab1d9a7a34": {
          "model_module": "@jupyter-widgets/controls",
          "model_name": "HBoxModel",
          "model_module_version": "1.5.0",
          "state": {
            "_view_name": "HBoxView",
            "_dom_classes": [],
            "_model_name": "HBoxModel",
            "_view_module": "@jupyter-widgets/controls",
            "_model_module_version": "1.5.0",
            "_view_count": null,
            "_view_module_version": "1.5.0",
            "box_style": "",
            "layout": "IPY_MODEL_bdb63bd5c3874dc2aa187c221ffe2646",
            "_model_module": "@jupyter-widgets/controls",
            "children": [
              "IPY_MODEL_98000498e38d44d2b180f922724bb491",
              "IPY_MODEL_55ad144360004840849455fa1331163d",
              "IPY_MODEL_b94d6e0714c7468c8f09d4159d64198d"
            ]
          }
        },
        "bdb63bd5c3874dc2aa187c221ffe2646": {
          "model_module": "@jupyter-widgets/base",
          "model_name": "LayoutModel",
          "model_module_version": "1.2.0",
          "state": {
            "_view_name": "LayoutView",
            "grid_template_rows": null,
            "right": null,
            "justify_content": null,
            "_view_module": "@jupyter-widgets/base",
            "overflow": null,
            "_model_module_version": "1.2.0",
            "_view_count": null,
            "flex_flow": null,
            "width": null,
            "min_width": null,
            "border": null,
            "align_items": null,
            "bottom": null,
            "_model_module": "@jupyter-widgets/base",
            "top": null,
            "grid_column": null,
            "overflow_y": null,
            "overflow_x": null,
            "grid_auto_flow": null,
            "grid_area": null,
            "grid_template_columns": null,
            "flex": null,
            "_model_name": "LayoutModel",
            "justify_items": null,
            "grid_row": null,
            "max_height": null,
            "align_content": null,
            "visibility": null,
            "align_self": null,
            "height": null,
            "min_height": null,
            "padding": null,
            "grid_auto_rows": null,
            "grid_gap": null,
            "max_width": null,
            "order": null,
            "_view_module_version": "1.2.0",
            "grid_template_areas": null,
            "object_position": null,
            "object_fit": null,
            "grid_auto_columns": null,
            "margin": null,
            "display": null,
            "left": null
          }
        },
        "98000498e38d44d2b180f922724bb491": {
          "model_module": "@jupyter-widgets/controls",
          "model_name": "HTMLModel",
          "model_module_version": "1.5.0",
          "state": {
            "_view_name": "HTMLView",
            "style": "IPY_MODEL_fa2711af1df3465593abffbe4b05411f",
            "_dom_classes": [],
            "description": "",
            "_model_name": "HTMLModel",
            "placeholder": "​",
            "_view_module": "@jupyter-widgets/controls",
            "_model_module_version": "1.5.0",
            "value": "loss: 0.2101, 0.2582, acc: 0.9380, 0.9244: 100%",
            "_view_count": null,
            "_view_module_version": "1.5.0",
            "description_tooltip": null,
            "_model_module": "@jupyter-widgets/controls",
            "layout": "IPY_MODEL_85473769b19a41e8af500a818788a212"
          }
        },
        "55ad144360004840849455fa1331163d": {
          "model_module": "@jupyter-widgets/controls",
          "model_name": "FloatProgressModel",
          "model_module_version": "1.5.0",
          "state": {
            "_view_name": "ProgressView",
            "style": "IPY_MODEL_83ef28a7af0b48728629cbe09ff87ae8",
            "_dom_classes": [],
            "description": "",
            "_model_name": "FloatProgressModel",
            "bar_style": "success",
            "max": 3749,
            "_view_module": "@jupyter-widgets/controls",
            "_model_module_version": "1.5.0",
            "value": 3749,
            "_view_count": null,
            "_view_module_version": "1.5.0",
            "orientation": "horizontal",
            "min": 0,
            "description_tooltip": null,
            "_model_module": "@jupyter-widgets/controls",
            "layout": "IPY_MODEL_efae922c2e3f4dd78ad68870f1f18e6d"
          }
        },
        "b94d6e0714c7468c8f09d4159d64198d": {
          "model_module": "@jupyter-widgets/controls",
          "model_name": "HTMLModel",
          "model_module_version": "1.5.0",
          "state": {
            "_view_name": "HTMLView",
            "style": "IPY_MODEL_221148b2082c437f972702912e52c5c4",
            "_dom_classes": [],
            "description": "",
            "_model_name": "HTMLModel",
            "placeholder": "​",
            "_view_module": "@jupyter-widgets/controls",
            "_model_module_version": "1.5.0",
            "value": " 3749/3749 [39:22&lt;00:00,  1.88it/s]",
            "_view_count": null,
            "_view_module_version": "1.5.0",
            "description_tooltip": null,
            "_model_module": "@jupyter-widgets/controls",
            "layout": "IPY_MODEL_71f45eddf5c946d7bc33729139efa4da"
          }
        },
        "fa2711af1df3465593abffbe4b05411f": {
          "model_module": "@jupyter-widgets/controls",
          "model_name": "DescriptionStyleModel",
          "model_module_version": "1.5.0",
          "state": {
            "_view_name": "StyleView",
            "_model_name": "DescriptionStyleModel",
            "description_width": "",
            "_view_module": "@jupyter-widgets/base",
            "_model_module_version": "1.5.0",
            "_view_count": null,
            "_view_module_version": "1.2.0",
            "_model_module": "@jupyter-widgets/controls"
          }
        },
        "85473769b19a41e8af500a818788a212": {
          "model_module": "@jupyter-widgets/base",
          "model_name": "LayoutModel",
          "model_module_version": "1.2.0",
          "state": {
            "_view_name": "LayoutView",
            "grid_template_rows": null,
            "right": null,
            "justify_content": null,
            "_view_module": "@jupyter-widgets/base",
            "overflow": null,
            "_model_module_version": "1.2.0",
            "_view_count": null,
            "flex_flow": null,
            "width": null,
            "min_width": null,
            "border": null,
            "align_items": null,
            "bottom": null,
            "_model_module": "@jupyter-widgets/base",
            "top": null,
            "grid_column": null,
            "overflow_y": null,
            "overflow_x": null,
            "grid_auto_flow": null,
            "grid_area": null,
            "grid_template_columns": null,
            "flex": null,
            "_model_name": "LayoutModel",
            "justify_items": null,
            "grid_row": null,
            "max_height": null,
            "align_content": null,
            "visibility": null,
            "align_self": null,
            "height": null,
            "min_height": null,
            "padding": null,
            "grid_auto_rows": null,
            "grid_gap": null,
            "max_width": null,
            "order": null,
            "_view_module_version": "1.2.0",
            "grid_template_areas": null,
            "object_position": null,
            "object_fit": null,
            "grid_auto_columns": null,
            "margin": null,
            "display": null,
            "left": null
          }
        },
        "83ef28a7af0b48728629cbe09ff87ae8": {
          "model_module": "@jupyter-widgets/controls",
          "model_name": "ProgressStyleModel",
          "model_module_version": "1.5.0",
          "state": {
            "_view_name": "StyleView",
            "_model_name": "ProgressStyleModel",
            "description_width": "",
            "_view_module": "@jupyter-widgets/base",
            "_model_module_version": "1.5.0",
            "_view_count": null,
            "_view_module_version": "1.2.0",
            "bar_color": null,
            "_model_module": "@jupyter-widgets/controls"
          }
        },
        "efae922c2e3f4dd78ad68870f1f18e6d": {
          "model_module": "@jupyter-widgets/base",
          "model_name": "LayoutModel",
          "model_module_version": "1.2.0",
          "state": {
            "_view_name": "LayoutView",
            "grid_template_rows": null,
            "right": null,
            "justify_content": null,
            "_view_module": "@jupyter-widgets/base",
            "overflow": null,
            "_model_module_version": "1.2.0",
            "_view_count": null,
            "flex_flow": null,
            "width": null,
            "min_width": null,
            "border": null,
            "align_items": null,
            "bottom": null,
            "_model_module": "@jupyter-widgets/base",
            "top": null,
            "grid_column": null,
            "overflow_y": null,
            "overflow_x": null,
            "grid_auto_flow": null,
            "grid_area": null,
            "grid_template_columns": null,
            "flex": null,
            "_model_name": "LayoutModel",
            "justify_items": null,
            "grid_row": null,
            "max_height": null,
            "align_content": null,
            "visibility": null,
            "align_self": null,
            "height": null,
            "min_height": null,
            "padding": null,
            "grid_auto_rows": null,
            "grid_gap": null,
            "max_width": null,
            "order": null,
            "_view_module_version": "1.2.0",
            "grid_template_areas": null,
            "object_position": null,
            "object_fit": null,
            "grid_auto_columns": null,
            "margin": null,
            "display": null,
            "left": null
          }
        },
        "221148b2082c437f972702912e52c5c4": {
          "model_module": "@jupyter-widgets/controls",
          "model_name": "DescriptionStyleModel",
          "model_module_version": "1.5.0",
          "state": {
            "_view_name": "StyleView",
            "_model_name": "DescriptionStyleModel",
            "description_width": "",
            "_view_module": "@jupyter-widgets/base",
            "_model_module_version": "1.5.0",
            "_view_count": null,
            "_view_module_version": "1.2.0",
            "_model_module": "@jupyter-widgets/controls"
          }
        },
        "71f45eddf5c946d7bc33729139efa4da": {
          "model_module": "@jupyter-widgets/base",
          "model_name": "LayoutModel",
          "model_module_version": "1.2.0",
          "state": {
            "_view_name": "LayoutView",
            "grid_template_rows": null,
            "right": null,
            "justify_content": null,
            "_view_module": "@jupyter-widgets/base",
            "overflow": null,
            "_model_module_version": "1.2.0",
            "_view_count": null,
            "flex_flow": null,
            "width": null,
            "min_width": null,
            "border": null,
            "align_items": null,
            "bottom": null,
            "_model_module": "@jupyter-widgets/base",
            "top": null,
            "grid_column": null,
            "overflow_y": null,
            "overflow_x": null,
            "grid_auto_flow": null,
            "grid_area": null,
            "grid_template_columns": null,
            "flex": null,
            "_model_name": "LayoutModel",
            "justify_items": null,
            "grid_row": null,
            "max_height": null,
            "align_content": null,
            "visibility": null,
            "align_self": null,
            "height": null,
            "min_height": null,
            "padding": null,
            "grid_auto_rows": null,
            "grid_gap": null,
            "max_width": null,
            "order": null,
            "_view_module_version": "1.2.0",
            "grid_template_areas": null,
            "object_position": null,
            "object_fit": null,
            "grid_auto_columns": null,
            "margin": null,
            "display": null,
            "left": null
          }
        },
        "7a191881ee874d1f8c229787fac271f3": {
          "model_module": "@jupyter-widgets/controls",
          "model_name": "HBoxModel",
          "model_module_version": "1.5.0",
          "state": {
            "_view_name": "HBoxView",
            "_dom_classes": [],
            "_model_name": "HBoxModel",
            "_view_module": "@jupyter-widgets/controls",
            "_model_module_version": "1.5.0",
            "_view_count": null,
            "_view_module_version": "1.5.0",
            "box_style": "",
            "layout": "IPY_MODEL_1d1a085a0e2042879b366746490e593d",
            "_model_module": "@jupyter-widgets/controls",
            "children": [
              "IPY_MODEL_1db47019d1e744efbe4c1c9f8f7cd2e2",
              "IPY_MODEL_c56825e736df4dc2a19acde4d4fc45ac",
              "IPY_MODEL_ccb9e8026954411595a1d781d67bc9c2"
            ]
          }
        },
        "1d1a085a0e2042879b366746490e593d": {
          "model_module": "@jupyter-widgets/base",
          "model_name": "LayoutModel",
          "model_module_version": "1.2.0",
          "state": {
            "_view_name": "LayoutView",
            "grid_template_rows": null,
            "right": null,
            "justify_content": null,
            "_view_module": "@jupyter-widgets/base",
            "overflow": null,
            "_model_module_version": "1.2.0",
            "_view_count": null,
            "flex_flow": null,
            "width": null,
            "min_width": null,
            "border": null,
            "align_items": null,
            "bottom": null,
            "_model_module": "@jupyter-widgets/base",
            "top": null,
            "grid_column": null,
            "overflow_y": null,
            "overflow_x": null,
            "grid_auto_flow": null,
            "grid_area": null,
            "grid_template_columns": null,
            "flex": null,
            "_model_name": "LayoutModel",
            "justify_items": null,
            "grid_row": null,
            "max_height": null,
            "align_content": null,
            "visibility": null,
            "align_self": null,
            "height": null,
            "min_height": null,
            "padding": null,
            "grid_auto_rows": null,
            "grid_gap": null,
            "max_width": null,
            "order": null,
            "_view_module_version": "1.2.0",
            "grid_template_areas": null,
            "object_position": null,
            "object_fit": null,
            "grid_auto_columns": null,
            "margin": null,
            "display": null,
            "left": null
          }
        },
        "1db47019d1e744efbe4c1c9f8f7cd2e2": {
          "model_module": "@jupyter-widgets/controls",
          "model_name": "HTMLModel",
          "model_module_version": "1.5.0",
          "state": {
            "_view_name": "HTMLView",
            "style": "IPY_MODEL_d6c011b6044f47d9b05628bdfae47bc3",
            "_dom_classes": [],
            "description": "",
            "_model_name": "HTMLModel",
            "placeholder": "​",
            "_view_module": "@jupyter-widgets/controls",
            "_model_module_version": "1.5.0",
            "value": "loss: 0.1837, 0.2149, acc: 0.9458, 0.9372: 100%",
            "_view_count": null,
            "_view_module_version": "1.5.0",
            "description_tooltip": null,
            "_model_module": "@jupyter-widgets/controls",
            "layout": "IPY_MODEL_757f6de08dc247a7997d093886e2607c"
          }
        },
        "c56825e736df4dc2a19acde4d4fc45ac": {
          "model_module": "@jupyter-widgets/controls",
          "model_name": "FloatProgressModel",
          "model_module_version": "1.5.0",
          "state": {
            "_view_name": "ProgressView",
            "style": "IPY_MODEL_04570243ff044f79bb459721d4b36571",
            "_dom_classes": [],
            "description": "",
            "_model_name": "FloatProgressModel",
            "bar_style": "success",
            "max": 3749,
            "_view_module": "@jupyter-widgets/controls",
            "_model_module_version": "1.5.0",
            "value": 3749,
            "_view_count": null,
            "_view_module_version": "1.5.0",
            "orientation": "horizontal",
            "min": 0,
            "description_tooltip": null,
            "_model_module": "@jupyter-widgets/controls",
            "layout": "IPY_MODEL_c5fbce7bafae4dde9fb88fb2f4212b11"
          }
        },
        "ccb9e8026954411595a1d781d67bc9c2": {
          "model_module": "@jupyter-widgets/controls",
          "model_name": "HTMLModel",
          "model_module_version": "1.5.0",
          "state": {
            "_view_name": "HTMLView",
            "style": "IPY_MODEL_a1ebf99833534c078544865d981dbfce",
            "_dom_classes": [],
            "description": "",
            "_model_name": "HTMLModel",
            "placeholder": "​",
            "_view_module": "@jupyter-widgets/controls",
            "_model_module_version": "1.5.0",
            "value": " 3749/3749 [36:56&lt;00:00,  1.85it/s]",
            "_view_count": null,
            "_view_module_version": "1.5.0",
            "description_tooltip": null,
            "_model_module": "@jupyter-widgets/controls",
            "layout": "IPY_MODEL_8a021dc889514dcc8450eeba5d3731b5"
          }
        },
        "d6c011b6044f47d9b05628bdfae47bc3": {
          "model_module": "@jupyter-widgets/controls",
          "model_name": "DescriptionStyleModel",
          "model_module_version": "1.5.0",
          "state": {
            "_view_name": "StyleView",
            "_model_name": "DescriptionStyleModel",
            "description_width": "",
            "_view_module": "@jupyter-widgets/base",
            "_model_module_version": "1.5.0",
            "_view_count": null,
            "_view_module_version": "1.2.0",
            "_model_module": "@jupyter-widgets/controls"
          }
        },
        "757f6de08dc247a7997d093886e2607c": {
          "model_module": "@jupyter-widgets/base",
          "model_name": "LayoutModel",
          "model_module_version": "1.2.0",
          "state": {
            "_view_name": "LayoutView",
            "grid_template_rows": null,
            "right": null,
            "justify_content": null,
            "_view_module": "@jupyter-widgets/base",
            "overflow": null,
            "_model_module_version": "1.2.0",
            "_view_count": null,
            "flex_flow": null,
            "width": null,
            "min_width": null,
            "border": null,
            "align_items": null,
            "bottom": null,
            "_model_module": "@jupyter-widgets/base",
            "top": null,
            "grid_column": null,
            "overflow_y": null,
            "overflow_x": null,
            "grid_auto_flow": null,
            "grid_area": null,
            "grid_template_columns": null,
            "flex": null,
            "_model_name": "LayoutModel",
            "justify_items": null,
            "grid_row": null,
            "max_height": null,
            "align_content": null,
            "visibility": null,
            "align_self": null,
            "height": null,
            "min_height": null,
            "padding": null,
            "grid_auto_rows": null,
            "grid_gap": null,
            "max_width": null,
            "order": null,
            "_view_module_version": "1.2.0",
            "grid_template_areas": null,
            "object_position": null,
            "object_fit": null,
            "grid_auto_columns": null,
            "margin": null,
            "display": null,
            "left": null
          }
        },
        "04570243ff044f79bb459721d4b36571": {
          "model_module": "@jupyter-widgets/controls",
          "model_name": "ProgressStyleModel",
          "model_module_version": "1.5.0",
          "state": {
            "_view_name": "StyleView",
            "_model_name": "ProgressStyleModel",
            "description_width": "",
            "_view_module": "@jupyter-widgets/base",
            "_model_module_version": "1.5.0",
            "_view_count": null,
            "_view_module_version": "1.2.0",
            "bar_color": null,
            "_model_module": "@jupyter-widgets/controls"
          }
        },
        "c5fbce7bafae4dde9fb88fb2f4212b11": {
          "model_module": "@jupyter-widgets/base",
          "model_name": "LayoutModel",
          "model_module_version": "1.2.0",
          "state": {
            "_view_name": "LayoutView",
            "grid_template_rows": null,
            "right": null,
            "justify_content": null,
            "_view_module": "@jupyter-widgets/base",
            "overflow": null,
            "_model_module_version": "1.2.0",
            "_view_count": null,
            "flex_flow": null,
            "width": null,
            "min_width": null,
            "border": null,
            "align_items": null,
            "bottom": null,
            "_model_module": "@jupyter-widgets/base",
            "top": null,
            "grid_column": null,
            "overflow_y": null,
            "overflow_x": null,
            "grid_auto_flow": null,
            "grid_area": null,
            "grid_template_columns": null,
            "flex": null,
            "_model_name": "LayoutModel",
            "justify_items": null,
            "grid_row": null,
            "max_height": null,
            "align_content": null,
            "visibility": null,
            "align_self": null,
            "height": null,
            "min_height": null,
            "padding": null,
            "grid_auto_rows": null,
            "grid_gap": null,
            "max_width": null,
            "order": null,
            "_view_module_version": "1.2.0",
            "grid_template_areas": null,
            "object_position": null,
            "object_fit": null,
            "grid_auto_columns": null,
            "margin": null,
            "display": null,
            "left": null
          }
        },
        "a1ebf99833534c078544865d981dbfce": {
          "model_module": "@jupyter-widgets/controls",
          "model_name": "DescriptionStyleModel",
          "model_module_version": "1.5.0",
          "state": {
            "_view_name": "StyleView",
            "_model_name": "DescriptionStyleModel",
            "description_width": "",
            "_view_module": "@jupyter-widgets/base",
            "_model_module_version": "1.5.0",
            "_view_count": null,
            "_view_module_version": "1.2.0",
            "_model_module": "@jupyter-widgets/controls"
          }
        },
        "8a021dc889514dcc8450eeba5d3731b5": {
          "model_module": "@jupyter-widgets/base",
          "model_name": "LayoutModel",
          "model_module_version": "1.2.0",
          "state": {
            "_view_name": "LayoutView",
            "grid_template_rows": null,
            "right": null,
            "justify_content": null,
            "_view_module": "@jupyter-widgets/base",
            "overflow": null,
            "_model_module_version": "1.2.0",
            "_view_count": null,
            "flex_flow": null,
            "width": null,
            "min_width": null,
            "border": null,
            "align_items": null,
            "bottom": null,
            "_model_module": "@jupyter-widgets/base",
            "top": null,
            "grid_column": null,
            "overflow_y": null,
            "overflow_x": null,
            "grid_auto_flow": null,
            "grid_area": null,
            "grid_template_columns": null,
            "flex": null,
            "_model_name": "LayoutModel",
            "justify_items": null,
            "grid_row": null,
            "max_height": null,
            "align_content": null,
            "visibility": null,
            "align_self": null,
            "height": null,
            "min_height": null,
            "padding": null,
            "grid_auto_rows": null,
            "grid_gap": null,
            "max_width": null,
            "order": null,
            "_view_module_version": "1.2.0",
            "grid_template_areas": null,
            "object_position": null,
            "object_fit": null,
            "grid_auto_columns": null,
            "margin": null,
            "display": null,
            "left": null
          }
        }
      }
    }
  },
  "cells": [
    {
      "cell_type": "markdown",
      "metadata": {
        "id": "muslim-liberia"
      },
      "source": [
        "# BERT Pretrained Model 활용"
      ],
      "id": "muslim-liberia"
    },
    {
      "cell_type": "markdown",
      "metadata": {
        "id": "nearby-bahamas"
      },
      "source": [
        "# 0. 프로젝트 준비 - KorQuAD 데이터셋 준비"
      ],
      "id": "nearby-bahamas"
    },
    {
      "cell_type": "code",
      "metadata": {
        "colab": {
          "base_uri": "https://localhost:8080/"
        },
        "id": "MGJoj523f2kA",
        "outputId": "92ba167c-c816-460a-aabe-5d0e8a0fe7e1"
      },
      "source": [
        "!pip install tensorflow_addons"
      ],
      "id": "MGJoj523f2kA",
      "execution_count": 1,
      "outputs": [
        {
          "output_type": "stream",
          "name": "stdout",
          "text": [
            "Collecting tensorflow_addons\n",
            "  Downloading tensorflow_addons-0.14.0-cp37-cp37m-manylinux_2_12_x86_64.manylinux2010_x86_64.whl (1.1 MB)\n",
            "\u001b[?25l\r\u001b[K     |▎                               | 10 kB 25.3 MB/s eta 0:00:01\r\u001b[K     |▋                               | 20 kB 26.5 MB/s eta 0:00:01\r\u001b[K     |▉                               | 30 kB 18.0 MB/s eta 0:00:01\r\u001b[K     |█▏                              | 40 kB 15.4 MB/s eta 0:00:01\r\u001b[K     |█▌                              | 51 kB 5.6 MB/s eta 0:00:01\r\u001b[K     |█▊                              | 61 kB 6.0 MB/s eta 0:00:01\r\u001b[K     |██                              | 71 kB 5.5 MB/s eta 0:00:01\r\u001b[K     |██▍                             | 81 kB 6.2 MB/s eta 0:00:01\r\u001b[K     |██▋                             | 92 kB 6.1 MB/s eta 0:00:01\r\u001b[K     |███                             | 102 kB 5.3 MB/s eta 0:00:01\r\u001b[K     |███▎                            | 112 kB 5.3 MB/s eta 0:00:01\r\u001b[K     |███▌                            | 122 kB 5.3 MB/s eta 0:00:01\r\u001b[K     |███▉                            | 133 kB 5.3 MB/s eta 0:00:01\r\u001b[K     |████▏                           | 143 kB 5.3 MB/s eta 0:00:01\r\u001b[K     |████▍                           | 153 kB 5.3 MB/s eta 0:00:01\r\u001b[K     |████▊                           | 163 kB 5.3 MB/s eta 0:00:01\r\u001b[K     |█████                           | 174 kB 5.3 MB/s eta 0:00:01\r\u001b[K     |█████▎                          | 184 kB 5.3 MB/s eta 0:00:01\r\u001b[K     |█████▋                          | 194 kB 5.3 MB/s eta 0:00:01\r\u001b[K     |██████                          | 204 kB 5.3 MB/s eta 0:00:01\r\u001b[K     |██████▏                         | 215 kB 5.3 MB/s eta 0:00:01\r\u001b[K     |██████▌                         | 225 kB 5.3 MB/s eta 0:00:01\r\u001b[K     |██████▉                         | 235 kB 5.3 MB/s eta 0:00:01\r\u001b[K     |███████                         | 245 kB 5.3 MB/s eta 0:00:01\r\u001b[K     |███████▍                        | 256 kB 5.3 MB/s eta 0:00:01\r\u001b[K     |███████▊                        | 266 kB 5.3 MB/s eta 0:00:01\r\u001b[K     |████████                        | 276 kB 5.3 MB/s eta 0:00:01\r\u001b[K     |████████▎                       | 286 kB 5.3 MB/s eta 0:00:01\r\u001b[K     |████████▋                       | 296 kB 5.3 MB/s eta 0:00:01\r\u001b[K     |████████▉                       | 307 kB 5.3 MB/s eta 0:00:01\r\u001b[K     |█████████▏                      | 317 kB 5.3 MB/s eta 0:00:01\r\u001b[K     |█████████▌                      | 327 kB 5.3 MB/s eta 0:00:01\r\u001b[K     |█████████▊                      | 337 kB 5.3 MB/s eta 0:00:01\r\u001b[K     |██████████                      | 348 kB 5.3 MB/s eta 0:00:01\r\u001b[K     |██████████▍                     | 358 kB 5.3 MB/s eta 0:00:01\r\u001b[K     |██████████▋                     | 368 kB 5.3 MB/s eta 0:00:01\r\u001b[K     |███████████                     | 378 kB 5.3 MB/s eta 0:00:01\r\u001b[K     |███████████▎                    | 389 kB 5.3 MB/s eta 0:00:01\r\u001b[K     |███████████▌                    | 399 kB 5.3 MB/s eta 0:00:01\r\u001b[K     |███████████▉                    | 409 kB 5.3 MB/s eta 0:00:01\r\u001b[K     |████████████▏                   | 419 kB 5.3 MB/s eta 0:00:01\r\u001b[K     |████████████▍                   | 430 kB 5.3 MB/s eta 0:00:01\r\u001b[K     |████████████▊                   | 440 kB 5.3 MB/s eta 0:00:01\r\u001b[K     |█████████████                   | 450 kB 5.3 MB/s eta 0:00:01\r\u001b[K     |█████████████▎                  | 460 kB 5.3 MB/s eta 0:00:01\r\u001b[K     |█████████████▋                  | 471 kB 5.3 MB/s eta 0:00:01\r\u001b[K     |██████████████                  | 481 kB 5.3 MB/s eta 0:00:01\r\u001b[K     |██████████████▏                 | 491 kB 5.3 MB/s eta 0:00:01\r\u001b[K     |██████████████▌                 | 501 kB 5.3 MB/s eta 0:00:01\r\u001b[K     |██████████████▉                 | 512 kB 5.3 MB/s eta 0:00:01\r\u001b[K     |███████████████                 | 522 kB 5.3 MB/s eta 0:00:01\r\u001b[K     |███████████████▍                | 532 kB 5.3 MB/s eta 0:00:01\r\u001b[K     |███████████████▊                | 542 kB 5.3 MB/s eta 0:00:01\r\u001b[K     |████████████████                | 552 kB 5.3 MB/s eta 0:00:01\r\u001b[K     |████████████████▎               | 563 kB 5.3 MB/s eta 0:00:01\r\u001b[K     |████████████████▋               | 573 kB 5.3 MB/s eta 0:00:01\r\u001b[K     |████████████████▉               | 583 kB 5.3 MB/s eta 0:00:01\r\u001b[K     |█████████████████▏              | 593 kB 5.3 MB/s eta 0:00:01\r\u001b[K     |█████████████████▌              | 604 kB 5.3 MB/s eta 0:00:01\r\u001b[K     |█████████████████▊              | 614 kB 5.3 MB/s eta 0:00:01\r\u001b[K     |██████████████████              | 624 kB 5.3 MB/s eta 0:00:01\r\u001b[K     |██████████████████▍             | 634 kB 5.3 MB/s eta 0:00:01\r\u001b[K     |██████████████████▋             | 645 kB 5.3 MB/s eta 0:00:01\r\u001b[K     |███████████████████             | 655 kB 5.3 MB/s eta 0:00:01\r\u001b[K     |███████████████████▎            | 665 kB 5.3 MB/s eta 0:00:01\r\u001b[K     |███████████████████▌            | 675 kB 5.3 MB/s eta 0:00:01\r\u001b[K     |███████████████████▉            | 686 kB 5.3 MB/s eta 0:00:01\r\u001b[K     |████████████████████▏           | 696 kB 5.3 MB/s eta 0:00:01\r\u001b[K     |████████████████████▍           | 706 kB 5.3 MB/s eta 0:00:01\r\u001b[K     |████████████████████▊           | 716 kB 5.3 MB/s eta 0:00:01\r\u001b[K     |█████████████████████           | 727 kB 5.3 MB/s eta 0:00:01\r\u001b[K     |█████████████████████▎          | 737 kB 5.3 MB/s eta 0:00:01\r\u001b[K     |█████████████████████▋          | 747 kB 5.3 MB/s eta 0:00:01\r\u001b[K     |██████████████████████          | 757 kB 5.3 MB/s eta 0:00:01\r\u001b[K     |██████████████████████▏         | 768 kB 5.3 MB/s eta 0:00:01\r\u001b[K     |██████████████████████▌         | 778 kB 5.3 MB/s eta 0:00:01\r\u001b[K     |██████████████████████▉         | 788 kB 5.3 MB/s eta 0:00:01\r\u001b[K     |███████████████████████         | 798 kB 5.3 MB/s eta 0:00:01\r\u001b[K     |███████████████████████▍        | 808 kB 5.3 MB/s eta 0:00:01\r\u001b[K     |███████████████████████▊        | 819 kB 5.3 MB/s eta 0:00:01\r\u001b[K     |████████████████████████        | 829 kB 5.3 MB/s eta 0:00:01\r\u001b[K     |████████████████████████▎       | 839 kB 5.3 MB/s eta 0:00:01\r\u001b[K     |████████████████████████▋       | 849 kB 5.3 MB/s eta 0:00:01\r\u001b[K     |████████████████████████▉       | 860 kB 5.3 MB/s eta 0:00:01\r\u001b[K     |█████████████████████████▏      | 870 kB 5.3 MB/s eta 0:00:01\r\u001b[K     |█████████████████████████▍      | 880 kB 5.3 MB/s eta 0:00:01\r\u001b[K     |█████████████████████████▊      | 890 kB 5.3 MB/s eta 0:00:01\r\u001b[K     |██████████████████████████      | 901 kB 5.3 MB/s eta 0:00:01\r\u001b[K     |██████████████████████████▎     | 911 kB 5.3 MB/s eta 0:00:01\r\u001b[K     |██████████████████████████▋     | 921 kB 5.3 MB/s eta 0:00:01\r\u001b[K     |███████████████████████████     | 931 kB 5.3 MB/s eta 0:00:01\r\u001b[K     |███████████████████████████▏    | 942 kB 5.3 MB/s eta 0:00:01\r\u001b[K     |███████████████████████████▌    | 952 kB 5.3 MB/s eta 0:00:01\r\u001b[K     |███████████████████████████▉    | 962 kB 5.3 MB/s eta 0:00:01\r\u001b[K     |████████████████████████████    | 972 kB 5.3 MB/s eta 0:00:01\r\u001b[K     |████████████████████████████▍   | 983 kB 5.3 MB/s eta 0:00:01\r\u001b[K     |████████████████████████████▊   | 993 kB 5.3 MB/s eta 0:00:01\r\u001b[K     |█████████████████████████████   | 1.0 MB 5.3 MB/s eta 0:00:01\r\u001b[K     |█████████████████████████████▎  | 1.0 MB 5.3 MB/s eta 0:00:01\r\u001b[K     |█████████████████████████████▋  | 1.0 MB 5.3 MB/s eta 0:00:01\r\u001b[K     |█████████████████████████████▉  | 1.0 MB 5.3 MB/s eta 0:00:01\r\u001b[K     |██████████████████████████████▏ | 1.0 MB 5.3 MB/s eta 0:00:01\r\u001b[K     |██████████████████████████████▌ | 1.1 MB 5.3 MB/s eta 0:00:01\r\u001b[K     |██████████████████████████████▊ | 1.1 MB 5.3 MB/s eta 0:00:01\r\u001b[K     |███████████████████████████████ | 1.1 MB 5.3 MB/s eta 0:00:01\r\u001b[K     |███████████████████████████████▍| 1.1 MB 5.3 MB/s eta 0:00:01\r\u001b[K     |███████████████████████████████▋| 1.1 MB 5.3 MB/s eta 0:00:01\r\u001b[K     |████████████████████████████████| 1.1 MB 5.3 MB/s eta 0:00:01\r\u001b[K     |████████████████████████████████| 1.1 MB 5.3 MB/s \n",
            "\u001b[?25hRequirement already satisfied: typeguard>=2.7 in /usr/local/lib/python3.7/dist-packages (from tensorflow_addons) (2.7.1)\n",
            "Installing collected packages: tensorflow-addons\n",
            "Successfully installed tensorflow-addons-0.14.0\n"
          ]
        }
      ]
    },
    {
      "cell_type": "code",
      "metadata": {
        "colab": {
          "base_uri": "https://localhost:8080/"
        },
        "id": "Cu6ZRafaf903",
        "outputId": "48945cf1-c799-4344-bac7-22b23f4f7515"
      },
      "source": [
        "!pip install sentencepiece"
      ],
      "id": "Cu6ZRafaf903",
      "execution_count": 2,
      "outputs": [
        {
          "output_type": "stream",
          "name": "stdout",
          "text": [
            "Collecting sentencepiece\n",
            "  Downloading sentencepiece-0.1.96-cp37-cp37m-manylinux_2_17_x86_64.manylinux2014_x86_64.whl (1.2 MB)\n",
            "\u001b[?25l\r\u001b[K     |▎                               | 10 kB 27.3 MB/s eta 0:00:01\r\u001b[K     |▌                               | 20 kB 21.8 MB/s eta 0:00:01\r\u001b[K     |▉                               | 30 kB 11.8 MB/s eta 0:00:01\r\u001b[K     |█                               | 40 kB 9.1 MB/s eta 0:00:01\r\u001b[K     |█▍                              | 51 kB 5.0 MB/s eta 0:00:01\r\u001b[K     |█▋                              | 61 kB 5.5 MB/s eta 0:00:01\r\u001b[K     |██                              | 71 kB 5.9 MB/s eta 0:00:01\r\u001b[K     |██▏                             | 81 kB 6.6 MB/s eta 0:00:01\r\u001b[K     |██▍                             | 92 kB 6.3 MB/s eta 0:00:01\r\u001b[K     |██▊                             | 102 kB 5.1 MB/s eta 0:00:01\r\u001b[K     |███                             | 112 kB 5.1 MB/s eta 0:00:01\r\u001b[K     |███▎                            | 122 kB 5.1 MB/s eta 0:00:01\r\u001b[K     |███▌                            | 133 kB 5.1 MB/s eta 0:00:01\r\u001b[K     |███▉                            | 143 kB 5.1 MB/s eta 0:00:01\r\u001b[K     |████                            | 153 kB 5.1 MB/s eta 0:00:01\r\u001b[K     |████▎                           | 163 kB 5.1 MB/s eta 0:00:01\r\u001b[K     |████▋                           | 174 kB 5.1 MB/s eta 0:00:01\r\u001b[K     |████▉                           | 184 kB 5.1 MB/s eta 0:00:01\r\u001b[K     |█████▏                          | 194 kB 5.1 MB/s eta 0:00:01\r\u001b[K     |█████▍                          | 204 kB 5.1 MB/s eta 0:00:01\r\u001b[K     |█████▊                          | 215 kB 5.1 MB/s eta 0:00:01\r\u001b[K     |██████                          | 225 kB 5.1 MB/s eta 0:00:01\r\u001b[K     |██████▏                         | 235 kB 5.1 MB/s eta 0:00:01\r\u001b[K     |██████▌                         | 245 kB 5.1 MB/s eta 0:00:01\r\u001b[K     |██████▊                         | 256 kB 5.1 MB/s eta 0:00:01\r\u001b[K     |███████                         | 266 kB 5.1 MB/s eta 0:00:01\r\u001b[K     |███████▎                        | 276 kB 5.1 MB/s eta 0:00:01\r\u001b[K     |███████▋                        | 286 kB 5.1 MB/s eta 0:00:01\r\u001b[K     |███████▉                        | 296 kB 5.1 MB/s eta 0:00:01\r\u001b[K     |████████                        | 307 kB 5.1 MB/s eta 0:00:01\r\u001b[K     |████████▍                       | 317 kB 5.1 MB/s eta 0:00:01\r\u001b[K     |████████▋                       | 327 kB 5.1 MB/s eta 0:00:01\r\u001b[K     |█████████                       | 337 kB 5.1 MB/s eta 0:00:01\r\u001b[K     |█████████▏                      | 348 kB 5.1 MB/s eta 0:00:01\r\u001b[K     |█████████▌                      | 358 kB 5.1 MB/s eta 0:00:01\r\u001b[K     |█████████▊                      | 368 kB 5.1 MB/s eta 0:00:01\r\u001b[K     |██████████                      | 378 kB 5.1 MB/s eta 0:00:01\r\u001b[K     |██████████▎                     | 389 kB 5.1 MB/s eta 0:00:01\r\u001b[K     |██████████▌                     | 399 kB 5.1 MB/s eta 0:00:01\r\u001b[K     |██████████▉                     | 409 kB 5.1 MB/s eta 0:00:01\r\u001b[K     |███████████                     | 419 kB 5.1 MB/s eta 0:00:01\r\u001b[K     |███████████▍                    | 430 kB 5.1 MB/s eta 0:00:01\r\u001b[K     |███████████▋                    | 440 kB 5.1 MB/s eta 0:00:01\r\u001b[K     |███████████▉                    | 450 kB 5.1 MB/s eta 0:00:01\r\u001b[K     |████████████▏                   | 460 kB 5.1 MB/s eta 0:00:01\r\u001b[K     |████████████▍                   | 471 kB 5.1 MB/s eta 0:00:01\r\u001b[K     |████████████▊                   | 481 kB 5.1 MB/s eta 0:00:01\r\u001b[K     |█████████████                   | 491 kB 5.1 MB/s eta 0:00:01\r\u001b[K     |█████████████▎                  | 501 kB 5.1 MB/s eta 0:00:01\r\u001b[K     |█████████████▌                  | 512 kB 5.1 MB/s eta 0:00:01\r\u001b[K     |█████████████▊                  | 522 kB 5.1 MB/s eta 0:00:01\r\u001b[K     |██████████████                  | 532 kB 5.1 MB/s eta 0:00:01\r\u001b[K     |██████████████▎                 | 542 kB 5.1 MB/s eta 0:00:01\r\u001b[K     |██████████████▋                 | 552 kB 5.1 MB/s eta 0:00:01\r\u001b[K     |██████████████▉                 | 563 kB 5.1 MB/s eta 0:00:01\r\u001b[K     |███████████████▏                | 573 kB 5.1 MB/s eta 0:00:01\r\u001b[K     |███████████████▍                | 583 kB 5.1 MB/s eta 0:00:01\r\u001b[K     |███████████████▋                | 593 kB 5.1 MB/s eta 0:00:01\r\u001b[K     |████████████████                | 604 kB 5.1 MB/s eta 0:00:01\r\u001b[K     |████████████████▏               | 614 kB 5.1 MB/s eta 0:00:01\r\u001b[K     |████████████████▌               | 624 kB 5.1 MB/s eta 0:00:01\r\u001b[K     |████████████████▊               | 634 kB 5.1 MB/s eta 0:00:01\r\u001b[K     |█████████████████               | 645 kB 5.1 MB/s eta 0:00:01\r\u001b[K     |█████████████████▎              | 655 kB 5.1 MB/s eta 0:00:01\r\u001b[K     |█████████████████▌              | 665 kB 5.1 MB/s eta 0:00:01\r\u001b[K     |█████████████████▉              | 675 kB 5.1 MB/s eta 0:00:01\r\u001b[K     |██████████████████              | 686 kB 5.1 MB/s eta 0:00:01\r\u001b[K     |██████████████████▍             | 696 kB 5.1 MB/s eta 0:00:01\r\u001b[K     |██████████████████▋             | 706 kB 5.1 MB/s eta 0:00:01\r\u001b[K     |███████████████████             | 716 kB 5.1 MB/s eta 0:00:01\r\u001b[K     |███████████████████▏            | 727 kB 5.1 MB/s eta 0:00:01\r\u001b[K     |███████████████████▍            | 737 kB 5.1 MB/s eta 0:00:01\r\u001b[K     |███████████████████▊            | 747 kB 5.1 MB/s eta 0:00:01\r\u001b[K     |████████████████████            | 757 kB 5.1 MB/s eta 0:00:01\r\u001b[K     |████████████████████▎           | 768 kB 5.1 MB/s eta 0:00:01\r\u001b[K     |████████████████████▌           | 778 kB 5.1 MB/s eta 0:00:01\r\u001b[K     |████████████████████▉           | 788 kB 5.1 MB/s eta 0:00:01\r\u001b[K     |█████████████████████           | 798 kB 5.1 MB/s eta 0:00:01\r\u001b[K     |█████████████████████▎          | 808 kB 5.1 MB/s eta 0:00:01\r\u001b[K     |█████████████████████▋          | 819 kB 5.1 MB/s eta 0:00:01\r\u001b[K     |█████████████████████▉          | 829 kB 5.1 MB/s eta 0:00:01\r\u001b[K     |██████████████████████▏         | 839 kB 5.1 MB/s eta 0:00:01\r\u001b[K     |██████████████████████▍         | 849 kB 5.1 MB/s eta 0:00:01\r\u001b[K     |██████████████████████▊         | 860 kB 5.1 MB/s eta 0:00:01\r\u001b[K     |███████████████████████         | 870 kB 5.1 MB/s eta 0:00:01\r\u001b[K     |███████████████████████▏        | 880 kB 5.1 MB/s eta 0:00:01\r\u001b[K     |███████████████████████▌        | 890 kB 5.1 MB/s eta 0:00:01\r\u001b[K     |███████████████████████▊        | 901 kB 5.1 MB/s eta 0:00:01\r\u001b[K     |████████████████████████        | 911 kB 5.1 MB/s eta 0:00:01\r\u001b[K     |████████████████████████▎       | 921 kB 5.1 MB/s eta 0:00:01\r\u001b[K     |████████████████████████▋       | 931 kB 5.1 MB/s eta 0:00:01\r\u001b[K     |████████████████████████▉       | 942 kB 5.1 MB/s eta 0:00:01\r\u001b[K     |█████████████████████████       | 952 kB 5.1 MB/s eta 0:00:01\r\u001b[K     |█████████████████████████▍      | 962 kB 5.1 MB/s eta 0:00:01\r\u001b[K     |█████████████████████████▋      | 972 kB 5.1 MB/s eta 0:00:01\r\u001b[K     |██████████████████████████      | 983 kB 5.1 MB/s eta 0:00:01\r\u001b[K     |██████████████████████████▏     | 993 kB 5.1 MB/s eta 0:00:01\r\u001b[K     |██████████████████████████▌     | 1.0 MB 5.1 MB/s eta 0:00:01\r\u001b[K     |██████████████████████████▊     | 1.0 MB 5.1 MB/s eta 0:00:01\r\u001b[K     |███████████████████████████     | 1.0 MB 5.1 MB/s eta 0:00:01\r\u001b[K     |███████████████████████████▎    | 1.0 MB 5.1 MB/s eta 0:00:01\r\u001b[K     |███████████████████████████▌    | 1.0 MB 5.1 MB/s eta 0:00:01\r\u001b[K     |███████████████████████████▉    | 1.1 MB 5.1 MB/s eta 0:00:01\r\u001b[K     |████████████████████████████    | 1.1 MB 5.1 MB/s eta 0:00:01\r\u001b[K     |████████████████████████████▍   | 1.1 MB 5.1 MB/s eta 0:00:01\r\u001b[K     |████████████████████████████▋   | 1.1 MB 5.1 MB/s eta 0:00:01\r\u001b[K     |████████████████████████████▉   | 1.1 MB 5.1 MB/s eta 0:00:01\r\u001b[K     |█████████████████████████████▏  | 1.1 MB 5.1 MB/s eta 0:00:01\r\u001b[K     |█████████████████████████████▍  | 1.1 MB 5.1 MB/s eta 0:00:01\r\u001b[K     |█████████████████████████████▊  | 1.1 MB 5.1 MB/s eta 0:00:01\r\u001b[K     |██████████████████████████████  | 1.1 MB 5.1 MB/s eta 0:00:01\r\u001b[K     |██████████████████████████████▎ | 1.1 MB 5.1 MB/s eta 0:00:01\r\u001b[K     |██████████████████████████████▌ | 1.2 MB 5.1 MB/s eta 0:00:01\r\u001b[K     |██████████████████████████████▊ | 1.2 MB 5.1 MB/s eta 0:00:01\r\u001b[K     |███████████████████████████████ | 1.2 MB 5.1 MB/s eta 0:00:01\r\u001b[K     |███████████████████████████████▎| 1.2 MB 5.1 MB/s eta 0:00:01\r\u001b[K     |███████████████████████████████▋| 1.2 MB 5.1 MB/s eta 0:00:01\r\u001b[K     |███████████████████████████████▉| 1.2 MB 5.1 MB/s eta 0:00:01\r\u001b[K     |████████████████████████████████| 1.2 MB 5.1 MB/s \n",
            "\u001b[?25hInstalling collected packages: sentencepiece\n",
            "Successfully installed sentencepiece-0.1.96\n"
          ]
        }
      ]
    },
    {
      "cell_type": "code",
      "metadata": {
        "id": "temporal-style"
      },
      "source": [
        "from __future__ import absolute_import, division, print_function, unicode_literals\n",
        "\n",
        "import tensorflow as tf\n",
        "import tensorflow.keras.backend as K\n",
        "import tensorflow_addons as tfa\n",
        "\n",
        "import os\n",
        "import re\n",
        "import numpy as np\n",
        "import pandas as pd\n",
        "import pickle\n",
        "import random\n",
        "import collections\n",
        "import json\n",
        "from datetime import datetime\n",
        "\n",
        "import sentencepiece as spm\n",
        "from tqdm.notebook import tqdm\n",
        "import matplotlib.pyplot as plt\n",
        "import seaborn as sns\n",
        "from wordcloud import WordCloud\n",
        "\n",
        "random_seed = 1234\n",
        "random.seed(random_seed)\n",
        "np.random.seed(random_seed)\n",
        "tf.random.set_seed(random_seed)"
      ],
      "id": "temporal-style",
      "execution_count": 3,
      "outputs": []
    },
    {
      "cell_type": "code",
      "metadata": {
        "colab": {
          "base_uri": "https://localhost:8080/"
        },
        "id": "kzhKF4nygHcs",
        "outputId": "7e5d3e8d-79ce-429f-996d-db3a1bb32822"
      },
      "source": [
        "from google.colab import drive\n",
        "drive.mount('/content/drive')"
      ],
      "id": "kzhKF4nygHcs",
      "execution_count": 4,
      "outputs": [
        {
          "output_type": "stream",
          "name": "stdout",
          "text": [
            "Mounted at /content/drive\n"
          ]
        }
      ]
    },
    {
      "cell_type": "markdown",
      "metadata": {
        "id": "fresh-medicine"
      },
      "source": [
        "- KorQuAD 데이터 확인"
      ],
      "id": "fresh-medicine"
    },
    {
      "cell_type": "code",
      "metadata": {
        "id": "collected-carpet"
      },
      "source": [
        "def print_json_tree(data, indent=\"\"):\n",
        "    for key, value in data.items():\n",
        "        if type(value) == list:     # list 형태의 item은 첫번째 item만 출력\n",
        "            print(f'{indent}- {key}: [{len(value)}]')\n",
        "            print_json_tree(value[0], indent + \"  \")\n",
        "        else:\n",
        "            print(f'{indent}- {key}: {value}')"
      ],
      "id": "collected-carpet",
      "execution_count": 5,
      "outputs": []
    },
    {
      "cell_type": "code",
      "metadata": {
        "colab": {
          "base_uri": "https://localhost:8080/"
        },
        "id": "noticed-coalition",
        "outputId": "32ad178f-5b96-4d7a-d14b-2f59a5801797"
      },
      "source": [
        "data_dir = '/content/drive/MyDrive/Colab Notebooks/E-17/bert_qna/data'\n",
        "model_dir = '/content/drive/MyDrive/Colab Notebooks/E-17/bert_qna/models'\n",
        "\n",
        "# 훈련데이터 확인\n",
        "train_json_path = data_dir + '/KorQuAD_v1.0_train.json'\n",
        "with open(train_json_path) as f:\n",
        "    train_json = json.load(f)\n",
        "    print_json_tree(train_json)"
      ],
      "id": "noticed-coalition",
      "execution_count": 6,
      "outputs": [
        {
          "output_type": "stream",
          "name": "stdout",
          "text": [
            "- version: KorQuAD_v1.0_train\n",
            "- data: [1420]\n",
            "  - paragraphs: [3]\n",
            "    - qas: [8]\n",
            "      - answers: [1]\n",
            "        - text: 교향곡\n",
            "        - answer_start: 54\n",
            "      - id: 6566495-0-0\n",
            "      - question: 바그너는 괴테의 파우스트를 읽고 무엇을 쓰고자 했는가?\n",
            "    - context: 1839년 바그너는 괴테의 파우스트을 처음 읽고 그 내용에 마음이 끌려 이를 소재로 해서 하나의 교향곡을 쓰려는 뜻을 갖는다. 이 시기 바그너는 1838년에 빛 독촉으로 산전수전을 다 걲은 상황이라 좌절과 실망에 가득했으며 메피스토펠레스를 만나는 파우스트의 심경에 공감했다고 한다. 또한 파리에서 아브네크의 지휘로 파리 음악원 관현악단이 연주하는 베토벤의 교향곡 9번을 듣고 깊은 감명을 받았는데, 이것이 이듬해 1월에 파우스트의 서곡으로 쓰여진 이 작품에 조금이라도 영향을 끼쳤으리라는 것은 의심할 여지가 없다. 여기의 라단조 조성의 경우에도 그의 전기에 적혀 있는 것처럼 단순한 정신적 피로나 실의가 반영된 것이 아니라 베토벤의 합창교향곡 조성의 영향을 받은 것을 볼 수 있다. 그렇게 교향곡 작곡을 1839년부터 40년에 걸쳐 파리에서 착수했으나 1악장을 쓴 뒤에 중단했다. 또한 작품의 완성과 동시에 그는 이 서곡(1악장)을 파리 음악원의 연주회에서 연주할 파트보까지 준비하였으나, 실제로는 이루어지지는 않았다. 결국 초연은 4년 반이 지난 후에 드레스덴에서 연주되었고 재연도 이루어졌지만, 이후에 그대로 방치되고 말았다. 그 사이에 그는 리엔치와 방황하는 네덜란드인을 완성하고 탄호이저에도 착수하는 등 분주한 시간을 보냈는데, 그런 바쁜 생활이 이 곡을 잊게 한 것이 아닌가 하는 의견도 있다.\n",
            "  - title: 파우스트_서곡\n"
          ]
        }
      ]
    },
    {
      "cell_type": "code",
      "metadata": {
        "colab": {
          "base_uri": "https://localhost:8080/"
        },
        "id": "proprietary-chocolate",
        "outputId": "8024db08-dc7a-4eff-efaa-21428d8c2509"
      },
      "source": [
        "# 검증데이터 확인\n",
        "dev_json_path = data_dir + '/KorQuAD_v1.0_dev.json'\n",
        "with open(dev_json_path) as f:\n",
        "    dev_json = json.load(f)\n",
        "    print_json_tree(dev_json)"
      ],
      "id": "proprietary-chocolate",
      "execution_count": 7,
      "outputs": [
        {
          "output_type": "stream",
          "name": "stdout",
          "text": [
            "- version: KorQuAD_v1.0_dev\n",
            "- data: [140]\n",
            "  - paragraphs: [2]\n",
            "    - qas: [7]\n",
            "      - answers: [1]\n",
            "        - text: 1989년 2월 15일\n",
            "        - answer_start: 0\n",
            "      - id: 6548850-0-0\n",
            "      - question: 임종석이 여의도 농민 폭력 시위를 주도한 혐의로 지명수배 된 날은?\n",
            "    - context: 1989년 2월 15일 여의도 농민 폭력 시위를 주도한 혐의(폭력행위등처벌에관한법률위반)으로 지명수배되었다. 1989년 3월 12일 서울지방검찰청 공안부는 임종석의 사전구속영장을 발부받았다. 같은 해 6월 30일 평양축전에 임수경을 대표로 파견하여 국가보안법위반 혐의가 추가되었다. 경찰은 12월 18일~20일 사이 서울 경희대학교에서 임종석이 성명 발표를 추진하고 있다는 첩보를 입수했고, 12월 18일 오전 7시 40분 경 가스총과 전자봉으로 무장한 특공조 및 대공과 직원 12명 등 22명의 사복 경찰을 승용차 8대에 나누어 경희대학교에 투입했다. 1989년 12월 18일 오전 8시 15분 경 서울청량리경찰서는 호위 학생 5명과 함께 경희대학교 학생회관 건물 계단을 내려오는 임종석을 발견, 검거해 구속을 집행했다. 임종석은 청량리경찰서에서 약 1시간 동안 조사를 받은 뒤 오전 9시 50분 경 서울 장안동의 서울지방경찰청 공안분실로 인계되었다.\n",
            "  - title: 임종석\n"
          ]
        }
      ]
    },
    {
      "cell_type": "markdown",
      "metadata": {
        "id": "vertical-tulsa"
      },
      "source": [
        "- 전처리"
      ],
      "id": "vertical-tulsa"
    },
    {
      "cell_type": "markdown",
      "metadata": {
        "id": "handled-prayer"
      },
      "source": [
        "- (1) 띄어쓰기 단위 정보관리"
      ],
      "id": "handled-prayer"
    },
    {
      "cell_type": "code",
      "metadata": {
        "id": "dietary-cruise"
      },
      "source": [
        "def _is_whitespace(c):\n",
        "    if c == \" \" or c == \"\\t\" or c == \"\\r\" or c == \"\\n\" or ord(c) == 0x202F:\n",
        "        return True\n",
        "    return False"
      ],
      "id": "dietary-cruise",
      "execution_count": 8,
      "outputs": []
    },
    {
      "cell_type": "code",
      "metadata": {
        "colab": {
          "base_uri": "https://localhost:8080/"
        },
        "id": "comfortable-short",
        "outputId": "9517734e-c5c8-4f88-fced-075750e2d41e"
      },
      "source": [
        "# whitespace가 2개인 경우를 처리해야 함\n",
        "\n",
        "string1 = '1839년 파우스트를 읽었다.'\n",
        "string2 = '1839년  파우스트를 읽었다.'\n",
        "string1[6:10], string2[7:11]"
      ],
      "id": "comfortable-short",
      "execution_count": 9,
      "outputs": [
        {
          "output_type": "execute_result",
          "data": {
            "text/plain": [
              "('파우스트', '파우스트')"
            ]
          },
          "metadata": {},
          "execution_count": 9
        }
      ]
    },
    {
      "cell_type": "markdown",
      "metadata": {
        "id": "banned-samoa"
      },
      "source": [
        "- 문장의 영역표시 함수 만들기"
      ],
      "id": "banned-samoa"
    },
    {
      "cell_type": "code",
      "metadata": {
        "id": "constitutional-worry"
      },
      "source": [
        "def _tokenize_whitespace(string):\n",
        "    word_tokens = []\n",
        "    char_to_word = []\n",
        "    prev_is_whitespace = True\n",
        "\n",
        "    for c in string:\n",
        "        if _is_whitespace(c):\n",
        "            prev_is_whitespace = True\n",
        "        else:\n",
        "            if prev_is_whitespace:\n",
        "                word_tokens.append(c)\n",
        "            else:\n",
        "                word_tokens[-1] += c\n",
        "            prev_is_whitespace = False    \n",
        "        char_to_word.append(len(word_tokens) - 1)\n",
        "    \n",
        "    return word_tokens, char_to_word"
      ],
      "id": "constitutional-worry",
      "execution_count": 10,
      "outputs": []
    },
    {
      "cell_type": "code",
      "metadata": {
        "colab": {
          "base_uri": "https://localhost:8080/"
        },
        "id": "phantom-blackjack",
        "outputId": "71f16dbd-dd0b-493a-ccfb-b13c0f725e83"
      },
      "source": [
        "# 첫번째 문장(string1)에 대해 띄어쓰기 영역 정보를 표시\n",
        "word_tokens, char_to_word = _tokenize_whitespace(string1)\n",
        "for c, i in zip(list(string1), char_to_word):\n",
        "    print(f'\\'{c}\\' : {i}')\n",
        "\n",
        "word_tokens, char_to_word"
      ],
      "id": "phantom-blackjack",
      "execution_count": 11,
      "outputs": [
        {
          "output_type": "stream",
          "name": "stdout",
          "text": [
            "'1' : 0\n",
            "'8' : 0\n",
            "'3' : 0\n",
            "'9' : 0\n",
            "'년' : 0\n",
            "' ' : 0\n",
            "'파' : 1\n",
            "'우' : 1\n",
            "'스' : 1\n",
            "'트' : 1\n",
            "'를' : 1\n",
            "' ' : 1\n",
            "'읽' : 2\n",
            "'었' : 2\n",
            "'다' : 2\n",
            "'.' : 2\n"
          ]
        },
        {
          "output_type": "execute_result",
          "data": {
            "text/plain": [
              "(['1839년', '파우스트를', '읽었다.'], [0, 0, 0, 0, 0, 0, 1, 1, 1, 1, 1, 1, 2, 2, 2, 2])"
            ]
          },
          "metadata": {},
          "execution_count": 11
        }
      ]
    },
    {
      "cell_type": "code",
      "metadata": {
        "colab": {
          "base_uri": "https://localhost:8080/"
        },
        "id": "formal-senator",
        "outputId": "5d2d38b8-1cd0-4e6f-be5b-30ce34dcab67"
      },
      "source": [
        "# 두번째 문장(string2)에 대해 띄어쓰기 영역 정보를 표시\n",
        "word_tokens, char_to_word = _tokenize_whitespace(string2)\n",
        "for c, i in zip(list(string2), char_to_word):\n",
        "    print(f'\\'{c}\\' : {i}')\n",
        "\n",
        "word_tokens, char_to_word"
      ],
      "id": "formal-senator",
      "execution_count": 12,
      "outputs": [
        {
          "output_type": "stream",
          "name": "stdout",
          "text": [
            "'1' : 0\n",
            "'8' : 0\n",
            "'3' : 0\n",
            "'9' : 0\n",
            "'년' : 0\n",
            "' ' : 0\n",
            "' ' : 0\n",
            "'파' : 1\n",
            "'우' : 1\n",
            "'스' : 1\n",
            "'트' : 1\n",
            "'를' : 1\n",
            "' ' : 1\n",
            "'읽' : 2\n",
            "'었' : 2\n",
            "'다' : 2\n",
            "'.' : 2\n"
          ]
        },
        {
          "output_type": "execute_result",
          "data": {
            "text/plain": [
              "(['1839년', '파우스트를', '읽었다.'],\n",
              " [0, 0, 0, 0, 0, 0, 0, 1, 1, 1, 1, 1, 1, 2, 2, 2, 2])"
            ]
          },
          "metadata": {},
          "execution_count": 12
        }
      ]
    },
    {
      "cell_type": "markdown",
      "metadata": {
        "id": "painful-recipient"
      },
      "source": [
        "- (2) 토큰화"
      ],
      "id": "painful-recipient"
    },
    {
      "cell_type": "markdown",
      "metadata": {
        "id": "appreciated-inspector"
      },
      "source": [
        "Subword Segmentation"
      ],
      "id": "appreciated-inspector"
    },
    {
      "cell_type": "markdown",
      "metadata": {
        "id": "through-grove"
      },
      "source": [
        " Google Open Source SentencePiece 모델로 Subword 기반 전처리"
      ],
      "id": "through-grove"
    },
    {
      "cell_type": "code",
      "metadata": {
        "colab": {
          "base_uri": "https://localhost:8080/"
        },
        "id": "architectural-intervention",
        "outputId": "ca7822d6-8913-4e80-c85e-d6dde451bde4"
      },
      "source": [
        "# vocab loading\n",
        "vocab = spm.SentencePieceProcessor()\n",
        "vocab.load(f\"{model_dir}/ko_32000.model\")\n",
        "\n",
        "# word를 subword로 변경하면서 index 저장\n",
        "word_to_token = []\n",
        "context_tokens = []\n",
        "for (i, word) in enumerate(word_tokens):\n",
        "    word_to_token.append(len(context_tokens))\n",
        "    tokens = vocab.encode_as_pieces(word)  # SentencePiece를 사용해 Subword로 쪼갭니다.\n",
        "    for token in tokens:\n",
        "        context_tokens.append(token)\n",
        "\n",
        "context_tokens, word_to_token"
      ],
      "id": "architectural-intervention",
      "execution_count": 13,
      "outputs": [
        {
          "output_type": "execute_result",
          "data": {
            "text/plain": [
              "(['▁1839', '년', '▁', '파우스트', '를', '▁읽', '었다', '.'], [0, 2, 5])"
            ]
          },
          "metadata": {},
          "execution_count": 13
        }
      ]
    },
    {
      "cell_type": "code",
      "metadata": {
        "id": "vertical-triumph"
      },
      "source": [
        "def _tokenize_vocab(vocab, context_words):\n",
        "    word_to_token = []\n",
        "    context_tokens = []\n",
        "    for (i, word) in enumerate(context_words):\n",
        "        word_to_token.append(len(context_tokens))\n",
        "        tokens = vocab.encode_as_pieces(word)\n",
        "        for token in tokens:\n",
        "            context_tokens.append(token)\n",
        "    return context_tokens, word_to_token"
      ],
      "id": "vertical-triumph",
      "execution_count": 14,
      "outputs": []
    },
    {
      "cell_type": "code",
      "metadata": {
        "colab": {
          "base_uri": "https://localhost:8080/"
        },
        "id": "separated-angola",
        "outputId": "4c4de547-1c99-47cb-e2eb-4863968da8af"
      },
      "source": [
        "print(word_tokens)  # 처리해야 할 word 단위 입력\n",
        "\n",
        "context_tokens, word_to_token = _tokenize_vocab(vocab, word_tokens)\n",
        "context_tokens, word_to_token   # Subword 단위로 토큰화한 결과"
      ],
      "id": "separated-angola",
      "execution_count": 15,
      "outputs": [
        {
          "output_type": "stream",
          "name": "stdout",
          "text": [
            "['1839년', '파우스트를', '읽었다.']\n"
          ]
        },
        {
          "output_type": "execute_result",
          "data": {
            "text/plain": [
              "(['▁1839', '년', '▁', '파우스트', '를', '▁읽', '었다', '.'], [0, 2, 5])"
            ]
          },
          "metadata": {},
          "execution_count": 15
        }
      ]
    },
    {
      "cell_type": "markdown",
      "metadata": {
        "id": "understanding-horizontal"
      },
      "source": [
        "- (3) Improve Span"
      ],
      "id": "understanding-horizontal"
    },
    {
      "cell_type": "markdown",
      "metadata": {
        "id": "induced-carbon"
      },
      "source": [
        "KorQuAD 데이터셋에서 question, context, answer 뽑아내기"
      ],
      "id": "induced-carbon"
    },
    {
      "cell_type": "code",
      "metadata": {
        "colab": {
          "base_uri": "https://localhost:8080/"
        },
        "id": "blocked-drive",
        "outputId": "dff6d4fb-b8b5-4c7b-8d05-8fee9fe68985"
      },
      "source": [
        "context = train_json['data'][0]['paragraphs'][0]['context']\n",
        "question = train_json['data'][0]['paragraphs'][0]['qas'][0]['question']\n",
        "answer_text = train_json['data'][0]['paragraphs'][0]['qas'][0]['answers'][0]['text']\n",
        "answer_start = train_json['data'][0]['paragraphs'][0]['qas'][0]['answers'][0]['answer_start']\n",
        "answer_end = answer_start + len(answer_text) - 1\n",
        "\n",
        "print('[context] ', context)\n",
        "print('[question] ', question)\n",
        "print('[answer] ', answer_text)\n",
        "print('[answer_start] index: ', answer_start, 'character: ', context[answer_start])\n",
        "print('[answer_end]index: ', answer_end, 'character: ', context[answer_end])\n",
        "\n",
        "# answer_text에 해당하는 context 영역을 정확히 찾아내야 합니다. \n",
        "assert context[answer_start:answer_end + 1] == answer_text"
      ],
      "id": "blocked-drive",
      "execution_count": 16,
      "outputs": [
        {
          "output_type": "stream",
          "name": "stdout",
          "text": [
            "[context]  1839년 바그너는 괴테의 파우스트을 처음 읽고 그 내용에 마음이 끌려 이를 소재로 해서 하나의 교향곡을 쓰려는 뜻을 갖는다. 이 시기 바그너는 1838년에 빛 독촉으로 산전수전을 다 걲은 상황이라 좌절과 실망에 가득했으며 메피스토펠레스를 만나는 파우스트의 심경에 공감했다고 한다. 또한 파리에서 아브네크의 지휘로 파리 음악원 관현악단이 연주하는 베토벤의 교향곡 9번을 듣고 깊은 감명을 받았는데, 이것이 이듬해 1월에 파우스트의 서곡으로 쓰여진 이 작품에 조금이라도 영향을 끼쳤으리라는 것은 의심할 여지가 없다. 여기의 라단조 조성의 경우에도 그의 전기에 적혀 있는 것처럼 단순한 정신적 피로나 실의가 반영된 것이 아니라 베토벤의 합창교향곡 조성의 영향을 받은 것을 볼 수 있다. 그렇게 교향곡 작곡을 1839년부터 40년에 걸쳐 파리에서 착수했으나 1악장을 쓴 뒤에 중단했다. 또한 작품의 완성과 동시에 그는 이 서곡(1악장)을 파리 음악원의 연주회에서 연주할 파트보까지 준비하였으나, 실제로는 이루어지지는 않았다. 결국 초연은 4년 반이 지난 후에 드레스덴에서 연주되었고 재연도 이루어졌지만, 이후에 그대로 방치되고 말았다. 그 사이에 그는 리엔치와 방황하는 네덜란드인을 완성하고 탄호이저에도 착수하는 등 분주한 시간을 보냈는데, 그런 바쁜 생활이 이 곡을 잊게 한 것이 아닌가 하는 의견도 있다.\n",
            "[question]  바그너는 괴테의 파우스트를 읽고 무엇을 쓰고자 했는가?\n",
            "[answer]  교향곡\n",
            "[answer_start] index:  54 character:  교\n",
            "[answer_end]index:  56 character:  곡\n"
          ]
        }
      ]
    },
    {
      "cell_type": "code",
      "metadata": {
        "colab": {
          "base_uri": "https://localhost:8080/"
        },
        "id": "civilian-enhancement",
        "outputId": "48260626-e16b-4408-929d-08389f58d574"
      },
      "source": [
        "# context를 띄어쓰기(word) 단위로 토큰화한 결과를 살펴봅니다. \n",
        "word_tokens, char_to_word = _tokenize_whitespace(context)\n",
        "\n",
        "print( word_tokens[:20])\n",
        "\n",
        "char_to_word[:20], context[:20]"
      ],
      "id": "civilian-enhancement",
      "execution_count": 17,
      "outputs": [
        {
          "output_type": "stream",
          "name": "stdout",
          "text": [
            "['1839년', '바그너는', '괴테의', '파우스트을', '처음', '읽고', '그', '내용에', '마음이', '끌려', '이를', '소재로', '해서', '하나의', '교향곡을', '쓰려는', '뜻을', '갖는다.', '이', '시기']\n"
          ]
        },
        {
          "output_type": "execute_result",
          "data": {
            "text/plain": [
              "([0, 0, 0, 0, 0, 0, 1, 1, 1, 1, 1, 2, 2, 2, 2, 3, 3, 3, 3, 3],\n",
              " '1839년 바그너는 괴테의 파우스트을')"
            ]
          },
          "metadata": {},
          "execution_count": 17
        }
      ]
    },
    {
      "cell_type": "code",
      "metadata": {
        "colab": {
          "base_uri": "https://localhost:8080/"
        },
        "id": "distinguished-reserve",
        "outputId": "cc62941f-659b-4fe0-a4d5-2b80ed6a43ab"
      },
      "source": [
        "# 띄어쓰기(word) 단위로 쪼개진 context(word_tokens)를 Subword로 토큰화한 결과를 살펴봅니다. \n",
        "context_tokens, word_to_token = _tokenize_vocab(vocab, word_tokens)\n",
        "for i in range(min(20, len(word_to_token) - 1)):\n",
        "    print(word_to_token[i], context_tokens[word_to_token[i]:word_to_token[i + 1]])"
      ],
      "id": "distinguished-reserve",
      "execution_count": 18,
      "outputs": [
        {
          "output_type": "stream",
          "name": "stdout",
          "text": [
            "0 ['▁1839', '년']\n",
            "2 ['▁바그너', '는']\n",
            "4 ['▁괴테', '의']\n",
            "6 ['▁', '파우스트', '을']\n",
            "9 ['▁처음']\n",
            "10 ['▁읽고']\n",
            "11 ['▁그']\n",
            "12 ['▁내용에']\n",
            "13 ['▁마음이']\n",
            "14 ['▁끌려']\n",
            "15 ['▁이를']\n",
            "16 ['▁소재로']\n",
            "17 ['▁해서']\n",
            "18 ['▁하나의']\n",
            "19 ['▁교향곡', '을']\n",
            "21 ['▁쓰', '려는']\n",
            "23 ['▁뜻을']\n",
            "24 ['▁갖는다', '.']\n",
            "26 ['▁이']\n",
            "27 ['▁시기']\n"
          ]
        }
      ]
    },
    {
      "cell_type": "code",
      "metadata": {
        "colab": {
          "base_uri": "https://localhost:8080/"
        },
        "id": "engaging-valley",
        "outputId": "07bd0923-0535-48b5-b6c0-50215c01bd7d"
      },
      "source": [
        "# answer_start와 answer_end로부터 word_start와 word_end를 구합니다. \n",
        "word_start = char_to_word[answer_start]\n",
        "word_end = char_to_word[answer_end]\n",
        "word_start, word_end, answer_text, word_tokens[word_start:word_end + 1]"
      ],
      "id": "engaging-valley",
      "execution_count": 19,
      "outputs": [
        {
          "output_type": "execute_result",
          "data": {
            "text/plain": [
              "(14, 14, '교향곡', ['교향곡을'])"
            ]
          },
          "metadata": {},
          "execution_count": 19
        }
      ]
    },
    {
      "cell_type": "code",
      "metadata": {
        "colab": {
          "base_uri": "https://localhost:8080/"
        },
        "id": "distinguished-question",
        "outputId": "aa779650-751e-41e3-a4fc-2008444df73c"
      },
      "source": [
        "token_start = word_to_token[word_start]\n",
        "if word_end < len(word_to_token) - 1:\n",
        "    token_end = word_to_token[word_end + 1] - 1\n",
        "else:\n",
        "    token_end = len(context_tokens) - 1\n",
        "token_start, token_end, context_tokens[token_start:token_end + 1]"
      ],
      "id": "distinguished-question",
      "execution_count": 20,
      "outputs": [
        {
          "output_type": "execute_result",
          "data": {
            "text/plain": [
              "(19, 20, ['▁교향곡', '을'])"
            ]
          },
          "metadata": {},
          "execution_count": 20
        }
      ]
    },
    {
      "cell_type": "code",
      "metadata": {
        "colab": {
          "base_uri": "https://localhost:8080/",
          "height": 36
        },
        "id": "cutting-round",
        "outputId": "f76cd867-c6a5-4c34-b428-4f1beee6f1f0"
      },
      "source": [
        "# 실제 정답인 answer_text도 Subword 기준으로 토큰화해 둡니다. \n",
        "token_answer = \" \".join(vocab.encode_as_pieces(answer_text))\n",
        "token_answer"
      ],
      "id": "cutting-round",
      "execution_count": 21,
      "outputs": [
        {
          "output_type": "execute_result",
          "data": {
            "application/vnd.google.colaboratory.intrinsic+json": {
              "type": "string"
            },
            "text/plain": [
              "'▁교향곡'"
            ]
          },
          "metadata": {},
          "execution_count": 21
        }
      ]
    },
    {
      "cell_type": "code",
      "metadata": {
        "colab": {
          "base_uri": "https://localhost:8080/"
        },
        "id": "suited-companion",
        "outputId": "3a147134-5c9c-4749-9aa1-bc2070ff9f39"
      },
      "source": [
        "# 정답이 될수 있는 new_start와 new_end의 경우를 순회탐색합니다. \n",
        "for new_start in range(token_start, token_end + 1):\n",
        "    for new_end in range(token_end, new_start - 1, -1):\n",
        "        text_span = \" \".join(context_tokens[new_start : (new_end + 1)])\n",
        "        if text_span == token_answer:   # 정답과 일치하는 경우\n",
        "            print(\"O >>\", (new_start, new_end), text_span)\n",
        "        else:\n",
        "            print(\"X >>\", (new_start, new_end), text_span)"
      ],
      "id": "suited-companion",
      "execution_count": 22,
      "outputs": [
        {
          "output_type": "stream",
          "name": "stdout",
          "text": [
            "X >> (19, 20) ▁교향곡 을\n",
            "O >> (19, 19) ▁교향곡\n",
            "X >> (20, 20) 을\n"
          ]
        }
      ]
    },
    {
      "cell_type": "code",
      "metadata": {
        "id": "allied-moderator"
      },
      "source": [
        "# context_tokens에서 char_answer의 위치를 찾아 리턴하는 함수\n",
        "def _improve_span(vocab, context_tokens, token_start, token_end, char_answer):\n",
        "    token_answer = \" \".join(vocab.encode_as_pieces(char_answer))\n",
        "    for new_start in range(token_start, token_end + 1):\n",
        "        for new_end in range(token_end, new_start - 1, -1):\n",
        "            text_span = \" \".join(context_tokens[new_start : (new_end + 1)])\n",
        "            if text_span == token_answer:\n",
        "                return (new_start, new_end)\n",
        "    return (token_start, token_end)"
      ],
      "id": "allied-moderator",
      "execution_count": 23,
      "outputs": []
    },
    {
      "cell_type": "code",
      "metadata": {
        "colab": {
          "base_uri": "https://localhost:8080/"
        },
        "id": "lesser-feedback",
        "outputId": "2c5dadae-cdff-4eda-b601-926fafec589d"
      },
      "source": [
        "token_start, token_end = _improve_span(vocab, context_tokens, token_start, token_end, answer_text)\n",
        "print('token_start:', token_start, ' token_end:', token_end)\n",
        "context_tokens[token_start:token_end + 1]"
      ],
      "id": "lesser-feedback",
      "execution_count": 24,
      "outputs": [
        {
          "output_type": "stream",
          "name": "stdout",
          "text": [
            "token_start: 19  token_end: 19\n"
          ]
        },
        {
          "output_type": "execute_result",
          "data": {
            "text/plain": [
              "['▁교향곡']"
            ]
          },
          "metadata": {},
          "execution_count": 24
        }
      ]
    },
    {
      "cell_type": "markdown",
      "metadata": {
        "id": "careful-arrest"
      },
      "source": [
        "- (4) 데이터셋 분리"
      ],
      "id": "careful-arrest"
    },
    {
      "cell_type": "code",
      "metadata": {
        "id": "vietnamese-waste"
      },
      "source": [
        "def dump_korquad(vocab, json_data, out_file):\n",
        "    with open(out_file, \"w\") as f:\n",
        "        for data in tqdm(json_data[\"data\"]):\n",
        "            title = data[\"title\"]\n",
        "            for paragraph in data[\"paragraphs\"]:\n",
        "                context = paragraph[\"context\"]\n",
        "                context_words, char_to_word = _tokenize_whitespace(context)\n",
        "\n",
        "                for qa in paragraph[\"qas\"]:\n",
        "                    assert len(qa[\"answers\"]) == 1\n",
        "                    qa_id = qa[\"id\"]\n",
        "                    question = qa[\"question\"]\n",
        "                    answer_text = qa[\"answers\"][0][\"text\"]\n",
        "                    answer_start = qa[\"answers\"][0][\"answer_start\"]\n",
        "                    answer_end = answer_start + len(answer_text) - 1\n",
        "\n",
        "                    assert answer_text == context[answer_start:answer_end + 1]\n",
        "\n",
        "                    word_start = char_to_word[answer_start]\n",
        "                    word_end = char_to_word[answer_end]\n",
        "\n",
        "                    word_answer = \" \".join(context_words[word_start:word_end + 1])\n",
        "                    char_answer = \" \".join(answer_text.strip().split())\n",
        "                    assert char_answer in word_answer\n",
        "\n",
        "                    context_tokens, word_to_token = _tokenize_vocab(vocab, context_words)\n",
        "\n",
        "                    token_start = word_to_token[word_start]\n",
        "                    if word_end < len(word_to_token) - 1:\n",
        "                        token_end = word_to_token[word_end + 1] - 1\n",
        "                    else:\n",
        "                        token_end = len(context_tokens) - 1\n",
        "\n",
        "                    token_start, token_end = _improve_span(vocab, context_tokens, token_start, token_end, char_answer)\n",
        "\n",
        "                    data = {\"qa_id\": qa_id, \"title\": title, \"question\": vocab.encode_as_pieces(question), \"context\": context_tokens, \"answer\": char_answer, \"token_start\": token_start, \"token_end\":token_end}\n",
        "                    f.write(json.dumps(data, ensure_ascii=False))\n",
        "                    f.write(\"\\n\")"
      ],
      "id": "vietnamese-waste",
      "execution_count": 25,
      "outputs": []
    },
    {
      "cell_type": "code",
      "metadata": {
        "colab": {
          "base_uri": "https://localhost:8080/",
          "height": 81,
          "referenced_widgets": [
            "b4a4714aedcd44ca81f1baf768abd25f",
            "40d29041e3e2442b8a268d2086a3c159",
            "95d6fed089c7460f8a0ac7b5b02fa08f",
            "eec4b33bab9e414ebe35a927993c1f5f",
            "2b5ca82cda094000a499fa609628055e",
            "5bc2e47a9f624aa0ba995338072c4e5a",
            "384411fbc40e4fb9a3d61613b041d671",
            "ca57d9334ca9409d8fca72e4e6aec02f",
            "3ab29ee129a34ad298acca1d7021d15c",
            "09696bf46357457a9f9b71463a7a4417",
            "482a6e0d248946b28586fe603be57654",
            "47effa81589047aba38c2ab9c36a7aeb",
            "732a4478f71745c89c454ac553882c21",
            "0865d19eeb944c2d9af460587aebbed2",
            "3b659680bb12466e8ceeef46e64ef7f9",
            "678713b8d503426fb3cd0e93ce503cf7",
            "b2a0d7e7ee3947a09e2161d9a21b1b0e",
            "b9faf4e8df4c4ef8bb40fec8a746630f",
            "14f9ec214d024550a993080aba34e128",
            "2354b368392542f19b93e0fb948b6007",
            "84f483feb0f04e8fa3168fe99783f16e",
            "07098efa3a754cc18a311bb29c0ee324"
          ]
        },
        "id": "comic-pontiac",
        "outputId": "da92aa0c-d82e-434c-a0a6-a8203f0b03a5"
      },
      "source": [
        "# 전처리를 수행하여 파일로 생성합니다. \n",
        "dump_korquad(vocab, train_json, f\"{data_dir}/korquad_train.json\")\n",
        "dump_korquad(vocab, dev_json, f\"{data_dir}/korquad_dev.json\")"
      ],
      "id": "comic-pontiac",
      "execution_count": 26,
      "outputs": [
        {
          "output_type": "display_data",
          "data": {
            "application/vnd.jupyter.widget-view+json": {
              "model_id": "b4a4714aedcd44ca81f1baf768abd25f",
              "version_minor": 0,
              "version_major": 2
            },
            "text/plain": [
              "  0%|          | 0/1420 [00:00<?, ?it/s]"
            ]
          },
          "metadata": {}
        },
        {
          "output_type": "display_data",
          "data": {
            "application/vnd.jupyter.widget-view+json": {
              "model_id": "47effa81589047aba38c2ab9c36a7aeb",
              "version_minor": 0,
              "version_major": 2
            },
            "text/plain": [
              "  0%|          | 0/140 [00:00<?, ?it/s]"
            ]
          },
          "metadata": {}
        }
      ]
    },
    {
      "cell_type": "code",
      "metadata": {
        "colab": {
          "base_uri": "https://localhost:8080/"
        },
        "id": "north-football",
        "outputId": "9ee991b2-1fe5-4492-b97b-2466f6502c48"
      },
      "source": [
        "def print_file(filename, count=10):\n",
        "    \"\"\"\n",
        "    파일 내용 출력\n",
        "    :param filename: 파일 이름\n",
        "    :param count: 출력 라인 수\n",
        "    \"\"\"\n",
        "    with open(filename) as f:\n",
        "        for i, line in enumerate(f):\n",
        "            if count <= i:\n",
        "                break\n",
        "            print(line.strip())\n",
        "\n",
        "print_file(f\"{data_dir}/korquad_train.json\")"
      ],
      "id": "north-football",
      "execution_count": 27,
      "outputs": [
        {
          "output_type": "stream",
          "name": "stdout",
          "text": [
            "{\"qa_id\": \"6566495-0-0\", \"title\": \"파우스트_서곡\", \"question\": [\"▁바그너\", \"는\", \"▁괴테\", \"의\", \"▁\", \"파우스트\", \"를\", \"▁읽고\", \"▁무엇을\", \"▁쓰고\", \"자\", \"▁\", \"했\", \"는\", \"가\", \"?\"], \"context\": [\"▁1839\", \"년\", \"▁바그너\", \"는\", \"▁괴테\", \"의\", \"▁\", \"파우스트\", \"을\", \"▁처음\", \"▁읽고\", \"▁그\", \"▁내용에\", \"▁마음이\", \"▁끌려\", \"▁이를\", \"▁소재로\", \"▁해서\", \"▁하나의\", \"▁교향곡\", \"을\", \"▁쓰\", \"려는\", \"▁뜻을\", \"▁갖는다\", \".\", \"▁이\", \"▁시기\", \"▁바그너\", \"는\", \"▁1838\", \"년에\", \"▁빛\", \"▁독\", \"촉\", \"으로\", \"▁산\", \"전\", \"수\", \"전을\", \"▁다\", \"▁\", \"걲\", \"은\", \"▁상황이\", \"라\", \"▁좌절\", \"과\", \"▁실망\", \"에\", \"▁가득\", \"했으며\", \"▁메\", \"피스\", \"토\", \"펠\", \"레스\", \"를\", \"▁만나는\", \"▁\", \"파우스트\", \"의\", \"▁심\", \"경에\", \"▁공감\", \"했다고\", \"▁한다\", \".\", \"▁또한\", \"▁파리에서\", \"▁아브\", \"네\", \"크의\", \"▁지휘\", \"로\", \"▁파리\", \"▁음악원\", \"▁관현악단\", \"이\", \"▁연주하는\", \"▁베토벤\", \"의\", \"▁교향곡\", \"▁9\", \"번을\", \"▁듣고\", \"▁깊은\", \"▁감\", \"명을\", \"▁받았는데\", \",\", \"▁이것이\", \"▁이듬해\", \"▁1\", \"월에\", \"▁\", \"파우스트\", \"의\", \"▁서\", \"곡으로\", \"▁쓰여진\", \"▁이\", \"▁작품에\", \"▁조금\", \"이라도\", \"▁영향을\", \"▁끼\", \"쳤\", \"으리라\", \"는\", \"▁것은\", \"▁의심\", \"할\", \"▁여지가\", \"▁없다\", \".\", \"▁여기\", \"의\", \"▁라\", \"단\", \"조\", \"▁조성\", \"의\", \"▁경우에도\", \"▁그의\", \"▁전기\", \"에\", \"▁적혀\", \"▁있는\", \"▁것처럼\", \"▁단순한\", \"▁정신적\", \"▁피로\", \"나\", \"▁실\", \"의\", \"가\", \"▁반영\", \"된\", \"▁것이\", \"▁아니라\", \"▁베토벤\", \"의\", \"▁합창\", \"교\", \"향\", \"곡\", \"▁조성\", \"의\", \"▁영향을\", \"▁받은\", \"▁것을\", \"▁볼\", \"▁수\", \"▁있다\", \".\", \"▁그렇게\", \"▁교향곡\", \"▁작곡\", \"을\", \"▁1839\", \"년부터\", \"▁40\", \"년에\", \"▁걸쳐\", \"▁파리에서\", \"▁착수\", \"했으나\", \"▁1\", \"악장\", \"을\", \"▁쓴\", \"▁뒤에\", \"▁중단\", \"했다\", \".\", \"▁또한\", \"▁작품의\", \"▁완성\", \"과\", \"▁동시에\", \"▁그는\", \"▁이\", \"▁서\", \"곡\", \"(1\", \"악장\", \")\", \"을\", \"▁파리\", \"▁음악원\", \"의\", \"▁연주회\", \"에서\", \"▁연주\", \"할\", \"▁파트\", \"보\", \"까지\", \"▁준비\", \"하였으나\", \",\", \"▁실제로는\", \"▁이루어지지\", \"는\", \"▁않았다\", \".\", \"▁결국\", \"▁초연\", \"은\", \"▁4\", \"년\", \"▁반\", \"이\", \"▁지난\", \"▁후에\", \"▁드레스덴\", \"에서\", \"▁연주\", \"되었고\", \"▁재\", \"연\", \"도\", \"▁이루어졌\", \"지만\", \",\", \"▁이후에\", \"▁그대로\", \"▁방치\", \"되고\", \"▁말았다\", \".\", \"▁그\", \"▁사이에\", \"▁그는\", \"▁리\", \"엔\", \"치\", \"와\", \"▁방\", \"황\", \"하는\", \"▁네덜란드\", \"인\", \"을\", \"▁완성\", \"하고\", \"▁탄\", \"호\", \"이\", \"저\", \"에도\", \"▁착수\", \"하는\", \"▁등\", \"▁분\", \"주\", \"한\", \"▁시간을\", \"▁보\", \"냈는데\", \",\", \"▁그런\", \"▁바쁜\", \"▁생활\", \"이\", \"▁이\", \"▁곡을\", \"▁잊\", \"게\", \"▁한\", \"▁것이\", \"▁아닌\", \"가\", \"▁하는\", \"▁의견도\", \"▁있다\", \".\"], \"answer\": \"교향곡\", \"token_start\": 19, \"token_end\": 19}\n",
            "{\"qa_id\": \"6566495-0-1\", \"title\": \"파우스트_서곡\", \"question\": [\"▁바그너\", \"는\", \"▁교향곡\", \"▁작곡\", \"을\", \"▁어디\", \"까지\", \"▁쓴\", \"▁뒤에\", \"▁중단\", \"했\", \"는\", \"가\", \"?\"], \"context\": [\"▁1839\", \"년\", \"▁바그너\", \"는\", \"▁괴테\", \"의\", \"▁\", \"파우스트\", \"을\", \"▁처음\", \"▁읽고\", \"▁그\", \"▁내용에\", \"▁마음이\", \"▁끌려\", \"▁이를\", \"▁소재로\", \"▁해서\", \"▁하나의\", \"▁교향곡\", \"을\", \"▁쓰\", \"려는\", \"▁뜻을\", \"▁갖는다\", \".\", \"▁이\", \"▁시기\", \"▁바그너\", \"는\", \"▁1838\", \"년에\", \"▁빛\", \"▁독\", \"촉\", \"으로\", \"▁산\", \"전\", \"수\", \"전을\", \"▁다\", \"▁\", \"걲\", \"은\", \"▁상황이\", \"라\", \"▁좌절\", \"과\", \"▁실망\", \"에\", \"▁가득\", \"했으며\", \"▁메\", \"피스\", \"토\", \"펠\", \"레스\", \"를\", \"▁만나는\", \"▁\", \"파우스트\", \"의\", \"▁심\", \"경에\", \"▁공감\", \"했다고\", \"▁한다\", \".\", \"▁또한\", \"▁파리에서\", \"▁아브\", \"네\", \"크의\", \"▁지휘\", \"로\", \"▁파리\", \"▁음악원\", \"▁관현악단\", \"이\", \"▁연주하는\", \"▁베토벤\", \"의\", \"▁교향곡\", \"▁9\", \"번을\", \"▁듣고\", \"▁깊은\", \"▁감\", \"명을\", \"▁받았는데\", \",\", \"▁이것이\", \"▁이듬해\", \"▁1\", \"월에\", \"▁\", \"파우스트\", \"의\", \"▁서\", \"곡으로\", \"▁쓰여진\", \"▁이\", \"▁작품에\", \"▁조금\", \"이라도\", \"▁영향을\", \"▁끼\", \"쳤\", \"으리라\", \"는\", \"▁것은\", \"▁의심\", \"할\", \"▁여지가\", \"▁없다\", \".\", \"▁여기\", \"의\", \"▁라\", \"단\", \"조\", \"▁조성\", \"의\", \"▁경우에도\", \"▁그의\", \"▁전기\", \"에\", \"▁적혀\", \"▁있는\", \"▁것처럼\", \"▁단순한\", \"▁정신적\", \"▁피로\", \"나\", \"▁실\", \"의\", \"가\", \"▁반영\", \"된\", \"▁것이\", \"▁아니라\", \"▁베토벤\", \"의\", \"▁합창\", \"교\", \"향\", \"곡\", \"▁조성\", \"의\", \"▁영향을\", \"▁받은\", \"▁것을\", \"▁볼\", \"▁수\", \"▁있다\", \".\", \"▁그렇게\", \"▁교향곡\", \"▁작곡\", \"을\", \"▁1839\", \"년부터\", \"▁40\", \"년에\", \"▁걸쳐\", \"▁파리에서\", \"▁착수\", \"했으나\", \"▁1\", \"악장\", \"을\", \"▁쓴\", \"▁뒤에\", \"▁중단\", \"했다\", \".\", \"▁또한\", \"▁작품의\", \"▁완성\", \"과\", \"▁동시에\", \"▁그는\", \"▁이\", \"▁서\", \"곡\", \"(1\", \"악장\", \")\", \"을\", \"▁파리\", \"▁음악원\", \"의\", \"▁연주회\", \"에서\", \"▁연주\", \"할\", \"▁파트\", \"보\", \"까지\", \"▁준비\", \"하였으나\", \",\", \"▁실제로는\", \"▁이루어지지\", \"는\", \"▁않았다\", \".\", \"▁결국\", \"▁초연\", \"은\", \"▁4\", \"년\", \"▁반\", \"이\", \"▁지난\", \"▁후에\", \"▁드레스덴\", \"에서\", \"▁연주\", \"되었고\", \"▁재\", \"연\", \"도\", \"▁이루어졌\", \"지만\", \",\", \"▁이후에\", \"▁그대로\", \"▁방치\", \"되고\", \"▁말았다\", \".\", \"▁그\", \"▁사이에\", \"▁그는\", \"▁리\", \"엔\", \"치\", \"와\", \"▁방\", \"황\", \"하는\", \"▁네덜란드\", \"인\", \"을\", \"▁완성\", \"하고\", \"▁탄\", \"호\", \"이\", \"저\", \"에도\", \"▁착수\", \"하는\", \"▁등\", \"▁분\", \"주\", \"한\", \"▁시간을\", \"▁보\", \"냈는데\", \",\", \"▁그런\", \"▁바쁜\", \"▁생활\", \"이\", \"▁이\", \"▁곡을\", \"▁잊\", \"게\", \"▁한\", \"▁것이\", \"▁아닌\", \"가\", \"▁하는\", \"▁의견도\", \"▁있다\", \".\"], \"answer\": \"1악장\", \"token_start\": 168, \"token_end\": 169}\n",
            "{\"qa_id\": \"6566495-0-2\", \"title\": \"파우스트_서곡\", \"question\": [\"▁바그너\", \"가\", \"▁\", \"파우스트\", \"▁서\", \"곡을\", \"▁쓸\", \"▁때\", \"▁어떤\", \"▁곡\", \"의\", \"▁영향을\", \"▁받았\", \"는\", \"가\", \"?\"], \"context\": [\"▁1839\", \"년\", \"▁바그너\", \"는\", \"▁괴테\", \"의\", \"▁\", \"파우스트\", \"을\", \"▁처음\", \"▁읽고\", \"▁그\", \"▁내용에\", \"▁마음이\", \"▁끌려\", \"▁이를\", \"▁소재로\", \"▁해서\", \"▁하나의\", \"▁교향곡\", \"을\", \"▁쓰\", \"려는\", \"▁뜻을\", \"▁갖는다\", \".\", \"▁이\", \"▁시기\", \"▁바그너\", \"는\", \"▁1838\", \"년에\", \"▁빛\", \"▁독\", \"촉\", \"으로\", \"▁산\", \"전\", \"수\", \"전을\", \"▁다\", \"▁\", \"걲\", \"은\", \"▁상황이\", \"라\", \"▁좌절\", \"과\", \"▁실망\", \"에\", \"▁가득\", \"했으며\", \"▁메\", \"피스\", \"토\", \"펠\", \"레스\", \"를\", \"▁만나는\", \"▁\", \"파우스트\", \"의\", \"▁심\", \"경에\", \"▁공감\", \"했다고\", \"▁한다\", \".\", \"▁또한\", \"▁파리에서\", \"▁아브\", \"네\", \"크의\", \"▁지휘\", \"로\", \"▁파리\", \"▁음악원\", \"▁관현악단\", \"이\", \"▁연주하는\", \"▁베토벤\", \"의\", \"▁교향곡\", \"▁9\", \"번을\", \"▁듣고\", \"▁깊은\", \"▁감\", \"명을\", \"▁받았는데\", \",\", \"▁이것이\", \"▁이듬해\", \"▁1\", \"월에\", \"▁\", \"파우스트\", \"의\", \"▁서\", \"곡으로\", \"▁쓰여진\", \"▁이\", \"▁작품에\", \"▁조금\", \"이라도\", \"▁영향을\", \"▁끼\", \"쳤\", \"으리라\", \"는\", \"▁것은\", \"▁의심\", \"할\", \"▁여지가\", \"▁없다\", \".\", \"▁여기\", \"의\", \"▁라\", \"단\", \"조\", \"▁조성\", \"의\", \"▁경우에도\", \"▁그의\", \"▁전기\", \"에\", \"▁적혀\", \"▁있는\", \"▁것처럼\", \"▁단순한\", \"▁정신적\", \"▁피로\", \"나\", \"▁실\", \"의\", \"가\", \"▁반영\", \"된\", \"▁것이\", \"▁아니라\", \"▁베토벤\", \"의\", \"▁합창\", \"교\", \"향\", \"곡\", \"▁조성\", \"의\", \"▁영향을\", \"▁받은\", \"▁것을\", \"▁볼\", \"▁수\", \"▁있다\", \".\", \"▁그렇게\", \"▁교향곡\", \"▁작곡\", \"을\", \"▁1839\", \"년부터\", \"▁40\", \"년에\", \"▁걸쳐\", \"▁파리에서\", \"▁착수\", \"했으나\", \"▁1\", \"악장\", \"을\", \"▁쓴\", \"▁뒤에\", \"▁중단\", \"했다\", \".\", \"▁또한\", \"▁작품의\", \"▁완성\", \"과\", \"▁동시에\", \"▁그는\", \"▁이\", \"▁서\", \"곡\", \"(1\", \"악장\", \")\", \"을\", \"▁파리\", \"▁음악원\", \"의\", \"▁연주회\", \"에서\", \"▁연주\", \"할\", \"▁파트\", \"보\", \"까지\", \"▁준비\", \"하였으나\", \",\", \"▁실제로는\", \"▁이루어지지\", \"는\", \"▁않았다\", \".\", \"▁결국\", \"▁초연\", \"은\", \"▁4\", \"년\", \"▁반\", \"이\", \"▁지난\", \"▁후에\", \"▁드레스덴\", \"에서\", \"▁연주\", \"되었고\", \"▁재\", \"연\", \"도\", \"▁이루어졌\", \"지만\", \",\", \"▁이후에\", \"▁그대로\", \"▁방치\", \"되고\", \"▁말았다\", \".\", \"▁그\", \"▁사이에\", \"▁그는\", \"▁리\", \"엔\", \"치\", \"와\", \"▁방\", \"황\", \"하는\", \"▁네덜란드\", \"인\", \"을\", \"▁완성\", \"하고\", \"▁탄\", \"호\", \"이\", \"저\", \"에도\", \"▁착수\", \"하는\", \"▁등\", \"▁분\", \"주\", \"한\", \"▁시간을\", \"▁보\", \"냈는데\", \",\", \"▁그런\", \"▁바쁜\", \"▁생활\", \"이\", \"▁이\", \"▁곡을\", \"▁잊\", \"게\", \"▁한\", \"▁것이\", \"▁아닌\", \"가\", \"▁하는\", \"▁의견도\", \"▁있다\", \".\"], \"answer\": \"베토벤의 교향곡 9번\", \"token_start\": 80, \"token_end\": 84}\n",
            "{\"qa_id\": \"6566518-0-0\", \"title\": \"파우스트_서곡\", \"question\": [\"▁1839\", \"년\", \"▁바그너\", \"가\", \"▁교향곡\", \"의\", \"▁소재로\", \"▁쓰\", \"려고\", \"▁했던\", \"▁책은\", \"?\"], \"context\": [\"▁1839\", \"년\", \"▁바그너\", \"는\", \"▁괴테\", \"의\", \"▁\", \"파우스트\", \"을\", \"▁처음\", \"▁읽고\", \"▁그\", \"▁내용에\", \"▁마음이\", \"▁끌려\", \"▁이를\", \"▁소재로\", \"▁해서\", \"▁하나의\", \"▁교향곡\", \"을\", \"▁쓰\", \"려는\", \"▁뜻을\", \"▁갖는다\", \".\", \"▁이\", \"▁시기\", \"▁바그너\", \"는\", \"▁1838\", \"년에\", \"▁빛\", \"▁독\", \"촉\", \"으로\", \"▁산\", \"전\", \"수\", \"전을\", \"▁다\", \"▁\", \"걲\", \"은\", \"▁상황이\", \"라\", \"▁좌절\", \"과\", \"▁실망\", \"에\", \"▁가득\", \"했으며\", \"▁메\", \"피스\", \"토\", \"펠\", \"레스\", \"를\", \"▁만나는\", \"▁\", \"파우스트\", \"의\", \"▁심\", \"경에\", \"▁공감\", \"했다고\", \"▁한다\", \".\", \"▁또한\", \"▁파리에서\", \"▁아브\", \"네\", \"크의\", \"▁지휘\", \"로\", \"▁파리\", \"▁음악원\", \"▁관현악단\", \"이\", \"▁연주하는\", \"▁베토벤\", \"의\", \"▁교향곡\", \"▁9\", \"번을\", \"▁듣고\", \"▁깊은\", \"▁감\", \"명을\", \"▁받았는데\", \",\", \"▁이것이\", \"▁이듬해\", \"▁1\", \"월에\", \"▁\", \"파우스트\", \"의\", \"▁서\", \"곡으로\", \"▁쓰여진\", \"▁이\", \"▁작품에\", \"▁조금\", \"이라도\", \"▁영향을\", \"▁끼\", \"쳤\", \"으리라\", \"는\", \"▁것은\", \"▁의심\", \"할\", \"▁여지가\", \"▁없다\", \".\", \"▁여기\", \"의\", \"▁라\", \"단\", \"조\", \"▁조성\", \"의\", \"▁경우에도\", \"▁그의\", \"▁전기\", \"에\", \"▁적혀\", \"▁있는\", \"▁것처럼\", \"▁단순한\", \"▁정신적\", \"▁피로\", \"나\", \"▁실\", \"의\", \"가\", \"▁반영\", \"된\", \"▁것이\", \"▁아니라\", \"▁베토벤\", \"의\", \"▁합창\", \"교\", \"향\", \"곡\", \"▁조성\", \"의\", \"▁영향을\", \"▁받은\", \"▁것을\", \"▁볼\", \"▁수\", \"▁있다\", \".\", \"▁그렇게\", \"▁교향곡\", \"▁작곡\", \"을\", \"▁1839\", \"년부터\", \"▁40\", \"년에\", \"▁걸쳐\", \"▁파리에서\", \"▁착수\", \"했으나\", \"▁1\", \"악장\", \"을\", \"▁쓴\", \"▁뒤에\", \"▁중단\", \"했다\", \".\", \"▁또한\", \"▁작품의\", \"▁완성\", \"과\", \"▁동시에\", \"▁그는\", \"▁이\", \"▁서\", \"곡\", \"(1\", \"악장\", \")\", \"을\", \"▁파리\", \"▁음악원\", \"의\", \"▁연주회\", \"에서\", \"▁연주\", \"할\", \"▁파트\", \"보\", \"까지\", \"▁준비\", \"하였으나\", \",\", \"▁실제로는\", \"▁이루어지지\", \"는\", \"▁않았다\", \".\", \"▁결국\", \"▁초연\", \"은\", \"▁4\", \"년\", \"▁반\", \"이\", \"▁지난\", \"▁후에\", \"▁드레스덴\", \"에서\", \"▁연주\", \"되었고\", \"▁재\", \"연\", \"도\", \"▁이루어졌\", \"지만\", \",\", \"▁이후에\", \"▁그대로\", \"▁방치\", \"되고\", \"▁말았다\", \".\", \"▁그\", \"▁사이에\", \"▁그는\", \"▁리\", \"엔\", \"치\", \"와\", \"▁방\", \"황\", \"하는\", \"▁네덜란드\", \"인\", \"을\", \"▁완성\", \"하고\", \"▁탄\", \"호\", \"이\", \"저\", \"에도\", \"▁착수\", \"하는\", \"▁등\", \"▁분\", \"주\", \"한\", \"▁시간을\", \"▁보\", \"냈는데\", \",\", \"▁그런\", \"▁바쁜\", \"▁생활\", \"이\", \"▁이\", \"▁곡을\", \"▁잊\", \"게\", \"▁한\", \"▁것이\", \"▁아닌\", \"가\", \"▁하는\", \"▁의견도\", \"▁있다\", \".\"], \"answer\": \"파우스트\", \"token_start\": 6, \"token_end\": 7}\n",
            "{\"qa_id\": \"6566518-0-1\", \"title\": \"파우스트_서곡\", \"question\": [\"▁\", \"파우스트\", \"▁서\", \"곡\", \"의\", \"▁라\", \"단\", \"조\", \"▁조성\", \"이\", \"▁영향을\", \"▁받은\", \"▁베토벤\", \"의\", \"▁곡은\", \"?\"], \"context\": [\"▁1839\", \"년\", \"▁바그너\", \"는\", \"▁괴테\", \"의\", \"▁\", \"파우스트\", \"을\", \"▁처음\", \"▁읽고\", \"▁그\", \"▁내용에\", \"▁마음이\", \"▁끌려\", \"▁이를\", \"▁소재로\", \"▁해서\", \"▁하나의\", \"▁교향곡\", \"을\", \"▁쓰\", \"려는\", \"▁뜻을\", \"▁갖는다\", \".\", \"▁이\", \"▁시기\", \"▁바그너\", \"는\", \"▁1838\", \"년에\", \"▁빛\", \"▁독\", \"촉\", \"으로\", \"▁산\", \"전\", \"수\", \"전을\", \"▁다\", \"▁\", \"걲\", \"은\", \"▁상황이\", \"라\", \"▁좌절\", \"과\", \"▁실망\", \"에\", \"▁가득\", \"했으며\", \"▁메\", \"피스\", \"토\", \"펠\", \"레스\", \"를\", \"▁만나는\", \"▁\", \"파우스트\", \"의\", \"▁심\", \"경에\", \"▁공감\", \"했다고\", \"▁한다\", \".\", \"▁또한\", \"▁파리에서\", \"▁아브\", \"네\", \"크의\", \"▁지휘\", \"로\", \"▁파리\", \"▁음악원\", \"▁관현악단\", \"이\", \"▁연주하는\", \"▁베토벤\", \"의\", \"▁교향곡\", \"▁9\", \"번을\", \"▁듣고\", \"▁깊은\", \"▁감\", \"명을\", \"▁받았는데\", \",\", \"▁이것이\", \"▁이듬해\", \"▁1\", \"월에\", \"▁\", \"파우스트\", \"의\", \"▁서\", \"곡으로\", \"▁쓰여진\", \"▁이\", \"▁작품에\", \"▁조금\", \"이라도\", \"▁영향을\", \"▁끼\", \"쳤\", \"으리라\", \"는\", \"▁것은\", \"▁의심\", \"할\", \"▁여지가\", \"▁없다\", \".\", \"▁여기\", \"의\", \"▁라\", \"단\", \"조\", \"▁조성\", \"의\", \"▁경우에도\", \"▁그의\", \"▁전기\", \"에\", \"▁적혀\", \"▁있는\", \"▁것처럼\", \"▁단순한\", \"▁정신적\", \"▁피로\", \"나\", \"▁실\", \"의\", \"가\", \"▁반영\", \"된\", \"▁것이\", \"▁아니라\", \"▁베토벤\", \"의\", \"▁합창\", \"교\", \"향\", \"곡\", \"▁조성\", \"의\", \"▁영향을\", \"▁받은\", \"▁것을\", \"▁볼\", \"▁수\", \"▁있다\", \".\", \"▁그렇게\", \"▁교향곡\", \"▁작곡\", \"을\", \"▁1839\", \"년부터\", \"▁40\", \"년에\", \"▁걸쳐\", \"▁파리에서\", \"▁착수\", \"했으나\", \"▁1\", \"악장\", \"을\", \"▁쓴\", \"▁뒤에\", \"▁중단\", \"했다\", \".\", \"▁또한\", \"▁작품의\", \"▁완성\", \"과\", \"▁동시에\", \"▁그는\", \"▁이\", \"▁서\", \"곡\", \"(1\", \"악장\", \")\", \"을\", \"▁파리\", \"▁음악원\", \"의\", \"▁연주회\", \"에서\", \"▁연주\", \"할\", \"▁파트\", \"보\", \"까지\", \"▁준비\", \"하였으나\", \",\", \"▁실제로는\", \"▁이루어지지\", \"는\", \"▁않았다\", \".\", \"▁결국\", \"▁초연\", \"은\", \"▁4\", \"년\", \"▁반\", \"이\", \"▁지난\", \"▁후에\", \"▁드레스덴\", \"에서\", \"▁연주\", \"되었고\", \"▁재\", \"연\", \"도\", \"▁이루어졌\", \"지만\", \",\", \"▁이후에\", \"▁그대로\", \"▁방치\", \"되고\", \"▁말았다\", \".\", \"▁그\", \"▁사이에\", \"▁그는\", \"▁리\", \"엔\", \"치\", \"와\", \"▁방\", \"황\", \"하는\", \"▁네덜란드\", \"인\", \"을\", \"▁완성\", \"하고\", \"▁탄\", \"호\", \"이\", \"저\", \"에도\", \"▁착수\", \"하는\", \"▁등\", \"▁분\", \"주\", \"한\", \"▁시간을\", \"▁보\", \"냈는데\", \",\", \"▁그런\", \"▁바쁜\", \"▁생활\", \"이\", \"▁이\", \"▁곡을\", \"▁잊\", \"게\", \"▁한\", \"▁것이\", \"▁아닌\", \"가\", \"▁하는\", \"▁의견도\", \"▁있다\", \".\"], \"answer\": \"합창교향곡\", \"token_start\": 143, \"token_end\": 146}\n",
            "{\"qa_id\": \"5917067-0-0\", \"title\": \"파우스트_서곡\", \"question\": [\"▁바그너\", \"가\", \"▁\", \"파우스트\", \"를\", \"▁처음으로\", \"▁읽\", \"은\", \"▁\", \"년\", \"도\", \"는\", \"?\"], \"context\": [\"▁1839\", \"년\", \"▁바그너\", \"는\", \"▁괴테\", \"의\", \"▁\", \"파우스트\", \"을\", \"▁처음\", \"▁읽고\", \"▁그\", \"▁내용에\", \"▁마음이\", \"▁끌려\", \"▁이를\", \"▁소재로\", \"▁해서\", \"▁하나의\", \"▁교향곡\", \"을\", \"▁쓰\", \"려는\", \"▁뜻을\", \"▁갖는다\", \".\", \"▁이\", \"▁시기\", \"▁바그너\", \"는\", \"▁1838\", \"년에\", \"▁빛\", \"▁독\", \"촉\", \"으로\", \"▁산\", \"전\", \"수\", \"전을\", \"▁다\", \"▁\", \"걲\", \"은\", \"▁상황이\", \"라\", \"▁좌절\", \"과\", \"▁실망\", \"에\", \"▁가득\", \"했으며\", \"▁메\", \"피스\", \"토\", \"펠\", \"레스\", \"를\", \"▁만나는\", \"▁\", \"파우스트\", \"의\", \"▁심\", \"경에\", \"▁공감\", \"했다고\", \"▁한다\", \".\", \"▁또한\", \"▁파리에서\", \"▁아브\", \"네\", \"크의\", \"▁지휘\", \"로\", \"▁파리\", \"▁음악원\", \"▁관현악단\", \"이\", \"▁연주하는\", \"▁베토벤\", \"의\", \"▁교향곡\", \"▁9\", \"번을\", \"▁듣고\", \"▁깊은\", \"▁감\", \"명을\", \"▁받았는데\", \",\", \"▁이것이\", \"▁이듬해\", \"▁1\", \"월에\", \"▁\", \"파우스트\", \"의\", \"▁서\", \"곡으로\", \"▁쓰여진\", \"▁이\", \"▁작품에\", \"▁조금\", \"이라도\", \"▁영향을\", \"▁끼\", \"쳤\", \"으리라\", \"는\", \"▁것은\", \"▁의심\", \"할\", \"▁여지가\", \"▁없다\", \".\", \"▁여기\", \"의\", \"▁라\", \"단\", \"조\", \"▁조성\", \"의\", \"▁경우에도\", \"▁그의\", \"▁전기\", \"에\", \"▁적혀\", \"▁있는\", \"▁것처럼\", \"▁단순한\", \"▁정신적\", \"▁피로\", \"나\", \"▁실\", \"의\", \"가\", \"▁반영\", \"된\", \"▁것이\", \"▁아니라\", \"▁베토벤\", \"의\", \"▁합창\", \"교\", \"향\", \"곡\", \"▁조성\", \"의\", \"▁영향을\", \"▁받은\", \"▁것을\", \"▁볼\", \"▁수\", \"▁있다\", \".\", \"▁그렇게\", \"▁교향곡\", \"▁작곡\", \"을\", \"▁1839\", \"년부터\", \"▁40\", \"년에\", \"▁걸쳐\", \"▁파리에서\", \"▁착수\", \"했으나\", \"▁1\", \"악장\", \"을\", \"▁쓴\", \"▁뒤에\", \"▁중단\", \"했다\", \".\", \"▁또한\", \"▁작품의\", \"▁완성\", \"과\", \"▁동시에\", \"▁그는\", \"▁이\", \"▁서\", \"곡\", \"(1\", \"악장\", \")\", \"을\", \"▁파리\", \"▁음악원\", \"의\", \"▁연주회\", \"에서\", \"▁연주\", \"할\", \"▁파트\", \"보\", \"까지\", \"▁준비\", \"하였으나\", \",\", \"▁실제로는\", \"▁이루어지지\", \"는\", \"▁않았다\", \".\", \"▁결국\", \"▁초연\", \"은\", \"▁4\", \"년\", \"▁반\", \"이\", \"▁지난\", \"▁후에\", \"▁드레스덴\", \"에서\", \"▁연주\", \"되었고\", \"▁재\", \"연\", \"도\", \"▁이루어졌\", \"지만\", \",\", \"▁이후에\", \"▁그대로\", \"▁방치\", \"되고\", \"▁말았다\", \".\", \"▁그\", \"▁사이에\", \"▁그는\", \"▁리\", \"엔\", \"치\", \"와\", \"▁방\", \"황\", \"하는\", \"▁네덜란드\", \"인\", \"을\", \"▁완성\", \"하고\", \"▁탄\", \"호\", \"이\", \"저\", \"에도\", \"▁착수\", \"하는\", \"▁등\", \"▁분\", \"주\", \"한\", \"▁시간을\", \"▁보\", \"냈는데\", \",\", \"▁그런\", \"▁바쁜\", \"▁생활\", \"이\", \"▁이\", \"▁곡을\", \"▁잊\", \"게\", \"▁한\", \"▁것이\", \"▁아닌\", \"가\", \"▁하는\", \"▁의견도\", \"▁있다\", \".\"], \"answer\": \"1839\", \"token_start\": 0, \"token_end\": 0}\n",
            "{\"qa_id\": \"5917067-0-1\", \"title\": \"파우스트_서곡\", \"question\": [\"▁바그너\", \"가\", \"▁처음\", \"▁교향곡\", \"▁작곡\", \"을\", \"▁한\", \"▁장소\", \"는\", \"?\"], \"context\": [\"▁1839\", \"년\", \"▁바그너\", \"는\", \"▁괴테\", \"의\", \"▁\", \"파우스트\", \"을\", \"▁처음\", \"▁읽고\", \"▁그\", \"▁내용에\", \"▁마음이\", \"▁끌려\", \"▁이를\", \"▁소재로\", \"▁해서\", \"▁하나의\", \"▁교향곡\", \"을\", \"▁쓰\", \"려는\", \"▁뜻을\", \"▁갖는다\", \".\", \"▁이\", \"▁시기\", \"▁바그너\", \"는\", \"▁1838\", \"년에\", \"▁빛\", \"▁독\", \"촉\", \"으로\", \"▁산\", \"전\", \"수\", \"전을\", \"▁다\", \"▁\", \"걲\", \"은\", \"▁상황이\", \"라\", \"▁좌절\", \"과\", \"▁실망\", \"에\", \"▁가득\", \"했으며\", \"▁메\", \"피스\", \"토\", \"펠\", \"레스\", \"를\", \"▁만나는\", \"▁\", \"파우스트\", \"의\", \"▁심\", \"경에\", \"▁공감\", \"했다고\", \"▁한다\", \".\", \"▁또한\", \"▁파리에서\", \"▁아브\", \"네\", \"크의\", \"▁지휘\", \"로\", \"▁파리\", \"▁음악원\", \"▁관현악단\", \"이\", \"▁연주하는\", \"▁베토벤\", \"의\", \"▁교향곡\", \"▁9\", \"번을\", \"▁듣고\", \"▁깊은\", \"▁감\", \"명을\", \"▁받았는데\", \",\", \"▁이것이\", \"▁이듬해\", \"▁1\", \"월에\", \"▁\", \"파우스트\", \"의\", \"▁서\", \"곡으로\", \"▁쓰여진\", \"▁이\", \"▁작품에\", \"▁조금\", \"이라도\", \"▁영향을\", \"▁끼\", \"쳤\", \"으리라\", \"는\", \"▁것은\", \"▁의심\", \"할\", \"▁여지가\", \"▁없다\", \".\", \"▁여기\", \"의\", \"▁라\", \"단\", \"조\", \"▁조성\", \"의\", \"▁경우에도\", \"▁그의\", \"▁전기\", \"에\", \"▁적혀\", \"▁있는\", \"▁것처럼\", \"▁단순한\", \"▁정신적\", \"▁피로\", \"나\", \"▁실\", \"의\", \"가\", \"▁반영\", \"된\", \"▁것이\", \"▁아니라\", \"▁베토벤\", \"의\", \"▁합창\", \"교\", \"향\", \"곡\", \"▁조성\", \"의\", \"▁영향을\", \"▁받은\", \"▁것을\", \"▁볼\", \"▁수\", \"▁있다\", \".\", \"▁그렇게\", \"▁교향곡\", \"▁작곡\", \"을\", \"▁1839\", \"년부터\", \"▁40\", \"년에\", \"▁걸쳐\", \"▁파리에서\", \"▁착수\", \"했으나\", \"▁1\", \"악장\", \"을\", \"▁쓴\", \"▁뒤에\", \"▁중단\", \"했다\", \".\", \"▁또한\", \"▁작품의\", \"▁완성\", \"과\", \"▁동시에\", \"▁그는\", \"▁이\", \"▁서\", \"곡\", \"(1\", \"악장\", \")\", \"을\", \"▁파리\", \"▁음악원\", \"의\", \"▁연주회\", \"에서\", \"▁연주\", \"할\", \"▁파트\", \"보\", \"까지\", \"▁준비\", \"하였으나\", \",\", \"▁실제로는\", \"▁이루어지지\", \"는\", \"▁않았다\", \".\", \"▁결국\", \"▁초연\", \"은\", \"▁4\", \"년\", \"▁반\", \"이\", \"▁지난\", \"▁후에\", \"▁드레스덴\", \"에서\", \"▁연주\", \"되었고\", \"▁재\", \"연\", \"도\", \"▁이루어졌\", \"지만\", \",\", \"▁이후에\", \"▁그대로\", \"▁방치\", \"되고\", \"▁말았다\", \".\", \"▁그\", \"▁사이에\", \"▁그는\", \"▁리\", \"엔\", \"치\", \"와\", \"▁방\", \"황\", \"하는\", \"▁네덜란드\", \"인\", \"을\", \"▁완성\", \"하고\", \"▁탄\", \"호\", \"이\", \"저\", \"에도\", \"▁착수\", \"하는\", \"▁등\", \"▁분\", \"주\", \"한\", \"▁시간을\", \"▁보\", \"냈는데\", \",\", \"▁그런\", \"▁바쁜\", \"▁생활\", \"이\", \"▁이\", \"▁곡을\", \"▁잊\", \"게\", \"▁한\", \"▁것이\", \"▁아닌\", \"가\", \"▁하는\", \"▁의견도\", \"▁있다\", \".\"], \"answer\": \"파리\", \"token_start\": 165, \"token_end\": 165}\n",
            "{\"qa_id\": \"5917067-0-2\", \"title\": \"파우스트_서곡\", \"question\": [\"▁바그너\", \"의\", \"▁1\", \"악장\", \"의\", \"▁초연\", \"은\", \"▁어디서\", \"▁연주\", \"되었\", \"는\", \"가\", \"?\"], \"context\": [\"▁1839\", \"년\", \"▁바그너\", \"는\", \"▁괴테\", \"의\", \"▁\", \"파우스트\", \"을\", \"▁처음\", \"▁읽고\", \"▁그\", \"▁내용에\", \"▁마음이\", \"▁끌려\", \"▁이를\", \"▁소재로\", \"▁해서\", \"▁하나의\", \"▁교향곡\", \"을\", \"▁쓰\", \"려는\", \"▁뜻을\", \"▁갖는다\", \".\", \"▁이\", \"▁시기\", \"▁바그너\", \"는\", \"▁1838\", \"년에\", \"▁빛\", \"▁독\", \"촉\", \"으로\", \"▁산\", \"전\", \"수\", \"전을\", \"▁다\", \"▁\", \"걲\", \"은\", \"▁상황이\", \"라\", \"▁좌절\", \"과\", \"▁실망\", \"에\", \"▁가득\", \"했으며\", \"▁메\", \"피스\", \"토\", \"펠\", \"레스\", \"를\", \"▁만나는\", \"▁\", \"파우스트\", \"의\", \"▁심\", \"경에\", \"▁공감\", \"했다고\", \"▁한다\", \".\", \"▁또한\", \"▁파리에서\", \"▁아브\", \"네\", \"크의\", \"▁지휘\", \"로\", \"▁파리\", \"▁음악원\", \"▁관현악단\", \"이\", \"▁연주하는\", \"▁베토벤\", \"의\", \"▁교향곡\", \"▁9\", \"번을\", \"▁듣고\", \"▁깊은\", \"▁감\", \"명을\", \"▁받았는데\", \",\", \"▁이것이\", \"▁이듬해\", \"▁1\", \"월에\", \"▁\", \"파우스트\", \"의\", \"▁서\", \"곡으로\", \"▁쓰여진\", \"▁이\", \"▁작품에\", \"▁조금\", \"이라도\", \"▁영향을\", \"▁끼\", \"쳤\", \"으리라\", \"는\", \"▁것은\", \"▁의심\", \"할\", \"▁여지가\", \"▁없다\", \".\", \"▁여기\", \"의\", \"▁라\", \"단\", \"조\", \"▁조성\", \"의\", \"▁경우에도\", \"▁그의\", \"▁전기\", \"에\", \"▁적혀\", \"▁있는\", \"▁것처럼\", \"▁단순한\", \"▁정신적\", \"▁피로\", \"나\", \"▁실\", \"의\", \"가\", \"▁반영\", \"된\", \"▁것이\", \"▁아니라\", \"▁베토벤\", \"의\", \"▁합창\", \"교\", \"향\", \"곡\", \"▁조성\", \"의\", \"▁영향을\", \"▁받은\", \"▁것을\", \"▁볼\", \"▁수\", \"▁있다\", \".\", \"▁그렇게\", \"▁교향곡\", \"▁작곡\", \"을\", \"▁1839\", \"년부터\", \"▁40\", \"년에\", \"▁걸쳐\", \"▁파리에서\", \"▁착수\", \"했으나\", \"▁1\", \"악장\", \"을\", \"▁쓴\", \"▁뒤에\", \"▁중단\", \"했다\", \".\", \"▁또한\", \"▁작품의\", \"▁완성\", \"과\", \"▁동시에\", \"▁그는\", \"▁이\", \"▁서\", \"곡\", \"(1\", \"악장\", \")\", \"을\", \"▁파리\", \"▁음악원\", \"의\", \"▁연주회\", \"에서\", \"▁연주\", \"할\", \"▁파트\", \"보\", \"까지\", \"▁준비\", \"하였으나\", \",\", \"▁실제로는\", \"▁이루어지지\", \"는\", \"▁않았다\", \".\", \"▁결국\", \"▁초연\", \"은\", \"▁4\", \"년\", \"▁반\", \"이\", \"▁지난\", \"▁후에\", \"▁드레스덴\", \"에서\", \"▁연주\", \"되었고\", \"▁재\", \"연\", \"도\", \"▁이루어졌\", \"지만\", \",\", \"▁이후에\", \"▁그대로\", \"▁방치\", \"되고\", \"▁말았다\", \".\", \"▁그\", \"▁사이에\", \"▁그는\", \"▁리\", \"엔\", \"치\", \"와\", \"▁방\", \"황\", \"하는\", \"▁네덜란드\", \"인\", \"을\", \"▁완성\", \"하고\", \"▁탄\", \"호\", \"이\", \"저\", \"에도\", \"▁착수\", \"하는\", \"▁등\", \"▁분\", \"주\", \"한\", \"▁시간을\", \"▁보\", \"냈는데\", \",\", \"▁그런\", \"▁바쁜\", \"▁생활\", \"이\", \"▁이\", \"▁곡을\", \"▁잊\", \"게\", \"▁한\", \"▁것이\", \"▁아닌\", \"가\", \"▁하는\", \"▁의견도\", \"▁있다\", \".\"], \"answer\": \"드레스덴\", \"token_start\": 216, \"token_end\": 216}\n",
            "{\"qa_id\": \"6566495-1-0\", \"title\": \"파우스트_서곡\", \"question\": [\"▁바그너\", \"의\", \"▁작품을\", \"▁시인\", \"의\", \"▁피로\", \"▁쓰여\", \"졌다\", \"고\", \"▁극찬\", \"한\", \"▁것은\", \"▁누구\", \"인\", \"가\", \"?\"], \"context\": [\"▁한편\", \"▁1840\", \"년부터\", \"▁바그너\", \"와\", \"▁알고\", \"▁지내던\", \"▁리스트\", \"가\", \"▁잊\", \"혀\", \"져\", \"▁있던\", \"▁1\", \"악장\", \"을\", \"▁부활\", \"시켜\", \"▁1852\", \"년에\", \"▁바이마르\", \"에서\", \"▁연주\", \"했다\", \".\", \"▁이것을\", \"▁계기로\", \"▁바그너\", \"도\", \"▁이\", \"▁작품에\", \"▁다시\", \"▁관심을\", \"▁갖게\", \"▁되었고\", \",\", \"▁그\", \"▁해\", \"▁9\", \"월에는\", \"▁총\", \"보\", \"의\", \"▁반환\", \"을\", \"▁요구\", \"하여\", \"▁이를\", \"▁서\", \"곡으로\", \"▁간\", \"추\", \"린\", \"▁다음\", \"▁수정\", \"을\", \"▁했고\", \"▁브\", \"라이트\", \"코프\", \"흐\", \"▁&\", \"▁헤르\", \"텔\", \"▁출판사\", \"에서\", \"▁출판\", \"할\", \"▁개정\", \"판\", \"도\", \"▁준비\", \"했다\", \".\", \"▁1853\", \"년\", \"▁5\", \"월에는\", \"▁리스트\", \"가\", \"▁이\", \"▁작품이\", \"▁수정\", \"되었다\", \"는\", \"▁것을\", \"▁인정\", \"했지만\", \",\", \"▁끝내\", \"▁바그너\", \"의\", \"▁출판\", \"▁계획은\", \"▁무산\", \"되고\", \"▁말았다\", \".\", \"▁이후\", \"▁1855\", \"년에\", \"▁리스트\", \"가\", \"▁자신의\", \"▁작품\", \"▁\", \"파우스트\", \"▁교향곡\", \"을\", \"▁거의\", \"▁완성\", \"하여\", \"▁그\", \"▁사실을\", \"▁바그너\", \"에게\", \"▁알\", \"렸고\", \",\", \"▁바그너\", \"는\", \"▁다시\", \"▁개정된\", \"▁총\", \"보를\", \"▁리스트\", \"에게\", \"▁보내고\", \"▁브\", \"라이트\", \"코프\", \"흐\", \"▁&\", \"▁헤르\", \"텔\", \"▁출판사\", \"에는\", \"▁20\", \"루이\", \"의\", \"▁금\", \"을\", \"▁받고\", \"▁팔았다\", \".\", \"▁또한\", \"▁그의\", \"▁작품을\", \"▁“\", \"하나\", \"하나\", \"의\", \"▁음\", \"표\", \"가\", \"▁시인\", \"의\", \"▁피로\", \"▁쓰여\", \"졌다\", \"”\", \"며\", \"▁극찬\", \"했던\", \"▁한스\", \"▁폰\", \"▁\", \"뷜\", \"로\", \"가\", \"▁그것을\", \"▁피아노\", \"▁독주\", \"용으로\", \"▁편곡\", \"했는데\", \",\", \"▁리스트\", \"는\", \"▁그것을\", \"▁약간\", \"▁변형\", \"되었을\", \"▁뿐\", \"이라고\", \"▁지적했다\", \".\", \"▁이\", \"▁서\", \"곡\", \"의\", \"▁총\", \"보\", \"▁첫\", \"머리\", \"에는\", \"▁\", \"파우스트\", \"▁1\", \"부의\", \"▁내용\", \"▁중\", \"▁한\", \"▁구절\", \"을\", \"▁인용\", \"하고\", \"▁있다\", \".\"], \"answer\": \"한스 폰 뷜로\", \"token_start\": 164, \"token_end\": 168}\n",
            "{\"qa_id\": \"6566495-1-1\", \"title\": \"파우스트_서곡\", \"question\": [\"▁잊\", \"혀\", \"져\", \"▁있는\", \"▁\", \"파우스트\", \"▁서\", \"곡\", \"▁1\", \"악장\", \"을\", \"▁부활\", \"시킨\", \"▁것은\", \"▁누구\", \"인\", \"가\", \"?\"], \"context\": [\"▁한편\", \"▁1840\", \"년부터\", \"▁바그너\", \"와\", \"▁알고\", \"▁지내던\", \"▁리스트\", \"가\", \"▁잊\", \"혀\", \"져\", \"▁있던\", \"▁1\", \"악장\", \"을\", \"▁부활\", \"시켜\", \"▁1852\", \"년에\", \"▁바이마르\", \"에서\", \"▁연주\", \"했다\", \".\", \"▁이것을\", \"▁계기로\", \"▁바그너\", \"도\", \"▁이\", \"▁작품에\", \"▁다시\", \"▁관심을\", \"▁갖게\", \"▁되었고\", \",\", \"▁그\", \"▁해\", \"▁9\", \"월에는\", \"▁총\", \"보\", \"의\", \"▁반환\", \"을\", \"▁요구\", \"하여\", \"▁이를\", \"▁서\", \"곡으로\", \"▁간\", \"추\", \"린\", \"▁다음\", \"▁수정\", \"을\", \"▁했고\", \"▁브\", \"라이트\", \"코프\", \"흐\", \"▁&\", \"▁헤르\", \"텔\", \"▁출판사\", \"에서\", \"▁출판\", \"할\", \"▁개정\", \"판\", \"도\", \"▁준비\", \"했다\", \".\", \"▁1853\", \"년\", \"▁5\", \"월에는\", \"▁리스트\", \"가\", \"▁이\", \"▁작품이\", \"▁수정\", \"되었다\", \"는\", \"▁것을\", \"▁인정\", \"했지만\", \",\", \"▁끝내\", \"▁바그너\", \"의\", \"▁출판\", \"▁계획은\", \"▁무산\", \"되고\", \"▁말았다\", \".\", \"▁이후\", \"▁1855\", \"년에\", \"▁리스트\", \"가\", \"▁자신의\", \"▁작품\", \"▁\", \"파우스트\", \"▁교향곡\", \"을\", \"▁거의\", \"▁완성\", \"하여\", \"▁그\", \"▁사실을\", \"▁바그너\", \"에게\", \"▁알\", \"렸고\", \",\", \"▁바그너\", \"는\", \"▁다시\", \"▁개정된\", \"▁총\", \"보를\", \"▁리스트\", \"에게\", \"▁보내고\", \"▁브\", \"라이트\", \"코프\", \"흐\", \"▁&\", \"▁헤르\", \"텔\", \"▁출판사\", \"에는\", \"▁20\", \"루이\", \"의\", \"▁금\", \"을\", \"▁받고\", \"▁팔았다\", \".\", \"▁또한\", \"▁그의\", \"▁작품을\", \"▁“\", \"하나\", \"하나\", \"의\", \"▁음\", \"표\", \"가\", \"▁시인\", \"의\", \"▁피로\", \"▁쓰여\", \"졌다\", \"”\", \"며\", \"▁극찬\", \"했던\", \"▁한스\", \"▁폰\", \"▁\", \"뷜\", \"로\", \"가\", \"▁그것을\", \"▁피아노\", \"▁독주\", \"용으로\", \"▁편곡\", \"했는데\", \",\", \"▁리스트\", \"는\", \"▁그것을\", \"▁약간\", \"▁변형\", \"되었을\", \"▁뿐\", \"이라고\", \"▁지적했다\", \".\", \"▁이\", \"▁서\", \"곡\", \"의\", \"▁총\", \"보\", \"▁첫\", \"머리\", \"에는\", \"▁\", \"파우스트\", \"▁1\", \"부의\", \"▁내용\", \"▁중\", \"▁한\", \"▁구절\", \"을\", \"▁인용\", \"하고\", \"▁있다\", \".\"], \"answer\": \"리스트\", \"token_start\": 7, \"token_end\": 7}\n"
          ]
        }
      ]
    },
    {
      "cell_type": "markdown",
      "metadata": {
        "id": "material-bobby"
      },
      "source": [
        "- (9) 데이터 로드"
      ],
      "id": "material-bobby"
    },
    {
      "cell_type": "code",
      "metadata": {
        "id": "primary-freeze"
      },
      "source": [
        "train_json = os.path.join(data_dir, \"korquad_train.json\")\n",
        "dev_json = os.path.join(data_dir, \"korquad_dev.json\")"
      ],
      "id": "primary-freeze",
      "execution_count": 30,
      "outputs": []
    },
    {
      "cell_type": "code",
      "metadata": {
        "colab": {
          "base_uri": "https://localhost:8080/"
        },
        "id": "rapid-remainder",
        "outputId": "f4735830-30d3-44d7-8cb2-ae342075ca99"
      },
      "source": [
        "class Config(dict):\n",
        "    \"\"\"\n",
        "    json을 config 형태로 사용하기 위한 Class\n",
        "    :param dict: config dictionary\n",
        "    \"\"\"\n",
        "    __getattr__ = dict.__getitem__\n",
        "    __setattr__ = dict.__setitem__\n",
        "\n",
        "\n",
        "args = Config({\n",
        "    'max_seq_length': 384,\n",
        "    'max_query_length': 64,\n",
        "})\n",
        "args"
      ],
      "id": "rapid-remainder",
      "execution_count": 31,
      "outputs": [
        {
          "output_type": "execute_result",
          "data": {
            "text/plain": [
              "{'max_query_length': 64, 'max_seq_length': 384}"
            ]
          },
          "metadata": {},
          "execution_count": 31
        }
      ]
    },
    {
      "cell_type": "code",
      "metadata": {
        "id": "dominant-insured"
      },
      "source": [
        "# 생성한 데이터셋 파일을 메모리에 로딩하는 함수\n",
        "def load_data(args, filename):\n",
        "    inputs, segments, labels_start, labels_end = [], [], [], []\n",
        "\n",
        "    n_discard = 0\n",
        "    with open(filename, \"r\") as f:\n",
        "        for i, line in enumerate(tqdm(f, desc=f\"Loading ...\")):\n",
        "            data = json.loads(line)\n",
        "            token_start = data.get(\"token_start\")\n",
        "            token_end = data.get(\"token_end\")\n",
        "            question = data[\"question\"][:args.max_query_length]\n",
        "            context = data[\"context\"]\n",
        "            answer_tokens = \" \".join(context[token_start:token_end + 1])\n",
        "            context_len = args.max_seq_length - len(question) - 3\n",
        "\n",
        "            if token_end >= context_len:\n",
        "                # 최대 길이내에 token이 들어가지 않은 경우 처리하지 않음\n",
        "                n_discard += 1\n",
        "                continue\n",
        "            context = context[:context_len]\n",
        "            assert len(question) + len(context) <= args.max_seq_length - 3\n",
        "\n",
        "            tokens = ['[CLS]'] + question + ['[SEP]'] + context + ['[SEP]']\n",
        "            ids = [vocab.piece_to_id(token) for token in tokens]\n",
        "            ids += [0] * (args.max_seq_length - len(ids))\n",
        "            inputs.append(ids)\n",
        "            segs = [0] * (len(question) + 2) + [1] * (len(context) + 1)\n",
        "            segs += [0] * (args.max_seq_length - len(segs))\n",
        "            segments.append(segs)\n",
        "            token_start += (len(question) + 2)\n",
        "            labels_start.append(token_start)\n",
        "            token_end += (len(question) + 2)\n",
        "            labels_end.append(token_end)\n",
        "    print(f'n_discard: {n_discard}')\n",
        "\n",
        "    return (np.array(inputs), np.array(segments)), (np.array(labels_start), np.array(labels_end))"
      ],
      "id": "dominant-insured",
      "execution_count": 32,
      "outputs": []
    },
    {
      "cell_type": "code",
      "metadata": {
        "colab": {
          "base_uri": "https://localhost:8080/",
          "height": 567,
          "referenced_widgets": [
            "fb95aa7e2f254967ba62f7be1e792342",
            "ab4c7926a4c84d2d93ee5d49bc81f326",
            "89f6c96aa83f4119a95d916b6e946544",
            "0fe16a145c17415cb9945614bb0eb373",
            "6579e6456e064e45b8f8b6464b4700e2",
            "bf0fad9fd6634b3aaf546386fc5bbc24",
            "5689db0b7aa44599974cc50a9527f2e9",
            "f1f1d1d16cd442d882935c81ccad7528",
            "1913126a84544be0954638361944b78c",
            "19d9e47d649745958f65f3481411c56f",
            "4bd2e130019f4d66abe9de0cfb541571",
            "06ff2014c9e14105a0ef8fcdd964bc2a",
            "fe633ad1469f4cac85d0caa741580923",
            "60ceaacbce4f4b5abb11190259cf808b",
            "ca20c56b12b24fb4b2ba4da3e92df5fc",
            "129909839a87495c94c6aa7e5f5f2b08",
            "fd9d90b626414178a16ef2f283bd214f",
            "e914172b2c784daa826964b5fd7f42a8",
            "8eb764161e914bfda8d145f8f3cf5dab",
            "95d4d59c96304006b7cbe62e5eae6c5b",
            "d815814dedd847f6bba282713e86b6a7",
            "3379de78b929423fa54be3f4eeb7f7e4"
          ]
        },
        "id": "illegal-birthday",
        "outputId": "245c2c9b-f32e-4c9c-f74f-f84e547415ef"
      },
      "source": [
        "# train data load\n",
        "train_inputs, train_labels = load_data(args, train_json)\n",
        "print(f\"train_inputs: {train_inputs[0].shape}\")\n",
        "print(f\"train_inputs: {train_inputs[1].shape}\")\n",
        "print(f\"train_labels: {train_labels[0].shape}\")\n",
        "print(f\"train_labels: {train_labels[1].shape}\")\n",
        "\n",
        "# dev data load\n",
        "dev_inputs, dev_labels = load_data(args, dev_json)\n",
        "print(f\"dev_inputs: {dev_inputs[0].shape}\")\n",
        "print(f\"dev_inputs: {dev_inputs[1].shape}\")\n",
        "print(f\"dev_labels: {dev_labels[0].shape}\")\n",
        "print(f\"dev_labels: {dev_labels[1].shape}\")\n",
        "\n",
        "train_inputs[:10], train_labels[:10]"
      ],
      "id": "illegal-birthday",
      "execution_count": 33,
      "outputs": [
        {
          "output_type": "display_data",
          "data": {
            "application/vnd.jupyter.widget-view+json": {
              "model_id": "fb95aa7e2f254967ba62f7be1e792342",
              "version_minor": 0,
              "version_major": 2
            },
            "text/plain": [
              "Loading ...: 0it [00:00, ?it/s]"
            ]
          },
          "metadata": {}
        },
        {
          "output_type": "stream",
          "name": "stdout",
          "text": [
            "n_discard: 430\n",
            "train_inputs: (59977, 384)\n",
            "train_inputs: (59977, 384)\n",
            "train_labels: (59977,)\n",
            "train_labels: (59977,)\n"
          ]
        },
        {
          "output_type": "display_data",
          "data": {
            "application/vnd.jupyter.widget-view+json": {
              "model_id": "06ff2014c9e14105a0ef8fcdd964bc2a",
              "version_minor": 0,
              "version_major": 2
            },
            "text/plain": [
              "Loading ...: 0it [00:00, ?it/s]"
            ]
          },
          "metadata": {}
        },
        {
          "output_type": "stream",
          "name": "stdout",
          "text": [
            "n_discard: 78\n",
            "dev_inputs: (5696, 384)\n",
            "dev_inputs: (5696, 384)\n",
            "dev_labels: (5696,)\n",
            "dev_labels: (5696,)\n"
          ]
        },
        {
          "output_type": "execute_result",
          "data": {
            "text/plain": [
              "((array([[    5, 15798,    10, ...,     0,     0,     0],\n",
              "         [    5, 15798,    10, ...,     0,     0,     0],\n",
              "         [    5, 15798,    19, ...,     0,     0,     0],\n",
              "         ...,\n",
              "         [    5, 21666,    19, ...,     0,     0,     0],\n",
              "         [    5,   964, 16865, ...,     0,     0,     0],\n",
              "         [    5,   365,    15, ...,     0,     0,     0]]),\n",
              "  array([[0, 0, 0, ..., 0, 0, 0],\n",
              "         [0, 0, 0, ..., 0, 0, 0],\n",
              "         [0, 0, 0, ..., 0, 0, 0],\n",
              "         ...,\n",
              "         [0, 0, 0, ..., 0, 0, 0],\n",
              "         [0, 0, 0, ..., 0, 0, 0],\n",
              "         [0, 0, 0, ..., 0, 0, 0]])),\n",
              " (array([ 37, 184,  98, ...,  74, 190,  35]),\n",
              "  array([ 37, 185, 102, ...,  75, 191,  44])))"
            ]
          },
          "metadata": {},
          "execution_count": 33
        }
      ]
    },
    {
      "cell_type": "markdown",
      "metadata": {
        "id": "geological-agency"
      },
      "source": [
        "# ------------------> 데이터 준비, 전처리 완료"
      ],
      "id": "geological-agency"
    },
    {
      "cell_type": "markdown",
      "metadata": {
        "id": "cognitive-equality"
      },
      "source": [
        "----------------------------------------"
      ],
      "id": "cognitive-equality"
    },
    {
      "cell_type": "markdown",
      "metadata": {
        "id": "typical-treat"
      },
      "source": [
        "# STEP 1. pretrained model 로딩하기"
      ],
      "id": "typical-treat"
    },
    {
      "cell_type": "markdown",
      "metadata": {
        "id": "convinced-procurement"
      },
      "source": [
        "### BERT Model 구성을 위한 레이어 생성"
      ],
      "id": "convinced-procurement"
    },
    {
      "cell_type": "code",
      "metadata": {
        "id": "exciting-celtic"
      },
      "source": [
        "# 유틸리티 함수들\n",
        "\n",
        "def get_pad_mask(tokens, i_pad=0):\n",
        "    \"\"\"\n",
        "    pad mask 계산하는 함수\n",
        "    :param tokens: tokens (bs, n_seq)\n",
        "    :param i_pad: id of pad\n",
        "    :return mask: pad mask (pad: 1, other: 0)\n",
        "    \"\"\"\n",
        "    mask = tf.cast(tf.math.equal(tokens, i_pad), tf.float32)\n",
        "    mask = tf.expand_dims(mask, axis=1)\n",
        "    return mask\n",
        "\n",
        "\n",
        "def get_ahead_mask(tokens, i_pad=0):\n",
        "    \"\"\"\n",
        "    ahead mask 계산하는 함수\n",
        "    :param tokens: tokens (bs, n_seq)\n",
        "    :param i_pad: id of pad\n",
        "    :return mask: ahead and pad mask (ahead or pad: 1, other: 0)\n",
        "    \"\"\"\n",
        "    n_seq = tf.shape(tokens)[1]\n",
        "    ahead_mask = 1 - tf.linalg.band_part(tf.ones((n_seq, n_seq)), -1, 0)\n",
        "    ahead_mask = tf.expand_dims(ahead_mask, axis=0)\n",
        "    pad_mask = get_pad_mask(tokens, i_pad)\n",
        "    mask = tf.maximum(ahead_mask, pad_mask)\n",
        "    return mask\n",
        "\n",
        "\n",
        "@tf.function(experimental_relax_shapes=True)\n",
        "def gelu(x):\n",
        "    \"\"\"\n",
        "    gelu activation 함수\n",
        "    :param x: 입력 값\n",
        "    :return: gelu activation result\n",
        "    \"\"\"\n",
        "    return 0.5 * x * (1 + K.tanh(x * 0.7978845608 * (1 + 0.044715 * x * x)))\n",
        "\n",
        "\n",
        "def kernel_initializer(stddev=0.02):\n",
        "    \"\"\"\n",
        "    parameter initializer 생성\n",
        "    :param stddev: 생성할 랜덤 변수의 표준편차\n",
        "    \"\"\"\n",
        "    return tf.keras.initializers.TruncatedNormal(stddev=stddev)\n",
        "\n",
        "\n",
        "def bias_initializer():\n",
        "    \"\"\"\n",
        "    bias initializer 생성\n",
        "    \"\"\"\n",
        "    return tf.zeros_initializer\n",
        "\n",
        "\n",
        "class Config(dict):\n",
        "    \"\"\"\n",
        "    json을 config 형태로 사용하기 위한 Class\n",
        "    :param dict: config dictionary\n",
        "    \"\"\"\n",
        "    __getattr__ = dict.__getitem__\n",
        "    __setattr__ = dict.__setitem__\n",
        "\n",
        "    @classmethod\n",
        "    def load(cls, file):\n",
        "        \"\"\"\n",
        "        file에서 Config를 생성 함\n",
        "        :param file: filename\n",
        "        \"\"\"\n",
        "        with open(file, 'r') as f:\n",
        "            config = json.loads(f.read())\n",
        "            return Config(config)"
      ],
      "id": "exciting-celtic",
      "execution_count": 34,
      "outputs": []
    },
    {
      "cell_type": "code",
      "metadata": {
        "id": "intensive-superior"
      },
      "source": [
        "# mode == \"embedding\" 일 경우 Token Embedding Layer 로 사용되는 layer 클래스입니다. \n",
        "\n",
        "class SharedEmbedding(tf.keras.layers.Layer):\n",
        "    \"\"\"\n",
        "    Weighed Shared Embedding Class\n",
        "    \"\"\"\n",
        "    def __init__(self, config, name=\"weight_shared_embedding\"):\n",
        "        \"\"\"\n",
        "        생성자\n",
        "        :param config: Config 객체\n",
        "        :param name: layer name\n",
        "        \"\"\"\n",
        "        super().__init__(name=name)\n",
        "\n",
        "        self.n_vocab = config.n_vocab\n",
        "        self.d_model = config.d_model\n",
        "    \n",
        "    def build(self, input_shape):\n",
        "        \"\"\"\n",
        "        shared weight 생성\n",
        "        :param input_shape: Tensor Shape (not used)\n",
        "        \"\"\"\n",
        "        with tf.name_scope(\"shared_embedding_weight\"):\n",
        "            self.shared_weights = self.add_weight(\n",
        "                \"weights\",\n",
        "                shape=[self.n_vocab, self.d_model],\n",
        "                initializer=kernel_initializer()\n",
        "            )\n",
        "\n",
        "    def call(self, inputs, mode=\"embedding\"):\n",
        "        \"\"\"\n",
        "        layer 실행\n",
        "        :param inputs: 입력\n",
        "        :param mode: 실행 모드\n",
        "        :return: embedding or linear 실행 결과\n",
        "        \"\"\"\n",
        "        # mode가 embedding일 경우 embedding lookup 실행\n",
        "        if mode == \"embedding\":\n",
        "            return self._embedding(inputs)\n",
        "        # mode가 linear일 경우 linear 실행\n",
        "        elif mode == \"linear\":\n",
        "            return self._linear(inputs)\n",
        "        # mode가 기타일 경우 오류 발생\n",
        "        else:\n",
        "            raise ValueError(f\"mode {mode} is not valid.\")\n",
        "    \n",
        "    def _embedding(self, inputs):\n",
        "        \"\"\"\n",
        "        embedding lookup\n",
        "        :param inputs: 입력\n",
        "        \"\"\"\n",
        "        embed = tf.gather(self.shared_weights, tf.cast(inputs, tf.int32))\n",
        "        return embed\n",
        "\n",
        "    def _linear(self, inputs):  # (bs, n_seq, d_model)\n",
        "        \"\"\"\n",
        "        linear 실행\n",
        "        :param inputs: 입력\n",
        "        \"\"\"\n",
        "        n_batch = tf.shape(inputs)[0]\n",
        "        n_seq = tf.shape(inputs)[1]\n",
        "        inputs = tf.reshape(inputs, [-1, self.d_model])  # (bs * n_seq, d_model)\n",
        "        outputs = tf.matmul(inputs, self.shared_weights, transpose_b=True)\n",
        "        outputs = tf.reshape(outputs, [n_batch, n_seq, self.n_vocab])  # (bs, n_seq, n_vocab)\n",
        "        return outputs"
      ],
      "id": "intensive-superior",
      "execution_count": 35,
      "outputs": []
    },
    {
      "cell_type": "code",
      "metadata": {
        "id": "coordinate-facing"
      },
      "source": [
        "class PositionalEmbedding(tf.keras.layers.Layer):\n",
        "    \"\"\"\n",
        "    Positional Embedding Class\n",
        "    \"\"\"\n",
        "    def __init__(self, config, name=\"position_embedding\"):\n",
        "        \"\"\"\n",
        "        생성자\n",
        "        :param config: Config 객체\n",
        "        :param name: layer name\n",
        "        \"\"\"\n",
        "        super().__init__(name=name)\n",
        "        \n",
        "        self.embedding = tf.keras.layers.Embedding(config.n_seq, config.d_model, embeddings_initializer=kernel_initializer())\n",
        "\n",
        "    def call(self, inputs):\n",
        "        \"\"\"\n",
        "        layer 실행\n",
        "        :param inputs: 입력\n",
        "        :return embed: positional embedding lookup 결과\n",
        "        \"\"\"\n",
        "        position = tf.cast(tf.math.cumsum(tf.ones_like(inputs), axis=1, exclusive=True), tf.int32)\n",
        "        embed = self.embedding(position)\n",
        "        return embed"
      ],
      "id": "coordinate-facing",
      "execution_count": 36,
      "outputs": []
    },
    {
      "cell_type": "code",
      "metadata": {
        "id": "studied-continuity"
      },
      "source": [
        "class ScaleDotProductAttention(tf.keras.layers.Layer):\n",
        "    \"\"\"\n",
        "    Scale Dot Product Attention Class\n",
        "    \"\"\"\n",
        "    def __init__(self, name=\"scale_dot_product_attention\"):\n",
        "        \"\"\"\n",
        "        생성자\n",
        "        :param name: layer name\n",
        "        \"\"\"\n",
        "        super().__init__(name=name)\n",
        "\n",
        "    def call(self, Q, K, V, attn_mask):\n",
        "        \"\"\"\n",
        "        layer 실행\n",
        "        :param Q: Q value\n",
        "        :param K: K value\n",
        "        :param V: V value\n",
        "        :param attn_mask: 실행 모드\n",
        "        :return attn_out: attention 실행 결과\n",
        "        \"\"\"\n",
        "        attn_score = tf.matmul(Q, K, transpose_b=True)\n",
        "        scale = tf.math.sqrt(tf.cast(tf.shape(K)[-1], tf.float32))\n",
        "        attn_scale = tf.math.divide(attn_score, scale)\n",
        "        attn_scale -= 1.e9 * attn_mask\n",
        "        attn_prob = tf.nn.softmax(attn_scale, axis=-1)\n",
        "        attn_out = tf.matmul(attn_prob, V)\n",
        "        return attn_out"
      ],
      "id": "studied-continuity",
      "execution_count": 37,
      "outputs": []
    },
    {
      "cell_type": "code",
      "metadata": {
        "id": "focused-preparation"
      },
      "source": [
        "class MultiHeadAttention(tf.keras.layers.Layer):\n",
        "    \"\"\"\n",
        "    Multi Head Attention Class\n",
        "    \"\"\"\n",
        "    def __init__(self, config, name=\"multi_head_attention\"):\n",
        "        \"\"\"\n",
        "        생성자\n",
        "        :param config: Config 객체\n",
        "        :param name: layer name\n",
        "        \"\"\"\n",
        "        super().__init__(name=name)\n",
        "\n",
        "        self.d_model = config.d_model\n",
        "        self.n_head = config.n_head\n",
        "        self.d_head = config.d_head\n",
        "\n",
        "        # Q, K, V input dense layer\n",
        "        self.W_Q = tf.keras.layers.Dense(config.n_head * config.d_head, kernel_initializer=kernel_initializer(), bias_initializer=bias_initializer())\n",
        "        self.W_K = tf.keras.layers.Dense(config.n_head * config.d_head, kernel_initializer=kernel_initializer(), bias_initializer=bias_initializer())\n",
        "        self.W_V = tf.keras.layers.Dense(config.n_head * config.d_head, kernel_initializer=kernel_initializer(), bias_initializer=bias_initializer())\n",
        "        # Scale Dot Product Attention class\n",
        "        self.attention = ScaleDotProductAttention(name=\"self_attention\")\n",
        "        # output dense layer\n",
        "        self.W_O = tf.keras.layers.Dense(config.d_model, kernel_initializer=kernel_initializer(), bias_initializer=bias_initializer())\n",
        "\n",
        "    def call(self, Q, K, V, attn_mask):\n",
        "        \"\"\"\n",
        "        layer 실행\n",
        "        :param Q: Q value\n",
        "        :param K: K value\n",
        "        :param V: V value\n",
        "        :param attn_mask: 실행 모드\n",
        "        :return attn_out: attention 실행 결과\n",
        "        \"\"\"\n",
        "        # reshape Q, K, V, attn_mask\n",
        "        batch_size = tf.shape(Q)[0]\n",
        "        Q_m = tf.transpose(tf.reshape(self.W_Q(Q), [batch_size, -1, self.n_head, self.d_head]), [0, 2, 1, 3])  # (bs, n_head, Q_len, d_head)\n",
        "        K_m = tf.transpose(tf.reshape(self.W_K(K), [batch_size, -1, self.n_head, self.d_head]), [0, 2, 1, 3])  # (bs, n_head, K_len, d_head)\n",
        "        V_m = tf.transpose(tf.reshape(self.W_V(V), [batch_size, -1, self.n_head, self.d_head]), [0, 2, 1, 3])  # (bs, n_head, K_len, d_head)\n",
        "        attn_mask_m = tf.expand_dims(attn_mask, axis=1)\n",
        "        # Scale Dot Product Attention with multi head Q, K, V, attn_mask\n",
        "        attn_out = self.attention(Q_m, K_m, V_m, attn_mask_m)  # (bs, n_head, Q_len, d_head)\n",
        "        # transpose and liner\n",
        "        attn_out_m = tf.transpose(attn_out, perm=[0, 2, 1, 3])  # (bs, Q_len, n_head, d_head)\n",
        "        attn_out = tf.reshape(attn_out_m, [batch_size, -1, config.n_head * config.d_head])  # (bs, Q_len, d_model)\n",
        "        attn_out = self.W_O(attn_out) # (bs, Q_len, d_model)\n",
        "\n",
        "        return attn_out"
      ],
      "id": "focused-preparation",
      "execution_count": 38,
      "outputs": []
    },
    {
      "cell_type": "code",
      "metadata": {
        "id": "trying-petroleum"
      },
      "source": [
        "class PositionWiseFeedForward(tf.keras.layers.Layer):\n",
        "    \"\"\"\n",
        "    Position Wise Feed Forward Class\n",
        "    \"\"\"\n",
        "    def __init__(self, config, name=\"feed_forward\"):\n",
        "        \"\"\"\n",
        "        생성자\n",
        "        :param config: Config 객체\n",
        "        :param name: layer name\n",
        "        \"\"\"\n",
        "        super().__init__(name=name)\n",
        "\n",
        "        self.W_1 = tf.keras.layers.Dense(config.d_ff, activation=gelu, kernel_initializer=kernel_initializer(), bias_initializer=bias_initializer())\n",
        "        self.W_2 = tf.keras.layers.Dense(config.d_model, kernel_initializer=kernel_initializer(), bias_initializer=bias_initializer())\n",
        "\n",
        "    def call(self, inputs):\n",
        "        \"\"\"\n",
        "        layer 실행\n",
        "        :param inputs: inputs\n",
        "        :return ff_val: feed forward 실행 결과\n",
        "        \"\"\"\n",
        "        ff_val = self.W_2(self.W_1(inputs))\n",
        "        return ff_val"
      ],
      "id": "trying-petroleum",
      "execution_count": 39,
      "outputs": []
    },
    {
      "cell_type": "code",
      "metadata": {
        "id": "federal-garage"
      },
      "source": [
        "class EncoderLayer(tf.keras.layers.Layer):\n",
        "    \"\"\"\n",
        "    Encoder Layer Class\n",
        "    \"\"\"\n",
        "    def __init__(self, config, name=\"encoder_layer\"):\n",
        "        \"\"\"\n",
        "        생성자\n",
        "        :param config: Config 객체\n",
        "        :param name: layer name\n",
        "        \"\"\"\n",
        "        super().__init__(name=name)\n",
        "\n",
        "        self.self_attention = MultiHeadAttention(config)\n",
        "        self.norm1 = tf.keras.layers.LayerNormalization(epsilon=config.layernorm_epsilon)\n",
        "\n",
        "        self.ffn = PositionWiseFeedForward(config)\n",
        "        self.norm2 = tf.keras.layers.LayerNormalization(epsilon=config.layernorm_epsilon)\n",
        "\n",
        "        self.dropout = tf.keras.layers.Dropout(config.dropout)\n",
        " \n",
        "    def call(self, enc_embed, self_mask):\n",
        "        \"\"\"\n",
        "        layer 실행\n",
        "        :param enc_embed: enc_embed 또는 이전 EncoderLayer의 출력\n",
        "        :param self_mask: enc_tokens의 pad mask\n",
        "        :return enc_out: EncoderLayer 실행 결과\n",
        "        \"\"\"\n",
        "        self_attn_val = self.self_attention(enc_embed, enc_embed, enc_embed, self_mask)\n",
        "        norm1_val = self.norm1(enc_embed + self.dropout(self_attn_val))\n",
        "\n",
        "        ffn_val = self.ffn(norm1_val)\n",
        "        enc_out = self.norm2(norm1_val + self.dropout(ffn_val))\n",
        "\n",
        "        return enc_out"
      ],
      "id": "federal-garage",
      "execution_count": 40,
      "outputs": []
    },
    {
      "cell_type": "markdown",
      "metadata": {
        "id": "ignored-visibility"
      },
      "source": [
        "### BERT Model 구성"
      ],
      "id": "ignored-visibility"
    },
    {
      "cell_type": "code",
      "metadata": {
        "id": "bound-biodiversity"
      },
      "source": [
        "class BERT(tf.keras.layers.Layer):\n",
        "    \"\"\"\n",
        "    BERT Class\n",
        "    \"\"\"\n",
        "    def __init__(self, config, name=\"bert\"):\n",
        "        \"\"\"\n",
        "        생성자\n",
        "        :param config: Config 객체\n",
        "        :param name: layer name\n",
        "        \"\"\"\n",
        "        super().__init__(name=name)\n",
        "\n",
        "        self.i_pad = config.i_pad\n",
        "        self.embedding = SharedEmbedding(config)\n",
        "        self.position = PositionalEmbedding(config)\n",
        "        self.segment = tf.keras.layers.Embedding(2, config.d_model, embeddings_initializer=kernel_initializer())\n",
        "        self.norm = tf.keras.layers.LayerNormalization(epsilon=config.layernorm_epsilon)\n",
        "        \n",
        "        self.encoder_layers = [EncoderLayer(config, name=f\"encoder_layer_{i}\") for i in range(config.n_layer)]\n",
        "\n",
        "        self.dropout = tf.keras.layers.Dropout(config.dropout)\n",
        "\n",
        "    def call(self, enc_tokens, segments):\n",
        "        \"\"\"\n",
        "        layer 실행\n",
        "        :param enc_tokens: encoder tokens\n",
        "        :param segments: token segments\n",
        "        :return logits_cls: CLS 결과 logits\n",
        "        :return logits_lm: LM 결과 logits\n",
        "        \"\"\"\n",
        "        enc_self_mask = get_pad_mask(enc_tokens, self.i_pad)\n",
        "\n",
        "        enc_embed = self.get_embedding(enc_tokens, segments)\n",
        "\n",
        "        enc_out = self.dropout(enc_embed)\n",
        "        for encoder_layer in self.encoder_layers:\n",
        "            enc_out = encoder_layer(enc_out, enc_self_mask)\n",
        "\n",
        "        logits_cls = enc_out[:,0]\n",
        "        logits_lm = enc_out\n",
        "        return logits_cls, logits_lm\n",
        "    \n",
        "    def get_embedding(self, tokens, segments):\n",
        "        \"\"\"\n",
        "        token embedding, position embedding lookup\n",
        "        :param tokens: 입력 tokens\n",
        "        :param segments: 입력 segments\n",
        "        :return embed: embedding 결과\n",
        "        \"\"\"\n",
        "        embed = self.embedding(tokens) + self.position(tokens) + self.segment(segments)\n",
        "        embed = self.norm(embed)\n",
        "        return embed"
      ],
      "id": "bound-biodiversity",
      "execution_count": 41,
      "outputs": []
    },
    {
      "cell_type": "markdown",
      "metadata": {
        "id": "exterior-projector"
      },
      "source": [
        "# ------------------------------------------------------------------------------"
      ],
      "id": "exterior-projector"
    },
    {
      "cell_type": "markdown",
      "metadata": {
        "id": "moral-female"
      },
      "source": [
        "# Pretrained Model 사용하지 않은 BERT Model 테스트 (이 다음에 Pretrained Model 사용하여 예측한 결과 이어짐)"
      ],
      "id": "moral-female"
    },
    {
      "cell_type": "code",
      "metadata": {
        "id": "neural-carroll"
      },
      "source": [
        "class BERT4KorQuAD(tf.keras.Model):\n",
        "    def __init__(self, config):\n",
        "        super().__init__(name='BERT4KorQuAD')\n",
        "\n",
        "        self.bert = BERT(config)\n",
        "        self.dense = tf.keras.layers.Dense(2)\n",
        "    \n",
        "    def call(self, enc_tokens, segments):\n",
        "        logits_cls, logits_lm = self.bert(enc_tokens, segments)\n",
        "\n",
        "        hidden = self.dense(logits_lm) # (bs, n_seq, 2)\n",
        "        start_logits, end_logits = tf.split(hidden, 2, axis=-1)  # (bs, n_seq, 1), (bs, n_seq, 1)\n",
        "\n",
        "        start_logits = tf.squeeze(start_logits, axis=-1)\n",
        "        start_outputs = tf.keras.layers.Softmax(name=\"start\")(start_logits)\n",
        "\n",
        "        end_logits = tf.squeeze(end_logits, axis=-1)\n",
        "        end_outputs = tf.keras.layers.Softmax(name=\"end\")(end_logits)\n",
        "\n",
        "        return start_outputs, end_outputs"
      ],
      "id": "neural-carroll",
      "execution_count": 43,
      "outputs": []
    },
    {
      "cell_type": "code",
      "metadata": {
        "colab": {
          "base_uri": "https://localhost:8080/"
        },
        "id": "falling-investing",
        "outputId": "5fc93a23-5336-4362-a32d-fc7b8224bad2"
      },
      "source": [
        "config = Config({\"d_model\": 512, \"n_head\": 8, \"d_head\": 64, \"dropout\": 0.1, \"d_ff\": 1024, \"layernorm_epsilon\": 0.001, \"n_layer\": 6, \"n_seq\": 384, \"n_vocab\": 0, \"i_pad\": 0})\n",
        "config.n_vocab = len(vocab)\n",
        "config.i_pad = vocab.pad_id()\n",
        "config"
      ],
      "id": "falling-investing",
      "execution_count": 44,
      "outputs": [
        {
          "output_type": "execute_result",
          "data": {
            "text/plain": [
              "{'d_ff': 1024,\n",
              " 'd_head': 64,\n",
              " 'd_model': 512,\n",
              " 'dropout': 0.1,\n",
              " 'i_pad': 0,\n",
              " 'layernorm_epsilon': 0.001,\n",
              " 'n_head': 8,\n",
              " 'n_layer': 6,\n",
              " 'n_seq': 384,\n",
              " 'n_vocab': 32007}"
            ]
          },
          "metadata": {},
          "execution_count": 44
        }
      ]
    },
    {
      "cell_type": "code",
      "metadata": {
        "id": "universal-scanner"
      },
      "source": [
        "bert_batch_size = 16\n",
        "\n",
        "train_dataset = tf.data.Dataset.from_tensor_slices((train_inputs, train_labels)).shuffle(10000).batch(bert_batch_size)\n",
        "dev_dataset = tf.data.Dataset.from_tensor_slices((dev_inputs, dev_labels)).batch(bert_batch_size)"
      ],
      "id": "universal-scanner",
      "execution_count": 45,
      "outputs": []
    },
    {
      "cell_type": "code",
      "metadata": {
        "id": "secondary-jersey"
      },
      "source": [
        "model = BERT4KorQuAD(config)"
      ],
      "id": "secondary-jersey",
      "execution_count": 46,
      "outputs": []
    },
    {
      "cell_type": "markdown",
      "metadata": {
        "id": "white-phone"
      },
      "source": [
        "### 학습 진행"
      ],
      "id": "white-phone"
    },
    {
      "cell_type": "code",
      "metadata": {
        "id": "detailed-deficit"
      },
      "source": [
        "def train_epoch(model, dataset, loss_fn, acc_fn, optimizer):\n",
        "    metric_start_loss = tf.keras.metrics.Mean(name='start_loss')\n",
        "    metric_end_loss = tf.keras.metrics.Mean(name='end_loss')\n",
        "    metric_start_acc = tf.keras.metrics.Mean(name='start_acc')\n",
        "    metric_end_acc = tf.keras.metrics.Mean(name='end_acc')\n",
        "\n",
        "    p_bar = tqdm(dataset)\n",
        "    for batch, ((enc_tokens, segments), (start_labels, end_labels)) in enumerate(p_bar):\n",
        "        with tf.GradientTape() as tape:\n",
        "            start_outputs, end_outputs = model(enc_tokens, segments)\n",
        "\n",
        "            start_loss = loss_fn(start_labels, start_outputs)\n",
        "            end_loss = loss_fn(end_labels, end_outputs)\n",
        "            loss = start_loss + end_loss\n",
        "\n",
        "            start_acc = acc_fn(start_labels, start_outputs)\n",
        "            end_acc = acc_fn(end_labels, end_outputs)\n",
        "        gradients = tape.gradient(loss, model.trainable_variables)\n",
        "        optimizer.apply_gradients(zip(gradients, model.trainable_variables))\n",
        "\n",
        "        metric_start_loss(start_loss)\n",
        "        metric_end_loss(end_loss)\n",
        "        metric_start_acc(start_acc)\n",
        "        metric_end_acc(end_acc)\n",
        "        if batch % 10 == 9:\n",
        "            p_bar.set_description(f'loss: {metric_start_loss.result():0.4f}, {metric_end_loss.result():0.4f}, acc: {metric_start_acc.result():0.4f}, {metric_end_acc.result():0.4f}')\n",
        "    p_bar.close()\n",
        "\n",
        "    return metric_start_loss.result(), metric_end_loss.result(), metric_start_acc.result(), metric_end_acc.result()"
      ],
      "id": "detailed-deficit",
      "execution_count": null,
      "outputs": []
    },
    {
      "cell_type": "code",
      "metadata": {
        "id": "antique-causing"
      },
      "source": [
        "def eval_epoch(model, dataset, loss_fn, acc_fn):\n",
        "    metric_start_loss = tf.keras.metrics.Mean(name='start_loss')\n",
        "    metric_end_loss = tf.keras.metrics.Mean(name='end_loss')\n",
        "    metric_start_acc = tf.keras.metrics.Mean(name='start_acc')\n",
        "    metric_end_acc = tf.keras.metrics.Mean(name='end_acc')\n",
        "\n",
        "    for batch, ((enc_tokens, segments), (start_labels, end_labels)) in enumerate(dataset):\n",
        "        start_outputs, end_outputs = model(enc_tokens, segments)\n",
        "\n",
        "        start_loss = loss_fn(start_labels, start_outputs)\n",
        "        end_loss = loss_fn(end_labels, end_outputs)\n",
        "\n",
        "        start_acc = acc_fn(start_labels, start_outputs)\n",
        "        end_acc = acc_fn(end_labels, end_outputs)\n",
        "\n",
        "        metric_start_loss(start_loss)\n",
        "        metric_end_loss(end_loss)\n",
        "        metric_start_acc(start_acc)\n",
        "        metric_end_acc(end_acc)\n",
        "\n",
        "    return metric_start_loss.result(), metric_end_loss.result(), metric_start_acc.result(), metric_end_acc.result()"
      ],
      "id": "antique-causing",
      "execution_count": null,
      "outputs": []
    },
    {
      "cell_type": "code",
      "metadata": {
        "id": "neural-turner",
        "colab": {
          "referenced_widgets": [
            "b308507e5fd04d9590dfd6131bc0a001",
            "fec38ed9a8204193b940ca81f1241bfa",
            "021e134cb985467c9367cdef7787b55c",
            "3b01cdd512d84f1a84c1c28f1a0318c3",
            "cd94fdabb2b74202bf9b6abd381f5955",
            "2daddbc382624f32a1961f3976675901",
            "1fa7a47631494bb0bc2dfdead8af8675"
          ]
        },
        "outputId": "420c70eb-9fb5-44a9-9c46-66fe3432b300"
      },
      "source": [
        "loss_fn = tf.keras.losses.sparse_categorical_crossentropy\n",
        "acc_fn = tf.keras.metrics.sparse_categorical_accuracy\n",
        "\n",
        "optimizer = tf.keras.optimizers.Adam(learning_rate=5e-4)\n",
        "\n",
        "best_acc = .0\n",
        "patience = 0\n",
        "for epoch in range(10):\n",
        "    train_epoch(model, train_dataset, loss_fn, acc_fn, optimizer)\n",
        "    start_loss, end_loss, start_acc, end_acc = eval_epoch(model, dev_dataset, loss_fn, acc_fn)\n",
        "    print(f'eval {epoch} >> loss: {start_loss:0.4f}, {end_loss:0.4f}, acc: {start_acc:0.4f}, {end_acc:0.4f}')\n",
        "    acc = start_acc + end_acc\n",
        "    if best_acc < acc:\n",
        "        patience = 0\n",
        "        best_acc = acc\n",
        "        model.save_weights(os.path.join(data_dir, \"korquad_bert_none_pretrain.hdf5\"))\n",
        "        print(f'save best model')\n",
        "    else:\n",
        "        patience += 1\n",
        "    if 5 <= patience:\n",
        "        print(f'early stopping')\n",
        "        break"
      ],
      "id": "neural-turner",
      "execution_count": null,
      "outputs": [
        {
          "data": {
            "application/vnd.jupyter.widget-view+json": {
              "model_id": "b308507e5fd04d9590dfd6131bc0a001",
              "version_major": 2,
              "version_minor": 0
            },
            "text/plain": [
              "  0%|          | 0/3749 [00:00<?, ?it/s]"
            ]
          },
          "metadata": {},
          "output_type": "display_data"
        },
        {
          "name": "stdout",
          "output_type": "stream",
          "text": [
            "eval 0 >> loss: 5.9507, 5.9507, acc: 0.0040, 0.0049\n",
            "save best model\n"
          ]
        },
        {
          "data": {
            "application/vnd.jupyter.widget-view+json": {
              "model_id": "fec38ed9a8204193b940ca81f1241bfa",
              "version_major": 2,
              "version_minor": 0
            },
            "text/plain": [
              "  0%|          | 0/3749 [00:00<?, ?it/s]"
            ]
          },
          "metadata": {},
          "output_type": "display_data"
        },
        {
          "name": "stdout",
          "output_type": "stream",
          "text": [
            "eval 1 >> loss: 5.9507, 5.9507, acc: 0.0044, 0.0054\n",
            "save best model\n"
          ]
        },
        {
          "data": {
            "application/vnd.jupyter.widget-view+json": {
              "model_id": "021e134cb985467c9367cdef7787b55c",
              "version_major": 2,
              "version_minor": 0
            },
            "text/plain": [
              "  0%|          | 0/3749 [00:00<?, ?it/s]"
            ]
          },
          "metadata": {},
          "output_type": "display_data"
        },
        {
          "name": "stdout",
          "output_type": "stream",
          "text": [
            "eval 2 >> loss: 5.9507, 5.9507, acc: 0.0033, 0.0007\n"
          ]
        },
        {
          "data": {
            "application/vnd.jupyter.widget-view+json": {
              "model_id": "3b01cdd512d84f1a84c1c28f1a0318c3",
              "version_major": 2,
              "version_minor": 0
            },
            "text/plain": [
              "  0%|          | 0/3749 [00:00<?, ?it/s]"
            ]
          },
          "metadata": {},
          "output_type": "display_data"
        },
        {
          "name": "stdout",
          "output_type": "stream",
          "text": [
            "eval 3 >> loss: 5.9507, 5.9507, acc: 0.0042, 0.0019\n"
          ]
        },
        {
          "data": {
            "application/vnd.jupyter.widget-view+json": {
              "model_id": "cd94fdabb2b74202bf9b6abd381f5955",
              "version_major": 2,
              "version_minor": 0
            },
            "text/plain": [
              "  0%|          | 0/3749 [00:00<?, ?it/s]"
            ]
          },
          "metadata": {},
          "output_type": "display_data"
        },
        {
          "name": "stdout",
          "output_type": "stream",
          "text": [
            "eval 4 >> loss: 5.9507, 5.9507, acc: 0.0032, 0.0012\n"
          ]
        },
        {
          "data": {
            "application/vnd.jupyter.widget-view+json": {
              "model_id": "2daddbc382624f32a1961f3976675901",
              "version_major": 2,
              "version_minor": 0
            },
            "text/plain": [
              "  0%|          | 0/3749 [00:00<?, ?it/s]"
            ]
          },
          "metadata": {},
          "output_type": "display_data"
        },
        {
          "name": "stdout",
          "output_type": "stream",
          "text": [
            "eval 5 >> loss: 5.9507, 5.9507, acc: 0.0011, 0.0011\n"
          ]
        },
        {
          "data": {
            "application/vnd.jupyter.widget-view+json": {
              "model_id": "1fa7a47631494bb0bc2dfdead8af8675",
              "version_major": 2,
              "version_minor": 0
            },
            "text/plain": [
              "  0%|          | 0/3749 [00:00<?, ?it/s]"
            ]
          },
          "metadata": {},
          "output_type": "display_data"
        },
        {
          "name": "stdout",
          "output_type": "stream",
          "text": [
            "eval 6 >> loss: 5.9507, 5.9507, acc: 0.0019, 0.0007\n",
            "early stopping\n"
          ]
        }
      ]
    },
    {
      "cell_type": "markdown",
      "metadata": {
        "id": "WLS-IS8Vza3C"
      },
      "source": [
        "![BERT Model NOT Pretrained Ver..jpg](data:image/jpeg;base64,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)"
      ],
      "id": "WLS-IS8Vza3C"
    },
    {
      "cell_type": "markdown",
      "metadata": {
        "id": "great-robert"
      },
      "source": [
        "# -------------------------------------------------------------------------------"
      ],
      "id": "great-robert"
    },
    {
      "cell_type": "markdown",
      "metadata": {
        "id": "cooked-companion"
      },
      "source": [
        "# Pretrained BERT Model load"
      ],
      "id": "cooked-companion"
    },
    {
      "cell_type": "code",
      "metadata": {
        "colab": {
          "base_uri": "https://localhost:8080/"
        },
        "id": "consecutive-penetration",
        "outputId": "db6669f0-62bf-4d51-b873-97517c41d7c8"
      },
      "source": [
        "checkpoint_file = os.path.join(model_dir, 'bert_pretrain_32000.hdf5')\n",
        "\n",
        "model = BERT4KorQuAD(config)\n",
        "\n",
        "if os.path.exists(checkpoint_file):\n",
        "    #  pretrained model 을 로드하기 위해 먼저 모델이 생성되어 있어야 한다.\n",
        "    enc_tokens = np.random.randint(0, len(vocab), (4, 10))\n",
        "    segments = np.random.randint(0, 2, (4, 10))\n",
        "    model(enc_tokens, segments)\n",
        "    \n",
        "    # checkpoint 파일로부터 필요한 layer를 불러온다. \n",
        "    model.load_weights(os.path.join(model_dir, \"bert_pretrain_32000.hdf5\"), by_name=True)\n",
        "\n",
        "    model.summary()\n",
        "else:\n",
        "    print('NO Pretrained Model')"
      ],
      "id": "consecutive-penetration",
      "execution_count": 47,
      "outputs": [
        {
          "output_type": "stream",
          "name": "stdout",
          "text": [
            "Model: \"BERT4KorQuAD\"\n",
            "_________________________________________________________________\n",
            "Layer (type)                 Output Shape              Param #   \n",
            "=================================================================\n",
            "bert (BERT)                  multiple                  29202944  \n",
            "_________________________________________________________________\n",
            "dense_73 (Dense)             multiple                  1026      \n",
            "=================================================================\n",
            "Total params: 29,203,970\n",
            "Trainable params: 29,203,970\n",
            "Non-trainable params: 0\n",
            "_________________________________________________________________\n"
          ]
        }
      ]
    },
    {
      "cell_type": "markdown",
      "metadata": {
        "id": "legitimate-native"
      },
      "source": [
        "# STEP 2. pretrained model finetune 하기"
      ],
      "id": "legitimate-native"
    },
    {
      "cell_type": "markdown",
      "metadata": {
        "id": "informal-stephen"
      },
      "source": [
        "### KorQuAD용으로 finetune하기 위한 모델 클래스"
      ],
      "id": "informal-stephen"
    },
    {
      "cell_type": "code",
      "metadata": {
        "id": "iraqi-strain"
      },
      "source": [
        "class BERT4KorQuAD(tf.keras.Model):\n",
        "    def __init__(self, config):\n",
        "        super().__init__(name='BERT4KorQuAD')\n",
        "\n",
        "        self.bert = BERT(config)\n",
        "        self.dense = tf.keras.layers.Dense(2)\n",
        "    \n",
        "    def call(self, enc_tokens, segments):\n",
        "        logits_cls, logits_lm = self.bert(enc_tokens, segments)\n",
        "\n",
        "        hidden = self.dense(logits_lm) # (bs, n_seq, 2)\n",
        "        start_logits, end_logits = tf.split(hidden, 2, axis=-1)  # (bs, n_seq, 1), (bs, n_seq, 1)\n",
        "\n",
        "        start_logits = tf.squeeze(start_logits, axis=-1)\n",
        "        start_outputs = tf.keras.activations.linear(start_logits)\n",
        "\n",
        "        end_logits = tf.squeeze(end_logits, axis=-1)\n",
        "        end_outputs = tf.keras.activations.linear(end_logits)\n",
        "\n",
        "        return start_outputs, end_outputs"
      ],
      "id": "iraqi-strain",
      "execution_count": 48,
      "outputs": []
    },
    {
      "cell_type": "markdown",
      "metadata": {
        "id": "copyrighted-example"
      },
      "source": [
        "### 모델 사이즈 조정"
      ],
      "id": "copyrighted-example"
    },
    {
      "cell_type": "code",
      "metadata": {
        "colab": {
          "base_uri": "https://localhost:8080/"
        },
        "id": "continuous-facing",
        "outputId": "2c9849ac-ba99-4514-edbe-9843c9a312e1"
      },
      "source": [
        "config = Config({\"d_model\": 512, \"n_head\": 8, \"d_head\": 64, \"dropout\": 0.1, \"d_ff\": 1024, \"layernorm_epsilon\": 0.001, \"n_layer\": 6, \"n_seq\": 384, \"n_vocab\": 0, \"i_pad\": 0})\n",
        "config.n_vocab = len(vocab)\n",
        "config.i_pad = vocab.pad_id()\n",
        "config"
      ],
      "id": "continuous-facing",
      "execution_count": 49,
      "outputs": [
        {
          "output_type": "execute_result",
          "data": {
            "text/plain": [
              "{'d_ff': 1024,\n",
              " 'd_head': 64,\n",
              " 'd_model': 512,\n",
              " 'dropout': 0.1,\n",
              " 'i_pad': 0,\n",
              " 'layernorm_epsilon': 0.001,\n",
              " 'n_head': 8,\n",
              " 'n_layer': 6,\n",
              " 'n_seq': 384,\n",
              " 'n_vocab': 32007}"
            ]
          },
          "metadata": {},
          "execution_count": 49
        }
      ]
    },
    {
      "cell_type": "code",
      "metadata": {
        "id": "official-final"
      },
      "source": [
        "bert_batch_size = 16\n",
        "\n",
        "train_dataset = tf.data.Dataset.from_tensor_slices((train_inputs, train_labels)).shuffle(10000).batch(bert_batch_size)\n",
        "dev_dataset = tf.data.Dataset.from_tensor_slices((dev_inputs, dev_labels)).batch(bert_batch_size)"
      ],
      "id": "official-final",
      "execution_count": 50,
      "outputs": []
    },
    {
      "cell_type": "code",
      "metadata": {
        "id": "applicable-nicholas"
      },
      "source": [
        "def train_epoch(model, dataset, loss_fn, acc_fn, optimizer):\n",
        "    metric_start_loss = tf.keras.metrics.Mean(name='start_loss')\n",
        "    metric_end_loss = tf.keras.metrics.Mean(name='end_loss')\n",
        "    metric_start_acc = tf.keras.metrics.Mean(name='start_acc')\n",
        "    metric_end_acc = tf.keras.metrics.Mean(name='end_acc')\n",
        "\n",
        "    p_bar = tqdm(dataset)\n",
        "    for batch, ((enc_tokens, segments), (start_labels, end_labels)) in enumerate(p_bar):\n",
        "        with tf.GradientTape() as tape:\n",
        "            start_outputs, end_outputs = model(enc_tokens, segments)\n",
        "\n",
        "            start_loss = loss_fn(start_labels, start_outputs)\n",
        "            end_loss = loss_fn(end_labels, end_outputs)\n",
        "            loss = start_loss + end_loss\n",
        "\n",
        "            start_acc = acc_fn(start_labels, start_outputs)\n",
        "            end_acc = acc_fn(end_labels, end_outputs)\n",
        "        gradients = tape.gradient(loss, model.trainable_variables)\n",
        "        optimizer.apply_gradients(zip(gradients, model.trainable_variables))\n",
        "\n",
        "        metric_start_loss(start_loss)\n",
        "        metric_end_loss(end_loss)\n",
        "        metric_start_acc(start_acc)\n",
        "        metric_end_acc(end_acc)\n",
        "        if batch % 10 == 9:\n",
        "            p_bar.set_description(f'loss: {metric_start_loss.result():0.4f}, {metric_end_loss.result():0.4f}, acc: {metric_start_acc.result():0.4f}, {metric_end_acc.result():0.4f}')\n",
        "    p_bar.close()\n",
        "\n",
        "    return metric_start_loss.result(), metric_end_loss.result(), metric_start_acc.result(), metric_end_acc.result()"
      ],
      "id": "applicable-nicholas",
      "execution_count": 51,
      "outputs": []
    },
    {
      "cell_type": "code",
      "metadata": {
        "id": "reduced-amsterdam"
      },
      "source": [
        "def eval_epoch(model, dataset, loss_fn, acc_fn):\n",
        "    metric_start_loss = tf.keras.metrics.Mean(name='start_loss')\n",
        "    metric_end_loss = tf.keras.metrics.Mean(name='end_loss')\n",
        "    metric_start_acc = tf.keras.metrics.Mean(name='start_acc')\n",
        "    metric_end_acc = tf.keras.metrics.Mean(name='end_acc')\n",
        "\n",
        "    for batch, ((enc_tokens, segments), (start_labels, end_labels)) in enumerate(dataset):\n",
        "        start_outputs, end_outputs = model(enc_tokens, segments)\n",
        "\n",
        "        start_loss = loss_fn(start_labels, start_outputs)\n",
        "        end_loss = loss_fn(end_labels, end_outputs)\n",
        "\n",
        "        start_acc = acc_fn(start_labels, start_outputs)\n",
        "        end_acc = acc_fn(end_labels, end_outputs)\n",
        "\n",
        "        metric_start_loss(start_loss)\n",
        "        metric_end_loss(end_loss)\n",
        "        metric_start_acc(start_acc)\n",
        "        metric_end_acc(end_acc)\n",
        "\n",
        "    return metric_start_loss.result(), metric_end_loss.result(), metric_start_acc.result(), metric_end_acc.result()"
      ],
      "id": "reduced-amsterdam",
      "execution_count": 52,
      "outputs": []
    },
    {
      "cell_type": "code",
      "metadata": {
        "colab": {
          "base_uri": "https://localhost:8080/",
          "height": 567,
          "referenced_widgets": [
            "e5b18c2199aa4324876bfbf0cbe4a67e",
            "f57828a41a364da8b8d0836d6f0e4f34",
            "53968bb9c16b41a89b422661c2dff8b0",
            "38087dcd653e4f29a3eb01bf2ba68593",
            "5b1873adde1e46148a7c8ec1b6dd0381",
            "3c8ff524d98c4b90b37741b220d24b08",
            "e5a98201077e4969a523cf9878a106f2",
            "48b8ccb008bd4082949e3493ce4da91f",
            "bd8973dbf3954071b99e4ef68a881b49",
            "34bf1229dcb24b61971ac7e6f8a1ffff",
            "3501ba1aa65744ec989a9928619ba6ce",
            "e04a5902813b4b11ab40721a0886cb29",
            "a381362dfe054ab8bf2f7135c22c189f",
            "44718fe7a510495cb7ff22de0d6b209e",
            "f34b761ea14d462e8d0116504c4f2432",
            "8a84e55e993f4293b1c42cbf3edd1957",
            "690b480592d1452ab2d3e70745510c53",
            "db932514039a4aa98778080e6a8c62e6",
            "7d5afd15c9f544b8b142cda2acb18ebb",
            "eaeae34adba1411e9983a863e0889162",
            "0185b5fde30643a48024e59def5063d6",
            "20c338c238594fb9bded79c4f2118a8a",
            "09e14a5371444a5cbd9084775cd3ccc2",
            "41c56782879e4bd892782da0bfc50dd7",
            "8b30614d523449469aaa71a223508bb4",
            "76c7404a9fa849a5a9417a0d8b61d104",
            "a129e197082d4b4fbb6cd89f90157e57",
            "730b45faec614bbeaef65693277839c0",
            "77973b4d000244ccb436b47a1c0a305e",
            "d3be6acf85094cdd9e7c3a550b7febea",
            "dff0453210b34d51a9499d59d10e74ff",
            "dcc16fe7b1c24039a4c2228e7e44524b",
            "77e784df45704d94bf989a07e3c512d1",
            "fd8d86020bed49ad9760d61304292d71",
            "26cc4df24eed48f895595e067e5f0803",
            "14b6bf529ee14e05a5f5bbd307246474",
            "4c93563a13d64afa9e68b5cbe2877bb2",
            "9d3a08697bd44c628ef6f12e1f3b66a1",
            "fae3a1303f7a42409b7cc2702e420ee4",
            "a60d2e57a8e2420ab074675b1af7adde",
            "6c3b8854798d4608ac78eafe6fa98961",
            "bfd14965d1a5467d86af93cf1d021ff9",
            "18e59006fd334ef888c66deee6f8ce0d",
            "74ec6b1eb3814b7aa5c8055e0fad5021",
            "3a4db62d155544949b2a72e8244e63d5",
            "2969cc98c3144279b28ddea2f1f6974f",
            "87894d2d25d04174899fec96f2468c3e",
            "323e56a7550c48438a977605e70fde47",
            "5c416b63410d4d9993bf0afe0267da5d",
            "e1b8ecf8535c486e8d0e01167f35123a",
            "da327d760f1f4c5bbd5a004bc416a6a2",
            "5f1adf5322794b26a098c212c6d0e0bf",
            "2c514777dae646188ca562f8fc0cdd40",
            "38e4996a694b4e5f8305a6ceea6f8ebd",
            "ab1b4c8d320f4a26b9e4e6cc55dddad0",
            "04b181ed2dba4c5fa04457d6cce6c4f6",
            "30b061f8ba4f44799d96afd4c7032cb9",
            "8e0da9b754d042ebb04c90d22f2e7df2",
            "829efdb6b9134990aae4b8b94c1bef01",
            "596d86975cc4467e884a68a1ab4766e3",
            "e096b37576f94ba99ced5751bf5b4bb2",
            "45cc1026969242a0ba6dc8a0d7581241",
            "254a75a45a1840d2bd35d86ba537ab8e",
            "24c3727e9a744a72b6abddd324b62cb8",
            "67b97c034b484a109fdb9fa3f3898a6e",
            "0eea56fe2ba84d928c3a5b09c05299d0",
            "87728528e10540b785f1fe1adb6abd38",
            "038971e6671349f187f22e41cfb950c8",
            "23ecec388478466f891aa54482436d7d",
            "202c4916d4064deca0dba435276b92b9",
            "f0ddfa502acb4e39845c394b7c5efb8d",
            "c26c6613e60041a18514425d26f1446a",
            "013c500a8a454f97bcf8048c7f1678fc",
            "40bd2a24f3644f468990c37755493132",
            "24e4b44377f74cd2aebf3a59a78c5ea8",
            "7f8b867e882b4416a640ae12453833fa",
            "cb3d4350d77840ccb8bc1e5ede846153",
            "cc221aec32f04d11b420b1ab1d9a7a34",
            "bdb63bd5c3874dc2aa187c221ffe2646",
            "98000498e38d44d2b180f922724bb491",
            "55ad144360004840849455fa1331163d",
            "b94d6e0714c7468c8f09d4159d64198d",
            "fa2711af1df3465593abffbe4b05411f",
            "85473769b19a41e8af500a818788a212",
            "83ef28a7af0b48728629cbe09ff87ae8",
            "efae922c2e3f4dd78ad68870f1f18e6d",
            "221148b2082c437f972702912e52c5c4",
            "71f45eddf5c946d7bc33729139efa4da",
            "7a191881ee874d1f8c229787fac271f3",
            "1d1a085a0e2042879b366746490e593d",
            "1db47019d1e744efbe4c1c9f8f7cd2e2",
            "c56825e736df4dc2a19acde4d4fc45ac",
            "ccb9e8026954411595a1d781d67bc9c2",
            "d6c011b6044f47d9b05628bdfae47bc3",
            "757f6de08dc247a7997d093886e2607c",
            "04570243ff044f79bb459721d4b36571",
            "c5fbce7bafae4dde9fb88fb2f4212b11",
            "a1ebf99833534c078544865d981dbfce",
            "8a021dc889514dcc8450eeba5d3731b5"
          ]
        },
        "id": "hazardous-fever",
        "outputId": "c929eb73-ad30-4b8f-d6df-28263bd1d847"
      },
      "source": [
        "loss_fn = tf.keras.losses.sparse_categorical_crossentropy\n",
        "acc_fn = tf.keras.metrics.sparse_categorical_accuracy\n",
        "\n",
        "optimizer = tf.keras.optimizers.Adam(learning_rate=5e-4)\n",
        "\n",
        "best_acc = .0\n",
        "patience = 0\n",
        "for epoch in range(10):\n",
        "    train_epoch(model, train_dataset, loss_fn, acc_fn, optimizer)\n",
        "    start_loss, end_loss, start_acc, end_acc = eval_epoch(model, dev_dataset, loss_fn, acc_fn)\n",
        "    print(f'eval {epoch} >> loss: {start_loss:0.4f}, {end_loss:0.4f}, acc: {start_acc:0.4f}, {end_acc:0.4f}')\n",
        "    acc = start_acc + end_acc\n",
        "    if best_acc < acc:\n",
        "        patience = 0\n",
        "        best_acc = acc\n",
        "        model.save_weights(os.path.join(data_dir, \"korquad_bert_none_pretrain.hdf5\"))\n",
        "        print(f'save best model')\n",
        "    else:\n",
        "        patience += 1\n",
        "    if 5 <= patience:\n",
        "        print(f'early stopping')\n",
        "        break"
      ],
      "id": "hazardous-fever",
      "execution_count": 53,
      "outputs": [
        {
          "output_type": "display_data",
          "data": {
            "application/vnd.jupyter.widget-view+json": {
              "model_id": "e5b18c2199aa4324876bfbf0cbe4a67e",
              "version_minor": 0,
              "version_major": 2
            },
            "text/plain": [
              "  0%|          | 0/3749 [00:00<?, ?it/s]"
            ]
          },
          "metadata": {}
        },
        {
          "output_type": "stream",
          "name": "stdout",
          "text": [
            "eval 0 >> loss: 2.0658, 2.4230, acc: 0.4779, 0.4285\n",
            "save best model\n"
          ]
        },
        {
          "output_type": "display_data",
          "data": {
            "application/vnd.jupyter.widget-view+json": {
              "model_id": "e04a5902813b4b11ab40721a0886cb29",
              "version_minor": 0,
              "version_major": 2
            },
            "text/plain": [
              "  0%|          | 0/3749 [00:00<?, ?it/s]"
            ]
          },
          "metadata": {}
        },
        {
          "output_type": "stream",
          "name": "stdout",
          "text": [
            "eval 1 >> loss: 1.8207, 2.1478, acc: 0.5370, 0.4789\n",
            "save best model\n"
          ]
        },
        {
          "output_type": "display_data",
          "data": {
            "application/vnd.jupyter.widget-view+json": {
              "model_id": "09e14a5371444a5cbd9084775cd3ccc2",
              "version_minor": 0,
              "version_major": 2
            },
            "text/plain": [
              "  0%|          | 0/3749 [00:00<?, ?it/s]"
            ]
          },
          "metadata": {}
        },
        {
          "output_type": "stream",
          "name": "stdout",
          "text": [
            "eval 2 >> loss: 1.8620, 2.1651, acc: 0.5381, 0.4828\n",
            "save best model\n"
          ]
        },
        {
          "output_type": "display_data",
          "data": {
            "application/vnd.jupyter.widget-view+json": {
              "model_id": "fd8d86020bed49ad9760d61304292d71",
              "version_minor": 0,
              "version_major": 2
            },
            "text/plain": [
              "  0%|          | 0/3749 [00:00<?, ?it/s]"
            ]
          },
          "metadata": {}
        },
        {
          "output_type": "stream",
          "name": "stdout",
          "text": [
            "eval 3 >> loss: 2.0694, 2.3816, acc: 0.5342, 0.4889\n",
            "save best model\n"
          ]
        },
        {
          "output_type": "display_data",
          "data": {
            "application/vnd.jupyter.widget-view+json": {
              "model_id": "3a4db62d155544949b2a72e8244e63d5",
              "version_minor": 0,
              "version_major": 2
            },
            "text/plain": [
              "  0%|          | 0/3749 [00:00<?, ?it/s]"
            ]
          },
          "metadata": {}
        },
        {
          "output_type": "stream",
          "name": "stdout",
          "text": [
            "eval 4 >> loss: 2.3266, 2.6582, acc: 0.5272, 0.4807\n"
          ]
        },
        {
          "output_type": "display_data",
          "data": {
            "application/vnd.jupyter.widget-view+json": {
              "model_id": "04b181ed2dba4c5fa04457d6cce6c4f6",
              "version_minor": 0,
              "version_major": 2
            },
            "text/plain": [
              "  0%|          | 0/3749 [00:00<?, ?it/s]"
            ]
          },
          "metadata": {}
        },
        {
          "output_type": "stream",
          "name": "stdout",
          "text": [
            "eval 5 >> loss: 2.3444, 2.7201, acc: 0.5260, 0.4665\n"
          ]
        },
        {
          "output_type": "display_data",
          "data": {
            "application/vnd.jupyter.widget-view+json": {
              "model_id": "87728528e10540b785f1fe1adb6abd38",
              "version_minor": 0,
              "version_major": 2
            },
            "text/plain": [
              "  0%|          | 0/3749 [00:00<?, ?it/s]"
            ]
          },
          "metadata": {}
        },
        {
          "output_type": "stream",
          "name": "stdout",
          "text": [
            "eval 6 >> loss: 2.4931, 3.0945, acc: 0.5255, 0.4688\n"
          ]
        },
        {
          "output_type": "display_data",
          "data": {
            "application/vnd.jupyter.widget-view+json": {
              "model_id": "cc221aec32f04d11b420b1ab1d9a7a34",
              "version_minor": 0,
              "version_major": 2
            },
            "text/plain": [
              "  0%|          | 0/3749 [00:00<?, ?it/s]"
            ]
          },
          "metadata": {}
        },
        {
          "output_type": "stream",
          "name": "stdout",
          "text": [
            "eval 7 >> loss: 2.7197, 3.0123, acc: 0.5200, 0.4652\n"
          ]
        },
        {
          "output_type": "display_data",
          "data": {
            "application/vnd.jupyter.widget-view+json": {
              "model_id": "7a191881ee874d1f8c229787fac271f3",
              "version_minor": 0,
              "version_major": 2
            },
            "text/plain": [
              "  0%|          | 0/3749 [00:00<?, ?it/s]"
            ]
          },
          "metadata": {}
        },
        {
          "output_type": "stream",
          "name": "stdout",
          "text": [
            "eval 8 >> loss: 2.7100, 3.1582, acc: 0.5174, 0.4673\n",
            "early stopping\n"
          ]
        }
      ]
    },
    {
      "cell_type": "markdown",
      "metadata": {
        "id": "coupled-loading"
      },
      "source": [
        "# STEP 3. Inference 수행하기"
      ],
      "id": "coupled-loading"
    },
    {
      "cell_type": "code",
      "metadata": {
        "id": "graphic-treatment"
      },
      "source": [
        "def do_predict(model, question, context):\n",
        "    \"\"\"\n",
        "    입력에 대한 답변 생성하는 함수\n",
        "    :param model: model\n",
        "    :param question: 입력 문자열\n",
        "    :param context: 입력 문자열\n",
        "    \"\"\"\n",
        "    q_tokens = vocab.encode_as_pieces(question)[:args.max_query_length]\n",
        "    c_tokens = vocab.encode_as_pieces(context)[:args.max_seq_length - len(q_tokens) - 3]\n",
        "    tokens = ['[CLS]'] + q_tokens + ['[SEP]'] + c_tokens + ['[SEP]']\n",
        "    token_ids = [vocab.piece_to_id(token) for token in tokens]\n",
        "    segments = [0] * (len(q_tokens) + 2) + [1] * (len(c_tokens) + 1)\n",
        "\n",
        "    y_start, y_end = model(np.array([token_ids]), np.array([segments]))\n",
        "    # print(y_start, y_end)\n",
        "    y_start_idx = K.argmax(y_start, axis=-1)[0].numpy()\n",
        "    y_end_idx = K.argmax(y_end, axis=-1)[0].numpy()\n",
        "    answer_tokens = tokens[y_start_idx:y_end_idx + 1]\n",
        "\n",
        "    return vocab.decode_pieces(answer_tokens)"
      ],
      "id": "graphic-treatment",
      "execution_count": 54,
      "outputs": []
    },
    {
      "cell_type": "code",
      "metadata": {
        "colab": {
          "base_uri": "https://localhost:8080/"
        },
        "id": "fiscal-information",
        "outputId": "7250a4b4-7289-40d1-9520-c92a6253f93f"
      },
      "source": [
        "dev_json = os.path.join(data_dir, \"korquad_dev.json\")\n",
        "\n",
        "with open(dev_json) as f:\n",
        "    for i, line in enumerate(f):\n",
        "        data = json.loads(line)\n",
        "        question = vocab.decode_pieces(data['question'])\n",
        "        context = vocab.decode_pieces(data['context'])\n",
        "        answer = data['answer']\n",
        "        answer_predict = do_predict(model, question, context)\n",
        "        if answer in answer_predict:\n",
        "            print(i)\n",
        "            print(\"질문 : \", question)\n",
        "            print(\"지문 : \", context)\n",
        "            print(\"정답 : \", answer)\n",
        "            print(\"예측 : \", answer_predict, \"\\n\")\n",
        "        if 100 < i:\n",
        "            break"
      ],
      "id": "fiscal-information",
      "execution_count": 55,
      "outputs": [
        {
          "output_type": "stream",
          "name": "stdout",
          "text": [
            "0\n",
            "질문 :  임종석이 여의도 농민 폭력 시위를 주도한 혐의로 지명수배 된 날은?\n",
            "지문 :  1989년 2월 15일 여의도 농민 폭력 시위를 주도한 혐의(폭력행위등처벌에관한법률위반)으로 지명수배되었다. 1989년 3월 12일 서울지방검찰청 공안부는 임종석의 사전구속영장을 발부받았다. 같은 해 6월 30일 평양축전에 임수경을 대표로 파견하여 국가보안법위반 혐의가 추가되었다. 경찰은 12월 18일~20일 사이 서울 경희대학교에서 임종석이 성명 발표를 추진하고 있다는 첩보를 입수했고, 12월 18일 오전 7시 40분 경 가스총과 전자봉으로 무장한 특공조 및 대공과 직원 12명 등 22명의 사복 경찰을 승용차 8대에 나누어 경희대학교에 투입했다. 1989년 12월 18일 오전 8시 15분 경 서울청량리경찰서는 호위 학생 5명과 함께 경희대학교 학생회관 건물 계단을 내려오는 임종석을 발견, 검거해 구속을 집행했다. 임종석은 청량리경찰서에서 약 1시간 동안 조사를 받은 뒤 오전 9시 50분 경 서울 장안동의 서울지방경찰청 공안분실로 인계되었다.\n",
            "정답 :  1989년 2월 15일\n",
            "예측 :  1989년 2월 15일 \n",
            "\n",
            "1\n",
            "질문 :  1989년 6월 30일 평양축전에 대표로 파견 된 인물은?\n",
            "지문 :  1989년 2월 15일 여의도 농민 폭력 시위를 주도한 혐의(폭력행위등처벌에관한법률위반)으로 지명수배되었다. 1989년 3월 12일 서울지방검찰청 공안부는 임종석의 사전구속영장을 발부받았다. 같은 해 6월 30일 평양축전에 임수경을 대표로 파견하여 국가보안법위반 혐의가 추가되었다. 경찰은 12월 18일~20일 사이 서울 경희대학교에서 임종석이 성명 발표를 추진하고 있다는 첩보를 입수했고, 12월 18일 오전 7시 40분 경 가스총과 전자봉으로 무장한 특공조 및 대공과 직원 12명 등 22명의 사복 경찰을 승용차 8대에 나누어 경희대학교에 투입했다. 1989년 12월 18일 오전 8시 15분 경 서울청량리경찰서는 호위 학생 5명과 함께 경희대학교 학생회관 건물 계단을 내려오는 임종석을 발견, 검거해 구속을 집행했다. 임종석은 청량리경찰서에서 약 1시간 동안 조사를 받은 뒤 오전 9시 50분 경 서울 장안동의 서울지방경찰청 공안분실로 인계되었다.\n",
            "정답 :  임수경\n",
            "예측 :  임수경을 대표로 파견하여 국가보안법위반 혐의 \n",
            "\n",
            "2\n",
            "질문 :  임종석이 여의도 농민 폭력 시위를 주도한 혐의로 지명수배된 연도는?\n",
            "지문 :  1989년 2월 15일 여의도 농민 폭력 시위를 주도한 혐의(폭력행위등처벌에관한법률위반)으로 지명수배되었다. 1989년 3월 12일 서울지방검찰청 공안부는 임종석의 사전구속영장을 발부받았다. 같은 해 6월 30일 평양축전에 임수경을 대표로 파견하여 국가보안법위반 혐의가 추가되었다. 경찰은 12월 18일~20일 사이 서울 경희대학교에서 임종석이 성명 발표를 추진하고 있다는 첩보를 입수했고, 12월 18일 오전 7시 40분 경 가스총과 전자봉으로 무장한 특공조 및 대공과 직원 12명 등 22명의 사복 경찰을 승용차 8대에 나누어 경희대학교에 투입했다. 1989년 12월 18일 오전 8시 15분 경 서울청량리경찰서는 호위 학생 5명과 함께 경희대학교 학생회관 건물 계단을 내려오는 임종석을 발견, 검거해 구속을 집행했다. 임종석은 청량리경찰서에서 약 1시간 동안 조사를 받은 뒤 오전 9시 50분 경 서울 장안동의 서울지방경찰청 공안분실로 인계되었다.\n",
            "정답 :  1989년\n",
            "예측 :  1989년 \n",
            "\n",
            "6\n",
            "질문 :  임종석이 1989년 2월 15일에 지명수배 받은 혐의는 어떤 시위를 주도했다는 것인가?\n",
            "지문 :  1989년 2월 15일 여의도 농민 폭력 시위를 주도한 혐의(폭력행위등처벌에관한법률위반)으로 지명수배되었다. 1989년 3월 12일 서울지방검찰청 공안부는 임종석의 사전구속영장을 발부받았다. 같은 해 6월 30일 평양축전에 임수경을 대표로 파견하여 국가보안법위반 혐의가 추가되었다. 경찰은 12월 18일~20일 사이 서울 경희대학교에서 임종석이 성명 발표를 추진하고 있다는 첩보를 입수했고, 12월 18일 오전 7시 40분 경 가스총과 전자봉으로 무장한 특공조 및 대공과 직원 12명 등 22명의 사복 경찰을 승용차 8대에 나누어 경희대학교에 투입했다. 1989년 12월 18일 오전 8시 15분 경 서울청량리경찰서는 호위 학생 5명과 함께 경희대학교 학생회관 건물 계단을 내려오는 임종석을 발견, 검거해 구속을 집행했다. 임종석은 청량리경찰서에서 약 1시간 동안 조사를 받은 뒤 오전 9시 50분 경 서울 장안동의 서울지방경찰청 공안분실로 인계되었다.\n",
            "정답 :  여의도 농민 폭력 시위\n",
            "예측 :  여의도 농민 폭력 시위를 주도한 혐의 \n",
            "\n",
            "7\n",
            "질문 :  정부의 헌법개정안 준비 과정에 대해서 청와대 비서실이 아니라 국무회의 중심으로 이뤄졌어야 했다고 지적한 원로 헌법학자는?\n",
            "지문 :  \"내각과 장관들이 소외되고 대통령비서실의 권한이 너무 크다\", \"행보가 비서 본연의 역할을 벗어난다\"는 의견이 제기되었다. 대표적인 예가 10차 개헌안 발표이다. 원로 헌법학자인 허영 경희대 석좌교수는 정부의 헌법개정안 준비 과정에 대해 \"청와대 비서실이 아닌 국무회의 중심으로 이뤄졌어야 했다\"고 지적했다. '국무회의의 심의를 거쳐야 한다'(제89조)는 헌법 규정에 충실하지 않았다는 것이다. 그러면서 \"법무부 장관을 제쳐놓고 민정수석이 개정안을 설명하는 게 이해가 안 된다\"고 지적했다. 민정수석은 국회의원에 대해 책임지는 법무부 장관도 아니고, 국민에 대해 책임지는 사람도 아니기 때문에 정당성이 없고, 단지 대통령의 신임이 있을 뿐이라는 것이다. 또한 국무총리 선출 방식에 대한 기자의 질문에 \"문 대통령도 취임 전에 국무총리에게 실질적 권한을 주겠다고 했지만 그러지 못하고 있다. 대통령비서실장만도 못한 권한을 행사하고 있다.\"고 답변했다.\n",
            "정답 :  허영\n",
            "예측 :  허영 경희대 석좌 \n",
            "\n",
            "9\n",
            "질문 :  국무회의의 심의를 거쳐야 한다는 헌법 제 몇 조의 내용인가?\n",
            "지문 :  \"내각과 장관들이 소외되고 대통령비서실의 권한이 너무 크다\", \"행보가 비서 본연의 역할을 벗어난다\"는 의견이 제기되었다. 대표적인 예가 10차 개헌안 발표이다. 원로 헌법학자인 허영 경희대 석좌교수는 정부의 헌법개정안 준비 과정에 대해 \"청와대 비서실이 아닌 국무회의 중심으로 이뤄졌어야 했다\"고 지적했다. '국무회의의 심의를 거쳐야 한다'(제89조)는 헌법 규정에 충실하지 않았다는 것이다. 그러면서 \"법무부 장관을 제쳐놓고 민정수석이 개정안을 설명하는 게 이해가 안 된다\"고 지적했다. 민정수석은 국회의원에 대해 책임지는 법무부 장관도 아니고, 국민에 대해 책임지는 사람도 아니기 때문에 정당성이 없고, 단지 대통령의 신임이 있을 뿐이라는 것이다. 또한 국무총리 선출 방식에 대한 기자의 질문에 \"문 대통령도 취임 전에 국무총리에게 실질적 권한을 주겠다고 했지만 그러지 못하고 있다. 대통령비서실장만도 못한 권한을 행사하고 있다.\"고 답변했다.\n",
            "정답 :  제89조\n",
            "예측 :  한다'(제89조)는 \n",
            "\n",
            "17\n",
            "질문 :  알렉산더 헤이그가 로널드 레이건 대통령 밑에서 맡은 직책은 무엇이었나?\n",
            "지문 :  알렉산더 메이그스 헤이그 2세(영어: Alexander Meigs Haig, Jr., 1924년 12월 2일 ~ 2010년 2월 20일)는 미국의 국무 장관을 지낸 미국의 군인, 관료 및 정치인이다. 로널드 레이건 대통령 밑에서 국무장관을 지냈으며, 리처드 닉슨과 제럴드 포드 대통령 밑에서 백악관 비서실장을 지냈다. 또한 그는 미국 군대에서 2번째로 높은 직위인 미국 육군 부참모 총장과 나토 및 미국 군대의 유럽연합군 최고사령관이었다. 한국 전쟁 시절 더글러스 맥아더 유엔군 사령관의 참모로 직접 참전하였으며, 로널드 레이건 정부 출범당시 초대 국무장관직을 맡아 1980년대 대한민국과 미국의 관계를 조율해 왔다. 저서로 회고록 《경고:현실주의, 레이건과 외교 정책》(1984년 발간)이 있다.\n",
            "정답 :  국무장관\n",
            "예측 :  국무장관 \n",
            "\n",
            "20\n",
            "질문 :  알렉산더 헤이그가 미국 육군사관학교로 임명받은 해는 언제인가?\n",
            "지문 :  노터데임 대학교에서 2년간 합리적으로 심각한 공부를 한 후 헤이그는 1944년 미국 육군사관학교로 임명을 획득하여 자신의 어린 시절을 군사 경력의 야망으로 알아챘다. 그 경력은 헤이그의 학문적 경연이 암시하려고 한것보다 더욱 극적이었으며 그는 1947년 310의 동기병에서 217번째 사관으로서 졸업하였다. 22세의 소위로 헤이그는 처음에 캔자스 주 포트라일리에서 정통 제병 연합부대로, 그러고나서 켄터키 주 포트녹스에 있는 기갑 훈련소로 갔다. 그후에 그는 제1 기병 사단으로 선임되고 그러고나서 일본에서 점령군의 임무와 기력이 없는 훈련을 하였다. 그는 1950년 5월 한번 자신의 사령관 알론조 폭스 장군의 딸 퍼트리샤 앤토이넷 폭스와 결혼하여 슬하 3명의 자식을 두었다.\n",
            "정답 :  1944년\n",
            "예측 :  1944년 \n",
            "\n",
            "21\n",
            "질문 :  알렉산더 헤이그는 퍼트리샤 앤토이넷 폭스와 결혼해 몇 명의 자녀를 두었는가?\n",
            "지문 :  노터데임 대학교에서 2년간 합리적으로 심각한 공부를 한 후 헤이그는 1944년 미국 육군사관학교로 임명을 획득하여 자신의 어린 시절을 군사 경력의 야망으로 알아챘다. 그 경력은 헤이그의 학문적 경연이 암시하려고 한것보다 더욱 극적이었으며 그는 1947년 310의 동기병에서 217번째 사관으로서 졸업하였다. 22세의 소위로 헤이그는 처음에 캔자스 주 포트라일리에서 정통 제병 연합부대로, 그러고나서 켄터키 주 포트녹스에 있는 기갑 훈련소로 갔다. 그후에 그는 제1 기병 사단으로 선임되고 그러고나서 일본에서 점령군의 임무와 기력이 없는 훈련을 하였다. 그는 1950년 5월 한번 자신의 사령관 알론조 폭스 장군의 딸 퍼트리샤 앤토이넷 폭스와 결혼하여 슬하 3명의 자식을 두었다.\n",
            "정답 :  3명\n",
            "예측 :  3명의 \n",
            "\n",
            "27\n",
            "질문 :  헤이그가 군에서 퇴역한 해는 언제인가?\n",
            "지문 :  헤이그는 닉슨 대통령이 그를 사성 장군과 육군 부참모로 진급시킬 때 집중 광선과 논쟁으로 들어갔다. 헤이그를 군사의 최상으로 밀어넣은 닉슨의 행동은 대통령의 남자들을 다양한 연방 대리법에서 권한의 직우들로 놓은 노력과 함께 일치였다. 하지만 그는 곧 백악관으로 돌아가 1973년부터 1974년까지 대통령 특별 보좌관을 지냈다. 워터게이트 사건이 일어난지 한달 후, 헤이그는 포위된 닉슨 대통령을 위한 치명적 역할을 하였다. 그일은 8월 닉슨의 사임과 제럴드 포드의 대통령으로 계승으로 이끈 협상들에서 헤이그가 수단이었던 우연이 아니었다. 곧 후에 헤이그는 미국 유럽 연합군 최고사령부의 최고 사령관으로 임명되었다. 그는 나토에서 다음 5년을 보내고 1979년 군에서 퇴역하여 미국 기술 주식 회사의 우두머리가 되었다.\n",
            "정답 :  1979년\n",
            "예측 :  1979년 \n",
            "\n",
            "30\n",
            "질문 :  헤이그가 군에서 퇴역한 년도는 몇년도입니까?\n",
            "지문 :  헤이그는 닉슨 대통령이 그를 사성 장군과 육군 부참모로 진급시킬 때 집중 광선과 논쟁으로 들어갔다. 헤이그를 군사의 최상으로 밀어넣은 닉슨의 행동은 대통령의 남자들을 다양한 연방 대리법에서 권한의 직우들로 놓은 노력과 함께 일치였다. 하지만 그는 곧 백악관으로 돌아가 1973년부터 1974년까지 대통령 특별 보좌관을 지냈다. 워터게이트 사건이 일어난지 한달 후, 헤이그는 포위된 닉슨 대통령을 위한 치명적 역할을 하였다. 그일은 8월 닉슨의 사임과 제럴드 포드의 대통령으로 계승으로 이끈 협상들에서 헤이그가 수단이었던 우연이 아니었다. 곧 후에 헤이그는 미국 유럽 연합군 최고사령부의 최고 사령관으로 임명되었다. 그는 나토에서 다음 5년을 보내고 1979년 군에서 퇴역하여 미국 기술 주식 회사의 우두머리가 되었다.\n",
            "정답 :  1979년\n",
            "예측 :  1979년 \n",
            "\n",
            "32\n",
            "질문 :  헤이그가 군대에서 퇴역한 년도는?\n",
            "지문 :  헤이그는 닉슨 대통령이 그를 사성 장군과 육군 부참모로 진급시킬 때 집중 광선과 논쟁으로 들어갔다. 헤이그를 군사의 최상으로 밀어넣은 닉슨의 행동은 대통령의 남자들을 다양한 연방 대리법에서 권한의 직우들로 놓은 노력과 함께 일치였다. 하지만 그는 곧 백악관으로 돌아가 1973년부터 1974년까지 대통령 특별 보좌관을 지냈다. 워터게이트 사건이 일어난지 한달 후, 헤이그는 포위된 닉슨 대통령을 위한 치명적 역할을 하였다. 그일은 8월 닉슨의 사임과 제럴드 포드의 대통령으로 계승으로 이끈 협상들에서 헤이그가 수단이었던 우연이 아니었다. 곧 후에 헤이그는 미국 유럽 연합군 최고사령부의 최고 사령관으로 임명되었다. 그는 나토에서 다음 5년을 보내고 1979년 군에서 퇴역하여 미국 기술 주식 회사의 우두머리가 되었다.\n",
            "정답 :  1979년\n",
            "예측 :  1979년 \n",
            "\n",
            "35\n",
            "질문 :  헤이그가 사적생활을 하다가 정계로 돌아갔던 해는 언제인가?\n",
            "지문 :  그의 편에 헤이그는 지구촌의 논점들의 국내적 정치 노력들에 관해서만 근심한 레이건의 가까운 조언자들을 \"외교 정책의 아마추어\"로 묘사하였다. 1982년 6월 25일 결국적으로 온 그의 국무장관으로서 사임은 불가능한 상황이 된 것을 끝냈다. 헤이그는 개인적 생활로 돌아갔다가 1988년 대통령 선거를 위한 공화당 후보직을 안정시키는 시도를 하는 데 충분하게 정계로 돌아갔으나 후보직을 이기는 데 성원을 가지지 않았다. 그는 외교 정책 논쟁들에 연설자로서 활동적으로 남아있었으나 그의 전념은 정치에서 개인적 생활로 옮겨졌다. 그는 Worldwide Associates Inc.의 국제적 상담 회사에 의하여 기용되었고, 그 기구의 의장과 회장이 되었다.\n",
            "정답 :  1988년\n",
            "예측 :  1988년 \n",
            "\n",
            "37\n",
            "질문 :  헤이그가 정계로 돌아간 년도는 몇년도입니까?\n",
            "지문 :  그의 편에 헤이그는 지구촌의 논점들의 국내적 정치 노력들에 관해서만 근심한 레이건의 가까운 조언자들을 \"외교 정책의 아마추어\"로 묘사하였다. 1982년 6월 25일 결국적으로 온 그의 국무장관으로서 사임은 불가능한 상황이 된 것을 끝냈다. 헤이그는 개인적 생활로 돌아갔다가 1988년 대통령 선거를 위한 공화당 후보직을 안정시키는 시도를 하는 데 충분하게 정계로 돌아갔으나 후보직을 이기는 데 성원을 가지지 않았다. 그는 외교 정책 논쟁들에 연설자로서 활동적으로 남아있었으나 그의 전념은 정치에서 개인적 생활로 옮겨졌다. 그는 Worldwide Associates Inc.의 국제적 상담 회사에 의하여 기용되었고, 그 기구의 의장과 회장이 되었다.\n",
            "정답 :  1988년\n",
            "예측 :  1988년 \n",
            "\n",
            "38\n",
            "질문 :  레이건 대통령의 조언자들을 헤이그는 무엇이라고 묘사하였나?\n",
            "지문 :  그의 편에 헤이그는 지구촌의 논점들의 국내적 정치 노력들에 관해서만 근심한 레이건의 가까운 조언자들을 \"외교 정책의 아마추어\"로 묘사하였다. 1982년 6월 25일 결국적으로 온 그의 국무장관으로서 사임은 불가능한 상황이 된 것을 끝냈다. 헤이그는 개인적 생활로 돌아갔다가 1988년 대통령 선거를 위한 공화당 후보직을 안정시키는 시도를 하는 데 충분하게 정계로 돌아갔으나 후보직을 이기는 데 성원을 가지지 않았다. 그는 외교 정책 논쟁들에 연설자로서 활동적으로 남아있었으나 그의 전념은 정치에서 개인적 생활로 옮겨졌다. 그는 Worldwide Associates Inc.의 국제적 상담 회사에 의하여 기용되었고, 그 기구의 의장과 회장이 되었다.\n",
            "정답 :  외교 정책의 아마추어\n",
            "예측 :  \"외교 정책의 아마추어\"로 \n",
            "\n",
            "39\n",
            "질문 :  헤이그가 정계로 다시 돌아간 년도는?\n",
            "지문 :  그의 편에 헤이그는 지구촌의 논점들의 국내적 정치 노력들에 관해서만 근심한 레이건의 가까운 조언자들을 \"외교 정책의 아마추어\"로 묘사하였다. 1982년 6월 25일 결국적으로 온 그의 국무장관으로서 사임은 불가능한 상황이 된 것을 끝냈다. 헤이그는 개인적 생활로 돌아갔다가 1988년 대통령 선거를 위한 공화당 후보직을 안정시키는 시도를 하는 데 충분하게 정계로 돌아갔으나 후보직을 이기는 데 성원을 가지지 않았다. 그는 외교 정책 논쟁들에 연설자로서 활동적으로 남아있었으나 그의 전념은 정치에서 개인적 생활로 옮겨졌다. 그는 Worldwide Associates Inc.의 국제적 상담 회사에 의하여 기용되었고, 그 기구의 의장과 회장이 되었다.\n",
            "정답 :  1988년\n",
            "예측 :  1988년 \n",
            "\n",
            "40\n",
            "질문 :  하나님의 명령에 배를 만들고 가족과 짐승들을 배에 태워 홍수를 피한 사람은 누구인가?\n",
            "지문 :  노아는 하나님의 명령에 따라 배를 만들고 가족과 정결한 짐승 암수 일곱 마리씩, 부정한 짐승 암수 한 마리씩(혹은 두 마리씩; 사본에 따라 다름), 그리고 새 암수 일곱 마리씩을 싣고 밀어닥친 홍수를 피하였다. 모든 사람들이 타락한 생활에 빠져 있어 하나님이 홍수로 심판하려 할 때 홀로 바르게 살던 노아는 하나님의 특별한 계시로 홍수가 올 것을 미리 알게 된다. 그는 길이 300 규빗, 너비 50 규빗, 높이 30 규빗(고대의 1규빗은 팔꿈치에서 가운데 손가락끝까지의 길이로 약 45~46cm를 가리킴), 상 ·중 ·하 3층으로 된 방주를 만들어 8명의 가족과, 한 쌍씩의 여러 동물을 데리고 이 방주에 탄다. 대홍수를 만나 모든 생물(물고기 제외)이 전멸하고 말았지만, 이 방주에 탔던 노아의 가족과 동물들은 살아 남았다고 한다.〈창세기〉 6장 14~16절에 보면 길이 300규빗 (약 135m), 폭 50 규빗 (약 22.5m), 높이 30 규빗 (약 13.5m)인 이 배는 지붕과 문을 달고 배 안은 3층으로 만들어져 있었다. 선체(船體)는 고페르나무(잣나무)로 되고 안쪽에는 역청(아스팔트와 비슷한 성분)을 칠하여 굳혔다고 기록하고 있다.\n",
            "정답 :  노아\n",
            "예측 :  노아는 \n",
            "\n",
            "42\n",
            "질문 :  노아의 방주의 선체는 어떠한 나무로 만들었는가?\n",
            "지문 :  노아는 하나님의 명령에 따라 배를 만들고 가족과 정결한 짐승 암수 일곱 마리씩, 부정한 짐승 암수 한 마리씩(혹은 두 마리씩; 사본에 따라 다름), 그리고 새 암수 일곱 마리씩을 싣고 밀어닥친 홍수를 피하였다. 모든 사람들이 타락한 생활에 빠져 있어 하나님이 홍수로 심판하려 할 때 홀로 바르게 살던 노아는 하나님의 특별한 계시로 홍수가 올 것을 미리 알게 된다. 그는 길이 300 규빗, 너비 50 규빗, 높이 30 규빗(고대의 1규빗은 팔꿈치에서 가운데 손가락끝까지의 길이로 약 45~46cm를 가리킴), 상 ·중 ·하 3층으로 된 방주를 만들어 8명의 가족과, 한 쌍씩의 여러 동물을 데리고 이 방주에 탄다. 대홍수를 만나 모든 생물(물고기 제외)이 전멸하고 말았지만, 이 방주에 탔던 노아의 가족과 동물들은 살아 남았다고 한다.〈창세기〉 6장 14~16절에 보면 길이 300규빗 (약 135m), 폭 50 규빗 (약 22.5m), 높이 30 규빗 (약 13.5m)인 이 배는 지붕과 문을 달고 배 안은 3층으로 만들어져 있었다. 선체(船體)는 고페르나무(잣나무)로 되고 안쪽에는 역청(아스팔트와 비슷한 성분)을 칠하여 굳혔다고 기록하고 있다.\n",
            "정답 :  고페르나무\n",
            "예측 :  고페르나무 \n",
            "\n",
            "43\n",
            "질문 :  노아는 누구의 명령에 따라 배를 만들고 가족과 동물들을 태웠는가?\n",
            "지문 :  노아는 하나님의 명령에 따라 배를 만들고 가족과 정결한 짐승 암수 일곱 마리씩, 부정한 짐승 암수 한 마리씩(혹은 두 마리씩; 사본에 따라 다름), 그리고 새 암수 일곱 마리씩을 싣고 밀어닥친 홍수를 피하였다. 모든 사람들이 타락한 생활에 빠져 있어 하나님이 홍수로 심판하려 할 때 홀로 바르게 살던 노아는 하나님의 특별한 계시로 홍수가 올 것을 미리 알게 된다. 그는 길이 300 규빗, 너비 50 규빗, 높이 30 규빗(고대의 1규빗은 팔꿈치에서 가운데 손가락끝까지의 길이로 약 45~46cm를 가리킴), 상 ·중 ·하 3층으로 된 방주를 만들어 8명의 가족과, 한 쌍씩의 여러 동물을 데리고 이 방주에 탄다. 대홍수를 만나 모든 생물(물고기 제외)이 전멸하고 말았지만, 이 방주에 탔던 노아의 가족과 동물들은 살아 남았다고 한다.〈창세기〉 6장 14~16절에 보면 길이 300규빗 (약 135m), 폭 50 규빗 (약 22.5m), 높이 30 규빗 (약 13.5m)인 이 배는 지붕과 문을 달고 배 안은 3층으로 만들어져 있었다. 선체(船體)는 고페르나무(잣나무)로 되고 안쪽에는 역청(아스팔트와 비슷한 성분)을 칠하여 굳혔다고 기록하고 있다.\n",
            "정답 :  하나님\n",
            "예측 :  하나님의 \n",
            "\n",
            "44\n",
            "질문 :  노아의 방주는 몇층으로 구성되어 있었는가?\n",
            "지문 :  노아는 하나님의 명령에 따라 배를 만들고 가족과 정결한 짐승 암수 일곱 마리씩, 부정한 짐승 암수 한 마리씩(혹은 두 마리씩; 사본에 따라 다름), 그리고 새 암수 일곱 마리씩을 싣고 밀어닥친 홍수를 피하였다. 모든 사람들이 타락한 생활에 빠져 있어 하나님이 홍수로 심판하려 할 때 홀로 바르게 살던 노아는 하나님의 특별한 계시로 홍수가 올 것을 미리 알게 된다. 그는 길이 300 규빗, 너비 50 규빗, 높이 30 규빗(고대의 1규빗은 팔꿈치에서 가운데 손가락끝까지의 길이로 약 45~46cm를 가리킴), 상 ·중 ·하 3층으로 된 방주를 만들어 8명의 가족과, 한 쌍씩의 여러 동물을 데리고 이 방주에 탄다. 대홍수를 만나 모든 생물(물고기 제외)이 전멸하고 말았지만, 이 방주에 탔던 노아의 가족과 동물들은 살아 남았다고 한다.〈창세기〉 6장 14~16절에 보면 길이 300규빗 (약 135m), 폭 50 규빗 (약 22.5m), 높이 30 규빗 (약 13.5m)인 이 배는 지붕과 문을 달고 배 안은 3층으로 만들어져 있었다. 선체(船體)는 고페르나무(잣나무)로 되고 안쪽에는 역청(아스팔트와 비슷한 성분)을 칠하여 굳혔다고 기록하고 있다.\n",
            "정답 :  3층\n",
            "예측 :  3층으로 된 방주를 \n",
            "\n",
            "47\n",
            "질문 :  노아의 방주는 총 몇층으로 되어 있었는가?\n",
            "지문 :  노아는 하나님의 명령에 따라 배를 만들고 가족과 정결한 짐승 암수 일곱 마리씩, 부정한 짐승 암수 한 마리씩(혹은 두 마리씩; 사본에 따라 다름), 그리고 새 암수 일곱 마리씩을 싣고 밀어닥친 홍수를 피하였다. 모든 사람들이 타락한 생활에 빠져 있어 하나님이 홍수로 심판하려 할 때 홀로 바르게 살던 노아는 하나님의 특별한 계시로 홍수가 올 것을 미리 알게 된다. 그는 길이 300 규빗, 너비 50 규빗, 높이 30 규빗(고대의 1규빗은 팔꿈치에서 가운데 손가락끝까지의 길이로 약 45~46cm를 가리킴), 상 ·중 ·하 3층으로 된 방주를 만들어 8명의 가족과, 한 쌍씩의 여러 동물을 데리고 이 방주에 탄다. 대홍수를 만나 모든 생물(물고기 제외)이 전멸하고 말았지만, 이 방주에 탔던 노아의 가족과 동물들은 살아 남았다고 한다.〈창세기〉 6장 14~16절에 보면 길이 300규빗 (약 135m), 폭 50 규빗 (약 22.5m), 높이 30 규빗 (약 13.5m)인 이 배는 지붕과 문을 달고 배 안은 3층으로 만들어져 있었다. 선체(船體)는 고페르나무(잣나무)로 되고 안쪽에는 역청(아스팔트와 비슷한 성분)을 칠하여 굳혔다고 기록하고 있다.\n",
            "정답 :  3층\n",
            "예측 :  3층으로 \n",
            "\n",
            "51\n",
            "질문 :  역사학과 과학의 발달이 미비했을 때 전통 신학계에서는 어떠한 시작으로 노아의 방주를 역사적 사실로 기술하였는가?\n",
            "지문 :  역사학과 과학이 발달하지 않았던 과거 전통 신학계에서는 근본주의적 시각을 받아들여 노아의 방주를 역사적 사실로 기술하려 했으며, 이러한 관점은 아직도 과학과 역사학에 어두운 보수적 근본주의계열의 개신교에서만 받아들여지고 있다. 하지만 역사학과 과학의 발달로 인해, 노아의 방주의 실존에 대한 의문이 제기가 되고, 세계적 홍수가 존재할 수 없음이 밝혀짐에 따라 현대 신학계에서는 비록 노아의 홍수가 과학적으로 실존하지는 않았지만 그 자체의 의미는 신학적으로 매우 중요하며, 이에 대한 해석은 다양하게 이루어지고 있으며, 대부분의 기독교(가톨릭, 개신교를 포함한 대부분)에서는 노아의 방주는 상징적 의미로 받아들여진다. 그러므로 과학과는 상관없이 신학적으로 노아의 방주 자체의 의미는 중요하게 해석된다고 한다\n",
            "정답 :  근본주의적\n",
            "예측 :  근본주의적 시각 \n",
            "\n",
            "55\n",
            "질문 :  노아의 방주의 실존에 대한 의문을 제기한 학문은?\n",
            "지문 :  역사학과 과학이 발달하지 않았던 과거 전통 신학계에서는 근본주의적 시각을 받아들여 노아의 방주를 역사적 사실로 기술하려 했으며, 이러한 관점은 아직도 과학과 역사학에 어두운 보수적 근본주의계열의 개신교에서만 받아들여지고 있다. 하지만 역사학과 과학의 발달로 인해, 노아의 방주의 실존에 대한 의문이 제기가 되고, 세계적 홍수가 존재할 수 없음이 밝혀짐에 따라 현대 신학계에서는 비록 노아의 홍수가 과학적으로 실존하지는 않았지만 그 자체의 의미는 신학적으로 매우 중요하며, 이에 대한 해석은 다양하게 이루어지고 있으며, 대부분의 기독교(가톨릭, 개신교를 포함한 대부분)에서는 노아의 방주는 상징적 의미로 받아들여진다. 그러므로 과학과는 상관없이 신학적으로 노아의 방주 자체의 의미는 중요하게 해석된다고 한다\n",
            "정답 :  역사학과 과학\n",
            "예측 :  역사학과 과학 \n",
            "\n",
            "56\n",
            "질문 :  제칠일안식교에서 비롯된 의사과학의 한 종류인 유사지질학의 이름은 무엇인가?\n",
            "지문 :  역사학과 과학의 발달이 더뎠던 고대사회에서는, 성경이 단순한 교리적인 부분 뿐 아니라 역사책으로서의 권위도 높았기에 노아의 방주를 역사적인 존재로서 다루고 있었다. 이는 제칠일안식교에서 비롯된 의사과학의 한 종류인 유사지질학인 홍수지질학과 같은 것에 영향을 주었으며, 과거 신학에서는 이러한 근본주의적 해석을 받아들여 역사와 사회적인 모든 부분에 있어 성경을 교과서로 채택할 것을 촉구했다. 이러한 홍수지질학을 주장했던 유사지질학자들은 성경에 나오는 노아의 홍수가 어딘가에 그 흔적이 남아 있을것이라고 주장하며 노아의 방주를 찾기 위한 노력을 했다고 주장한다. 이들은 같은 메소포타미아 지방의 신화인 이슬람교 경전이나 길가메쉬 서사시등의 신화를 들어서 이를 근거라고 주장하기도 했다. 그러나 이러한 전통적 근본주의적 시각은 과거에는 상당히 힘을 얻었으나, 역사학과 과학의 발달에 따라 힘을 잃게 되었고, 홍수지질학은 유사과학으로서 남게 되었다. 현대에는 뒤의 실존논란에서 다루는 것처럼 이러한 근본주의적 해석은 비과학적인 해석으로 여기는 것이 일반적이지만, 남침례교로 대표되는 극보수주의계열 기독교에서는 아직도 이것이 받아들여지고 있다.\n",
            "정답 :  홍수지질학\n",
            "예측 :  홍수지질학과 \n",
            "\n",
            "57\n",
            "질문 :  극보수주의계열의 기독교이자 아직도 노아의 홍수가 있었다고 주장하는 곳은 어디인가?\n",
            "지문 :  역사학과 과학의 발달이 더뎠던 고대사회에서는, 성경이 단순한 교리적인 부분 뿐 아니라 역사책으로서의 권위도 높았기에 노아의 방주를 역사적인 존재로서 다루고 있었다. 이는 제칠일안식교에서 비롯된 의사과학의 한 종류인 유사지질학인 홍수지질학과 같은 것에 영향을 주었으며, 과거 신학에서는 이러한 근본주의적 해석을 받아들여 역사와 사회적인 모든 부분에 있어 성경을 교과서로 채택할 것을 촉구했다. 이러한 홍수지질학을 주장했던 유사지질학자들은 성경에 나오는 노아의 홍수가 어딘가에 그 흔적이 남아 있을것이라고 주장하며 노아의 방주를 찾기 위한 노력을 했다고 주장한다. 이들은 같은 메소포타미아 지방의 신화인 이슬람교 경전이나 길가메쉬 서사시등의 신화를 들어서 이를 근거라고 주장하기도 했다. 그러나 이러한 전통적 근본주의적 시각은 과거에는 상당히 힘을 얻었으나, 역사학과 과학의 발달에 따라 힘을 잃게 되었고, 홍수지질학은 유사과학으로서 남게 되었다. 현대에는 뒤의 실존논란에서 다루는 것처럼 이러한 근본주의적 해석은 비과학적인 해석으로 여기는 것이 일반적이지만, 남침례교로 대표되는 극보수주의계열 기독교에서는 아직도 이것이 받아들여지고 있다.\n",
            "정답 :  남침례교\n",
            "예측 :  남침례교 \n",
            "\n",
            "59\n",
            "질문 :  역사학과 과학의 발달로 홍수지질학은 어떤 과학으로 남게 되었는가?\n",
            "지문 :  역사학과 과학의 발달이 더뎠던 고대사회에서는, 성경이 단순한 교리적인 부분 뿐 아니라 역사책으로서의 권위도 높았기에 노아의 방주를 역사적인 존재로서 다루고 있었다. 이는 제칠일안식교에서 비롯된 의사과학의 한 종류인 유사지질학인 홍수지질학과 같은 것에 영향을 주었으며, 과거 신학에서는 이러한 근본주의적 해석을 받아들여 역사와 사회적인 모든 부분에 있어 성경을 교과서로 채택할 것을 촉구했다. 이러한 홍수지질학을 주장했던 유사지질학자들은 성경에 나오는 노아의 홍수가 어딘가에 그 흔적이 남아 있을것이라고 주장하며 노아의 방주를 찾기 위한 노력을 했다고 주장한다. 이들은 같은 메소포타미아 지방의 신화인 이슬람교 경전이나 길가메쉬 서사시등의 신화를 들어서 이를 근거라고 주장하기도 했다. 그러나 이러한 전통적 근본주의적 시각은 과거에는 상당히 힘을 얻었으나, 역사학과 과학의 발달에 따라 힘을 잃게 되었고, 홍수지질학은 유사과학으로서 남게 되었다. 현대에는 뒤의 실존논란에서 다루는 것처럼 이러한 근본주의적 해석은 비과학적인 해석으로 여기는 것이 일반적이지만, 남침례교로 대표되는 극보수주의계열 기독교에서는 아직도 이것이 받아들여지고 있다.\n",
            "정답 :  유사과학\n",
            "예측 :  유사과학 \n",
            "\n",
            "60\n",
            "질문 :  현대에 노아의 방주에 대학 근본주의적 해석은 어떻게 여겨지는가?\n",
            "지문 :  역사학과 과학의 발달이 더뎠던 고대사회에서는, 성경이 단순한 교리적인 부분 뿐 아니라 역사책으로서의 권위도 높았기에 노아의 방주를 역사적인 존재로서 다루고 있었다. 이는 제칠일안식교에서 비롯된 의사과학의 한 종류인 유사지질학인 홍수지질학과 같은 것에 영향을 주었으며, 과거 신학에서는 이러한 근본주의적 해석을 받아들여 역사와 사회적인 모든 부분에 있어 성경을 교과서로 채택할 것을 촉구했다. 이러한 홍수지질학을 주장했던 유사지질학자들은 성경에 나오는 노아의 홍수가 어딘가에 그 흔적이 남아 있을것이라고 주장하며 노아의 방주를 찾기 위한 노력을 했다고 주장한다. 이들은 같은 메소포타미아 지방의 신화인 이슬람교 경전이나 길가메쉬 서사시등의 신화를 들어서 이를 근거라고 주장하기도 했다. 그러나 이러한 전통적 근본주의적 시각은 과거에는 상당히 힘을 얻었으나, 역사학과 과학의 발달에 따라 힘을 잃게 되었고, 홍수지질학은 유사과학으로서 남게 되었다. 현대에는 뒤의 실존논란에서 다루는 것처럼 이러한 근본주의적 해석은 비과학적인 해석으로 여기는 것이 일반적이지만, 남침례교로 대표되는 극보수주의계열 기독교에서는 아직도 이것이 받아들여지고 있다.\n",
            "정답 :  비과학적인 해석\n",
            "예측 :  비과학적인 해석 \n",
            "\n",
            "63\n",
            "질문 :  노아의 방주가 역사적으로 실재했다는 주장은 무엇이 존재하지 않아 학계로부터 전혀 인정받지 못하고 있는가?\n",
            "지문 :  물론 노아의 방주가 신학과 신앙에서 중요한 영향을 차지하는 것은 사실이나, 현재 노아의 방주가 역사적으로 실존한다는 주장은 그 증거가 존재하지 않기에 관련 학계로부터 전혀 인정받지 못하고 있으며 그 실존과 안정성에 대한 수많은 논란이 있다. 한국창조과학회 등에서는 제칠일안식교를 기반으로 한 홍수지질학적 주장들을을 내어 놓고 있지만, 사실과 다른 근거들을 바탕으로 주장하므로 신뢰하기 힘든 것들이 전부라 할 수 있다. 그러므로 현재 노아의 방주가 실존한다는 주장은 그 증거가 존재하지 않기에 관련 학계로부터 전혀 인정받지 못하고 있다. 모든 과학관련 학계에서는 노아의 방주의 구조나 재질등이 실제로 존재할 수 없는 설화속 이야기라는 데에 동의하고 있다.\n",
            "정답 :  증거\n",
            "예측 :  한다는 주장은 그 증거가 존재하지 않기에 관련 학계 \n",
            "\n",
            "64\n",
            "질문 :  한국에서 홍수지질학적 주장들을 내어 놓고 있는 집단은?\n",
            "지문 :  물론 노아의 방주가 신학과 신앙에서 중요한 영향을 차지하는 것은 사실이나, 현재 노아의 방주가 역사적으로 실존한다는 주장은 그 증거가 존재하지 않기에 관련 학계로부터 전혀 인정받지 못하고 있으며 그 실존과 안정성에 대한 수많은 논란이 있다. 한국창조과학회 등에서는 제칠일안식교를 기반으로 한 홍수지질학적 주장들을을 내어 놓고 있지만, 사실과 다른 근거들을 바탕으로 주장하므로 신뢰하기 힘든 것들이 전부라 할 수 있다. 그러므로 현재 노아의 방주가 실존한다는 주장은 그 증거가 존재하지 않기에 관련 학계로부터 전혀 인정받지 못하고 있다. 모든 과학관련 학계에서는 노아의 방주의 구조나 재질등이 실제로 존재할 수 없는 설화속 이야기라는 데에 동의하고 있다.\n",
            "정답 :  한국창조과학회\n",
            "예측 :  한국창조과학회 등에서는 제칠일안식교를 \n",
            "\n",
            "67\n",
            "질문 :  노아의 방주는 무엇으로 만들었기 때문에 현재까지 남아 있는 것이 불가능한가?\n",
            "지문 :  일반적으로 터키의 아라랏 산의 경우, 실제 성경 속에 등장하는 아라랏 산은 지금 아라랏이라 불리는 하나의 산이 아니라 당시 아라랏이라고 불리던 광대한 지역의 산들을 모두 가리키는 표현이라는 주장도 나와 있으며, 또한 목재로 만들어진 방주가 현재까지 남아있을 수는 없다는 비판도 받고 있다. 예를 들어, 1955년 프랑스의 탐험가인 Fernand Navarra가 발견한 목재 파편의 경우, 스페인의 임업 연구소에서 목재의 특성을 토대로 5000년 전의 것이라고 밝히긴 했으나 그 신빙성에 문제점이 있었고 후에 방사성 동위원소 측정법 등의 첨단 과학의 도움을 받은 5개 연구소에서 모두 기원 이후의 시기로 연대를 측정했다. 2009년 뿐 아니라 거의 수년에 한번씩 어디선가 노아의 방주를 발견했다는 주장들이 제시되었지만, 심지어 같은 창조과학을 주장하는 사람들에게조차 비판받을 정도였다. 노아의 방주가 다른 여러 지방에서 발견되었다는 주장이 있으나 너무나 다양한 지방(중국, 터키, 인도 등)에 걸쳐있고, 그 주장도 각각 제각각이므로 신빙성이 없다. 예를 들자면, 중국 BTV에서는 2012년에 중국에서 노아의 방주가 발견되었다는 보도를 하였는데, 이것은 창조과학회에서 주장하는 장소와는 전혀 다른곳이기도 하며, 화석화가 진행되지 않은 나무의 존재등으로 가짜임이 밝혀졌다. 때때로 일부 \"학자\"라 칭하는 사람들이 이를 찾기 위해 노력한다고 주장하지만, 이는 학계에서 유사지질학으로 평가되고 있다.\n",
            "정답 :  목재\n",
            "예측 :  목재 \n",
            "\n",
            "70\n",
            "질문 :  2012년 중국 BTV에서 노아의 방주가 발견되었다고 보도한 나라는?\n",
            "지문 :  일반적으로 터키의 아라랏 산의 경우, 실제 성경 속에 등장하는 아라랏 산은 지금 아라랏이라 불리는 하나의 산이 아니라 당시 아라랏이라고 불리던 광대한 지역의 산들을 모두 가리키는 표현이라는 주장도 나와 있으며, 또한 목재로 만들어진 방주가 현재까지 남아있을 수는 없다는 비판도 받고 있다. 예를 들어, 1955년 프랑스의 탐험가인 Fernand Navarra가 발견한 목재 파편의 경우, 스페인의 임업 연구소에서 목재의 특성을 토대로 5000년 전의 것이라고 밝히긴 했으나 그 신빙성에 문제점이 있었고 후에 방사성 동위원소 측정법 등의 첨단 과학의 도움을 받은 5개 연구소에서 모두 기원 이후의 시기로 연대를 측정했다. 2009년 뿐 아니라 거의 수년에 한번씩 어디선가 노아의 방주를 발견했다는 주장들이 제시되었지만, 심지어 같은 창조과학을 주장하는 사람들에게조차 비판받을 정도였다. 노아의 방주가 다른 여러 지방에서 발견되었다는 주장이 있으나 너무나 다양한 지방(중국, 터키, 인도 등)에 걸쳐있고, 그 주장도 각각 제각각이므로 신빙성이 없다. 예를 들자면, 중국 BTV에서는 2012년에 중국에서 노아의 방주가 발견되었다는 보도를 하였는데, 이것은 창조과학회에서 주장하는 장소와는 전혀 다른곳이기도 하며, 화석화가 진행되지 않은 나무의 존재등으로 가짜임이 밝혀졌다. 때때로 일부 \"학자\"라 칭하는 사람들이 이를 찾기 위해 노력한다고 주장하지만, 이는 학계에서 유사지질학으로 평가되고 있다.\n",
            "정답 :  중국\n",
            "예측 :  중국에서 노아의 방주가 발견되었다는 보도를 하였는데, 이것은 창조과학회에서 \n",
            "\n",
            "71\n",
            "질문 :  현재의 생물다양성은 대략 몇 종 인가?\n",
            "지문 :  기독교 성경 내용에는 모든 종들을 방주에 태운다고 이야기하고 있으나, 어류나 수중 생물에 대해서는 언급하지 않았다. 이것을 신학적 의미로만 받아들이면 괜찮은 문제이나, 이 현상이 실제로 일어났다고 가정할 경우,이는 종 간 생존 환경의 차이에 대해서 간과하고 있다. 수중 생물이라 하더라도 종에 따라 생존할 수 있는 환경은 각각 다른 것이며, 40일 이내에 현존하는 가장 높은 산인 에베레스트 산도 잠기게 할 정도의 폭우로 인해 담수와 염수가 급작스럽게 섞일 경우, 급격한 삼투압 변화로 인해 대부분의 수생생물들이 폐사하게 되며, 결과적으로 육지 뿐 아니라 바다와 강의 모든 생태계가 파괴된다. 이후 5천년이라는 지극히 짧은 세월 동안 지구상의 동식물이 모두 페름기 대멸종 또는 K-T 대멸종에 준하는 대량절멸에 가까운 상태에서부터 시작하여 현재의 대략 870만(±120만)종에 달하는 생물다양성을 획득하려면 모든 생물들이 각 세대마다 종분화가 일어나야 할 만큼 엄청난 속도로 진화 및 번식이 (멸종 없이) 이루어져야만 가능한 일이다. (이와 관련하여 창조과학회 측에서는 북극곰의 예시를 통해 가지고 있던 특성이 없어지는 것이 진화가 아니라고 주장하지만, 통상적으로 알려진 바와 같이 생물학에서는 이미 존재하는 특성이 없어지는 현상, 즉 퇴화 역시 진화의 정의에 포함된다.) 즉, 노아의 홍수가 실재하는 사건이었다면 진화적 종분화가 현재까지 알려진 것과 비교할 수 없이 엄청난 속도로 이루어져야만 현재 지구의 생물다양성을 설명할 수 있다. 게다가 이것은 현재의 생물종 멸종 속도를 전혀 고려하지 않았다. 다시 말해, 노아의 홍수가 실재하는 전지구적인 사건이기 위해서는 최소 캄브리아기 대폭발 수준의 폭발적인 진화적 종분화가 1-2억년이 아니라 최대 3-4천년 이내에 이루어졌어야만 현생 지구의 생물다양성에 대한 설명이 가능해진다. 그보다 더 중요한 것은, 각 동물들이 차지하는 영역과 먹이사슬에서의 위치, 375일 동안 먹이도 없이 밀폐된 공간으로 인해 받을 스트레스 등 생태적 지위에 대한 고려가 전혀 없다는 점이다. 또한 바다에서 생존이 불가능한 생물종까지 숫자에 포함되었다는 점에서 논란이 있다.\n",
            "정답 :  870만\n",
            "예측 :  870만 \n",
            "\n",
            "74\n",
            "질문 :  가지고 있는 특성이 없어지는 것은 진화가 아니라는 창조과학회의 주장의 예시는?\n",
            "지문 :  기독교 성경 내용에는 모든 종들을 방주에 태운다고 이야기하고 있으나, 어류나 수중 생물에 대해서는 언급하지 않았다. 이것을 신학적 의미로만 받아들이면 괜찮은 문제이나, 이 현상이 실제로 일어났다고 가정할 경우,이는 종 간 생존 환경의 차이에 대해서 간과하고 있다. 수중 생물이라 하더라도 종에 따라 생존할 수 있는 환경은 각각 다른 것이며, 40일 이내에 현존하는 가장 높은 산인 에베레스트 산도 잠기게 할 정도의 폭우로 인해 담수와 염수가 급작스럽게 섞일 경우, 급격한 삼투압 변화로 인해 대부분의 수생생물들이 폐사하게 되며, 결과적으로 육지 뿐 아니라 바다와 강의 모든 생태계가 파괴된다. 이후 5천년이라는 지극히 짧은 세월 동안 지구상의 동식물이 모두 페름기 대멸종 또는 K-T 대멸종에 준하는 대량절멸에 가까운 상태에서부터 시작하여 현재의 대략 870만(±120만)종에 달하는 생물다양성을 획득하려면 모든 생물들이 각 세대마다 종분화가 일어나야 할 만큼 엄청난 속도로 진화 및 번식이 (멸종 없이) 이루어져야만 가능한 일이다. (이와 관련하여 창조과학회 측에서는 북극곰의 예시를 통해 가지고 있던 특성이 없어지는 것이 진화가 아니라고 주장하지만, 통상적으로 알려진 바와 같이 생물학에서는 이미 존재하는 특성이 없어지는 현상, 즉 퇴화 역시 진화의 정의에 포함된다.) 즉, 노아의 홍수가 실재하는 사건이었다면 진화적 종분화가 현재까지 알려진 것과 비교할 수 없이 엄청난 속도로 이루어져야만 현재 지구의 생물다양성을 설명할 수 있다. 게다가 이것은 현재의 생물종 멸종 속도를 전혀 고려하지 않았다. 다시 말해, 노아의 홍수가 실재하는 전지구적인 사건이기 위해서는 최소 캄브리아기 대폭발 수준의 폭발적인 진화적 종분화가 1-2억년이 아니라 최대 3-4천년 이내에 이루어졌어야만 현생 지구의 생물다양성에 대한 설명이 가능해진다. 그보다 더 중요한 것은, 각 동물들이 차지하는 영역과 먹이사슬에서의 위치, 375일 동안 먹이도 없이 밀폐된 공간으로 인해 받을 스트레스 등 생태적 지위에 대한 고려가 전혀 없다는 점이다. 또한 바다에서 생존이 불가능한 생물종까지 숫자에 포함되었다는 점에서 논란이 있다.\n",
            "정답 :  북극곰\n",
            "예측 :  북극곰 \n",
            "\n",
            "79\n",
            "질문 :  노아의 방주가 안정적인 구조였다고 주장하는 집단은 어디인가?\n",
            "지문 :  창조과학회에서는 또한 노아의 방주가 안정적인 구조였다고 주장하지만, 이와는 달리 노아의 방주는 항해가 불가능한 설계에 가깝다. 실제로 창조과학에서 주장하는 방주의 크기와 철제 부품을 사용하지 않은 목재 선박 중에서 가장 큰 수준의 선박들을 비교하면 배수량이 두배 이상 차이난다. 그리고 목재 선박은 강도 상의 문제 때문에 통상 길이 100m, 배수량 2000톤 정도가 한계로 여겨져 왔다. 창조과학회에서는 노아의 방주의 안정성을 실험하기 위한 연구가 있다고 주장하기도 하나, 그 자체의 불합리성에 대한 비판을 받고 있으며, 관련 주요 연구자는 지질학 석사학위, 생물학 학사학위를 가진 초등학교 교사로서, 주류 학계의 학회나 저널 등에 발표한 적이 없으며 또한 정당한 피어 리뷰에 의해 검증받지 않았다.\n",
            "정답 :  창조과학회\n",
            "예측 :  창조과학회 \n",
            "\n",
            "80\n",
            "질문 :  목재 선박은 강도상의 문제로 통상 길이 몇m가 한계인가?\n",
            "지문 :  창조과학회에서는 또한 노아의 방주가 안정적인 구조였다고 주장하지만, 이와는 달리 노아의 방주는 항해가 불가능한 설계에 가깝다. 실제로 창조과학에서 주장하는 방주의 크기와 철제 부품을 사용하지 않은 목재 선박 중에서 가장 큰 수준의 선박들을 비교하면 배수량이 두배 이상 차이난다. 그리고 목재 선박은 강도 상의 문제 때문에 통상 길이 100m, 배수량 2000톤 정도가 한계로 여겨져 왔다. 창조과학회에서는 노아의 방주의 안정성을 실험하기 위한 연구가 있다고 주장하기도 하나, 그 자체의 불합리성에 대한 비판을 받고 있으며, 관련 주요 연구자는 지질학 석사학위, 생물학 학사학위를 가진 초등학교 교사로서, 주류 학계의 학회나 저널 등에 발표한 적이 없으며 또한 정당한 피어 리뷰에 의해 검증받지 않았다.\n",
            "정답 :  100m\n",
            "예측 :  100m \n",
            "\n",
            "81\n",
            "질문 :  노아의 방주 안정성을 실험하기 위한 연구가 있다고 주장하는 단체는?\n",
            "지문 :  창조과학회에서는 또한 노아의 방주가 안정적인 구조였다고 주장하지만, 이와는 달리 노아의 방주는 항해가 불가능한 설계에 가깝다. 실제로 창조과학에서 주장하는 방주의 크기와 철제 부품을 사용하지 않은 목재 선박 중에서 가장 큰 수준의 선박들을 비교하면 배수량이 두배 이상 차이난다. 그리고 목재 선박은 강도 상의 문제 때문에 통상 길이 100m, 배수량 2000톤 정도가 한계로 여겨져 왔다. 창조과학회에서는 노아의 방주의 안정성을 실험하기 위한 연구가 있다고 주장하기도 하나, 그 자체의 불합리성에 대한 비판을 받고 있으며, 관련 주요 연구자는 지질학 석사학위, 생물학 학사학위를 가진 초등학교 교사로서, 주류 학계의 학회나 저널 등에 발표한 적이 없으며 또한 정당한 피어 리뷰에 의해 검증받지 않았다.\n",
            "정답 :  창조과학회\n",
            "예측 :  창조과학회에서는 노아의 방주의 안정성을 실험하기 위한 연구가 있다고 주장하기도 하나, 그 자체의 불합리성에 \n",
            "\n",
            "83\n",
            "질문 :  목재로 만들어진 선박은 강도 상의 통상 길이 몇m가 한계인가?\n",
            "지문 :  창조과학회에서는 또한 노아의 방주가 안정적인 구조였다고 주장하지만, 이와는 달리 노아의 방주는 항해가 불가능한 설계에 가깝다. 실제로 창조과학에서 주장하는 방주의 크기와 철제 부품을 사용하지 않은 목재 선박 중에서 가장 큰 수준의 선박들을 비교하면 배수량이 두배 이상 차이난다. 그리고 목재 선박은 강도 상의 문제 때문에 통상 길이 100m, 배수량 2000톤 정도가 한계로 여겨져 왔다. 창조과학회에서는 노아의 방주의 안정성을 실험하기 위한 연구가 있다고 주장하기도 하나, 그 자체의 불합리성에 대한 비판을 받고 있으며, 관련 주요 연구자는 지질학 석사학위, 생물학 학사학위를 가진 초등학교 교사로서, 주류 학계의 학회나 저널 등에 발표한 적이 없으며 또한 정당한 피어 리뷰에 의해 검증받지 않았다.\n",
            "정답 :  100m\n",
            "예측 :  100m \n",
            "\n",
            "86\n",
            "질문 :  1868년 게이오 4년 4월 11일 신정부 군에게 양도되기로 한 반류마루를 기상 불량 등의 이유로 연기한 후 인도를 거부한 사람은 누구인가?\n",
            "지문 :  1868년 게이오 4년 4월 11일 에도 성 무혈 개성을 한 이후 신정부 군에게 양도가 약속되어 있었다. 그러나 해군 부총재, 에노모토 다케아키가 기상 불량 등을 이유로 이를 연기한 후에 결국 인도를 거부했다. 도쿠가와 요시노부를 슨푸 번에 이송할 때의 태운 함선으로 사용한 후, 8월 19일 자정 (20일)에는 마쓰오카 바키치를 함장으로 카이요마루, 가이텐마루, 신소쿠마루, 간린마루 등과 함께 막부 해군이 정박하고 있던 시나가와 해역을 탈출했다. 그 때 태풍에 휘말려 침몰직전이 되었지만, 1개월만에 에노모토 해군과 합류하였다. 에조치에 건너가 하코다테 전쟁에서는 에노모토(하코다테 정부) 해군의 주력함이 되었다. 영국이 기증했을 때 엠퍼러(Emperor, 기증 당시 일본의 수장은 황제가 아니라 쇼군으로 인식되고 있었기 때문에 장군을 지칭)로 명명하고 있음에서 알 수 있듯이, 쇼군용 유람 요트로 기증되었다고 생각되지만, 세상이 그것을 허락하지 않았다. 아이러니하게도, 군함에 통합되어 실제로 쇼군이 첫 좌승한 것이 대정봉환 이후 슨푸 번에 이송되었을 때였다.\n",
            "정답 :  에노모토 다케아키\n",
            "예측 :  에노모토 다케아키 \n",
            "\n",
            "87\n",
            "질문 :  1868년 게이오 4년 8월 19일 자정 반류마루가 탈출한 해역은 어디인가?\n",
            "지문 :  1868년 게이오 4년 4월 11일 에도 성 무혈 개성을 한 이후 신정부 군에게 양도가 약속되어 있었다. 그러나 해군 부총재, 에노모토 다케아키가 기상 불량 등을 이유로 이를 연기한 후에 결국 인도를 거부했다. 도쿠가와 요시노부를 슨푸 번에 이송할 때의 태운 함선으로 사용한 후, 8월 19일 자정 (20일)에는 마쓰오카 바키치를 함장으로 카이요마루, 가이텐마루, 신소쿠마루, 간린마루 등과 함께 막부 해군이 정박하고 있던 시나가와 해역을 탈출했다. 그 때 태풍에 휘말려 침몰직전이 되었지만, 1개월만에 에노모토 해군과 합류하였다. 에조치에 건너가 하코다테 전쟁에서는 에노모토(하코다테 정부) 해군의 주력함이 되었다. 영국이 기증했을 때 엠퍼러(Emperor, 기증 당시 일본의 수장은 황제가 아니라 쇼군으로 인식되고 있었기 때문에 장군을 지칭)로 명명하고 있음에서 알 수 있듯이, 쇼군용 유람 요트로 기증되었다고 생각되지만, 세상이 그것을 허락하지 않았다. 아이러니하게도, 군함에 통합되어 실제로 쇼군이 첫 좌승한 것이 대정봉환 이후 슨푸 번에 이송되었을 때였다.\n",
            "정답 :  시나가와\n",
            "예측 :  에도 성 무혈 개성을 한 이후 신정부 군에게 양도가 약속되어 있었다. 그러나 해군 부총재, 에노모토 다케아키가 기상 불량 등을 이유로 이를 연기한 후에 결국 인도를 거부했다. 도쿠가와 요시노부를 슨푸 번에 이송할 때의 태운 함선으로 사용한 후, 8월 19일 자정 (20일)에는 마쓰오카 바키치를 함장으로 카이요마루, 가이텐마루, 신소쿠마루, 간린마루 등과 함께 막부 해군이 정박하고 있던 시나가와 해역 \n",
            "\n",
            "90\n",
            "질문 :  1868년 당시 일본의 해군 부총재는?\n",
            "지문 :  1868년 게이오 4년 4월 11일 에도 성 무혈 개성을 한 이후 신정부 군에게 양도가 약속되어 있었다. 그러나 해군 부총재, 에노모토 다케아키가 기상 불량 등을 이유로 이를 연기한 후에 결국 인도를 거부했다. 도쿠가와 요시노부를 슨푸 번에 이송할 때의 태운 함선으로 사용한 후, 8월 19일 자정 (20일)에는 마쓰오카 바키치를 함장으로 카이요마루, 가이텐마루, 신소쿠마루, 간린마루 등과 함께 막부 해군이 정박하고 있던 시나가와 해역을 탈출했다. 그 때 태풍에 휘말려 침몰직전이 되었지만, 1개월만에 에노모토 해군과 합류하였다. 에조치에 건너가 하코다테 전쟁에서는 에노모토(하코다테 정부) 해군의 주력함이 되었다. 영국이 기증했을 때 엠퍼러(Emperor, 기증 당시 일본의 수장은 황제가 아니라 쇼군으로 인식되고 있었기 때문에 장군을 지칭)로 명명하고 있음에서 알 수 있듯이, 쇼군용 유람 요트로 기증되었다고 생각되지만, 세상이 그것을 허락하지 않았다. 아이러니하게도, 군함에 통합되어 실제로 쇼군이 첫 좌승한 것이 대정봉환 이후 슨푸 번에 이송되었을 때였다.\n",
            "정답 :  에노모토 다케아키\n",
            "예측 :  에노모토 다케아키 \n",
            "\n",
            "93\n",
            "질문 :  하코다테 전쟁 시 반류마루의 함장의 이름은 무엇인가?\n",
            "지문 :  일련의 하코다테 전쟁은 적아 쌍방의 문서에 마쓰오카 바키치 함장의 능란한 조함 능력과 냉정한 지휘만이 기록되어 있다. 함포 사격으로 마쓰마에 성을 공격하여 엄호한 이후, 1869년 메이지 2년 3월 25일 미야코 만 해전에서는 폭풍우를 만나 요함과 헤어졌을 때에 만날 약속했던 하치노헤 항에서 대기하고 있었기 때문에 참전에는 이르지 못했다. 이 폭풍우 때도 “함장 마쓰오카 바키치는 배를 조정하는 명수로 로프 하나 손상되지 않았다”고 타고 있던 하야시 다다스가 남긴 바 있다. 이 귀로에서 신정부 군의 철갑함의 추격을 받았다. 기관 능력의 차이로 인한 속도차 때문에 도주가 불가능하다고 판단하고 맞장 공격을 하겠다고 전투 준비를 했지만, 철갑선의 사정거리에 들어간 순간에 순풍이 불기 시작하여 추격을 뿌리치고 하코다테로 돌아올 수 있었다.\n",
            "정답 :  마쓰오카 바키치\n",
            "예측 :  마쓰오카 바키치 \n",
            "\n",
            "95\n",
            "질문 :  반류마루가 미야코 만 해전당시 폭풍우를 만나 요함과 헤어졌을 때에 만날 약속하여 하치노헤 항에서 대기한 날짜는 언제인가?\n",
            "지문 :  일련의 하코다테 전쟁은 적아 쌍방의 문서에 마쓰오카 바키치 함장의 능란한 조함 능력과 냉정한 지휘만이 기록되어 있다. 함포 사격으로 마쓰마에 성을 공격하여 엄호한 이후, 1869년 메이지 2년 3월 25일 미야코 만 해전에서는 폭풍우를 만나 요함과 헤어졌을 때에 만날 약속했던 하치노헤 항에서 대기하고 있었기 때문에 참전에는 이르지 못했다. 이 폭풍우 때도 “함장 마쓰오카 바키치는 배를 조정하는 명수로 로프 하나 손상되지 않았다”고 타고 있던 하야시 다다스가 남긴 바 있다. 이 귀로에서 신정부 군의 철갑함의 추격을 받았다. 기관 능력의 차이로 인한 속도차 때문에 도주가 불가능하다고 판단하고 맞장 공격을 하겠다고 전투 준비를 했지만, 철갑선의 사정거리에 들어간 순간에 순풍이 불기 시작하여 추격을 뿌리치고 하코다테로 돌아올 수 있었다.\n",
            "정답 :  1869년 메이지 2년 3월 25일\n",
            "예측 :  1869년 메이지 2년 3월 25일 \n",
            "\n",
            "97\n",
            "질문 :  철갑선의 사정거리에 들어간 순간에 순풍이 불기 시작하여 추격을 뿌리치고 어디로 돌아올 수 있었는가?\n",
            "지문 :  일련의 하코다테 전쟁은 적아 쌍방의 문서에 마쓰오카 바키치 함장의 능란한 조함 능력과 냉정한 지휘만이 기록되어 있다. 함포 사격으로 마쓰마에 성을 공격하여 엄호한 이후, 1869년 메이지 2년 3월 25일 미야코 만 해전에서는 폭풍우를 만나 요함과 헤어졌을 때에 만날 약속했던 하치노헤 항에서 대기하고 있었기 때문에 참전에는 이르지 못했다. 이 폭풍우 때도 “함장 마쓰오카 바키치는 배를 조정하는 명수로 로프 하나 손상되지 않았다”고 타고 있던 하야시 다다스가 남긴 바 있다. 이 귀로에서 신정부 군의 철갑함의 추격을 받았다. 기관 능력의 차이로 인한 속도차 때문에 도주가 불가능하다고 판단하고 맞장 공격을 하겠다고 전투 준비를 했지만, 철갑선의 사정거리에 들어간 순간에 순풍이 불기 시작하여 추격을 뿌리치고 하코다테로 돌아올 수 있었다.\n",
            "정답 :  하코다테\n",
            "예측 :  하코다테 \n",
            "\n",
            "99\n",
            "질문 :  미야코 만 해전에서 아쓰오카 바키치 함장이 폭풍우를 만난 년도는?\n",
            "지문 :  일련의 하코다테 전쟁은 적아 쌍방의 문서에 마쓰오카 바키치 함장의 능란한 조함 능력과 냉정한 지휘만이 기록되어 있다. 함포 사격으로 마쓰마에 성을 공격하여 엄호한 이후, 1869년 메이지 2년 3월 25일 미야코 만 해전에서는 폭풍우를 만나 요함과 헤어졌을 때에 만날 약속했던 하치노헤 항에서 대기하고 있었기 때문에 참전에는 이르지 못했다. 이 폭풍우 때도 “함장 마쓰오카 바키치는 배를 조정하는 명수로 로프 하나 손상되지 않았다”고 타고 있던 하야시 다다스가 남긴 바 있다. 이 귀로에서 신정부 군의 철갑함의 추격을 받았다. 기관 능력의 차이로 인한 속도차 때문에 도주가 불가능하다고 판단하고 맞장 공격을 하겠다고 전투 준비를 했지만, 철갑선의 사정거리에 들어간 순간에 순풍이 불기 시작하여 추격을 뿌리치고 하코다테로 돌아올 수 있었다.\n",
            "정답 :  1869년\n",
            "예측 :  1869년 \n",
            "\n",
            "100\n",
            "질문 :  마쓰오카 비키치가 철갑선의 추격을 뿌리치고 하코다테로 돌아올 수 있었던 원인은?\n",
            "지문 :  일련의 하코다테 전쟁은 적아 쌍방의 문서에 마쓰오카 바키치 함장의 능란한 조함 능력과 냉정한 지휘만이 기록되어 있다. 함포 사격으로 마쓰마에 성을 공격하여 엄호한 이후, 1869년 메이지 2년 3월 25일 미야코 만 해전에서는 폭풍우를 만나 요함과 헤어졌을 때에 만날 약속했던 하치노헤 항에서 대기하고 있었기 때문에 참전에는 이르지 못했다. 이 폭풍우 때도 “함장 마쓰오카 바키치는 배를 조정하는 명수로 로프 하나 손상되지 않았다”고 타고 있던 하야시 다다스가 남긴 바 있다. 이 귀로에서 신정부 군의 철갑함의 추격을 받았다. 기관 능력의 차이로 인한 속도차 때문에 도주가 불가능하다고 판단하고 맞장 공격을 하겠다고 전투 준비를 했지만, 철갑선의 사정거리에 들어간 순간에 순풍이 불기 시작하여 추격을 뿌리치고 하코다테로 돌아올 수 있었다.\n",
            "정답 :  순풍\n",
            "예측 :  신정부 군의 철갑함의 추격을 받았다. 기관 능력의 차이로 인한 속도차 때문에 도주가 불가능하다고 판단하고 맞장 공격을 하겠다고 전투 준비를 했지만, 철갑선의 사정거리에 들어간 순간에 순풍 \n",
            "\n",
            "101\n",
            "질문 :  1869년 5월 11일 하코다테 해전에서 반류마루가 응전을 벌인 함대는?\n",
            "지문 :  같은 해 5월 11일의 하코다테 총공격(하코다테 해전)에서 벤텐 다이바와 기관 고장으로 움직일 수 없는 떠 있는 포대가 된 가이텐마루의 원호를 받으며 신정부 군 함대와 응전을 벌인다. 새 정부 군함 초요마루의 화약고에 작렬탄을 명중시켜 초요마루는 대폭발을 일으켜 2분만에 굉침된다. 이것은 구 막부군의 사기를 단번에 향상시켰다. 그후 반류마루는 신정부군의 집중 포화를 맞았다. 응전을 계속했지만, 오후가 되면서 탄약이 완전히 소진되었기 때문에 부득이 퇴함을 결정했고, 벤텐 다이바 아래까지 물러나 얕은 물에 좌초시켰다. 승무원은 기관을 파괴 후 (함장 마쓰오카 바키치가 ‘나중에 사용할 수도 있을 것’이라고 방화를 금지했기 때문에 불태우지는 않음), 벤텐 다이바 근처에 도착, 적지 한 가운데를 가로질러 오다이바로 들어갔다. 이날 신정부군의 손에 반류마루는 방화를 당했지만, 화재는 돛대를 태우는 정도에 그쳤고, 선체는 대부분 타지 않았으며, 그 중간 돛대가 부러지면서 균형을 잃고 전복되면서 진화되었다.\n",
            "정답 :  신정부 군 함대\n",
            "예측 :  원호를 받으며 신정부 군 함대 \n",
            "\n"
          ]
        }
      ]
    },
    {
      "cell_type": "markdown",
      "metadata": {
        "id": "fuzzy-myrtle"
      },
      "source": [
        "### ==> Inference 결과와 원래 정답 비교 : 원래 정답과 비교하여 정확한 단어(글자 수)를 예측하고 있는 양상을 보이고 있으며, 일부 예측은 문장으로 답변하고 있으나 정확히 정답 단어를 포함하고 있다."
      ],
      "id": "fuzzy-myrtle"
    },
    {
      "cell_type": "markdown",
      "metadata": {
        "id": "ignored-letters"
      },
      "source": [
        "# [회고]"
      ],
      "id": "ignored-letters"
    },
    {
      "cell_type": "markdown",
      "metadata": {
        "id": "vital-night"
      },
      "source": [
        "- RNN 노드를 여러 개 경험하다보니 자연어처리는 데이터 전처리와 모델 학습에 기본적으로 많은 시간이 필요하다는 것을 알게 되었다.\n",
        "- 이번 노드에서도 BERT Model 학습에 1달 가량의 시간이 소요되는 관계로, 미리 학습된 BERT Model을 활용하여 정답을 예측하는 형식으로 경험하게 되었다.\n",
        "- 또한, 구성해야 할 코드 블럭들이 많은데, 노드에 미리 구성된 코드 없이는 구현에 많은 시간이 걸릴 것으로 보인다.\n",
        "- OOM 에러가 나서 난감했으나 커널 초기화 후 재진입하니 해결되었다.\n",
        "- 모델을 돌리는 데 많은 시간이 걸리는 관계로 Colab을 동시 활용하였다."
      ],
      "id": "vital-night"
    }
  ]
}